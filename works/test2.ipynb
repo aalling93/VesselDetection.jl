{
 "cells": [
  {
   "cell_type": "code",
   "execution_count": null,
   "metadata": {},
   "outputs": [],
   "source": [
    "using Pkg\n",
    "using DotEnv\n",
    "include(\"src/download.jl\")"
   ]
  },
  {
   "cell_type": "code",
   "execution_count": null,
   "metadata": {},
   "outputs": [],
   "source": [
    "DotEnv.config();\n",
    "access_token = get_access_token(username = get(ENV, \"DATASPACE_USERNAME\", \"\"), password = get(ENV, \"DATASPACE_PASSWORD\", \"\"));"
   ]
  },
  {
   "cell_type": "code",
   "execution_count": 1,
   "metadata": {},
   "outputs": [
    {
     "ename": "UndefVarError",
     "evalue": "UndefVarError: download_metadata_copernicus not defined",
     "output_type": "error",
     "traceback": [
      "UndefVarError: download_metadata_copernicus not defined\n",
      "\n",
      "Stacktrace:\n",
      " [1] top-level scope\n",
      "   @ ~/Documents/coding/JuliaEO2024/test2.ipynb:1"
     ]
    }
   ],
   "source": [
    "data = download_metadata_copernicus(bbox=\"4,51,4.5,52\",start_datetime=\"2022-06-11T00:00:00Z\", \n",
    "end_datetime=\"2022-06-22T23:59:59Z\", max_records=\"100\",collection=\"Sentinel1\",product_type= \"GRD\",verbose=1);\n",
    "df = vector_of_dicts_to_dataframe(data[\"features\"]);\n",
    "println(df)"
   ]
  },
  {
   "cell_type": "code",
   "execution_count": null,
   "metadata": {},
   "outputs": [],
   "source": []
  },
  {
   "cell_type": "code",
   "execution_count": null,
   "metadata": {},
   "outputs": [],
   "source": [
    "download_product(access_token, df.id[4], \"product4.zip\")"
   ]
  },
  {
   "cell_type": "code",
   "execution_count": null,
   "metadata": {},
   "outputs": [],
   "source": [
    "unzip_file_path = unzip_file(\"product4.zip\", \"/Users/kaaso/Documents/coding/JuliaEO2024/data\")"
   ]
  },
  {
   "cell_type": "code",
   "execution_count": null,
   "metadata": {},
   "outputs": [],
   "source": [
    "print(unzip_file_path)"
   ]
  },
  {
   "cell_type": "code",
   "execution_count": null,
   "metadata": {},
   "outputs": [],
   "source": [
    "using GeoArrays\n",
    "using GeoMakie\n",
    "using Makie\n",
    "\n",
    "# Load SAR image as a GeoArray\n",
    "function load_sar_image(file_path::String)\n",
    "    return GeoArrays.read(file_path)\n",
    "end\n",
    "\n",
    "# Plot SAR image using GeoMakie\n",
    "function plot_sar_image(sar_geoarray::GeoArray)\n",
    "    fig = Figure()\n",
    "    ax = Axis(fig[1, 1], aspect = DataAspect())\n",
    "    image = sar_geoarray.data  # Extracting the image data\n",
    "\n",
    "    # You can adjust the colormap and colorrange as needed\n",
    "    hm = heatmap!(ax, image, colormap = :grays, colorrange = (minimum(image), maximum(image)))\n",
    "\n",
    "    Colorbar(fig[1, 2], hm, label = \"Intensity\")\n",
    "    fig\n",
    "end\n",
    "\n",
    "# Example usage\n",
    "sar_img = load_sar_image(\"path/to/sar_image.tif\")\n",
    "fig = plot_sar_image(sar_img)\n"
   ]
  },
  {
   "cell_type": "code",
   "execution_count": null,
   "metadata": {},
   "outputs": [],
   "source": [
    "using GeoArrays\n",
    "using Makie\n",
    "using TiffImages\n"
   ]
  },
  {
   "cell_type": "code",
   "execution_count": null,
   "metadata": {},
   "outputs": [],
   "source": []
  }
 ],
 "metadata": {
  "kernelspec": {
   "display_name": "Julia 1.8.2",
   "language": "julia",
   "name": "julia-1.8"
  },
  "language_info": {
   "file_extension": ".jl",
   "mimetype": "application/julia",
   "name": "julia",
   "version": "1.8.2"
  }
 },
 "nbformat": 4,
 "nbformat_minor": 2
}
