{
 "cells": [
  {
   "cell_type": "code",
   "execution_count": 6,
   "metadata": {},
   "outputs": [],
   "source": [
    "import Pkg\n",
    "using EzXML\n",
    "using XMLDict\n",
    "using Dates"
   ]
  },
  {
   "cell_type": "code",
   "execution_count": 7,
   "metadata": {},
   "outputs": [],
   "source": []
  },
  {
   "cell_type": "code",
   "execution_count": 8,
   "metadata": {},
   "outputs": [],
   "source": []
  },
  {
   "cell_type": "code",
   "execution_count": 9,
   "metadata": {},
   "outputs": [],
   "source": [
    "#include(\"src/test_name.jl\")\n",
    "#using .Test_name\n"
   ]
  },
  {
   "cell_type": "code",
   "execution_count": null,
   "metadata": {},
   "outputs": [],
   "source": []
  },
  {
   "cell_type": "code",
   "execution_count": 10,
   "metadata": {},
   "outputs": [
    {
     "data": {
      "text/plain": [
       "getDictofXml (generic function with 1 method)"
      ]
     },
     "metadata": {},
     "output_type": "display_data"
    }
   ],
   "source": [
    "\"\"\"\n",
    "getAnnotationPaths(safePath::string)\n",
    "\n",
    "Getting the paths for the annotation files for a SLC image using its .SAFE folder path.\n",
    "\n",
    "### Parameters\n",
    "    * safePath::String: path of .SAFE folder for one image.\n",
    "    \n",
    "### Returns\n",
    "    * annotationPaths::Vector: Vector of paths for annotation files in .SAFE folder\n",
    "\"\"\"\n",
    "function getAnnotationPaths(safePath::String)::Vector{String}\n",
    "    annotationFolder = joinpath(safePath, \"annotation\")\n",
    "    return [joinpath(annotationFolder, annotationFile) for annotationFile in searchDir(annotationFolder, \".xml\")]\n",
    "end\n",
    "\n",
    "\n",
    "\"\"\"\n",
    "getDataPaths(safePath::string)\n",
    "\n",
    "Getting the paths for the annotation files for a SLC image using its .SAFE folder path.\n",
    "\n",
    "### Parameters\n",
    "    * safePath::String: path of .SAFE folder for one image.\n",
    "    \n",
    "### Returns\n",
    "    * annotationPaths::Vector: Vector of paths for annotation files in .SAFE folder\n",
    "\"\"\"\n",
    "function getDataPaths(safePath::String)::Vector{String}\n",
    "    annotationFolder = joinpath(safePath, \"measurement\")\n",
    "    return [joinpath(annotationFolder, annotationFile) for annotationFile in searchDir(annotationFolder, \".tiff\")]\n",
    "end\n",
    "\n",
    "\n",
    "\n",
    "\"\"\"\"\n",
    "\n",
    "search dir\n",
    "\n",
    "Searching a directory for files with extention.\n",
    "\n",
    "\"\"\"\n",
    "searchDir(path, key) = filter(x -> occursin(key, x), readdir(path))\n",
    "\n",
    "\n",
    "function getDictofXml(annotationFile::String)\n",
    "    doc = EzXML.readxml(annotationFile)\n",
    "    return XMLDict.xml_dict(doc)\n",
    "end\n",
    "\n",
    "\n",
    "\n",
    "\n"
   ]
  },
  {
   "cell_type": "code",
   "execution_count": 11,
   "metadata": {},
   "outputs": [
    {
     "data": {
      "text/plain": [
       "\"/Users/kaaso/Documents/coding/JuliaEO2024/data/S1A_IW_GRDH_1SDV_20220612T173329_20220612T173354_043633_05359A_EA25.SAFE\""
      ]
     },
     "metadata": {},
     "output_type": "display_data"
    }
   ],
   "source": [
    "path = \"/Users/kaaso/Documents/coding/JuliaEO2024/data/S1A_IW_GRDH_1SDV_20220612T173329_20220612T173354_043633_05359A_EA25.SAFE\""
   ]
  },
  {
   "cell_type": "code",
   "execution_count": 12,
   "metadata": {},
   "outputs": [
    {
     "data": {
      "text/plain": [
       "2-element Vector{String}:\n",
       " \"/Users/kaaso/Documents/coding/J\" ⋯ 139 bytes ⋯ \"t173354-043633-05359a-002.tiff\"\n",
       " \"/Users/kaaso/Documents/coding/J\" ⋯ 139 bytes ⋯ \"t173354-043633-05359a-001.tiff\""
      ]
     },
     "metadata": {},
     "output_type": "display_data"
    }
   ],
   "source": [
    "annotationFolder = getAnnotationPaths(\"/Users/kaaso/Documents/coding/JuliaEO2024/data/S1A_IW_GRDH_1SDV_20220612T173329_20220612T173354_043633_05359A_EA25.SAFE\")\n",
    "DataFolder = getDataPaths(\"/Users/kaaso/Documents/coding/JuliaEO2024/data/S1A_IW_GRDH_1SDV_20220612T173329_20220612T173354_043633_05359A_EA25.SAFE\")"
   ]
  },
  {
   "cell_type": "code",
   "execution_count": 13,
   "metadata": {},
   "outputs": [
    {
     "data": {
      "text/plain": [
       "OrderedCollections.OrderedDict{Any, Any} with 3 entries:\n",
       "  :version  => \"1.0\"\n",
       "  :encoding => \"UTF-8\"\n",
       "  \"product\" => OrderedDict{Any, Any}(\"adsHeader\"=>OrderedDict{Any, Any}(\"missio…"
      ]
     },
     "metadata": {},
     "output_type": "display_data"
    }
   ],
   "source": [
    "meta_dict = getDictofXml(annotationFolder[1])"
   ]
  },
  {
   "cell_type": "code",
   "execution_count": 19,
   "metadata": {},
   "outputs": [],
   "source": [
    "# Assuming `data` is your 210-element Vector of OrderedDicts\n",
    "lines = Float64[]\n",
    "pixels = Float64[]\n",
    "latitudes = Float64[]\n",
    "longitudes = Float64[]\n",
    "# ... similarly for other parameters like height, incidenceAngle, etc.\n",
    "\n",
    "for item in geo\n",
    "    push!(lines, parse(Float64, item[\"line\"]))\n",
    "    push!(pixels, parse(Float64, item[\"pixel\"]))\n",
    "    push!(latitudes, parse(Float64, item[\"latitude\"]))\n",
    "    push!(longitudes, parse(Float64, item[\"longitude\"]))\n",
    "    # ... similarly for other parameters\n",
    "end\n",
    "\n",
    "# Now you have arrays `lines`, `pixels`, `latitudes`, `longitudes`, etc.\n",
    "# You can use these arrays in your interpolation function.\n"
   ]
  },
  {
   "cell_type": "code",
   "execution_count": 22,
   "metadata": {},
   "outputs": [],
   "source": [
    "struct SatelliteData\n",
    "    azimuthTime::String\n",
    "    slantRangeTime::Float64\n",
    "    line::Float64\n",
    "    pixel::Float64\n",
    "    latitude::Float64\n",
    "    longitude::Float64\n",
    "    height::Float64\n",
    "    incidenceAngle::Float64\n",
    "    elevationAngle::Float64\n",
    "end\n"
   ]
  },
  {
   "cell_type": "code",
   "execution_count": 31,
   "metadata": {},
   "outputs": [
    {
     "data": {
      "text/plain": [
       "extractData (generic function with 2 methods)"
      ]
     },
     "metadata": {},
     "output_type": "display_data"
    }
   ],
   "source": [
    "function extractData(data::Vector{Any})\n",
    "    satelliteDataArray = SatelliteData[]\n",
    "\n",
    "    for item in data\n",
    "        newData = SatelliteData(\n",
    "            item[\"azimuthTime\"],\n",
    "            parse(Float64, item[\"slantRangeTime\"]),\n",
    "            parse(Float64, item[\"line\"]),\n",
    "            parse(Float64, item[\"pixel\"]),\n",
    "            parse(Float64, item[\"latitude\"]),\n",
    "            parse(Float64, item[\"longitude\"]),\n",
    "            parse(Float64, item[\"height\"]),\n",
    "            parse(Float64, item[\"incidenceAngle\"]),\n",
    "            parse(Float64, item[\"elevationAngle\"])\n",
    "        )\n",
    "        push!(satelliteDataArray, newData)\n",
    "    end\n",
    "\n",
    "    return satelliteDataArray\n",
    "end\n"
   ]
  },
  {
   "cell_type": "code",
   "execution_count": 27,
   "metadata": {},
   "outputs": [
    {
     "data": {
      "text/plain": [
       "bilinearInterpolation (generic function with 1 method)"
      ]
     },
     "metadata": {},
     "output_type": "display_data"
    }
   ],
   "source": [
    "function bilinearInterpolation(x, y, x_values, y_values, z_values)\n",
    "    # Find the indices of the surrounding points\n",
    "    x1_idx = findlast(x_values .<= x)\n",
    "    x2_idx = findfirst(x_values .>= x)\n",
    "    y1_idx = findlast(y_values .<= y)\n",
    "    y2_idx = findfirst(y_values .>= y)\n",
    "\n",
    "    # Handle edge cases\n",
    "    x1_idx = isnothing(x1_idx) ? 1 : x1_idx\n",
    "    x2_idx = isnothing(x2_idx) ? length(x_values) : x2_idx\n",
    "    y1_idx = isnothing(y1_idx) ? 1 : y1_idx\n",
    "    y2_idx = isnothing(y2_idx) ? length(y_values) : y2_idx\n",
    "\n",
    "    # Extract the coordinates of the surrounding points\n",
    "    x1, x2 = x_values[x1_idx], x_values[x2_idx]\n",
    "    y1, y2 = y_values[y1_idx], y_values[y2_idx]\n",
    "\n",
    "    # Extract the values at the surrounding points\n",
    "    Q11 = z_values[y1_idx, x1_idx]\n",
    "    Q21 = z_values[y1_idx, x2_idx]\n",
    "    Q12 = z_values[y2_idx, x1_idx]\n",
    "    Q22 = z_values[y2_idx, x2_idx]\n",
    "\n",
    "    # Bilinear interpolation formula\n",
    "    fxy1 = ((x2 - x) / (x2 - x1)) * Q11 + ((x - x1) / (x2 - x1)) * Q21\n",
    "    fxy2 = ((x2 - x) / (x2 - x1)) * Q12 + ((x - x1) / (x2 - x1)) * Q22\n",
    "    return ((y2 - y) / (y2 - y1)) * fxy1 + ((y - y1) / (y2 - y1)) * fxy2\n",
    "end\n"
   ]
  },
  {
   "cell_type": "code",
   "execution_count": 33,
   "metadata": {},
   "outputs": [],
   "source": [
    "# Assuming `rawData` is your vector of OrderedDicts\n",
    "satelliteDataArray = extractData(geo);\n"
   ]
  },
  {
   "cell_type": "code",
   "execution_count": null,
   "metadata": {},
   "outputs": [],
   "source": [
    "\n",
    "# Example: Organizing latitude data for interpolation\n",
    "lines = [data.line for data in"
   ]
  },
  {
   "cell_type": "code",
   "execution_count": null,
   "metadata": {},
   "outputs": [],
   "source": []
  },
  {
   "cell_type": "code",
   "execution_count": 25,
   "metadata": {},
   "outputs": [],
   "source": [
    "using OrderedCollections"
   ]
  },
  {
   "cell_type": "code",
   "execution_count": 18,
   "metadata": {},
   "outputs": [
    {
     "data": {
      "text/plain": [
       "210-element Vector{Any}:\n",
       " OrderedCollections.OrderedDict{Any, Any}(\"azimuthTime\" => \"2022-06-12T17:33:29.383883\", \"slantRangeTime\" => \"5.336815623651522e-03\", \"line\" => \"0\", \"pixel\" => \"0\", \"latitude\" => \"5.094952042895041e+01\", \"longitude\" => \"2.051314644505389e+00\", \"height\" => \"2.499900186713785e+01\", \"incidenceAngle\" => \"3.014398351768650e+01\", \"elevationAngle\" => \"2.688594615747057e+01\")\n",
       " OrderedCollections.OrderedDict{Any, Any}(\"azimuthTime\" => \"2022-06-12T17:33:29.383905\", \"slantRangeTime\" => \"5.381562410415792e-03\", \"line\" => \"0\", \"pixel\" => \"1316\", \"latitude\" => \"5.097277322756570e+01\", \"longitude\" => \"2.235081209024184e+00\", \"height\" => \"2.999867081362754e+01\", \"incidenceAngle\" => \"3.107068514955396e+01\", \"elevationAngle\" => \"2.769412479568636e+01\")\n",
       " OrderedCollections.OrderedDict{Any, Any}(\"azimuthTime\" => \"2022-06-12T17:33:29.383928\", \"slantRangeTime\" => \"5.427514046036352e-03\", \"line\" => \"0\", \"pixel\" => \"2632\", \"latitude\" => \"5.099567557892513e+01\", \"longitude\" => \"2.418530975699182e+00\", \"height\" => \"1.299956828542054e+01\", \"incidenceAngle\" => \"3.197961986405896e+01\", \"elevationAngle\" => \"2.848485782195690e+01\")\n",
       " OrderedCollections.OrderedDict{Any, Any}(\"azimuthTime\" => \"2022-06-12T17:33:29.383951\", \"slantRangeTime\" => \"5.474639998946073e-03\", \"line\" => \"0\", \"pixel\" => \"3948\", \"latitude\" => \"5.101830902341845e+01\", \"longitude\" => \"2.602316704561449e+00\", \"height\" => \"2.000166218727827e+00\", \"incidenceAngle\" => \"3.287509238394698e+01\", \"elevationAngle\" => \"2.926202773705097e+01\")\n",
       " OrderedCollections.OrderedDict{Any, Any}(\"azimuthTime\" => \"2022-06-12T17:33:29.383976\", \"slantRangeTime\" => \"5.522910010661330e-03\", \"line\" => \"0\", \"pixel\" => \"5264\", \"latitude\" => \"5.104069062019938e+01\", \"longitude\" => \"2.786588961854514e+00\", \"height\" => \"4.999969153665006e+00\", \"incidenceAngle\" => \"3.375812737405680e+01\", \"elevationAngle\" => \"3.002656142556084e+01\")\n",
       " OrderedCollections.OrderedDict{Any, Any}(\"azimuthTime\" => \"2022-06-12T17:33:29.384000\", \"slantRangeTime\" => \"5.572294147381673e-03\", \"line\" => \"0\", \"pixel\" => \"6580\", \"latitude\" => \"5.106279794775145e+01\", \"longitude\" => \"2.971175147653927e+00\", \"height\" => \"1.499934392981231e+01\", \"incidenceAngle\" => \"3.462764408279043e+01\", \"elevationAngle\" => \"3.077748832315998e+01\")\n",
       " OrderedCollections.OrderedDict{Any, Any}(\"azimuthTime\" => \"2022-06-12T17:33:29.384025\", \"slantRangeTime\" => \"5.622762846234524e-03\", \"line\" => \"0\", \"pixel\" => \"7896\", \"latitude\" => \"5.108460102380648e+01\", \"longitude\" => \"3.155824753634103e+00\", \"height\" => \"1.999900247622281e+01\", \"incidenceAngle\" => \"3.548206931660475e+01\", \"elevationAngle\" => \"3.151339491964960e+01\")\n",
       " OrderedCollections.OrderedDict{Any, Any}(\"azimuthTime\" => \"2022-06-12T17:33:29.384051\", \"slantRangeTime\" => \"5.674286956418599e-03\", \"line\" => \"0\", \"pixel\" => \"9212\", \"latitude\" => \"5.110609010368944e+01\", \"longitude\" => \"3.340450093216053e+00\", \"height\" => \"1.499927672836930e+01\", \"incidenceAngle\" => \"3.632092091125821e+01\", \"elevationAngle\" => \"3.223385377454066e+01\")\n",
       " OrderedCollections.OrderedDict{Any, Any}(\"azimuthTime\" => \"2022-06-12T17:33:29.384078\", \"slantRangeTime\" => \"5.726837775500018e-03\", \"line\" => \"0\", \"pixel\" => \"10528\", \"latitude\" => \"5.112729892890165e+01\", \"longitude\" => \"3.525344077765807e+00\", \"height\" => \"1.499924500007182e+01\", \"incidenceAngle\" => \"3.714624494112803e+01\", \"elevationAngle\" => \"3.294072172635271e+01\")\n",
       " OrderedCollections.OrderedDict{Any, Any}(\"azimuthTime\" => \"2022-06-12T17:33:29.384104\", \"slantRangeTime\" => \"5.780387081115463e-03\", \"line\" => \"0\", \"pixel\" => \"11844\", \"latitude\" => \"5.114819561606640e+01\", \"longitude\" => \"3.710226139392344e+00\", \"height\" => \"4.999865589663386e+00\", \"incidenceAngle\" => \"3.795632191942377e+01\", \"elevationAngle\" => \"3.363245768070590e+01\")\n",
       " ⋮\n",
       " OrderedCollections.OrderedDict{Any, Any}(\"azimuthTime\" => \"2022-06-12T17:33:54.382519\", \"slantRangeTime\" => \"5.946001728501017e-03\", \"line\" => \"16682\", \"pixel\" => \"15792\", \"latitude\" => \"5.270414089054943e+01\", \"longitude\" => \"3.844369456667088e+00\", \"height\" => \"1.558260992169380e-04\", \"incidenceAngle\" => \"4.026114598448884e+01\", \"elevationAngle\" => \"3.558679893979900e+01\")\n",
       " OrderedCollections.OrderedDict{Any, Any}(\"azimuthTime\" => \"2022-06-12T17:33:54.382548\", \"slantRangeTime\" => \"6.003218920863533e-03\", \"line\" => \"16682\", \"pixel\" => \"17108\", \"latitude\" => \"5.272396595958305e+01\", \"longitude\" => \"4.036345835777252e+00\", \"height\" => \"1.459568738937378e-04\", \"incidenceAngle\" => \"4.101819562180480e+01\", \"elevationAngle\" => \"3.622537989544686e+01\")\n",
       " OrderedCollections.OrderedDict{Any, Any}(\"azimuthTime\" => \"2022-06-12T17:33:54.382577\", \"slantRangeTime\" => \"6.061302723146614e-03\", \"line\" => \"16682\", \"pixel\" => \"18424\", \"latitude\" => \"5.274348032142124e+01\", \"longitude\" => \"4.228494940739654e+00\", \"height\" => \"1.367088407278061e-04\", \"incidenceAngle\" => \"4.176197535339683e+01\", \"elevationAngle\" => \"3.685069079968532e+01\")\n",
       " OrderedCollections.OrderedDict{Any, Any}(\"azimuthTime\" => \"2022-06-12T17:33:54.382606\", \"slantRangeTime\" => \"6.120228218653944e-03\", \"line\" => \"16682\", \"pixel\" => \"19740\", \"latitude\" => \"5.276268366073413e+01\", \"longitude\" => \"4.420814264250225e+00\", \"height\" => \"1.280298456549644e-04\", \"incidenceAngle\" => \"4.249267195551986e+01\", \"elevationAngle\" => \"3.746291843216731e+01\")\n",
       " OrderedCollections.OrderedDict{Any, Any}(\"azimuthTime\" => \"2022-06-12T17:33:54.382636\", \"slantRangeTime\" => \"6.179971084357111e-03\", \"line\" => \"16682\", \"pixel\" => \"21056\", \"latitude\" => \"5.278157536832691e+01\", \"longitude\" => \"4.613301366057628e+00\", \"height\" => \"1.198863610625267e-04\", \"incidenceAngle\" => \"4.321047945122245e+01\", \"elevationAngle\" => \"3.806225681865268e+01\")\n",
       " OrderedCollections.OrderedDict{Any, Any}(\"azimuthTime\" => \"2022-06-12T17:33:54.382666\", \"slantRangeTime\" => \"6.240507595195964e-03\", \"line\" => \"16682\", \"pixel\" => \"22372\", \"latitude\" => \"5.280015496410429e+01\", \"longitude\" => \"4.805953754876774e+00\", \"height\" => \"1.122402027249336e-04\", \"incidenceAngle\" => \"4.391559804406634e+01\", \"elevationAngle\" => \"3.864890616565371e+01\")\n",
       " OrderedCollections.OrderedDict{Any, Any}(\"azimuthTime\" => \"2022-06-12T17:33:54.382697\", \"slantRangeTime\" => \"6.301814626080478e-03\", \"line\" => \"16682\", \"pixel\" => \"23688\", \"latitude\" => \"5.281842203135734e+01\", \"longitude\" => \"4.998768908398955e+00\", \"height\" => \"1.050550490617752e-04\", \"incidenceAngle\" => \"4.460823313426866e+01\", \"elevationAngle\" => \"3.922307187640794e+01\")\n",
       " OrderedCollections.OrderedDict{Any, Any}(\"azimuthTime\" => \"2022-06-12T17:33:54.382728\", \"slantRangeTime\" => \"6.363869651852315e-03\", \"line\" => \"16682\", \"pixel\" => \"25004\", \"latitude\" => \"5.283637605705159e+01\", \"longitude\" => \"5.191744315644995e+00\", \"height\" => \"9.872671216726303e-05\", \"incidenceAngle\" => \"4.528859440640229e+01\", \"elevationAngle\" => \"3.978496363815536e+01\")\n",
       " OrderedCollections.OrderedDict{Any, Any}(\"azimuthTime\" => \"2022-06-12T17:33:54.382759\", \"slantRangeTime\" => \"6.426410868456121e-03\", \"line\" => \"16682\", \"pixel\" => \"26315\", \"latitude\" => \"5.285395014122170e+01\", \"longitude\" => \"5.384143356939436e+00\", \"height\" => \"9.237695485353470e-05\", \"incidenceAngle\" => \"4.595437839684426e+01\", \"elevationAngle\" => \"4.033272810240116e+01\")"
      ]
     },
     "metadata": {},
     "output_type": "display_data"
    }
   ],
   "source": [
    "geo = meta_dict[\"product\"][\"geolocationGrid\"][\"geolocationGridPointList\"][\"geolocationGridPoint\"]"
   ]
  },
  {
   "cell_type": "code",
   "execution_count": null,
   "metadata": {},
   "outputs": [],
   "source": []
  },
  {
   "cell_type": "code",
   "execution_count": null,
   "metadata": {},
   "outputs": [],
   "source": []
  },
  {
   "cell_type": "code",
   "execution_count": 1,
   "metadata": {},
   "outputs": [
    {
     "ename": "UndefVarError",
     "evalue": "UndefVarError: `Test_name` not defined",
     "output_type": "error",
     "traceback": [
      "UndefVarError: `Test_name` not defined\n",
      "\n",
      "Stacktrace:\n",
      " [1] top-level scope\n",
      "   @ ~/Documents/coding/JuliaEO2024/metadata.ipynb:1"
     ]
    }
   ],
   "source": [
    "te =  Test_name.Sensors.load_tiff(DataFolder[1])"
   ]
  },
  {
   "cell_type": "code",
   "execution_count": 2,
   "metadata": {},
   "outputs": [
    {
     "data": {
      "text/plain": [
       "get_coordinate (generic function with 1 method)"
      ]
     },
     "metadata": {},
     "output_type": "display_data"
    }
   ],
   "source": []
  },
  {
   "cell_type": "code",
   "execution_count": null,
   "metadata": {},
   "outputs": [],
   "source": []
  },
  {
   "cell_type": "code",
   "execution_count": null,
   "metadata": {},
   "outputs": [],
   "source": [
    "\n",
    "mutable struct Sentinel1GRD <: GroundRangeDetected\n",
    "    metadata::Sentinel1MetaData\n",
    "    data::Array{Complex{Float64},2}\n",
    "end\n",
    "\n",
    "\n",
    "\"\"\"\n",
    "    get_window(image::Sentinel1SLC)\n",
    "\n",
    "Returns the window of the complete Sentinel image covered the \"image\"\n",
    "\"\"\"\n",
    "function get_window(image::Sentinel1SLC)\n",
    "    rows_start = image.index_start[1]\n",
    "    rows_end = size(image.data)[1] + image.index_start[1] - 1\n",
    "\n",
    "    columns_start = image.index_start[2]\n",
    "    columns_end = size(image.data)[2] + image.index_start[2] - 1\n",
    "\n",
    "    return [[rows_start, rows_end],[columns_start, columns_end]]\n",
    "end\n"
   ]
  },
  {
   "cell_type": "code",
   "execution_count": 18,
   "metadata": {},
   "outputs": [],
   "source": [
    "using ArchGDAL"
   ]
  },
  {
   "cell_type": "code",
   "execution_count": 6,
   "metadata": {},
   "outputs": [
    {
     "data": {
      "text/plain": [
       "\"/Users/kaaso/Documents/coding/JuliaEO2024/data/S1A_IW_GRDH_1SDV_20220612T173329_20220612T173354_043633_05359A_EA25.SAFE/annotation/s1a-iw-grd-vh-20220612t173329-20220612t173354-043633-05359a-002.xml\""
      ]
     },
     "metadata": {},
     "output_type": "display_data"
    }
   ],
   "source": [
    "annotationFolder[1]"
   ]
  },
  {
   "cell_type": "code",
   "execution_count": 3,
   "metadata": {},
   "outputs": [
    {
     "data": {
      "text/plain": [
       "\"/Users/kaaso/Documents/coding/JuliaEO2024/data/S1A_IW_GRDH_1SDV_20220612T173329_20220612T173354_043633_05359A_EA25.SAFE/measurement/s1a-iw-grd-vh-20220612t173329-20220612t173354-043633-05359a-002.tiff\""
      ]
     },
     "metadata": {},
     "output_type": "display_data"
    }
   ],
   "source": [
    "tif = \"/Users/kaaso/Documents/coding/JuliaEO2024/data/S1A_IW_GRDH_1SDV_20220612T173329_20220612T173354_043633_05359A_EA25.SAFE/measurement/s1a-iw-grd-vh-20220612t173329-20220612t173354-043633-05359a-002.tiff\""
   ]
  },
  {
   "cell_type": "code",
   "execution_count": 8,
   "metadata": {},
   "outputs": [
    {
     "data": {
      "text/plain": [
       "OrderedCollections.OrderedDict{Any, Any} with 3 entries:\n",
       "  :version  => \"1.0\"\n",
       "  :encoding => \"UTF-8\"\n",
       "  \"product\" => OrderedDict{Any, Any}(\"adsHeader\"=>OrderedDict{Any, Any}(\"missio…"
      ]
     },
     "metadata": {},
     "output_type": "display_data"
    }
   ],
   "source": [
    "pa = Test_name.Sensors.Sentinel1.getAnnotationPaths(\"/Users/kaaso/Documents/coding/JuliaEO2024/data/S1A_IW_GRDH_1SDV_20220612T173329_20220612T173354_043633_05359A_EA25.SAFE\")\n",
    "ic1 = Test_name.Sensors.Sentinel1.getDictofXml(pa[1])\n",
    "meta_dict = Test_name.Sensors.Sentinel1.read_xml_as_dict(pa[1])\n",
    "\n"
   ]
  },
  {
   "cell_type": "code",
   "execution_count": 12,
   "metadata": {},
   "outputs": [],
   "source": [
    "hea = Test_name.Sensors.Sentinel1.Sentinel1GRDMetaData(meta_dict);\n",
    "im = Test_name.Sensors.Sentinel1.Sentinel1ImageInformation(meta_dict);\n",
    "geo = Test_name.Sensors.Sentinel1.Sentinel1GeolocationGrid(meta_dict);\n",
    "\n",
    "\n",
    "fieldnames(geo)"
   ]
  },
  {
   "cell_type": "code",
   "execution_count": 16,
   "metadata": {},
   "outputs": [
    {
     "data": {
      "text/plain": [
       "(:lines, :samples, :latitude, :longitude, :azimuth_time, :slant_range_time_seconds, :elevation_angle, :incidence_angle, :height)"
      ]
     },
     "metadata": {},
     "output_type": "display_data"
    }
   ],
   "source": [
    "fieldnames(Test_name.Sensors.Sentinel1.Sentinel1GeolocationGrid)"
   ]
  },
  {
   "cell_type": "code",
   "execution_count": 34,
   "metadata": {},
   "outputs": [
    {
     "data": {
      "text/plain": [
       "210-element Vector{Int64}:\n",
       "     1\n",
       "  1317\n",
       "  2633\n",
       "  3949\n",
       "  5265\n",
       "  6581\n",
       "  7897\n",
       "  9213\n",
       " 10529\n",
       " 11845\n",
       "     ⋮\n",
       " 15793\n",
       " 17109\n",
       " 18425\n",
       " 19741\n",
       " 21057\n",
       " 22373\n",
       " 23689\n",
       " 25005\n",
       " 26316"
      ]
     },
     "metadata": {},
     "output_type": "display_data"
    }
   ],
   "source": [
    "(geo.samples)"
   ]
  },
  {
   "cell_type": "code",
   "execution_count": 50,
   "metadata": {},
   "outputs": [
    {
     "name": "stderr",
     "output_type": "stream",
     "text": [
      "\u001b[32m\u001b[1m   Resolving\u001b[22m\u001b[39m package versions...\n"
     ]
    },
    {
     "name": "stderr",
     "output_type": "stream",
     "text": [
      "\u001b[32m\u001b[1m   Installed\u001b[22m\u001b[39m Dierckx ───── v0.5.3\n",
      "\u001b[32m\u001b[1m   Installed\u001b[22m\u001b[39m Dierckx_jll ─ v0.1.0+0\n"
     ]
    },
    {
     "name": "stderr",
     "output_type": "stream",
     "text": [
      "\u001b[32m\u001b[1m    Updating\u001b[22m\u001b[39m `~/Documents/coding/JuliaEO2024/Project.toml`\n",
      "  \u001b[90m[39dd38d3] \u001b[39m\u001b[92m+ Dierckx v0.5.3\u001b[39m\n",
      "\u001b[32m\u001b[1m    Updating\u001b[22m\u001b[39m `~/Documents/coding/JuliaEO2024/Manifest.toml`\n",
      " "
     ]
    },
    {
     "name": "stderr",
     "output_type": "stream",
     "text": [
      " \u001b[90m[39dd38d3] \u001b[39m\u001b[92m+ Dierckx v0.5.3\u001b[39m\n",
      "  \u001b[90m[cd4c43a9] \u001b[39m\u001b[92m+ Dierckx_jll v0.1.0+0\u001b[39m\n"
     ]
    },
    {
     "name": "stderr",
     "output_type": "stream",
     "text": [
      "\u001b[32m\u001b[1mPrecompiling\u001b[22m\u001b[39m "
     ]
    },
    {
     "name": "stderr",
     "output_type": "stream",
     "text": [
      "project...\n"
     ]
    },
    {
     "name": "stderr",
     "output_type": "stream",
     "text": [
      "\u001b[32m  ✓ \u001b[39m\u001b[90mDierckx_jll\u001b[39m"
     ]
    },
    {
     "name": "stderr",
     "output_type": "stream",
     "text": [
      "\n"
     ]
    },
    {
     "name": "stderr",
     "output_type": "stream",
     "text": [
      "\u001b[32m  ✓ \u001b[39mDierckx\n"
     ]
    },
    {
     "name": "stderr",
     "output_type": "stream",
     "text": [
      "  2 dependencies successfully precompiled in 2 seconds. 495 already precompiled. 2 skipped during auto due to previous errors.\n"
     ]
    }
   ],
   "source": [
    "import Pkg\n",
    "Pkg.add(\"Dierckx\")"
   ]
  },
  {
   "cell_type": "code",
   "execution_count": null,
   "metadata": {},
   "outputs": [],
   "source": []
  },
  {
   "cell_type": "code",
   "execution_count": 64,
   "metadata": {},
   "outputs": [],
   "source": [
    "using Dierckx\n",
    "\n",
    "function get_coordinate(\n",
    "    row, column, lat_gridpoints, long_gridpoints, row_gridpoints, column_gridpoints\n",
    ")\n",
    "    \"\"\"\n",
    "    Get coordinate from index by interpolating grid-points\n",
    "    Args:\n",
    "        row (Integer): index of the row of interest position\n",
    "        column (Integer): index of the column of interest position\n",
    "        lat_gridpoints (Vector{Float64}): Latitude of grid-points\n",
    "        long_gridpoints (Vector{Float64}): Longitude of grid-points\n",
    "        row_gridpoints (Vector{Int64}): row of grid-points\n",
    "        column_gridpoints (Vector{Int64}): column of grid-points\n",
    "    Returns:\n",
    "        lat (Float64): Latitude of the position\n",
    "        long (Float64): Longitude of the position\n",
    "    \"\"\"\n",
    "\n",
    "    # Combine row and column gridpoints for interpolation\n",
    "    points = hcat(row_gridpoints, column_gridpoints)\n",
    "\n",
    "    # Adjust the smoothing factor 's' as needed\n",
    "    s = 0.0  # Start with 0 and increase if necessary\n",
    "\n",
    "    # Create the spline interpolations\n",
    "    lat_spline = Spline2D(points[:,1], points[:,2], lat_gridpoints, s=s)\n",
    "    long_spline = Spline2D(points[:,1], points[:,2], long_gridpoints, s=s)\n",
    "\n",
    "    # Interpolate to get lat and long\n",
    "    lat = evaluate(lat_spline, row, column)\n",
    "    long = evaluate(long_spline, row, column)\n",
    "\n",
    "    return lat, long\n",
    "end\n",
    "\n",
    "# Example usage\n",
    "# Replace these with your actual data\n",
    "lat_values = geo.longitude; # Vector{Float64} with latitude values\n",
    "long_values = geo.latitude; # Vector{Float64} with longitude values\n",
    "row_gridpoints = geo.lines; # Vector{Int64} representing row grid points\n",
    "column_gridpoints = geo.samples; # Vector{Int64} representing column grid points\n",
    "\n"
   ]
  },
  {
   "cell_type": "code",
   "execution_count": 65,
   "metadata": {},
   "outputs": [
    {
     "ename": "ErrorException",
     "evalue": "The required storage space exceeds the available storage space:\nnxest or nyest too small, or s too small. Try increasing s.",
     "output_type": "error",
     "traceback": [
      "The required storage space exceeds the available storage space:\n",
      "nxest or nyest too small, or s too small. Try increasing s.\n",
      "\n",
      "Stacktrace:\n",
      " [1] error(s::String)\n",
      "   @ Base ./error.jl:35\n",
      " [2] Spline2D(x::Vector{Int64}, y::Vector{Int64}, z::Vector{Float64}; w::Vector{Float64}, kx::Int64, ky::Int64, s::Float64)\n",
      "   @ Dierckx ~/.julia/packages/Dierckx/TDOyl/src/Dierckx.jl:838\n",
      " [3] Spline2D\n",
      "   @ ~/.julia/packages/Dierckx/TDOyl/src/Dierckx.jl:733 [inlined]\n",
      " [4] get_coordinate1(row::Int64, column::Int64, lat_gridpoints::Vector{Float64}, long_gridpoints::Vector{Float64}, row_gridpoints::Vector{Int64}, column_gridpoints::Vector{Int64})\n",
      "   @ Main ~/Documents/coding/JuliaEO2024/metadata.ipynb:24\n",
      " [5] top-level scope\n",
      "   @ ~/Documents/coding/JuliaEO2024/metadata.ipynb:3"
     ]
    }
   ],
   "source": [
    "\n",
    "# Get lat, lon for a specific row and column\n",
    "lat, long = get_coordinate1(100, 150, lat_values, long_values, row_gridpoints, column_gridpoints)"
   ]
  },
  {
   "cell_type": "code",
   "execution_count": null,
   "metadata": {},
   "outputs": [],
   "source": []
  },
  {
   "cell_type": "code",
   "execution_count": 63,
   "metadata": {},
   "outputs": [
    {
     "name": "stderr",
     "output_type": "stream",
     "text": [
      "WARNING: both Optim and Interpolations export \"Flat\"; uses of it in module Main must be qualified\n"
     ]
    },
    {
     "ename": "UndefVarError",
     "evalue": "UndefVarError: `Flat` not defined",
     "output_type": "error",
     "traceback": [
      "UndefVarError: `Flat` not defined\n",
      "\n",
      "Stacktrace:\n",
      " [1] get_coordinate(row::Int64, column::Int64, lat_values::Vector{Float64}, long_values::Vector{Float64}, row_gridpoints::Vector{Int64}, column_gridpoints::Vector{Int64})\n",
      "   @ Main ~/Documents/coding/JuliaEO2024/metadata.ipynb:9\n",
      " [2] top-level scope\n",
      "   @ ~/Documents/coding/JuliaEO2024/metadata.ipynb:21"
     ]
    }
   ],
   "source": [
    "using Interpolations\n",
    "\n",
    "function get_coordinate(row, column, lat_values, long_values, row_gridpoints, column_gridpoints)\n",
    "    # Convert row and column grid points to Float64\n",
    "    row_gridpoints_float = Float64.(row_gridpoints)\n",
    "    column_gridpoints_float = Float64.(column_gridpoints)\n",
    "\n",
    "    # Create cubic spline interpolators\n",
    "    lat_interp = CubicSplineInterpolation(row_gridpoints_float, lat_values, extrapolation_bc=Flat())\n",
    "    long_interp = CubicSplineInterpolation(column_gridpoints_float, long_values, extrapolation_bc=Flat())\n",
    "\n",
    "    # Interpolate latitude and longitude\n",
    "    lat = lat_interp(row)\n",
    "    long = long_interp(column)\n",
    "\n",
    "    return lat, long\n",
    "end\n",
    "\n",
    "\n",
    "\n",
    "lat, long = get_coordinate(100, 150, lat_values, long_values, row_gridpoints, column_gridpoints)\n"
   ]
  },
  {
   "cell_type": "code",
   "execution_count": 29,
   "metadata": {},
   "outputs": [
    {
     "ename": "MethodError",
     "evalue": "MethodError: no method matching interpolate(::Tuple{Vector{Float64}, Vector{Float64}}, ::Vector{Float64}, ::Gridded{Linear{Throw{OnGrid}}})\n\nClosest candidates are:\n  interpolate(::Tuple{Vararg{Union{AbstractVector{T}, Tuple} where T, N}}, !Matched::AbstractArray{Tel, N}, ::IT) where {Tel, N, IT<:Union{NoInterp, Tuple{Vararg{Union{NoInterp, Gridded}}}, Gridded}}\n   @ Interpolations ~/.julia/packages/Interpolations/nDwIa/src/gridded/gridded.jl:165\n  interpolate(!Matched::Type{TWeights}, !Matched::Type{TC}, ::Any, !Matched::IT) where {TWeights, TC, IT<:Union{NoInterp, Tuple{Vararg{Union{NoInterp, BSpline}}}, BSpline}}\n   @ Interpolations ~/.julia/packages/Interpolations/nDwIa/src/b-splines/b-splines.jl:164\n  interpolate(!Matched::Type{TWeights}, !Matched::Type{TC}, ::Any, !Matched::IT, !Matched::Real, !Matched::Int64) where {TWeights, TC, IT<:Union{NoInterp, Tuple{Vararg{Union{NoInterp, BSpline}}}, BSpline}}\n   @ Interpolations ~/.julia/packages/Interpolations/nDwIa/src/b-splines/b-splines.jl:169\n  ...\n",
     "output_type": "error",
     "traceback": [
      "MethodError: no method matching interpolate(::Tuple{Vector{Float64}, Vector{Float64}}, ::Vector{Float64}, ::Gridded{Linear{Throw{OnGrid}}})\n",
      "\n",
      "Closest candidates are:\n",
      "  interpolate(::Tuple{Vararg{Union{AbstractVector{T}, Tuple} where T, N}}, !Matched::AbstractArray{Tel, N}, ::IT) where {Tel, N, IT<:Union{NoInterp, Tuple{Vararg{Union{NoInterp, Gridded}}}, Gridded}}\n",
      "   @ Interpolations ~/.julia/packages/Interpolations/nDwIa/src/gridded/gridded.jl:165\n",
      "  interpolate(!Matched::Type{TWeights}, !Matched::Type{TC}, ::Any, !Matched::IT) where {TWeights, TC, IT<:Union{NoInterp, Tuple{Vararg{Union{NoInterp, BSpline}}}, BSpline}}\n",
      "   @ Interpolations ~/.julia/packages/Interpolations/nDwIa/src/b-splines/b-splines.jl:164\n",
      "  interpolate(!Matched::Type{TWeights}, !Matched::Type{TC}, ::Any, !Matched::IT, !Matched::Real, !Matched::Int64) where {TWeights, TC, IT<:Union{NoInterp, Tuple{Vararg{Union{NoInterp, BSpline}}}, BSpline}}\n",
      "   @ Interpolations ~/.julia/packages/Interpolations/nDwIa/src/b-splines/b-splines.jl:169\n",
      "  ...\n",
      "\n",
      "\n",
      "Stacktrace:\n",
      " [1] get_coordinate3(row::Int64, column::Int64, lat_gridpoints::Vector{Float64}, long_gridpoints::Vector{Float64}, row_gridpoints::Vector{Int64}, column_gridpoints::Vector{Int64})\n",
      "   @ Main ~/Documents/coding/JuliaEO2024/metadata.ipynb:23\n",
      " [2] top-level scope\n",
      "   @ ~/Documents/coding/JuliaEO2024/metadata.ipynb:1"
     ]
    }
   ],
   "source": [
    "get_coordinate3(1000,1000, geo.latitude, geo.longitude, geo.lines, geo.samples)"
   ]
  },
  {
   "cell_type": "code",
   "execution_count": 56,
   "metadata": {},
   "outputs": [
    {
     "data": {
      "text/plain": [
       "get_coordinatef (generic function with 1 method)"
      ]
     },
     "metadata": {},
     "output_type": "display_data"
    }
   ],
   "source": [
    "using Interpolations\n",
    "\n",
    "function get_coordinatef(\n",
    "    row, column, lat_gridpoints, long_gridpoints, row_gridpoints, column_gridpoints\n",
    ")\n",
    "    \"\"\"\n",
    "    Get coordinate from index by interpolating grid-points\n",
    "    Args:\n",
    "        row (Integer): index of the row of interest position\n",
    "        column (Integer): index of the column of interest position\n",
    "        lat_gridpoints (Vector{Float64}): Latitude of grid-points\n",
    "        long_gridpoints (Vector{Float64}): Longitude of grid-points\n",
    "        row_gridpoints (Vector{Int64}): row of grid-points\n",
    "        column_gridpoints (Vector{Int64}): column of grid-points\n",
    "    Returns:\n",
    "        lat (Float64): Latitude of the position\n",
    "        long (Float64): Longitude of the position\n",
    "    \"\"\"\n",
    "\n",
    "    # Assuming regular grid for BSpline interpolation\n",
    "    lat_itp = interpolate((row_gridpoints, column_gridpoints), lat_gridpoints, Gridded(Linear()))\n",
    "    long_itp = interpolate((row_gridpoints, column_gridpoints), long_gridpoints, Gridded(Linear()))\n",
    "\n",
    "    lat = lat_itp[row, column]\n",
    "    long = long_itp[row, column]\n",
    "\n",
    "    return lat, long\n",
    "end\n"
   ]
  },
  {
   "cell_type": "code",
   "execution_count": 58,
   "metadata": {},
   "outputs": [
    {
     "ename": "MethodError",
     "evalue": "MethodError: no method matching interpolate(::Tuple{Vector{Int64}, Vector{Int64}}, ::Vector{Float64}, ::Gridded{Linear{Throw{OnGrid}}})\n\nClosest candidates are:\n  interpolate(::Tuple{Vararg{Union{AbstractVector{T}, Tuple} where T, N}}, !Matched::AbstractArray{Tel, N}, ::IT) where {Tel, N, IT<:Union{NoInterp, Tuple{Vararg{Union{NoInterp, Gridded}}}, Gridded}}\n   @ Interpolations ~/.julia/packages/Interpolations/nDwIa/src/gridded/gridded.jl:165\n  interpolate(!Matched::Type{TWeights}, !Matched::Type{TC}, ::Any, !Matched::IT) where {TWeights, TC, IT<:Union{NoInterp, Tuple{Vararg{Union{NoInterp, BSpline}}}, BSpline}}\n   @ Interpolations ~/.julia/packages/Interpolations/nDwIa/src/b-splines/b-splines.jl:164\n  interpolate(!Matched::Type{TWeights}, !Matched::Type{TC}, ::Any, !Matched::IT, !Matched::Real, !Matched::Int64) where {TWeights, TC, IT<:Union{NoInterp, Tuple{Vararg{Union{NoInterp, BSpline}}}, BSpline}}\n   @ Interpolations ~/.julia/packages/Interpolations/nDwIa/src/b-splines/b-splines.jl:169\n  ...\n",
     "output_type": "error",
     "traceback": [
      "MethodError: no method matching interpolate(::Tuple{Vector{Int64}, Vector{Int64}}, ::Vector{Float64}, ::Gridded{Linear{Throw{OnGrid}}})\n",
      "\n",
      "Closest candidates are:\n",
      "  interpolate(::Tuple{Vararg{Union{AbstractVector{T}, Tuple} where T, N}}, !Matched::AbstractArray{Tel, N}, ::IT) where {Tel, N, IT<:Union{NoInterp, Tuple{Vararg{Union{NoInterp, Gridded}}}, Gridded}}\n",
      "   @ Interpolations ~/.julia/packages/Interpolations/nDwIa/src/gridded/gridded.jl:165\n",
      "  interpolate(!Matched::Type{TWeights}, !Matched::Type{TC}, ::Any, !Matched::IT) where {TWeights, TC, IT<:Union{NoInterp, Tuple{Vararg{Union{NoInterp, BSpline}}}, BSpline}}\n",
      "   @ Interpolations ~/.julia/packages/Interpolations/nDwIa/src/b-splines/b-splines.jl:164\n",
      "  interpolate(!Matched::Type{TWeights}, !Matched::Type{TC}, ::Any, !Matched::IT, !Matched::Real, !Matched::Int64) where {TWeights, TC, IT<:Union{NoInterp, Tuple{Vararg{Union{NoInterp, BSpline}}}, BSpline}}\n",
      "   @ Interpolations ~/.julia/packages/Interpolations/nDwIa/src/b-splines/b-splines.jl:169\n",
      "  ...\n",
      "\n",
      "\n",
      "Stacktrace:\n",
      " [1] get_coordinatef(row::Int64, column::Int64, lat_gridpoints::Vector{Float64}, long_gridpoints::Vector{Float64}, row_gridpoints::Vector{Int64}, column_gridpoints::Vector{Int64})\n",
      "   @ Main ~/Documents/coding/JuliaEO2024/metadata.ipynb:21\n",
      " [2] top-level scope\n",
      "   @ ~/Documents/coding/JuliaEO2024/metadata.ipynb:1"
     ]
    }
   ],
   "source": [
    "get_coordinatef(1000,1000, geo.latitude, geo.longitude, geo.lines, geo.samples)"
   ]
  },
  {
   "cell_type": "code",
   "execution_count": null,
   "metadata": {},
   "outputs": [],
   "source": []
  },
  {
   "cell_type": "code",
   "execution_count": 28,
   "metadata": {},
   "outputs": [
    {
     "data": {
      "text/plain": [
       "get_coordinate3 (generic function with 1 method)"
      ]
     },
     "metadata": {},
     "output_type": "display_data"
    }
   ],
   "source": [
    "using Interpolations\n",
    "using Optim\n",
    "using LinearAlgebra\n",
    "\n",
    "function get_coordinate2(row, column, lat_gridpoints, long_gridpoints, row_gridpoints, column_gridpoints)\n",
    "    # Interpolation for latitude and longitude\n",
    "    lat_interp = interpolate((row_gridpoints, column_gridpoints), lat_gridpoints, Gridded(Linear()))\n",
    "    long_interp = interpolate((row_gridpoints, column_gridpoints), long_gridpoints, Gridded(Linear()))\n",
    "\n",
    "    lat = lat_interp[row, column]\n",
    "    long = long_interp[row, column]\n",
    "\n",
    "    return lat, long\n",
    "end\n",
    "\n",
    "\n",
    "function get_coordinate3(row, column, lat_gridpoints, long_gridpoints, row_gridpoints, column_gridpoints)\n",
    "    # Convert row and column grid points to Float64\n",
    "    row_gridpoints_float = float(row_gridpoints)\n",
    "    column_gridpoints_float = float(column_gridpoints)\n",
    "\n",
    "    # Interpolation for latitude and longitude\n",
    "    lat_interp = interpolate((row_gridpoints_float, column_gridpoints_float), lat_gridpoints, Gridded(Linear()))\n",
    "    long_interp = interpolate((row_gridpoints_float, column_gridpoints_float), long_gridpoints, Gridded(Linear()))\n",
    "\n",
    "    lat = lat_interp[row, column]\n",
    "    long = long_interp[row, column]\n",
    "\n",
    "    return lat, long\n",
    "end\n"
   ]
  },
  {
   "cell_type": "code",
   "execution_count": 10,
   "metadata": {},
   "outputs": [
    {
     "data": {
      "text/plain": [
       "2022-06-12T17:33:29"
      ]
     },
     "metadata": {},
     "output_type": "display_data"
    }
   ],
   "source": [
    "reference_time = Test_name.Sensors.Sentinel1.get_reference_time(meta_dict)"
   ]
  },
  {
   "cell_type": "code",
   "execution_count": 19,
   "metadata": {},
   "outputs": [
    {
     "data": {
      "text/plain": [
       "28-element Vector{Vector{Float64}}:\n",
       " [799968.5368545058, 0.5027890283195999, 5.346541292395387e-7, -3.380811179770082e-13, 3.213496265378736e-20, 2.088330129077014e-25, -2.44654383152174e-31, 1.090090486279145e-37, 2.149707122104422e-45]\n",
       " [799968.5368545763, 0.5027524123846079, 5.346785975589008e-7, -3.380721747596121e-13, 3.210272538043584e-20, 2.088156094212409e-25, -2.444191438793631e-31, 1.084353092800081e-37, 2.680360963399394e-45]\n",
       " [799968.5368536464, 0.502700560495108, 5.347133561801165e-7, -3.380580359717493e-13, 3.203193497445918e-20, 2.090028148148028e-25, -2.450556741171178e-31, 1.098993862788715e-37, 1.284073155506245e-45]\n",
       " [799968.5368535054, 0.5026536074124773, 5.347448083080476e-7, -3.380456266609052e-13, 3.197421474797523e-20, 2.091172324639931e-25, -2.453750574063504e-31, 1.106244897336468e-37, 5.717415818159479e-46]\n",
       " [799968.5368541314, 0.5026183876459421, 5.347683296450658e-7, -3.380371433031531e-13, 3.194483740158948e-20, 2.090888434645832e-25, -2.450935125154188e-31, 1.099143029290136e-37, 1.277240448439281e-45]\n",
       " [799968.5368537533, 0.5025825885328397, 5.347922424454679e-7, -3.380285538648458e-13, 3.191503170271475e-20, 2.0906350898995e-25, -2.448455959802185e-31, 1.093497377170436e-37, 1.766540651416964e-45]\n",
       " [799968.5368541785, 0.5025498100786868, 5.348140940907724e-7, -3.380203766029884e-13, 3.188461069475922e-20, 2.090580925251939e-25, -2.44671546850421e-31, 1.088986688056829e-37, 2.208945953675889e-45]\n",
       " [799968.5368545118, 0.502518756260441, 5.348347844410377e-7, -3.380128339747041e-13, 3.185811416497101e-20, 2.090379122057268e-25, -2.444429270064161e-31, 1.083163110818368e-37, 2.785131704013057e-45]\n",
       " [799968.5368534698, 0.502487860005886, 5.348553315293713e-7, -3.380043891922889e-13, 3.181844358326275e-20, 2.091280229353023e-25, -2.447404203348744e-31, 1.090568048285415e-37, 2.009599610080825e-45]\n",
       " [799968.5368541041, 0.5024569638937044, 5.348759044927339e-7, -3.379965046700002e-13, 3.178551415161292e-20, 2.091654422093187e-25, -2.447818911223097e-31, 1.09120874987392e-37, 1.962424447892222e-45]\n",
       " ⋮\n",
       " [799968.5368538267, 0.5021480896084057, 5.350814497808666e-7, -3.379173189979116e-13, 3.146414689346362e-20, 2.094448140355759e-25, -2.447913654284941e-31, 1.090513350704385e-37, 1.863778381979291e-45]\n",
       " [799968.5368543038, 0.5021172145985471, 5.351019975991952e-7, -3.379094492079901e-13, 3.143092738811752e-20, 2.094897154722885e-25, -2.448798700750259e-31, 1.09238157945945e-37, 1.700707047510361e-45]\n",
       " [799968.5368536796, 0.5020863427061526, 5.351225355062185e-7, -3.379016813108266e-13, 3.140264689760647e-20, 2.094794009334505e-25, -2.446943275989628e-31, 1.087882605878021e-37, 2.100598852378851e-45]\n",
       " [799968.5368538577, 0.5020554739931271, 5.351430739500068e-7, -3.378939730844993e-13, 3.137442011234719e-20, 2.094727512936473e-25, -2.445315885425976e-31, 1.083867688588627e-37, 2.471250811961895e-45]\n",
       " [799968.5368545924, 0.5020268821534803, 5.351620752729056e-7, -3.378867919712999e-13, 3.134563308434868e-20, 2.095020294833985e-25, -2.445897419345665e-31, 1.085996295161882e-37, 2.180605511977356e-45]\n",
       " [799968.5368538687, 0.5020020119396, 5.351785320704769e-7, -3.37880179628024e-13, 3.131915264389719e-20, 2.095177033529389e-25, -2.445160275062345e-31, 1.083265891307181e-37, 2.510582482449558e-45]\n",
       " [799968.5368535246, 0.5019744451383135, 5.351968044519285e-7, -3.378723583219501e-13, 3.128012289692911e-20, 2.096208231813958e-25, -2.448330973282119e-31, 1.089680023142069e-37, 1.976638368460879e-45]\n",
       " [799968.5368539607, 0.5019381863097186, 5.352210051595337e-7, -3.378636634379258e-13, 3.125001400962459e-20, 2.095991469065943e-25, -2.446162516467381e-31, 1.085014403367851e-37, 2.358401499007712e-45]\n",
       " [799968.5368533814, 0.5019027822294825, 5.352445856589939e-7, -3.378542076405843e-13, 3.120919496160728e-20, 2.096538416491174e-25, -2.446896668220481e-31, 1.08610516879055e-37, 2.276511682650955e-45]"
      ]
     },
     "metadata": {},
     "output_type": "display_data"
    }
   ],
   "source": [
    "coordinateConversion2= meta_dict[\"product\"][\"coordinateConversion\"][\"coordinateConversionList\"][\"coordinateConversion\"];\n",
    "\n",
    "azimuthTime = [Test_name.Sensors.Sentinel1.parse_delta_time(elem[\"azimuthTime\"],reference_time) for elem in coordinateConversion2];\n",
    "grsrCoefficients = [parse.(Float64,split(elem[\"grsrCoefficients\"][\"\"],\" \")) for elem in coordinateConversion2]\n",
    "\n"
   ]
  },
  {
   "cell_type": "code",
   "execution_count": 18,
   "metadata": {},
   "outputs": [
    {
     "data": {
      "text/plain": [
       "Vector{Float64}\u001b[90m (alias for \u001b[39m\u001b[90mArray{Float64, 1}\u001b[39m\u001b[90m)\u001b[39m"
      ]
     },
     "metadata": {},
     "output_type": "display_data"
    }
   ],
   "source": [
    "typeof(gr0)"
   ]
  },
  {
   "cell_type": "code",
   "execution_count": 20,
   "metadata": {},
   "outputs": [
    {
     "data": {
      "text/plain": [
       "Vector{Vector{Float64}}\u001b[90m (alias for \u001b[39m\u001b[90mArray{Array{Float64, 1}, 1}\u001b[39m\u001b[90m)\u001b[39m"
      ]
     },
     "metadata": {},
     "output_type": "display_data"
    }
   ],
   "source": [
    "typeof(grsrCoefficients)"
   ]
  },
  {
   "cell_type": "code",
   "execution_count": null,
   "metadata": {},
   "outputs": [],
   "source": [
    "geo.lines, geo.samples"
   ]
  },
  {
   "cell_type": "code",
   "execution_count": 68,
   "metadata": {},
   "outputs": [
    {
     "data": {
      "text/plain": [
       "1"
      ]
     },
     "metadata": {},
     "output_type": "display_data"
    }
   ],
   "source": [
    "geo.samples[1]"
   ]
  },
  {
   "cell_type": "code",
   "execution_count": 69,
   "metadata": {},
   "outputs": [
    {
     "data": {
      "text/plain": [
       "26316"
      ]
     },
     "metadata": {},
     "output_type": "display_data"
    }
   ],
   "source": [
    "geo.samples[end]"
   ]
  },
  {
   "cell_type": "code",
   "execution_count": 74,
   "metadata": {},
   "outputs": [
    {
     "data": {
      "text/plain": [
       "1.0:1.0:16683.0"
      ]
     },
     "metadata": {},
     "output_type": "display_data"
    }
   ],
   "source": [
    "x = range(geo.samples[1], geo.samples[end], length=geo.samples[end])\n",
    "y = range(geo.lines[1], geo.lines[end], length=geo.lines[end])"
   ]
  },
  {
   "cell_type": "code",
   "execution_count": 75,
   "metadata": {},
   "outputs": [
    {
     "ename": "MethodError",
     "evalue": "MethodError: no method matching linear_interpolation(::Tuple{StepRangeLen{Float64, Base.TwicePrecision{Float64}, Base.TwicePrecision{Float64}, Int64}, StepRangeLen{Float64, Base.TwicePrecision{Float64}, Base.TwicePrecision{Float64}, Int64}}, ::Vector{Float64})\n\nClosest candidates are:\n  linear_interpolation(!Matched::AbstractRange, ::AbstractVector; extrapolation_bc)\n   @ Interpolations ~/.julia/packages/Interpolations/nDwIa/src/convenience-constructors.jl:7\n  linear_interpolation(!Matched::AbstractVector, ::AbstractVector; extrapolation_bc)\n   @ Interpolations ~/.julia/packages/Interpolations/nDwIa/src/convenience-constructors.jl:9\n  linear_interpolation(::Tuple{Vararg{AbstractRange, N}}, !Matched::AbstractArray{T, N}; extrapolation_bc) where {N, T}\n   @ Interpolations ~/.julia/packages/Interpolations/nDwIa/src/convenience-constructors.jl:23\n  ...\n",
     "output_type": "error",
     "traceback": [
      "MethodError: no method matching linear_interpolation(::Tuple{StepRangeLen{Float64, Base.TwicePrecision{Float64}, Base.TwicePrecision{Float64}, Int64}, StepRangeLen{Float64, Base.TwicePrecision{Float64}, Base.TwicePrecision{Float64}, Int64}}, ::Vector{Float64})\n",
      "\n",
      "Closest candidates are:\n",
      "  linear_interpolation(!Matched::AbstractRange, ::AbstractVector; extrapolation_bc)\n",
      "   @ Interpolations ~/.julia/packages/Interpolations/nDwIa/src/convenience-constructors.jl:7\n",
      "  linear_interpolation(!Matched::AbstractVector, ::AbstractVector; extrapolation_bc)\n",
      "   @ Interpolations ~/.julia/packages/Interpolations/nDwIa/src/convenience-constructors.jl:9\n",
      "  linear_interpolation(::Tuple{Vararg{AbstractRange, N}}, !Matched::AbstractArray{T, N}; extrapolation_bc) where {N, T}\n",
      "   @ Interpolations ~/.julia/packages/Interpolations/nDwIa/src/convenience-constructors.jl:23\n",
      "  ...\n",
      "\n",
      "\n",
      "Stacktrace:\n",
      " [1] LinearInterpolation(::Tuple{StepRangeLen{Float64, Base.TwicePrecision{Float64}, Base.TwicePrecision{Float64}, Int64}, StepRangeLen{Float64, Base.TwicePrecision{Float64}, Base.TwicePrecision{Float64}, Int64}}, ::Vararg{Any}; kwargs::Base.Pairs{Symbol, Union{}, Tuple{}, NamedTuple{(), Tuple{}}})\n",
      "   @ Interpolations ./deprecated.jl:105\n",
      " [2] LinearInterpolation(::Tuple{StepRangeLen{Float64, Base.TwicePrecision{Float64}, Base.TwicePrecision{Float64}, Int64}, StepRangeLen{Float64, Base.TwicePrecision{Float64}, Base.TwicePrecision{Float64}, Int64}}, ::Vararg{Any})\n",
      "   @ Interpolations ./deprecated.jl:103\n",
      " [3] top-level scope\n",
      "   @ ~/Documents/coding/JuliaEO2024/metadata.ipynb:1"
     ]
    }
   ],
   "source": [
    "itp = LinearInterpolation((x, y),geo.latitude)\n"
   ]
  },
  {
   "cell_type": "code",
   "execution_count": 114,
   "metadata": {},
   "outputs": [
    {
     "data": {
      "text/plain": [
       "interpolateLatLon (generic function with 1 method)"
      ]
     },
     "metadata": {},
     "output_type": "display_data"
    }
   ],
   "source": []
  },
  {
   "cell_type": "code",
   "execution_count": 117,
   "metadata": {},
   "outputs": [
    {
     "data": {
      "text/plain": [
       "(51.12648977863641, 3.5435370018551167)"
      ]
     },
     "metadata": {},
     "output_type": "display_data"
    }
   ],
   "source": [
    "interpolateLatLon(1000,1000, geo.lines, geo.samples, geo.latitude, geo.longitude)"
   ]
  },
  {
   "cell_type": "code",
   "execution_count": 119,
   "metadata": {},
   "outputs": [
    {
     "data": {
      "text/plain": [
       "([50.94952042895041 50.949687068910464 … 52.68383922318156 52.6840057278105; 50.949532043734926 50.94969868258563 … 52.683849281873705 52.68401578533434; … ; 51.14816423965925 51.14831092108828 … 52.85377852563578 52.85392375370793; 51.1481956160664 51.1483422941445 … 52.85380491679139 52.8539501412217], [2.051314644505389 2.052715957067042 … 3.6511129819207775 3.652568212384678; 2.051406435996158 2.0528077491704444 … 3.651208786002854 3.6526640172020017; … ; 3.7099485386992113 3.7113616987696942 … 5.38238749971355 5.383854469490045; 3.710226139392344 3.7116393013379083 … 5.3826763860687885 5.384143356939436])"
      ]
     },
     "metadata": {},
     "output_type": "display_data"
    }
   ],
   "source": [
    "lat_matrix, lon_matrix = interpolateLatLonGrid(geo.lines, geo.samples, geo.latitude, geo.longitude)\n"
   ]
  },
  {
   "cell_type": "code",
   "execution_count": 130,
   "metadata": {},
   "outputs": [
    {
     "data": {
      "text/plain": [
       "Dict{String, Vector} with 4 entries:\n",
       "  \"column\" => [10, 20, 30, 50, 100]\n",
       "  \"rows\"   => [10, 20, 30, 50, 100]\n",
       "  \"lats\"   => [50.9511, 50.9529, 50.9547, 50.9583, 50.9672]\n",
       "  \"Long\"   => [2.06475, 2.07968, 2.09462, 2.12448, 2.19914]"
      ]
     },
     "metadata": {},
     "output_type": "display_data"
    }
   ],
   "source": [
    "cord = interpolateLatLonForPoints([10,20,30,50,100], [10,20,30,50,100], geo.lines, geo.samples, geo.latitude, geo.longitude)"
   ]
  },
  {
   "cell_type": "code",
   "execution_count": 120,
   "metadata": {},
   "outputs": [
    {
     "data": {
      "text/plain": [
       "(16683, 26316)"
      ]
     },
     "metadata": {},
     "output_type": "display_data"
    }
   ],
   "source": [
    "size(lat_matrix)"
   ]
  },
  {
   "cell_type": "code",
   "execution_count": 159,
   "metadata": {},
   "outputs": [
    {
     "ename": "TypeError",
     "evalue": "TypeError: in typeassert, expected Type, got a value of type Int64",
     "output_type": "error",
     "traceback": [
      "TypeError: in typeassert, expected Type, got a value of type Int64\n",
      "\n",
      "Stacktrace:\n",
      " [1] top-level scope\n",
      "   @ ~/Documents/coding/JuliaEO2024/metadata.ipynb:1"
     ]
    }
   ],
   "source": [
    "row_test = [1:10]\n",
    "column_test = [1:1000]"
   ]
  },
  {
   "cell_type": "code",
   "execution_count": 160,
   "metadata": {},
   "outputs": [
    {
     "data": {
      "text/plain": [
       "1.0:1.0:100.0"
      ]
     },
     "metadata": {},
     "output_type": "display_data"
    }
   ],
   "source": []
  },
  {
   "cell_type": "code",
   "execution_count": 151,
   "metadata": {},
   "outputs": [
    {
     "data": {
      "text/plain": [
       "(6,)"
      ]
     },
     "metadata": {},
     "output_type": "display_data"
    }
   ],
   "source": [
    "size([1,2,3,4,5,6])"
   ]
  },
  {
   "cell_type": "code",
   "execution_count": 173,
   "metadata": {},
   "outputs": [],
   "source": [
    "using BenchmarkTools"
   ]
  },
  {
   "cell_type": "code",
   "execution_count": 182,
   "metadata": {},
   "outputs": [
    {
     "ename": "BoundsError",
     "evalue": "BoundsError: attempt to access 10×21 interpolate((::Vector{Int64},::Vector{Int64}), ::Matrix{Float64}, Gridded(Linear())) with element type Float64 at index [16684.0, 16684.0]",
     "output_type": "error",
     "traceback": [
      "BoundsError: attempt to access 10×21 interpolate((::Vector{Int64},::Vector{Int64}), ::Matrix{Float64}, Gridded(Linear())) with element type Float64 at index [16684.0, 16684.0]\n",
      "\n",
      "Stacktrace:\n",
      "  [1] throw_boundserror(A::Interpolations.GriddedInterpolation{Float64, 2, Matrix{Float64}, Gridded{Linear{Throw{OnGrid}}}, Tuple{Vector{Int64}, Vector{Int64}}}, I::Tuple{Float64, Float64})\n",
      "    @ Base ./abstractarray.jl:744\n",
      "  [2] GriddedInterpolation\n",
      "    @ ~/.julia/packages/Interpolations/nDwIa/src/gridded/indexing.jl:3 [inlined]\n",
      "  [3] interpolateLatLonForPoints2(wanted_rows::StepRangeLen{Float64, Base.TwicePrecision{Float64}, Base.TwicePrecision{Float64}, Int64}, wanted_columns::StepRangeLen{Float64, Base.TwicePrecision{Float64}, Base.TwicePrecision{Float64}, Int64}, rows::Vector{Int64}, columns::Vector{Int64}, lats::Vector{Float64}, lons::Vector{Float64}, incidenceangle::Vector{Float64}, height::Vector{Float64}, azimuth_time::Vector{Float64}, slant_range_time_seconds::Vector{Float64}, elevation_angle::Vector{Float64})\n",
      "    @ Main ~/Documents/coding/JuliaEO2024/metadata.ipynb:55\n",
      "  [4] var\"##core#308\"()\n",
      "    @ Main ~/.julia/packages/BenchmarkTools/0owsb/src/execution.jl:489\n",
      "  [5] var\"##sample#309\"(::Tuple{}, __params::BenchmarkTools.Parameters)\n",
      "    @ Main ~/.julia/packages/BenchmarkTools/0owsb/src/execution.jl:495\n",
      "  [6] _run(b::BenchmarkTools.Benchmark, p::BenchmarkTools.Parameters; verbose::Bool, pad::String, kwargs::Base.Pairs{Symbol, Integer, NTuple{4, Symbol}, NamedTuple{(:samples, :evals, :gctrial, :gcsample), Tuple{Int64, Int64, Bool, Bool}}})\n",
      "    @ BenchmarkTools ~/.julia/packages/BenchmarkTools/0owsb/src/execution.jl:99\n",
      "  [7] #invokelatest#2\n",
      "    @ ./essentials.jl:821 [inlined]\n",
      "  [8] invokelatest\n",
      "    @ ./essentials.jl:816 [inlined]\n",
      "  [9] #run_result#45\n",
      "    @ ~/.julia/packages/BenchmarkTools/0owsb/src/execution.jl:34 [inlined]\n",
      " [10] run_result\n",
      "    @ ~/.julia/packages/BenchmarkTools/0owsb/src/execution.jl:34 [inlined]\n",
      " [11] run(b::BenchmarkTools.Benchmark, p::BenchmarkTools.Parameters; progressid::Nothing, nleaves::Float64, ndone::Float64, kwargs::Base.Pairs{Symbol, Integer, NTuple{5, Symbol}, NamedTuple{(:verbose, :samples, :evals, :gctrial, :gcsample), Tuple{Bool, Int64, Int64, Bool, Bool}}})\n",
      "    @ BenchmarkTools ~/.julia/packages/BenchmarkTools/0owsb/src/execution.jl:117\n",
      " [12] run (repeats 2 times)\n",
      "    @ ~/.julia/packages/BenchmarkTools/0owsb/src/execution.jl:117 [inlined]\n",
      " [13] #warmup#54\n",
      "    @ ~/.julia/packages/BenchmarkTools/0owsb/src/execution.jl:169 [inlined]\n",
      " [14] warmup(item::BenchmarkTools.Benchmark)\n",
      "    @ BenchmarkTools ~/.julia/packages/BenchmarkTools/0owsb/src/execution.jl:168\n",
      " [15] top-level scope\n",
      "    @ ~/.julia/packages/BenchmarkTools/0owsb/src/execution.jl:393"
     ]
    }
   ],
   "source": [
    "@benchmark s1 = interpolateLatLonForPoints2(range(1,20000,20000), range(1,20000,20000),geo.lines, geo.samples, geo.latitude, geo.longitude, geo.incidence_angle, geo.height, geo.azimuth_time, geo.slant_range_time_seconds, geo.elevation_angle)"
   ]
  },
  {
   "cell_type": "code",
   "execution_count": 181,
   "metadata": {},
   "outputs": [
    {
     "data": {
      "text/plain": [
       "BenchmarkTools.Trial: 89 samples with 1 evaluation.\n",
       " Range \u001b[90m(\u001b[39m\u001b[36m\u001b[1mmin\u001b[22m\u001b[39m … \u001b[35mmax\u001b[39m\u001b[90m):  \u001b[39m\u001b[36m\u001b[1m48.970 ms\u001b[22m\u001b[39m … \u001b[35m73.087 ms\u001b[39m  \u001b[90m┊\u001b[39m GC \u001b[90m(\u001b[39mmin … max\u001b[90m): \u001b[39m0.00% … 30.00%\n",
       " Time  \u001b[90m(\u001b[39m\u001b[34m\u001b[1mmedian\u001b[22m\u001b[39m\u001b[90m):     \u001b[39m\u001b[34m\u001b[1m52.259 ms              \u001b[22m\u001b[39m\u001b[90m┊\u001b[39m GC \u001b[90m(\u001b[39mmedian\u001b[90m):    \u001b[39m0.00%\n",
       " Time  \u001b[90m(\u001b[39m\u001b[32m\u001b[1mmean\u001b[22m\u001b[39m ± \u001b[32mσ\u001b[39m\u001b[90m):   \u001b[39m\u001b[32m\u001b[1m56.925 ms\u001b[22m\u001b[39m ± \u001b[32m 8.395 ms\u001b[39m  \u001b[90m┊\u001b[39m GC \u001b[90m(\u001b[39mmean ± σ\u001b[90m):  \u001b[39m9.84% ± 12.86%\n",
       "\n",
       "  \u001b[39m \u001b[39m \u001b[39m \u001b[39m \u001b[39m \u001b[39m \u001b[39m█\u001b[39m \u001b[34m▂\u001b[39m\u001b[39m \u001b[39m \u001b[39m \u001b[39m \u001b[39m \u001b[39m \u001b[39m \u001b[39m \u001b[39m \u001b[39m \u001b[39m \u001b[32m \u001b[39m\u001b[39m \u001b[39m \u001b[39m \u001b[39m \u001b[39m \u001b[39m \u001b[39m \u001b[39m \u001b[39m \u001b[39m \u001b[39m \u001b[39m \u001b[39m \u001b[39m \u001b[39m \u001b[39m \u001b[39m \u001b[39m \u001b[39m \u001b[39m \u001b[39m \u001b[39m \u001b[39m \u001b[39m \u001b[39m \u001b[39m \u001b[39m \u001b[39m \u001b[39m \u001b[39m \u001b[39m \u001b[39m \u001b[39m \u001b[39m \u001b[39m \u001b[39m \u001b[39m \u001b[39m \u001b[39m \u001b[39m \n",
       "  \u001b[39m▄\u001b[39m▃\u001b[39m▄\u001b[39m▄\u001b[39m▄\u001b[39m▇\u001b[39m█\u001b[39m█\u001b[34m█\u001b[39m\u001b[39m▄\u001b[39m▆\u001b[39m▄\u001b[39m▃\u001b[39m▁\u001b[39m▁\u001b[39m▁\u001b[39m▁\u001b[39m▁\u001b[39m▁\u001b[39m▁\u001b[32m▁\u001b[39m\u001b[39m▁\u001b[39m▁\u001b[39m▁\u001b[39m▁\u001b[39m▁\u001b[39m▁\u001b[39m▁\u001b[39m▁\u001b[39m▁\u001b[39m▁\u001b[39m▁\u001b[39m▁\u001b[39m▁\u001b[39m▁\u001b[39m▁\u001b[39m▁\u001b[39m▁\u001b[39m▁\u001b[39m▁\u001b[39m▁\u001b[39m▁\u001b[39m▁\u001b[39m▁\u001b[39m▁\u001b[39m▁\u001b[39m▁\u001b[39m▅\u001b[39m▄\u001b[39m▃\u001b[39m▃\u001b[39m▄\u001b[39m▃\u001b[39m▄\u001b[39m▆\u001b[39m▃\u001b[39m▄\u001b[39m▁\u001b[39m▃\u001b[39m \u001b[39m▁\n",
       "  49 ms\u001b[90m           Histogram: frequency by time\u001b[39m        72.8 ms \u001b[0m\u001b[1m<\u001b[22m\n",
       "\n",
       " Memory estimate\u001b[90m: \u001b[39m\u001b[33m71.21 MiB\u001b[39m, allocs estimate\u001b[90m: \u001b[39m\u001b[33m40094\u001b[39m."
      ]
     },
     "metadata": {},
     "output_type": "display_data"
    }
   ],
   "source": [
    "@benchmark s2 = interpolateLatLonForPoints4(range(1,20000,20000), range(1,20000,20000),geo.lines, geo.samples, geo.latitude, geo.longitude, geo.incidence_angle, geo.height, geo.azimuth_time, geo.slant_range_time_seconds, geo.elevation_angle)"
   ]
  },
  {
   "cell_type": "code",
   "execution_count": 179,
   "metadata": {},
   "outputs": [
    {
     "data": {
      "text/plain": [
       "interpolateLatLonForPoints4 (generic function with 1 method)"
      ]
     },
     "metadata": {},
     "output_type": "display_data"
    }
   ],
   "source": [
    "using Interpolations\n",
    "\n",
    "function interpolateLatLonForPoints(wanted_rows, wanted_columns, rows, columns, lats, lons, incidenceangle, height, azimuth_time, slant_range_time_seconds, elevation_angle)\n",
    "    \"\"\"\n",
    "    Efficiently interpolate the latitude, longitude, incidence angle, height, azimuth time, slant range time, and elevation angle for given vectors of rows and columns using nearest values.\n",
    "\n",
    "    Parameters:\n",
    "    - wanted_rows: Vector of wanted row numbers.\n",
    "    - wanted_columns: Vector of wanted column numbers.\n",
    "    - rows: Array of row numbers.\n",
    "    - columns: Array of column numbers.\n",
    "    - lats: Array of latitudes.\n",
    "    - lons: Array of longitudes.\n",
    "    - incidenceangle: Array of incidence angles.\n",
    "    - height: Array of heights.\n",
    "    - azimuth_time: Array of azimuth times.\n",
    "    - slant_range_time_seconds: Array of slant range times in seconds.\n",
    "    - elevation_angle: Array of elevation angles.\n",
    "\n",
    "    Returns:\n",
    "    - Dictionary containing vectors for interpolated latitudes, longitudes, incidence angles, heights, azimuth times, slant range times, and elevation angles.\n",
    "    \"\"\"\n",
    "\n",
    "    # Function to find the nearest points\n",
    "    function find_nearest(array, value)\n",
    "        idx = argmin(abs.(array .- value))\n",
    "        return array[idx]\n",
    "    end\n",
    "\n",
    "    # Initialize vectors for the interpolated values\n",
    "    interpolated_lats = Float64[]\n",
    "    interpolated_lons = Float64[]\n",
    "    interpolated_incidence = Float64[]\n",
    "    interpolated_height = Float64[]\n",
    "    interpolated_azimuth = Float64[]\n",
    "    interpolated_slant_range = Float64[]\n",
    "    interpolated_elevation = Float64[]\n",
    "\n",
    "    # Convert the zipped iterator to an array of tuples\n",
    "    row_col_pairs = collect(zip(rows, columns))\n",
    "\n",
    "    # Iterate over each wanted row and column\n",
    "    for (wanted_row, wanted_column) in zip(wanted_rows, wanted_columns)\n",
    "        # Find the nearest row and column\n",
    "        nearest_row = find_nearest(rows, wanted_row)\n",
    "        nearest_col = find_nearest(columns, wanted_column)\n",
    "\n",
    "        # Find the index of the nearest row and column\n",
    "        idx = findfirst(isequal((nearest_row, nearest_col)), row_col_pairs)\n",
    "\n",
    "        # Interpolate the values\n",
    "        push!(interpolated_lats, lats[idx])\n",
    "        push!(interpolated_lons, lons[idx])\n",
    "        push!(interpolated_incidence, incidenceangle[idx])\n",
    "        push!(interpolated_height, height[idx])\n",
    "        push!(interpolated_azimuth, azimuth_time[idx])\n",
    "        push!(interpolated_slant_range, slant_range_time_seconds[idx])\n",
    "        push!(interpolated_elevation, elevation_angle[idx])\n",
    "    end\n",
    "    res = Dict(\"rows\" => wanted_rows, \n",
    "            \"columns\"=> wanted_columns,\n",
    "            \"latitudes\" => interpolated_lats,\n",
    "            \"longitudes\" => interpolated_lons,\n",
    "            \"incidence_angles\" => interpolated_incidence,\n",
    "            \"heights\" => interpolated_height,\n",
    "            \"azimuth_times\" => interpolated_azimuth,\n",
    "            \"slant_range_times\" => interpolated_slant_range,\n",
    "            \"elevation_angles\" => interpolated_elevation)\n",
    "\n",
    "\n",
    "    # Return the results in a dictionary\n",
    "    #return Dict(\"rows\" => wanted_rows, \"columns\" => wanted_columns, \"lats\" => interpolated_lats, \"Long\" => interpolated_lons, \"incidence_angles\" => interpolated_incidence, \"heights\" => interpolated_height, \"azimuth_times\" => interpolated_azimuth, \"slant_range_times\" => interpolated_slant_range, \"elevation_angles\" => interpolated_elevation)\n",
    "    return res\n",
    "end\n"
   ]
  },
  {
   "cell_type": "code",
   "execution_count": 180,
   "metadata": {},
   "outputs": [
    {
     "data": {
      "text/plain": [
       "interpolateLatLonForPoints2 (generic function with 1 method)"
      ]
     },
     "metadata": {},
     "output_type": "display_data"
    }
   ],
   "source": [
    "using Interpolations\n",
    "\n",
    "function interpolateLatLonForPoints2(wanted_rows, wanted_columns, rows, columns, lats, lons, incidenceangle, height, azimuth_time, slant_range_time_seconds, elevation_angle)\n",
    "    \"\"\"\n",
    "    Interpolate the latitude, longitude, incidence angle, height, azimuth time, slant range time, and elevation angle for given vectors of rows and columns.\n",
    "\n",
    "    Parameters:\n",
    "    - wanted_rows: Vector of wanted row numbers.\n",
    "    - wanted_columns: Vector of wanted column numbers.\n",
    "    - rows: Array of row numbers.\n",
    "    - columns: Array of column numbers.\n",
    "    - lats: Array of latitudes.\n",
    "    - lons: Array of longitudes.\n",
    "    - incidenceangle: Array of incidence angles.\n",
    "    - height: Array of heights.\n",
    "    - azimuth_time: Array of azimuth times.\n",
    "    - slant_range_time_seconds: Array of slant range times in seconds.\n",
    "    - elevation_angle: Array of elevation angles.\n",
    "\n",
    "    Returns:\n",
    "    - Vectors for interpolated latitudes, longitudes, incidence angles, heights, azimuth times, slant range times, and elevation angles.\n",
    "    \"\"\"\n",
    "\n",
    "    # Create a grid for interpolation\n",
    "    row_grid = unique(rows)\n",
    "    col_grid = unique(columns)\n",
    "    lat_grid = reshape(lats, length(row_grid), length(col_grid))\n",
    "    lon_grid = reshape(lons, length(row_grid), length(col_grid))\n",
    "    incidence_grid = reshape(incidenceangle, length(row_grid), length(col_grid))\n",
    "    height_grid = reshape(height, length(row_grid), length(col_grid))\n",
    "    azimuth_grid = reshape(azimuth_time, length(row_grid), length(col_grid))\n",
    "    slant_range_grid = reshape(slant_range_time_seconds, length(row_grid), length(col_grid))\n",
    "    elevation_grid = reshape(elevation_angle, length(row_grid), length(col_grid))\n",
    "\n",
    "    # Interpolation functions\n",
    "    lat_interp = interpolate((row_grid, col_grid), lat_grid, Gridded(Linear()))\n",
    "    lon_interp = interpolate((row_grid, col_grid), lon_grid, Gridded(Linear()))\n",
    "    incidence_interp = interpolate((row_grid, col_grid), incidence_grid, Gridded(Linear()))\n",
    "    height_interp = interpolate((row_grid, col_grid), height_grid, Gridded(Linear()))\n",
    "    azimuth_interp = interpolate((row_grid, col_grid), azimuth_grid, Gridded(Linear()))\n",
    "    slant_range_interp = interpolate((row_grid, col_grid), slant_range_grid, Gridded(Linear()))\n",
    "    elevation_interp = interpolate((row_grid, col_grid), elevation_grid, Gridded(Linear()))\n",
    "\n",
    "    # Initialize vectors for the interpolated values\n",
    "    interpolated_lats = Float64[]\n",
    "    interpolated_lons = Float64[]\n",
    "    interpolated_incidence = Float64[]\n",
    "    interpolated_height = Float64[]\n",
    "    interpolated_azimuth = Float64[]\n",
    "    interpolated_slant_range = Float64[]\n",
    "    interpolated_elevation = Float64[]\n",
    "\n",
    "    # Interpolate for each pair of wanted rows and columns\n",
    "    for (row, col) in zip(wanted_rows, wanted_columns)\n",
    "        push!(interpolated_lats, lat_interp(row, col))\n",
    "        push!(interpolated_lons, lon_interp(row, col))\n",
    "        push!(interpolated_incidence, incidence_interp(row, col))\n",
    "        push!(interpolated_height, height_interp(row, col))\n",
    "        push!(interpolated_azimuth, azimuth_interp(row, col))\n",
    "        push!(interpolated_slant_range, slant_range_interp(row, col))\n",
    "        push!(interpolated_elevation, elevation_interp(row, col))\n",
    "    end\n",
    "\n",
    "    res = Dict(\"rows\" => wanted_rows, \n",
    "            \"columns\"=> wanted_columns,\n",
    "            \"latitudes\" => interpolated_lats,\n",
    "            \"longitudes\" => interpolated_lons,\n",
    "            \"incidence_angles\" => interpolated_incidence,\n",
    "            \"heights\" => interpolated_height,\n",
    "            \"azimuth_times\" => interpolated_azimuth,\n",
    "            \"slant_range_times\" => interpolated_slant_range,\n",
    "            \"elevation_angles\" => interpolated_elevation)\n",
    "\n",
    "    #nterpolated_lats, interpolated_lons, interpolated_incidence, interpolated_height, interpolated_azimuth, interpolated_slant_range, interpolated_elevation\n",
    "    return res\n",
    "end\n"
   ]
  },
  {
   "cell_type": "code",
   "execution_count": null,
   "metadata": {},
   "outputs": [],
   "source": []
  },
  {
   "cell_type": "code",
   "execution_count": 118,
   "metadata": {},
   "outputs": [
    {
     "data": {
      "text/plain": [
       "interpolateLatLonGrid (generic function with 1 method)"
      ]
     },
     "metadata": {},
     "output_type": "display_data"
    }
   ],
   "source": [
    "using Interpolations\n",
    "\n",
    "using Interpolations\n",
    "\n",
    "function interpolateLatLonForPoints(wanted_rows, wanted_columns, rows, columns, lats, lons)\n",
    "    \"\"\"\n",
    "    Interpolate the latitude and longitude for given vectors of rows and columns.\n",
    "\n",
    "    Parameters:\n",
    "    - wanted_rows: Vector of wanted row numbers.\n",
    "    - wanted_columns: Vector of wanted column numbers.\n",
    "    - rows: Array of row numbers.\n",
    "    - columns: Array of column numbers.\n",
    "    - lats: Array of latitudes.\n",
    "    - lons: Array of longitudes.\n",
    "\n",
    "    Returns:\n",
    "    - Two vectors: one for interpolated latitudes and one for interpolated longitudes.\n",
    "    \"\"\"\n",
    "\n",
    "    # Create a grid for interpolation\n",
    "    row_grid = unique(rows)\n",
    "    col_grid = unique(columns)\n",
    "    lat_grid = reshape(lats, length(row_grid), length(col_grid))\n",
    "    lon_grid = reshape(lons, length(row_grid), length(col_grid))\n",
    "\n",
    "    # Interpolation functions\n",
    "    lat_interp = interpolate((row_grid, col_grid), lat_grid, Gridded(Linear()))\n",
    "    lon_interp = interpolate((row_grid, col_grid), lon_grid, Gridded(Linear()))\n",
    "\n",
    "    # Initialize vectors for latitudes and longitudes\n",
    "    interpolated_lats = Float64[]\n",
    "    interpolated_lons = Float64[]\n",
    "\n",
    "    # Interpolate for each pair of wanted rows and columns\n",
    "    for (row, col) in zip(wanted_rows, wanted_columns)\n",
    "        push!(interpolated_lats, lat_interp(row, col))\n",
    "        push!(interpolated_lons, lon_interp(row, col))\n",
    "    end\n",
    "\n",
    "    return Dict(\"rows\" =>wanted_rows, \"column\"=>wanted_columns,   \"lats\" => interpolated_lats, \"Long\" => interpolated_lons)\n",
    "end\n",
    "\n",
    "\n",
    "\n",
    "\n",
    "function interpolateLatLon(wanted_row, wanted_column, rows, columns, lats, lons)\n",
    "    \"\"\"\n",
    "    Interpolate the latitude and longitude for a given row and column.\n",
    "\n",
    "    Parameters:\n",
    "    - wanted_row: The row number to find.\n",
    "    - wanted_column: The column number to find.\n",
    "    - rows: Array of row numbers.\n",
    "    - columns: Array of column numbers.\n",
    "    - lats: Array of latitudes.\n",
    "    - lons: Array of longitudes.\n",
    "\n",
    "    Returns:\n",
    "    - (latitude, longitude) interpolated values.\n",
    "    \"\"\"\n",
    "\n",
    "    # Create a grid for interpolation\n",
    "    row_grid = unique(rows)\n",
    "    col_grid = unique(columns)\n",
    "    lat_grid = reshape(lats, length(row_grid), length(col_grid))\n",
    "    lon_grid = reshape(lons, length(row_grid), length(col_grid))\n",
    "\n",
    "    # Interpolation functions\n",
    "    lat_interp = interpolate((row_grid, col_grid), lat_grid, Gridded(Linear()))\n",
    "    lon_interp = interpolate((row_grid, col_grid), lon_grid, Gridded(Linear()))\n",
    "\n",
    "    # Interpolate latitude and longitude\n",
    "    interpolated_lat = lat_interp(wanted_row, wanted_column)\n",
    "    interpolated_lon = lon_interp(wanted_row, wanted_column)\n",
    "\n",
    "    return interpolated_lat, interpolated_lon\n",
    "end\n",
    "\n",
    "\n",
    "\n",
    "function interpolateLatLonGrid(rows, columns, lats, lons)\n",
    "    \"\"\"\n",
    "    Interpolate the latitude and longitude for the entire grid.\n",
    "\n",
    "    Parameters:\n",
    "    - rows: Array of row numbers.\n",
    "    - columns: Array of column numbers.\n",
    "    - lats: Array of latitudes.\n",
    "    - lons: Array of longitudes.\n",
    "\n",
    "    Returns:\n",
    "    - Two matrices: one for interpolated latitudes and one for interpolated longitudes.\n",
    "    \"\"\"\n",
    "\n",
    "    # Create a grid for interpolation\n",
    "    row_grid = unique(rows)\n",
    "    col_grid = unique(columns)\n",
    "    lat_grid = reshape(lats, length(row_grid), length(col_grid))\n",
    "    lon_grid = reshape(lons, length(row_grid), length(col_grid))\n",
    "\n",
    "    # Interpolation functions\n",
    "    lat_interp = interpolate((row_grid, col_grid), lat_grid, Gridded(Linear()))\n",
    "    lon_interp = interpolate((row_grid, col_grid), lon_grid, Gridded(Linear()))\n",
    "\n",
    "    # Define the full grid for interpolation\n",
    "    full_row_grid = minimum(row_grid):maximum(row_grid)\n",
    "    full_col_grid = minimum(col_grid):maximum(col_grid)\n",
    "\n",
    "    # Initialize matrices for latitudes and longitudes\n",
    "    lat_matrix = Array{Float64}(undef, length(full_row_grid), length(full_col_grid))\n",
    "    lon_matrix = Array{Float64}(undef, length(full_row_grid), length(full_col_grid))\n",
    "\n",
    "    # Populate the matrices\n",
    "    for (i, row) in enumerate(full_row_grid)\n",
    "        for (j, col) in enumerate(full_col_grid)\n",
    "            lat_matrix[i, j] = lat_interp(row, col)\n",
    "            lon_matrix[i, j] = lon_interp(row, col)\n",
    "        end\n",
    "    end\n",
    "\n",
    "    return lat_matrix, lon_matrix\n",
    "end"
   ]
  },
  {
   "cell_type": "code",
   "execution_count": null,
   "metadata": {},
   "outputs": [],
   "source": []
  },
  {
   "cell_type": "markdown",
   "metadata": {},
   "source": [
    "signalet er det samme. Stoejen er voksen. \n",
    "\n",
    "hvor meget daarlgiere signalet er, kan svare til afstanden til hvor den er."
   ]
  },
  {
   "cell_type": "code",
   "execution_count": null,
   "metadata": {},
   "outputs": [],
   "source": [
    "itp = LinearInterpolation((x, y), z)"
   ]
  },
  {
   "cell_type": "code",
   "execution_count": 109,
   "metadata": {},
   "outputs": [
    {
     "data": {
      "text/plain": [
       "1.0:1.0:16683.0"
      ]
     },
     "metadata": {},
     "output_type": "display_data"
    }
   ],
   "source": [
    "x = range(geo.samples[1], geo.samples[end], length=geo.samples[end])\n",
    "y = range(geo.lines[1], geo.lines[end], length=geo.lines[end])"
   ]
  },
  {
   "cell_type": "code",
   "execution_count": 110,
   "metadata": {},
   "outputs": [
    {
     "ename": "MethodError",
     "evalue": "MethodError: no method matching cubic_spline_interpolation(::Tuple{StepRangeLen{Float64, Base.TwicePrecision{Float64}, Base.TwicePrecision{Float64}, Int64}, StepRangeLen{Float64, Base.TwicePrecision{Float64}, Base.TwicePrecision{Float64}, Int64}}; extrapolation_bc::Line{Nothing})\n\nClosest candidates are:\n  cubic_spline_interpolation(::Tuple{Vararg{AbstractRange, N}}, !Matched::AbstractArray{T, N}; bc, extrapolation_bc) where {N, T}\n   @ Interpolations ~/.julia/packages/Interpolations/nDwIa/src/convenience-constructors.jl:29\n  cubic_spline_interpolation(!Matched::AbstractRange, !Matched::AbstractVector; bc, extrapolation_bc)\n   @ Interpolations ~/.julia/packages/Interpolations/nDwIa/src/convenience-constructors.jl:12\n",
     "output_type": "error",
     "traceback": [
      "MethodError: no method matching cubic_spline_interpolation(::Tuple{StepRangeLen{Float64, Base.TwicePrecision{Float64}, Base.TwicePrecision{Float64}, Int64}, StepRangeLen{Float64, Base.TwicePrecision{Float64}, Base.TwicePrecision{Float64}, Int64}}; extrapolation_bc::Line{Nothing})\n",
      "\n",
      "Closest candidates are:\n",
      "  cubic_spline_interpolation(::Tuple{Vararg{AbstractRange, N}}, !Matched::AbstractArray{T, N}; bc, extrapolation_bc) where {N, T}\n",
      "   @ Interpolations ~/.julia/packages/Interpolations/nDwIa/src/convenience-constructors.jl:29\n",
      "  cubic_spline_interpolation(!Matched::AbstractRange, !Matched::AbstractVector; bc, extrapolation_bc)\n",
      "   @ Interpolations ~/.julia/packages/Interpolations/nDwIa/src/convenience-constructors.jl:12\n",
      "\n",
      "\n",
      "Stacktrace:\n",
      " [1] CubicSplineInterpolation(args::Tuple{StepRangeLen{Float64, Base.TwicePrecision{Float64}, Base.TwicePrecision{Float64}, Int64}, StepRangeLen{Float64, Base.TwicePrecision{Float64}, Base.TwicePrecision{Float64}, Int64}}; kwargs::Base.Pairs{Symbol, Line{Nothing}, Tuple{Symbol}, NamedTuple{(:extrapolation_bc,), Tuple{Line{Nothing}}}})\n",
      "   @ Interpolations ./deprecated.jl:105\n",
      " [2] top-level scope\n",
      "   @ ~/Documents/coding/JuliaEO2024/metadata.ipynb:4"
     ]
    }
   ],
   "source": [
    "column_gridpoints = (range(geo.samples[1], geo.samples[end], length=geo.samples[end]))\n",
    "row_gridpoints = (range(geo.lines[1], geo.lines[end], length=geo.lines[end]))\n",
    "\n",
    "lat_interp = CubicSplineInterpolation((x, y), extrapolation_bc=Line())"
   ]
  },
  {
   "cell_type": "code",
   "execution_count": 98,
   "metadata": {},
   "outputs": [],
   "source": []
  },
  {
   "cell_type": "code",
   "execution_count": null,
   "metadata": {},
   "outputs": [],
   "source": [
    "geo.lines, geo.samples"
   ]
  },
  {
   "cell_type": "code",
   "execution_count": 105,
   "metadata": {},
   "outputs": [
    {
     "data": {
      "text/plain": [
       "16683-element Vector{Int64}:\n",
       "     1\n",
       "     2\n",
       "     3\n",
       "     4\n",
       "     5\n",
       "     6\n",
       "     7\n",
       "     8\n",
       "     9\n",
       "    10\n",
       "     ⋮\n",
       " 16675\n",
       " 16676\n",
       " 16677\n",
       " 16678\n",
       " 16679\n",
       " 16680\n",
       " 16681\n",
       " 16682\n",
       " 16683"
      ]
     },
     "metadata": {},
     "output_type": "display_data"
    }
   ],
   "source": []
  },
  {
   "cell_type": "code",
   "execution_count": null,
   "metadata": {},
   "outputs": [],
   "source": []
  },
  {
   "cell_type": "code",
   "execution_count": null,
   "metadata": {},
   "outputs": [],
   "source": []
  },
  {
   "cell_type": "code",
   "execution_count": 90,
   "metadata": {},
   "outputs": [
    {
     "ename": "ArgumentError",
     "evalue": "ArgumentError: The range 1.0:1.0:16683.0 is incommensurate with the corresponding axis Base.OneTo(210)",
     "output_type": "error",
     "traceback": [
      "ArgumentError: The range 1.0:1.0:16683.0 is incommensurate with the corresponding axis Base.OneTo(210)\n",
      "\n",
      "Stacktrace:\n",
      " [1] check_range\n",
      "   @ ~/.julia/packages/Interpolations/nDwIa/src/scaling/scaling.jl:41 [inlined]\n",
      " [2] check_ranges\n",
      "   @ ~/.julia/packages/Interpolations/nDwIa/src/scaling/scaling.jl:34 [inlined]\n",
      " [3] scale\n",
      "   @ ~/.julia/packages/Interpolations/nDwIa/src/scaling/scaling.jl:28 [inlined]\n",
      " [4] cubic_spline_interpolation(range::StepRangeLen{Float64, Base.TwicePrecision{Float64}, Base.TwicePrecision{Float64}, Int64}, vs::Vector{Float64}; bc::Line{OnGrid}, extrapolation_bc::Line{Nothing})\n",
      "   @ Interpolations ~/.julia/packages/Interpolations/nDwIa/src/convenience-constructors.jl:12\n",
      " [5] CubicSplineInterpolation(::StepRangeLen{Float64, Base.TwicePrecision{Float64}, Base.TwicePrecision{Float64}, Int64}, ::Vararg{Any}; kwargs::Base.Pairs{Symbol, Line{Nothing}, Tuple{Symbol}, NamedTuple{(:extrapolation_bc,), Tuple{Line{Nothing}}}})\n",
      "   @ Interpolations ./deprecated.jl:105\n",
      " [6] get_coordinate(row::Int64, column::Int64, lat_values::Vector{Float64}, long_values::Vector{Float64}, row_gridpoints::Vector{Int64}, column_gridpoints::Vector{Int64})\n",
      "   @ Main ~/Documents/coding/JuliaEO2024/metadata.ipynb:15\n",
      " [7] top-level scope\n",
      "   @ ~/Documents/coding/JuliaEO2024/metadata.ipynb:1"
     ]
    }
   ],
   "source": [
    "get_coordinate(1000,1000, geo.latitude, geo.longitude, geo.lines, geo.samples)"
   ]
  },
  {
   "cell_type": "code",
   "execution_count": 80,
   "metadata": {},
   "outputs": [
    {
     "data": {
      "text/plain": [
       "26316×16683 Matrix{Tuple{Float64, Float64}}:\n",
       " (1.0, 1.0)      (1.0, 2.0)      (1.0, 3.0)      …  (1.0, 16683.0)\n",
       " (2.0, 1.0)      (2.0, 2.0)      (2.0, 3.0)         (2.0, 16683.0)\n",
       " (3.0, 1.0)      (3.0, 2.0)      (3.0, 3.0)         (3.0, 16683.0)\n",
       " (4.0, 1.0)      (4.0, 2.0)      (4.0, 3.0)         (4.0, 16683.0)\n",
       " (5.0, 1.0)      (5.0, 2.0)      (5.0, 3.0)         (5.0, 16683.0)\n",
       " (6.0, 1.0)      (6.0, 2.0)      (6.0, 3.0)      …  (6.0, 16683.0)\n",
       " (7.0, 1.0)      (7.0, 2.0)      (7.0, 3.0)         (7.0, 16683.0)\n",
       " (8.0, 1.0)      (8.0, 2.0)      (8.0, 3.0)         (8.0, 16683.0)\n",
       " (9.0, 1.0)      (9.0, 2.0)      (9.0, 3.0)         (9.0, 16683.0)\n",
       " (10.0, 1.0)     (10.0, 2.0)     (10.0, 3.0)        (10.0, 16683.0)\n",
       " ⋮                                               ⋱  \n",
       " (26308.0, 1.0)  (26308.0, 2.0)  (26308.0, 3.0)     (26308.0, 16683.0)\n",
       " (26309.0, 1.0)  (26309.0, 2.0)  (26309.0, 3.0)     (26309.0, 16683.0)\n",
       " (26310.0, 1.0)  (26310.0, 2.0)  (26310.0, 3.0)     (26310.0, 16683.0)\n",
       " (26311.0, 1.0)  (26311.0, 2.0)  (26311.0, 3.0)  …  (26311.0, 16683.0)\n",
       " (26312.0, 1.0)  (26312.0, 2.0)  (26312.0, 3.0)     (26312.0, 16683.0)\n",
       " (26313.0, 1.0)  (26313.0, 2.0)  (26313.0, 3.0)     (26313.0, 16683.0)\n",
       " (26314.0, 1.0)  (26314.0, 2.0)  (26314.0, 3.0)     (26314.0, 16683.0)\n",
       " (26315.0, 1.0)  (26315.0, 2.0)  (26315.0, 3.0)     (26315.0, 16683.0)\n",
       " (26316.0, 1.0)  (26316.0, 2.0)  (26316.0, 3.0)  …  (26316.0, 16683.0)"
      ]
     },
     "metadata": {},
     "output_type": "display_data"
    }
   ],
   "source": [
    "using Interpolations, Plots\n",
    "# Data\n",
    "vector1 = range(geo.samples[1], geo.samples[end], length=geo.samples[end])\n",
    "vector2 = range(geo.lines[1], geo.lines[end], length=geo.lines[end])\n",
    "grid = [(x, y) for x in vector1, y in vector2]"
   ]
  },
  {
   "cell_type": "code",
   "execution_count": 81,
   "metadata": {},
   "outputs": [
    {
     "data": {
      "text/plain": [
       "26316×16683 Matrix{Tuple{Float64, Float64}}:\n",
       " (1.0, 1.0)      (1.0, 2.0)      (1.0, 3.0)      …  (1.0, 16683.0)\n",
       " (2.0, 1.0)      (2.0, 2.0)      (2.0, 3.0)         (2.0, 16683.0)\n",
       " (3.0, 1.0)      (3.0, 2.0)      (3.0, 3.0)         (3.0, 16683.0)\n",
       " (4.0, 1.0)      (4.0, 2.0)      (4.0, 3.0)         (4.0, 16683.0)\n",
       " (5.0, 1.0)      (5.0, 2.0)      (5.0, 3.0)         (5.0, 16683.0)\n",
       " (6.0, 1.0)      (6.0, 2.0)      (6.0, 3.0)      …  (6.0, 16683.0)\n",
       " (7.0, 1.0)      (7.0, 2.0)      (7.0, 3.0)         (7.0, 16683.0)\n",
       " (8.0, 1.0)      (8.0, 2.0)      (8.0, 3.0)         (8.0, 16683.0)\n",
       " (9.0, 1.0)      (9.0, 2.0)      (9.0, 3.0)         (9.0, 16683.0)\n",
       " (10.0, 1.0)     (10.0, 2.0)     (10.0, 3.0)        (10.0, 16683.0)\n",
       " ⋮                                               ⋱  \n",
       " (26308.0, 1.0)  (26308.0, 2.0)  (26308.0, 3.0)     (26308.0, 16683.0)\n",
       " (26309.0, 1.0)  (26309.0, 2.0)  (26309.0, 3.0)     (26309.0, 16683.0)\n",
       " (26310.0, 1.0)  (26310.0, 2.0)  (26310.0, 3.0)     (26310.0, 16683.0)\n",
       " (26311.0, 1.0)  (26311.0, 2.0)  (26311.0, 3.0)  …  (26311.0, 16683.0)\n",
       " (26312.0, 1.0)  (26312.0, 2.0)  (26312.0, 3.0)     (26312.0, 16683.0)\n",
       " (26313.0, 1.0)  (26313.0, 2.0)  (26313.0, 3.0)     (26313.0, 16683.0)\n",
       " (26314.0, 1.0)  (26314.0, 2.0)  (26314.0, 3.0)     (26314.0, 16683.0)\n",
       " (26315.0, 1.0)  (26315.0, 2.0)  (26315.0, 3.0)     (26315.0, 16683.0)\n",
       " (26316.0, 1.0)  (26316.0, 2.0)  (26316.0, 3.0)  …  (26316.0, 16683.0)"
      ]
     },
     "metadata": {},
     "output_type": "display_data"
    }
   ],
   "source": [
    "grid"
   ]
  },
  {
   "cell_type": "code",
   "execution_count": 66,
   "metadata": {},
   "outputs": [
    {
     "data": {
      "text/plain": [
       "200×300 Matrix{Float64}:\n",
       " -0.275027  -0.259086  -0.243145  …  -0.839876  -0.844374  -0.848872\n",
       " -0.280031  -0.26409   -0.248149     -0.844879  -0.849378  -0.853876\n",
       " -0.285035  -0.269094  -0.253152     -0.849883  -0.854382  -0.85888\n",
       " -0.290039  -0.274098  -0.258156     -0.854887  -0.859386  -0.863884\n",
       " -0.295043  -0.279102  -0.26316      -0.859891  -0.86439   -0.868888\n",
       " -0.300047  -0.284106  -0.268164  …  -0.864895  -0.869394  -0.873892\n",
       " -0.305051  -0.289109  -0.273168     -0.869899  -0.874398  -0.878896\n",
       " -0.310055  -0.294113  -0.278172     -0.874903  -0.879402  -0.8839\n",
       " -0.315059  -0.299117  -0.283176     -0.879907  -0.884406  -0.888904\n",
       " -0.320062  -0.304121  -0.28818      -0.884911  -0.88941   -0.893908\n",
       "  ⋮                               ⋱                        \n",
       " -1.14504   -1.1291    -1.11316      -1.70989   -1.71438   -1.71888\n",
       " -1.14853   -1.13259   -1.11664      -1.71338   -1.71787   -1.72237\n",
       " -1.15202   -1.13607   -1.12013      -1.71686   -1.72136   -1.72586\n",
       " -1.1555    -1.13956   -1.12362      -1.72035   -1.72485   -1.72935\n",
       " -1.15899   -1.14305   -1.12711   …  -1.72384   -1.72834   -1.73284\n",
       " -1.16248   -1.14654   -1.1306       -1.72733   -1.73183   -1.73633\n",
       " -1.16597   -1.15003   -1.13409      -1.73082   -1.73532   -1.73982\n",
       " -1.16946   -1.15352   -1.13758      -1.73431   -1.73881   -1.74331\n",
       " -1.17295   -1.15701   -1.14107      -1.7378    -1.7423    -1.74679"
      ]
     },
     "metadata": {},
     "output_type": "display_data"
    }
   ],
   "source": [
    "\n",
    "# Interpolation object (caches coefficients and such)\n",
    "itp = LinearInterpolation((x, y), z)\n",
    "# Fine grid\n",
    "x2 = range(extrema(x)..., length=300)\n",
    "y2 = range(extrema(y)..., length=200)\n",
    "# Interpolate\n",
    "z2 = [itp(x,y) for y in y2, x in x2]"
   ]
  },
  {
   "cell_type": "code",
   "execution_count": 56,
   "metadata": {},
   "outputs": [
    {
     "data": {
      "text/plain": [
       "28-element Vector{Vector{Float64}}:\n",
       " [799968.5368545058, 0.5027890283195999, 5.346541292395387e-7, -3.380811179770082e-13, 3.213496265378736e-20, 2.088330129077014e-25, -2.44654383152174e-31, 1.090090486279145e-37, 2.149707122104422e-45]\n",
       " [799968.5368545763, 0.5027524123846079, 5.346785975589008e-7, -3.380721747596121e-13, 3.210272538043584e-20, 2.088156094212409e-25, -2.444191438793631e-31, 1.084353092800081e-37, 2.680360963399394e-45]\n",
       " [799968.5368536464, 0.502700560495108, 5.347133561801165e-7, -3.380580359717493e-13, 3.203193497445918e-20, 2.090028148148028e-25, -2.450556741171178e-31, 1.098993862788715e-37, 1.284073155506245e-45]\n",
       " [799968.5368535054, 0.5026536074124773, 5.347448083080476e-7, -3.380456266609052e-13, 3.197421474797523e-20, 2.091172324639931e-25, -2.453750574063504e-31, 1.106244897336468e-37, 5.717415818159479e-46]\n",
       " [799968.5368541314, 0.5026183876459421, 5.347683296450658e-7, -3.380371433031531e-13, 3.194483740158948e-20, 2.090888434645832e-25, -2.450935125154188e-31, 1.099143029290136e-37, 1.277240448439281e-45]\n",
       " [799968.5368537533, 0.5025825885328397, 5.347922424454679e-7, -3.380285538648458e-13, 3.191503170271475e-20, 2.0906350898995e-25, -2.448455959802185e-31, 1.093497377170436e-37, 1.766540651416964e-45]\n",
       " [799968.5368541785, 0.5025498100786868, 5.348140940907724e-7, -3.380203766029884e-13, 3.188461069475922e-20, 2.090580925251939e-25, -2.44671546850421e-31, 1.088986688056829e-37, 2.208945953675889e-45]\n",
       " [799968.5368545118, 0.502518756260441, 5.348347844410377e-7, -3.380128339747041e-13, 3.185811416497101e-20, 2.090379122057268e-25, -2.444429270064161e-31, 1.083163110818368e-37, 2.785131704013057e-45]\n",
       " [799968.5368534698, 0.502487860005886, 5.348553315293713e-7, -3.380043891922889e-13, 3.181844358326275e-20, 2.091280229353023e-25, -2.447404203348744e-31, 1.090568048285415e-37, 2.009599610080825e-45]\n",
       " [799968.5368541041, 0.5024569638937044, 5.348759044927339e-7, -3.379965046700002e-13, 3.178551415161292e-20, 2.091654422093187e-25, -2.447818911223097e-31, 1.09120874987392e-37, 1.962424447892222e-45]\n",
       " ⋮\n",
       " [799968.5368538267, 0.5021480896084057, 5.350814497808666e-7, -3.379173189979116e-13, 3.146414689346362e-20, 2.094448140355759e-25, -2.447913654284941e-31, 1.090513350704385e-37, 1.863778381979291e-45]\n",
       " [799968.5368543038, 0.5021172145985471, 5.351019975991952e-7, -3.379094492079901e-13, 3.143092738811752e-20, 2.094897154722885e-25, -2.448798700750259e-31, 1.09238157945945e-37, 1.700707047510361e-45]\n",
       " [799968.5368536796, 0.5020863427061526, 5.351225355062185e-7, -3.379016813108266e-13, 3.140264689760647e-20, 2.094794009334505e-25, -2.446943275989628e-31, 1.087882605878021e-37, 2.100598852378851e-45]\n",
       " [799968.5368538577, 0.5020554739931271, 5.351430739500068e-7, -3.378939730844993e-13, 3.137442011234719e-20, 2.094727512936473e-25, -2.445315885425976e-31, 1.083867688588627e-37, 2.471250811961895e-45]\n",
       " [799968.5368545924, 0.5020268821534803, 5.351620752729056e-7, -3.378867919712999e-13, 3.134563308434868e-20, 2.095020294833985e-25, -2.445897419345665e-31, 1.085996295161882e-37, 2.180605511977356e-45]\n",
       " [799968.5368538687, 0.5020020119396, 5.351785320704769e-7, -3.37880179628024e-13, 3.131915264389719e-20, 2.095177033529389e-25, -2.445160275062345e-31, 1.083265891307181e-37, 2.510582482449558e-45]\n",
       " [799968.5368535246, 0.5019744451383135, 5.351968044519285e-7, -3.378723583219501e-13, 3.128012289692911e-20, 2.096208231813958e-25, -2.448330973282119e-31, 1.089680023142069e-37, 1.976638368460879e-45]\n",
       " [799968.5368539607, 0.5019381863097186, 5.352210051595337e-7, -3.378636634379258e-13, 3.125001400962459e-20, 2.095991469065943e-25, -2.446162516467381e-31, 1.085014403367851e-37, 2.358401499007712e-45]\n",
       " [799968.5368533814, 0.5019027822294825, 5.352445856589939e-7, -3.378542076405843e-13, 3.120919496160728e-20, 2.096538416491174e-25, -2.446896668220481e-31, 1.08610516879055e-37, 2.276511682650955e-45]"
      ]
     },
     "metadata": {},
     "output_type": "display_data"
    }
   ],
   "source": [
    "srgrCoefficients = [parse.(Float64,split(elem[\"grsrCoefficients\"][\"\"],\" \")) for elem in coordinateConversion2]"
   ]
  },
  {
   "cell_type": "code",
   "execution_count": 51,
   "metadata": {},
   "outputs": [
    {
     "ename": "MethodError",
     "evalue": "MethodError: Cannot `convert` an object of type Int64 to an object of type coordinateConversion\nClosest candidates are:\n  convert(::Type{T}, !Matched::T) where T at Base.jl:61\n  coordinateConversion(::Any, !Matched::Any, !Matched::Any, !Matched::Any, !Matched::Any, !Matched::Any) at ~/Documents/coding/JuliaEO2024/metadata.ipynb:7",
     "output_type": "error",
     "traceback": [
      "MethodError: Cannot `convert` an object of type Int64 to an object of type coordinateConversion\n",
      "Closest candidates are:\n",
      "  convert(::Type{T}, !Matched::T) where T at Base.jl:61\n",
      "  coordinateConversion(::Any, !Matched::Any, !Matched::Any, !Matched::Any, !Matched::Any, !Matched::Any) at ~/Documents/coding/JuliaEO2024/metadata.ipynb:7\n",
      "\n",
      "Stacktrace:\n",
      " [1] setindex!(A::Vector{coordinateConversion}, x::Int64, i1::Int64)\n",
      "   @ Base ./array.jl:966\n",
      " [2] getindex(#unused#::Type{coordinateConversion}, vals::Int64)\n",
      "   @ Base ./array.jl:407\n",
      " [3] top-level scope\n",
      "   @ ~/Documents/coding/JuliaEO2024/metadata.ipynb:1"
     ]
    }
   ],
   "source": [
    "coordinateConversion[1]"
   ]
  },
  {
   "cell_type": "code",
   "execution_count": 55,
   "metadata": {},
   "outputs": [
    {
     "ename": "MethodError",
     "evalue": "MethodError: Cannot `convert` an object of type Float64 to an object of type DateTime\nClosest candidates are:\n  convert(::Type{DateTime}, !Matched::Date) at /Applications/Julia-1.8.app/Contents/Resources/julia/share/julia/stdlib/v1.8/Dates/src/conversions.jl:30\n  convert(::Type{DateTime}, !Matched::Millisecond) at /Applications/Julia-1.8.app/Contents/Resources/julia/share/julia/stdlib/v1.8/Dates/src/conversions.jl:34\n  convert(::Type{DateTime}, !Matched::PyCall.PyObject) at ~/.julia/packages/PyCall/KLzIO/src/pydates.jl:134\n  ...",
     "output_type": "error",
     "traceback": [
      "MethodError: Cannot `convert` an object of type Float64 to an object of type DateTime\n",
      "Closest candidates are:\n",
      "  convert(::Type{DateTime}, !Matched::Date) at /Applications/Julia-1.8.app/Contents/Resources/julia/share/julia/stdlib/v1.8/Dates/src/conversions.jl:30\n",
      "  convert(::Type{DateTime}, !Matched::Millisecond) at /Applications/Julia-1.8.app/Contents/Resources/julia/share/julia/stdlib/v1.8/Dates/src/conversions.jl:34\n",
      "  convert(::Type{DateTime}, !Matched::PyCall.PyObject) at ~/.julia/packages/PyCall/KLzIO/src/pydates.jl:134\n",
      "  ...\n",
      "\n",
      "Stacktrace:\n",
      "  [1] setindex!(A::Vector{DateTime}, x::Float64, i1::Int64)\n",
      "    @ Base ./array.jl:966\n",
      "  [2] _unsafe_copyto!(dest::Vector{DateTime}, doffs::Int64, src::Vector{Float64}, soffs::Int64, n::Int64)\n",
      "    @ Base ./array.jl:253\n",
      "  [3] unsafe_copyto!\n",
      "    @ ./array.jl:307 [inlined]\n",
      "  [4] _copyto_impl!\n",
      "    @ ./array.jl:331 [inlined]\n",
      "  [5] copyto!\n",
      "    @ ./array.jl:317 [inlined]\n",
      "  [6] copyto!\n",
      "    @ ./array.jl:343 [inlined]\n",
      "  [7] copyto_axcheck!\n",
      "    @ ./abstractarray.jl:1127 [inlined]\n",
      "  [8] Array\n",
      "    @ ./array.jl:626 [inlined]\n",
      "  [9] convert\n",
      "    @ ./array.jl:617 [inlined]\n",
      " [10] CoordinateConversion(azimuthTime::Vector{Float64}, slantRangeTime::Vector{Float64}, sr0::Vector{Float64}, srgrCoefficients::Vector{Vector{Float64}}, gr0::Vector{Float64}, grsrCoefficients::Vector{Vector{Float64}})\n",
      "    @ Main ~/Documents/coding/JuliaEO2024/metadata.ipynb:7\n",
      " [11] Sentinel1CoordinateConversion(meta_dict::OrderedCollections.OrderedDict{Any, Any})\n",
      "    @ Main ~/Documents/coding/JuliaEO2024/metadata.ipynb:43\n",
      " [12] top-level scope\n",
      "    @ ~/Documents/coding/JuliaEO2024/metadata.ipynb:1"
     ]
    }
   ],
   "source": []
  },
  {
   "cell_type": "code",
   "execution_count": null,
   "metadata": {},
   "outputs": [],
   "source": []
  },
  {
   "cell_type": "code",
   "execution_count": 35,
   "metadata": {},
   "outputs": [
    {
     "data": {
      "text/plain": [
       "OrderedCollections.OrderedDict{Any, Any} with 6 entries:\n",
       "  \"azimuthTime\"      => \"2022-06-12T17:33:27.474464\"\n",
       "  \"slantRangeTime\"   => \"5.336815623657255e-03\"\n",
       "  \"sr0\"              => \"7.999685368545058e+05\"\n",
       "  \"srgrCoefficients\" => OrderedCollections.OrderedDict{Any, Any}(:count=>\"9\", \"…\n",
       "  \"gr0\"              => \"0.000000000000000e+00\"\n",
       "  \"grsrCoefficients\" => OrderedCollections.OrderedDict{Any, Any}(:count=>\"9\", \"…"
      ]
     },
     "metadata": {},
     "output_type": "display_data"
    }
   ],
   "source": [
    "\"\"\"\n",
    "    Sentinel1MetaData\n",
    "\n",
    "Metadata structure for the Sentinel-1 satellite for each burst in the swath.\n",
    "\n",
    "General metadata info is kept in the following structures:\n",
    "- `Sentinel1Header`\n",
    "- `Sentinel1ProductInformation`\n",
    "- `Sentinel1ImageInformation`\n",
    "- `Sentinel1SwathTiming`\n",
    "- `Sentinel1GeolocationGrid`\n",
    "`Sentinel1BurstInformation` specific Info is kept in\n",
    "- `Vector{Sentinel1BurstInformation}`\n",
    "\n",
    "# Example\n",
    "    slcMetadata = Sentinel1MetaData(meta_dict)\n",
    "\n",
    "# Input\n",
    "- `meta_dict`: xml file.\n",
    "\n",
    "Can be accessed as, e.g.,\n",
    "    slcMetadata.product.radar_frequency --> 5.40500045433435e9::Float64\n",
    "    slcMetadata.header.swath --> 1::Int\n",
    "    slcMetadata.header.mode --> \"IW\"::String\n",
    "    slcMetadata.header.polarisation --> \"VH\"::String\n",
    "\"\"\"\n",
    "Base.@kwdef struct Sentinel1MetaData <: MetaData\n",
    "    reference_time::DateTime\n",
    "    header::Sentinel1Header\n",
    "    image::Sentinel1ImageInformation\n",
    "    geolocation::Sentinel1GeolocationGrid\n",
    "end"
   ]
  },
  {
   "cell_type": "code",
   "execution_count": 34,
   "metadata": {},
   "outputs": [
    {
     "data": {
      "text/plain": [
       "9-element Vector{Float64}:\n",
       "  0.04505718871951103\n",
       "  1.988863625575908\n",
       " -4.199506089919315e-6\n",
       "  2.261506126701918e-11\n",
       " -1.341729268085677e-16\n",
       "  7.246614758959067e-22\n",
       " -2.967740346682937e-27\n",
       "  7.628800092252304e-33\n",
       " -8.924404188174125e-39"
      ]
     },
     "metadata": {},
     "output_type": "display_data"
    }
   ],
   "source": [
    "parse.(Float64,split(s[1][\"srgrCoefficients\"][\"\"],\" \"))"
   ]
  },
  {
   "cell_type": "code",
   "execution_count": 32,
   "metadata": {},
   "outputs": [
    {
     "data": {
      "text/plain": [
       "\"4.505718871951103e-02 1.988863625575908e+00 -4.199506089919315e-06 2.261506126701918e-11 -1.341729268085677e-16 7.246614758959067e-22 -2.967740346682937e-27 7.628800092252304e-33 -8.924404188174125e-39\""
      ]
     },
     "metadata": {},
     "output_type": "display_data"
    }
   ],
   "source": []
  },
  {
   "cell_type": "code",
   "execution_count": null,
   "metadata": {},
   "outputs": [],
   "source": [
    "[parse(Float64, elem[\"slantRangeTime\"]) for elem in s]"
   ]
  },
  {
   "cell_type": "markdown",
   "metadata": {},
   "source": [
    "# Sentinel1ProductInformation(meta_dict)"
   ]
  },
  {
   "cell_type": "code",
   "execution_count": null,
   "metadata": {},
   "outputs": [],
   "source": [
    "\"\"\"\n",
    "    Sentinel1ProductInformation\n",
    "\n",
    "returns structure of product information\n",
    "\"\"\"\n",
    "Base.@kwdef struct Sentinel1ProductInformation\n",
    "    pass::String\n",
    "    timeliness_category::String\n",
    "    platform_heading::Float64\n",
    "    projection::String\n",
    "    range_sampling_rate::Float64\n",
    "    radar_frequency::Float64\n",
    "    azimuth_steering_rate::Float64\n",
    "end\n"
   ]
  },
  {
   "cell_type": "code",
   "execution_count": null,
   "metadata": {},
   "outputs": [],
   "source": [
    "\"\"\"\"\n",
    "    Sentinel1ProductInformation\n",
    "\n",
    "Constructors for the Sentinel1ProductInformation structure.\n",
    "\n",
    "It takes a dictionary containing the full sentinel-1 swath metadata and extracts the Sentinel1ProductInformation as a structure. Sentinel1ProductInformation file:\n",
    "- `pass`: Direction of the orbit (ascending, descending)\n",
    "- `timeliness_category`: Timeliness category under which the product was produced, i.e. time frame from the data acquisition\n",
    "- `platform_heading`: Platform heading relative to North [degrees].\n",
    "- `projection`: Projection of the image, either slant range or ground range.\n",
    "- `range_sampling_rate`: Range sample rate [Hz]\n",
    "- `radar_frequency`: Radar (carrier) frequency [Hz]\n",
    "- `azimuth_steering_rate`: Azimuth steering rate for IW and EW modes [degrees/s].\n",
    "\n",
    "# Input\n",
    "- `meta_dict[dict]`: a dictionary of the metadata.\n",
    "\n",
    "# Output\n",
    "- `Sentinel1ProductInformation[structure of Sentinel1ProductInformation]`\n",
    "\"\"\"\n",
    "function Sentinel1ProductInformation(meta_dict)::Sentinel1ProductInformation\n",
    "    pass = meta_dict[\"product\"][\"generalAnnotation\"][\"productInformation\"][\"pass\"]\n",
    "    timeliness_category = meta_dict[\"product\"][\"generalAnnotation\"][\"productInformation\"][\"timelinessCategory\"]\n",
    "    platform_heading = meta_dict[\"product\"][\"generalAnnotation\"][\"productInformation\"][\"platformHeading\"]\n",
    "    projection = meta_dict[\"product\"][\"generalAnnotation\"][\"productInformation\"][\"projection\"]\n",
    "    range_sampling_rate = meta_dict[\"product\"][\"generalAnnotation\"][\"productInformation\"][\"rangeSamplingRate\"]\n",
    "    radar_frequency = meta_dict[\"product\"][\"generalAnnotation\"][\"productInformation\"][\"radarFrequency\"]\n",
    "    azimuth_steering_rate = meta_dict[\"product\"][\"generalAnnotation\"][\"productInformation\"][\"azimuthSteeringRate\"]\n",
    "\n",
    "    platform_heading = parse(Float64,platform_heading)\n",
    "    range_sampling_rate = parse(Float64, range_sampling_rate)\n",
    "    radar_frequency = parse(Float64, radar_frequency)\n",
    "    azimuth_steering_rate = parse(Float64, azimuth_steering_rate)\n",
    "\n",
    "    return Sentinel1ProductInformation(pass,\n",
    "        timeliness_category,\n",
    "        platform_heading,\n",
    "        projection,\n",
    "        range_sampling_rate,\n",
    "        radar_frequency,\n",
    "        azimuth_steering_rate)\n",
    "end"
   ]
  },
  {
   "cell_type": "code",
   "execution_count": null,
   "metadata": {},
   "outputs": [],
   "source": [
    "meta_dict[\"product\"][\"imageAnnotation\"][\"processingInformation\"]"
   ]
  },
  {
   "cell_type": "code",
   "execution_count": 7,
   "metadata": {},
   "outputs": [
    {
     "data": {
      "text/plain": [
       "OrderedCollections.OrderedDict{Any, Any} with 29 entries:\n",
       "  \"rawDataAnalysisUsed\"     => \"true\"\n",
       "  \"orbitDataFileUsed\"       => \"true\"\n",
       "  \"attitudeDataFileUsed\"    => \"false\"\n",
       "  \"rxVariationCorrectionAp… => \"true\"\n",
       "  \"antennaElevationPattern… => \"true\"\n",
       "  \"antennaAzimuthPatternAp… => \"true\"\n",
       "  \"antennaAzimuthElementPa… => \"true\"\n",
       "  \"dcMethod\"                => \"Data Analysis\"\n",
       "  \"dcInputData\"             => \"Range Compressed\"\n",
       "  \"rangeSpreadingLossCompe… => \"true\"\n",
       "  \"srgrConversionApplied\"   => \"true\"\n",
       "  \"detectionPerformed\"      => \"true\"\n",
       "  \"thermalNoiseCorrectionP… => \"false\"\n",
       "  \"rfiMitigationPerformed\"  => \"BasedOnNoiseMeas\"\n",
       "  \"rfiMitigationDomain\"     => \"TimeAndFrequency\"\n",
       "  \"chirpSource\"             => \"Nominal\"\n",
       "  \"pgSource\"                => \"Extracted\"\n",
       "  \"rrfSpectrum\"             => \"Extended Tapered\"\n",
       "  \"applicationLutId\"        => \"IW_Default\"\n",
       "  ⋮                         => ⋮"
      ]
     },
     "metadata": {},
     "output_type": "display_data"
    }
   ],
   "source": [
    "meta_dict[\"product\"][\"imageAnnotation\"][\"processingInformation\"]"
   ]
  },
  {
   "cell_type": "code",
   "execution_count": null,
   "metadata": {},
   "outputs": [],
   "source": [
    "pass = meta_dict[\"product\"][\"generalAnnotation\"][\"productInformation\"][\"pass\"]\n",
    "timeliness_category = meta_dict[\"product\"][\"generalAnnotation\"][\"productInformation\"][\"timelinessCategory\"]\n",
    "platform_heading = meta_dict[\"product\"][\"generalAnnotation\"][\"productInformation\"][\"platformHeading\"]\n",
    "projection = meta_dict[\"product\"][\"generalAnnotation\"][\"productInformation\"][\"projection\"]\n",
    "range_sampling_rate = meta_dict[\"product\"][\"generalAnnotation\"][\"productInformation\"][\"rangeSamplingRate\"]\n",
    "radar_frequency = meta_dict[\"product\"][\"generalAnnotation\"][\"productInformation\"][\"radarFrequency\"]\n",
    "azimuth_steering_rate = meta_dict[\"product\"][\"generalAnnotation\"][\"productInformation\"][\"azimuthSteeringRate\"]\n"
   ]
  },
  {
   "cell_type": "code",
   "execution_count": 4,
   "metadata": {},
   "outputs": [
    {
     "data": {
      "text/plain": [
       "OrderedCollections.OrderedDict{Any, Any} with 9 entries:\n",
       "  \"productInformation\"      => OrderedCollections.OrderedDict{Any, Any}(\"pass\"=…\n",
       "  \"downlinkInformationList\" => OrderedCollections.OrderedDict{Any, Any}(:count=…\n",
       "  \"orbitList\"               => OrderedCollections.OrderedDict{Any, Any}(:count=…\n",
       "  \"attitudeList\"            => OrderedCollections.OrderedDict{Any, Any}(:count=…\n",
       "  \"rawDataAnalysisList\"     => OrderedCollections.OrderedDict{Any, Any}(:count=…\n",
       "  \"replicaInformationList\"  => OrderedCollections.OrderedDict{Any, Any}(:count=…\n",
       "  \"noiseList\"               => OrderedCollections.OrderedDict{Any, Any}(:count=…\n",
       "  \"terrainHeightList\"       => OrderedCollections.OrderedDict{Any, Any}(:count=…\n",
       "  \"azimuthFmRateList\"       => OrderedCollections.OrderedDict{Any, Any}(:count=…"
      ]
     },
     "metadata": {},
     "output_type": "display_data"
    }
   ],
   "source": [
    "meta_dict[\"product\"][\"generalAnnotation\"]"
   ]
  },
  {
   "cell_type": "code",
   "execution_count": 8,
   "metadata": {},
   "outputs": [
    {
     "data": {
      "text/plain": [
       "Sentinel1ImageInformation(DateTime(\"2022-06-12T17:33:29\"), DateTime(\"2022-06-12T17:33:54\"), DateTime(\"2022-06-12T17:19:35\"), 15, 0.005336815623651522, \"16 bit Unsigned Integer\", 10.0, 10.0, 26316.0, 16683.0, 486.4863102995529, 0.005336815623651522, 38.70540548481883, 0.001498521330831371)"
      ]
     },
     "metadata": {},
     "output_type": "display_data"
    }
   ],
   "source": []
  },
  {
   "cell_type": "code",
   "execution_count": 9,
   "metadata": {},
   "outputs": [
    {
     "data": {
      "text/plain": [
       "DateTime"
      ]
     },
     "metadata": {},
     "output_type": "display_data"
    }
   ],
   "source": [
    "typeof(im.productFirstLineUtcTime)"
   ]
  },
  {
   "cell_type": "code",
   "execution_count": 15,
   "metadata": {},
   "outputs": [
    {
     "data": {
      "text/plain": [
       "2022-06-12T17:33:29"
      ]
     },
     "metadata": {},
     "output_type": "display_data"
    }
   ],
   "source": [
    "DateTime(meta_dict[\"product\"][\"imageAnnotation\"][\"imageInformation\"][\"productFirstLineUtcTime\"][1:19])"
   ]
  },
  {
   "cell_type": "code",
   "execution_count": 31,
   "metadata": {},
   "outputs": [
    {
     "data": {
      "text/plain": [
       "OrderedCollections.OrderedDict{Any, Any} with 19 entries:\n",
       "  \"productFirstLineUtcTime\" => \"2022-06-12T17:33:29.384150\"\n",
       "  \"productLastLineUtcTime\"  => \"2022-06-12T17:33:54.382483\"\n",
       "  \"ascendingNodeTime\"       => \"2022-06-12T17:19:35.492551\"\n",
       "  \"anchorTime\"              => \"2022-06-12T17:27:35.683514\"\n",
       "  \"productComposition\"      => \"Slice\"\n",
       "  \"sliceNumber\"             => \"15\"\n",
       "  \"sliceList\"               => OrderedCollections.OrderedDict{Any, Any}(:count=…\n",
       "  \"slantRangeTime\"          => \"5.336815623651522e-03\"\n",
       "  \"pixelValue\"              => \"Detected\"\n",
       "  \"outputPixels\"            => \"16 bit Unsigned Integer\"\n",
       "  \"rangePixelSpacing\"       => \"1.000000e+01\"\n",
       "  \"azimuthPixelSpacing\"     => \"1.000000e+01\"\n",
       "  \"azimuthTimeInterval\"     => \"1.498521330831371e-03\"\n",
       "  \"azimuthFrequency\"        => \"4.864863102995529e+02\"\n",
       "  \"numberOfSamples\"         => \"26316\"\n",
       "  \"numberOfLines\"           => \"16683\"\n",
       "  \"zeroDopMinusAcqTime\"     => \"3.491769190000000e+02\"\n",
       "  \"incidenceAngleMidSwath\"  => \"3.870540548481883e+01\"\n",
       "  \"imageStatistics\"         => OrderedCollections.OrderedDict{Any, Any}(\"output…"
      ]
     },
     "metadata": {},
     "output_type": "display_data"
    }
   ],
   "source": [
    "meta_dict[\"product\"][\"imageAnnotation\"][\"imageInformation\"]"
   ]
  },
  {
   "cell_type": "code",
   "execution_count": 27,
   "metadata": {},
   "outputs": [
    {
     "data": {
      "text/plain": [
       "OrderedCollections.OrderedDict{Any, Any} with 2 entries:\n",
       "  \"re\" => \"4.550701e+01\"\n",
       "  \"im\" => \"0.000000e+00\""
      ]
     },
     "metadata": {},
     "output_type": "display_data"
    }
   ],
   "source": [
    "meta_dict[\"product\"][\"imageAnnotation\"][\"imageInformation\"][\"imageStatistics\"][\"outputDataStdDev\"]"
   ]
  },
  {
   "cell_type": "code",
   "execution_count": 30,
   "metadata": {},
   "outputs": [
    {
     "data": {
      "text/plain": [
       "OrderedCollections.OrderedDict{Any, Any} with 3 entries:\n",
       "  \"sliceNumber\"      => \"1\"\n",
       "  \"sensingStartTime\" => \"2022-06-12T17:27:36.474464\"\n",
       "  \"sensingStopTime\"  => \"2022-06-12T17:28:06.803269\""
      ]
     },
     "metadata": {},
     "output_type": "display_data"
    }
   ],
   "source": [
    "meta_dict[\"product\"][\"imageAnnotation\"][\"imageInformation\"][\"sliceList\"][\"slice\"][1]"
   ]
  },
  {
   "cell_type": "code",
   "execution_count": 20,
   "metadata": {},
   "outputs": [
    {
     "data": {
      "text/plain": [
       "OrderedCollections.OrderedDict{Any, Any} with 3 entries:\n",
       "  \"sliceNumber\"      => \"1\"\n",
       "  \"sensingStartTime\" => \"2022-06-12T17:27:36.474464\"\n",
       "  \"sensingStopTime\"  => \"2022-06-12T17:28:06.803269\""
      ]
     },
     "metadata": {},
     "output_type": "display_data"
    }
   ],
   "source": [
    "meta_dict[\"product\"][\"imageAnnotation\"][\"imageInformation\"][\"sliceList\"][\"slice\"][1]"
   ]
  },
  {
   "cell_type": "code",
   "execution_count": 12,
   "metadata": {},
   "outputs": [
    {
     "data": {
      "text/plain": [
       "OrderedCollections.OrderedDict{Any, Any} with 29 entries:\n",
       "  \"rawDataAnalysisUsed\"     => \"true\"\n",
       "  \"orbitDataFileUsed\"       => \"true\"\n",
       "  \"attitudeDataFileUsed\"    => \"false\"\n",
       "  \"rxVariationCorrectionAp… => \"true\"\n",
       "  \"antennaElevationPattern… => \"true\"\n",
       "  \"antennaAzimuthPatternAp… => \"true\"\n",
       "  \"antennaAzimuthElementPa… => \"true\"\n",
       "  \"dcMethod\"                => \"Data Analysis\"\n",
       "  \"dcInputData\"             => \"Range Compressed\"\n",
       "  \"rangeSpreadingLossCompe… => \"true\"\n",
       "  \"srgrConversionApplied\"   => \"true\"\n",
       "  \"detectionPerformed\"      => \"true\"\n",
       "  \"thermalNoiseCorrectionP… => \"false\"\n",
       "  \"rfiMitigationPerformed\"  => \"BasedOnNoiseMeas\"\n",
       "  \"rfiMitigationDomain\"     => \"TimeAndFrequency\"\n",
       "  \"chirpSource\"             => \"Nominal\"\n",
       "  \"pgSource\"                => \"Extracted\"\n",
       "  \"rrfSpectrum\"             => \"Extended Tapered\"\n",
       "  \"applicationLutId\"        => \"IW_Default\"\n",
       "  ⋮                         => ⋮"
      ]
     },
     "metadata": {},
     "output_type": "display_data"
    }
   ],
   "source": [
    "meta_dict[\"product\"][\"imageAnnotation\"][\"processingInformation\"]"
   ]
  },
  {
   "cell_type": "code",
   "execution_count": null,
   "metadata": {},
   "outputs": [],
   "source": [
    "[\"generalAnnotation\"]"
   ]
  },
  {
   "cell_type": "markdown",
   "metadata": {},
   "source": [
    "# Headr"
   ]
  },
  {
   "cell_type": "code",
   "execution_count": null,
   "metadata": {},
   "outputs": [],
   "source": [
    "function get_reference_time(meta_dict)::DateTime\n",
    "    start_time = meta_dict[\"product\"][\"adsHeader\"][\"startTime\"]\n",
    "    reference_time = DateTime(start_time[1:19])\n",
    "    return reference_time\n",
    "end\n",
    "\n",
    "function parse_delta_time(time_string::String,reference_time::DateTime)\n",
    "    milliseconds = Dates.value( DateTime(time_string[1:23]) - reference_time)\n",
    "    microseconds = parse(Int, time_string[24:26])\n",
    "    return milliseconds /1000.0 + microseconds*  10^-6\n",
    "end"
   ]
  },
  {
   "cell_type": "code",
   "execution_count": null,
   "metadata": {},
   "outputs": [],
   "source": [
    "\"\"\"\n",
    "    Sentinel1Header\n",
    "\n",
    "returns structure of Sentinel1Header from metadata in .xml\n",
    "\"\"\"\n",
    "Base.@kwdef struct Sentinel1Header\n",
    "    mission_id::String\n",
    "    product_type::String\n",
    "    polarisation::Polarisation\n",
    "    swath::Swath\n",
    "    mode::String\n",
    "    start_time::Float64\n",
    "    stop_time::Float64\n",
    "    absolute_orbit_number::Int\n",
    "    image_number::String\n",
    "end"
   ]
  },
  {
   "cell_type": "code",
   "execution_count": null,
   "metadata": {},
   "outputs": [],
   "source": []
  },
  {
   "cell_type": "code",
   "execution_count": null,
   "metadata": {},
   "outputs": [],
   "source": [
    "\"\"\"\"\n",
    "    Sentinel1Header\n",
    "\n",
    "Constructors for the Sentinel1Header structure.\n",
    "\n",
    "It takes a dictionary containing the full sentinel-1 swath metadata and extracts the Sentinel1Header as a structure. Input in the header file:\n",
    "- `missionId`: Mission identifier for this data set.\n",
    "- `productType`: Product type for this data set.\n",
    "- `polarisation`: Polarisation for this data set.\n",
    "- `swath`: Swath identifier for this data set. This element identifies the swath that applies to all data contained within this data set. The swath identifier \"EW\" is used for products in which the 5 EW swaths have been merged. Likewise, \"IW\" is used for products in which the 3 IW swaths have been merged.\n",
    "- `mode`: Sensor mode for this data set.\n",
    "- `start_time`: Zero Doppler start time of the output image [UTC].\n",
    "- `stop_time`: Zero Doppler stop time of the output image [UTC].\n",
    "- `absolute_orbit_number`: Absolute orbit number at data set start time.\n",
    "- `image_number`: Image number. For WV products the image number is used to distinguish between vignettes. For SM, IW and EW modes the image number is still used but refers instead to each swath and polarisation combination (known as the 'channel') of the data.\n",
    "\n",
    "# Input\n",
    "- `meta_dict[dict]`: a dictionary of the metadata.\n",
    "\n",
    "# Output\n",
    "- `Sentinel1Header[structure of Sentinel1Header]`\n",
    "\n",
    "\"\"\"\n",
    "function Sentinel1Header(meta_dict)::Sentinel1Header\n",
    "\n",
    "    reference_time = get_reference_time(meta_dict)\n",
    "\n",
    "\n",
    "\n",
    "    missionId = meta_dict[\"product\"][\"adsHeader\"][\"missionId\"]\n",
    "    productType = meta_dict[\"product\"][\"adsHeader\"][\"productType\"]\n",
    "    polarisation = convert_to_polarisation(meta_dict[\"product\"][\"adsHeader\"][\"polarisation\"])\n",
    "    swath = meta_dict[\"product\"][\"adsHeader\"][\"swath\"]\n",
    "    mode = meta_dict[\"product\"][\"adsHeader\"][\"mode\"]\n",
    "    start_time = meta_dict[\"product\"][\"adsHeader\"][\"startTime\"]\n",
    "    stop_time = meta_dict[\"product\"][\"adsHeader\"][\"stopTime\"]\n",
    "    absolute_orbit_number = meta_dict[\"product\"][\"adsHeader\"][\"absoluteOrbitNumber\"]\n",
    "    image_number = meta_dict[\"product\"][\"adsHeader\"][\"imageNumber\"]\n",
    "    stop_time = parse_delta_time(stop_time,reference_time)\n",
    "    start_time = parse_delta_time(start_time,reference_time)\n",
    "    absolute_orbit_number = parse(Int, absolute_orbit_number)\n",
    "    swath = convert_to_swath(swath)\n",
    "\n",
    "\n",
    "    header = Sentinel1Header(missionId,\n",
    "        productType,\n",
    "        polarisation,\n",
    "        swath,\n",
    "        mode,\n",
    "        start_time,\n",
    "        stop_time,\n",
    "        absolute_orbit_number,\n",
    "        image_number)\n",
    "    return header\n",
    "end\n"
   ]
  },
  {
   "cell_type": "code",
   "execution_count": null,
   "metadata": {},
   "outputs": [],
   "source": [
    "header = Sentinel1Header1(meta_dict)"
   ]
  },
  {
   "cell_type": "code",
   "execution_count": null,
   "metadata": {},
   "outputs": [],
   "source": [
    "meta_dict[\"product\"][\"adsHeader\"][\"polarisation\"]"
   ]
  },
  {
   "cell_type": "code",
   "execution_count": null,
   "metadata": {},
   "outputs": [],
   "source": []
  },
  {
   "cell_type": "code",
   "execution_count": null,
   "metadata": {},
   "outputs": [],
   "source": []
  },
  {
   "cell_type": "code",
   "execution_count": null,
   "metadata": {},
   "outputs": [],
   "source": [
    "Sentinel1ProductInformation(meta_dict)"
   ]
  },
  {
   "cell_type": "code",
   "execution_count": null,
   "metadata": {},
   "outputs": [],
   "source": [
    "Sentinel1ImageInformation(meta_dict)"
   ]
  },
  {
   "cell_type": "code",
   "execution_count": null,
   "metadata": {},
   "outputs": [],
   "source": [
    "\n",
    "Sentinel1SwathTiming(meta_dict)"
   ]
  },
  {
   "cell_type": "code",
   "execution_count": null,
   "metadata": {},
   "outputs": [],
   "source": [
    "burst = meta_dict[\"product\"][\"adsHeader\"]"
   ]
  },
  {
   "cell_type": "code",
   "execution_count": null,
   "metadata": {},
   "outputs": [],
   "source": [
    "meta_dict[\"product\"][\"generalAnnotation\"][\"rawDataAnalysisList\"][\"rawDataAnalysis\"]"
   ]
  },
  {
   "cell_type": "code",
   "execution_count": null,
   "metadata": {},
   "outputs": [],
   "source": [
    "[\"geolocationGrid\"]"
   ]
  },
  {
   "cell_type": "code",
   "execution_count": null,
   "metadata": {},
   "outputs": [],
   "source": [
    "meta_dict[\"product\"][\"generalAnnotation\"]"
   ]
  },
  {
   "cell_type": "code",
   "execution_count": null,
   "metadata": {},
   "outputs": [],
   "source": [
    "Base.@kwdef struct Sentinel1Header\n",
    "    mission_id::String\n",
    "    product_type::String\n",
    "    polarisation::Polarisation\n",
    "    mission_data_take_id::Int\n",
    "    swath::Int\n",
    "    mode::String\n",
    "    start_time::Float64\n",
    "    stop_time::Float64\n",
    "    absolute_orbit_number::Int\n",
    "    image_number::String\n",
    "end"
   ]
  },
  {
   "cell_type": "code",
   "execution_count": null,
   "metadata": {},
   "outputs": [],
   "source": [
    "burst = meta_dict[\"product\"][\"swathMerging\"][\"swathMergeList\"][\"swathMerge\"]"
   ]
  },
  {
   "cell_type": "code",
   "execution_count": null,
   "metadata": {},
   "outputs": [],
   "source": [
    "[\"swathTiming\"][\"burstList\"][\"burst\"][burst_number]"
   ]
  },
  {
   "cell_type": "code",
   "execution_count": null,
   "metadata": {},
   "outputs": [],
   "source": [
    "get_sentinel1_burst_information(meta_dict,reference_time)"
   ]
  },
  {
   "cell_type": "code",
   "execution_count": null,
   "metadata": {},
   "outputs": [],
   "source": [
    "Sentinel1GeolocationGrid(meta_dict,reference_time)"
   ]
  },
  {
   "cell_type": "code",
   "execution_count": null,
   "metadata": {},
   "outputs": [],
   "source": [
    "\n",
    "\n",
    "\n"
   ]
  },
  {
   "cell_type": "code",
   "execution_count": null,
   "metadata": {},
   "outputs": [],
   "source": [
    "#dic1 = getDictofXml(pa[1])\n",
    "#dic2 = getDictofXml(pa[2])\n",
    "#pa = getAnnotationPaths(\"/Users/kaaso/Documents/coding/JuliaEO2024/data/S1A_IW_GRDH_1SDV_20220612T173329_20220612T173354_043633_05359A_EA25.SAFE\")"
   ]
  },
  {
   "cell_type": "markdown",
   "metadata": {},
   "source": []
  },
  {
   "cell_type": "code",
   "execution_count": null,
   "metadata": {},
   "outputs": [],
   "source": []
  },
  {
   "cell_type": "code",
   "execution_count": null,
   "metadata": {},
   "outputs": [],
   "source": []
  },
  {
   "cell_type": "code",
   "execution_count": null,
   "metadata": {},
   "outputs": [],
   "source": []
  },
  {
   "cell_type": "code",
   "execution_count": null,
   "metadata": {},
   "outputs": [],
   "source": []
  },
  {
   "cell_type": "code",
   "execution_count": null,
   "metadata": {},
   "outputs": [],
   "source": []
  },
  {
   "cell_type": "code",
   "execution_count": null,
   "metadata": {},
   "outputs": [],
   "source": [
    "#dic1 = getDictofXml(pa[1])\n",
    "#dic2 = getDictofXml(pa[2])\n",
    "#"
   ]
  },
  {
   "cell_type": "code",
   "execution_count": null,
   "metadata": {},
   "outputs": [],
   "source": []
  },
  {
   "cell_type": "code",
   "execution_count": null,
   "metadata": {},
   "outputs": [],
   "source": []
  },
  {
   "cell_type": "code",
   "execution_count": null,
   "metadata": {},
   "outputs": [],
   "source": []
  },
  {
   "cell_type": "code",
   "execution_count": null,
   "metadata": {},
   "outputs": [],
   "source": [
    "Sentinel1Header(meta_dict,reference_time)"
   ]
  },
  {
   "cell_type": "code",
   "execution_count": null,
   "metadata": {},
   "outputs": [],
   "source": []
  },
  {
   "cell_type": "code",
   "execution_count": null,
   "metadata": {},
   "outputs": [],
   "source": [
    "metadata = Sentinel1MetaData(pa[1])"
   ]
  },
  {
   "cell_type": "code",
   "execution_count": null,
   "metadata": {},
   "outputs": [],
   "source": []
  },
  {
   "cell_type": "code",
   "execution_count": null,
   "metadata": {},
   "outputs": [],
   "source": [
    "\n",
    "get_polarisation(meta_data::Sentinel1MetaData) = meta_data.header.polarisation\n",
    "get_range_sampling_rate(meta_data::Sentinel1MetaData) = meta_data.product.range_sampling_rate\n",
    "get_azimuth_frequency(meta_data::Sentinel1MetaData) = meta_data.image.azimuth_frequency\n",
    "get_slant_range_time_seconds(meta_data::Sentinel1MetaData) = meta_data.image.slant_range_time_seconds\n",
    "get_time_range(meta_data::Sentinel1MetaData) = (meta_data.header.start_time, meta_data.header.stop_time)\n",
    "get_reference_time(meta_data::Sentinel1MetaData) = meta_data.reference_time\n",
    "get_incidence_angle_mid_degrees(meta_data::Sentinel1MetaData)= meta_data.image.incidence_angle_mid_swath\n",
    "\n",
    "\n",
    "\n",
    "## implement interface\n",
    "get_metadata(image::Sentinel1SLC) = image.metadata;\n",
    "get_data(image::Sentinel1SLC) = image.data;\n",
    "is_deramped(image::Sentinel1SLC) = image.deramped;"
   ]
  },
  {
   "cell_type": "code",
   "execution_count": null,
   "metadata": {},
   "outputs": [],
   "source": [
    "\n",
    "\n",
    "\n",
    "function get_burst_start_times(meta_data::Sentinel1MetaData)\n",
    "    return [element.azimuth_time for element in meta_data.bursts]\n",
    "end\n",
    "\n",
    "function get_burst_mid_times(meta_data::Sentinel1MetaData)\n",
    "    return get_burst_start_times(meta_data) .+ get_burst_duration(meta_data)/2\n",
    "end\n",
    "\n",
    "function get_burst_end_times(meta_data::Sentinel1MetaData)\n",
    "    return get_burst_start_times(meta_data) .+ get_burst_duration(meta_data)\n",
    "end\n",
    "\n",
    "function get_burst_duration(meta_data::Sentinel1MetaData)\n",
    "    lines_per_burst = meta_data.swath.lines_per_burst\n",
    "    azimuth_frequency = meta_data.image.azimuth_frequency\n",
    "    burst_duration_in_seconds = lines_per_burst /azimuth_frequency\n",
    "    return burst_duration_in_seconds\n",
    "end\n",
    "\n",
    "function get_burst_row_offset(meta_data::Sentinel1MetaData)\n",
    "    azimuth_frequency = get_azimuth_frequency(meta_data)\n",
    "    bursts_start_times = get_burst_start_times(meta_data)\n",
    "    time_delta_bursts = bursts_start_times .- meta_data.header.start_time\n",
    "    burst_row_offset = time_delta_bursts.* azimuth_frequency\n",
    "    return burst_row_offset\n",
    "end\n",
    "\n",
    "function get_burst_start_row(meta_data::Sentinel1MetaData)\n",
    "    lines_per_burst = meta_data.swath.lines_per_burst\n",
    "\n",
    "    return 1 .+ [n*lines_per_burst for n in 0:(length(meta_data.bursts)-1)]\n",
    "\n",
    "end\n",
    "\n",
    "\n",
    "\"\"\"\n",
    "    get_image_rows(meta_data::Sentinel1MetaData, row_from_first_burst)\n",
    "\n",
    "Converts the row number representing a unique azimuth time, row_from_first_burst,\n",
    "to the number in the full image. Note that two results are returned when the row appears in\n",
    "two bursts\n",
    "\"\"\"\n",
    "function get_image_rows(meta_data::Sentinel1MetaData, row_from_first_burst)\n",
    "    burst_row_offset = get_burst_row_offset(meta_data)\n",
    "    lines_per_burst = meta_data.swath.lines_per_burst\n",
    "    burst_start_row = get_burst_start_row(meta_data)\n",
    "\n",
    "    row_in_burst = row_from_first_burst .- burst_row_offset\n",
    "\n",
    "    is_row_in_burst =  (1 .<= row_in_burst) .& (row_in_burst .<= lines_per_burst)\n",
    "\n",
    "    image_row = row_in_burst .+ burst_start_row .- 1\n",
    "\n",
    "    return image_row[is_row_in_burst]\n",
    "end\n",
    "\n",
    "\n",
    "\n",
    "\n",
    "\"\"\"\n",
    "    get_window(image::Sentinel1SLC)\n",
    "\n",
    "Returns the window of the complete Sentinel image covered the \"image\"\n",
    "\"\"\"\n",
    "function get_window(image::Sentinel1SLC)\n",
    "    rows_start = image.index_start[1]\n",
    "    rows_end = size(image.data)[1] + image.index_start[1] - 1\n",
    "\n",
    "    columns_start = image.index_start[2]\n",
    "    columns_end = size(image.data)[2] + image.index_start[2] - 1\n",
    "\n",
    "    return [[rows_start, rows_end],[columns_start, columns_end]]\n",
    "end\n",
    "\n",
    "\"\"\"\n",
    "    get_burst_numbers(image::Sentinel1SLC)\n",
    "\n",
    "Returns list of burst included in the image subset\n",
    "\"\"\"\n",
    "function get_burst_numbers(image::Sentinel1SLC)\n",
    "    lines_per_burst = image.metadata.swath.lines_per_burst\n",
    "    window = get_window(image)\n",
    "    index_1_range = window[1]\n",
    "\n",
    "    burst_start = Integer(ceil( (index_1_range[1]-1) / lines_per_burst))\n",
    "    burst_end = Integer(ceil( (index_1_range[2]-1) / lines_per_burst))\n",
    "\n",
    "    return burst_start:burst_end\n",
    "end\n",
    "\n",
    "\n",
    "function get_burst_mid_times(image::Sentinel1SLC)\n",
    "    mid_times = get_burst_mid_times(image.metadata)\n",
    "    return mid_times\n",
    "end\n",
    "\n",
    "\n"
   ]
  }
 ],
 "metadata": {
  "kernelspec": {
   "display_name": "Julia 1.9.4",
   "language": "julia",
   "name": "julia-1.9"
  },
  "language_info": {
   "file_extension": ".jl",
   "mimetype": "application/julia",
   "name": "julia",
   "version": "1.9.4"
  }
 },
 "nbformat": 4,
 "nbformat_minor": 2
}
