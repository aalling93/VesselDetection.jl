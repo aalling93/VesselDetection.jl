{
 "cells": [
  {
   "cell_type": "code",
   "execution_count": 1,
   "metadata": {},
   "outputs": [
    {
     "data": {
      "text/plain": [
       "download_product (generic function with 1 method)"
      ]
     },
     "metadata": {},
     "output_type": "display_data"
    }
   ],
   "source": [
    "using Pkg\n",
    "using DotEnv\n",
    "include(\"src/download.jl\")\n"
   ]
  },
  {
   "cell_type": "code",
   "execution_count": 2,
   "metadata": {},
   "outputs": [
    {
     "ename": "MethodError",
     "evalue": "MethodError: no method matching get_access_token(::String, ::String)",
     "output_type": "error",
     "traceback": [
      "MethodError: no method matching get_access_token(::String, ::String)\n",
      "\n",
      "Stacktrace:\n",
      " [1] top-level scope\n",
      "   @ ~/Documents/coding/JuliaEO2024/Odata.ipynb:4"
     ]
    }
   ],
   "source": [
    "DotEnv.config();\n",
    "username = get(ENV, \"DATASPACE_USERNAME\", \"\");\n",
    "password = get(ENV, \"DATASPACE_PASSWORD\", \"\");\n",
    "access_token = get_access_token(get(ENV, \"DATASPACE_USERNAME\", \"\"), get(ENV, \"DATASPACE_PASSWORD\", \"\"));"
   ]
  },
  {
   "cell_type": "code",
   "execution_count": 33,
   "metadata": {},
   "outputs": [
    {
     "name": "stdout",
     "output_type": "stream",
     "text": [
      "Request successful.\n"
     ]
    }
   ],
   "source": [
    "data = download_sentinel_metadata(product_type= \"GRD\",verbose=1);\n",
    "df = vector_of_dicts_to_dataframe(data[\"features\"]);"
   ]
  },
  {
   "cell_type": "code",
   "execution_count": 3,
   "metadata": {},
   "outputs": [
    {
     "ename": "UndefVarError",
     "evalue": "UndefVarError: access_token not defined",
     "output_type": "error",
     "traceback": [
      "UndefVarError: access_token not defined\n"
     ]
    }
   ],
   "source": [
    "access_token"
   ]
  },
  {
   "cell_type": "code",
   "execution_count": 72,
   "metadata": {},
   "outputs": [
    {
     "name": "stdout",
     "output_type": "stream",
     "text": [
      "\u001b[1m8×51 DataFrame\u001b[0m\n",
      "\u001b[1m Row \u001b[0m│\u001b[1m properties_polarisation \u001b[0m\u001b[1m properties_license_viewService \u001b[0m\u001b[1m properties_status \u001b[0m\u001b[1m properties_swath \u001b[0m\u001b[1m properties_centroid_type \u001b[0m\u001b[1m properties_license_hasToBeSigned \u001b[0m\u001b[1m properties_updated       \u001b[0m\u001b[1m properties_productType \u001b[0m\u001b[1m properties_platform \u001b[0m\u001b[1m properties_license_description_shortName \u001b[0m\u001b[1m properties_parentIdentifier \u001b[0m\u001b[1m properties_instrument \u001b[0m\u001b[1m properties_license_grantedFlags \u001b[0m\u001b[1m properties_description            \u001b[0m\u001b[1m properties_productIdentifier      \u001b[0m\u001b[1m properties_resolution \u001b[0m\u001b[1m properties_completionDate \u001b[0m\u001b[1m properties_links_1_title          \u001b[0m\u001b[1m properties_links_1_type \u001b[0m\u001b[1m geometry_type \u001b[0m\u001b[1m properties_services_download_url  \u001b[0m\u001b[1m properties_services_download_mimeType \u001b[0m\u001b[1m properties_orbitDirection \u001b[0m\u001b[1m properties_title                  \u001b[0m\u001b[1m properties_thumbnail              \u001b[0m\u001b[1m geometry_coordinates_1            \u001b[0m\u001b[1m properties_license_licenseId \u001b[0m\u001b[1m properties_cloudCover \u001b[0m\u001b[1m id                                \u001b[0m\u001b[1m properties_links_1_rel \u001b[0m\u001b[1m properties_processingLevel \u001b[0m\u001b[1m properties_gmlgeometry            \u001b[0m\u001b[1m properties_centroid_coordinates_2 \u001b[0m\u001b[1m properties_startDate     \u001b[0m\u001b[1m properties_license_signatureQuota \u001b[0m\u001b[1m properties_license_grantedOrganizationCountries \u001b[0m\u001b[1m properties_processingBaseline \u001b[0m\u001b[1m properties_sensorMode \u001b[0m\u001b[1m properties_published     \u001b[0m\u001b[1m properties_snowCover \u001b[0m\u001b[1m properties_quicklook \u001b[0m\u001b[1m properties_organisationName \u001b[0m\u001b[1m properties_collection \u001b[0m\u001b[1m properties_links_1_href           \u001b[0m\u001b[1m properties_timeliness \u001b[0m\u001b[1m properties_services_download_size \u001b[0m\u001b[1m properties_license_grantedCountries \u001b[0m\u001b[1m properties_relativeOrbitNumber \u001b[0m\u001b[1m properties_centroid_coordinates_1 \u001b[0m\u001b[1m properties_orbitNumber \u001b[0m\u001b[1m type    \u001b[0m\n",
      "     │\u001b[90m String                  \u001b[0m\u001b[90m String                         \u001b[0m\u001b[90m String            \u001b[0m\u001b[90m String           \u001b[0m\u001b[90m String                   \u001b[0m\u001b[90m String                           \u001b[0m\u001b[90m String                   \u001b[0m\u001b[90m String                 \u001b[0m\u001b[90m String              \u001b[0m\u001b[90m String                                   \u001b[0m\u001b[90m Nothing                     \u001b[0m\u001b[90m String                \u001b[0m\u001b[90m Nothing                         \u001b[0m\u001b[90m String                            \u001b[0m\u001b[90m String                            \u001b[0m\u001b[90m Float64               \u001b[0m\u001b[90m String                    \u001b[0m\u001b[90m String                            \u001b[0m\u001b[90m String                  \u001b[0m\u001b[90m String        \u001b[0m\u001b[90m String                            \u001b[0m\u001b[90m String                                \u001b[0m\u001b[90m String                    \u001b[0m\u001b[90m String                            \u001b[0m\u001b[90m String                            \u001b[0m\u001b[90m Vector{Any}                       \u001b[0m\u001b[90m String                       \u001b[0m\u001b[90m Int64                 \u001b[0m\u001b[90m String                            \u001b[0m\u001b[90m String                 \u001b[0m\u001b[90m String                     \u001b[0m\u001b[90m String                            \u001b[0m\u001b[90m Float64                           \u001b[0m\u001b[90m String                   \u001b[0m\u001b[90m Int64                             \u001b[0m\u001b[90m Nothing                                         \u001b[0m\u001b[90m Int64                         \u001b[0m\u001b[90m String                \u001b[0m\u001b[90m String                   \u001b[0m\u001b[90m Int64                \u001b[0m\u001b[90m Nothing              \u001b[0m\u001b[90m String                      \u001b[0m\u001b[90m String                \u001b[0m\u001b[90m String                            \u001b[0m\u001b[90m String                \u001b[0m\u001b[90m Int64                             \u001b[0m\u001b[90m Nothing                             \u001b[0m\u001b[90m Int64                          \u001b[0m\u001b[90m Float64                           \u001b[0m\u001b[90m Int64                  \u001b[0m\u001b[90m String  \u001b[0m\n",
      "─────┼───────────────────────────────────────────────────────────────────────────────────────────────────────────────────────────────────────────────────────────────────────────────────────────────────────────────────────────────────────────────────────────────────────────────────────────────────────────────────────────────────────────────────────────────────────────────────────────────────────────────────────────────────────────────────────────────────────────────────────────────────────────────────────────────────────────────────────────────────────────────────────────────────────────────────────────────────────────────────────────────────────────────────────────────────────────────────────────────────────────────────────────────────────────────────────────────────────────────────────────────────────────────────────────────────────────────────────────────────────────────────────────────────────────────────────────────────────────────────────────────────────────────────────────────────────────────────────────────────────────────────────────────────────────────────────────────────────────────────────────────────────────────────────────────────────────────────────────────────────────────────────────────────────────────────────────────────────────────────────────────────────────────────────────────────────────────────────────────────────────────────────────────────────────────────────────────────────────────────────────────────────────────────────────────────────\n",
      "   1 │ VV&VH                    public                          ONLINE             IW                Point                     never                             2022-06-21T07:13:49.583Z  IW_GRDH_1S              S1A                  No license                               \u001b[90m                             \u001b[0m SAR                   \u001b[90m                                 \u001b[0m The Sentinel-1 mission is the Eu…  /eodata/Sentinel-1/SAR/GRD/2022/…                   10.0  2022-06-21T05:59:30.853Z   GeoJSON link for 8bb78fee-2441-5…  application/json         Polygon        https://catalogue.dataspace.cope…  application/octet-stream               DESCENDING                 S1A_IW_GRDH_1SDV_20220621T055905…  http://codede.data.cloud.code-de…  Any[Any[4.99431, 49.5091], Any[5…  unlicensed                                        0  8bb78fee-2441-57d2-b020-2e951450…  self                    LEVEL1                      <gml:Polygon srsName=\"EPSG:4326\"…                            50.4647  2022-06-21T05:59:05.854Z                                 -1 \u001b[90m                                                 \u001b[0m                             0  IW                     2022-06-21T07:13:49.583Z                     0 \u001b[90m                      \u001b[0m ESA                          SENTINEL-1             https://catalogue.dataspace.cope…  NRT-3h                                                 0 \u001b[90m                                     \u001b[0m                            110                            3.40036                   43757  Feature\n",
      "   2 │ VV&VH                    public                          ONLINE             IW                Point                     never                             2022-06-19T18:34:27.671Z  IW_GRDH_1S              S1A                  No license                               \u001b[90m                             \u001b[0m SAR                   \u001b[90m                                 \u001b[0m The Sentinel-1 mission is the Eu…  /eodata/Sentinel-1/SAR/GRD/2022/…                   10.0  2022-06-19T17:25:23.646Z   GeoJSON link for 19ba6517-a22f-5…  application/json         Polygon        https://catalogue.dataspace.cope…  application/octet-stream               ASCENDING                  S1A_IW_GRDH_1SDV_20220619T172458…  http://codede.data.cloud.code-de…  Any[Any[3.96067, 51.3999], Any[4…  unlicensed                                        0  19ba6517-a22f-5e18-8fce-67af19ce…  self                    LEVEL1                      <gml:Polygon srsName=\"EPSG:4326\"…                            50.8617  2022-06-19T17:24:58.649Z                                 -1 \u001b[90m                                                 \u001b[0m                             0  IW                     2022-06-19T18:34:27.671Z                     0 \u001b[90m                      \u001b[0m ESA                          SENTINEL-1             https://catalogue.dataspace.cope…  NRT-3h                                                 0 \u001b[90m                                     \u001b[0m                             88                            6.04345                   43735  Feature\n",
      "   3 │ VV&VH                    public                          ONLINE             IW                Point                     never                             2022-06-21T07:15:26.077Z  IW_GRDH_1S              S1A                  No license                               \u001b[90m                             \u001b[0m SAR                   \u001b[90m                                 \u001b[0m The Sentinel-1 mission is the Eu…  /eodata/Sentinel-1/SAR/GRD/2022/…                   10.0  2022-06-21T05:59:05.853Z   GeoJSON link for 8c4ecdb7-079a-5…  application/json         Polygon        https://catalogue.dataspace.cope…  application/octet-stream               DESCENDING                 S1A_IW_GRDH_1SDV_20220621T055840…  http://codede.data.cloud.code-de…  Any[Any[5.47245, 51.0029], Any[5…  unlicensed                                        0  8c4ecdb7-079a-534d-a398-24354168…  self                    LEVEL1                      <gml:Polygon srsName=\"EPSG:4326\"…                            51.9593  2022-06-21T05:58:40.854Z                                 -1 \u001b[90m                                                 \u001b[0m                             0  IW                     2022-06-21T07:15:26.077Z                     0 \u001b[90m                      \u001b[0m ESA                          SENTINEL-1             https://catalogue.dataspace.cope…  NRT-3h                                                 0 \u001b[90m                                     \u001b[0m                            110                            3.827                     43757  Feature\n",
      "   4 │ VV&VH                    public                          ONLINE             IW                Point                     never                             2022-06-12T18:34:22.011Z  IW_GRDH_1S              S1A                  No license                               \u001b[90m                             \u001b[0m SAR                   \u001b[90m                                 \u001b[0m The Sentinel-1 mission is the Eu…  /eodata/Sentinel-1/SAR/GRD/2022/…                   10.0  2022-06-12T17:33:54.382Z   GeoJSON link for 28dc2094-33f4-5…  application/json         Polygon        https://catalogue.dataspace.cope…  application/octet-stream               ASCENDING                  S1A_IW_GRDH_1SDV_20220612T173329…  http://codede.data.cloud.code-de…  Any[Any[1.55501, 52.4422], Any[2…  unlicensed                                        0  28dc2094-33f4-5ea4-8e8e-890eb2c4…  self                    LEVEL1                      <gml:Polygon srsName=\"EPSG:4326\"…                            51.9049  2022-06-12T17:33:29.384Z                                 -1 \u001b[90m                                                 \u001b[0m                             0  IW                     2022-06-12T18:34:22.011Z                     0 \u001b[90m                      \u001b[0m ESA                          SENTINEL-1             https://catalogue.dataspace.cope…  NRT-3h                                                 0 \u001b[90m                                     \u001b[0m                            161                            3.68308                   43633  Feature\n",
      "   5 │ VV&VH                    public                          ONLINE             IW                Point                     never                             2022-06-17T12:40:33.784Z  IW_GRDH_1S              S1A                  No license                               \u001b[90m                             \u001b[0m SAR                   \u001b[90m                                 \u001b[0m The Sentinel-1 mission is the Eu…  /eodata/Sentinel-1/SAR/GRD/2022/…                   10.0  2022-06-16T05:50:56.498Z   GeoJSON link for ae17606f-bc39-5…  application/json         Polygon        https://catalogue.dataspace.cope…  application/octet-stream               DESCENDING                 S1A_IW_GRDH_1SDV_20220616T055031…  http://codede.data.cloud.code-de…  Any[Any[7.42722, 50.7078], Any[7…  unlicensed                                        0  ae17606f-bc39-54dd-bc57-67efac48…  self                    LEVEL1                      <gml:Polygon srsName=\"EPSG:4326\"…                            51.6637  2022-06-16T05:50:31.499Z                                 -1 \u001b[90m                                                 \u001b[0m                             0  IW                     2022-06-17T12:40:33.784Z                     0 \u001b[90m                      \u001b[0m ESA                          SENTINEL-1             https://catalogue.dataspace.cope…  NRT-3h                                                 0 \u001b[90m                                     \u001b[0m                             37                            5.79374                   43684  Feature\n",
      "   6 │ VV&VH                    public                          ONLINE             IW                Point                     never                             2022-06-17T12:41:02.905Z  IW_GRDH_1S              S1A                  No license                               \u001b[90m                             \u001b[0m SAR                   \u001b[90m                                 \u001b[0m The Sentinel-1 mission is the Eu…  /eodata/Sentinel-1/SAR/GRD/2022/…                   10.0  2022-06-16T05:51:21.499Z   GeoJSON link for 4c496182-e715-5…  application/json         Polygon        https://catalogue.dataspace.cope…  application/octet-stream               DESCENDING                 S1A_IW_GRDH_1SDV_20220616T055056…  http://codede.data.cloud.code-de…  Any[Any[6.95285, 49.2137], Any[7…  unlicensed                                        0  4c496182-e715-51cc-8da2-b4d16edd…  self                    LEVEL1                      <gml:Polygon srsName=\"EPSG:4326\"…                            50.169   2022-06-16T05:50:56.500Z                                 -1 \u001b[90m                                                 \u001b[0m                             0  IW                     2022-06-17T12:41:02.905Z                     0 \u001b[90m                      \u001b[0m ESA                          SENTINEL-1             https://catalogue.dataspace.cope…  NRT-3h                                                 0 \u001b[90m                                     \u001b[0m                             37                            5.36931                   43684  Feature\n",
      "   7 │ VV&VH                    public                          ONLINE             IW                Point                     never                             2022-06-12T18:31:32.384Z  IW_GRDH_1S              S1A                  No license                               \u001b[90m                             \u001b[0m SAR                   \u001b[90m                                 \u001b[0m The Sentinel-1 mission is the Eu…  /eodata/Sentinel-1/SAR/GRD/2022/…                   10.0  2022-06-12T17:33:29.382Z   GeoJSON link for 522c48a4-789a-5…  application/json         Polygon        https://catalogue.dataspace.cope…  application/octet-stream               ASCENDING                  S1A_IW_GRDH_1SDV_20220612T173304…  http://codede.data.cloud.code-de…  Any[Any[2.05104, 50.9494], Any[2…  unlicensed                                        0  522c48a4-789a-5f35-9d5e-32970e8e…  self                    LEVEL1                      <gml:Polygon srsName=\"EPSG:4326\"…                            50.4101  2022-06-12T17:33:04.384Z                                 -1 \u001b[90m                                                 \u001b[0m                             0  IW                     2022-06-12T18:31:32.384Z                     0 \u001b[90m                      \u001b[0m ESA                          SENTINEL-1             https://catalogue.dataspace.cope…  NRT-3h                                                 0 \u001b[90m                                     \u001b[0m                            161                            4.10929                   43633  Feature\n",
      "   8 │ VV&VH                    public                          ONLINE             IW                Point                     never                             2022-06-19T18:34:11.649Z  IW_GRDH_1S              S1A                  No license                               \u001b[90m                             \u001b[0m SAR                   \u001b[90m                                 \u001b[0m The Sentinel-1 mission is the Eu…  /eodata/Sentinel-1/SAR/GRD/2022/…                   10.0  2022-06-19T17:25:48.647Z   GeoJSON link for 7769d3d8-bf61-5…  application/json         Polygon        https://catalogue.dataspace.cope…  application/octet-stream               ASCENDING                  S1A_IW_GRDH_1SDV_20220619T172523…  http://codede.data.cloud.code-de…  Any[Any[3.45785, 52.8923], Any[3…  unlicensed                                        0  7769d3d8-bf61-57f6-a906-dc9dac50…  self                    LEVEL1                      <gml:Polygon srsName=\"EPSG:4326\"…                            52.3557  2022-06-19T17:25:23.648Z                                 -1 \u001b[90m                                                 \u001b[0m                             0  IW                     2022-06-19T18:34:11.649Z                     0 \u001b[90m                      \u001b[0m ESA                          SENTINEL-1             https://catalogue.dataspace.cope…  NRT-3h                                                 0 \u001b[90m                                     \u001b[0m                             88                            5.60876                   43735  Feature\n"
     ]
    }
   ],
   "source": [
    "println(df)"
   ]
  },
  {
   "cell_type": "code",
   "execution_count": 55,
   "metadata": {},
   "outputs": [
    {
     "data": {
      "text/plain": [
       "\"GeoJSON link for 8bb78fee-2441-57d2-b020-2e951450ec9b\""
      ]
     },
     "metadata": {},
     "output_type": "display_data"
    }
   ],
   "source": [
    "df.properties_links_1_title[1]"
   ]
  },
  {
   "cell_type": "code",
   "execution_count": 73,
   "metadata": {},
   "outputs": [
    {
     "data": {
      "text/plain": [
       "\"8bb78fee-2441-57d2-b020-2e951450ec9b\""
      ]
     },
     "metadata": {},
     "output_type": "display_data"
    }
   ],
   "source": [
    "df.id[1]"
   ]
  },
  {
   "cell_type": "code",
   "execution_count": 59,
   "metadata": {},
   "outputs": [
    {
     "data": {
      "text/plain": [
       "\"https://catalogue.dataspace.copernicus.eu/resto/collections/SENTINEL-1/8bb78fee-2441-57d2-b020-2e951450ec9b.json\""
      ]
     },
     "metadata": {},
     "output_type": "display_data"
    }
   ],
   "source": [
    "df.properties_links_1_href[1]"
   ]
  },
  {
   "cell_type": "code",
   "execution_count": null,
   "metadata": {},
   "outputs": [],
   "source": [
    "https://catalogue.dataspace.copernicus.eu/resto/collections/SENTINEL-1/8bb78fee-2441-57d2-b020-2e951450ec9b.json\""
   ]
  },
  {
   "cell_type": "code",
   "execution_count": 58,
   "metadata": {},
   "outputs": [
    {
     "data": {
      "text/plain": [
       "\"https://catalogue.dataspace.copernicus.eu/download/8bb78fee-2441-57d2-b020-2e951450ec9b\""
      ]
     },
     "metadata": {},
     "output_type": "display_data"
    }
   ],
   "source": [
    "df.properties_services_download_url[1]"
   ]
  },
  {
   "cell_type": "code",
   "execution_count": 62,
   "metadata": {},
   "outputs": [
    {
     "ename": "ErrorException",
     "evalue": "syntax: extra token \"\"\" after end of expression",
     "output_type": "error",
     "traceback": [
      "syntax: extra token \"\"\" after end of expression\n",
      "\n",
      "Stacktrace:\n",
      " [1] top-level scope\n",
      "   @ ~/Documents/coding/JuliaEO2024/Odata.ipynb:1"
     ]
    }
   ],
   "source": [
    "curl -o te.zip \"https://catalogue.dataspace.copernicus.eu/resto/collections/SENTINEL-1/8bb78fee-2441-57d2-b020-2e951450ec9b.json\""
   ]
  },
  {
   "cell_type": "code",
   "execution_count": 57,
   "metadata": {},
   "outputs": [
    {
     "data": {
      "text/plain": [
       "\"/eodata/Sentinel-1/SAR/GRD/2022/06/21/S1A_IW_GRDH_1SDV_20220621T055905_20220621T055930_043757_053958_45B9.SAFE\""
      ]
     },
     "metadata": {},
     "output_type": "display_data"
    }
   ],
   "source": [
    "df.properties_productIdentifier[1]"
   ]
  },
  {
   "cell_type": "markdown",
   "metadata": {},
   "source": [
    "Download billederne"
   ]
  },
  {
   "cell_type": "code",
   "execution_count": 71,
   "metadata": {},
   "outputs": [
    {
     "data": {
      "text/plain": [
       "download_product (generic function with 1 method)"
      ]
     },
     "metadata": {},
     "output_type": "display_data"
    }
   ],
   "source": [
    "using HTTP\n",
    "using ProgressMeter\n",
    "using HTTP\n",
    "using FileIO\n",
    "function download_product(access_token::String, product_id::String, filename::String)\n",
    "    # URL of the file\n",
    "    url = \"https://zipper.dataspace.copernicus.eu/odata/v1/Products($product_id)/\\$value\"\n",
    "\n",
    "    # Authorization header\n",
    "    headers = Dict(\"Authorization\" => \"Bearer $access_token\")\n",
    "\n",
    "    try\n",
    "        # Make an HTTP GET request with the specified headers\n",
    "        response = HTTP.get(url, headers=headers, request_timeout=30)\n",
    "        \n",
    "        # Check if the response status is successful\n",
    "        if HTTP.status(response) == 200\n",
    "            # Specify the filename to save the downloaded file\n",
    "            # Open the file for writing\n",
    "            open(filename, \"w\") do file\n",
    "                # Write the content of the response to the file\n",
    "                write(file, response.body)\n",
    "            end\n",
    "            println(\"File downloaded successfully.\")\n",
    "        else\n",
    "            println(\"Failed to download the file. Status code: \", HTTP.status(response))\n",
    "        end\n",
    "    catch e\n",
    "        println(\"Error: \", e)\n",
    "    end\n",
    "\n",
    "end\n",
    "\n"
   ]
  },
  {
   "cell_type": "code",
   "execution_count": 76,
   "metadata": {},
   "outputs": [
    {
     "name": "stdout",
     "output_type": "stream",
     "text": [
      "File downloaded successfully.\n"
     ]
    }
   ],
   "source": [
    "\n",
    "\n",
    "output_file = \"product2.zip\"\n",
    "\n",
    "download_product(get_access_token(get(ENV, \"DATASPACE_USERNAME\", \"\"), get(ENV, \"DATASPACE_PASSWORD\", \"\")), df.id[2], \"product3.zip\")"
   ]
  },
  {
   "cell_type": "code",
   "execution_count": 109,
   "metadata": {},
   "outputs": [
    {
     "data": {
      "text/plain": [
       "unzip_files2 (generic function with 2 methods)"
      ]
     },
     "metadata": {},
     "output_type": "display_data"
    }
   ],
   "source": [
    "using ZipFile\n",
    "using FileIO\n",
    "using Glob\n",
    "\n",
    "function unzip_files2(;input_path::AbstractString, output_folder::AbstractString)\n",
    "    try\n",
    "        # Create the output folder if it doesn't exist\n",
    "        mkpath(output_folder)\n",
    "\n",
    "        if isfile(input_path) && endswith(input_path, \".zip\")\n",
    "            # If input_path is a single ZIP file, extract it\n",
    "            unzip_file(input_path, output_folder)\n",
    "        elseif isdir(input_path)\n",
    "            # If input_path is a directory, unzip all ZIP files in it\n",
    "            zip_files = glob(\"*.zip\", input_path)\n",
    "            for zip_file in zip_files\n",
    "                unzip_file(joinpath(input_path, zip_file), output_folder)\n",
    "            end\n",
    "        else\n",
    "            println(\"Error: Invalid input path. Please provide either a single ZIP file or a folder containing ZIP files.\")\n",
    "        end\n",
    "    catch e\n",
    "        println(\"Error: $e\")\n",
    "    end\n",
    "end\n",
    "\n",
    "# Example usage:\n",
    "# unzip_files(\"path/to/your/archive.zip\", \"path/to/output/folder\")\n",
    "# unzip_files(\"path/to/your/folder\", \"path/to/output/folder\")\n"
   ]
  },
  {
   "cell_type": "code",
   "execution_count": 110,
   "metadata": {},
   "outputs": [
    {
     "name": "stdout",
     "output_type": "stream",
     "text": [
      "Error: ErrorException(\"type ReadableFile has no field iscompressed\")\n"
     ]
    }
   ],
   "source": [
    "unzip_files2(\"/Users/kaaso/Documents/coding/JuliaEO2024/product3.zip\", \"/Users/kaaso/Documents/coding/JuliaEO2024\")"
   ]
  },
  {
   "cell_type": "code",
   "execution_count": null,
   "metadata": {},
   "outputs": [],
   "source": [
    "/Users/kaaso/Documents/coding/JuliaEO2024/product3.zip"
   ]
  },
  {
   "cell_type": "code",
   "execution_count": 111,
   "metadata": {},
   "outputs": [
    {
     "data": {
      "text/plain": [
       "unzip_all (generic function with 1 method)"
      ]
     },
     "metadata": {},
     "output_type": "display_data"
    }
   ],
   "source": [
    "using ZipFile\n",
    "import Glob\n",
    "\n",
    "# Function to unzip a single file\n",
    "function unzip_file(zip_path::String, output_folder::String)\n",
    "    z = ZipFile.Reader(zip_path)\n",
    "    try\n",
    "        for f in z.files\n",
    "            # No need to check if the file is compressed\n",
    "            out_path = joinpath(output_folder, f.name)\n",
    "            mkpath(dirname(out_path))\n",
    "            write(out_path, read(f))\n",
    "        end\n",
    "    finally\n",
    "        close(z)\n",
    "    end\n",
    "end\n",
    "\n",
    "# Function to unzip all files in a folder\n",
    "function unzip_all(folder_path::String, output_folder::String)\n",
    "    zip_files = Glob.glob(\"*.zip\", folder_path)\n",
    "    for zip_file in zip_files\n",
    "        full_path = joinpath(folder_path, zip_file)\n",
    "        unzip_file(full_path, output_folder)\n",
    "    end\n",
    "end\n",
    "\n",
    "# Example Usage:\n",
    "# To unzip a single file:\n",
    "# unzip_file(\"path/to/your/file.zip\", \"path/to/output/folder\")\n",
    "\n",
    "# To unzip all files in a folder:\n",
    "# unzip_all(\"path/to/your/folder\", \"path/to/output/folder\")\n"
   ]
  },
  {
   "cell_type": "code",
   "execution_count": 112,
   "metadata": {},
   "outputs": [
    {
     "ename": "SystemError",
     "evalue": "SystemError: opening file \"/Users/kaaso/Documents/coding/JuliaEO2024/S1A_IW_GRDH_1SDV_20220619T172458_20220619T172523_043735_0538B0_1641.SAFE/\": Is a directory",
     "output_type": "error",
     "traceback": [
      "SystemError: opening file \"/Users/kaaso/Documents/coding/JuliaEO2024/S1A_IW_GRDH_1SDV_20220619T172458_20220619T172523_043735_0538B0_1641.SAFE/\": Is a directory\n",
      "\n",
      "Stacktrace:\n",
      "  [1] systemerror(p::String, errno::Int32; extrainfo::Nothing)\n",
      "    @ Base ./error.jl:176\n",
      "  [2] #systemerror#80\n",
      "    @ ./error.jl:175 [inlined]\n",
      "  [3] systemerror\n",
      "    @ ./error.jl:175 [inlined]\n",
      "  [4] open(fname::String; lock::Bool, read::Nothing, write::Nothing, create::Nothing, truncate::Bool, append::Nothing)\n",
      "    @ Base ./iostream.jl:293\n",
      "  [5] open(fname::String, mode::String; lock::Bool)\n",
      "    @ Base ./iostream.jl:356\n",
      "  [6] open(fname::String, mode::String)\n",
      "    @ Base ./iostream.jl:355\n",
      "  [7] open(::Base.var\"#383#384\"{Vector{UInt8}, Tuple{}}, ::String, ::Vararg{String}; kwargs::Base.Pairs{Symbol, Union{}, Tuple{}, NamedTuple{(), Tuple{}}})\n",
      "    @ Base ./io.jl:382\n",
      "  [8] open\n",
      "    @ ./io.jl:381 [inlined]\n",
      "  [9] write\n",
      "    @ ./io.jl:448 [inlined]\n",
      " [10] unzip_file(zip_path::String, output_folder::String)\n",
      "    @ Main ~/Documents/coding/JuliaEO2024/Odata.ipynb:12\n",
      " [11] top-level scope\n",
      "    @ ~/Documents/coding/JuliaEO2024/Odata.ipynb:1"
     ]
    }
   ],
   "source": [
    "unzip_file(\"/Users/kaaso/Documents/coding/JuliaEO2024/product3.zip\", \"/Users/kaaso/Documents/coding/JuliaEO2024/\")\n"
   ]
  },
  {
   "cell_type": "code",
   "execution_count": null,
   "metadata": {},
   "outputs": [],
   "source": []
  },
  {
   "cell_type": "code",
   "execution_count": 87,
   "metadata": {},
   "outputs": [
    {
     "name": "stdout",
     "output_type": "stream",
     "text": [
      "Unzipping: /Users/kaaso/Documents/coding/JuliaEO2024/product3.zip\n",
      "Extracting: /Users/kaaso/Documents/coding/JuliaEO2024/S1A_IW_GRDH_1SDV_20220619T172458_20220619T172523_043735_0538B0_1641.SAFE/\n"
     ]
    },
    {
     "ename": "SystemError",
     "evalue": "SystemError: opening file \"/Users/kaaso/Documents/coding/JuliaEO2024/S1A_IW_GRDH_1SDV_20220619T172458_20220619T172523_043735_0538B0_1641.SAFE/\": No such file or directory",
     "output_type": "error",
     "traceback": [
      "SystemError: opening file \"/Users/kaaso/Documents/coding/JuliaEO2024/S1A_IW_GRDH_1SDV_20220619T172458_20220619T172523_043735_0538B0_1641.SAFE/\": No such file or directory\n",
      "\n",
      "Stacktrace:\n",
      "  [1] systemerror(p::String, errno::Int32; extrainfo::Nothing)\n",
      "    @ Base ./error.jl:176\n",
      "  [2] #systemerror#80\n",
      "    @ ./error.jl:175 [inlined]\n",
      "  [3] systemerror\n",
      "    @ ./error.jl:175 [inlined]\n",
      "  [4] open(fname::String; lock::Bool, read::Nothing, write::Nothing, create::Nothing, truncate::Bool, append::Nothing)\n",
      "    @ Base ./iostream.jl:293\n",
      "  [5] open(fname::String, mode::String; lock::Bool)\n",
      "    @ Base ./iostream.jl:356\n",
      "  [6] open(fname::String, mode::String)\n",
      "    @ Base ./iostream.jl:355\n",
      "  [7] open(::Base.var\"#383#384\"{Vector{UInt8}, Tuple{}}, ::String, ::Vararg{String}; kwargs::Base.Pairs{Symbol, Union{}, Tuple{}, NamedTuple{(), Tuple{}}})\n",
      "    @ Base ./io.jl:382\n",
      "  [8] open\n",
      "    @ ./io.jl:381 [inlined]\n",
      "  [9] write\n",
      "    @ ./io.jl:448 [inlined]\n",
      " [10] unzip_file(zip_filename::String)\n",
      "    @ Main ~/Documents/coding/JuliaEO2024/Odata.ipynb:23\n",
      " [11] top-level scope\n",
      "    @ ~/Documents/coding/JuliaEO2024/Odata.ipynb:1"
     ]
    }
   ],
   "source": [
    "unzip_file(\"/Users/kaaso/Documents/coding/JuliaEO2024/product3.zip\")"
   ]
  },
  {
   "cell_type": "code",
   "execution_count": null,
   "metadata": {},
   "outputs": [],
   "source": [
    "S1A_IW_GRDH_1SDV_20220619T172458_20220619T172523_043735_0538B0_1641"
   ]
  },
  {
   "cell_type": "code",
   "execution_count": 47,
   "metadata": {},
   "outputs": [
    {
     "ename": "HTTP.Exceptions.StatusError",
     "evalue": "HTTP.Exceptions.StatusError(401, \"GET\", \"/odata/v1/Products(8bb78fee-2441-57d2-b020-2e951450ec9b)/\\$value\", HTTP.Messages.Response:\n\"\"\"\nHTTP/1.1 401 Unauthorized\r\nDate: Mon, 13 Nov 2023 17:07:18 GMT\r\nContent-Type: application/json\r\nContent-Length: 31\r\nConnection: keep-alive\r\nx-envoy-upstream-service-time: 8\r\nStrict-Transport-Security: max-age=15724800; includeSubDomains\r\nAccess-Control-Allow-Origin: *\r\nAccess-Control-Allow-Credentials: true\r\nAccess-Control-Allow-Methods: GET, PUT, POST, DELETE, PATCH, OPTIONS\r\nAccess-Control-Allow-Headers: DNT,Keep-Alive,User-Agent,X-Requested-With,If-Modified-Since,Cache-Control,Content-Type,Range,Authorization\r\nAccess-Control-Max-Age: 1728000\r\n\r\n{\"detail\":\"Expired signature!\"}\"\"\")",
     "output_type": "error",
     "traceback": [
      "HTTP.Exceptions.StatusError(401, \"GET\", \"/odata/v1/Products(8bb78fee-2441-57d2-b020-2e951450ec9b)/\\$value\", HTTP.Messages.Response:\n",
      "\"\"\"\n",
      "HTTP/1.1 401 Unauthorized\r\n",
      "Date: Mon, 13 Nov 2023 17:07:18 GMT\r\n",
      "Content-Type: application/json\r\n",
      "Content-Length: 31\r\n",
      "Connection: keep-alive\r\n",
      "x-envoy-upstream-service-time: 8\r\n",
      "Strict-Transport-Security: max-age=15724800; includeSubDomains\r\n",
      "Access-Control-Allow-Origin: *\r\n",
      "Access-Control-Allow-Credentials: true\r\n",
      "Access-Control-Allow-Methods: GET, PUT, POST, DELETE, PATCH, OPTIONS\r\n",
      "Access-Control-Allow-Headers: DNT,Keep-Alive,User-Agent,X-Requested-With,If-Modified-Since,Cache-Control,Content-Type,Range,Authorization\r\n",
      "Access-Control-Max-Age: 1728000\r\n",
      "\r\n",
      "{\"detail\":\"Expired signature!\"}\"\"\")\n",
      "\n",
      "Stacktrace:\n",
      "  [1] (::HTTP.ConnectionRequest.var\"#connections#4\"{HTTP.ConnectionRequest.var\"#connections#1#5\"{HTTP.TimeoutRequest.var\"#timeouts#3\"{HTTP.TimeoutRequest.var\"#timeouts#1#4\"{HTTP.ExceptionRequest.var\"#exceptions#2\"{HTTP.ExceptionRequest.var\"#exceptions#1#3\"{typeof(HTTP.StreamRequest.streamlayer)}}}}}})(req::HTTP.Messages.Request; proxy::Nothing, socket_type::Type, socket_type_tls::Type, readtimeout::Int64, connect_timeout::Int64, logerrors::Bool, logtag::Nothing, kw::Base.Pairs{Symbol, Union{Nothing, Integer}, NTuple{4, Symbol}, NamedTuple{(:iofunction, :decompress, :verbose, :stream), Tuple{Nothing, Nothing, Int64, Bool}}})\n",
      "    @ HTTP.ConnectionRequest ~/.julia/packages/HTTP/SN7VW/src/clientlayers/ConnectionRequest.jl:144\n",
      "  [2] (::Base.var\"#88#90\"{Base.var\"#88#89#91\"{ExponentialBackOff, HTTP.RetryRequest.var\"#2#5\"{Int64, typeof(HTTP.RetryRequest.FALSE), HTTP.Messages.Request, Base.RefValue{Int64}}, HTTP.ConnectionRequest.var\"#connections#4\"{HTTP.ConnectionRequest.var\"#connections#1#5\"{HTTP.TimeoutRequest.var\"#timeouts#3\"{HTTP.TimeoutRequest.var\"#timeouts#1#4\"{HTTP.ExceptionRequest.var\"#exceptions#2\"{HTTP.ExceptionRequest.var\"#exceptions#1#3\"{typeof(HTTP.StreamRequest.streamlayer)}}}}}}}})(args::HTTP.Messages.Request; kwargs::Base.Pairs{Symbol, Union{Nothing, Integer}, NTuple{4, Symbol}, NamedTuple{(:iofunction, :decompress, :verbose, :stream), Tuple{Nothing, Nothing, Int64, Bool}}})\n",
      "    @ Base ./error.jl:296\n",
      "  [3] (::HTTP.RetryRequest.var\"#manageretries#3\"{HTTP.RetryRequest.var\"#manageretries#1#4\"{HTTP.ConnectionRequest.var\"#connections#4\"{HTTP.ConnectionRequest.var\"#connections#1#5\"{HTTP.TimeoutRequest.var\"#timeouts#3\"{HTTP.TimeoutRequest.var\"#timeouts#1#4\"{HTTP.ExceptionRequest.var\"#exceptions#2\"{HTTP.ExceptionRequest.var\"#exceptions#1#3\"{typeof(HTTP.StreamRequest.streamlayer)}}}}}}}})(req::HTTP.Messages.Request; retry::Bool, retries::Int64, retry_delays::ExponentialBackOff, retry_check::Function, retry_non_idempotent::Bool, kw::Base.Pairs{Symbol, Union{Nothing, Integer}, NTuple{4, Symbol}, NamedTuple{(:iofunction, :decompress, :verbose, :stream), Tuple{Nothing, Nothing, Int64, Bool}}})\n",
      "    @ HTTP.RetryRequest ~/.julia/packages/HTTP/SN7VW/src/clientlayers/RetryRequest.jl:75\n",
      "  [4] (::HTTP.CookieRequest.var\"#managecookies#4\"{HTTP.CookieRequest.var\"#managecookies#1#5\"{HTTP.RetryRequest.var\"#manageretries#3\"{HTTP.RetryRequest.var\"#manageretries#1#4\"{HTTP.ConnectionRequest.var\"#connections#4\"{HTTP.ConnectionRequest.var\"#connections#1#5\"{HTTP.TimeoutRequest.var\"#timeouts#3\"{HTTP.TimeoutRequest.var\"#timeouts#1#4\"{HTTP.ExceptionRequest.var\"#exceptions#2\"{HTTP.ExceptionRequest.var\"#exceptions#1#3\"{typeof(HTTP.StreamRequest.streamlayer)}}}}}}}}}})(req::HTTP.Messages.Request; cookies::Bool, cookiejar::HTTP.Cookies.CookieJar, kw::Base.Pairs{Symbol, Union{Nothing, Integer}, NTuple{4, Symbol}, NamedTuple{(:iofunction, :decompress, :verbose, :stream), Tuple{Nothing, Nothing, Int64, Bool}}})\n",
      "    @ HTTP.CookieRequest ~/.julia/packages/HTTP/SN7VW/src/clientlayers/CookieRequest.jl:42\n",
      "  [5] (::HTTP.HeadersRequest.var\"#defaultheaders#2\"{HTTP.HeadersRequest.var\"#defaultheaders#1#3\"{HTTP.CookieRequest.var\"#managecookies#4\"{HTTP.CookieRequest.var\"#managecookies#1#5\"{HTTP.RetryRequest.var\"#manageretries#3\"{HTTP.RetryRequest.var\"#manageretries#1#4\"{HTTP.ConnectionRequest.var\"#connections#4\"{HTTP.ConnectionRequest.var\"#connections#1#5\"{HTTP.TimeoutRequest.var\"#timeouts#3\"{HTTP.TimeoutRequest.var\"#timeouts#1#4\"{HTTP.ExceptionRequest.var\"#exceptions#2\"{HTTP.ExceptionRequest.var\"#exceptions#1#3\"{typeof(HTTP.StreamRequest.streamlayer)}}}}}}}}}}}})(req::HTTP.Messages.Request; iofunction::Nothing, decompress::Nothing, basicauth::Bool, detect_content_type::Bool, canonicalize_headers::Bool, kw::Base.Pairs{Symbol, Integer, Tuple{Symbol, Symbol}, NamedTuple{(:verbose, :stream), Tuple{Int64, Bool}}})\n",
      "    @ HTTP.HeadersRequest ~/.julia/packages/HTTP/SN7VW/src/clientlayers/HeadersRequest.jl:71\n",
      "  [6] (::HTTP.RedirectRequest.var\"#redirects#3\"{HTTP.RedirectRequest.var\"#redirects#1#4\"{HTTP.HeadersRequest.var\"#defaultheaders#2\"{HTTP.HeadersRequest.var\"#defaultheaders#1#3\"{HTTP.CookieRequest.var\"#managecookies#4\"{HTTP.CookieRequest.var\"#managecookies#1#5\"{HTTP.RetryRequest.var\"#manageretries#3\"{HTTP.RetryRequest.var\"#manageretries#1#4\"{HTTP.ConnectionRequest.var\"#connections#4\"{HTTP.ConnectionRequest.var\"#connections#1#5\"{HTTP.TimeoutRequest.var\"#timeouts#3\"{HTTP.TimeoutRequest.var\"#timeouts#1#4\"{HTTP.ExceptionRequest.var\"#exceptions#2\"{HTTP.ExceptionRequest.var\"#exceptions#1#3\"{typeof(HTTP.StreamRequest.streamlayer)}}}}}}}}}}}}}})(req::HTTP.Messages.Request; redirect::Bool, redirect_limit::Int64, redirect_method::Nothing, forwardheaders::Bool, response_stream::Nothing, kw::Base.Pairs{Symbol, Integer, Tuple{Symbol, Symbol}, NamedTuple{(:verbose, :stream), Tuple{Int64, Bool}}})\n",
      "    @ HTTP.RedirectRequest ~/.julia/packages/HTTP/SN7VW/src/clientlayers/RedirectRequest.jl:25\n",
      "  [7] (::HTTP.MessageRequest.var\"#makerequest#3\"{HTTP.MessageRequest.var\"#makerequest#1#4\"{HTTP.RedirectRequest.var\"#redirects#3\"{HTTP.RedirectRequest.var\"#redirects#1#4\"{HTTP.HeadersRequest.var\"#defaultheaders#2\"{HTTP.HeadersRequest.var\"#defaultheaders#1#3\"{HTTP.CookieRequest.var\"#managecookies#4\"{HTTP.CookieRequest.var\"#managecookies#1#5\"{HTTP.RetryRequest.var\"#manageretries#3\"{HTTP.RetryRequest.var\"#manageretries#1#4\"{HTTP.ConnectionRequest.var\"#connections#4\"{HTTP.ConnectionRequest.var\"#connections#1#5\"{HTTP.TimeoutRequest.var\"#timeouts#3\"{HTTP.TimeoutRequest.var\"#timeouts#1#4\"{HTTP.ExceptionRequest.var\"#exceptions#2\"{HTTP.ExceptionRequest.var\"#exceptions#1#3\"{typeof(HTTP.StreamRequest.streamlayer)}}}}}}}}}}}}}}}})(method::String, url::URIs.URI, headers::Dict{String, String}, body::Vector{UInt8}; copyheaders::Bool, response_stream::Nothing, http_version::HTTP.Strings.HTTPVersion, verbose::Int64, kw::Base.Pairs{Symbol, Bool, Tuple{Symbol}, NamedTuple{(:stream,), Tuple{Bool}}})\n",
      "    @ HTTP.MessageRequest ~/.julia/packages/HTTP/SN7VW/src/clientlayers/MessageRequest.jl:35\n",
      "  [8] request(stack::HTTP.MessageRequest.var\"#makerequest#3\"{HTTP.MessageRequest.var\"#makerequest#1#4\"{HTTP.RedirectRequest.var\"#redirects#3\"{HTTP.RedirectRequest.var\"#redirects#1#4\"{HTTP.HeadersRequest.var\"#defaultheaders#2\"{HTTP.HeadersRequest.var\"#defaultheaders#1#3\"{HTTP.CookieRequest.var\"#managecookies#4\"{HTTP.CookieRequest.var\"#managecookies#1#5\"{HTTP.RetryRequest.var\"#manageretries#3\"{HTTP.RetryRequest.var\"#manageretries#1#4\"{HTTP.ConnectionRequest.var\"#connections#4\"{HTTP.ConnectionRequest.var\"#connections#1#5\"{HTTP.TimeoutRequest.var\"#timeouts#3\"{HTTP.TimeoutRequest.var\"#timeouts#1#4\"{HTTP.ExceptionRequest.var\"#exceptions#2\"{HTTP.ExceptionRequest.var\"#exceptions#1#3\"{typeof(HTTP.StreamRequest.streamlayer)}}}}}}}}}}}}}}}}, method::String, url::String, h::Dict{String, String}, b::Vector{UInt8}, q::Nothing; headers::Dict{String, String}, body::Vector{UInt8}, query::Nothing, kw::Base.Pairs{Symbol, Bool, Tuple{Symbol}, NamedTuple{(:stream,), Tuple{Bool}}})\n",
      "    @ HTTP ~/.julia/packages/HTTP/SN7VW/src/HTTP.jl:457\n",
      "  [9] #request#19\n",
      "    @ ~/.julia/packages/HTTP/SN7VW/src/HTTP.jl:315 [inlined]\n",
      " [10] #get#37\n",
      "    @ ~/.julia/packages/HTTP/SN7VW/src/HTTP.jl:518 [inlined]\n",
      " [11] download_product(access_token::String, product_id::String, output_file::String)\n",
      "    @ Main ~/Documents/coding/JuliaEO2024/Odata.ipynb:8\n",
      " [12] top-level scope\n",
      "    @ ~/Documents/coding/JuliaEO2024/Odata.ipynb:38"
     ]
    }
   ],
   "source": [
    "using HTTP\n",
    "using ProgressMeter\n",
    "\n",
    "function download_product(access_token::String, product_id::String, output_file::String)\n",
    "    url = \"https://zipper.dataspace.copernicus.eu/odata/v1/Products($(product_id))/\\$value\"\n",
    "    headers = Dict(\"Authorization\" => \"Bearer $access_token\")\n",
    "\n",
    "    response = HTTP.get(url, headers=headers; stream=true)\n",
    "\n",
    "    # Convert headers to a dictionary and try to get the total size\n",
    "    headers_dict = Dict(response.headers)\n",
    "    total_size = parse(Int, get(headers_dict, \"Content-Length\", \"-1\"))\n",
    "\n",
    "    # Initialize the progress bar, handle case when total_size is unknown (-1)\n",
    "    p = total_size > 0 ? Progress(total_size, 1, \"Downloading $(product_id): \", 60) : nothing\n",
    "\n",
    "    open(output_file, \"w\") do file\n",
    "        downloaded_size = 0\n",
    "        for chunk in HTTP.payload(response)\n",
    "            write(file, chunk)\n",
    "            downloaded_size += length(chunk)\n",
    "            # Update the progress bar if total_size is known\n",
    "            if total_size > 0\n",
    "                ProgressMeter.update!(p, downloaded_size)\n",
    "            end\n",
    "        end\n",
    "    end\n",
    "\n",
    "    if total_size <= 0\n",
    "        println(\"Download completed: $product_id\")\n",
    "    end\n",
    "end\n",
    "\n",
    "# Example usage\n",
    "product_id = \"8bb78fee-2441-57d2-b020-2e951450ec9b\" # Replace with actual product ID\n",
    "output_file = \"product2.zip\"\n",
    "\n",
    "download_product(access_token, product_id, output_file)\n"
   ]
  },
  {
   "cell_type": "code",
   "execution_count": 65,
   "metadata": {},
   "outputs": [
    {
     "name": "stderr",
     "output_type": "stream",
     "text": [
      "\u001b[32m\u001b[1m   Resolving\u001b[22m\u001b[39m package versions...\n"
     ]
    },
    {
     "name": "stderr",
     "output_type": "stream",
     "text": [
      "\u001b[32m\u001b[1m    Updating\u001b[22m\u001b[39m `~/Documents/coding/JuliaEO2024/Project.toml`\n",
      " \u001b[90m [5789e2e9] \u001b[39m\u001b[92m+ FileIO v1.16.1\u001b[39m\n",
      "\u001b[32m\u001b[1m  No Changes\u001b[22m\u001b[39m to `~/Documents/coding/JuliaEO2024/Manifest.toml`\n"
     ]
    }
   ],
   "source": [
    "import Pkg; Pkg.add(\"FileIO\")"
   ]
  },
  {
   "cell_type": "code",
   "execution_count": null,
   "metadata": {},
   "outputs": [],
   "source": []
  },
  {
   "cell_type": "code",
   "execution_count": 69,
   "metadata": {},
   "outputs": [
    {
     "name": "stdout",
     "output_type": "stream",
     "text": [
      "Error: ArgumentError(\"invalid open mode: wb\")\n"
     ]
    }
   ],
   "source": [
    "using HTTP\n",
    "using FileIO\n",
    "\n",
    "# URL of the file\n",
    "url = \"https://zipper.dataspace.copernicus.eu/odata/v1/Products(8bb78fee-2441-57d2-b020-2e951450ec9b)/\\$value\"\n",
    "\n",
    "# Authorization header\n",
    "headers = Dict(\"Authorization\" => \"Bearer $access_token\")\n",
    "\n",
    "try\n",
    "    # Make an HTTP GET request with the specified headers\n",
    "    response = HTTP.get(url, headers=headers, request_timeout=30)\n",
    "    \n",
    "    # Check if the response status is successful\n",
    "    if HTTP.status(response) == 200\n",
    "        # Specify the filename to save the downloaded file\n",
    "        filename = \"product_del2.zip\"\n",
    "        \n",
    "        # Open the file for writing\n",
    "        open(filename, \"wb\") do file\n",
    "            # Write the content of the response to the file\n",
    "            foreach(chunk -> write(file, chunk), response.body)\n",
    "        end\n",
    "        \n",
    "        println(\"File downloaded successfully.\")\n",
    "    else\n",
    "        println(\"Failed to download the file. Status code: \", HTTP.status(response))\n",
    "    end\n",
    "catch e\n",
    "    println(\"Error: \", e)\n",
    "end\n"
   ]
  },
  {
   "cell_type": "code",
   "execution_count": null,
   "metadata": {},
   "outputs": [],
   "source": []
  },
  {
   "cell_type": "code",
   "execution_count": 70,
   "metadata": {},
   "outputs": [
    {
     "name": "stdout",
     "output_type": "stream",
     "text": [
      "File downloaded successfully.\n"
     ]
    }
   ],
   "source": [
    "using HTTP\n",
    "using FileIO\n",
    "\n",
    "# URL of the file\n",
    "url = \"https://zipper.dataspace.copernicus.eu/odata/v1/Products(8bb78fee-2441-57d2-b020-2e951450ec9b)/\\$value\"\n",
    "\n",
    "# Authorization header\n",
    "headers = Dict(\"Authorization\" => \"Bearer $access_token\")\n",
    "\n",
    "try\n",
    "    # Make an HTTP GET request with the specified headers\n",
    "    response = HTTP.get(url, headers=headers, request_timeout=30)\n",
    "    \n",
    "    # Check if the response status is successful\n",
    "    if HTTP.status(response) == 200\n",
    "        # Specify the filename to save the downloaded file\n",
    "        filename = \"product_del2.zip\"\n",
    "        \n",
    "        # Open the file for writing\n",
    "        open(filename, \"w\") do file\n",
    "            # Write the content of the response to the file\n",
    "            write(file, response.body)\n",
    "        end\n",
    "        \n",
    "        println(\"File downloaded successfully.\")\n",
    "    else\n",
    "        println(\"Failed to download the file. Status code: \", HTTP.status(response))\n",
    "    end\n",
    "catch e\n",
    "    println(\"Error: \", e)\n",
    "end\n"
   ]
  },
  {
   "cell_type": "code",
   "execution_count": null,
   "metadata": {},
   "outputs": [],
   "source": []
  },
  {
   "cell_type": "code",
   "execution_count": 52,
   "metadata": {},
   "outputs": [
    {
     "ename": "HTTP.Exceptions.StatusError",
     "evalue": "HTTP.Exceptions.StatusError(401, \"GET\", \"/odata/v1/Products(4c496182-e715-51cc-8da2-b4d16edd05e2)/\\$value\", HTTP.Messages.Response:\n\"\"\"\nHTTP/1.1 401 Unauthorized\r\nDate: Mon, 13 Nov 2023 17:08:07 GMT\r\nContent-Type: application/json\r\nContent-Length: 31\r\nConnection: keep-alive\r\nx-envoy-upstream-service-time: 9\r\nStrict-Transport-Security: max-age=15724800; includeSubDomains\r\nAccess-Control-Allow-Origin: *\r\nAccess-Control-Allow-Credentials: true\r\nAccess-Control-Allow-Methods: GET, PUT, POST, DELETE, PATCH, OPTIONS\r\nAccess-Control-Allow-Headers: DNT,Keep-Alive,User-Agent,X-Requested-With,If-Modified-Since,Cache-Control,Content-Type,Range,Authorization\r\nAccess-Control-Max-Age: 1728000\r\n\r\n{\"detail\":\"Expired signature!\"}\"\"\")",
     "output_type": "error",
     "traceback": [
      "HTTP.Exceptions.StatusError(401, \"GET\", \"/odata/v1/Products(4c496182-e715-51cc-8da2-b4d16edd05e2)/\\$value\", HTTP.Messages.Response:\n",
      "\"\"\"\n",
      "HTTP/1.1 401 Unauthorized\r\n",
      "Date: Mon, 13 Nov 2023 17:08:07 GMT\r\n",
      "Content-Type: application/json\r\n",
      "Content-Length: 31\r\n",
      "Connection: keep-alive\r\n",
      "x-envoy-upstream-service-time: 9\r\n",
      "Strict-Transport-Security: max-age=15724800; includeSubDomains\r\n",
      "Access-Control-Allow-Origin: *\r\n",
      "Access-Control-Allow-Credentials: true\r\n",
      "Access-Control-Allow-Methods: GET, PUT, POST, DELETE, PATCH, OPTIONS\r\n",
      "Access-Control-Allow-Headers: DNT,Keep-Alive,User-Agent,X-Requested-With,If-Modified-Since,Cache-Control,Content-Type,Range,Authorization\r\n",
      "Access-Control-Max-Age: 1728000\r\n",
      "\r\n",
      "{\"detail\":\"Expired signature!\"}\"\"\")\n",
      "\n",
      "Stacktrace:\n",
      "  [1] (::HTTP.ConnectionRequest.var\"#connections#4\"{HTTP.ConnectionRequest.var\"#connections#1#5\"{HTTP.TimeoutRequest.var\"#timeouts#3\"{HTTP.TimeoutRequest.var\"#timeouts#1#4\"{HTTP.ExceptionRequest.var\"#exceptions#2\"{HTTP.ExceptionRequest.var\"#exceptions#1#3\"{typeof(HTTP.StreamRequest.streamlayer)}}}}}})(req::HTTP.Messages.Request; proxy::Nothing, socket_type::Type, socket_type_tls::Type, readtimeout::Int64, connect_timeout::Int64, logerrors::Bool, logtag::Nothing, kw::Base.Pairs{Symbol, Union{Nothing, Integer}, NTuple{4, Symbol}, NamedTuple{(:iofunction, :decompress, :verbose, :stream), Tuple{Nothing, Nothing, Int64, Bool}}})\n",
      "    @ HTTP.ConnectionRequest ~/.julia/packages/HTTP/SN7VW/src/clientlayers/ConnectionRequest.jl:144\n",
      "  [2] (::Base.var\"#88#90\"{Base.var\"#88#89#91\"{ExponentialBackOff, HTTP.RetryRequest.var\"#2#5\"{Int64, typeof(HTTP.RetryRequest.FALSE), HTTP.Messages.Request, Base.RefValue{Int64}}, HTTP.ConnectionRequest.var\"#connections#4\"{HTTP.ConnectionRequest.var\"#connections#1#5\"{HTTP.TimeoutRequest.var\"#timeouts#3\"{HTTP.TimeoutRequest.var\"#timeouts#1#4\"{HTTP.ExceptionRequest.var\"#exceptions#2\"{HTTP.ExceptionRequest.var\"#exceptions#1#3\"{typeof(HTTP.StreamRequest.streamlayer)}}}}}}}})(args::HTTP.Messages.Request; kwargs::Base.Pairs{Symbol, Union{Nothing, Integer}, NTuple{4, Symbol}, NamedTuple{(:iofunction, :decompress, :verbose, :stream), Tuple{Nothing, Nothing, Int64, Bool}}})\n",
      "    @ Base ./error.jl:296\n",
      "  [3] (::HTTP.RetryRequest.var\"#manageretries#3\"{HTTP.RetryRequest.var\"#manageretries#1#4\"{HTTP.ConnectionRequest.var\"#connections#4\"{HTTP.ConnectionRequest.var\"#connections#1#5\"{HTTP.TimeoutRequest.var\"#timeouts#3\"{HTTP.TimeoutRequest.var\"#timeouts#1#4\"{HTTP.ExceptionRequest.var\"#exceptions#2\"{HTTP.ExceptionRequest.var\"#exceptions#1#3\"{typeof(HTTP.StreamRequest.streamlayer)}}}}}}}})(req::HTTP.Messages.Request; retry::Bool, retries::Int64, retry_delays::ExponentialBackOff, retry_check::Function, retry_non_idempotent::Bool, kw::Base.Pairs{Symbol, Union{Nothing, Integer}, NTuple{4, Symbol}, NamedTuple{(:iofunction, :decompress, :verbose, :stream), Tuple{Nothing, Nothing, Int64, Bool}}})\n",
      "    @ HTTP.RetryRequest ~/.julia/packages/HTTP/SN7VW/src/clientlayers/RetryRequest.jl:75\n",
      "  [4] (::HTTP.CookieRequest.var\"#managecookies#4\"{HTTP.CookieRequest.var\"#managecookies#1#5\"{HTTP.RetryRequest.var\"#manageretries#3\"{HTTP.RetryRequest.var\"#manageretries#1#4\"{HTTP.ConnectionRequest.var\"#connections#4\"{HTTP.ConnectionRequest.var\"#connections#1#5\"{HTTP.TimeoutRequest.var\"#timeouts#3\"{HTTP.TimeoutRequest.var\"#timeouts#1#4\"{HTTP.ExceptionRequest.var\"#exceptions#2\"{HTTP.ExceptionRequest.var\"#exceptions#1#3\"{typeof(HTTP.StreamRequest.streamlayer)}}}}}}}}}})(req::HTTP.Messages.Request; cookies::Bool, cookiejar::HTTP.Cookies.CookieJar, kw::Base.Pairs{Symbol, Union{Nothing, Integer}, NTuple{4, Symbol}, NamedTuple{(:iofunction, :decompress, :verbose, :stream), Tuple{Nothing, Nothing, Int64, Bool}}})\n",
      "    @ HTTP.CookieRequest ~/.julia/packages/HTTP/SN7VW/src/clientlayers/CookieRequest.jl:42\n",
      "  [5] (::HTTP.HeadersRequest.var\"#defaultheaders#2\"{HTTP.HeadersRequest.var\"#defaultheaders#1#3\"{HTTP.CookieRequest.var\"#managecookies#4\"{HTTP.CookieRequest.var\"#managecookies#1#5\"{HTTP.RetryRequest.var\"#manageretries#3\"{HTTP.RetryRequest.var\"#manageretries#1#4\"{HTTP.ConnectionRequest.var\"#connections#4\"{HTTP.ConnectionRequest.var\"#connections#1#5\"{HTTP.TimeoutRequest.var\"#timeouts#3\"{HTTP.TimeoutRequest.var\"#timeouts#1#4\"{HTTP.ExceptionRequest.var\"#exceptions#2\"{HTTP.ExceptionRequest.var\"#exceptions#1#3\"{typeof(HTTP.StreamRequest.streamlayer)}}}}}}}}}}}})(req::HTTP.Messages.Request; iofunction::Nothing, decompress::Nothing, basicauth::Bool, detect_content_type::Bool, canonicalize_headers::Bool, kw::Base.Pairs{Symbol, Integer, Tuple{Symbol, Symbol}, NamedTuple{(:verbose, :stream), Tuple{Int64, Bool}}})\n",
      "    @ HTTP.HeadersRequest ~/.julia/packages/HTTP/SN7VW/src/clientlayers/HeadersRequest.jl:71\n",
      "  [6] (::HTTP.RedirectRequest.var\"#redirects#3\"{HTTP.RedirectRequest.var\"#redirects#1#4\"{HTTP.HeadersRequest.var\"#defaultheaders#2\"{HTTP.HeadersRequest.var\"#defaultheaders#1#3\"{HTTP.CookieRequest.var\"#managecookies#4\"{HTTP.CookieRequest.var\"#managecookies#1#5\"{HTTP.RetryRequest.var\"#manageretries#3\"{HTTP.RetryRequest.var\"#manageretries#1#4\"{HTTP.ConnectionRequest.var\"#connections#4\"{HTTP.ConnectionRequest.var\"#connections#1#5\"{HTTP.TimeoutRequest.var\"#timeouts#3\"{HTTP.TimeoutRequest.var\"#timeouts#1#4\"{HTTP.ExceptionRequest.var\"#exceptions#2\"{HTTP.ExceptionRequest.var\"#exceptions#1#3\"{typeof(HTTP.StreamRequest.streamlayer)}}}}}}}}}}}}}})(req::HTTP.Messages.Request; redirect::Bool, redirect_limit::Int64, redirect_method::Nothing, forwardheaders::Bool, response_stream::Nothing, kw::Base.Pairs{Symbol, Integer, Tuple{Symbol, Symbol}, NamedTuple{(:verbose, :stream), Tuple{Int64, Bool}}})\n",
      "    @ HTTP.RedirectRequest ~/.julia/packages/HTTP/SN7VW/src/clientlayers/RedirectRequest.jl:25\n",
      "  [7] (::HTTP.MessageRequest.var\"#makerequest#3\"{HTTP.MessageRequest.var\"#makerequest#1#4\"{HTTP.RedirectRequest.var\"#redirects#3\"{HTTP.RedirectRequest.var\"#redirects#1#4\"{HTTP.HeadersRequest.var\"#defaultheaders#2\"{HTTP.HeadersRequest.var\"#defaultheaders#1#3\"{HTTP.CookieRequest.var\"#managecookies#4\"{HTTP.CookieRequest.var\"#managecookies#1#5\"{HTTP.RetryRequest.var\"#manageretries#3\"{HTTP.RetryRequest.var\"#manageretries#1#4\"{HTTP.ConnectionRequest.var\"#connections#4\"{HTTP.ConnectionRequest.var\"#connections#1#5\"{HTTP.TimeoutRequest.var\"#timeouts#3\"{HTTP.TimeoutRequest.var\"#timeouts#1#4\"{HTTP.ExceptionRequest.var\"#exceptions#2\"{HTTP.ExceptionRequest.var\"#exceptions#1#3\"{typeof(HTTP.StreamRequest.streamlayer)}}}}}}}}}}}}}}}})(method::String, url::URIs.URI, headers::Dict{String, String}, body::Vector{UInt8}; copyheaders::Bool, response_stream::Nothing, http_version::HTTP.Strings.HTTPVersion, verbose::Int64, kw::Base.Pairs{Symbol, Bool, Tuple{Symbol}, NamedTuple{(:stream,), Tuple{Bool}}})\n",
      "    @ HTTP.MessageRequest ~/.julia/packages/HTTP/SN7VW/src/clientlayers/MessageRequest.jl:35\n",
      "  [8] request(stack::HTTP.MessageRequest.var\"#makerequest#3\"{HTTP.MessageRequest.var\"#makerequest#1#4\"{HTTP.RedirectRequest.var\"#redirects#3\"{HTTP.RedirectRequest.var\"#redirects#1#4\"{HTTP.HeadersRequest.var\"#defaultheaders#2\"{HTTP.HeadersRequest.var\"#defaultheaders#1#3\"{HTTP.CookieRequest.var\"#managecookies#4\"{HTTP.CookieRequest.var\"#managecookies#1#5\"{HTTP.RetryRequest.var\"#manageretries#3\"{HTTP.RetryRequest.var\"#manageretries#1#4\"{HTTP.ConnectionRequest.var\"#connections#4\"{HTTP.ConnectionRequest.var\"#connections#1#5\"{HTTP.TimeoutRequest.var\"#timeouts#3\"{HTTP.TimeoutRequest.var\"#timeouts#1#4\"{HTTP.ExceptionRequest.var\"#exceptions#2\"{HTTP.ExceptionRequest.var\"#exceptions#1#3\"{typeof(HTTP.StreamRequest.streamlayer)}}}}}}}}}}}}}}}}, method::String, url::String, h::Dict{String, String}, b::Vector{UInt8}, q::Nothing; headers::Dict{String, String}, body::Vector{UInt8}, query::Nothing, kw::Base.Pairs{Symbol, Bool, Tuple{Symbol}, NamedTuple{(:stream,), Tuple{Bool}}})\n",
      "    @ HTTP ~/.julia/packages/HTTP/SN7VW/src/HTTP.jl:457\n",
      "  [9] #request#19\n",
      "    @ ~/.julia/packages/HTTP/SN7VW/src/HTTP.jl:315 [inlined]\n",
      " [10] #get#37\n",
      "    @ ~/.julia/packages/HTTP/SN7VW/src/HTTP.jl:518 [inlined]\n",
      " [11] download_product(access_token::String, product_id::String, output_file::String)\n",
      "    @ Main ~/Documents/coding/JuliaEO2024/Odata.ipynb:9\n",
      " [12] top-level scope\n",
      "    @ ~/Documents/coding/JuliaEO2024/Odata.ipynb:31"
     ]
    }
   ],
   "source": [
    "using HTTP\n",
    "using HTTP\n",
    "using ProgressMeter\n",
    "\n",
    "function download_product(access_token::String, product_id::String, output_file::String)\n",
    "    url = \"https://zipper.dataspace.copernicus.eu/odata/v1/Products($(product_id))/\\$value\"\n",
    "    headers = Dict(\"Authorization\" => \"Bearer $access_token\")\n",
    "\n",
    "    response = HTTP.get(url, headers=headers; stream=true)\n",
    "\n",
    "    # Convert headers to a dictionary and get the total size of the file\n",
    "    headers_dict = Dict(response.headers)\n",
    "    total_size = parse(Int, get(headers_dict, \"Content-Length\", \"0\"))\n",
    "\n",
    "    # Initialize the progress bar\n",
    "    p = Progress(total_size, 1, \"Downloading $(product_id): \", 60)\n",
    "\n",
    "    open(output_file, \"w\") do file\n",
    "        for chunk in HTTP.payload(response)\n",
    "            write(file, chunk)\n",
    "            # Update the progress bar\n",
    "            ProgressMeter.update!(p, length(chunk))\n",
    "        end\n",
    "    end\n",
    "end\n",
    "\n",
    "\n",
    "#product_id = \"8bb78fee-2441-57d2-b020-2e951450ec9b\" # Replace with actual product ID\n",
    "#output_file = \"product.zip\"\n",
    "\n",
    "download_product(acces_token, df.id[6], output_file)\n"
   ]
  },
  {
   "cell_type": "code",
   "execution_count": null,
   "metadata": {},
   "outputs": [],
   "source": []
  },
  {
   "cell_type": "code",
   "execution_count": null,
   "metadata": {},
   "outputs": [],
   "source": []
  },
  {
   "cell_type": "code",
   "execution_count": 20,
   "metadata": {},
   "outputs": [
    {
     "data": {
      "text/plain": [
       "\"http://codede.data.cloud.code-de.org/Sentinel-1/SAR/GRD/2022/06/21/S1A_IW_GRDH_1SDV_20220621T055905_20220621T055930_043757_053958_45B9.SAFE/preview/quick-look.png\""
      ]
     },
     "metadata": {},
     "output_type": "display_data"
    }
   ],
   "source": []
  },
  {
   "cell_type": "code",
   "execution_count": 24,
   "metadata": {},
   "outputs": [
    {
     "name": "stderr",
     "output_type": "stream",
     "text": [
      "\u001b[32m\u001b[1m    Updating\u001b[22m\u001b[39m registry at `~/.julia/registries/General.toml`\n"
     ]
    },
    {
     "name": "stderr",
     "output_type": "stream",
     "text": [
      "\u001b[32m\u001b[1m   Resolving\u001b[22m\u001b[39m package versions...\n"
     ]
    },
    {
     "name": "stderr",
     "output_type": "stream",
     "text": [
      "\u001b[32m\u001b[1m    Updating\u001b[22m\u001b[39m `~/Documents/coding/JuliaEO2024/Project.toml`\n",
      " \u001b[90m [92933f4c] \u001b[39m\u001b[92m+ ProgressMeter v1.9.0\u001b[39m\n",
      "\u001b[32m\u001b[1m    Updating\u001b[22m\u001b[39m `~/Documents/coding/JuliaEO2024/Manifest.toml`\n",
      " \u001b[90m [92933f4c] \u001b[39m\u001b[92m+ ProgressMeter v1.9.0\u001b[39m\n",
      " \u001b[90m [8ba89e20] \u001b[39m\u001b[92m+ Distributed\u001b[39m\n"
     ]
    }
   ],
   "source": [
    "using Pkg\n",
    "Pkg.add(\"ProgressMeter\")\n"
   ]
  },
  {
   "cell_type": "code",
   "execution_count": 34,
   "metadata": {},
   "outputs": [
    {
     "ename": "MethodError",
     "evalue": "MethodError: no method matching get(::Vector{Pair{SubString{String}, SubString{String}}}, ::String, ::String)\nClosest candidates are:\n  get(!Matched::DataFrames.DataFrameColumns, ::Union{AbstractString, Signed, Symbol, Unsigned}, ::Any) at ~/.julia/packages/DataFrames/58MUJ/src/abstractdataframe/iteration.jl:314\n  get(!Matched::Base.ImmutableDict, ::Any, ::Any) at dict.jl:821\n  get(!Matched::DataStructures.OrderedRobinDict{K, V}, ::Any, ::Any) where {K, V} at ~/.julia/packages/DataStructures/MKv4P/src/ordered_robin_dict.jl:261\n  ...",
     "output_type": "error",
     "traceback": [
      "MethodError: no method matching get(::Vector{Pair{SubString{String}, SubString{String}}}, ::String, ::String)\n",
      "Closest candidates are:\n",
      "  get(!Matched::DataFrames.DataFrameColumns, ::Union{AbstractString, Signed, Symbol, Unsigned}, ::Any) at ~/.julia/packages/DataFrames/58MUJ/src/abstractdataframe/iteration.jl:314\n",
      "  get(!Matched::Base.ImmutableDict, ::Any, ::Any) at dict.jl:821\n",
      "  get(!Matched::DataStructures.OrderedRobinDict{K, V}, ::Any, ::Any) where {K, V} at ~/.julia/packages/DataStructures/MKv4P/src/ordered_robin_dict.jl:261\n",
      "  ...\n",
      "\n",
      "Stacktrace:\n",
      " [1] download_product(access_token::String, product_id::String, output_file::String)\n",
      "   @ Main ~/Documents/coding/JuliaEO2024/Odata.ipynb:11\n",
      " [2] top-level scope\n",
      "   @ ~/Documents/coding/JuliaEO2024/Odata.ipynb:30"
     ]
    }
   ],
   "source": [
    "using HTTP\n",
    "using ProgressMeter\n",
    "\n",
    "\n",
    "# Incorrect way that might cause the error\n",
    "headers = [(\"Authorization\", \"Bearer $access_token\")] # This is a vector of pairs\n",
    "header_value = get(headers, \"Authorization\", \"default_value\") # This will cause an error\n",
    "\n",
    "# Correct way if headers is a dictionary\n",
    "headers = Dict(\"Authorization\" => \"Bearer $access_token\")\n",
    "header_value = get(headers, \"Authorization\", \"default_value\") # This is correct\n",
    "\n",
    "\n",
    "\n",
    "\n",
    "function download_product(access_token::String, product_id::String, output_file::String)\n",
    "    url = \"https://zipper.dataspace.copernicus.eu/odata/v1/Products($(product_id))/\\$value\"\n",
    "    headers = Dict(\"Authorization\" => \"Bearer $access_token\")\n",
    "\n",
    "    response = HTTP.get(url, headers=headers; stream=true)\n",
    "\n",
    "    # Determine the total size of the file\n",
    "    total_size = parse(Int, get(response.headers, \"Content-Length\", \"0\"))\n",
    "    \n",
    "    # Initialize the progress bar\n",
    "    p = Progress(total_size, 1, \"Downloading $(product_id): \", 60)\n",
    "\n",
    "    open(output_file, \"w\") do file\n",
    "        for chunk in HTTP.payload(response)\n",
    "            write(file, chunk)\n",
    "            # Update the progress bar\n",
    "            ProgressMeter.update!(p, length(chunk))\n",
    "        end\n",
    "    end\n",
    "end\n",
    "\n",
    "# Example usage\n",
    "#access_token = \"your_access_token\" # Replace with your actual access token\n",
    "product_id = \"8c4ecdb7-079a-534d-a398-24354168dcd4\" # Replace with actual product ID\n",
    "output_file = \"product_test.zip\"\n",
    "\n",
    "download_product(access_token, product_id, output_file)\n"
   ]
  },
  {
   "cell_type": "code",
   "execution_count": 39,
   "metadata": {},
   "outputs": [],
   "source": [
    "using Images"
   ]
  },
  {
   "cell_type": "code",
   "execution_count": 42,
   "metadata": {},
   "outputs": [
    {
     "name": "stdout",
     "output_type": "stream",
     "text": [
      "Error: HTTP.Exceptions.ConnectError(\"http://codede.data.cloud.code-de.org/Sentinel-1/SAR/GRD/2022/06/21/S1A_IW_GRDH_1SDV_20220621T055905_20220621T055930_043757_053958_45B9.SAFE/preview/quick-look.png\", CapturedException(DNSError: codede.data.cloud.code-de.org, unknown node or service (EAI_NONAME), Any[(getalladdrinfo(host::String) at addrinfo.jl:113, 1), (getalladdrinfo at addrinfo.jl:122 [inlined], 1), (getconnection(::Type{Sockets.TCPSocket}, host::SubString{String}, port::SubString{String}; keepalive::Bool, readtimeout::Int64, kw::Base.Pairs{Symbol, Union{Nothing, Integer}, NTuple{4, Symbol}, NamedTuple{(:require_ssl_verification, :iofunction, :decompress, :verbose), Tuple{Bool, Nothing, Nothing, Int64}}}) at Connections.jl:515, 1), (#10 at Connections.jl:462 [inlined], 1)"
     ]
    },
    {
     "name": "stdout",
     "output_type": "stream",
     "text": [
      ", (macro expansion at try_with_timeout.jl:82 [inlined], 1), ((::ConcurrentUtilities.var\"#2#4\"{Any, Timer, ConcurrentUtilities.TimedOut{Any}, Channel{Any}, HTTP.Connections.var\"#10#13\"{Sockets.TCPSocket, Bool, Bool, Base.Pairs{Symbol, Union{Nothing, Int64}, NTuple{4, Symbol}, NamedTuple{(:readtimeout, :iofunction, :decompress, :verbose), Tuple{Int64, Nothing, Nothing, Int64}}}, SubString{String}, SubString{String}}})() at threadingconstructs.jl:258, 1)]))\n"
     ]
    }
   ],
   "source": [
    "using HTTP\n",
    "using Images\n",
    "\n",
    "# URL of the image\n",
    "url = \"https://catalogue.dataspace.copernicus.eu/odata/v1/Assets(19ba6517-a22f-5e18-8fce-67af19ce0faa)/\\$value\"\n",
    "url = \"https://catalogue.dataspace.copernicus.eu/odata/v1/Assets(8c4ecdb7-079a-534d-a398-24354168dcd4)/\\$value\"\n",
    "url = df.properties_thumbnail[1]\n",
    "\n",
    "try\n",
    "    # Download the image\n",
    "    response = HTTP.get(url)\n",
    "    \n",
    "    if HTTP.statusok(response)\n",
    "        # Read the image data\n",
    "        img_data = HTTP.body(response)\n",
    "        \n",
    "        # Create an image object from the data\n",
    "        img = Images.load(IOBuffer(img_data))\n",
    "        \n",
    "        # Display the image\n",
    "        display(img)\n",
    "    else\n",
    "        println(\"Failed to fetch the image. Status code: \", HTTP.status(response))\n",
    "    end\n",
    "catch e\n",
    "    println(\"Error: \", e)\n",
    "end\n"
   ]
  },
  {
   "cell_type": "code",
   "execution_count": null,
   "metadata": {},
   "outputs": [],
   "source": []
  },
  {
   "cell_type": "code",
   "execution_count": null,
   "metadata": {},
   "outputs": [],
   "source": [
    "\"https://catalogue.dataspace.copernicus.eu/odata/v1/Assets($(df.id[2]))/\\$value\""
   ]
  },
  {
   "cell_type": "code",
   "execution_count": 25,
   "metadata": {},
   "outputs": [
    {
     "data": {
      "text/plain": [
       "\"https://catalogue.dataspace.copernicus.eu/odata/v1/Assets(19ba6517-a22f-5e18-8fce-67af19ce0faa)/\\$value\""
      ]
     },
     "metadata": {},
     "output_type": "display_data"
    }
   ],
   "source": [
    "\"https://catalogue.dataspace.copernicus.eu/odata/v1/Assets($(df.id[2]))/\\$value\""
   ]
  },
  {
   "cell_type": "code",
   "execution_count": 26,
   "metadata": {},
   "outputs": [
    {
     "data": {
      "text/plain": [
       "\"8c4ecdb7-079a-534d-a398-24354168dcd4\""
      ]
     },
     "metadata": {},
     "output_type": "display_data"
    }
   ],
   "source": [
    "curl -o quick-look.png \"https://catalogue.dataspace.copernicus.eu/odata/v1/Assets(19ba6517-a22f-5e18-8fce-67af19ce0faa)/$value\"\n"
   ]
  },
  {
   "cell_type": "code",
   "execution_count": null,
   "metadata": {},
   "outputs": [],
   "source": [
    "\"https://catalogue.dataspace.copernicus.eu/odata/v1/Assets(19ba6517-a22f-5e18-8fce-67af19ce0faa)/\\$value\""
   ]
  },
  {
   "cell_type": "code",
   "execution_count": null,
   "metadata": {},
   "outputs": [],
   "source": [
    "https://catalogue.dataspace.copernicus.eu/odata/v1/Assets(19ba6517-a22f-5e18-8fce-67af19ce0faa)/$value\n"
   ]
  }
 ],
 "metadata": {
  "kernelspec": {
   "display_name": "Julia 1.8.2",
   "language": "julia",
   "name": "julia-1.8"
  },
  "language_info": {
   "file_extension": ".jl",
   "mimetype": "application/julia",
   "name": "julia",
   "version": "1.8.2"
  }
 },
 "nbformat": 4,
 "nbformat_minor": 2
}
