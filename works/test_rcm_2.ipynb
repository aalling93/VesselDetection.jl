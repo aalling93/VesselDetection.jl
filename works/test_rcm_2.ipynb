{
 "cells": [
  {
   "cell_type": "code",
   "execution_count": 1,
   "metadata": {},
   "outputs": [],
   "source": [
    "#ENV[\"PYTHON\"] = \"/opt/homebrew/Caskroom/miniforge/base/envs/sar_ais_2/bin/python\"\n",
    "#using Pkg\n",
    "#Pkg.build(\"PyCall\")\n"
   ]
  },
  {
   "cell_type": "code",
   "execution_count": 2,
   "metadata": {},
   "outputs": [
    {
     "name": "stderr",
     "output_type": "stream",
     "text": [
      "┌ Warning: Replacing docs for `Main.Test_name.Download.Metadata.to_rcm_time :: Tuple{String}` in module `Main.Test_name.Download.Metadata`\n",
      "└ @ Base.Docs docs/Docs.jl:240\n",
      "┌ Warning: Replacing docs for `Main.Test_name.Download.Metadata.bounding_box_to_geojson :: Tuple{}` in module `Main.Test_name.Download.Metadata`\n",
      "└ @ Base.Docs docs/Docs.jl:240\n",
      "┌ Warning: Replacing docs for `Main.Test_name.Download.Metadata.coordinate_to_geojson :: Tuple{Float64, Float64}` in module `Main.Test_name.Download.Metadata`\n",
      "└ @ Base.Docs docs/Docs.jl:240\n",
      "┌ Warning: Replacing docs for `Main.Test_name.Download.Metadata.wkt_to_tuples :: Tuple{Any}` in module `Main.Test_name.Download.Metadata`\n",
      "└ @ Base.Docs docs/Docs.jl:240\n"
     ]
    }
   ],
   "source": [
    "using Pkg\n",
    "using DotEnv\n",
    "using PyCall\n",
    "include(\"src/test_name.jl\")\n",
    "import .Test_name\n",
    "DotEnv.config();"
   ]
  },
  {
   "cell_type": "code",
   "execution_count": 3,
   "metadata": {},
   "outputs": [],
   "source": [
    "# Define the base URL for the Sentinel-1 data collection\n",
    "start_time = Test_name.Download.Metadata.to_rcm_time(\"2022-10-10\");\n",
    "end_time = Test_name.Download.Metadata.to_rcm_time(\"2022-10-11\");\n",
    "box = \"70,75,5,10\"\n",
    "split_strings = split(box, \",\")\n",
    "lat_min, lat_max, lon_min, lon_max  = parse.(Int, split_strings)\n",
    "#lat_min, lat_max, lon_min, lon_max = map(float, bbox.split(','))\n",
    "area = Test_name.Download.Metadata.bounding_box_to_geojson(lat_min=lat_min, lat_max=lat_max, lon_min=lon_min, lon_max=lon_max);\n",
    "\n"
   ]
  },
  {
   "cell_type": "code",
   "execution_count": 4,
   "metadata": {},
   "outputs": [
    {
     "ename": "UndefVarError",
     "evalue": "UndefVarError: bbox not defined",
     "output_type": "error",
     "traceback": [
      "UndefVarError: bbox not defined\n",
      "\n",
      "Stacktrace:\n",
      " [1] top-level scope\n",
      "   @ ~/Documents/coding/JuliaEO2024/test_rcm_2.ipynb:1"
     ]
    }
   ],
   "source": [
    "\n",
    " area = Test_name.Download.Metadata.coordinate_to_geojson(lat_min,lon_min)"
   ]
  },
  {
   "cell_type": "code",
   "execution_count": null,
   "metadata": {},
   "outputs": [],
   "source": [
    "res = download_metadata_rcm(username=\"Aalling93\", password = \"Security1234!\");"
   ]
  },
  {
   "cell_type": "code",
   "execution_count": null,
   "metadata": {},
   "outputs": [],
   "source": []
  },
  {
   "cell_type": "code",
   "execution_count": null,
   "metadata": {},
   "outputs": [],
   "source": []
  },
  {
   "cell_type": "code",
   "execution_count": 148,
   "metadata": {},
   "outputs": [
    {
     "data": {
      "text/plain": [
       "download_metadata_rcm (generic function with 1 method)"
      ]
     },
     "metadata": {},
     "output_type": "display_data"
    }
   ],
   "source": [
    "\n",
    "\n",
    "\n",
    "\n",
    "@pyimport eodms_rapi\n",
    "function download_metadata_rcm(; area, \n",
    "    start_datetime::String=\"2022-10-10\", \n",
    "    end_datetime::String=\"2022-10-11\", \n",
    "    max_records::Int64=10,\n",
    "    collection::String = \"RCM\",\n",
    "    polarization::Array{String} = [\"HH\", \"HH HV\", \"HH HV VH VV\", \"HH VV\",],\n",
    "    product_type::Array{String} =  [\"GCC\", \"GCD\", \"GRC\", \"GRD\"],\n",
    "    bean_mode::String = \"ScanSAR 50%\",\n",
    "    spatial_resolution::String = \"50\",\n",
    "    username::String = \"username\",\n",
    "    password::String = \"password\",\n",
    "    verbose::Int = 1)  # Adjust product type if needed\n",
    "    \n",
    "    # Define the base URL for the Sentinel-1 data collection\n",
    "    start_time = Test_name.Download.Metadata.to_rcm_time(start_datetime);\n",
    "    end_time = Test_name.Download.Metadata.to_rcm_time(end_datetime);\n",
    "    \n",
    "\n",
    "\n",
    "    #filters = Dict(\n",
    "    #    \"Product Type\" => (\"=\", product_type),\n",
    "    #    \"Polarization\" => (\"=\", polarization),\n",
    "    #    \"Beam Mode Type\" => (\"=\", bean_mode)  # Assuming this is what you meant instead of repeating \"Beam Mode Type\"\n",
    "    #)\n",
    "    filters = Dict(\n",
    "        \"Product Type\" => (\"like\", product_type),\n",
    "        \"Spatial Resolution\" => (\"=\", spatial_resolution),\n",
    "        \"Polarization\" => (\"like\", polarization),\n",
    "        \"Beam Mode\" => (\"contains\", bean_mode)  # Assuming this is what you meant instead of repeating \"Beam Mode Type\"\n",
    "    )\n",
    "    #filters = Dict(\n",
    "    # #   \"Product Type\" => (\"contains\", \"GRD\"),\n",
    "    #    \"Spatial Resolution\" => (\"=\", \"50\"),\n",
    "    #    \"Polarization\" => (\"contains\", \"HH\"),\n",
    "    #    \"Beam Mode\" => (\"contains\", \"ScanSAR 50%\")  # Assuming this is what you meant instead of repeating \"Beam Mode Type\"\n",
    "    #)\n",
    "\n",
    "\n",
    "    \n",
    "    dates = [Dict(\"start\" => start_time, \"end\" => end_time)]\n",
    "\n",
    "    # Import the Python module\n",
    "    #@pyimport pandas as pd\n",
    "    \n",
    "    #features = area, f\n",
    "    # Create the EODMSRAPI object using Python code\n",
    "    rapi = eodms_rapi.EODMSRAPI(username, password)\n",
    "    # Call the search method from the Python module #filters, feats, dates, \n",
    "    rapi.search(collection = \"RCMImageProducts\", filters = filters, features = [],dates = dates, max_results=max_records)\n",
    "    # Get the results from the search\n",
    "    res = rapi.get_results(\"full\")\n",
    "\n",
    "    return res\n",
    "end\n",
    "\n"
   ]
  },
  {
   "cell_type": "code",
   "execution_count": 149,
   "metadata": {},
   "outputs": [
    {
     "ename": "UndefKeywordError",
     "evalue": "UndefKeywordError: keyword argument area not assigned",
     "output_type": "error",
     "traceback": [
      "UndefKeywordError: keyword argument area not assigned\n",
      "\n",
      "Stacktrace:\n",
      " [1] top-level scope\n",
      "   @ ~/Documents/coding/JuliaEO2024/test_rcm_2.ipynb:1"
     ]
    }
   ],
   "source": [
    "res = download_metadata_rcm(username=\"Aalling93\", password = \"Security1234!\");"
   ]
  },
  {
   "cell_type": "code",
   "execution_count": 150,
   "metadata": {},
   "outputs": [
    {
     "data": {
      "text/plain": [
       "Dict{Any, Any} with 99 entries:\n",
       "  \"satellite\"                   => \"RCM\"\n",
       "  \"productDatum\"                => \"\"\n",
       "  \"rapiOrderUrl\"                => \"https://www.eodms-sgdot.nrcan-rncan.gc.ca/w…\n",
       "  \"serviceUuid\"                 => \"62f0e816-8006-4768-8f32-6ef4008e6895\"\n",
       "  \"openData\"                    => \"false\"\n",
       "  \"sampledPixelSpacing\"         => \"20\"\n",
       "  \"subcollectionId\"             => \"2\"\n",
       "  \"providerId\"                  => \"1\"\n",
       "  \"orbitDataSource\"             => \"Downlinked\"\n",
       "  \"thumbnailUrl\"                => \"https://www.eodms-sgdot.nrcan-rncan.gc.ca/w…\n",
       "  \"collectionId\"                => \"RCMImageProducts\"\n",
       "  \"specialHandlingInstructions\" => \"No special handling required, use per EULA\"\n",
       "  \"datasetId\"                   => \"2291684_1\"\n",
       "  \"eulaFilename\"                => \"license.pdf\"\n",
       "  \"processorVersion\"            => \"RCM PGS 7.06\"\n",
       "  \"polarization\"                => \"HH HV\"\n",
       "  \"numberOfRangeLooks\"          => \"4\"\n",
       "  \"metadataFullUrl\"             => \"https://www.eodms-sgdot.nrcan-rncan.gc.ca/w…\n",
       "  \"sensorId\"                    => \"88\"\n",
       "  ⋮                             => ⋮"
      ]
     },
     "metadata": {},
     "output_type": "display_data"
    }
   ],
   "source": [
    "res[1]"
   ]
  },
  {
   "cell_type": "code",
   "execution_count": 136,
   "metadata": {},
   "outputs": [
    {
     "data": {
      "text/plain": [
       "make_directory_recursive (generic function with 1 method)"
      ]
     },
     "metadata": {},
     "output_type": "display_data"
    }
   ],
   "source": [
    "# Function to create a directory and its parents if they don't exist\n",
    "function make_directory_recursive(path::String)\n",
    "    # Split the path into parts\n",
    "    path_parts = split(path, \"/\")\n",
    "    partial_path = \"\"\n",
    "\n",
    "    # Iterate through parts of the path\n",
    "    for part in path_parts\n",
    "        # Update the partial path\n",
    "        partial_path = joinpath(partial_path, part)\n",
    "\n",
    "        # Check if this part of the path exists\n",
    "        if !isdir(partial_path) && partial_path != \"\"\n",
    "            # Create the directory if it doesn't exist\n",
    "            mkdir(partial_path)\n",
    "        end\n",
    "    end\n",
    "end"
   ]
  },
  {
   "cell_type": "code",
   "execution_count": null,
   "metadata": {},
   "outputs": [],
   "source": []
  },
  {
   "cell_type": "code",
   "execution_count": 145,
   "metadata": {},
   "outputs": [
    {
     "data": {
      "text/plain": [
       "download_product_rcm (generic function with 1 method)"
      ]
     },
     "metadata": {},
     "output_type": "display_data"
    }
   ],
   "source": [
    "@pyimport eodms_rapi\n",
    "function download_product_rcm(; username::String, password::String, product_result::Dict{Any, Any}, destination::String) \n",
    "\n",
    "    #make_directory_recursive(destination)\n",
    "    rapi = eodms_rapi.EODMSRAPI(username, password)\n",
    "\n",
    "    order_res = rapi.order(product_result)\n",
    "    download = rapi.download(order_res, destination)\n",
    "    rapi.clear_results()\n",
    "    return nothing \n",
    "end\n",
    "\n"
   ]
  },
  {
   "cell_type": "code",
   "execution_count": 146,
   "metadata": {},
   "outputs": [
    {
     "data": {
      "text/plain": [
       "\"/Users/kaaso/Documents/coding/JuliaEO2024/test_rcm_data\""
      ]
     },
     "metadata": {},
     "output_type": "display_data"
    }
   ],
   "source": [
    "path = \"/Users/kaaso/Documents/coding/JuliaEO2024/sss\"\n",
    "path = \"/Users/kaaso/Documents/coding/JuliaEO2024/test_rcm_data\""
   ]
  },
  {
   "cell_type": "code",
   "execution_count": 139,
   "metadata": {},
   "outputs": [],
   "source": [
    "make_directory_recursive(path)"
   ]
  },
  {
   "cell_type": "code",
   "execution_count": null,
   "metadata": {},
   "outputs": [],
   "source": []
  },
  {
   "cell_type": "code",
   "execution_count": 147,
   "metadata": {},
   "outputs": [
    {
     "ename": "PyCall.PyError",
     "evalue": "PyError ($(Expr(:escape, :(ccall(#= /Users/kaaso/.julia/packages/PyCall/KLzIO/src/pyfncall.jl:43 =# @pysym(:PyObject_Call), PyPtr, (PyPtr, PyPtr, PyPtr), o, pyargsptr, kw))))) <class 'TypeError'>\nTypeError('string indices must be integers')\n  File \"/opt/homebrew/Caskroom/miniforge/base/envs/sar_ais_2/lib/python3.9/site-packages/eodms_rapi/eodms.py\", line 3099, in order\n    item = {'collectionId': r[coll_key],\n",
     "output_type": "error",
     "traceback": [
      "PyError ($(Expr(:escape, :(ccall(#= /Users/kaaso/.julia/packages/PyCall/KLzIO/src/pyfncall.jl:43 =# @pysym(:PyObject_Call), PyPtr, (PyPtr, PyPtr, PyPtr), o, pyargsptr, kw))))) <class 'TypeError'>\n",
      "TypeError('string indices must be integers')\n",
      "  File \"/opt/homebrew/Caskroom/miniforge/base/envs/sar_ais_2/lib/python3.9/site-packages/eodms_rapi/eodms.py\", line 3099, in order\n",
      "    item = {'collectionId': r[coll_key],\n",
      "\n",
      "\n",
      "Stacktrace:\n",
      "  [1] pyerr_check\n",
      "    @ ~/.julia/packages/PyCall/KLzIO/src/exception.jl:75 [inlined]\n",
      "  [2] pyerr_check\n",
      "    @ ~/.julia/packages/PyCall/KLzIO/src/exception.jl:79 [inlined]\n",
      "  [3] _handle_error(msg::String)\n",
      "    @ PyCall ~/.julia/packages/PyCall/KLzIO/src/exception.jl:96\n",
      "  [4] macro expansion\n",
      "    @ ~/.julia/packages/PyCall/KLzIO/src/exception.jl:110 [inlined]\n",
      "  [5] #107\n",
      "    @ ~/.julia/packages/PyCall/KLzIO/src/pyfncall.jl:43 [inlined]\n",
      "  [6] disable_sigint\n",
      "    @ ./c.jl:473 [inlined]\n",
      "  [7] __pycall!\n",
      "    @ ~/.julia/packages/PyCall/KLzIO/src/pyfncall.jl:42 [inlined]\n",
      "  [8] _pycall!(ret::PyObject, o::PyObject, args::Tuple{Dict{Any, Any}}, nargs::Int64, kw::Ptr{Nothing})\n",
      "    @ PyCall ~/.julia/packages/PyCall/KLzIO/src/pyfncall.jl:29\n",
      "  [9] _pycall!(ret::PyObject, o::PyObject, args::Tuple{Dict{Any, Any}}, kwargs::Base.Pairs{Symbol, Union{}, Tuple{}, NamedTuple{(), Tuple{}}})\n",
      "    @ PyCall ~/.julia/packages/PyCall/KLzIO/src/pyfncall.jl:11\n",
      " [10] (::PyObject)(::Dict{Any, Any}, ::Vararg{Any}; kwargs::Base.Pairs{Symbol, Union{}, Tuple{}, NamedTuple{(), Tuple{}}})\n",
      "    @ PyCall ~/.julia/packages/PyCall/KLzIO/src/pyfncall.jl:86\n",
      " [11] (::PyObject)(::Dict{Any, Any}, ::Vararg{Any})\n",
      "    @ PyCall ~/.julia/packages/PyCall/KLzIO/src/pyfncall.jl:86\n",
      " [12] download_product_rcm(; username::String, password::String, product_result::Dict{Any, Any}, destination::String)\n",
      "    @ Main ~/Documents/coding/JuliaEO2024/test_rcm_2.ipynb:7\n",
      " [13] top-level scope\n",
      "    @ ~/Documents/coding/JuliaEO2024/test_rcm_2.ipynb:1"
     ]
    }
   ],
   "source": [
    "download_product_rcm(username=\"Aalling93\", password = \"Security1234!\",product_result = res[1],destination = path)"
   ]
  },
  {
   "cell_type": "code",
   "execution_count": 124,
   "metadata": {},
   "outputs": [
    {
     "data": {
      "text/plain": [
       "Dict{Any, Any} with 99 entries:\n",
       "  \"satellite\"                   => \"RCM\"\n",
       "  \"productDatum\"                => \"\"\n",
       "  \"rapiOrderUrl\"                => \"https://www.eodms-sgdot.nrcan-rncan.gc.ca/w…\n",
       "  \"serviceUuid\"                 => \"62f0e816-8006-4768-8f32-6ef4008e6895\"\n",
       "  \"openData\"                    => \"false\"\n",
       "  \"sampledPixelSpacing\"         => \"20\"\n",
       "  \"subcollectionId\"             => \"2\"\n",
       "  \"providerId\"                  => \"1\"\n",
       "  \"orbitDataSource\"             => \"Downlinked\"\n",
       "  \"thumbnailUrl\"                => \"https://www.eodms-sgdot.nrcan-rncan.gc.ca/w…\n",
       "  \"collectionId\"                => \"RCMImageProducts\"\n",
       "  \"specialHandlingInstructions\" => \"No special handling required, use per EULA\"\n",
       "  \"datasetId\"                   => \"2291684_1\"\n",
       "  \"eulaFilename\"                => \"license.pdf\"\n",
       "  \"processorVersion\"            => \"RCM PGS 7.06\"\n",
       "  \"polarization\"                => \"HH HV\"\n",
       "  \"numberOfRangeLooks\"          => \"4\"\n",
       "  \"metadataFullUrl\"             => \"https://www.eodms-sgdot.nrcan-rncan.gc.ca/w…\n",
       "  \"sensorId\"                    => \"88\"\n",
       "  ⋮                             => ⋮"
      ]
     },
     "metadata": {},
     "output_type": "display_data"
    }
   ],
   "source": [
    "res[1]"
   ]
  },
  {
   "cell_type": "code",
   "execution_count": 125,
   "metadata": {},
   "outputs": [
    {
     "data": {
      "text/plain": [
       "make_directory_recursive (generic function with 1 method)"
      ]
     },
     "metadata": {},
     "output_type": "display_data"
    }
   ],
   "source": []
  },
  {
   "cell_type": "code",
   "execution_count": 126,
   "metadata": {},
   "outputs": [],
   "source": [
    "make_directory_recursive(path)"
   ]
  },
  {
   "cell_type": "code",
   "execution_count": null,
   "metadata": {},
   "outputs": [],
   "source": [
    "# Download images to a specific destination\n",
    "dest = \"C:\\\\TEMP\"\n",
    "dn_res = rapi.download(order_res, dest)\n",
    "\n",
    "# Print results\n",
    "rapi.print_results(dn_res)\n",
    "\n",
    "# Clear search results\n",
    "rapi.clear_results()"
   ]
  },
  {
   "cell_type": "code",
   "execution_count": null,
   "metadata": {},
   "outputs": [],
   "source": []
  },
  {
   "cell_type": "code",
   "execution_count": 108,
   "metadata": {},
   "outputs": [],
   "source": [
    "df = Test_name.Download.Metadata.vector_of_dicts_to_dataframe(res);"
   ]
  },
  {
   "cell_type": "code",
   "execution_count": 110,
   "metadata": {},
   "outputs": [
    {
     "data": {
      "text/html": [
       "<div><div style = \"float: left;\"><span>10×111 DataFrame</span></div><div style = \"float: right;\"><span style = \"font-style: italic;\">11 columns omitted</span></div><div style = \"clear: both;\"></div></div><div class = \"data-frame\" style = \"overflow-x: scroll;\"><table class = \"data-frame\" style = \"margin-bottom: 6px;\"><thead><tr class = \"header\"><th class = \"rowNumber\" style = \"font-weight: bold; text-align: right;\">Row</th><th style = \"text-align: left;\">satellite</th><th style = \"text-align: left;\">productDatum</th><th style = \"text-align: left;\">rapiOrderUrl</th><th style = \"text-align: left;\">serviceUuid</th><th style = \"text-align: left;\">openData</th><th style = \"text-align: left;\">sampledPixelSpacing</th><th style = \"text-align: left;\">subcollectionId</th><th style = \"text-align: left;\">providerId</th><th style = \"text-align: left;\">orbitDataSource</th><th style = \"text-align: left;\">thumbnailUrl</th><th style = \"text-align: left;\">collectionId</th><th style = \"text-align: left;\">specialHandlingInstructions</th><th style = \"text-align: left;\">datasetId</th><th style = \"text-align: left;\">eulaFilename</th><th style = \"text-align: left;\">processorVersion</th><th style = \"text-align: left;\">polarization</th><th style = \"text-align: left;\">numberOfRangeLooks</th><th style = \"text-align: left;\">metadataFullUrl</th><th style = \"text-align: left;\">sensorId</th><th style = \"text-align: left;\">sensorFolder</th><th style = \"text-align: left;\">quicklookFullName</th><th style = \"text-align: left;\">clientOrderNumber</th><th style = \"text-align: left;\">acquisitionEndDate</th><th style = \"text-align: left;\">metadataFullName</th><th style = \"text-align: left;\">beamModeDefinitionId</th><th style = \"text-align: left;\">sipSize</th><th style = \"text-align: left;\">geometry_crs_properties_name</th><th style = \"text-align: left;\">creationDate</th><th style = \"text-align: left;\">spatialResolution</th><th style = \"text-align: left;\">downlinkSegmentId</th><th style = \"text-align: left;\">specialHandlingRequired</th><th style = \"text-align: left;\">overviewUrl</th><th style = \"text-align: left;\">sampleType</th><th style = \"text-align: left;\">dataType</th><th style = \"text-align: left;\">geometry_coordinates_10</th><th style = \"text-align: left;\">incidenceAngle</th><th style = \"text-align: left;\">inter-polarizationMatricesCorrection</th><th style = \"text-align: left;\">supplierOrderItemNumber</th><th style = \"text-align: left;\">inputDatasetFacility</th><th style = \"text-align: left;\">geometry_coordinates_4</th><th style = \"text-align: left;\">lutApplied</th><th style = \"text-align: left;\">dopplerAnomalyGrid</th><th style = \"text-align: left;\">lookOrientation</th><th style = \"text-align: left;\">archiveVisibilityStartDate</th><th style = \"text-align: left;\">thisRecordUrl</th><th style = \"text-align: left;\">productMapZone</th><th style = \"text-align: left;\">beamMnemonic</th><th style = \"text-align: left;\">relativeOrbit</th><th style = \"text-align: left;\">beamModeVersion</th><th style = \"text-align: left;\">securityClassification</th><th style = \"text-align: left;\">collectionTitle</th><th style = \"text-align: left;\">processingFacility</th><th style = \"text-align: left;\">isGeorectified</th><th style = \"text-align: left;\">calibrationIssues</th><th style = \"text-align: left;\">geometry_coordinates_7</th><th style = \"text-align: left;\">geometry_type</th><th style = \"text-align: left;\">metadata</th><th style = \"text-align: left;\">buyerId</th><th style = \"text-align: left;\">polarizationInProduct</th><th style = \"text-align: left;\">acquisitionStartDate</th><th style = \"text-align: left;\">notifiedClientEmailList</th><th style = \"text-align: left;\">absoluteOrbit</th><th style = \"text-align: left;\">recordId</th><th style = \"text-align: left;\">geometry_coordinates_1</th><th style = \"text-align: left;\">productFormat</th><th style = \"text-align: left;\">geometry_coordinates_2</th><th style = \"text-align: left;\">orderExecuteUrl</th><th style = \"text-align: left;\">geometry_coordinates_9</th><th style = \"text-align: left;\">productMapProjection</th><th style = \"text-align: left;\">beamModeDescription</th><th style = \"text-align: left;\">geographicalArea</th><th style = \"text-align: left;\">vapEnabled</th><th style = \"text-align: left;\">processingPriority</th><th style = \"text-align: left;\">featureId</th><th style = \"text-align: left;\">relatedProducts</th><th style = \"text-align: left;\">geometry_coordinates_5</th><th style = \"text-align: left;\">productOrientation</th><th style = \"text-align: left;\">geometry_coordinates_8</th><th style = \"text-align: left;\">orbitDataFilename</th><th style = \"text-align: left;\">isOrderable</th><th style = \"text-align: left;\">processingLevel</th><th style = \"text-align: left;\">supplierOrderNumber</th><th style = \"text-align: left;\">satelliteId</th><th style = \"text-align: left;\">options</th><th style = \"text-align: left;\">geometry_crs_type</th><th style = \"text-align: left;\">publicGood</th><th style = \"text-align: left;\">numberOfAzimuthLooks</th><th style = \"text-align: left;\">productEllipsoid</th><th style = \"text-align: left;\">sequenceId</th><th style = \"text-align: left;\">geometry_coordinates_3</th><th style = \"text-align: left;\">title</th><th style = \"text-align: left;\">geodeticTerrainHeight</th><th style = \"text-align: left;\">productId</th><th style = \"text-align: left;\">geometry_coordinates_6</th><th style = \"text-align: left;\">ownerId</th><th style = \"text-align: left;\">declassificationDate</th><th style = \"text-align: left;\">processingMode</th><th style = \"text-align: left;\">processingDate</th><th style = \"text-align: left;\">wktGeometry</th><th style = \"text-align: left;\">withinOrbitTube</th><th style = \"text-align: right;\">&ctdot;</th></tr><tr class = \"subheader headerLastRow\"><th class = \"rowNumber\" style = \"font-weight: bold; text-align: right;\"></th><th title = \"String\" style = \"text-align: left;\">String</th><th title = \"String\" style = \"text-align: left;\">String</th><th title = \"String\" style = \"text-align: left;\">String</th><th title = \"String\" style = \"text-align: left;\">String</th><th title = \"String\" style = \"text-align: left;\">String</th><th title = \"String\" style = \"text-align: left;\">String</th><th title = \"String\" style = \"text-align: left;\">String</th><th title = \"String\" style = \"text-align: left;\">String</th><th title = \"String\" style = \"text-align: left;\">String</th><th title = \"String\" style = \"text-align: left;\">String</th><th title = \"String\" style = \"text-align: left;\">String</th><th title = \"String\" style = \"text-align: left;\">String</th><th title = \"String\" style = \"text-align: left;\">String</th><th title = \"String\" style = \"text-align: left;\">String</th><th title = \"String\" style = \"text-align: left;\">String</th><th title = \"String\" style = \"text-align: left;\">String</th><th title = \"String\" style = \"text-align: left;\">String</th><th title = \"String\" style = \"text-align: left;\">String</th><th title = \"String\" style = \"text-align: left;\">String</th><th title = \"String\" style = \"text-align: left;\">String</th><th title = \"String\" style = \"text-align: left;\">String</th><th title = \"String\" style = \"text-align: left;\">String</th><th title = \"String\" style = \"text-align: left;\">String</th><th title = \"String\" style = \"text-align: left;\">String</th><th title = \"String\" style = \"text-align: left;\">String</th><th title = \"String\" style = \"text-align: left;\">String</th><th title = \"String\" style = \"text-align: left;\">String</th><th title = \"String\" style = \"text-align: left;\">String</th><th title = \"String\" style = \"text-align: left;\">String</th><th title = \"String\" style = \"text-align: left;\">String</th><th title = \"String\" style = \"text-align: left;\">String</th><th title = \"String\" style = \"text-align: left;\">String</th><th title = \"String\" style = \"text-align: left;\">String</th><th title = \"String\" style = \"text-align: left;\">String</th><th title = \"Float64\" style = \"text-align: left;\">Float64</th><th title = \"String\" style = \"text-align: left;\">String</th><th title = \"String\" style = \"text-align: left;\">String</th><th title = \"String\" style = \"text-align: left;\">String</th><th title = \"String\" style = \"text-align: left;\">String</th><th title = \"Float64\" style = \"text-align: left;\">Float64</th><th title = \"String\" style = \"text-align: left;\">String</th><th title = \"String\" style = \"text-align: left;\">String</th><th title = \"String\" style = \"text-align: left;\">String</th><th title = \"String\" style = \"text-align: left;\">String</th><th title = \"String\" style = \"text-align: left;\">String</th><th title = \"String\" style = \"text-align: left;\">String</th><th title = \"String\" style = \"text-align: left;\">String</th><th title = \"String\" style = \"text-align: left;\">String</th><th title = \"String\" style = \"text-align: left;\">String</th><th title = \"String\" style = \"text-align: left;\">String</th><th title = \"String\" style = \"text-align: left;\">String</th><th title = \"String\" style = \"text-align: left;\">String</th><th title = \"Bool\" style = \"text-align: left;\">Bool</th><th title = \"String\" style = \"text-align: left;\">String</th><th title = \"Float64\" style = \"text-align: left;\">Float64</th><th title = \"String\" style = \"text-align: left;\">String</th><th title = \"String\" style = \"text-align: left;\">String</th><th title = \"String\" style = \"text-align: left;\">String</th><th title = \"String\" style = \"text-align: left;\">String</th><th title = \"String\" style = \"text-align: left;\">String</th><th title = \"String\" style = \"text-align: left;\">String</th><th title = \"String\" style = \"text-align: left;\">String</th><th title = \"String\" style = \"text-align: left;\">String</th><th title = \"Float64\" style = \"text-align: left;\">Float64</th><th title = \"String\" style = \"text-align: left;\">String</th><th title = \"Float64\" style = \"text-align: left;\">Float64</th><th title = \"String\" style = \"text-align: left;\">String</th><th title = \"Float64\" style = \"text-align: left;\">Float64</th><th title = \"String\" style = \"text-align: left;\">String</th><th title = \"String\" style = \"text-align: left;\">String</th><th title = \"String\" style = \"text-align: left;\">String</th><th title = \"String\" style = \"text-align: left;\">String</th><th title = \"String\" style = \"text-align: left;\">String</th><th title = \"String\" style = \"text-align: left;\">String</th><th title = \"String\" style = \"text-align: left;\">String</th><th title = \"Float64\" style = \"text-align: left;\">Float64</th><th title = \"String\" style = \"text-align: left;\">String</th><th title = \"Float64\" style = \"text-align: left;\">Float64</th><th title = \"String\" style = \"text-align: left;\">String</th><th title = \"Bool\" style = \"text-align: left;\">Bool</th><th title = \"String\" style = \"text-align: left;\">String</th><th title = \"String\" style = \"text-align: left;\">String</th><th title = \"String\" style = \"text-align: left;\">String</th><th title = \"String\" style = \"text-align: left;\">String</th><th title = \"String\" style = \"text-align: left;\">String</th><th title = \"String\" style = \"text-align: left;\">String</th><th title = \"String\" style = \"text-align: left;\">String</th><th title = \"String\" style = \"text-align: left;\">String</th><th title = \"String\" style = \"text-align: left;\">String</th><th title = \"Float64\" style = \"text-align: left;\">Float64</th><th title = \"String\" style = \"text-align: left;\">String</th><th title = \"String\" style = \"text-align: left;\">String</th><th title = \"String\" style = \"text-align: left;\">String</th><th title = \"Float64\" style = \"text-align: left;\">Float64</th><th title = \"String\" style = \"text-align: left;\">String</th><th title = \"String\" style = \"text-align: left;\">String</th><th title = \"String\" style = \"text-align: left;\">String</th><th title = \"String\" style = \"text-align: left;\">String</th><th title = \"String\" style = \"text-align: left;\">String</th><th title = \"String\" style = \"text-align: left;\">String</th><th title = \"String\" style = \"text-align: right;\">&ctdot;</th></tr></thead><tbody><tr><td class = \"rowNumber\" style = \"font-weight: bold; text-align: right;\">1</td><td style = \"text-align: left;\">RCM</td><td style = \"text-align: left;\"></td><td style = \"text-align: left;\">https://www.eodms-sgdot.nrcan-rncan.gc.ca/wes/rapi/order/direct?collection=RCMImageProducts&amp;recordId=14068734&amp;destination=fill_me_in</td><td style = \"text-align: left;\">62f0e816-8006-4768-8f32-6ef4008e6895</td><td style = \"text-align: left;\">false</td><td style = \"text-align: left;\">20</td><td style = \"text-align: left;\">2</td><td style = \"text-align: left;\">1</td><td style = \"text-align: left;\">Downlinked</td><td style = \"text-align: left;\">https://www.eodms-sgdot.nrcan-rncan.gc.ca/wes/getObject?FeatureID=62f0e816-8006-4768-8f32-6ef4008e6895-14068734&amp;ObjectType=Thumbview&amp;collectionId=RCMImageProducts&amp;AFB=true</td><td style = \"text-align: left;\">RCMImageProducts</td><td style = \"text-align: left;\">No special handling required, use per EULA</td><td style = \"text-align: left;\">2291684_1</td><td style = \"text-align: left;\">license.pdf</td><td style = \"text-align: left;\">RCM PGS 7.06</td><td style = \"text-align: left;\">HH HV</td><td style = \"text-align: left;\">4</td><td style = \"text-align: left;\">https://www.eodms-sgdot.nrcan-rncan.gc.ca/wes/getArchivedMetadata?FeatureID=62f0e816-8006-4768-8f32-6ef4008e6895-14068734&amp;MetadataFileName=/rcm/sar/l1/2022/noamer/med50/rcm_20221010_N4992W13238/ec9bbb44-f900-5acc-9f20-05c75c072c76&amp;collectionId=RCMImageProducts&amp;fileName=catalog/image/rcm/sar/l1/2022/noamer/med50/rcm_20221010_N4992W13238/ec9bbb44-f900-5acc-9f20-05c75c072c76/https://www.eodms-sgdot.nrcan-rncan.gc.ca/wes/getArchivedMetadata?FeatureID=62f0e816-8006-4768-8f32-6ef4008e6895-14068734&amp;MetadataFileName=/rcm/sar/l1/2022/noamer/med50/rcm_20221010_N4992W13238/ec9bbb44-f900-5acc-9f20-05c75c072c76&amp;collectionId=RCMImageProducts&amp;fileName=catalog/image/rcm/sar/l1/2022/noamer/med50/rcm_20221010_N4992W13238/ec9bbb44-f900-5acc-9f20-05c75c072c76/product.xml</td><td style = \"text-align: left;\">88</td><td style = \"text-align: left;\">med50</td><td style = \"text-align: left;\">/rcm/sar/l1/2022/noamer/med50/rcm_20221010_N4992W13238/355239/ec9bbb44-f900-5acc-9f20-05c75c072c76.png</td><td style = \"text-align: left;\"></td><td style = \"text-align: left;\">2022-10-10T02:39:02 +0000</td><td style = \"text-align: left;\">/rcm/sar/l1/2022/noamer/med50/rcm_20221010_N4992W13238/ec9bbb44-f900-5acc-9f20-05c75c072c76</td><td style = \"text-align: left;\">22</td><td style = \"text-align: left;\">867</td><td style = \"text-align: left;\">EPSG:4326</td><td style = \"text-align: left;\">2022-10-10T02:47:58 +0000</td><td style = \"text-align: left;\">50</td><td style = \"text-align: left;\">5094546_5099001</td><td style = \"text-align: left;\">false</td><td style = \"text-align: left;\">http://was-eodms.compusult.net/wes/images/No_Data_Available.png</td><td style = \"text-align: left;\">Magnitude Detected</td><td style = \"text-align: left;\">Integer</td><td style = \"text-align: right;\">50.7474</td><td style = \"text-align: left;\">52</td><td style = \"text-align: left;\"></td><td style = \"text-align: left;\"></td><td style = \"text-align: left;\">ICAN</td><td style = \"text-align: right;\">-130.136</td><td style = \"text-align: left;\">Mixed</td><td style = \"text-align: left;\">false</td><td style = \"text-align: left;\">Right</td><td style = \"text-align: left;\">2022-10-10T02:38:25 +0000</td><td style = \"text-align: left;\">https://www.eodms-sgdot.nrcan-rncan.gc.ca/wes/rapi/record/RCMImageProducts/14068734</td><td style = \"text-align: left;\"></td><td style = \"text-align: left;\">SC50MB</td><td style = \"text-align: left;\">92</td><td style = \"text-align: left;\">2</td><td style = \"text-align: left;\">Non classifié / Unclassified</td><td style = \"text-align: left;\">RCM Image Products</td><td style = \"text-align: left;\">SHUB</td><td style = \"text-align: right;\">false</td><td style = \"text-align: left;\">Calibrated</td><td style = \"text-align: right;\">48.5229</td><td style = \"text-align: left;\">Polygon</td><td style = \"text-align: left;\">dummy value</td><td style = \"text-align: left;\">5</td><td style = \"text-align: left;\">HH HV</td><td style = \"text-align: left;\">2022-10-10T02:38:25 +0000</td><td style = \"text-align: left;\"></td><td style = \"text-align: left;\">18131.0</td><td style = \"text-align: left;\">14068734</td><td style = \"text-align: right;\">-135.199</td><td style = \"text-align: left;\">GeoTIFF</td><td style = \"text-align: right;\">-134.487</td><td style = \"text-align: left;\">https://www.eodms-sgdot.nrcan-rncan.gc.ca/wes/Client/?entryPoint=preview#?cseq=RCMImageProducts&amp;record=14068734&amp;searchId=90952585&amp;noparentwindow=true</td><td style = \"text-align: right;\">51.2916</td><td style = \"text-align: left;\"></td><td style = \"text-align: left;\">ScanSAR 50m Resolution 350km Swath B</td><td style = \"text-align: left;\"></td><td style = \"text-align: left;\">true</td><td style = \"text-align: left;\"></td><td style = \"text-align: left;\">62f0e816-8006-4768-8f32-6ef4008e6895-14068734</td><td style = \"text-align: left;\"></td><td style = \"text-align: right;\">-135.199</td><td style = \"text-align: left;\"></td><td style = \"text-align: right;\">49.0636</td><td style = \"text-align: left;\">RCM-2_2022-10-09T11-18-28_018131.PRED_ORBIT_SV</td><td style = \"text-align: right;\">true</td><td style = \"text-align: left;\">l1</td><td style = \"text-align: left;\">RCM2_OK2095282_PK2291684_1_SC50MB_20221010_023826_HH_HV_GRD</td><td style = \"text-align: left;\">RCM-2</td><td style = \"text-align: left;\"></td><td style = \"text-align: left;\">name</td><td style = \"text-align: left;\">false</td><td style = \"text-align: left;\">1</td><td style = \"text-align: left;\">WGS 1984</td><td style = \"text-align: left;\">14068734</td><td style = \"text-align: right;\">-129.651</td><td style = \"text-align: left;\">RCM2_OK2095282_PK2291684_1_SC50MB_20221010_023826_HH_HV_GRD</td><td style = \"text-align: left;\">0</td><td style = \"text-align: left;\">2291684_1</td><td style = \"text-align: right;\">50.7474</td><td style = \"text-align: left;\">2</td><td style = \"text-align: left;\">1900-01-01T00:00:00 +0000</td><td style = \"text-align: left;\">Expedited</td><td style = \"text-align: left;\">2022-10-10T02:44:55 +0000</td><td style = \"text-align: left;\">POLYGON ((-135.198586602703 50.7473659434967 0,-134.486806958665 48.5229269423184 0,-129.651180600592 49.0636057192823 0,-130.135996555968 51.2916265834417 0,-135.198586602703 50.7473659434967 0))</td><td style = \"text-align: left;\">true</td><td style = \"text-align: right;\">&ctdot;</td></tr><tr><td class = \"rowNumber\" style = \"font-weight: bold; text-align: right;\">2</td><td style = \"text-align: left;\">RCM</td><td style = \"text-align: left;\"></td><td style = \"text-align: left;\">https://www.eodms-sgdot.nrcan-rncan.gc.ca/wes/rapi/order/direct?collection=RCMImageProducts&amp;recordId=14068733&amp;destination=fill_me_in</td><td style = \"text-align: left;\">62f0e816-8006-4768-8f32-6ef4008e6895</td><td style = \"text-align: left;\">false</td><td style = \"text-align: left;\">20</td><td style = \"text-align: left;\">2</td><td style = \"text-align: left;\">1</td><td style = \"text-align: left;\">Downlinked</td><td style = \"text-align: left;\">https://www.eodms-sgdot.nrcan-rncan.gc.ca/wes/getObject?FeatureID=62f0e816-8006-4768-8f32-6ef4008e6895-14068733&amp;ObjectType=Thumbview&amp;collectionId=RCMImageProducts&amp;AFB=true</td><td style = \"text-align: left;\">RCMImageProducts</td><td style = \"text-align: left;\">No special handling required, use per EULA</td><td style = \"text-align: left;\">2291685_1</td><td style = \"text-align: left;\">license.pdf</td><td style = \"text-align: left;\">RCM PGS 7.05</td><td style = \"text-align: left;\">HH HV</td><td style = \"text-align: left;\">4</td><td style = \"text-align: left;\">https://www.eodms-sgdot.nrcan-rncan.gc.ca/wes/getArchivedMetadata?FeatureID=62f0e816-8006-4768-8f32-6ef4008e6895-14068733&amp;MetadataFileName=/rcm/sar/l1/2022/noamer/med50/rcm_20221010_N4992W13238/17b6d3c6-d59d-5371-9d61-830b9a073516&amp;collectionId=RCMImageProducts&amp;fileName=catalog/image/rcm/sar/l1/2022/noamer/med50/rcm_20221010_N4992W13238/17b6d3c6-d59d-5371-9d61-830b9a073516/https://www.eodms-sgdot.nrcan-rncan.gc.ca/wes/getArchivedMetadata?FeatureID=62f0e816-8006-4768-8f32-6ef4008e6895-14068733&amp;MetadataFileName=/rcm/sar/l1/2022/noamer/med50/rcm_20221010_N4992W13238/17b6d3c6-d59d-5371-9d61-830b9a073516&amp;collectionId=RCMImageProducts&amp;fileName=catalog/image/rcm/sar/l1/2022/noamer/med50/rcm_20221010_N4992W13238/17b6d3c6-d59d-5371-9d61-830b9a073516/product.xml</td><td style = \"text-align: left;\">88</td><td style = \"text-align: left;\">med50</td><td style = \"text-align: left;\">/rcm/sar/l1/2022/noamer/med50/rcm_20221010_N4992W13238/355237/17b6d3c6-d59d-5371-9d61-830b9a073516.png</td><td style = \"text-align: left;\"></td><td style = \"text-align: left;\">2022-10-10T02:39:02 +0000</td><td style = \"text-align: left;\">/rcm/sar/l1/2022/noamer/med50/rcm_20221010_N4992W13238/17b6d3c6-d59d-5371-9d61-830b9a073516</td><td style = \"text-align: left;\">22</td><td style = \"text-align: left;\">867</td><td style = \"text-align: left;\">EPSG:4326</td><td style = \"text-align: left;\">2022-10-10T02:47:17 +0000</td><td style = \"text-align: left;\">50</td><td style = \"text-align: left;\">5094546_5099001</td><td style = \"text-align: left;\">false</td><td style = \"text-align: left;\">http://was-eodms.compusult.net/wes/images/No_Data_Available.png</td><td style = \"text-align: left;\">Magnitude Detected</td><td style = \"text-align: left;\">Integer</td><td style = \"text-align: right;\">50.7474</td><td style = \"text-align: left;\">52</td><td style = \"text-align: left;\"></td><td style = \"text-align: left;\"></td><td style = \"text-align: left;\">ICAN</td><td style = \"text-align: right;\">-130.136</td><td style = \"text-align: left;\">Mixed</td><td style = \"text-align: left;\">false</td><td style = \"text-align: left;\">Right</td><td style = \"text-align: left;\">2022-10-10T02:38:25 +0000</td><td style = \"text-align: left;\">https://www.eodms-sgdot.nrcan-rncan.gc.ca/wes/rapi/record/RCMImageProducts/14068733</td><td style = \"text-align: left;\"></td><td style = \"text-align: left;\">SC50MB</td><td style = \"text-align: left;\">92</td><td style = \"text-align: left;\">2</td><td style = \"text-align: left;\">Non classifié / Unclassified</td><td style = \"text-align: left;\">RCM Image Products</td><td style = \"text-align: left;\">SHUB</td><td style = \"text-align: right;\">false</td><td style = \"text-align: left;\">Calibrated</td><td style = \"text-align: right;\">48.5229</td><td style = \"text-align: left;\">Polygon</td><td style = \"text-align: left;\">dummy value</td><td style = \"text-align: left;\">5</td><td style = \"text-align: left;\">HH HV</td><td style = \"text-align: left;\">2022-10-10T02:38:25 +0000</td><td style = \"text-align: left;\"></td><td style = \"text-align: left;\">18131.0</td><td style = \"text-align: left;\">14068733</td><td style = \"text-align: right;\">-135.199</td><td style = \"text-align: left;\">GeoTIFF</td><td style = \"text-align: right;\">-134.487</td><td style = \"text-align: left;\">https://www.eodms-sgdot.nrcan-rncan.gc.ca/wes/Client/?entryPoint=preview#?cseq=RCMImageProducts&amp;record=14068733&amp;searchId=90952596&amp;noparentwindow=true</td><td style = \"text-align: right;\">51.2916</td><td style = \"text-align: left;\"></td><td style = \"text-align: left;\">ScanSAR 50m Resolution 350km Swath B</td><td style = \"text-align: left;\"></td><td style = \"text-align: left;\">true</td><td style = \"text-align: left;\"></td><td style = \"text-align: left;\">62f0e816-8006-4768-8f32-6ef4008e6895-14068733</td><td style = \"text-align: left;\"></td><td style = \"text-align: right;\">-135.199</td><td style = \"text-align: left;\"></td><td style = \"text-align: right;\">49.0636</td><td style = \"text-align: left;\">RCM-2_2022-10-09T11-18-28_018131.PRED_ORBIT_SV</td><td style = \"text-align: right;\">true</td><td style = \"text-align: left;\">l1</td><td style = \"text-align: left;\">RCM2_OK2067426_PK2291685_1_SC50MB_20221010_023826_HH_HV_GRD</td><td style = \"text-align: left;\">RCM-2</td><td style = \"text-align: left;\"></td><td style = \"text-align: left;\">name</td><td style = \"text-align: left;\">false</td><td style = \"text-align: left;\">1</td><td style = \"text-align: left;\">WGS 1984</td><td style = \"text-align: left;\">14068733</td><td style = \"text-align: right;\">-129.651</td><td style = \"text-align: left;\">RCM2_OK2067426_PK2291685_1_SC50MB_20221010_023826_HH_HV_GRD</td><td style = \"text-align: left;\">0</td><td style = \"text-align: left;\">2291685_1</td><td style = \"text-align: right;\">50.7474</td><td style = \"text-align: left;\">2</td><td style = \"text-align: left;\">1900-01-01T00:00:00 +0000</td><td style = \"text-align: left;\">Expedited</td><td style = \"text-align: left;\">2022-10-10T02:44:53 +0000</td><td style = \"text-align: left;\">POLYGON ((-135.198586602703 50.7473659434967 0,-134.486806958665 48.5229269423184 0,-129.651180600592 49.0636057192823 0,-130.135996555968 51.2916265834417 0,-135.198586602703 50.7473659434967 0))</td><td style = \"text-align: left;\">true</td><td style = \"text-align: right;\">&ctdot;</td></tr><tr><td class = \"rowNumber\" style = \"font-weight: bold; text-align: right;\">3</td><td style = \"text-align: left;\">RCM</td><td style = \"text-align: left;\"></td><td style = \"text-align: left;\">https://www.eodms-sgdot.nrcan-rncan.gc.ca/wes/rapi/order/direct?collection=RCMImageProducts&amp;recordId=14068720&amp;destination=fill_me_in</td><td style = \"text-align: left;\">62f0e816-8006-4768-8f32-6ef4008e6895</td><td style = \"text-align: left;\">false</td><td style = \"text-align: left;\">20</td><td style = \"text-align: left;\">2</td><td style = \"text-align: left;\">1</td><td style = \"text-align: left;\">Downlinked</td><td style = \"text-align: left;\">https://www.eodms-sgdot.nrcan-rncan.gc.ca/wes/getObject?FeatureID=62f0e816-8006-4768-8f32-6ef4008e6895-14068720&amp;ObjectType=Thumbview&amp;collectionId=RCMImageProducts&amp;AFB=true</td><td style = \"text-align: left;\">RCMImageProducts</td><td style = \"text-align: left;\">No special handling required, use per EULA</td><td style = \"text-align: left;\">2291690_1</td><td style = \"text-align: left;\">license.pdf</td><td style = \"text-align: left;\">RCM PGS 7.05</td><td style = \"text-align: left;\">HH HV</td><td style = \"text-align: left;\">4</td><td style = \"text-align: left;\">https://www.eodms-sgdot.nrcan-rncan.gc.ca/wes/getArchivedMetadata?FeatureID=62f0e816-8006-4768-8f32-6ef4008e6895-14068720&amp;MetadataFileName=/rcm/sar/l1/2022/noamer/med50/rcm_20221010_N4816W13071/f7e7318d-caec-5251-8fb6-77eccd16fb92&amp;collectionId=RCMImageProducts&amp;fileName=catalog/image/rcm/sar/l1/2022/noamer/med50/rcm_20221010_N4816W13071/f7e7318d-caec-5251-8fb6-77eccd16fb92/https://www.eodms-sgdot.nrcan-rncan.gc.ca/wes/getArchivedMetadata?FeatureID=62f0e816-8006-4768-8f32-6ef4008e6895-14068720&amp;MetadataFileName=/rcm/sar/l1/2022/noamer/med50/rcm_20221010_N4816W13071/f7e7318d-caec-5251-8fb6-77eccd16fb92&amp;collectionId=RCMImageProducts&amp;fileName=catalog/image/rcm/sar/l1/2022/noamer/med50/rcm_20221010_N4816W13071/f7e7318d-caec-5251-8fb6-77eccd16fb92/product.xml</td><td style = \"text-align: left;\">88</td><td style = \"text-align: left;\">med50</td><td style = \"text-align: left;\">/rcm/sar/l1/2022/noamer/med50/rcm_20221010_N4816W13071/355229/f7e7318d-caec-5251-8fb6-77eccd16fb92.png</td><td style = \"text-align: left;\"></td><td style = \"text-align: left;\">2022-10-10T02:38:20 +0000</td><td style = \"text-align: left;\">/rcm/sar/l1/2022/noamer/med50/rcm_20221010_N4816W13071/f7e7318d-caec-5251-8fb6-77eccd16fb92</td><td style = \"text-align: left;\">23</td><td style = \"text-align: left;\">331</td><td style = \"text-align: left;\">EPSG:4326</td><td style = \"text-align: left;\">2022-10-10T02:44:30 +0000</td><td style = \"text-align: left;\">50</td><td style = \"text-align: left;\">5094544_5098990</td><td style = \"text-align: left;\">false</td><td style = \"text-align: left;\">http://was-eodms.compusult.net/wes/images/No_Data_Available.png</td><td style = \"text-align: left;\">Magnitude Detected</td><td style = \"text-align: left;\">Integer</td><td style = \"text-align: right;\">48.3352</td><td style = \"text-align: left;\">52</td><td style = \"text-align: left;\"></td><td style = \"text-align: left;\"></td><td style = \"text-align: left;\">ICAN</td><td style = \"text-align: right;\">-128.397</td><td style = \"text-align: left;\">Ship-1</td><td style = \"text-align: left;\">false</td><td style = \"text-align: left;\">Right</td><td style = \"text-align: left;\">2022-10-10T02:38:06 +0000</td><td style = \"text-align: left;\">https://www.eodms-sgdot.nrcan-rncan.gc.ca/wes/rapi/record/RCMImageProducts/14068720</td><td style = \"text-align: left;\"></td><td style = \"text-align: left;\">SC50MC</td><td style = \"text-align: left;\">92</td><td style = \"text-align: left;\">2</td><td style = \"text-align: left;\">Non classifié / Unclassified</td><td style = \"text-align: left;\">RCM Image Products</td><td style = \"text-align: left;\">SHUB</td><td style = \"text-align: right;\">false</td><td style = \"text-align: left;\">Calibrated</td><td style = \"text-align: right;\">47.4904</td><td style = \"text-align: left;\">Polygon</td><td style = \"text-align: left;\">dummy value</td><td style = \"text-align: left;\">5</td><td style = \"text-align: left;\">HH HV</td><td style = \"text-align: left;\">2022-10-10T02:38:06 +0000</td><td style = \"text-align: left;\"></td><td style = \"text-align: left;\">18131.0</td><td style = \"text-align: left;\">14068720</td><td style = \"text-align: right;\">-133.213</td><td style = \"text-align: left;\">GeoTIFF</td><td style = \"text-align: right;\">-132.977</td><td style = \"text-align: left;\">https://www.eodms-sgdot.nrcan-rncan.gc.ca/wes/Client/?entryPoint=preview#?cseq=RCMImageProducts&amp;record=14068720&amp;searchId=90952557&amp;noparentwindow=true</td><td style = \"text-align: right;\">48.8253</td><td style = \"text-align: left;\"></td><td style = \"text-align: left;\">ScanSAR 50m Resolution 350km Swath C</td><td style = \"text-align: left;\"></td><td style = \"text-align: left;\">true</td><td style = \"text-align: left;\">Medium</td><td style = \"text-align: left;\">62f0e816-8006-4768-8f32-6ef4008e6895-14068720</td><td style = \"text-align: left;\"></td><td style = \"text-align: right;\">-133.213</td><td style = \"text-align: left;\"></td><td style = \"text-align: right;\">47.9811</td><td style = \"text-align: left;\">RCM-2_2022-10-09T11-18-28_018131.PRED_ORBIT_SV</td><td style = \"text-align: right;\">true</td><td style = \"text-align: left;\">l1</td><td style = \"text-align: left;\">RCM2_OK2143548_PK2291690_1_SC50MC_20221010_023732_HH_HV_GRD</td><td style = \"text-align: left;\">RCM-2</td><td style = \"text-align: left;\"></td><td style = \"text-align: left;\">name</td><td style = \"text-align: left;\">false</td><td style = \"text-align: left;\">1</td><td style = \"text-align: left;\">WGS 1984</td><td style = \"text-align: left;\">14068720</td><td style = \"text-align: right;\">-128.239</td><td style = \"text-align: left;\">RCM2_OK2143548_PK2291690_1_SC50MC_20221010_023732_HH_HV_GRD</td><td style = \"text-align: left;\">-21.623806</td><td style = \"text-align: left;\">2291690_1</td><td style = \"text-align: right;\">48.3352</td><td style = \"text-align: left;\">2</td><td style = \"text-align: left;\">1900-01-01T00:00:00 +0000</td><td style = \"text-align: left;\">Standard</td><td style = \"text-align: left;\">2022-10-10T02:41:35 +0000</td><td style = \"text-align: left;\">POLYGON ((-133.213180486399 48.3352494582293 0,-132.976705047834 47.4903765075589 0,-128.238699328921 47.9810822541411 0,-128.39658091377 48.8253096988675 0,-133.213180486399 48.3352494582293 0))</td><td style = \"text-align: left;\">true</td><td style = \"text-align: right;\">&ctdot;</td></tr><tr><td class = \"rowNumber\" style = \"font-weight: bold; text-align: right;\">4</td><td style = \"text-align: left;\">RCM</td><td style = \"text-align: left;\"></td><td style = \"text-align: left;\">https://www.eodms-sgdot.nrcan-rncan.gc.ca/wes/rapi/order/direct?collection=RCMImageProducts&amp;recordId=14068721&amp;destination=fill_me_in</td><td style = \"text-align: left;\">62f0e816-8006-4768-8f32-6ef4008e6895</td><td style = \"text-align: left;\">false</td><td style = \"text-align: left;\">20</td><td style = \"text-align: left;\">2</td><td style = \"text-align: left;\">1</td><td style = \"text-align: left;\">Downlinked</td><td style = \"text-align: left;\">https://www.eodms-sgdot.nrcan-rncan.gc.ca/wes/getObject?FeatureID=62f0e816-8006-4768-8f32-6ef4008e6895-14068721&amp;ObjectType=Thumbview&amp;collectionId=RCMImageProducts&amp;AFB=true</td><td style = \"text-align: left;\">RCMImageProducts</td><td style = \"text-align: left;\">No special handling required, use per EULA</td><td style = \"text-align: left;\">2291678_1</td><td style = \"text-align: left;\">license.pdf</td><td style = \"text-align: left;\">RCM PGS 7.06</td><td style = \"text-align: left;\">HH HV</td><td style = \"text-align: left;\">4</td><td style = \"text-align: left;\">https://www.eodms-sgdot.nrcan-rncan.gc.ca/wes/getArchivedMetadata?FeatureID=62f0e816-8006-4768-8f32-6ef4008e6895-14068721&amp;MetadataFileName=/rcm/sar/l1/2022/noamer/med50/rcm_20221010_N4764W13060/4b267e4a-b793-5077-84b8-60a3da231a07&amp;collectionId=RCMImageProducts&amp;fileName=catalog/image/rcm/sar/l1/2022/noamer/med50/rcm_20221010_N4764W13060/4b267e4a-b793-5077-84b8-60a3da231a07/https://www.eodms-sgdot.nrcan-rncan.gc.ca/wes/getArchivedMetadata?FeatureID=62f0e816-8006-4768-8f32-6ef4008e6895-14068721&amp;MetadataFileName=/rcm/sar/l1/2022/noamer/med50/rcm_20221010_N4764W13060/4b267e4a-b793-5077-84b8-60a3da231a07&amp;collectionId=RCMImageProducts&amp;fileName=catalog/image/rcm/sar/l1/2022/noamer/med50/rcm_20221010_N4764W13060/4b267e4a-b793-5077-84b8-60a3da231a07/product.xml</td><td style = \"text-align: left;\">88</td><td style = \"text-align: left;\">med50</td><td style = \"text-align: left;\">/rcm/sar/l1/2022/noamer/med50/rcm_20221010_N4764W13060/355230/4b267e4a-b793-5077-84b8-60a3da231a07.png</td><td style = \"text-align: left;\"></td><td style = \"text-align: left;\">2022-10-10T02:38:23 +0000</td><td style = \"text-align: left;\">/rcm/sar/l1/2022/noamer/med50/rcm_20221010_N4764W13060/4b267e4a-b793-5077-84b8-60a3da231a07</td><td style = \"text-align: left;\">23</td><td style = \"text-align: left;\">890</td><td style = \"text-align: left;\">EPSG:4326</td><td style = \"text-align: left;\">2022-10-10T02:44:36 +0000</td><td style = \"text-align: left;\">50</td><td style = \"text-align: left;\">5094544_5098990</td><td style = \"text-align: left;\">false</td><td style = \"text-align: left;\">http://was-eodms.compusult.net/wes/images/No_Data_Available.png</td><td style = \"text-align: left;\">Magnitude Detected</td><td style = \"text-align: left;\">Integer</td><td style = \"text-align: right;\">48.5204</td><td style = \"text-align: left;\">52</td><td style = \"text-align: left;\"></td><td style = \"text-align: left;\"></td><td style = \"text-align: left;\">ICAN</td><td style = \"text-align: right;\">-128.431</td><td style = \"text-align: left;\">Mixed</td><td style = \"text-align: left;\">false</td><td style = \"text-align: left;\">Right</td><td style = \"text-align: left;\">2022-10-10T02:37:45 +0000</td><td style = \"text-align: left;\">https://www.eodms-sgdot.nrcan-rncan.gc.ca/wes/rapi/record/RCMImageProducts/14068721</td><td style = \"text-align: left;\"></td><td style = \"text-align: left;\">SC50MC</td><td style = \"text-align: left;\">92</td><td style = \"text-align: left;\">2</td><td style = \"text-align: left;\">Non classifié / Unclassified</td><td style = \"text-align: left;\">RCM Image Products</td><td style = \"text-align: left;\">SHUB</td><td style = \"text-align: right;\">false</td><td style = \"text-align: left;\">Calibrated</td><td style = \"text-align: right;\">46.2298</td><td style = \"text-align: left;\">Polygon</td><td style = \"text-align: left;\">dummy value</td><td style = \"text-align: left;\">5</td><td style = \"text-align: left;\">HH HV</td><td style = \"text-align: left;\">2022-10-10T02:37:45 +0000</td><td style = \"text-align: left;\"></td><td style = \"text-align: left;\">18131.0</td><td style = \"text-align: left;\">14068721</td><td style = \"text-align: right;\">-133.272</td><td style = \"text-align: left;\">GeoTIFF</td><td style = \"text-align: right;\">-132.638</td><td style = \"text-align: left;\">https://www.eodms-sgdot.nrcan-rncan.gc.ca/wes/Client/?entryPoint=preview#?cseq=RCMImageProducts&amp;record=14068721&amp;searchId=90952556&amp;noparentwindow=true</td><td style = \"text-align: right;\">49.0111</td><td style = \"text-align: left;\"></td><td style = \"text-align: left;\">ScanSAR 50m Resolution 350km Swath C</td><td style = \"text-align: left;\"></td><td style = \"text-align: left;\">true</td><td style = \"text-align: left;\"></td><td style = \"text-align: left;\">62f0e816-8006-4768-8f32-6ef4008e6895-14068721</td><td style = \"text-align: left;\"></td><td style = \"text-align: right;\">-133.272</td><td style = \"text-align: left;\"></td><td style = \"text-align: right;\">46.7226</td><td style = \"text-align: left;\">RCM-2_2022-10-09T11-18-28_018131.PRED_ORBIT_SV</td><td style = \"text-align: right;\">true</td><td style = \"text-align: left;\">l1</td><td style = \"text-align: left;\">RCM2_OK2095282_PK2291678_1_SC50MC_20221010_023732_HH_HV_GRD</td><td style = \"text-align: left;\">RCM-2</td><td style = \"text-align: left;\"></td><td style = \"text-align: left;\">name</td><td style = \"text-align: left;\">false</td><td style = \"text-align: left;\">1</td><td style = \"text-align: left;\">WGS 1984</td><td style = \"text-align: left;\">14068721</td><td style = \"text-align: right;\">-128.005</td><td style = \"text-align: left;\">RCM2_OK2095282_PK2291678_1_SC50MC_20221010_023732_HH_HV_GRD</td><td style = \"text-align: left;\">0</td><td style = \"text-align: left;\">2291678_1</td><td style = \"text-align: right;\">48.5204</td><td style = \"text-align: left;\">2</td><td style = \"text-align: left;\">1900-01-01T00:00:00 +0000</td><td style = \"text-align: left;\">Expedited</td><td style = \"text-align: left;\">2022-10-10T02:42:10 +0000</td><td style = \"text-align: left;\">POLYGON ((-133.271840478404 48.5203586241053 0,-132.638462426029 46.2298447058452 0,-128.005098602827 46.7225819194317 0,-128.43104783913 49.0110728113414 0,-133.271840478404 48.5203586241053 0))</td><td style = \"text-align: left;\">true</td><td style = \"text-align: right;\">&ctdot;</td></tr><tr><td class = \"rowNumber\" style = \"font-weight: bold; text-align: right;\">5</td><td style = \"text-align: left;\">RCM</td><td style = \"text-align: left;\"></td><td style = \"text-align: left;\">https://www.eodms-sgdot.nrcan-rncan.gc.ca/wes/rapi/order/direct?collection=RCMImageProducts&amp;recordId=14068731&amp;destination=fill_me_in</td><td style = \"text-align: left;\">62f0e816-8006-4768-8f32-6ef4008e6895</td><td style = \"text-align: left;\">false</td><td style = \"text-align: left;\">20</td><td style = \"text-align: left;\">2</td><td style = \"text-align: left;\">1</td><td style = \"text-align: left;\">Downlinked</td><td style = \"text-align: left;\">https://www.eodms-sgdot.nrcan-rncan.gc.ca/wes/getObject?FeatureID=62f0e816-8006-4768-8f32-6ef4008e6895-14068731&amp;ObjectType=Thumbview&amp;collectionId=RCMImageProducts&amp;AFB=true</td><td style = \"text-align: left;\">RCMImageProducts</td><td style = \"text-align: left;\">No special handling required, use per EULA</td><td style = \"text-align: left;\">2291679_1</td><td style = \"text-align: left;\">license.pdf</td><td style = \"text-align: left;\">RCM PGS 7.06</td><td style = \"text-align: left;\">HH HV</td><td style = \"text-align: left;\">4</td><td style = \"text-align: left;\">https://www.eodms-sgdot.nrcan-rncan.gc.ca/wes/getArchivedMetadata?FeatureID=62f0e816-8006-4768-8f32-6ef4008e6895-14068731&amp;MetadataFileName=/rcm/sar/l1/2022/noamer/med50/rcm_20221010_N4724W13051/c60bee70-7390-5d55-8d3c-bbbf12082e83&amp;collectionId=RCMImageProducts&amp;fileName=catalog/image/rcm/sar/l1/2022/noamer/med50/rcm_20221010_N4724W13051/c60bee70-7390-5d55-8d3c-bbbf12082e83/https://www.eodms-sgdot.nrcan-rncan.gc.ca/wes/getArchivedMetadata?FeatureID=62f0e816-8006-4768-8f32-6ef4008e6895-14068731&amp;MetadataFileName=/rcm/sar/l1/2022/noamer/med50/rcm_20221010_N4724W13051/c60bee70-7390-5d55-8d3c-bbbf12082e83&amp;collectionId=RCMImageProducts&amp;fileName=catalog/image/rcm/sar/l1/2022/noamer/med50/rcm_20221010_N4724W13051/c60bee70-7390-5d55-8d3c-bbbf12082e83/product.xml</td><td style = \"text-align: left;\">88</td><td style = \"text-align: left;\">med50</td><td style = \"text-align: left;\">/rcm/sar/l1/2022/noamer/med50/rcm_20221010_N4724W13051/355235/c60bee70-7390-5d55-8d3c-bbbf12082e83.png</td><td style = \"text-align: left;\"></td><td style = \"text-align: left;\">2022-10-10T02:38:23 +0000</td><td style = \"text-align: left;\">/rcm/sar/l1/2022/noamer/med50/rcm_20221010_N4724W13051/c60bee70-7390-5d55-8d3c-bbbf12082e83</td><td style = \"text-align: left;\">23</td><td style = \"text-align: left;\">1207</td><td style = \"text-align: left;\">EPSG:4326</td><td style = \"text-align: left;\">2022-10-10T02:46:01 +0000</td><td style = \"text-align: left;\">50</td><td style = \"text-align: left;\">5094544_5098990</td><td style = \"text-align: left;\">false</td><td style = \"text-align: left;\">http://was-eodms.compusult.net/wes/images/No_Data_Available.png</td><td style = \"text-align: left;\">Magnitude Detected</td><td style = \"text-align: left;\">Integer</td><td style = \"text-align: right;\">48.5195</td><td style = \"text-align: left;\">52</td><td style = \"text-align: left;\"></td><td style = \"text-align: left;\"></td><td style = \"text-align: left;\">ICAN</td><td style = \"text-align: right;\">-128.431</td><td style = \"text-align: left;\">Mixed</td><td style = \"text-align: left;\">false</td><td style = \"text-align: left;\">Right</td><td style = \"text-align: left;\">2022-10-10T02:37:32 +0000</td><td style = \"text-align: left;\">https://www.eodms-sgdot.nrcan-rncan.gc.ca/wes/rapi/record/RCMImageProducts/14068731</td><td style = \"text-align: left;\"></td><td style = \"text-align: left;\">SC50MC</td><td style = \"text-align: left;\">92</td><td style = \"text-align: left;\">2</td><td style = \"text-align: left;\">Non classifié / Unclassified</td><td style = \"text-align: left;\">RCM Image Products</td><td style = \"text-align: left;\">SHUB</td><td style = \"text-align: right;\">false</td><td style = \"text-align: left;\">Calibrated</td><td style = \"text-align: right;\">45.4137</td><td style = \"text-align: left;\">Polygon</td><td style = \"text-align: left;\">dummy value</td><td style = \"text-align: left;\">5</td><td style = \"text-align: left;\">HH HV</td><td style = \"text-align: left;\">2022-10-10T02:37:32 +0000</td><td style = \"text-align: left;\"></td><td style = \"text-align: left;\">18131.0</td><td style = \"text-align: left;\">14068731</td><td style = \"text-align: right;\">-133.279</td><td style = \"text-align: left;\">GeoTIFF</td><td style = \"text-align: right;\">-132.428</td><td style = \"text-align: left;\">https://www.eodms-sgdot.nrcan-rncan.gc.ca/wes/Client/?entryPoint=preview#?cseq=RCMImageProducts&amp;record=14068731&amp;searchId=90952597&amp;noparentwindow=true</td><td style = \"text-align: right;\">49.0111</td><td style = \"text-align: left;\"></td><td style = \"text-align: left;\">ScanSAR 50m Resolution 350km Swath C</td><td style = \"text-align: left;\"></td><td style = \"text-align: left;\">true</td><td style = \"text-align: left;\"></td><td style = \"text-align: left;\">62f0e816-8006-4768-8f32-6ef4008e6895-14068731</td><td style = \"text-align: left;\"></td><td style = \"text-align: right;\">-133.279</td><td style = \"text-align: left;\"></td><td style = \"text-align: right;\">45.9083</td><td style = \"text-align: left;\">RCM-2_2022-10-09T11-18-28_018131.PRED_ORBIT_SV</td><td style = \"text-align: right;\">true</td><td style = \"text-align: left;\">l1</td><td style = \"text-align: left;\">RCM2_OK2067426_PK2291679_1_SC50MC_20221010_023732_HH_HV_GRD</td><td style = \"text-align: left;\">RCM-2</td><td style = \"text-align: left;\"></td><td style = \"text-align: left;\">name</td><td style = \"text-align: left;\">false</td><td style = \"text-align: left;\">1</td><td style = \"text-align: left;\">WGS 1984</td><td style = \"text-align: left;\">14068731</td><td style = \"text-align: right;\">-127.855</td><td style = \"text-align: left;\">RCM2_OK2067426_PK2291679_1_SC50MC_20221010_023732_HH_HV_GRD</td><td style = \"text-align: left;\">0</td><td style = \"text-align: left;\">2291679_1</td><td style = \"text-align: right;\">48.5195</td><td style = \"text-align: left;\">2</td><td style = \"text-align: left;\">1900-01-01T00:00:00 +0000</td><td style = \"text-align: left;\">Expedited</td><td style = \"text-align: left;\">2022-10-10T02:43:08 +0000</td><td style = \"text-align: left;\">POLYGON ((-133.278968343576 48.5195003157837 0,-132.427614350708 45.4136842387378 0,-127.855384307466 45.9082946956808 0,-128.431026023436 49.0110959178619 0,-133.278968343576 48.5195003157837 0))</td><td style = \"text-align: left;\">true</td><td style = \"text-align: right;\">&ctdot;</td></tr><tr><td class = \"rowNumber\" style = \"font-weight: bold; text-align: right;\">6</td><td style = \"text-align: left;\">RCM</td><td style = \"text-align: left;\"></td><td style = \"text-align: left;\">https://www.eodms-sgdot.nrcan-rncan.gc.ca/wes/rapi/order/direct?collection=RCMImageProducts&amp;recordId=14068922&amp;destination=fill_me_in</td><td style = \"text-align: left;\">62f0e816-8006-4768-8f32-6ef4008e6895</td><td style = \"text-align: left;\">false</td><td style = \"text-align: left;\">20</td><td style = \"text-align: left;\">2</td><td style = \"text-align: left;\">1</td><td style = \"text-align: left;\">Downlinked</td><td style = \"text-align: left;\">https://www.eodms-sgdot.nrcan-rncan.gc.ca/wes/getObject?FeatureID=62f0e816-8006-4768-8f32-6ef4008e6895-14068922&amp;ObjectType=Thumbview&amp;collectionId=RCMImageProducts&amp;AFB=true</td><td style = \"text-align: left;\">RCMImageProducts</td><td style = \"text-align: left;\">No special handling required, use per EULA</td><td style = \"text-align: left;\">2291772_1</td><td style = \"text-align: left;\">license.pdf</td><td style = \"text-align: left;\">RCM PGS 7.06</td><td style = \"text-align: left;\">HH HV</td><td style = \"text-align: left;\">4</td><td style = \"text-align: left;\">https://www.eodms-sgdot.nrcan-rncan.gc.ca/wes/getArchivedMetadata?FeatureID=62f0e816-8006-4768-8f32-6ef4008e6895-14068922&amp;MetadataFileName=/rcm/sar/l1/2022/eurnasia/med50/rcm_20221010_N7143E06224/3a3fbd45-088c-5971-9d68-72801208b2b2&amp;collectionId=RCMImageProducts&amp;fileName=catalog/image/rcm/sar/l1/2022/eurnasia/med50/rcm_20221010_N7143E06224/3a3fbd45-088c-5971-9d68-72801208b2b2/https://www.eodms-sgdot.nrcan-rncan.gc.ca/wes/getArchivedMetadata?FeatureID=62f0e816-8006-4768-8f32-6ef4008e6895-14068922&amp;MetadataFileName=/rcm/sar/l1/2022/eurnasia/med50/rcm_20221010_N7143E06224/3a3fbd45-088c-5971-9d68-72801208b2b2&amp;collectionId=RCMImageProducts&amp;fileName=catalog/image/rcm/sar/l1/2022/eurnasia/med50/rcm_20221010_N7143E06224/3a3fbd45-088c-5971-9d68-72801208b2b2/product.xml</td><td style = \"text-align: left;\">88</td><td style = \"text-align: left;\">med50</td><td style = \"text-align: left;\">/rcm/sar/l1/2022/eurnasia/med50/rcm_20221010_N7143E06224/355287/3a3fbd45-088c-5971-9d68-72801208b2b2.png</td><td style = \"text-align: left;\"></td><td style = \"text-align: left;\">2022-10-10T02:22:46 +0000</td><td style = \"text-align: left;\">/rcm/sar/l1/2022/eurnasia/med50/rcm_20221010_N7143E06224/3a3fbd45-088c-5971-9d68-72801208b2b2</td><td style = \"text-align: left;\">23</td><td style = \"text-align: left;\">643</td><td style = \"text-align: left;\">EPSG:4326</td><td style = \"text-align: left;\">2022-10-10T04:00:51 +0000</td><td style = \"text-align: left;\">50</td><td style = \"text-align: left;\">5094489_5099240</td><td style = \"text-align: left;\">false</td><td style = \"text-align: left;\">http://was-eodms.compusult.net/wes/images/No_Data_Available.png</td><td style = \"text-align: left;\">Magnitude Detected</td><td style = \"text-align: left;\">Integer</td><td style = \"text-align: right;\">72.5261</td><td style = \"text-align: left;\">52</td><td style = \"text-align: left;\"></td><td style = \"text-align: left;\"></td><td style = \"text-align: left;\">ICAN</td><td style = \"text-align: right;\">67.8537</td><td style = \"text-align: left;\">Ice</td><td style = \"text-align: left;\">false</td><td style = \"text-align: left;\">Right</td><td style = \"text-align: left;\">2022-10-10T02:22:20 +0000</td><td style = \"text-align: left;\">https://www.eodms-sgdot.nrcan-rncan.gc.ca/wes/rapi/record/RCMImageProducts/14068922</td><td style = \"text-align: left;\"></td><td style = \"text-align: left;\">SC50MC</td><td style = \"text-align: left;\">32</td><td style = \"text-align: left;\">2</td><td style = \"text-align: left;\">Non classifié / Unclassified</td><td style = \"text-align: left;\">RCM Image Products</td><td style = \"text-align: left;\">SHUB</td><td style = \"text-align: right;\">false</td><td style = \"text-align: left;\">Calibrated</td><td style = \"text-align: right;\">70.9005</td><td style = \"text-align: left;\">Polygon</td><td style = \"text-align: left;\">dummy value</td><td style = \"text-align: left;\">5</td><td style = \"text-align: left;\">HH HV</td><td style = \"text-align: left;\">2022-10-10T02:22:20 +0000</td><td style = \"text-align: left;\"></td><td style = \"text-align: left;\">18131.0</td><td style = \"text-align: left;\">14068922</td><td style = \"text-align: right;\">57.4088</td><td style = \"text-align: left;\">GeoTIFF</td><td style = \"text-align: right;\">56.8471</td><td style = \"text-align: left;\">https://www.eodms-sgdot.nrcan-rncan.gc.ca/wes/Client/?entryPoint=preview#?cseq=RCMImageProducts&amp;record=14068922&amp;searchId=90952558&amp;noparentwindow=true</td><td style = \"text-align: right;\">71.8963</td><td style = \"text-align: left;\"></td><td style = \"text-align: left;\">ScanSAR 50m Resolution 350km Swath C</td><td style = \"text-align: left;\"></td><td style = \"text-align: left;\">true</td><td style = \"text-align: left;\">Low</td><td style = \"text-align: left;\">62f0e816-8006-4768-8f32-6ef4008e6895-14068922</td><td style = \"text-align: left;\"></td><td style = \"text-align: right;\">57.4088</td><td style = \"text-align: left;\"></td><td style = \"text-align: right;\">70.3027</td><td style = \"text-align: left;\">RCM-3_2022-10-09T10-55-31_018131.PRED_ORBIT_SV</td><td style = \"text-align: right;\">true</td><td style = \"text-align: left;\">l1</td><td style = \"text-align: left;\">RCM3_OK2142621_PK2291772_1_SC50MC_20221010_022220_HH_HV_GRD</td><td style = \"text-align: left;\">RCM-3</td><td style = \"text-align: left;\"></td><td style = \"text-align: left;\">name</td><td style = \"text-align: left;\">false</td><td style = \"text-align: left;\">1</td><td style = \"text-align: left;\">WGS 1984</td><td style = \"text-align: left;\">14068922</td><td style = \"text-align: right;\">66.4715</td><td style = \"text-align: left;\">RCM3_OK2142621_PK2291772_1_SC50MC_20221010_022220_HH_HV_GRD</td><td style = \"text-align: left;\">-4.8736873</td><td style = \"text-align: left;\">2291772_1</td><td style = \"text-align: right;\">72.5261</td><td style = \"text-align: left;\">2</td><td style = \"text-align: left;\">1900-01-01T00:00:00 +0000</td><td style = \"text-align: left;\">Standard</td><td style = \"text-align: left;\">2022-10-10T03:58:51 +0000</td><td style = \"text-align: left;\">POLYGON ((57.4087755128363 72.5261492068678 0,56.8470714412198 70.9004590502694 0,66.4715017503282 70.3026932804934 0,67.8537137758107 71.8962820456413 0,57.4087755128363 72.5261492068678 0))</td><td style = \"text-align: left;\">true</td><td style = \"text-align: right;\">&ctdot;</td></tr><tr><td class = \"rowNumber\" style = \"font-weight: bold; text-align: right;\">7</td><td style = \"text-align: left;\">RCM</td><td style = \"text-align: left;\"></td><td style = \"text-align: left;\">https://www.eodms-sgdot.nrcan-rncan.gc.ca/wes/rapi/order/direct?collection=RCMImageProducts&amp;recordId=14068916&amp;destination=fill_me_in</td><td style = \"text-align: left;\">62f0e816-8006-4768-8f32-6ef4008e6895</td><td style = \"text-align: left;\">false</td><td style = \"text-align: left;\">20</td><td style = \"text-align: left;\">2</td><td style = \"text-align: left;\">1</td><td style = \"text-align: left;\">Downlinked</td><td style = \"text-align: left;\">https://www.eodms-sgdot.nrcan-rncan.gc.ca/wes/getObject?FeatureID=62f0e816-8006-4768-8f32-6ef4008e6895-14068916&amp;ObjectType=Thumbview&amp;collectionId=RCMImageProducts&amp;AFB=true</td><td style = \"text-align: left;\">RCMImageProducts</td><td style = \"text-align: left;\">No special handling required, use per EULA</td><td style = \"text-align: left;\">2291743_1</td><td style = \"text-align: left;\">license.pdf</td><td style = \"text-align: left;\">RCM PGS 7.05</td><td style = \"text-align: left;\">HH HV</td><td style = \"text-align: left;\">4</td><td style = \"text-align: left;\">https://www.eodms-sgdot.nrcan-rncan.gc.ca/wes/getArchivedMetadata?FeatureID=62f0e816-8006-4768-8f32-6ef4008e6895-14068916&amp;MetadataFileName=/rcm/sar/l1/2022/eurnasia/med50/rcm_20221010_N6671E06993/9901911d-ce5d-53b4-aaa4-f76bc37dd38f&amp;collectionId=RCMImageProducts&amp;fileName=catalog/image/rcm/sar/l1/2022/eurnasia/med50/rcm_20221010_N6671E06993/9901911d-ce5d-53b4-aaa4-f76bc37dd38f/https://www.eodms-sgdot.nrcan-rncan.gc.ca/wes/getArchivedMetadata?FeatureID=62f0e816-8006-4768-8f32-6ef4008e6895-14068916&amp;MetadataFileName=/rcm/sar/l1/2022/eurnasia/med50/rcm_20221010_N6671E06993/9901911d-ce5d-53b4-aaa4-f76bc37dd38f&amp;collectionId=RCMImageProducts&amp;fileName=catalog/image/rcm/sar/l1/2022/eurnasia/med50/rcm_20221010_N6671E06993/9901911d-ce5d-53b4-aaa4-f76bc37dd38f/product.xml</td><td style = \"text-align: left;\">88</td><td style = \"text-align: left;\">med50</td><td style = \"text-align: left;\">/rcm/sar/l1/2022/eurnasia/med50/rcm_20221010_N6671E06993/355276/9901911d-ce5d-53b4-aaa4-f76bc37dd38f.png</td><td style = \"text-align: left;\"></td><td style = \"text-align: left;\">2022-10-10T01:51:23 +0000</td><td style = \"text-align: left;\">/rcm/sar/l1/2022/eurnasia/med50/rcm_20221010_N6671E06993/9901911d-ce5d-53b4-aaa4-f76bc37dd38f</td><td style = \"text-align: left;\">22</td><td style = \"text-align: left;\">431</td><td style = \"text-align: left;\">EPSG:4326</td><td style = \"text-align: left;\">2022-10-10T03:40:39 +0000</td><td style = \"text-align: left;\">50</td><td style = \"text-align: left;\">5094539_5099575</td><td style = \"text-align: left;\">false</td><td style = \"text-align: left;\">http://was-eodms.compusult.net/wes/images/No_Data_Available.png</td><td style = \"text-align: left;\">Magnitude Detected</td><td style = \"text-align: left;\">Integer</td><td style = \"text-align: right;\">67.5723</td><td style = \"text-align: left;\">52</td><td style = \"text-align: left;\"></td><td style = \"text-align: left;\"></td><td style = \"text-align: left;\">ICAN</td><td style = \"text-align: right;\">74.2742</td><td style = \"text-align: left;\">Ice</td><td style = \"text-align: left;\">false</td><td style = \"text-align: left;\">Right</td><td style = \"text-align: left;\">2022-10-10T01:51:05 +0000</td><td style = \"text-align: left;\">https://www.eodms-sgdot.nrcan-rncan.gc.ca/wes/rapi/record/RCMImageProducts/14068916</td><td style = \"text-align: left;\"></td><td style = \"text-align: left;\">SC50MB</td><td style = \"text-align: left;\">151</td><td style = \"text-align: left;\">2</td><td style = \"text-align: left;\">Non classifié / Unclassified</td><td style = \"text-align: left;\">RCM Image Products</td><td style = \"text-align: left;\">SHUB</td><td style = \"text-align: right;\">false</td><td style = \"text-align: left;\">Calibrated</td><td style = \"text-align: right;\">66.4782</td><td style = \"text-align: left;\">Polygon</td><td style = \"text-align: left;\">dummy value</td><td style = \"text-align: left;\">5</td><td style = \"text-align: left;\">HH HV</td><td style = \"text-align: left;\">2022-10-10T01:51:05 +0000</td><td style = \"text-align: left;\"></td><td style = \"text-align: left;\">18130.0</td><td style = \"text-align: left;\">14068916</td><td style = \"text-align: right;\">66.0748</td><td style = \"text-align: left;\">GeoTIFF</td><td style = \"text-align: right;\">65.6816</td><td style = \"text-align: left;\">https://www.eodms-sgdot.nrcan-rncan.gc.ca/wes/Client/?entryPoint=preview#?cseq=RCMImageProducts&amp;record=14068916&amp;searchId=90952559&amp;noparentwindow=true</td><td style = \"text-align: right;\">66.9156</td><td style = \"text-align: left;\"></td><td style = \"text-align: left;\">ScanSAR 50m Resolution 350km Swath B</td><td style = \"text-align: left;\"></td><td style = \"text-align: left;\">true</td><td style = \"text-align: left;\">Low</td><td style = \"text-align: left;\">62f0e816-8006-4768-8f32-6ef4008e6895-14068916</td><td style = \"text-align: left;\"></td><td style = \"text-align: right;\">66.0748</td><td style = \"text-align: left;\"></td><td style = \"text-align: right;\">65.8384</td><td style = \"text-align: left;\">RCM-1_2022-10-09T11-59-46_018130.PRED_ORBIT_SV</td><td style = \"text-align: right;\">true</td><td style = \"text-align: left;\">l1</td><td style = \"text-align: left;\">RCM1_OK2142621_PK2291743_1_SC50MB_20221010_015105_HH_HV_GRD</td><td style = \"text-align: left;\">RCM-1</td><td style = \"text-align: left;\"></td><td style = \"text-align: left;\">name</td><td style = \"text-align: left;\">false</td><td style = \"text-align: left;\">1</td><td style = \"text-align: left;\">WGS 1984</td><td style = \"text-align: left;\">14068916</td><td style = \"text-align: right;\">73.5362</td><td style = \"text-align: left;\">RCM1_OK2142621_PK2291743_1_SC50MB_20221010_015105_HH_HV_GRD</td><td style = \"text-align: left;\">57.90917</td><td style = \"text-align: left;\">2291743_1</td><td style = \"text-align: right;\">67.5723</td><td style = \"text-align: left;\">2</td><td style = \"text-align: left;\">1900-01-01T00:00:00 +0000</td><td style = \"text-align: left;\">Standard</td><td style = \"text-align: left;\">2022-10-10T03:31:18 +0000</td><td style = \"text-align: left;\">POLYGON ((66.0748174383582 67.5723437703539 0,65.6816351534123 66.4782376832495 0,73.5361552347898 65.8383920264597 0,74.2741722725939 66.9156397080262 0,66.0748174383582 67.5723437703539 0))</td><td style = \"text-align: left;\">true</td><td style = \"text-align: right;\">&ctdot;</td></tr><tr><td class = \"rowNumber\" style = \"font-weight: bold; text-align: right;\">8</td><td style = \"text-align: left;\">RCM</td><td style = \"text-align: left;\"></td><td style = \"text-align: left;\">https://www.eodms-sgdot.nrcan-rncan.gc.ca/wes/rapi/order/direct?collection=RCMImageProducts&amp;recordId=14068858&amp;destination=fill_me_in</td><td style = \"text-align: left;\">62f0e816-8006-4768-8f32-6ef4008e6895</td><td style = \"text-align: left;\">false</td><td style = \"text-align: left;\">20</td><td style = \"text-align: left;\">2</td><td style = \"text-align: left;\">1</td><td style = \"text-align: left;\">Downlinked</td><td style = \"text-align: left;\">https://www.eodms-sgdot.nrcan-rncan.gc.ca/wes/getObject?FeatureID=62f0e816-8006-4768-8f32-6ef4008e6895-14068858&amp;ObjectType=Thumbview&amp;collectionId=RCMImageProducts&amp;AFB=true</td><td style = \"text-align: left;\">RCMImageProducts</td><td style = \"text-align: left;\">No special handling required, use per EULA</td><td style = \"text-align: left;\">2291746_1</td><td style = \"text-align: left;\">license.pdf</td><td style = \"text-align: left;\">RCM PGS 7.06</td><td style = \"text-align: left;\">HH HV</td><td style = \"text-align: left;\">4</td><td style = \"text-align: left;\">https://www.eodms-sgdot.nrcan-rncan.gc.ca/wes/getArchivedMetadata?FeatureID=62f0e816-8006-4768-8f32-6ef4008e6895-14068858&amp;MetadataFileName=/rcm/sar/l1/2022/eurnasia/med50/rcm_20221010_N7884E07783/5af5090d-c971-5ef1-9888-a0249916b78c&amp;collectionId=RCMImageProducts&amp;fileName=catalog/image/rcm/sar/l1/2022/eurnasia/med50/rcm_20221010_N7884E07783/5af5090d-c971-5ef1-9888-a0249916b78c/https://www.eodms-sgdot.nrcan-rncan.gc.ca/wes/getArchivedMetadata?FeatureID=62f0e816-8006-4768-8f32-6ef4008e6895-14068858&amp;MetadataFileName=/rcm/sar/l1/2022/eurnasia/med50/rcm_20221010_N7884E07783/5af5090d-c971-5ef1-9888-a0249916b78c&amp;collectionId=RCMImageProducts&amp;fileName=catalog/image/rcm/sar/l1/2022/eurnasia/med50/rcm_20221010_N7884E07783/5af5090d-c971-5ef1-9888-a0249916b78c/product.xml</td><td style = \"text-align: left;\">88</td><td style = \"text-align: left;\">med50</td><td style = \"text-align: left;\">/rcm/sar/l1/2022/eurnasia/med50/rcm_20221010_N7884E07783/355275/5af5090d-c971-5ef1-9888-a0249916b78c.png</td><td style = \"text-align: left;\"></td><td style = \"text-align: left;\">2022-10-10T01:48:23 +0000</td><td style = \"text-align: left;\">/rcm/sar/l1/2022/eurnasia/med50/rcm_20221010_N7884E07783/5af5090d-c971-5ef1-9888-a0249916b78c</td><td style = \"text-align: left;\">23</td><td style = \"text-align: left;\">1286</td><td style = \"text-align: left;\">EPSG:4326</td><td style = \"text-align: left;\">2022-10-10T03:40:04 +0000</td><td style = \"text-align: left;\">50</td><td style = \"text-align: left;\">5094538_5099563</td><td style = \"text-align: left;\">false</td><td style = \"text-align: left;\">http://was-eodms.compusult.net/wes/images/No_Data_Available.png</td><td style = \"text-align: left;\">Magnitude Detected</td><td style = \"text-align: left;\">Integer</td><td style = \"text-align: right;\">80.7893</td><td style = \"text-align: left;\">52</td><td style = \"text-align: left;\"></td><td style = \"text-align: left;\"></td><td style = \"text-align: left;\">ICAN</td><td style = \"text-align: right;\">88.4817</td><td style = \"text-align: left;\">Ice</td><td style = \"text-align: left;\">false</td><td style = \"text-align: left;\">Right</td><td style = \"text-align: left;\">2022-10-10T01:47:30 +0000</td><td style = \"text-align: left;\">https://www.eodms-sgdot.nrcan-rncan.gc.ca/wes/rapi/record/RCMImageProducts/14068858</td><td style = \"text-align: left;\"></td><td style = \"text-align: left;\">SC50MC</td><td style = \"text-align: left;\">151</td><td style = \"text-align: left;\">2</td><td style = \"text-align: left;\">Non classifié / Unclassified</td><td style = \"text-align: left;\">RCM Image Products</td><td style = \"text-align: left;\">SHUB</td><td style = \"text-align: right;\">false</td><td style = \"text-align: left;\">Calibrated</td><td style = \"text-align: right;\">77.5445</td><td style = \"text-align: left;\">Polygon</td><td style = \"text-align: left;\">dummy value</td><td style = \"text-align: left;\">5</td><td style = \"text-align: left;\">HH HV</td><td style = \"text-align: left;\">2022-10-10T01:47:30 +0000</td><td style = \"text-align: left;\"></td><td style = \"text-align: left;\">18130.0</td><td style = \"text-align: left;\">14068858</td><td style = \"text-align: right;\">70.0479</td><td style = \"text-align: left;\">GeoTIFF</td><td style = \"text-align: right;\">67.662</td><td style = \"text-align: left;\">https://www.eodms-sgdot.nrcan-rncan.gc.ca/wes/Client/?entryPoint=preview#?cseq=RCMImageProducts&amp;record=14068858&amp;searchId=90952598&amp;noparentwindow=true</td><td style = \"text-align: right;\">79.7903</td><td style = \"text-align: left;\"></td><td style = \"text-align: left;\">ScanSAR 50m Resolution 350km Swath C</td><td style = \"text-align: left;\"></td><td style = \"text-align: left;\">true</td><td style = \"text-align: left;\">Low</td><td style = \"text-align: left;\">62f0e816-8006-4768-8f32-6ef4008e6895-14068858</td><td style = \"text-align: left;\"></td><td style = \"text-align: right;\">70.0479</td><td style = \"text-align: left;\"></td><td style = \"text-align: right;\">76.7534</td><td style = \"text-align: left;\">RCM-1_2022-10-09T11-59-46_018130.PRED_ORBIT_SV</td><td style = \"text-align: right;\">true</td><td style = \"text-align: left;\">l1</td><td style = \"text-align: left;\">RCM1_OK2142621_PK2291746_1_SC50MC_20221010_014730_HH_HV_GRD</td><td style = \"text-align: left;\">RCM-1</td><td style = \"text-align: left;\"></td><td style = \"text-align: left;\">name</td><td style = \"text-align: left;\">false</td><td style = \"text-align: left;\">1</td><td style = \"text-align: left;\">WGS 1984</td><td style = \"text-align: left;\">14068858</td><td style = \"text-align: right;\">81.8732</td><td style = \"text-align: left;\">RCM1_OK2142621_PK2291746_1_SC50MC_20221010_014730_HH_HV_GRD</td><td style = \"text-align: left;\">0.33445507</td><td style = \"text-align: left;\">2291746_1</td><td style = \"text-align: right;\">80.7893</td><td style = \"text-align: left;\">2</td><td style = \"text-align: left;\">1900-01-01T00:00:00 +0000</td><td style = \"text-align: left;\">Standard</td><td style = \"text-align: left;\">2022-10-10T03:35:59 +0000</td><td style = \"text-align: left;\">POLYGON ((70.0478881018715 80.789296494371 0,67.6620381608062 77.5444761102721 0,81.8731973132826 76.7534461081219 0,88.4817051168019 79.7903203215735 0,70.0478881018715 80.789296494371 0))</td><td style = \"text-align: left;\">true</td><td style = \"text-align: right;\">&ctdot;</td></tr><tr><td class = \"rowNumber\" style = \"font-weight: bold; text-align: right;\">9</td><td style = \"text-align: left;\">RCM</td><td style = \"text-align: left;\"></td><td style = \"text-align: left;\">https://www.eodms-sgdot.nrcan-rncan.gc.ca/wes/rapi/order/direct?collection=RCMImageProducts&amp;recordId=14068774&amp;destination=fill_me_in</td><td style = \"text-align: left;\">62f0e816-8006-4768-8f32-6ef4008e6895</td><td style = \"text-align: left;\">false</td><td style = \"text-align: left;\">20</td><td style = \"text-align: left;\">2</td><td style = \"text-align: left;\">1</td><td style = \"text-align: left;\">Downlinked</td><td style = \"text-align: left;\">https://www.eodms-sgdot.nrcan-rncan.gc.ca/wes/getObject?FeatureID=62f0e816-8006-4768-8f32-6ef4008e6895-14068774&amp;ObjectType=Thumbview&amp;collectionId=RCMImageProducts&amp;AFB=true</td><td style = \"text-align: left;\">RCMImageProducts</td><td style = \"text-align: left;\">No special handling required, use per EULA</td><td style = \"text-align: left;\">2291704_1</td><td style = \"text-align: left;\">license.pdf</td><td style = \"text-align: left;\">RCM PGS 7.05</td><td style = \"text-align: left;\">HH HV</td><td style = \"text-align: left;\">4</td><td style = \"text-align: left;\">https://www.eodms-sgdot.nrcan-rncan.gc.ca/wes/getArchivedMetadata?FeatureID=62f0e816-8006-4768-8f32-6ef4008e6895-14068774&amp;MetadataFileName=/rcm/sar/l1/2022/eurnasia/med50/rcm_20221010_N6768E07642/9620871f-0d90-5db0-bbf5-ddfbe7835353&amp;collectionId=RCMImageProducts&amp;fileName=catalog/image/rcm/sar/l1/2022/eurnasia/med50/rcm_20221010_N6768E07642/9620871f-0d90-5db0-bbf5-ddfbe7835353/https://www.eodms-sgdot.nrcan-rncan.gc.ca/wes/getArchivedMetadata?FeatureID=62f0e816-8006-4768-8f32-6ef4008e6895-14068774&amp;MetadataFileName=/rcm/sar/l1/2022/eurnasia/med50/rcm_20221010_N6768E07642/9620871f-0d90-5db0-bbf5-ddfbe7835353&amp;collectionId=RCMImageProducts&amp;fileName=catalog/image/rcm/sar/l1/2022/eurnasia/med50/rcm_20221010_N6768E07642/9620871f-0d90-5db0-bbf5-ddfbe7835353/product.xml</td><td style = \"text-align: left;\">88</td><td style = \"text-align: left;\">med50</td><td style = \"text-align: left;\">/rcm/sar/l1/2022/eurnasia/med50/rcm_20221010_N6768E07642/355249/9620871f-0d90-5db0-bbf5-ddfbe7835353.png</td><td style = \"text-align: left;\"></td><td style = \"text-align: left;\">2022-10-10T01:19:32 +0000</td><td style = \"text-align: left;\">/rcm/sar/l1/2022/eurnasia/med50/rcm_20221010_N6768E07642/9620871f-0d90-5db0-bbf5-ddfbe7835353</td><td style = \"text-align: left;\">23</td><td style = \"text-align: left;\">1368</td><td style = \"text-align: left;\">EPSG:4326</td><td style = \"text-align: left;\">2022-10-10T02:56:35 +0000</td><td style = \"text-align: left;\">50</td><td style = \"text-align: left;\">5094519_5099380</td><td style = \"text-align: left;\">false</td><td style = \"text-align: left;\">http://was-eodms.compusult.net/wes/images/No_Data_Available.png</td><td style = \"text-align: left;\">Magnitude Detected</td><td style = \"text-align: left;\">Integer</td><td style = \"text-align: right;\">69.616</td><td style = \"text-align: left;\">52</td><td style = \"text-align: left;\"></td><td style = \"text-align: left;\"></td><td style = \"text-align: left;\">ICAN</td><td style = \"text-align: right;\">81.6262</td><td style = \"text-align: left;\">Ice</td><td style = \"text-align: left;\">false</td><td style = \"text-align: left;\">Right</td><td style = \"text-align: left;\">2022-10-10T01:18:35 +0000</td><td style = \"text-align: left;\">https://www.eodms-sgdot.nrcan-rncan.gc.ca/wes/rapi/record/RCMImageProducts/14068774</td><td style = \"text-align: left;\"></td><td style = \"text-align: left;\">SC50MC</td><td style = \"text-align: left;\">91</td><td style = \"text-align: left;\">2</td><td style = \"text-align: left;\">Non classifié / Unclassified</td><td style = \"text-align: left;\">RCM Image Products</td><td style = \"text-align: left;\">SHUB</td><td style = \"text-align: right;\">false</td><td style = \"text-align: left;\">Calibrated</td><td style = \"text-align: right;\">66.1373</td><td style = \"text-align: left;\">Polygon</td><td style = \"text-align: left;\">dummy value</td><td style = \"text-align: left;\">5</td><td style = \"text-align: left;\">HH HV</td><td style = \"text-align: left;\">2022-10-10T01:18:35 +0000</td><td style = \"text-align: left;\"></td><td style = \"text-align: left;\">18130.0</td><td style = \"text-align: left;\">14068774</td><td style = \"text-align: right;\">72.5637</td><td style = \"text-align: left;\">GeoTIFF</td><td style = \"text-align: right;\">71.5829</td><td style = \"text-align: left;\">https://www.eodms-sgdot.nrcan-rncan.gc.ca/wes/Client/?entryPoint=preview#?cseq=RCMImageProducts&amp;record=14068774&amp;searchId=90952533&amp;noparentwindow=true</td><td style = \"text-align: right;\">69.0373</td><td style = \"text-align: left;\"></td><td style = \"text-align: left;\">ScanSAR 50m Resolution 350km Swath C</td><td style = \"text-align: left;\"></td><td style = \"text-align: left;\">true</td><td style = \"text-align: left;\">Low</td><td style = \"text-align: left;\">62f0e816-8006-4768-8f32-6ef4008e6895-14068774</td><td style = \"text-align: left;\"></td><td style = \"text-align: right;\">72.5637</td><td style = \"text-align: left;\"></td><td style = \"text-align: right;\">65.5998</td><td style = \"text-align: left;\">RCM-2_2022-10-09T11-18-28_018130.PRED_ORBIT_SV</td><td style = \"text-align: right;\">true</td><td style = \"text-align: left;\">l1</td><td style = \"text-align: left;\">RCM2_OK2142621_PK2291704_1_SC50MC_20221010_011835_HH_HV_GRD</td><td style = \"text-align: left;\">RCM-2</td><td style = \"text-align: left;\"></td><td style = \"text-align: left;\">name</td><td style = \"text-align: left;\">false</td><td style = \"text-align: left;\">1</td><td style = \"text-align: left;\">WGS 1984</td><td style = \"text-align: left;\">14068774</td><td style = \"text-align: right;\">79.4245</td><td style = \"text-align: left;\">RCM2_OK2142621_PK2291704_1_SC50MC_20221010_011835_HH_HV_GRD</td><td style = \"text-align: left;\">12.559556</td><td style = \"text-align: left;\">2291704_1</td><td style = \"text-align: right;\">69.616</td><td style = \"text-align: left;\">2</td><td style = \"text-align: left;\">1900-01-01T00:00:00 +0000</td><td style = \"text-align: left;\">Standard</td><td style = \"text-align: left;\">2022-10-10T02:54:21 +0000</td><td style = \"text-align: left;\">POLYGON ((72.5636849495397 69.6159812416526 0,71.582872558218 66.1372767622858 0,79.424542401054 65.5997514622668 0,81.6261722495723 69.0372653390899 0,72.5636849495397 69.6159812416526 0))</td><td style = \"text-align: left;\">true</td><td style = \"text-align: right;\">&ctdot;</td></tr><tr><td class = \"rowNumber\" style = \"font-weight: bold; text-align: right;\">10</td><td style = \"text-align: left;\">RCM</td><td style = \"text-align: left;\"></td><td style = \"text-align: left;\">https://www.eodms-sgdot.nrcan-rncan.gc.ca/wes/rapi/order/direct?collection=RCMImageProducts&amp;recordId=14068218&amp;destination=fill_me_in</td><td style = \"text-align: left;\">62f0e816-8006-4768-8f32-6ef4008e6895</td><td style = \"text-align: left;\">false</td><td style = \"text-align: left;\">20</td><td style = \"text-align: left;\">2</td><td style = \"text-align: left;\">1</td><td style = \"text-align: left;\">Downlinked</td><td style = \"text-align: left;\">https://www.eodms-sgdot.nrcan-rncan.gc.ca/wes/getObject?FeatureID=62f0e816-8006-4768-8f32-6ef4008e6895-14068218&amp;ObjectType=Thumbview&amp;collectionId=RCMImageProducts&amp;AFB=true</td><td style = \"text-align: left;\">RCMImageProducts</td><td style = \"text-align: left;\">No special handling required, use per EULA</td><td style = \"text-align: left;\">2291594_1</td><td style = \"text-align: left;\">license.pdf</td><td style = \"text-align: left;\">RCM PGS 7.06</td><td style = \"text-align: left;\">HH HV</td><td style = \"text-align: left;\">4</td><td style = \"text-align: left;\">https://www.eodms-sgdot.nrcan-rncan.gc.ca/wes/getArchivedMetadata?FeatureID=62f0e816-8006-4768-8f32-6ef4008e6895-14068218&amp;MetadataFileName=/rcm/sar/l1/2022/noamer/med50/rcm_20221010_N0230W09117/6fc7253f-df2f-554b-9de4-519ea2e34d85&amp;collectionId=RCMImageProducts&amp;fileName=catalog/image/rcm/sar/l1/2022/noamer/med50/rcm_20221010_N0230W09117/6fc7253f-df2f-554b-9de4-519ea2e34d85/https://www.eodms-sgdot.nrcan-rncan.gc.ca/wes/getArchivedMetadata?FeatureID=62f0e816-8006-4768-8f32-6ef4008e6895-14068218&amp;MetadataFileName=/rcm/sar/l1/2022/noamer/med50/rcm_20221010_N0230W09117/6fc7253f-df2f-554b-9de4-519ea2e34d85&amp;collectionId=RCMImageProducts&amp;fileName=catalog/image/rcm/sar/l1/2022/noamer/med50/rcm_20221010_N0230W09117/6fc7253f-df2f-554b-9de4-519ea2e34d85/product.xml</td><td style = \"text-align: left;\">88</td><td style = \"text-align: left;\">med50</td><td style = \"text-align: left;\">/rcm/sar/l1/2022/noamer/med50/rcm_20221010_N0230W09117/355086/6fc7253f-df2f-554b-9de4-519ea2e34d85.png</td><td style = \"text-align: left;\"></td><td style = \"text-align: left;\">2022-10-10T00:17:31 +0000</td><td style = \"text-align: left;\">/rcm/sar/l1/2022/noamer/med50/rcm_20221010_N0230W09117/6fc7253f-df2f-554b-9de4-519ea2e34d85</td><td style = \"text-align: left;\">21</td><td style = \"text-align: left;\">430</td><td style = \"text-align: left;\">EPSG:4326</td><td style = \"text-align: left;\">2022-10-10T00:41:31 +0000</td><td style = \"text-align: left;\">50</td><td style = \"text-align: left;\">5094427_5099254</td><td style = \"text-align: left;\">false</td><td style = \"text-align: left;\">http://was-eodms.compusult.net/wes/images/No_Data_Available.png</td><td style = \"text-align: left;\">Magnitude Detected</td><td style = \"text-align: left;\">Integer</td><td style = \"text-align: right;\">2.54087</td><td style = \"text-align: left;\">52</td><td style = \"text-align: left;\"></td><td style = \"text-align: left;\"></td><td style = \"text-align: left;\">PASS</td><td style = \"text-align: right;\">-89.7014</td><td style = \"text-align: left;\">Ship-3</td><td style = \"text-align: left;\">false</td><td style = \"text-align: left;\">Right</td><td style = \"text-align: left;\">2022-10-10T00:17:13 +0000</td><td style = \"text-align: left;\">https://www.eodms-sgdot.nrcan-rncan.gc.ca/wes/rapi/record/RCMImageProducts/14068218</td><td style = \"text-align: left;\"></td><td style = \"text-align: left;\">SC50MA</td><td style = \"text-align: left;\">31</td><td style = \"text-align: left;\">4</td><td style = \"text-align: left;\">Non classifié / Unclassified</td><td style = \"text-align: left;\">RCM Image Products</td><td style = \"text-align: left;\">SHUB</td><td style = \"text-align: right;\">false</td><td style = \"text-align: left;\">Calibrated</td><td style = \"text-align: right;\">1.42025</td><td style = \"text-align: left;\">Polygon</td><td style = \"text-align: left;\">dummy value</td><td style = \"text-align: left;\">5</td><td style = \"text-align: left;\">HH HV</td><td style = \"text-align: left;\">2022-10-10T00:17:13 +0000</td><td style = \"text-align: left;\"></td><td style = \"text-align: left;\">18130.0</td><td style = \"text-align: left;\">14068218</td><td style = \"text-align: right;\">-92.8529</td><td style = \"text-align: left;\">GeoTIFF</td><td style = \"text-align: right;\">-92.6305</td><td style = \"text-align: left;\">https://www.eodms-sgdot.nrcan-rncan.gc.ca/wes/Client/?entryPoint=preview#?cseq=RCMImageProducts&amp;record=14068218&amp;searchId=90952534&amp;noparentwindow=true</td><td style = \"text-align: right;\">3.17886</td><td style = \"text-align: left;\"></td><td style = \"text-align: left;\">ScanSAR 50m Resolution 350km Swath A</td><td style = \"text-align: left;\"></td><td style = \"text-align: left;\">true</td><td style = \"text-align: left;\">High</td><td style = \"text-align: left;\">62f0e816-8006-4768-8f32-6ef4008e6895-14068218</td><td style = \"text-align: left;\"></td><td style = \"text-align: right;\">-92.8529</td><td style = \"text-align: left;\"></td><td style = \"text-align: right;\">2.06155</td><td style = \"text-align: left;\">RCM-3_2022-10-09T10-55-31_018130.PRED_ORBIT_SV</td><td style = \"text-align: right;\">true</td><td style = \"text-align: left;\">l1</td><td style = \"text-align: left;\">RCM3_OK2136028_PK2291594_1_SC50MA_20221010_001713_HH_HV_GRD</td><td style = \"text-align: left;\">RCM-3</td><td style = \"text-align: left;\"></td><td style = \"text-align: left;\">name</td><td style = \"text-align: left;\">false</td><td style = \"text-align: left;\">1</td><td style = \"text-align: left;\">WGS 1984</td><td style = \"text-align: left;\">14068218</td><td style = \"text-align: right;\">-89.4823</td><td style = \"text-align: left;\">RCM3_OK2136028_PK2291594_1_SC50MA_20221010_001713_HH_HV_GRD</td><td style = \"text-align: left;\">-3.8425083</td><td style = \"text-align: left;\">2291594_1</td><td style = \"text-align: right;\">2.54087</td><td style = \"text-align: left;\">2</td><td style = \"text-align: left;\">1900-01-01T00:00:00 +0000</td><td style = \"text-align: left;\">Standard</td><td style = \"text-align: left;\">2022-10-10T00:38:39 +0000</td><td style = \"text-align: left;\">POLYGON ((-92.852894156501 2.54087038022887 0,-92.6305050122002 1.42024741982988 0,-89.4822945039316 2.06155175336799 0,-89.7014410887491 3.1788627308794 0,-92.852894156501 2.54087038022887 0))</td><td style = \"text-align: left;\">true</td><td style = \"text-align: right;\">&ctdot;</td></tr></tbody></table></div>"
      ],
      "text/latex": [
       "\\begin{tabular}{r|cccc}\n",
       "\t& satellite & productDatum & rapiOrderUrl & \\\\\n",
       "\t\\hline\n",
       "\t& String & String & String & \\\\\n",
       "\t\\hline\n",
       "\t1 & RCM &  & https://www.eodms-sgdot.nrcan-rncan.gc.ca/wes/rapi/order/direct?collection=RCMImageProducts\\&recordId=14068734\\&destination=fill\\_me\\_in & $\\dots$ \\\\\n",
       "\t2 & RCM &  & https://www.eodms-sgdot.nrcan-rncan.gc.ca/wes/rapi/order/direct?collection=RCMImageProducts\\&recordId=14068733\\&destination=fill\\_me\\_in & $\\dots$ \\\\\n",
       "\t3 & RCM &  & https://www.eodms-sgdot.nrcan-rncan.gc.ca/wes/rapi/order/direct?collection=RCMImageProducts\\&recordId=14068720\\&destination=fill\\_me\\_in & $\\dots$ \\\\\n",
       "\t4 & RCM &  & https://www.eodms-sgdot.nrcan-rncan.gc.ca/wes/rapi/order/direct?collection=RCMImageProducts\\&recordId=14068721\\&destination=fill\\_me\\_in & $\\dots$ \\\\\n",
       "\t5 & RCM &  & https://www.eodms-sgdot.nrcan-rncan.gc.ca/wes/rapi/order/direct?collection=RCMImageProducts\\&recordId=14068731\\&destination=fill\\_me\\_in & $\\dots$ \\\\\n",
       "\t6 & RCM &  & https://www.eodms-sgdot.nrcan-rncan.gc.ca/wes/rapi/order/direct?collection=RCMImageProducts\\&recordId=14068922\\&destination=fill\\_me\\_in & $\\dots$ \\\\\n",
       "\t7 & RCM &  & https://www.eodms-sgdot.nrcan-rncan.gc.ca/wes/rapi/order/direct?collection=RCMImageProducts\\&recordId=14068916\\&destination=fill\\_me\\_in & $\\dots$ \\\\\n",
       "\t8 & RCM &  & https://www.eodms-sgdot.nrcan-rncan.gc.ca/wes/rapi/order/direct?collection=RCMImageProducts\\&recordId=14068858\\&destination=fill\\_me\\_in & $\\dots$ \\\\\n",
       "\t9 & RCM &  & https://www.eodms-sgdot.nrcan-rncan.gc.ca/wes/rapi/order/direct?collection=RCMImageProducts\\&recordId=14068774\\&destination=fill\\_me\\_in & $\\dots$ \\\\\n",
       "\t10 & RCM &  & https://www.eodms-sgdot.nrcan-rncan.gc.ca/wes/rapi/order/direct?collection=RCMImageProducts\\&recordId=14068218\\&destination=fill\\_me\\_in & $\\dots$ \\\\\n",
       "\\end{tabular}\n"
      ],
      "text/plain": [
       "\u001b[1m10×111 DataFrame\u001b[0m\n",
       "\u001b[1m Row \u001b[0m│\u001b[1m satellite \u001b[0m\u001b[1m productDatum \u001b[0m\u001b[1m rapiOrderUrl                      \u001b[0m\u001b[1m serviceUuid\u001b[0m ⋯\n",
       "     │\u001b[90m String    \u001b[0m\u001b[90m String       \u001b[0m\u001b[90m String                            \u001b[0m\u001b[90m String     \u001b[0m ⋯\n",
       "─────┼──────────────────────────────────────────────────────────────────────────\n",
       "   1 │ RCM                      https://www.eodms-sgdot.nrcan-rn…  62f0e816-80 ⋯\n",
       "   2 │ RCM                      https://www.eodms-sgdot.nrcan-rn…  62f0e816-80\n",
       "   3 │ RCM                      https://www.eodms-sgdot.nrcan-rn…  62f0e816-80\n",
       "   4 │ RCM                      https://www.eodms-sgdot.nrcan-rn…  62f0e816-80\n",
       "   5 │ RCM                      https://www.eodms-sgdot.nrcan-rn…  62f0e816-80 ⋯\n",
       "   6 │ RCM                      https://www.eodms-sgdot.nrcan-rn…  62f0e816-80\n",
       "   7 │ RCM                      https://www.eodms-sgdot.nrcan-rn…  62f0e816-80\n",
       "   8 │ RCM                      https://www.eodms-sgdot.nrcan-rn…  62f0e816-80\n",
       "   9 │ RCM                      https://www.eodms-sgdot.nrcan-rn…  62f0e816-80 ⋯\n",
       "  10 │ RCM                      https://www.eodms-sgdot.nrcan-rn…  62f0e816-80\n",
       "\u001b[36m                                                             108 columns omitted\u001b[0m"
      ]
     },
     "metadata": {},
     "output_type": "display_data"
    }
   ],
   "source": [
    "df"
   ]
  },
  {
   "cell_type": "code",
   "execution_count": null,
   "metadata": {},
   "outputs": [],
   "source": []
  }
 ],
 "metadata": {
  "kernelspec": {
   "display_name": "Julia 1.8.2",
   "language": "julia",
   "name": "julia-1.8"
  },
  "language_info": {
   "file_extension": ".jl",
   "mimetype": "application/julia",
   "name": "julia",
   "version": "1.8.2"
  }
 },
 "nbformat": 4,
 "nbformat_minor": 2
}
