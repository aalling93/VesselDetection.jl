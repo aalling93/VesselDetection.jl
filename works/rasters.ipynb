{
 "cells": [
  {
   "cell_type": "code",
   "execution_count": null,
   "metadata": {},
   "outputs": [],
   "source": []
  },
  {
   "cell_type": "code",
   "execution_count": 1,
   "metadata": {},
   "outputs": [],
   "source": [
    "using Rasters, ArchGDAL, RasterDataSources, Statistics"
   ]
  },
  {
   "cell_type": "code",
   "execution_count": 2,
   "metadata": {},
   "outputs": [
    {
     "data": {
      "text/plain": [
       "\"/Users/kaaso/Documents/coding/JuliaEO2024/data/S1A_IW_GRDH_1SDV_20220612T173329_20220612T173354_043633_05359A_EA25.SAFE/measurement/s1a-iw-grd-vh-20220612t173329-20220612t173354-043633-05359a-002.tiff\""
      ]
     },
     "metadata": {},
     "output_type": "display_data"
    }
   ],
   "source": [
    "path = \"/Users/kaaso/Documents/coding/JuliaEO2024/data/S1A_IW_GRDH_1SDV_20220612T173329_20220612T173354_043633_05359A_EA25.SAFE/measurement/s1a-iw-grd-vh-20220612t173329-20220612t173354-043633-05359a-002.tiff\""
   ]
  },
  {
   "cell_type": "code",
   "execution_count": 3,
   "metadata": {},
   "outputs": [],
   "source": [
    "raster = Rasters.read(\"/Users/kaaso/Documents/coding/JuliaEO2024/data/S1A_IW_GRDH_1SDV_20220612T173329_20220612T173354_043633_05359A_EA25.SAFE/measurement/s1a-iw-grd-vh-20220612t173329-20220612t173354-043633-05359a-002.tiff\");\n"
   ]
  },
  {
   "cell_type": "code",
   "execution_count": 25,
   "metadata": {},
   "outputs": [
    {
     "data": {
      "text/plain": [
       "26316×16683 Raster{UInt16,2}\u001b[90m with dimensions: \u001b[39m\n",
       "  \u001b[31mX\u001b[39m Projected{Float64} \u001b[36mLinRange{Float64}(0.0, 26315.0, 26316)\u001b[39m ForwardOrdered Regular Intervals{Start} crs: WellKnownText,\n",
       "  \u001b[31mY\u001b[39m Projected{Float64} \u001b[36mLinRange{Float64}(0.0, 16682.0, 16683)\u001b[39m ForwardOrdered Regular Intervals{Start} crs: WellKnownText\n",
       "\u001b[90mand reference dimensions: \u001b[39m\n",
       "  \u001b[35mBand\u001b[39m Categorical{Int64} \u001b[36m1:1\u001b[39m ForwardOrdered\n",
       "\u001b[90mextent: \u001b[39mExtent(X = (0.0, 26316.0), Y = (0.0, 16683.0))\u001b[90mcrs: \u001b[39m\n",
       "\u001b[90mparent:\u001b[39m\n",
       "               \u001b[90m0.0\u001b[39m       \u001b[90m1.0\u001b[39m       \u001b[90m2.0\u001b[39m  …   \u001b[90m16680.0\u001b[39m   \u001b[90m16681.0\u001b[39m   \u001b[90m16682.0\u001b[39m\n",
       "     \u001b[39m\u001b[90m0.0\u001b[39m  \u001b[39m\u001b[39m0x0000    \u001b[39m\u001b[39m0x0000    \u001b[39m\u001b[39m0x0000       \u001b[39m0x0000    \u001b[39m0x0000    \u001b[39m0x0000\n",
       "     \u001b[39m\u001b[90m1.0\u001b[39m  \u001b[39m\u001b[39m0x0000    \u001b[39m\u001b[39m0x0000    \u001b[39m\u001b[39m0x0000       \u001b[39m0x0000    \u001b[39m0x0000    \u001b[39m0x0000\n",
       "     \u001b[39m\u001b[90m2.0\u001b[39m  \u001b[39m\u001b[39m0x0000    \u001b[39m\u001b[39m0x0000    \u001b[39m\u001b[39m0x0000       \u001b[39m0x0000    \u001b[39m0x0000    \u001b[39m0x0000\n",
       "     ⋮                                  ⋱                 ⋮    \n",
       " \u001b[39m\u001b[90m26313.0\u001b[39m  \u001b[39m0x0000    \u001b[39m0x0000    \u001b[39m0x0000       \u001b[39m0x0000    \u001b[39m0x0000    \u001b[39m0x0000\n",
       " \u001b[39m\u001b[90m26314.0\u001b[39m  \u001b[39m0x0000    \u001b[39m0x0000    \u001b[39m0x0000       \u001b[39m0x0000    \u001b[39m0x0000    \u001b[39m0x0000\n",
       " \u001b[39m\u001b[90m26315.0\u001b[39m  \u001b[39m0x0000    \u001b[39m0x0000    \u001b[39m0x0000       \u001b[39m0x0000    \u001b[39m0x0000    \u001b[39m0x0000"
      ]
     },
     "metadata": {},
     "output_type": "display_data"
    },
    {
     "name": "stdout",
     "output_type": "stream",
     "text": [
      "\n"
     ]
    }
   ],
   "source": [
    "ras = Raster(path)"
   ]
  },
  {
   "cell_type": "code",
   "execution_count": 32,
   "metadata": {},
   "outputs": [
    {
     "data": {
      "text/plain": [
       "Projected{Float64} ForwardOrdered Regular DimensionalData.Dimensions.LookupArrays.Intervals{DimensionalData.Dimensions.LookupArrays.Start} crs: WellKnownText\n",
       "\u001b[90mwrapping: \u001b[39m26316-element LinRange{Float64, Int64}:\n",
       " 0.0, 1.0, 2.0, 3.0, 4.0, 5.0, 6.0, …, 26312.0, 26313.0, 26314.0, 26315.0"
      ]
     },
     "metadata": {},
     "output_type": "display_data"
    }
   ],
   "source": [
    "lon = lookup(ras, Y) # if X is longitude\n",
    "lat = lookup(ras, X) # if Y is latitude"
   ]
  },
  {
   "cell_type": "code",
   "execution_count": 34,
   "metadata": {},
   "outputs": [
    {
     "data": {
      "text/plain": [
       "Projected{Float64} ForwardOrdered Regular DimensionalData.Dimensions.LookupArrays.Intervals{DimensionalData.Dimensions.LookupArrays.Start} crs: WellKnownText\n",
       "\u001b[90mwrapping: \u001b[39m16683-element LinRange{Float64, Int64}:\n",
       " 0.0, 1.0, 2.0, 3.0, 4.0, 5.0, 6.0, …, 16679.0, 16680.0, 16681.0, 16682.0"
      ]
     },
     "metadata": {},
     "output_type": "display_data"
    }
   ],
   "source": [
    "lon"
   ]
  },
  {
   "cell_type": "code",
   "execution_count": 8,
   "metadata": {},
   "outputs": [
    {
     "data": {
      "text/plain": [
       "Raster{UInt16, 2, Tuple{X{Projected{Float64, LinRange{Float64, Int64}, DimensionalData.Dimensions.LookupArrays.ForwardOrdered, DimensionalData.Dimensions.LookupArrays.Regular{Float64}, DimensionalData.Dimensions.LookupArrays.Intervals{DimensionalData.Dimensions.LookupArrays.Start}, DimensionalData.Dimensions.LookupArrays.Metadata{Rasters.GDALsource, Dict{String, Any}}, WellKnownText{GeoFormatTypes.CRS}, Nothing, X{Colon}}}, Y{Projected{Float64, LinRange{Float64, Int64}, DimensionalData.Dimensions.LookupArrays.ForwardOrdered, DimensionalData.Dimensions.LookupArrays.Regular{Float64}, DimensionalData.Dimensions.LookupArrays.Intervals{DimensionalData.Dimensions.LookupArrays.Start}, DimensionalData.Dimensions.LookupArrays.Metadata{Rasters.GDALsource, Dict{String, Any}}, WellKnownText{GeoFormatTypes.CRS}, Nothing, Y{Colon}}}}, Tuple{Band{DimensionalData.Dimensions.LookupArrays.Categorical{Int64, UnitRange{Int64}, DimensionalData.Dimensions.LookupArrays.ForwardOrdered, DimensionalData.Dimensions.LookupArrays.NoMetadata}}}, Matrix{UInt16}, Symbol, DimensionalData.Dimensions.LookupArrays.Metadata{Rasters.GDALsource, Dict{String, Any}}, Nothing}"
      ]
     },
     "metadata": {},
     "output_type": "display_data"
    }
   ],
   "source": [
    "typeof(ras)"
   ]
  },
  {
   "cell_type": "code",
   "execution_count": 9,
   "metadata": {},
   "outputs": [
    {
     "data": {
      "text/plain": [
       "GRDRaster"
      ]
     },
     "metadata": {},
     "output_type": "display_data"
    }
   ],
   "source": [
    "typeof(simple_ras)"
   ]
  },
  {
   "cell_type": "code",
   "execution_count": 14,
   "metadata": {},
   "outputs": [
    {
     "data": {
      "text/plain": [
       "26316×16683 Matrix{UInt16}:\n",
       " 0x0000  0x0000  0x0000  0x0000  0x0000  …  0x0000  0x0000  0x0000  0x0000\n",
       " 0x0000  0x0000  0x0000  0x0000  0x0000     0x0000  0x0000  0x0000  0x0000\n",
       " 0x0000  0x0000  0x0000  0x0000  0x0000     0x0000  0x0000  0x0000  0x0000\n",
       " 0x0000  0x0000  0x0000  0x0000  0x0000     0x0000  0x0000  0x0000  0x0000\n",
       " 0x0000  0x0000  0x0000  0x0000  0x0000     0x0000  0x0000  0x0000  0x0000\n",
       " 0x0000  0x0000  0x0000  0x0000  0x0000  …  0x0000  0x0000  0x0000  0x0000\n",
       " 0x0000  0x0000  0x0000  0x0000  0x0000     0x0000  0x0000  0x0000  0x0000\n",
       " 0x0000  0x0000  0x0000  0x0000  0x0000     0x0000  0x0000  0x0000  0x0000\n",
       " 0x0000  0x0000  0x0000  0x0000  0x0000     0x0000  0x0000  0x0000  0x0000\n",
       " 0x0000  0x0000  0x0000  0x0000  0x0000     0x0000  0x0000  0x0000  0x0000\n",
       "      ⋮                                  ⋱               ⋮          \n",
       " 0x0000  0x0000  0x0000  0x0000  0x0000     0x0000  0x0000  0x0000  0x0000\n",
       " 0x0000  0x0000  0x0000  0x0000  0x0000     0x0000  0x0000  0x0000  0x0000\n",
       " 0x0000  0x0000  0x0000  0x0000  0x0000     0x0000  0x0000  0x0000  0x0000\n",
       " 0x0000  0x0000  0x0000  0x0000  0x0000  …  0x0000  0x0000  0x0000  0x0000\n",
       " 0x0000  0x0000  0x0000  0x0000  0x0000     0x0000  0x0000  0x0000  0x0000\n",
       " 0x0000  0x0000  0x0000  0x0000  0x0000     0x0000  0x0000  0x0000  0x0000\n",
       " 0x0000  0x0000  0x0000  0x0000  0x0000     0x0000  0x0000  0x0000  0x0000\n",
       " 0x0000  0x0000  0x0000  0x0000  0x0000     0x0000  0x0000  0x0000  0x0000\n",
       " 0x0000  0x0000  0x0000  0x0000  0x0000  …  0x0000  0x0000  0x0000  0x0000"
      ]
     },
     "metadata": {},
     "output_type": "display_data"
    }
   ],
   "source": [
    "simple_ras.rasterData.data"
   ]
  },
  {
   "cell_type": "code",
   "execution_count": 12,
   "metadata": {},
   "outputs": [
    {
     "data": {
      "text/plain": [
       "26316×16683 Raster{UInt16,2}\u001b[90m with dimensions: \u001b[39m\n",
       "  \u001b[31mX\u001b[39m Projected{Float64} \u001b[36mLinRange{Float64}(0.0, 26315.0, 26316)\u001b[39m ForwardOrdered Regular Intervals{Start} crs: WellKnownText,\n",
       "  \u001b[31mY\u001b[39m Projected{Float64} \u001b[36mLinRange{Float64}(0.0, 16682.0, 16683)\u001b[39m ForwardOrdered Regular Intervals{Start} crs: WellKnownText\n",
       "\u001b[90mand reference dimensions: \u001b[39m\n",
       "  \u001b[35mBand\u001b[39m Categorical{Int64} \u001b[36m1:1\u001b[39m ForwardOrdered\n",
       "\u001b[90mextent: \u001b[39mExtent(X = (0.0, 26316.0), Y = (0.0, 16683.0))\u001b[90mcrs: \u001b[39m\n",
       "\u001b[90mparent:\u001b[39m\n",
       "               \u001b[90m0.0\u001b[39m       \u001b[90m1.0\u001b[39m       \u001b[90m2.0\u001b[39m  …   \u001b[90m16680.0\u001b[39m   \u001b[90m16681.0\u001b[39m   \u001b[90m16682.0\u001b[39m\n",
       "     \u001b[39m\u001b[90m0.0\u001b[39m  \u001b[39m\u001b[39m0x0000    \u001b[39m\u001b[39m0x0000    \u001b[39m\u001b[39m0x0000       \u001b[39m0x0000    \u001b[39m0x0000    \u001b[39m0x0000\n",
       "     \u001b[39m\u001b[90m1.0\u001b[39m  \u001b[39m\u001b[39m0x0000    \u001b[39m\u001b[39m0x0000    \u001b[39m\u001b[39m0x0000       \u001b[39m0x0000    \u001b[39m0x0000    \u001b[39m0x0000\n",
       "     \u001b[39m\u001b[90m2.0\u001b[39m  \u001b[39m\u001b[39m0x0000    \u001b[39m\u001b[39m0x0000    \u001b[39m\u001b[39m0x0000       \u001b[39m0x0000    \u001b[39m0x0000    \u001b[39m0x0000\n",
       "     ⋮                                  ⋱                 ⋮    \n",
       " \u001b[39m\u001b[90m26313.0\u001b[39m  \u001b[39m0x0000    \u001b[39m0x0000    \u001b[39m0x0000       \u001b[39m0x0000    \u001b[39m0x0000    \u001b[39m0x0000\n",
       " \u001b[39m\u001b[90m26314.0\u001b[39m  \u001b[39m0x0000    \u001b[39m0x0000    \u001b[39m0x0000       \u001b[39m0x0000    \u001b[39m0x0000    \u001b[39m0x0000\n",
       " \u001b[39m\u001b[90m26315.0\u001b[39m  \u001b[39m0x0000    \u001b[39m0x0000    \u001b[39m0x0000       \u001b[39m0x0000    \u001b[39m0x0000    \u001b[39m0x0000"
      ]
     },
     "metadata": {},
     "output_type": "display_data"
    },
    {
     "name": "stdout",
     "output_type": "stream",
     "text": [
      "\n"
     ]
    }
   ],
   "source": []
  },
  {
   "cell_type": "code",
   "execution_count": 16,
   "metadata": {},
   "outputs": [
    {
     "data": {
      "text/plain": [
       "Projected{Float64} ForwardOrdered Regular DimensionalData.Dimensions.LookupArrays.Intervals{DimensionalData.Dimensions.LookupArrays.Start} crs: WellKnownText\n",
       "\u001b[90mwrapping: \u001b[39m16683-element LinRange{Float64, Int64}:\n",
       " 0.0, 1.0, 2.0, 3.0, 4.0, 5.0, 6.0, …, 16679.0, 16680.0, 16681.0, 16682.0"
      ]
     },
     "metadata": {},
     "output_type": "display_data"
    }
   ],
   "source": []
  },
  {
   "cell_type": "code",
   "execution_count": 27,
   "metadata": {},
   "outputs": [
    {
     "data": {
      "text/plain": [
       "1×16683 Raster{Float64,2}\u001b[90m with dimensions: \u001b[39m\n",
       "  \u001b[31mX\u001b[39m Projected{Float64} \u001b[36m0.0:26316.0:0.0\u001b[39m ForwardOrdered Regular Intervals{Start} crs: WellKnownText,\n",
       "  \u001b[31mY\u001b[39m Projected{Float64} \u001b[36mLinRange{Float64}(0.0, 16682.0, 16683)\u001b[39m ForwardOrdered Regular Intervals{Start} crs: WellKnownText\n",
       "\u001b[90mand reference dimensions: \u001b[39m\n",
       "  \u001b[35mBand\u001b[39m Categorical{Int64} \u001b[36m1:1\u001b[39m ForwardOrdered\n",
       "\u001b[90mextent: \u001b[39mExtent(X = (0.0, 26316.0), Y = (0.0, 16683.0))\u001b[90mcrs: \u001b[39m\n",
       "\u001b[90mparent:\u001b[39m\n",
       "       \u001b[90m0.0\u001b[39m      \u001b[90m1.0\u001b[39m      \u001b[90m2.0\u001b[39m     …  \u001b[90m16680.0\u001b[39m     \u001b[90m16681.0\u001b[39m     \u001b[90m16682.0\u001b[39m\n",
       " \u001b[39m\u001b[90m0.0\u001b[39m  \u001b[39m\u001b[39m89.9354  \u001b[39m\u001b[39m90.4938  \u001b[39m\u001b[39m90.3806        \u001b[39m37.5331     \u001b[39m37.5393     \u001b[39m37.3951"
      ]
     },
     "metadata": {},
     "output_type": "display_data"
    },
    {
     "name": "stdout",
     "output_type": "stream",
     "text": [
      "\n"
     ]
    }
   ],
   "source": [
    "mean(ras, dims=1) "
   ]
  },
  {
   "cell_type": "code",
   "execution_count": 40,
   "metadata": {},
   "outputs": [
    {
     "data": {
      "text/plain": [
       "91×101 Matrix{Int64}:\n",
       "  22   32   29   21   21  17  20  25  …  27  24  15  21  31  37  35  21  34\n",
       "  26   33   21   17   17  16  26  38     32  20  13  25  29  26  27  24  29\n",
       "  25   19   13   18   13  18  35  41     26  15  19  27  25  24  25  31  36\n",
       "  30   24   30   27   19  22  29  25     25  21  23  31  25  28  37  39  39\n",
       "  33   25   26   25   25  19  13  17     31  33  25  35  29  34  45  37  39\n",
       "  25   16   14   20   25  16  16  30  …  28  35  23  30  27  34  41  29  39\n",
       "  18   20   26   29   26  19  26  40     28  34  18  16  19  26  37  34  37\n",
       "  28   26   35   38   33  30  30  39     31  36  28  16  16  23  27  27  25\n",
       "  23   24   35   35   35  38  30  31     31  30  28  22  22  22  15  16  17\n",
       "  19   21   26   21   31  35  25  26     33  30  28  31  25  23  18  19  24\n",
       "   ⋮                       ⋮          ⋱               ⋮                   ⋮\n",
       " 108  104  111  112   94  65  32  44     23  32  25  22  22  29  26  20  21\n",
       " 105   93  103  115  103  71  32  49     28  31  26  29  29  34  29  26  24\n",
       "  60   65   56   77   84  59  36  50     28  24  20  29  28  36  35  26  33\n",
       "  58   67   66   79   67  36  28  34  …  19  18  28  27  20  31  34  20  27\n",
       "  86   73   79   74   55  39  22  40     25  26  29  27  17  26  28  21  16\n",
       "  86  103   99   64   54  56  32  50     29  29  21  33  31  26  28  28  14\n",
       "  59   96  103   80   63  55  39  41     19  25  19  35  36  24  26  28  17\n",
       "  71   54   65   73   60  40  38  41      5  19  20  28  31  22  24  26  31\n",
       "  90   57   52   65   48  26  35  43  …  19  20  21  28  29  20  28  26  39"
      ]
     },
     "metadata": {},
     "output_type": "display_data"
    }
   ],
   "source": [
    "int_matrix = Int.(ras[20060:20150, 13200:13300].data)"
   ]
  },
  {
   "cell_type": "code",
   "execution_count": 43,
   "metadata": {},
   "outputs": [
    {
     "ename": "ErrorException",
     "evalue": "type Raster has no field band",
     "output_type": "error",
     "traceback": [
      "type Raster has no field band\n",
      "\n",
      "Stacktrace:\n",
      " [1] getproperty(x::Raster{UInt16, 2, Tuple{X{Projected{Float64, LinRange{Float64, Int64}, DimensionalData.Dimensions.LookupArrays.ForwardOrdered, DimensionalData.Dimensions.LookupArrays.Regular{Float64}, DimensionalData.Dimensions.LookupArrays.Intervals{DimensionalData.Dimensions.LookupArrays.Start}, DimensionalData.Dimensions.LookupArrays.Metadata{Rasters.GDALsource, Dict{String, Any}}, WellKnownText{GeoFormatTypes.CRS}, Nothing, X{Colon}}}, Y{Projected{Float64, LinRange{Float64, Int64}, DimensionalData.Dimensions.LookupArrays.ForwardOrdered, DimensionalData.Dimensions.LookupArrays.Regular{Float64}, DimensionalData.Dimensions.LookupArrays.Intervals{DimensionalData.Dimensions.LookupArrays.Start}, DimensionalData.Dimensions.LookupArrays.Metadata{Rasters.GDALsource, Dict{String, Any}}, WellKnownText{GeoFormatTypes.CRS}, Nothing, Y{Colon}}}}, Tuple{Band{DimensionalData.Dimensions.LookupArrays.Categorical{Int64, UnitRange{Int64}, DimensionalData.Dimensions.LookupArrays.ForwardOrdered, DimensionalData.Dimensions.LookupArrays.NoMetadata}}}, Matrix{UInt16}, Symbol, DimensionalData.Dimensions.LookupArrays.Metadata{Rasters.GDALsource, Dict{String, Any}}, Nothing}, f::Symbol)\n",
      "   @ Base ./Base.jl:37\n",
      " [2] top-level scope\n",
      "   @ ~/Documents/coding/JuliaEO2024/rasters.ipynb:1"
     ]
    }
   ],
   "source": []
  },
  {
   "cell_type": "code",
   "execution_count": 39,
   "metadata": {},
   "outputs": [
    {
     "data": {
      "text/plain": [
       "91×101 Matrix{UInt16}:\n",
       " 0x0016  0x0020  0x001d  0x0015  0x0015  …  0x0025  0x0023  0x0015  0x0022\n",
       " 0x001a  0x0021  0x0015  0x0011  0x0011     0x001a  0x001b  0x0018  0x001d\n",
       " 0x0019  0x0013  0x000d  0x0012  0x000d     0x0018  0x0019  0x001f  0x0024\n",
       " 0x001e  0x0018  0x001e  0x001b  0x0013     0x001c  0x0025  0x0027  0x0027\n",
       " 0x0021  0x0019  0x001a  0x0019  0x0019     0x0022  0x002d  0x0025  0x0027\n",
       " 0x0019  0x0010  0x000e  0x0014  0x0019  …  0x0022  0x0029  0x001d  0x0027\n",
       " 0x0012  0x0014  0x001a  0x001d  0x001a     0x001a  0x0025  0x0022  0x0025\n",
       " 0x001c  0x001a  0x0023  0x0026  0x0021     0x0017  0x001b  0x001b  0x0019\n",
       " 0x0017  0x0018  0x0023  0x0023  0x0023     0x0016  0x000f  0x0010  0x0011\n",
       " 0x0013  0x0015  0x001a  0x0015  0x001f     0x0017  0x0012  0x0013  0x0018\n",
       "      ⋮                                  ⋱                               ⋮\n",
       " 0x006c  0x0068  0x006f  0x0070  0x005e     0x001d  0x001a  0x0014  0x0015\n",
       " 0x0069  0x005d  0x0067  0x0073  0x0067     0x0022  0x001d  0x001a  0x0018\n",
       " 0x003c  0x0041  0x0038  0x004d  0x0054     0x0024  0x0023  0x001a  0x0021\n",
       " 0x003a  0x0043  0x0042  0x004f  0x0043  …  0x001f  0x0022  0x0014  0x001b\n",
       " 0x0056  0x0049  0x004f  0x004a  0x0037     0x001a  0x001c  0x0015  0x0010\n",
       " 0x0056  0x0067  0x0063  0x0040  0x0036     0x001a  0x001c  0x001c  0x000e\n",
       " 0x003b  0x0060  0x0067  0x0050  0x003f     0x0018  0x001a  0x001c  0x0011\n",
       " 0x0047  0x0036  0x0041  0x0049  0x003c     0x0016  0x0018  0x001a  0x001f\n",
       " 0x005a  0x0039  0x0034  0x0041  0x0030  …  0x0014  0x001c  0x001a  0x0027"
      ]
     },
     "metadata": {},
     "output_type": "display_data"
    }
   ],
   "source": [
    "ras[20060:20150, 13200:13300].data"
   ]
  },
  {
   "cell_type": "code",
   "execution_count": null,
   "metadata": {},
   "outputs": [],
   "source": [
    "lon = lookup(ras, X) # if X is longitude\n",
    "lat = lookup(ras, Y) # if Y is latitude"
   ]
  },
  {
   "cell_type": "code",
   "execution_count": null,
   "metadata": {},
   "outputs": [],
   "source": []
  }
 ],
 "metadata": {
  "kernelspec": {
   "display_name": "Julia 1.9.4",
   "language": "julia",
   "name": "julia-1.9"
  },
  "language_info": {
   "file_extension": ".jl",
   "mimetype": "application/julia",
   "name": "julia",
   "version": "1.9.4"
  }
 },
 "nbformat": 4,
 "nbformat_minor": 2
}
