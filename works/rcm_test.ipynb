{
 "cells": [
  {
   "cell_type": "code",
   "execution_count": 1,
   "metadata": {},
   "outputs": [],
   "source": [
    "#ENV[\"PYTHON\"] = \"/opt/homebrew/Caskroom/miniforge/base/envs/sar_ais_2/bin/python\"\n",
    "#using Pkg\n",
    "#Pkg.build(\"PyCall\")"
   ]
  },
  {
   "cell_type": "code",
   "execution_count": 1,
   "metadata": {},
   "outputs": [],
   "source": [
    "using Pkg\n",
    "using DotEnv\n",
    "include(\"src/test_name.jl\")\n",
    "import .Test_name"
   ]
  },
  {
   "cell_type": "code",
   "execution_count": 2,
   "metadata": {},
   "outputs": [],
   "source": []
  },
  {
   "cell_type": "code",
   "execution_count": 21,
   "metadata": {},
   "outputs": [
    {
     "data": {
      "text/plain": [
       "\"Medium Resolution 50m\""
      ]
     },
     "metadata": {},
     "output_type": "display_data"
    }
   ],
   "source": [
    "\n",
    "polarization = [ \"HH\", \"HH HV\", \"HH HV VH VV\", \"HH VV\", \"HV\", \"VH\", \"VH VV\", \"VV\"] \n",
    "mode = [\"GCC\", \"GCD\", \"GRC\", \"GRD\", \"GRF\"]\n",
    "beam = \"Medium Resolution 50m\""
   ]
  },
  {
   "cell_type": "code",
   "execution_count": 12,
   "metadata": {},
   "outputs": [],
   "source": [
    "allowed_polariations = [\"CH CV\", \"HH\", \"HH HV\", \"HH HV VH VV\", \"HH VV\", \"HV\", \"VH\", \"VH VV\", \"VV\"]\n",
    "allowed_beam_modes = [\"High Resolution 5m\",\"Low Noise\",\"Low Resolution 100m\",\"Medium Resolution 16m\",\"Medium Resolution 30m\",\"Medium Resolution 50m\",\"Quad-Polarization\",\"Ship Detection\",\"Spotlight\",\"Very High Resolution 3m\"]\n",
    "allowed_modes = [\"GCC\", \"GCD\", \"GRC\", \"GRD\", \"GRF\", \"L1A\", \"L3A\", \"MLC\", \"SCF\", \"SCS\", \"SGF\", \"SGX\", \"SLC\"];\n"
   ]
  },
  {
   "cell_type": "code",
   "execution_count": 5,
   "metadata": {},
   "outputs": [],
   "source": [
    "#print(rapi.get_collections(as_list=True))\n",
    "#rapi.get_field_choices('RCMImageProducts', 'Mode')\n",
    "#rapi.get_field_choices('RCMImageProducts')"
   ]
  },
  {
   "cell_type": "code",
   "execution_count": 22,
   "metadata": {},
   "outputs": [
    {
     "data": {
      "text/plain": [
       "\"20220102_000100\""
      ]
     },
     "metadata": {},
     "output_type": "display_data"
    }
   ],
   "source": [
    "end_time"
   ]
  },
  {
   "cell_type": "code",
   "execution_count": 18,
   "metadata": {},
   "outputs": [
    {
     "data": {
      "text/plain": [
       "Dict{String, Tuple{String, Any}} with 3 entries:\n",
       "  \"Beam Mnemonic\"  => (\">=\", \"Medium Resolution 50m\")\n",
       "  \"Beam Mode Type\" => (\"LIKE\", [\"GCC\", \"GCD\", \"GRC\", \"GRD\", \"GRF\"])\n",
       "  \"Polarization\"   => (\"LIKE\", [\"HH\", \"HH HV\", \"HH HV VH VV\", \"HH VV\", \"HV\", \"V…"
      ]
     },
     "metadata": {},
     "output_type": "display_data"
    }
   ],
   "source": []
  },
  {
   "cell_type": "code",
   "execution_count": 28,
   "metadata": {},
   "outputs": [
    {
     "data": {
      "text/plain": [
       "Dict{String, Tuple{String, Any}} with 3 entries:\n",
       "  \"Product Type\"   => (\"=\", [\"GCC\", \"GCD\", \"GRC\", \"GRD\", \"GRF\"])\n",
       "  \"Polarization\"   => (\"=\", [\"HH\", \"HH HV\", \"HH HV VH VV\", \"HH VV\", \"HV\", \"VH\",…\n",
       "  \"Beam Mode Type\" => (\"=\", \"Medium Resolution 50m\")"
      ]
     },
     "metadata": {},
     "output_type": "display_data"
    }
   ],
   "source": [
    "dates = [Dict(\"start\" => start_time, \"end\" => end_time)]\n",
    "filters = Dict(\n",
    "    \"Product Type\" => (\"=\", mode),\n",
    "    \"Polarization\" => (\"=\", polarization),\n",
    "    \"Beam Mode Type\" => (\"=\", beam)  # Assuming this is what you meant instead of repeating \"Beam Mode Type\"\n",
    ")"
   ]
  },
  {
   "cell_type": "code",
   "execution_count": null,
   "metadata": {},
   "outputs": [],
   "source": [
    "polarization = [ \"HH\", \"HH HV\", \"HH HV VH VV\", \"HH VV\", \"HV\", \"VH\", \"VH VV\", \"VV\"] \n",
    "mode = [\"GCC\", \"GCD\", \"GRC\", \"GRD\", \"GRF\"]\n",
    "beam = \"Medium Resolution 50m\"\n",
    "filters = Dict(\n",
    "    \"Product Type\" => (\"=\", mode),\n",
    "    \"Polarization\" => (\"=\", polarization),\n",
    "    \"Beam Mode Type\" => (\"=\", beam)  # Assuming this is what you meant instead of repeating \"Beam Mode Type\"\n",
    ")\n"
   ]
  },
  {
   "cell_type": "code",
   "execution_count": null,
   "metadata": {},
   "outputs": [],
   "source": []
  },
  {
   "cell_type": "code",
   "execution_count": null,
   "metadata": {},
   "outputs": [],
   "source": [
    "filters_python = PyObject(filters_julia)"
   ]
  },
  {
   "cell_type": "code",
   "execution_count": 29,
   "metadata": {},
   "outputs": [],
   "source": [
    "\n",
    "\n",
    "\n",
    "\n",
    "\n",
    "# Create the EODMSRAPI object using Python code\n",
    "rapi = eodms_rapi.EODMSRAPI(\"Aalling93\", \"Security1234!\")\n",
    "# Call the search method from the Python module\n",
    "rapi.search(\"RCMImageProducts\", filters=filters, dates=dates)\n",
    "# Get the results from the search\n",
    "res = rapi.get_results(\"full\")\n",
    "\n",
    "\n",
    "# Julia code continues...\n"
   ]
  },
  {
   "cell_type": "code",
   "execution_count": 1,
   "metadata": {},
   "outputs": [],
   "source": [
    "#filters = Dict(\"Beam Mnemonic\" => (\"=\", [\"16M11\", \"16M13\"]),\n",
    "#               \"Incidence Angle\" => (\">=\", \"35\"))\n",
    "#dates = [Dict(\"start\" => \"20200513_120000\", \"end\" => \"20200613_150000\")]"
   ]
  },
  {
   "cell_type": "code",
   "execution_count": null,
   "metadata": {},
   "outputs": [],
   "source": [
    "\n",
    "using PyCall\n",
    "\n",
    "\n",
    "function download_metadata_rcm(; bbox::String=\"4,51,4.5,52\", \n",
    "    start_datetime::String=\"2022-06-11T00:00:00Z\", \n",
    "    end_datetime::String=\"2022-06-22T23:59:59Z\", \n",
    "    max_records::String=\"10\",\n",
    "    collection::String = \"RCM\",\n",
    "    polarization::Array{String} = [\"HH\", \"HH HV\", \"HH HV VH VV\", \"HH VV\", \"HV\", \"VH\", \"VH VV\", \"VV\"],\n",
    "    product_type::Array{String} =  [\"GCC\", \"GCD\", \"GRC\", \"GRD\", \"GRF\"],\n",
    "    bean_mode::Array{String} = [\"Medium Resolution 50m\"],\n",
    "    username::String = \"username\",\n",
    "    password::String = \"password\",\n",
    "    verbose::Int = 1)  # Adjust product type if needed\n",
    "\n",
    "# Define the base URL for the Sentinel-1 data collection\n",
    "start_time = Test_name.Download.Metadata.to_rcm_time(start_datetime);\n",
    "end_time = Test_name.Download.Metadata.to_rcm_time(end_datetime);\n",
    "lat_min, lat_max, lon_min, lon_max = map(float, bbox.split(','))\n",
    "area = Test_name.Download.Metadata.bounding_box_to_geojson(lat_min=lat_min, lat_max=lat_max, lon_min=lon_min, lon_max=lon_max)\n",
    "\n",
    "\n",
    "\n",
    "filters = Dict(\n",
    "    \"Product Type\" => (\"=\", product_type),\n",
    "    \"Polarization\" => (\"=\", polarization),\n",
    "    \"Beam Mode Type\" => (\"=\", bean_mode)  # Assuming this is what you meant instead of repeating \"Beam Mode Type\"\n",
    ")\n",
    "dates = [Dict(\"start\" => start_time, \"end\" => end_time)]\n",
    "\n",
    "# Import the Python module\n",
    "@pyimport pandas as pd\n",
    "@pyimport eodms_rapi\n",
    "\n",
    "# Create the EODMSRAPI object using Python code\n",
    "rapi = eodms_rapi.EODMSRAPI(username, password)\n",
    "# Call the search method from the Python module\n",
    "rapi.search(\"RCMImageProducts\", filters=filters, dates=dates)\n",
    "# Get the results from the search\n",
    "res = rapi.get_results(\"full\")\n",
    "return res\n",
    "end\n",
    "\n",
    "\n"
   ]
  },
  {
   "cell_type": "code",
   "execution_count": null,
   "metadata": {},
   "outputs": [],
   "source": []
  },
  {
   "cell_type": "code",
   "execution_count": 27,
   "metadata": {},
   "outputs": [
    {
     "name": "stderr",
     "output_type": "stream",
     "text": [
      "\r| EODMSRAPI | Fetching result metadata:   0%|          | 0/923 [00:00<?, ?item/s]\r| EODMSRAPI | Fetching result metadata:   0%|          | 1/923 [00:00<11:27,  1.34item/s]\r| EODMSRAPI | Fetching result metadata:   1%|          | 5/923 [00:01<03:58,  3.85item/s]\r| EODMSRAPI | Fetching result metadata:   1%|          | 9/923 [00:02<03:06,  4.91item/s]\r| EODMSRAPI | Fetching result metadata:   1%|1         | 13/923 [00:02<02:55,  5.19item/s]\r| EODMSRAPI | Fetching result metadata:   2%|1         | 17/923 [00:03<02:51,  5.29item/s]\r| EODMSRAPI | Fetching result metadata:   2%|2         | 21/923 [00:04<02:54,  5.18item/s]\r| EODMSRAPI | Fetching result metadata:   2%|2         | 22/923 [00:04<02:48,  5.34item/s]\r| EODMSRAPI | Fetching result metadata:   3%|2         | 25/923 [00:05<02:50,  5.26item/s]\r| EODMSRAPI | Fetching result metadata:   3%|3         | 29/923 [00:05<02:45,  5.40item/s]\r| EODMSRAPI | Fetching result metadata:   4%|3         | 33/923 [00:06<02:40,  5.55item/s]\r| EODMSRAPI | Fetching result metadata:   4%|4         | 37/923 [00:07<02:31,  5.86item/s]\r| EODMSRAPI | Fetching result metadata:   4%|4         | 41/923 [00:07<02:34,  5.72item/s]\r| EODMSRAPI | Fetching result metadata:   5%|4         | 45/923 [00:08<02:21,  6.19item/s]\r| EODMSRAPI | Fetching result metadata:   5%|5         | 49/923 [00:08<02:19,  6.28item/s]\r| EODMSRAPI | Fetching result metadata:   6%|5         | 52/923 [00:09<01:54,  7.58item/s]\r| EODMSRAPI | Fetching result metadata:   6%|5         | 53/923 [00:09<02:35,  5.61item/s]\r| EODMSRAPI | Fetching result metadata:   6%|6         | 57/923 [00:10<02:29,  5.79item/s]\r| EODMSRAPI | Fetching result metadata:   7%|6         | 61/923 [00:10<02:20,  6.16item/s]\r| EODMSRAPI | Fetching result metadata:   7%|7         | 65/923 [00:11<02:16,  6.28item/s]\r| EODMSRAPI | Fetching result metadata:   7%|7         | 69/923 [00:11<02:05,  6.82item/s]\r| EODMSRAPI | Fetching result metadata:   8%|7         | 73/923 [00:12<02:02,  6.94item/s]\r| EODMSRAPI | Fetching result metadata:   8%|8         | 77/923 [00:13<02:33,  5.53item/s]\r| EODMSRAPI | Fetching result metadata:   9%|8         | 81/923 [00:14<02:36,  5.39item/s]\r| EODMSRAPI | Fetching result metadata:   9%|9         | 84/923 [00:14<02:04,  6.73item/s]\r| EODMSRAPI | Fetching result metadata:   9%|9         | 85/923 [00:15<03:14,  4.30item/s]\r| EODMSRAPI | Fetching result metadata:  10%|9         | 89/923 [00:16<03:15,  4.27item/s]\r| EODMSRAPI | Fetching result metadata:  10%|#         | 93/923 [00:16<02:47,  4.96item/s]\r| EODMSRAPI | Fetching result metadata:  10%|#         | 94/923 [00:17<02:41,  5.12item/s]\r| EODMSRAPI | Fetching result metadata:  11%|#         | 97/923 [00:17<02:30,  5.49item/s]\r| EODMSRAPI | Fetching result metadata:  11%|#         | 98/923 [00:17<02:44,  5.01item/s]\r| EODMSRAPI | Fetching result metadata:  11%|#         | 101/923 [00:18<02:17,  5.99item/s]\r| EODMSRAPI | Fetching result metadata:  11%|#1        | 102/923 [00:18<02:20,  5.83item/s]\r| EODMSRAPI | Fetching result metadata:  11%|#1        | 103/923 [00:18<02:16,  6.00item/s]\r| EODMSRAPI | Fetching result metadata:  11%|#1        | 105/923 [00:18<02:17,  5.95item/s]\r| EODMSRAPI | Fetching result metadata:  12%|#1        | 108/923 [00:19<01:47,  7.58item/s]\r| EODMSRAPI | Fetching result metadata:  12%|#1        | 109/923 [00:19<03:01,  4.48item/s]\r| EODMSRAPI | Fetching result metadata:  12%|#2        | 113/923 [00:20<02:40,  5.05item/s]\r| EODMSRAPI | Fetching result metadata:  13%|#2        | 117/923 [00:21<02:21,  5.68item/s]\r| EODMSRAPI | Fetching result metadata:  13%|#3        | 121/923 [00:21<02:13,  6.01item/s]\r| EODMSRAPI | Fetching result metadata:  14%|#3        | 125/923 [00:22<02:08,  6.21item/s]\r| EODMSRAPI | Fetching result metadata:  14%|#3        | 129/923 [00:22<01:58,  6.68item/s]\r| EODMSRAPI | Fetching result metadata:  14%|#4        | 133/923 [00:23<01:59,  6.62item/s]\r| EODMSRAPI | Fetching result metadata:  15%|#4        | 137/923 [00:23<01:52,  7.01item/s]\r| EODMSRAPI | Fetching result metadata:  15%|#5        | 141/923 [00:24<01:55,  6.77item/s]\r| EODMSRAPI | Fetching result metadata:  16%|#5        | 145/923 [00:24<01:43,  7.51item/s]\r| EODMSRAPI | Fetching result metadata:  16%|#5        | 146/923 [00:25<01:46,  7.30item/s]\r| EODMSRAPI | Fetching result metadata:  16%|#6        | 149/923 [00:25<01:48,  7.16item/s]\r| EODMSRAPI | Fetching result metadata:  16%|#6        | 151/923 [00:25<01:33,  8.28item/s]\r| EODMSRAPI | Fetching result metadata:  17%|#6        | 153/923 [00:26<01:57,  6.55item/s]\r| EODMSRAPI | Fetching result metadata:  17%|#7        | 157/923 [00:26<01:57,  6.54item/s]\r| EODMSRAPI | Fetching result metadata:  17%|#7        | 161/923 [00:27<02:14,  5.68item/s]\r| EODMSRAPI | Fetching result metadata:  18%|#7        | 165/923 [00:28<02:11,  5.76item/s]\r| EODMSRAPI | Fetching result metadata:  18%|#8        | 169/923 [00:28<01:59,  6.32item/s]\r| EODMSRAPI | Fetching result metadata:  19%|#8        | 173/923 [00:29<01:51,  6.70item/s]\r| EODMSRAPI | Fetching result metadata:  19%|#9        | 177/923 [00:29<01:46,  7.03item/s]\r| EODMSRAPI | Fetching result metadata:  20%|#9        | 181/923 [00:30<01:48,  6.84item/s]\r| EODMSRAPI | Fetching result metadata:  20%|##        | 185/923 [00:31<01:49,  6.76item/s]\r| EODMSRAPI | Fetching result metadata:  20%|##        | 189/923 [00:31<01:49,  6.67item/s]\r| EODMSRAPI | Fetching result metadata:  21%|##        | 193/923 [00:32<01:50,  6.64item/s]\r| EODMSRAPI | Fetching result metadata:  21%|##1       | 197/923 [00:32<01:47,  6.77item/s]\r| EODMSRAPI | Fetching result metadata:  22%|##1       | 201/923 [00:33<01:46,  6.80item/s]\r| EODMSRAPI | Fetching result metadata:  22%|##2       | 205/923 [00:34<01:45,  6.78item/s]\r| EODMSRAPI | Fetching result metadata:  23%|##2       | 209/923 [00:34<01:41,  7.00item/s]\r| EODMSRAPI | Fetching result metadata:  23%|##3       | 213/923 [00:35<01:39,  7.16item/s]\r| EODMSRAPI | Fetching result metadata:  24%|##3       | 217/923 [00:35<01:45,  6.67item/s]\r| EODMSRAPI | Fetching result metadata:  24%|##3       | 221/923 [00:36<01:46,  6.60item/s]\r| EODMSRAPI | Fetching result metadata:  24%|##4       | 225/923 [00:36<01:45,  6.62item/s]\r| EODMSRAPI | Fetching result metadata:  25%|##4       | 229/923 [00:37<01:46,  6.55item/s]\r| EODMSRAPI | Fetching result metadata:  25%|##5       | 233/923 [00:38<01:46,  6.46item/s]\r| EODMSRAPI | Fetching result metadata:  26%|##5       | 237/923 [00:38<01:38,  6.98item/s]\r| EODMSRAPI | Fetching result metadata:  26%|##6       | 241/923 [00:39<01:40,  6.76item/s]\r| EODMSRAPI | Fetching result metadata:  27%|##6       | 245/923 [00:40<01:44,  6.48item/s]\r| EODMSRAPI | Fetching result metadata:  27%|##6       | 249/923 [00:40<01:38,  6.86item/s]\r| EODMSRAPI | Fetching result metadata:  27%|##7       | 253/923 [00:41<01:33,  7.20item/s]\r| EODMSRAPI | Fetching result metadata:  28%|##7       | 257/923 [00:41<01:33,  7.11item/s]\r| EODMSRAPI | Fetching result metadata:  28%|##8       | 261/923 [00:42<01:40,  6.58item/s]\r| EODMSRAPI | Fetching result metadata:  29%|##8       | 265/923 [00:44<02:49,  3.88item/s]\r| EODMSRAPI | Fetching result metadata:  29%|##9       | 269/923 [00:44<02:25,  4.51item/s]\r| EODMSRAPI | Fetching result metadata:  30%|##9       | 273/923 [00:45<02:06,  5.16item/s]\r| EODMSRAPI | Fetching result metadata:  30%|###       | 277/923 [00:46<01:57,  5.51item/s]\r| EODMSRAPI | Fetching result metadata:  30%|###       | 281/923 [00:46<01:48,  5.93item/s]\r| EODMSRAPI | Fetching result metadata:  31%|###       | 285/923 [00:47<01:38,  6.50item/s]\r| EODMSRAPI | Fetching result metadata:  31%|###1      | 288/923 [00:47<01:19,  7.94item/s]\r| EODMSRAPI | Fetching result metadata:  31%|###1      | 289/923 [00:47<01:39,  6.35item/s]\r| EODMSRAPI | Fetching result metadata:  32%|###1      | 293/923 [00:48<01:42,  6.16item/s]\r| EODMSRAPI | Fetching result metadata:  32%|###2      | 297/923 [00:48<01:44,  6.00item/s]\r| EODMSRAPI | Fetching result metadata:  33%|###2      | 301/923 [00:49<01:51,  5.56item/s]\r| EODMSRAPI | Fetching result metadata:  33%|###3      | 305/923 [00:50<01:40,  6.16item/s]\r| EODMSRAPI | Fetching result metadata:  33%|###3      | 309/923 [00:50<01:34,  6.49item/s]\r| EODMSRAPI | Fetching result metadata:  34%|###3      | 313/923 [00:51<01:34,  6.49item/s]\r| EODMSRAPI | Fetching result metadata:  34%|###4      | 317/923 [00:52<01:36,  6.29item/s]\r| EODMSRAPI | Fetching result metadata:  35%|###4      | 321/923 [00:52<01:40,  6.01item/s]\r| EODMSRAPI | Fetching result metadata:  35%|###5      | 325/923 [00:53<01:32,  6.45item/s]\r| EODMSRAPI | Fetching result metadata:  36%|###5      | 329/923 [00:54<01:36,  6.18item/s]\r| EODMSRAPI | Fetching result metadata:  36%|###6      | 333/923 [00:54<01:45,  5.59item/s]\r| EODMSRAPI | Fetching result metadata:  37%|###6      | 337/923 [00:55<01:40,  5.83item/s]\r| EODMSRAPI | Fetching result metadata:  37%|###6      | 341/923 [00:56<01:42,  5.66item/s]\r| EODMSRAPI | Fetching result metadata:  37%|###7      | 345/923 [00:56<01:34,  6.11item/s]\r| EODMSRAPI | Fetching result metadata:  38%|###7      | 349/923 [00:57<01:29,  6.38item/s]\r| EODMSRAPI | Fetching result metadata:  38%|###8      | 353/923 [00:58<01:31,  6.26item/s]\r| EODMSRAPI | Fetching result metadata:  39%|###8      | 357/923 [00:58<01:30,  6.25item/s]\r| EODMSRAPI | Fetching result metadata:  39%|###8      | 359/923 [00:58<01:20,  7.04item/s]\r| EODMSRAPI | Fetching result metadata:  39%|###9      | 361/923 [00:59<01:29,  6.31item/s]\r| EODMSRAPI | Fetching result metadata:  39%|###9      | 364/923 [00:59<01:11,  7.81item/s]\r| EODMSRAPI | Fetching result metadata:  40%|###9      | 365/923 [00:59<01:33,  5.95item/s]\r| EODMSRAPI | Fetching result metadata:  40%|###9      | 369/923 [01:00<01:23,  6.60item/s]\r| EODMSRAPI | Fetching result metadata:  40%|####      | 373/923 [01:00<01:17,  7.11item/s]\r| EODMSRAPI | Fetching result metadata:  41%|####      | 377/923 [01:01<01:15,  7.21item/s]\r| EODMSRAPI | Fetching result metadata:  41%|####1     | 381/923 [01:01<01:12,  7.47item/s]\r| EODMSRAPI | Fetching result metadata:  42%|####1     | 385/923 [01:02<01:14,  7.25item/s]\r| EODMSRAPI | Fetching result metadata:  42%|####2     | 389/923 [01:03<01:15,  7.04item/s]\r| EODMSRAPI | Fetching result metadata:  43%|####2     | 393/923 [01:03<01:19,  6.68item/s]\r| EODMSRAPI | Fetching result metadata:  43%|####3     | 397/923 [01:04<01:19,  6.63item/s]\r| EODMSRAPI | Fetching result metadata:  43%|####3     | 401/923 [01:04<01:15,  6.95item/s]\r| EODMSRAPI | Fetching result metadata:  44%|####3     | 402/923 [01:05<01:13,  7.12item/s]\r| EODMSRAPI | Fetching result metadata:  44%|####3     | 405/923 [01:05<01:11,  7.23item/s]\r| EODMSRAPI | Fetching result metadata:  44%|####4     | 409/923 [01:05<01:09,  7.42item/s]\r| EODMSRAPI | Fetching result metadata:  45%|####4     | 413/923 [01:06<01:07,  7.59item/s]\r| EODMSRAPI | Fetching result metadata:  45%|####5     | 417/923 [01:07<01:06,  7.64item/s]\r| EODMSRAPI | Fetching result metadata:  46%|####5     | 421/923 [01:07<01:13,  6.85item/s]\r| EODMSRAPI | Fetching result metadata:  46%|####6     | 425/923 [01:08<01:13,  6.76item/s]\r| EODMSRAPI | Fetching result metadata:  46%|####6     | 429/923 [01:08<01:06,  7.39item/s]\r| EODMSRAPI | Fetching result metadata:  47%|####6     | 431/923 [01:08<00:59,  8.31item/s]\r| EODMSRAPI | Fetching result metadata:  47%|####6     | 433/923 [01:09<01:22,  5.97item/s]\r| EODMSRAPI | Fetching result metadata:  47%|####7     | 437/923 [01:10<01:28,  5.49item/s]\r| EODMSRAPI | Fetching result metadata:  48%|####7     | 441/923 [01:11<01:31,  5.26item/s]\r| EODMSRAPI | Fetching result metadata:  48%|####8     | 445/923 [01:11<01:23,  5.70item/s]\r| EODMSRAPI | Fetching result metadata:  49%|####8     | 449/923 [01:12<01:17,  6.15item/s]\r| EODMSRAPI | Fetching result metadata:  49%|####9     | 453/923 [01:12<01:14,  6.32item/s]\r| EODMSRAPI | Fetching result metadata:  50%|####9     | 457/923 [01:13<01:07,  6.92item/s]\r| EODMSRAPI | Fetching result metadata:  50%|####9     | 460/923 [01:13<00:55,  8.35item/s]\r| EODMSRAPI | Fetching result metadata:  50%|####9     | 461/923 [01:13<01:11,  6.49item/s]\r| EODMSRAPI | Fetching result metadata:  50%|#####     | 465/923 [01:14<01:09,  6.54item/s]\r| EODMSRAPI | Fetching result metadata:  51%|#####     | 469/923 [01:15<01:07,  6.69item/s]\r| EODMSRAPI | Fetching result metadata:  51%|#####1    | 473/923 [01:15<01:05,  6.92item/s]\r| EODMSRAPI | Fetching result metadata:  52%|#####1    | 477/923 [01:16<01:06,  6.68item/s]\r| EODMSRAPI | Fetching result metadata:  52%|#####2    | 481/923 [01:16<01:03,  6.94item/s]\r| EODMSRAPI | Fetching result metadata:  53%|#####2    | 485/923 [01:17<01:00,  7.20item/s]\r| EODMSRAPI | Fetching result metadata:  53%|#####2    | 489/923 [01:18<01:05,  6.63item/s]\r| EODMSRAPI | Fetching result metadata:  53%|#####3    | 493/923 [01:18<01:08,  6.29item/s]\r| EODMSRAPI | Fetching result metadata:  54%|#####3    | 497/923 [01:19<01:16,  5.53item/s]\r| EODMSRAPI | Fetching result metadata:  54%|#####4    | 501/923 [01:20<01:12,  5.78item/s]\r| EODMSRAPI | Fetching result metadata:  55%|#####4    | 505/923 [01:20<01:07,  6.23item/s]\r| EODMSRAPI | Fetching result metadata:  55%|#####5    | 509/923 [01:21<01:08,  6.05item/s]\r| EODMSRAPI | Fetching result metadata:  56%|#####5    | 513/923 [01:22<01:09,  5.90item/s]\r| EODMSRAPI | Fetching result metadata:  56%|#####6    | 517/923 [01:23<01:14,  5.44item/s]\r| EODMSRAPI | Fetching result metadata:  56%|#####6    | 521/923 [01:23<01:15,  5.36item/s]\r| EODMSRAPI | Fetching result metadata:  57%|#####6    | 525/923 [01:24<01:18,  5.05item/s]\r| EODMSRAPI | Fetching result metadata:  57%|#####7    | 529/923 [01:25<01:15,  5.19item/s]\r| EODMSRAPI | Fetching result metadata:  58%|#####7    | 533/923 [01:25<00:59,  6.61item/s]\r| EODMSRAPI | Fetching result metadata:  58%|#####7    | 534/923 [01:26<01:04,  6.05item/s]\r| EODMSRAPI | Fetching result metadata:  58%|#####7    | 535/923 [01:26<01:02,  6.24item/s]\r| EODMSRAPI | Fetching result metadata:  58%|#####8    | 538/923 [01:26<01:03,  6.09item/s]\r| EODMSRAPI | Fetching result metadata:  59%|#####8    | 542/923 [01:27<01:08,  5.57item/s]\r| EODMSRAPI | Fetching result metadata:  59%|#####9    | 546/923 [01:28<01:07,  5.58item/s]\r| EODMSRAPI | Fetching result metadata:  60%|#####9    | 550/923 [01:28<00:59,  6.22item/s]\r| EODMSRAPI | Fetching result metadata:  60%|######    | 554/923 [01:29<00:56,  6.53item/s]\r| EODMSRAPI | Fetching result metadata:  60%|######    | 558/923 [01:29<00:52,  6.89item/s]\r| EODMSRAPI | Fetching result metadata:  61%|######    | 562/923 [01:30<00:52,  6.89item/s]\r| EODMSRAPI | Fetching result metadata:  61%|######1   | 566/923 [01:30<00:49,  7.25item/s]\r| EODMSRAPI | Fetching result metadata:  62%|######1   | 570/923 [01:31<00:53,  6.60item/s]\r| EODMSRAPI | Fetching result metadata:  62%|######2   | 574/923 [01:32<00:50,  6.86item/s]\r| EODMSRAPI | Fetching result metadata:  63%|######2   | 578/923 [01:32<00:47,  7.28item/s]\r| EODMSRAPI | Fetching result metadata:  63%|######3   | 582/923 [01:33<00:49,  6.95item/s]\r| EODMSRAPI | Fetching result metadata:  63%|######3   | 586/923 [01:34<00:54,  6.17item/s]\r| EODMSRAPI | Fetching result metadata:  64%|######3   | 590/923 [01:34<00:51,  6.42item/s]\r| EODMSRAPI | Fetching result metadata:  64%|######4   | 594/923 [01:35<00:52,  6.30item/s]\r| EODMSRAPI | Fetching result metadata:  65%|######4   | 598/923 [01:35<00:48,  6.66item/s]\r| EODMSRAPI | Fetching result metadata:  65%|######5   | 602/923 [01:36<00:48,  6.63item/s]\r| EODMSRAPI | Fetching result metadata:  66%|######5   | 606/923 [01:36<00:45,  6.97item/s]\r| EODMSRAPI | Fetching result metadata:  66%|######6   | 610/923 [01:37<00:45,  6.95item/s]\r| EODMSRAPI | Fetching result metadata:  67%|######6   | 614/923 [01:38<00:44,  7.02item/s]\r| EODMSRAPI | Fetching result metadata:  67%|######6   | 618/923 [01:38<00:44,  6.88item/s]\r| EODMSRAPI | Fetching result metadata:  67%|######7   | 622/923 [01:39<00:41,  7.19item/s]\r| EODMSRAPI | Fetching result metadata:  68%|######7   | 626/923 [01:39<00:43,  6.88item/s]\r| EODMSRAPI | Fetching result metadata:  68%|######8   | 630/923 [01:40<00:43,  6.78item/s]\r| EODMSRAPI | Fetching result metadata:  69%|######8   | 634/923 [01:40<00:41,  7.01item/s]\r| EODMSRAPI | Fetching result metadata:  69%|######9   | 638/923 [01:41<00:39,  7.18item/s]\r| EODMSRAPI | Fetching result metadata:  70%|######9   | 642/923 [01:41<00:35,  7.82item/s]\r| EODMSRAPI | Fetching result metadata:  70%|######9   | 644/923 [01:41<00:32,  8.52item/s]\r| EODMSRAPI | Fetching result metadata:  70%|######9   | 646/923 [01:42<00:36,  7.56item/s]\r| EODMSRAPI | Fetching result metadata:  70%|#######   | 649/923 [01:42<00:28,  9.75item/s]\r| EODMSRAPI | Fetching result metadata:  70%|#######   | 650/923 [01:42<00:40,  6.68item/s]\r| EODMSRAPI | Fetching result metadata:  71%|#######   | 654/923 [01:43<00:38,  7.03item/s]\r| EODMSRAPI | Fetching result metadata:  71%|#######1  | 658/923 [01:43<00:36,  7.28item/s]\r| EODMSRAPI | Fetching result metadata:  72%|#######1  | 662/923 [01:44<00:36,  7.08item/s]\r| EODMSRAPI | Fetching result metadata:  72%|#######2  | 666/923 [01:45<00:35,  7.27item/s]\r| EODMSRAPI | Fetching result metadata:  73%|#######2  | 670/923 [01:45<00:34,  7.39item/s]\r| EODMSRAPI | Fetching result metadata:  73%|#######3  | 674/923 [01:46<00:36,  6.77item/s]\r| EODMSRAPI | Fetching result metadata:  73%|#######3  | 678/923 [01:47<00:38,  6.35item/s]\r| EODMSRAPI | Fetching result metadata:  74%|#######3  | 682/923 [01:47<00:36,  6.59item/s]\r| EODMSRAPI | Fetching result metadata:  74%|#######4  | 686/923 [01:48<00:40,  5.79item/s]\r| EODMSRAPI | Fetching result metadata:  75%|#######4  | 690/923 [01:48<00:37,  6.25item/s]\r| EODMSRAPI | Fetching result metadata:  75%|#######5  | 694/923 [01:49<00:35,  6.37item/s]\r| EODMSRAPI | Fetching result metadata:  76%|#######5  | 698/923 [01:50<00:35,  6.41item/s]\r| EODMSRAPI | Fetching result metadata:  76%|#######6  | 702/923 [01:50<00:33,  6.66item/s]\r| EODMSRAPI | Fetching result metadata:  76%|#######6  | 706/923 [01:51<00:33,  6.41item/s]\r| EODMSRAPI | Fetching result metadata:  77%|#######6  | 707/923 [01:51<00:32,  6.62item/s]\r| EODMSRAPI | Fetching result metadata:  77%|#######6  | 710/923 [01:52<00:35,  6.00item/s]\r| EODMSRAPI | Fetching result metadata:  77%|#######7  | 714/923 [01:52<00:31,  6.63item/s]\r| EODMSRAPI | Fetching result metadata:  78%|#######7  | 718/923 [01:53<00:29,  6.87item/s]\r| EODMSRAPI | Fetching result metadata:  78%|#######8  | 722/923 [01:53<00:30,  6.68item/s]\r| EODMSRAPI | Fetching result metadata:  79%|#######8  | 726/923 [01:54<00:29,  6.71item/s]\r| EODMSRAPI | Fetching result metadata:  79%|#######9  | 730/923 [01:54<00:27,  6.97item/s]\r| EODMSRAPI | Fetching result metadata:  80%|#######9  | 734/923 [01:55<00:27,  6.87item/s]\r| EODMSRAPI | Fetching result metadata:  80%|#######9  | 738/923 [01:56<00:26,  7.04item/s]\r| EODMSRAPI | Fetching result metadata:  80%|########  | 742/923 [01:56<00:26,  6.80item/s]\r| EODMSRAPI | Fetching result metadata:  81%|########  | 746/923 [01:57<00:25,  6.99item/s]\r| EODMSRAPI | Fetching result metadata:  81%|########1 | 749/923 [01:57<00:20,  8.50item/s]\r| EODMSRAPI | Fetching result metadata:  81%|########1 | 750/923 [01:57<00:28,  6.12item/s]\r| EODMSRAPI | Fetching result metadata:  82%|########1 | 754/923 [01:58<00:27,  6.23item/s]\r| EODMSRAPI | Fetching result metadata:  82%|########2 | 758/923 [01:59<00:24,  6.81item/s]\r| EODMSRAPI | Fetching result metadata:  83%|########2 | 762/923 [01:59<00:22,  7.11item/s]\r| EODMSRAPI | Fetching result metadata:  83%|########2 | 766/923 [02:00<00:22,  6.89item/s]\r| EODMSRAPI | Fetching result metadata:  83%|########3 | 770/923 [02:00<00:21,  7.01item/s]\r| EODMSRAPI | Fetching result metadata:  84%|########3 | 774/923 [02:01<00:20,  7.30item/s]\r| EODMSRAPI | Fetching result metadata:  84%|########4 | 777/923 [02:01<00:16,  8.79item/s]\r| EODMSRAPI | Fetching result metadata:  84%|########4 | 778/923 [02:01<00:20,  7.01item/s]\r| EODMSRAPI | Fetching result metadata:  85%|########4 | 781/923 [02:01<00:16,  8.86item/s]\r| EODMSRAPI | Fetching result metadata:  85%|########4 | 782/923 [02:02<00:27,  5.05item/s]\r| EODMSRAPI | Fetching result metadata:  85%|########5 | 786/923 [02:03<00:24,  5.62item/s]\r| EODMSRAPI | Fetching result metadata:  86%|########5 | 790/923 [02:04<00:24,  5.36item/s]\r| EODMSRAPI | Fetching result metadata:  86%|########6 | 794/923 [02:04<00:22,  5.69item/s]\r| EODMSRAPI | Fetching result metadata:  86%|########6 | 798/923 [02:05<00:22,  5.64item/s]\r| EODMSRAPI | Fetching result metadata:  87%|########6 | 802/923 [02:05<00:20,  5.91item/s]\r| EODMSRAPI | Fetching result metadata:  87%|########7 | 806/923 [02:06<00:18,  6.28item/s]\r| EODMSRAPI | Fetching result metadata:  88%|########7 | 810/923 [02:06<00:16,  6.85item/s]\r| EODMSRAPI | Fetching result metadata:  88%|########8 | 813/923 [02:07<00:12,  8.47item/s]\r| EODMSRAPI | Fetching result metadata:  88%|########8 | 814/923 [02:07<00:16,  6.76item/s]\r| EODMSRAPI | Fetching result metadata:  88%|########8 | 815/923 [02:07<00:15,  6.98item/s]\r| EODMSRAPI | Fetching result metadata:  89%|########8 | 818/923 [02:08<00:16,  6.44item/s]\r| EODMSRAPI | Fetching result metadata:  89%|########9 | 822/923 [02:08<00:14,  6.85item/s]\r| EODMSRAPI | Fetching result metadata:  89%|########9 | 826/923 [02:09<00:13,  7.42item/s]\r| EODMSRAPI | Fetching result metadata:  90%|########9 | 830/923 [02:09<00:12,  7.44item/s]\r| EODMSRAPI | Fetching result metadata:  90%|######### | 834/923 [02:10<00:12,  7.10item/s]\r| EODMSRAPI | Fetching result metadata:  91%|######### | 838/923 [02:10<00:11,  7.31item/s]\r| EODMSRAPI | Fetching result metadata:  91%|#########1| 842/923 [02:11<00:10,  7.54item/s]\r| EODMSRAPI | Fetching result metadata:  92%|#########1| 846/923 [02:11<00:10,  7.53item/s]\r| EODMSRAPI | Fetching result metadata:  92%|#########2| 850/923 [02:12<00:09,  7.74item/s]\r| EODMSRAPI | Fetching result metadata:  93%|#########2| 854/923 [02:12<00:08,  7.68item/s]\r| EODMSRAPI | Fetching result metadata:  93%|#########2| 855/923 [02:13<00:09,  7.20item/s]\r| EODMSRAPI | Fetching result metadata:  93%|#########2| 858/923 [02:13<00:09,  7.15item/s]\r| EODMSRAPI | Fetching result metadata:  93%|#########3| 859/923 [02:13<00:09,  6.70item/s]\r| EODMSRAPI | Fetching result metadata:  93%|#########3| 862/923 [02:14<00:10,  5.75item/s]\r| EODMSRAPI | Fetching result metadata:  93%|#########3| 863/923 [02:14<00:11,  5.15item/s]\r| EODMSRAPI | Fetching result metadata:  94%|#########3| 866/923 [02:15<00:10,  5.19item/s]\r| EODMSRAPI | Fetching result metadata:  94%|#########3| 867/923 [02:15<00:10,  5.20item/s]\r| EODMSRAPI | Fetching result metadata:  94%|#########4| 870/923 [02:16<00:10,  5.24item/s]\r| EODMSRAPI | Fetching result metadata:  94%|#########4| 871/923 [02:16<00:09,  5.33item/s]\r| EODMSRAPI | Fetching result metadata:  95%|#########4| 874/923 [02:16<00:08,  5.76item/s]\r| EODMSRAPI | Fetching result metadata:  95%|#########4| 875/923 [02:16<00:08,  5.65item/s]\r| EODMSRAPI | Fetching result metadata:  95%|#########5| 878/923 [02:17<00:07,  6.32item/s]\r| EODMSRAPI | Fetching result metadata:  95%|#########5| 879/923 [02:17<00:07,  5.98item/s]\r| EODMSRAPI | Fetching result metadata:  95%|#########5| 881/923 [02:17<00:05,  7.68item/s]\r| EODMSRAPI | Fetching result metadata:  96%|#########5| 882/923 [02:17<00:06,  6.17item/s]\r| EODMSRAPI | Fetching result metadata:  96%|#########5| 883/923 [02:17<00:06,  6.27item/s]\r| EODMSRAPI | Fetching result metadata:  96%|#########5| 885/923 [02:18<00:04,  8.21item/s]\r| EODMSRAPI | Fetching result metadata:  96%|#########5| 886/923 [02:18<00:06,  6.16item/s]\r| EODMSRAPI | Fetching result metadata:  96%|#########6| 888/923 [02:18<00:04,  8.25item/s]\r| EODMSRAPI | Fetching result metadata:  96%|#########6| 890/923 [02:18<00:05,  6.56item/s]\r| EODMSRAPI | Fetching result metadata:  97%|#########6| 892/923 [02:19<00:03,  8.14item/s]\r| EODMSRAPI | Fetching result metadata:  97%|#########6| 894/923 [02:19<00:03,  7.34item/s]\r| EODMSRAPI | Fetching result metadata:  97%|#########6| 895/923 [02:19<00:04,  6.63item/s]\r| EODMSRAPI | Fetching result metadata:  97%|#########7| 898/923 [02:19<00:03,  8.20item/s]\r| EODMSRAPI | Fetching result metadata:  97%|#########7| 899/923 [02:20<00:03,  6.88item/s]\r| EODMSRAPI | Fetching result metadata:  98%|#########7| 902/923 [02:20<00:02,  8.56item/s]\r| EODMSRAPI | Fetching result metadata:  98%|#########7| 903/923 [02:20<00:02,  6.92item/s]\r| EODMSRAPI | Fetching result metadata:  98%|#########8| 906/923 [02:20<00:02,  8.23item/s]\r| EODMSRAPI | Fetching result metadata:  98%|#########8| 907/923 [02:21<00:02,  6.93item/s]\r| EODMSRAPI | Fetching result metadata:  99%|#########8| 910/923 [02:21<00:01,  8.76item/s]\r| EODMSRAPI | Fetching result metadata:  99%|#########8| 911/923 [02:21<00:01,  7.24item/s]\r| EODMSRAPI | Fetching result metadata:  99%|#########9| 914/923 [02:21<00:01,  8.54item/s]\r| EODMSRAPI | Fetching result metadata:  99%|#########9| 915/923 [02:22<00:01,  7.51item/s]\r| EODMSRAPI | Fetching result metadata:  99%|#########9| 916/923 [02:22<00:00,  7.62item/s]\r| EODMSRAPI | Fetching result metadata:  99%|#########9| 918/923 [02:22<00:00,  9.07item/s]\r| EODMSRAPI | Fetching result metadata: 100%|#########9| 919/923 [02:22<00:00,  7.91item/s]\r| EODMSRAPI | Fetching result metadata: 100%|#########9| 920/923 [02:22<00:00,  6.10item/s]\r| EODMSRAPI | Fetching result metadata: 100%|##########| 923/923 [02:23<00:00,  7.38item/s]\r| EODMSRAPI | Fetching result metadata: 100%|##########| 923/923 [02:23<00:00,  6.45item/s]\n"
     ]
    },
    {
     "name": "stdout",
     "output_type": "stream",
     "text": [
      "| EODMSRAPI | 2023-11-15 21:29:22 | Getting Collection information, please wait...\n",
      "\n",
      "| EODMSRAPI | 2023-11-15 21:29:27 | Searching for RCMImageProducts images on RAPI\n",
      "| EODMSRAPI | 2023-11-15 21:29:27 | Querying records within 1 to 1000...\n",
      "| EODMSRAPI | 2023-11-15 21:29:47 | Querying records within 1001 to 2000...\n",
      "| EODMSRAPI | 2023-11-15 21:31:47 |  WARNING: Timeout Error: HTTPSConnectionPool(host='www.eodms-sgdot.nrcan-rncan.gc.ca', port=443): Read timed out. (read timeout=120.0); increasing timeout by a minute and trying again...\n",
      "| EODMSRAPI | 2023-11-15 21:34:47 |  WARNING: Timeout Error: HTTPSConnectionPool(host='www.eodms-sgdot.nrcan-rncan.gc.ca', port=443): Read timed out. (read timeout=180.0); increasing timeout by a minute and trying again...\n",
      "| EODMSRAPI | 2023-11-15 21:35:33 | Querying records within 2001 to 3000...\n",
      "| EODMSRAPI | 2023-11-15 21:41:12 | Getting Collection information, please wait...\n",
      "\n",
      "| EODMSRAPI | 2023-11-15 21:41:19 | Searching for RCMImageProducts images on RAPI\n",
      "| EODMSRAPI | 2023-11-15 21:41:19 | Querying records within 1 to 1000...\n",
      "| EODMSRAPI | 2023-11-15 21:41:47 | Number of RCMImageProducts images returned from RAPI: 923\n"
     ]
    },
    {
     "data": {
      "text/plain": [
       "923-element Vector{Dict{Any, Any}}:\n",
       " Dict(\"satellite\" => \"RCM\", \"productDatum\" => \"\", \"rapiOrderUrl\" => \"https://www.eodms-sgdot.nrcan-rncan.gc.ca/wes/rapi/order/direct?collection=RCMImageProducts&recordId=12953247&destination=fill_me_in\", \"serviceUuid\" => \"62f0e816-8006-4768-8f32-6ef4008e6895\", \"openData\" => \"false\", \"sampledPixelSpacing\" => \"20\", \"subcollectionId\" => \"2\", \"providerId\" => \"1\", \"orbitDataSource\" => \"Downlinked\", \"thumbnailUrl\" => \"https://www.eodms-sgdot.nrcan-rncan.gc.ca/wes/getObject?FeatureID=62f0e816-8006-4768-8f32-6ef4008e6895-12953247&ObjectType=Thumbview&collectionId=RCMImageProducts&AFB=true\"…)\n",
       " Dict(\"satellite\" => \"RCM\", \"productDatum\" => \"\", \"rapiOrderUrl\" => \"https://www.eodms-sgdot.nrcan-rncan.gc.ca/wes/rapi/order/direct?collection=RCMImageProducts&recordId=12953245&destination=fill_me_in\", \"serviceUuid\" => \"62f0e816-8006-4768-8f32-6ef4008e6895\", \"openData\" => \"false\", \"sampledPixelSpacing\" => \"40\", \"subcollectionId\" => \"2\", \"providerId\" => \"1\", \"orbitDataSource\" => \"Downlinked\", \"thumbnailUrl\" => \"https://www.eodms-sgdot.nrcan-rncan.gc.ca/wes/getObject?FeatureID=62f0e816-8006-4768-8f32-6ef4008e6895-12953245&ObjectType=Thumbview&collectionId=RCMImageProducts&AFB=true\"…)\n",
       " Dict(\"satellite\" => \"RCM\", \"productDatum\" => \"\", \"rapiOrderUrl\" => \"https://www.eodms-sgdot.nrcan-rncan.gc.ca/wes/rapi/order/direct?collection=RCMImageProducts&recordId=12952939&destination=fill_me_in\", \"serviceUuid\" => \"62f0e816-8006-4768-8f32-6ef4008e6895\", \"openData\" => \"false\", \"sampledPixelSpacing\" => \"40\", \"subcollectionId\" => \"2\", \"providerId\" => \"1\", \"orbitDataSource\" => \"Downlinked\", \"thumbnailUrl\" => \"https://www.eodms-sgdot.nrcan-rncan.gc.ca/wes/getObject?FeatureID=62f0e816-8006-4768-8f32-6ef4008e6895-12952939&ObjectType=Thumbview&collectionId=RCMImageProducts&AFB=true\"…)\n",
       " Dict(\"satellite\" => \"RCM\", \"productDatum\" => \"\", \"rapiOrderUrl\" => \"https://www.eodms-sgdot.nrcan-rncan.gc.ca/wes/rapi/order/direct?collection=RCMImageProducts&recordId=12952942&destination=fill_me_in\", \"serviceUuid\" => \"62f0e816-8006-4768-8f32-6ef4008e6895\", \"openData\" => \"false\", \"sampledPixelSpacing\" => \"40\", \"subcollectionId\" => \"2\", \"providerId\" => \"1\", \"orbitDataSource\" => \"Downlinked\", \"thumbnailUrl\" => \"https://www.eodms-sgdot.nrcan-rncan.gc.ca/wes/getObject?FeatureID=62f0e816-8006-4768-8f32-6ef4008e6895-12952942&ObjectType=Thumbview&collectionId=RCMImageProducts&AFB=true\"…)\n",
       " Dict(\"satellite\" => \"RCM\", \"productDatum\" => \"\", \"rapiOrderUrl\" => \"https://www.eodms-sgdot.nrcan-rncan.gc.ca/wes/rapi/order/direct?collection=RCMImageProducts&recordId=12952468&destination=fill_me_in\", \"serviceUuid\" => \"62f0e816-8006-4768-8f32-6ef4008e6895\", \"openData\" => \"false\", \"sampledPixelSpacing\" => \"40\", \"subcollectionId\" => \"2\", \"providerId\" => \"1\", \"orbitDataSource\" => \"Downlinked\", \"thumbnailUrl\" => \"https://www.eodms-sgdot.nrcan-rncan.gc.ca/wes/getObject?FeatureID=62f0e816-8006-4768-8f32-6ef4008e6895-12952468&ObjectType=Thumbview&collectionId=RCMImageProducts&AFB=true\"…)\n",
       " Dict(\"satellite\" => \"RCM\", \"productDatum\" => \"\", \"rapiOrderUrl\" => \"https://www.eodms-sgdot.nrcan-rncan.gc.ca/wes/rapi/order/direct?collection=RCMImageProducts&recordId=12952580&destination=fill_me_in\", \"serviceUuid\" => \"62f0e816-8006-4768-8f32-6ef4008e6895\", \"openData\" => \"false\", \"sampledPixelSpacing\" => \"40\", \"subcollectionId\" => \"2\", \"providerId\" => \"1\", \"orbitDataSource\" => \"Downlinked\", \"thumbnailUrl\" => \"https://www.eodms-sgdot.nrcan-rncan.gc.ca/wes/getObject?FeatureID=62f0e816-8006-4768-8f32-6ef4008e6895-12952580&ObjectType=Thumbview&collectionId=RCMImageProducts&AFB=true\"…)\n",
       " Dict(\"satellite\" => \"RCM\", \"productDatum\" => \"\", \"rapiOrderUrl\" => \"https://www.eodms-sgdot.nrcan-rncan.gc.ca/wes/rapi/order/direct?collection=RCMImageProducts&recordId=12952940&destination=fill_me_in\", \"serviceUuid\" => \"62f0e816-8006-4768-8f32-6ef4008e6895\", \"openData\" => \"false\", \"sampledPixelSpacing\" => \"40\", \"subcollectionId\" => \"2\", \"providerId\" => \"1\", \"orbitDataSource\" => \"Downlinked\", \"thumbnailUrl\" => \"https://www.eodms-sgdot.nrcan-rncan.gc.ca/wes/getObject?FeatureID=62f0e816-8006-4768-8f32-6ef4008e6895-12952940&ObjectType=Thumbview&collectionId=RCMImageProducts&AFB=true\"…)\n",
       " Dict(\"satellite\" => \"RCM\", \"productDatum\" => \"\", \"rapiOrderUrl\" => \"https://www.eodms-sgdot.nrcan-rncan.gc.ca/wes/rapi/order/direct?collection=RCMImageProducts&recordId=12953226&destination=fill_me_in\", \"serviceUuid\" => \"62f0e816-8006-4768-8f32-6ef4008e6895\", \"openData\" => \"false\", \"sampledPixelSpacing\" => \"40\", \"subcollectionId\" => \"2\", \"providerId\" => \"1\", \"orbitDataSource\" => \"Downlinked\", \"thumbnailUrl\" => \"https://www.eodms-sgdot.nrcan-rncan.gc.ca/wes/getObject?FeatureID=62f0e816-8006-4768-8f32-6ef4008e6895-12953226&ObjectType=Thumbview&collectionId=RCMImageProducts&AFB=true\"…)\n",
       " Dict(\"satellite\" => \"RCM\", \"productDatum\" => \"\", \"rapiOrderUrl\" => \"https://www.eodms-sgdot.nrcan-rncan.gc.ca/wes/rapi/order/direct?collection=RCMImageProducts&recordId=12952952&destination=fill_me_in\", \"serviceUuid\" => \"62f0e816-8006-4768-8f32-6ef4008e6895\", \"openData\" => \"false\", \"sampledPixelSpacing\" => \"40\", \"subcollectionId\" => \"2\", \"providerId\" => \"1\", \"orbitDataSource\" => \"Downlinked\", \"thumbnailUrl\" => \"https://www.eodms-sgdot.nrcan-rncan.gc.ca/wes/getObject?FeatureID=62f0e816-8006-4768-8f32-6ef4008e6895-12952952&ObjectType=Thumbview&collectionId=RCMImageProducts&AFB=true\"…)\n",
       " Dict(\"satellite\" => \"RCM\", \"productDatum\" => \"\", \"rapiOrderUrl\" => \"https://www.eodms-sgdot.nrcan-rncan.gc.ca/wes/rapi/order/direct?collection=RCMImageProducts&recordId=12952626&destination=fill_me_in\", \"serviceUuid\" => \"62f0e816-8006-4768-8f32-6ef4008e6895\", \"openData\" => \"false\", \"sampledPixelSpacing\" => \"40\", \"subcollectionId\" => \"2\", \"providerId\" => \"1\", \"orbitDataSource\" => \"Downlinked\", \"thumbnailUrl\" => \"https://www.eodms-sgdot.nrcan-rncan.gc.ca/wes/getObject?FeatureID=62f0e816-8006-4768-8f32-6ef4008e6895-12952626&ObjectType=Thumbview&collectionId=RCMImageProducts&AFB=true\"…)\n",
       " ⋮\n",
       " Dict(\"satellite\" => \"RCM\", \"productDatum\" => \"\", \"rapiOrderUrl\" => \"https://www.eodms-sgdot.nrcan-rncan.gc.ca/wes/rapi/order/direct?collection=RCMImageProducts&recordId=12949241&destination=fill_me_in\", \"serviceUuid\" => \"62f0e816-8006-4768-8f32-6ef4008e6895\", \"openData\" => \"false\", \"sampledPixelSpacing\" => \"40\", \"subcollectionId\" => \"2\", \"providerId\" => \"1\", \"orbitDataSource\" => \"Downlinked\", \"thumbnailUrl\" => \"https://www.eodms-sgdot.nrcan-rncan.gc.ca/wes/getObject?FeatureID=62f0e816-8006-4768-8f32-6ef4008e6895-12949241&ObjectType=Thumbview&collectionId=RCMImageProducts&AFB=true\"…)\n",
       " Dict(\"satellite\" => \"RCM\", \"productDatum\" => \"\", \"rapiOrderUrl\" => \"https://www.eodms-sgdot.nrcan-rncan.gc.ca/wes/rapi/order/direct?collection=RCMImageProducts&recordId=12949095&destination=fill_me_in\", \"serviceUuid\" => \"62f0e816-8006-4768-8f32-6ef4008e6895\", \"openData\" => \"false\", \"sampledPixelSpacing\" => \"40\", \"subcollectionId\" => \"2\", \"providerId\" => \"1\", \"orbitDataSource\" => \"Downlinked\", \"thumbnailUrl\" => \"https://www.eodms-sgdot.nrcan-rncan.gc.ca/wes/getObject?FeatureID=62f0e816-8006-4768-8f32-6ef4008e6895-12949095&ObjectType=Thumbview&collectionId=RCMImageProducts&AFB=true\"…)\n",
       " Dict(\"satellite\" => \"RCM\", \"productDatum\" => \"\", \"rapiOrderUrl\" => \"https://www.eodms-sgdot.nrcan-rncan.gc.ca/wes/rapi/order/direct?collection=RCMImageProducts&recordId=12949242&destination=fill_me_in\", \"serviceUuid\" => \"62f0e816-8006-4768-8f32-6ef4008e6895\", \"openData\" => \"false\", \"sampledPixelSpacing\" => \"40\", \"subcollectionId\" => \"2\", \"providerId\" => \"1\", \"orbitDataSource\" => \"Downlinked\", \"thumbnailUrl\" => \"https://www.eodms-sgdot.nrcan-rncan.gc.ca/wes/getObject?FeatureID=62f0e816-8006-4768-8f32-6ef4008e6895-12949242&ObjectType=Thumbview&collectionId=RCMImageProducts&AFB=true\"…)\n",
       " Dict(\"satellite\" => \"RCM\", \"productDatum\" => \"\", \"rapiOrderUrl\" => \"https://www.eodms-sgdot.nrcan-rncan.gc.ca/wes/rapi/order/direct?collection=RCMImageProducts&recordId=12925086&destination=fill_me_in\", \"serviceUuid\" => \"62f0e816-8006-4768-8f32-6ef4008e6895\", \"openData\" => \"false\", \"sampledPixelSpacing\" => \"40\", \"subcollectionId\" => \"2\", \"providerId\" => \"1\", \"orbitDataSource\" => \"Downlinked\", \"thumbnailUrl\" => \"https://www.eodms-sgdot.nrcan-rncan.gc.ca/wes/getObject?FeatureID=62f0e816-8006-4768-8f32-6ef4008e6895-12925086&ObjectType=Thumbview&collectionId=RCMImageProducts&AFB=true\"…)\n",
       " Dict(\"satellite\" => \"RCM\", \"productDatum\" => \"\", \"rapiOrderUrl\" => \"https://www.eodms-sgdot.nrcan-rncan.gc.ca/wes/rapi/order/direct?collection=RCMImageProducts&recordId=12949096&destination=fill_me_in\", \"serviceUuid\" => \"62f0e816-8006-4768-8f32-6ef4008e6895\", \"openData\" => \"false\", \"sampledPixelSpacing\" => \"40\", \"subcollectionId\" => \"2\", \"providerId\" => \"1\", \"orbitDataSource\" => \"Downlinked\", \"thumbnailUrl\" => \"https://www.eodms-sgdot.nrcan-rncan.gc.ca/wes/getObject?FeatureID=62f0e816-8006-4768-8f32-6ef4008e6895-12949096&ObjectType=Thumbview&collectionId=RCMImageProducts&AFB=true\"…)\n",
       " Dict(\"satellite\" => \"RCM\", \"productDatum\" => \"\", \"rapiOrderUrl\" => \"https://www.eodms-sgdot.nrcan-rncan.gc.ca/wes/rapi/order/direct?collection=RCMImageProducts&recordId=12923675&destination=fill_me_in\", \"serviceUuid\" => \"62f0e816-8006-4768-8f32-6ef4008e6895\", \"openData\" => \"false\", \"sampledPixelSpacing\" => \"40\", \"subcollectionId\" => \"2\", \"providerId\" => \"1\", \"orbitDataSource\" => \"Downlinked\", \"thumbnailUrl\" => \"https://www.eodms-sgdot.nrcan-rncan.gc.ca/wes/getObject?FeatureID=62f0e816-8006-4768-8f32-6ef4008e6895-12923675&ObjectType=Thumbview&collectionId=RCMImageProducts&AFB=true\"…)\n",
       " Dict(\"satellite\" => \"RCM\", \"productDatum\" => \"\", \"rapiOrderUrl\" => \"https://www.eodms-sgdot.nrcan-rncan.gc.ca/wes/rapi/order/direct?collection=RCMImageProducts&recordId=12949267&destination=fill_me_in\", \"serviceUuid\" => \"62f0e816-8006-4768-8f32-6ef4008e6895\", \"openData\" => \"false\", \"sampledPixelSpacing\" => \"40\", \"subcollectionId\" => \"2\", \"providerId\" => \"1\", \"orbitDataSource\" => \"Downlinked\", \"thumbnailUrl\" => \"https://www.eodms-sgdot.nrcan-rncan.gc.ca/wes/getObject?FeatureID=62f0e816-8006-4768-8f32-6ef4008e6895-12949267&ObjectType=Thumbview&collectionId=RCMImageProducts&AFB=true\"…)\n",
       " Dict(\"satellite\" => \"RCM\", \"productDatum\" => \"\", \"rapiOrderUrl\" => \"https://www.eodms-sgdot.nrcan-rncan.gc.ca/wes/rapi/order/direct?collection=RCMImageProducts&recordId=12949266&destination=fill_me_in\", \"serviceUuid\" => \"62f0e816-8006-4768-8f32-6ef4008e6895\", \"openData\" => \"false\", \"sampledPixelSpacing\" => \"40\", \"subcollectionId\" => \"2\", \"providerId\" => \"1\", \"orbitDataSource\" => \"Downlinked\", \"thumbnailUrl\" => \"https://www.eodms-sgdot.nrcan-rncan.gc.ca/wes/getObject?FeatureID=62f0e816-8006-4768-8f32-6ef4008e6895-12949266&ObjectType=Thumbview&collectionId=RCMImageProducts&AFB=true\"…)\n",
       " Dict(\"satellite\" => \"RCM\", \"productDatum\" => \"\", \"rapiOrderUrl\" => \"https://www.eodms-sgdot.nrcan-rncan.gc.ca/wes/rapi/order/direct?collection=RCMImageProducts&recordId=12949037&destination=fill_me_in\", \"serviceUuid\" => \"62f0e816-8006-4768-8f32-6ef4008e6895\", \"openData\" => \"false\", \"sampledPixelSpacing\" => \"40\", \"subcollectionId\" => \"2\", \"providerId\" => \"1\", \"orbitDataSource\" => \"Downlinked\", \"thumbnailUrl\" => \"https://www.eodms-sgdot.nrcan-rncan.gc.ca/wes/getObject?FeatureID=62f0e816-8006-4768-8f32-6ef4008e6895-12949037&ObjectType=Thumbview&collectionId=RCMImageProducts&AFB=true\"…)"
      ]
     },
     "metadata": {},
     "output_type": "display_data"
    }
   ],
   "source": [
    "\n",
    "\n",
    "\n",
    "using PyCall\n",
    "\n",
    "# Import the Python module\n",
    "@pyimport pandas as pd\n",
    "@pyimport eodms_rapi\n",
    "\n",
    "# Create the EODMSRAPI object using Python code\n",
    "rapi = eodms_rapi.EODMSRAPI(\"Aalling93\", \"Security1234!\")\n",
    "# Call the search method from the Python module\n",
    "rapi.search(\"RCMImageProducts\", filters=filters, dates=dates)\n",
    "# Get the results from the search\n",
    "res = rapi.get_results(\"full\")\n",
    "\n",
    "\n",
    "# Julia code continues...\n"
   ]
  },
  {
   "cell_type": "code",
   "execution_count": 13,
   "metadata": {},
   "outputs": [],
   "source": [
    "df = Test_name.Download.Metadata.vector_of_dicts_to_dataframe(res);"
   ]
  },
  {
   "cell_type": "code",
   "execution_count": null,
   "metadata": {},
   "outputs": [],
   "source": [
    "\n",
    "# Convert the results to a DataFrame using pandas\n",
    "df = pd.json_normalize(rapi[:results], sep='_')"
   ]
  },
  {
   "cell_type": "code",
   "execution_count": 10,
   "metadata": {},
   "outputs": [
    {
     "data": {
      "text/plain": [
       "bounding_box_to_geojson"
      ]
     },
     "metadata": {},
     "output_type": "display_data"
    }
   ],
   "source": []
  },
  {
   "cell_type": "code",
   "execution_count": 16,
   "metadata": {},
   "outputs": [
    {
     "name": "stdout",
     "output_type": "stream",
     "text": [
      "20233415_120100\n"
     ]
    }
   ],
   "source": []
  },
  {
   "cell_type": "code",
   "execution_count": null,
   "metadata": {},
   "outputs": [],
   "source": []
  },
  {
   "cell_type": "code",
   "execution_count": 2,
   "metadata": {},
   "outputs": [
    {
     "ename": "PyCall.PyError",
     "evalue": "PyError (PyImport_ImportModule\n\nThe Python package eodms_rapi_script could not be imported by pyimport. Usually this means\nthat you did not install eodms_rapi_script in the Python version being used by PyCall.\n\nPyCall is currently configured to use the Julia-specific Python distribution\ninstalled by the Conda.jl package.  To install the eodms_rapi_script module, you can\nuse `pyimport_conda(\"eodms_rapi_script\", PKG)`, where PKG is the Anaconda\npackage that contains the module eodms_rapi_script, or alternatively you can use the\nConda package directly (via `using Conda` followed by `Conda.add` etcetera).\n\nAlternatively, if you want to use a different Python distribution on your\nsystem, such as a system-wide Python (as opposed to the Julia-specific Python),\nyou can re-configure PyCall with that Python.   As explained in the PyCall\ndocumentation, set ENV[\"PYTHON\"] to the path/name of the python executable\nyou want to use, run Pkg.build(\"PyCall\"), and re-launch Julia.\n\n) <class 'ModuleNotFoundError'>\nModuleNotFoundError(\"No module named 'eodms_rapi_script'\")\n",
     "output_type": "error",
     "traceback": [
      "PyError (PyImport_ImportModule\n",
      "\n",
      "The Python package eodms_rapi_script could not be imported by pyimport. Usually this means\n",
      "that you did not install eodms_rapi_script in the Python version being used by PyCall.\n",
      "\n",
      "PyCall is currently configured to use the Julia-specific Python distribution\n",
      "installed by the Conda.jl package.  To install the eodms_rapi_script module, you can\n",
      "use `pyimport_conda(\"eodms_rapi_script\", PKG)`, where PKG is the Anaconda\n",
      "package that contains the module eodms_rapi_script, or alternatively you can use the\n",
      "Conda package directly (via `using Conda` followed by `Conda.add` etcetera).\n",
      "\n",
      "Alternatively, if you want to use a different Python distribution on your\n",
      "system, such as a system-wide Python (as opposed to the Julia-specific Python),\n",
      "you can re-configure PyCall with that Python.   As explained in the PyCall\n",
      "documentation, set ENV[\"PYTHON\"] to the path/name of the python executable\n",
      "you want to use, run Pkg.build(\"PyCall\"), and re-launch Julia.\n",
      "\n",
      ") <class 'ModuleNotFoundError'>\n",
      "ModuleNotFoundError(\"No module named 'eodms_rapi_script'\")\n",
      "\n",
      "\n",
      "Stacktrace:\n",
      " [1] pyimport(name::String)\n",
      "   @ PyCall ~/.julia/packages/PyCall/KLzIO/src/PyCall.jl:558\n",
      " [2] top-level scope\n",
      "   @ ~/.julia/packages/PyCall/KLzIO/src/PyCall.jl:602"
     ]
    }
   ],
   "source": [
    "using PyCall\n",
    "using DataFrames\n",
    "using JSON\n",
    "\n",
    "# Import the Python module\n",
    "@pyimport eodms_rapi_script as eodms_script\n",
    "\n",
    "# Function to perform search and get results\n",
    "function search_eodms(user, password, filters, dates, geojson_tuple)\n",
    "    eodms_script.search_eodms(user, password, filters, dates, geojson_tuple)\n",
    "end\n",
    "\n",
    "# Example usage\n",
    "user = \"username\"\n",
    "password = \"password\"\n",
    "filters = Dict(\"Beam Mnemonic\" => ('=', [\"16M11\", \"16M13\"]),\n",
    "               \"Incidence Angle\" => ('>=', \"35\"))\n",
    "dates = [{\"start\" => \"20200513_120000\", \"end\" => \"20200613_150000\"}]\n",
    "geojson_tuple = # Your GeoJSON Tuple Here\n",
    "\n",
    "# Call the function and get the JSON string\n",
    "json_string = search_eodms(user, password, filters, dates, geojson_tuple)\n",
    "\n",
    "\n"
   ]
  },
  {
   "cell_type": "code",
   "execution_count": null,
   "metadata": {},
   "outputs": [],
   "source": [
    "# Convert JSON string to DataFrame in Julia\n",
    "df = DataFrame(JSON.parse(json_string))\n",
    "\n",
    "# Now you can work with the DataFrame `df` in Julia"
   ]
  },
  {
   "cell_type": "code",
   "execution_count": 14,
   "metadata": {},
   "outputs": [
    {
     "name": "stdout",
     "output_type": "stream",
     "text": [
      "\u001b[1m13×111 DataFrame\u001b[0m\n",
      "\u001b[1m Row \u001b[0m│\u001b[1m satellite \u001b[0m\u001b[1m productDatum \u001b[0m\u001b[1m rapiOrderUrl                      \u001b[0m\u001b[1m serviceUuid                       \u001b[0m\u001b[1m openData \u001b[0m\u001b[1m sampledPixelSpacing \u001b[0m\u001b[1m subcollectionId \u001b[0m\u001b[1m providerId \u001b[0m\u001b[1m orbitDataSource \u001b[0m\u001b[1m thumbnailUrl                      \u001b[0m\u001b[1m collectionId     \u001b[0m\u001b[1m specialHandlingInstructions       \u001b[0m\u001b[1m datasetId \u001b[0m\u001b[1m eulaFilename \u001b[0m\u001b[1m processorVersion \u001b[0m\u001b[1m polarization \u001b[0m\u001b[1m numberOfRangeLooks \u001b[0m\u001b[1m metadataFullUrl                   \u001b[0m\u001b[1m sensorId \u001b[0m\u001b[1m sensorFolder \u001b[0m\u001b[1m quicklookFullName                 \u001b[0m\u001b[1m clientOrderNumber \u001b[0m\u001b[1m acquisitionEndDate        \u001b[0m\u001b[1m metadataFullName                  \u001b[0m\u001b[1m beamModeDefinitionId \u001b[0m\u001b[1m sipSize \u001b[0m\u001b[1m geometry_crs_properties_name \u001b[0m\u001b[1m creationDate              \u001b[0m\u001b[1m spatialResolution \u001b[0m\u001b[1m downlinkSegmentId \u001b[0m\u001b[1m specialHandlingRequired \u001b[0m\u001b[1m overviewUrl                       \u001b[0m\u001b[1m sampleType         \u001b[0m\u001b[1m dataType       \u001b[0m\u001b[1m geometry_coordinates_10 \u001b[0m\u001b[1m incidenceAngle \u001b[0m\u001b[1m inter-polarizationMatricesCorrection \u001b[0m\u001b[1m supplierOrderItemNumber \u001b[0m\u001b[1m inputDatasetFacility \u001b[0m\u001b[1m geometry_coordinates_4 \u001b[0m\u001b[1m lutApplied     \u001b[0m\u001b[1m dopplerAnomalyGrid \u001b[0m\u001b[1m lookOrientation \u001b[0m\u001b[1m archiveVisibilityStartDate \u001b[0m\u001b[1m thisRecordUrl                     \u001b[0m\u001b[1m productMapZone \u001b[0m\u001b[1m beamMnemonic \u001b[0m\u001b[1m relativeOrbit \u001b[0m\u001b[1m beamModeVersion \u001b[0m\u001b[1m securityClassification       \u001b[0m\u001b[1m collectionTitle    \u001b[0m\u001b[1m processingFacility \u001b[0m\u001b[1m isGeorectified \u001b[0m\u001b[1m calibrationIssues \u001b[0m\u001b[1m geometry_coordinates_7 \u001b[0m\u001b[1m geometry_type \u001b[0m\u001b[1m metadata    \u001b[0m\u001b[1m buyerId \u001b[0m\u001b[1m polarizationInProduct \u001b[0m\u001b[1m acquisitionStartDate      \u001b[0m\u001b[1m notifiedClientEmailList \u001b[0m\u001b[1m absoluteOrbit \u001b[0m\u001b[1m recordId \u001b[0m\u001b[1m geometry_coordinates_1 \u001b[0m\u001b[1m productFormat \u001b[0m\u001b[1m geometry_coordinates_2 \u001b[0m\u001b[1m orderExecuteUrl                   \u001b[0m\u001b[1m geometry_coordinates_9 \u001b[0m\u001b[1m productMapProjection \u001b[0m\u001b[1m beamModeDescription               \u001b[0m\u001b[1m geographicalArea \u001b[0m\u001b[1m vapEnabled \u001b[0m\u001b[1m processingPriority \u001b[0m\u001b[1m featureId                         \u001b[0m\u001b[1m relatedProducts \u001b[0m\u001b[1m geometry_coordinates_5 \u001b[0m\u001b[1m productOrientation \u001b[0m\u001b[1m geometry_coordinates_8 \u001b[0m\u001b[1m orbitDataFilename                 \u001b[0m\u001b[1m isOrderable \u001b[0m\u001b[1m processingLevel \u001b[0m\u001b[1m supplierOrderNumber               \u001b[0m\u001b[1m satelliteId \u001b[0m\u001b[1m options \u001b[0m\u001b[1m geometry_crs_type \u001b[0m\u001b[1m publicGood \u001b[0m\u001b[1m numberOfAzimuthLooks \u001b[0m\u001b[1m productEllipsoid \u001b[0m\u001b[1m sequenceId \u001b[0m\u001b[1m geometry_coordinates_3 \u001b[0m\u001b[1m title                             \u001b[0m\u001b[1m geodeticTerrainHeight \u001b[0m\u001b[1m productId \u001b[0m\u001b[1m geometry_coordinates_6 \u001b[0m\u001b[1m ownerId \u001b[0m\u001b[1m declassificationDate      \u001b[0m\u001b[1m processingMode \u001b[0m\u001b[1m processingDate            \u001b[0m\u001b[1m wktGeometry                       \u001b[0m\u001b[1m withinOrbitTube \u001b[0m\u001b[1m clientProjectName                 \u001b[0m\u001b[1m reason \u001b[0m\u001b[1m productApplication \u001b[0m\u001b[1m orbitDirection \u001b[0m\u001b[1m metadataUrl                       \u001b[0m\u001b[1m productType \u001b[0m\u001b[1m polarizationDataMode \u001b[0m\u001b[1m visibilityRestrictionExpiryDate \u001b[0m\u001b[1m beamModeType          \u001b[0m\u001b[1m processorName \u001b[0m\u001b[1m clientOrderItemNumber \u001b[0m\n",
      "     │\u001b[90m String    \u001b[0m\u001b[90m String       \u001b[0m\u001b[90m String                            \u001b[0m\u001b[90m String                            \u001b[0m\u001b[90m String   \u001b[0m\u001b[90m String              \u001b[0m\u001b[90m String          \u001b[0m\u001b[90m String     \u001b[0m\u001b[90m String          \u001b[0m\u001b[90m String                            \u001b[0m\u001b[90m String           \u001b[0m\u001b[90m String                            \u001b[0m\u001b[90m String    \u001b[0m\u001b[90m String       \u001b[0m\u001b[90m String           \u001b[0m\u001b[90m String       \u001b[0m\u001b[90m String             \u001b[0m\u001b[90m String                            \u001b[0m\u001b[90m String   \u001b[0m\u001b[90m String       \u001b[0m\u001b[90m String                            \u001b[0m\u001b[90m String            \u001b[0m\u001b[90m String                    \u001b[0m\u001b[90m String                            \u001b[0m\u001b[90m String               \u001b[0m\u001b[90m String  \u001b[0m\u001b[90m String                       \u001b[0m\u001b[90m String                    \u001b[0m\u001b[90m String            \u001b[0m\u001b[90m String            \u001b[0m\u001b[90m String                  \u001b[0m\u001b[90m String                            \u001b[0m\u001b[90m String             \u001b[0m\u001b[90m String         \u001b[0m\u001b[90m Float64                 \u001b[0m\u001b[90m String         \u001b[0m\u001b[90m String                               \u001b[0m\u001b[90m String                  \u001b[0m\u001b[90m String               \u001b[0m\u001b[90m Float64                \u001b[0m\u001b[90m String         \u001b[0m\u001b[90m String             \u001b[0m\u001b[90m String          \u001b[0m\u001b[90m String                     \u001b[0m\u001b[90m String                            \u001b[0m\u001b[90m String         \u001b[0m\u001b[90m String       \u001b[0m\u001b[90m String        \u001b[0m\u001b[90m String          \u001b[0m\u001b[90m String                       \u001b[0m\u001b[90m String             \u001b[0m\u001b[90m String             \u001b[0m\u001b[90m Bool           \u001b[0m\u001b[90m String            \u001b[0m\u001b[90m Float64                \u001b[0m\u001b[90m String        \u001b[0m\u001b[90m String      \u001b[0m\u001b[90m String  \u001b[0m\u001b[90m String                \u001b[0m\u001b[90m String                    \u001b[0m\u001b[90m String                  \u001b[0m\u001b[90m String        \u001b[0m\u001b[90m String   \u001b[0m\u001b[90m Float64                \u001b[0m\u001b[90m String        \u001b[0m\u001b[90m Float64                \u001b[0m\u001b[90m String                            \u001b[0m\u001b[90m Float64                \u001b[0m\u001b[90m String               \u001b[0m\u001b[90m String                            \u001b[0m\u001b[90m String           \u001b[0m\u001b[90m String     \u001b[0m\u001b[90m String             \u001b[0m\u001b[90m String                            \u001b[0m\u001b[90m String          \u001b[0m\u001b[90m Float64                \u001b[0m\u001b[90m String             \u001b[0m\u001b[90m Float64                \u001b[0m\u001b[90m String                            \u001b[0m\u001b[90m Bool        \u001b[0m\u001b[90m String          \u001b[0m\u001b[90m String                            \u001b[0m\u001b[90m String      \u001b[0m\u001b[90m String  \u001b[0m\u001b[90m String            \u001b[0m\u001b[90m String     \u001b[0m\u001b[90m String               \u001b[0m\u001b[90m String           \u001b[0m\u001b[90m String     \u001b[0m\u001b[90m Float64                \u001b[0m\u001b[90m String                            \u001b[0m\u001b[90m String                \u001b[0m\u001b[90m String    \u001b[0m\u001b[90m Float64                \u001b[0m\u001b[90m String  \u001b[0m\u001b[90m String                    \u001b[0m\u001b[90m String         \u001b[0m\u001b[90m String                    \u001b[0m\u001b[90m String                            \u001b[0m\u001b[90m String          \u001b[0m\u001b[90m String                            \u001b[0m\u001b[90m String \u001b[0m\u001b[90m String             \u001b[0m\u001b[90m String         \u001b[0m\u001b[90m String                            \u001b[0m\u001b[90m String      \u001b[0m\u001b[90m String               \u001b[0m\u001b[90m String                          \u001b[0m\u001b[90m String                \u001b[0m\u001b[90m String        \u001b[0m\u001b[90m String                \u001b[0m\n",
      "─────┼─────────────────────────────────────────────────────────────────────────────────────────────────────────────────────────────────────────────────────────────────────────────────────────────────────────────────────────────────────────────────────────────────────────────────────────────────────────────────────────────────────────────────────────────────────────────────────────────────────────────────────────────────────────────────────────────────────────────────────────────────────────────────────────────────────────────────────────────────────────────────────────────────────────────────────────────────────────────────────────────────────────────────────────────────────────────────────────────────────────────────────────────────────────────────────────────────────────────────────────────────────────────────────────────────────────────────────────────────────────────────────────────────────────────────────────────────────────────────────────────────────────────────────────────────────────────────────────────────────────────────────────────────────────────────────────────────────────────────────────────────────────────────────────────────────────────────────────────────────────────────────────────────────────────────────────────────────────────────────────────────────────────────────────────────────────────────────────────────────────────────────────────────────────────────────────────────────────────────────────────────────────────────────────────────────────────────────────────────────────────────────────────────────────────────────────────────────────────────────────────────────────────────────────────────────────────────────────────────────────────────────────────────────────────────────────────────────────────────────────────────────────────────────────────────────────────────────────────────────────────────────────────────────────────────────────────────────────────────────────────────────────────────────────────────────────────────────────────────────────────────────────────────────────────────────────────────────────────────────────────────────────────────────────────────────────────────────────────────────────────────────────────────────────────────────────────────────────────────────────────────────────────────────────────────────────────────────────────────────────────────────────────────────────────────────────────────────\n",
      "   1 │ RCM                      https://www.eodms-sgdot.nrcan-rn…  62f0e816-8006-4768-8f32-6ef4008e…  false     6.25                 2                1           Downlinked       https://www.eodms-sgdot.nrcan-rn…  RCMImageProducts  No special handling required, us…  1134790_1  license.pdf   RCM PGS 6.26      HH HV         1                   https://www.eodms-sgdot.nrcan-rn…  88        med16         /rcm/sar/l1/2020/noamer/med16/rc…                     2020-06-08T21:42:42 +0000  /rcm/sar/l1/2020/noamer/med16/rc…  111                   69       EPSG:4326                     2020-06-08T21:56:21 +0000  16                 547417_628731      false                    http://was-eodms.compusult.net/w…  Magnitude Detected  Integer                         56.938   43                                                                             GATN                                -60.3767  Ice             false               Right            2020-06-08T21:42:39 +0000   https://www.eodms-sgdot.nrcan-rn…                  16M11         74             0                Non classifié / Unclassified  RCM Image Products  SHUB                         false  Calibrated                        56.7443  Polygon        dummy value  5        HH HV                  2020-06-08T21:42:39 +0000                           5404.0         7219640                 -60.8701  GeoTIFF                      -60.8023  https://www.eodms-sgdot.nrcan-rn…                 56.9881                        Stripmap 16m Resolution 30km Swa…                    true                            62f0e816-8006-4768-8f32-6ef4008e…                                 -60.8701                                     56.7942  RCM-2_2020-06-08T11-08-50_005404…         true  l1               RCM2_OK1086001_PK1134790_1_16M11…  RCM-2                 name               true        4                     WGS 1984          7219640                   -60.3115  RCM2_OK1086001_PK1134790_1_16M11…  0                      1134790_1                 56.938   2        1900-01-01T00:00:00 +0000  Expedited       2020-06-08T21:46:01 +0000  POLYGON ((-60.8700635447083 56.9…  true             Communities                                Ice                 Ascending       https://www.eodms-sgdot.nrcan-rn…  GRD          Dual Co/Cross         2020-06-13T21:51:02 +0000        Medium Resolution 16m\n",
      "   2 │ RCM                      https://www.eodms-sgdot.nrcan-rn…  62f0e816-8006-4768-8f32-6ef4008e…  false     6.25                 2                1           Downlinked       https://www.eodms-sgdot.nrcan-rn…  RCMImageProducts  No special handling required, us…  1132034_1  license.pdf   RCM PGS 6.26      HH HV         1                   https://www.eodms-sgdot.nrcan-rn…  88        med16         /rcm/sar/l1/2020/noamer/med16/rc…                     2020-06-04T21:42:30 +0000  /rcm/sar/l1/2020/noamer/med16/rc…  111                   71       EPSG:4326                     2020-06-04T21:50:13 +0000  16                 557016_615760      false                    http://was-eodms.compusult.net/w…  Magnitude Detected  Integer                         56.9409  43                                                                             GATN                                -60.3771  Ice             false               Right            2020-06-04T21:42:27 +0000   https://www.eodms-sgdot.nrcan-rn…                  16M11         74             0                Non classifié / Unclassified  RCM Image Products  SHUB                         false  Calibrated                        56.7439  Polygon        dummy value  5        HH HV                  2020-06-04T21:42:27 +0000                           5344.0         7203487                 -60.8705  GeoTIFF                      -60.8016  https://www.eodms-sgdot.nrcan-rn…                 56.9909                        Stripmap 16m Resolution 30km Swa…                    true                            62f0e816-8006-4768-8f32-6ef4008e…                                 -60.8705                                     56.7939  RCM-1_2020-06-04T13-58-01_005344…         true  l1               RCM1_OK1086001_PK1132034_1_16M11…  RCM-1                 name               true        4                     WGS 1984          7203487                   -60.3108  RCM1_OK1086001_PK1132034_1_16M11…  0                      1132034_1                 56.9409  2        1900-01-01T00:00:00 +0000  Expedited       2020-06-04T21:43:25 +0000  POLYGON ((-60.8705458570338 56.9…  true             Communities                                Ice                 Ascending       https://www.eodms-sgdot.nrcan-rn…  GRD          Dual Co/Cross         2020-06-12T23:52:57 +0000        Medium Resolution 16m\n",
      "   3 │ RCM                      https://www.eodms-sgdot.nrcan-rn…  62f0e816-8006-4768-8f32-6ef4008e…  false     6.25                 2                1           Downlinked       https://www.eodms-sgdot.nrcan-rn…  RCMImageProducts  No special handling required, us…  1130167_1  license.pdf   RCM PGS 6.26      VH VV         1                   https://www.eodms-sgdot.nrcan-rn…  88        med16         /rcm/sar/l1/2020/noamer/med16/rc…                     2020-06-03T10:38:28 +0000  /rcm/sar/l1/2020/noamer/med16/rc…  113                   93       EPSG:4326                     2020-06-03T10:40:58 +0000  16                 549688_608339      false                    http://was-eodms.compusult.net/w…  Magnitude Detected  Integer                         50.1168  43                                                                             GATN                                -66.5595  Mixed           false               Right            2020-06-03T10:38:24 +0000   https://www.eodms-sgdot.nrcan-rn…                  16M13         52             0                Non classifié / Unclassified  RCM Image Products  SHUB                         false  Calibrated                        49.8521  Polygon        dummy value  5        VV VH                  2020-06-03T10:38:24 +0000                           5322.0         7198920                 -66.9783  GeoTIFF                      -67.0473  https://www.eodms-sgdot.nrcan-rn…                 50.0714                        Stripmap 16m Resolution 30km Swa…                    true                            62f0e816-8006-4768-8f32-6ef4008e…                                 -66.9783                                     49.8067  RCM-1_2020-06-02T12-29-18_005322…         true  l1               RCM1_OK1089217_PK1130167_1_16M13…  RCM-1                 name               true        4                     WGS 1984          7198920                   -66.6308  RCM1_OK1089217_PK1130167_1_16M13…  0                      1130167_1                 50.1168  2        1900-01-01T00:00:00 +0000  Expedited       2020-06-03T10:39:27 +0000  POLYGON ((-66.9783256890361 50.1…  true             Integrated Satellite Tracking of…          OilPollutn          Descending      https://www.eodms-sgdot.nrcan-rn…  GRD          Dual Co/Cross         2020-06-19T02:15:50 +0000        Medium Resolution 16m\n",
      "   4 │ RCM                      https://www.eodms-sgdot.nrcan-rn…  62f0e816-8006-4768-8f32-6ef4008e…  false     6.25                 2                1           Downlinked       https://www.eodms-sgdot.nrcan-rn…  RCMImageProducts  No special handling required, us…  1128017_1  license.pdf   RCM PGS 6.26      HH HV         1                   https://www.eodms-sgdot.nrcan-rn…  88        med16         /rcm/sar/l1/2020/noamer/med16/rc…                     2020-06-02T11:30:51 +0000  /rcm/sar/l1/2020/noamer/med16/rc…  111                   83       EPSG:4326                     2020-06-02T12:01:44 +0000  16                 548176_606869      false                    http://was-eodms.compusult.net/w…  Magnitude Detected  Integer                         65.1052  43                                                                             GATN                                -74.5293  Ice             false               Right            2020-06-02T11:30:47 +0000   https://www.eodms-sgdot.nrcan-rn…                  16M11         157            0                Non classifié / Unclassified  RCM Image Products  SHUB                         false  Calibrated                        64.8781  Polygon        dummy value  5        HH HV                  2020-06-02T11:30:47 +0000                           5308.0         7196185                 -75.1664  GeoTIFF                      -75.2774  https://www.eodms-sgdot.nrcan-rn…                 65.0486                        Stripmap 16m Resolution 30km Swa…                    true                            62f0e816-8006-4768-8f32-6ef4008e…                                 -75.1664                                     64.8218  RCM-2_2020-06-01T11-49-16_005308…         true  l1               RCM2_OK1086001_PK1128017_1_16M11…  RCM-2                 name               true        4                     WGS 1984          7196185                   -74.6457  RCM2_OK1086001_PK1128017_1_16M11…  0                      1128017_1                 65.1052  2        1900-01-01T00:00:00 +0000  Expedited       2020-06-02T11:40:25 +0000  POLYGON ((-75.1664474342934 65.1…  true             Communities                                Ice                 Descending      https://www.eodms-sgdot.nrcan-rn…  GRD          Dual Co/Cross         2020-06-13T23:59:58 +0000        Medium Resolution 16m\n",
      "   5 │ RCM                      https://www.eodms-sgdot.nrcan-rn…  62f0e816-8006-4768-8f32-6ef4008e…  false     6.25                 2                1           Downlinked       https://www.eodms-sgdot.nrcan-rn…  RCMImageProducts  No special handling required, us…  1125497_1  license.pdf   RCM PGS 6.26      HH HV         1                   https://www.eodms-sgdot.nrcan-rn…  88        med16         /rcm/sar/l1/2020/noamer/med16/rc…                     2020-05-29T12:36:00 +0000  /rcm/sar/l1/2020/noamer/med16/rc…  111                   83       EPSG:4326                     2020-05-29T12:39:28 +0000  16                 525146_595624      false                    http://was-eodms.compusult.net/w…  Magnitude Detected  Integer                         62.2521  43                                                                             PASS                                -91.9561  Ice             false               Right            2020-05-29T12:35:56 +0000   https://www.eodms-sgdot.nrcan-rn…                  16M11         98             0                Non classifié / Unclassified  RCM Image Products  SHUB                         false  Calibrated                        62.022   Polygon        dummy value  5        HH HV                  2020-05-29T12:35:56 +0000                           5249.0         7187001                 -92.5336  GeoTIFF                      -92.6301  https://www.eodms-sgdot.nrcan-rn…                 62.1984                        Stripmap 16m Resolution 30km Swa…                    true                            62f0e816-8006-4768-8f32-6ef4008e…                                 -92.5336                                     61.9685  RCM-2_2020-05-28T11-16-34_005249…         true  l1               RCM2_OK1069410_PK1125497_1_16M11…  RCM-2                 name               true        4                     WGS 1984          7187001                   -92.057   RCM2_OK1069410_PK1125497_1_16M11…  0                      1125497_1                 62.2521  2        1900-01-01T00:00:00 +0000  Expedited       2020-05-29T12:37:05 +0000  POLYGON ((-92.5336444626304 62.2…  true             Communities                                Ice                 Descending      https://www.eodms-sgdot.nrcan-rn…  GRD          Dual Co/Cross         2020-05-07T22:49:00 +0000        Medium Resolution 16m\n",
      "   6 │ RCM                      https://www.eodms-sgdot.nrcan-rn…  62f0e816-8006-4768-8f32-6ef4008e…  false     6.25                 2                1           Downlinked       https://www.eodms-sgdot.nrcan-rn…  RCMImageProducts  No special handling required, us…  1124234_1  license.pdf   RCM PGS 6.26      HH HV         1                   https://www.eodms-sgdot.nrcan-rn…  88        med16         /rcm/sar/l1/2020/noamer/med16/rc…                     2020-05-27T21:42:41 +0000  /rcm/sar/l1/2020/noamer/med16/rc…  111                   71       EPSG:4326                     2020-05-28T02:37:24 +0000  16                 509701_594003      false                    http://was-eodms.compusult.net/w…  Magnitude Detected  Integer                         56.9394  43                                                                             ICAN                                -60.3781  Ice             false               Right            2020-05-27T21:42:38 +0000   https://www.eodms-sgdot.nrcan-rn…                  16M11         74             0                Non classifié / Unclassified  RCM Image Products  SHUB                         false  Calibrated                        56.7423  Polygon        dummy value  5        HH HV                  2020-05-27T21:42:38 +0000                           5225.0         7183193                 -60.8715  GeoTIFF                      -60.8026  https://www.eodms-sgdot.nrcan-rn…                 56.9894                        Stripmap 16m Resolution 30km Swa…                    true                            62f0e816-8006-4768-8f32-6ef4008e…                                 -60.8715                                     56.7922  RCM-2_2020-05-27T11-08-39_005225…         true  l1               RCM2_OK1069410_PK1124234_1_16M11…  RCM-2                 name               true        4                     WGS 1984          7183193                   -60.3118  RCM2_OK1069410_PK1124234_1_16M11…  0                      1124234_1                 56.9394  2        1900-01-01T00:00:00 +0000  Expedited       2020-05-28T02:35:55 +0000  POLYGON ((-60.8715292128306 56.9…  true             Communities                                Ice                 Ascending       https://www.eodms-sgdot.nrcan-rn…  GRD          Dual Co/Cross         2020-05-07T22:49:00 +0000        Medium Resolution 16m\n",
      "   7 │ RCM                      https://www.eodms-sgdot.nrcan-rn…  62f0e816-8006-4768-8f32-6ef4008e…  false     6.25                 2                1           Downlinked       https://www.eodms-sgdot.nrcan-rn…  RCMImageProducts  No special handling required, us…  1123096_1  license.pdf   RCM PGS 6.26      HH HV         1                   https://www.eodms-sgdot.nrcan-rn…  88        med16         /rcm/sar/l1/2020/noamer/med16/rc…                     2020-05-27T15:31:23 +0000  /rcm/sar/l1/2020/noamer/med16/rc…  113                   134      EPSG:4326                     2020-05-27T15:34:49 +0000  16                 535869_594049      false                    http://was-eodms.compusult.net/w…  Magnitude Detected  Integer                         68.2814  43                                                                             ICAN                               -134.182   Constant-gamma  false               Right            2020-05-27T15:31:17 +0000   https://www.eodms-sgdot.nrcan-rn…                  16M13         70             0                Non classifié / Unclassified  RCM Image Products  SHUB                         false  Calibrated                        67.9053  Polygon        dummy value  5        HH HV                  2020-05-27T15:31:17 +0000                           5221.0         7182000                -134.908   GeoTIFF                     -135.115   https://www.eodms-sgdot.nrcan-rn…                 68.2248                        Stripmap 16m Resolution 30km Swa…                    true        Medium              62f0e816-8006-4768-8f32-6ef4008e…                                -134.908                                      67.8492  RCM-2_2020-05-27T11-08-38_005221…         true  l1               RCM2_OK1085195_PK1123096_1_16M13…  RCM-2                 name               true        4                     WGS 1984          7182000                  -134.4     RCM2_OK1085195_PK1123096_1_16M13…  0                      1123096_1                 68.2814  2        1900-01-01T00:00:00 +0000  Standard        2020-05-27T15:33:42 +0000  POLYGON ((-134.9083154122 68.281…  true             NWT river ice monitoring                   Ice                 Descending      https://www.eodms-sgdot.nrcan-rn…  GRD          Dual Co/Cross         2020-06-11T02:19:32 +0000        Medium Resolution 16m\n",
      "   8 │ RCM                      https://www.eodms-sgdot.nrcan-rn…  62f0e816-8006-4768-8f32-6ef4008e…  false     7.66911              2                1           Downlinked       https://www.eodms-sgdot.nrcan-rn…  RCMImageProducts  No special handling required, us…  1123095_1  license.pdf   RCM PGS 6.26      HH HV         1                   https://www.eodms-sgdot.nrcan-rn…  88        med16         /rcm/sar/l1/2020/noamer/med16/rc…                     2020-05-27T15:31:23 +0000  /rcm/sar/l1/2020/noamer/med16/rc…  113                   767      EPSG:4326                     2020-05-27T15:35:13 +0000  16                 535869_594049      false                    http://was-eodms.compusult.net/w…  Complex             Floating-Point                  68.2819  43                                                                             ICAN                               -134.182   Unity-gamma     false               Right            2020-05-27T15:31:17 +0000   https://www.eodms-sgdot.nrcan-rn…                  16M13         70             0                Non classifié / Unclassified  RCM Image Products  SHUB                         false  Calibrated                        67.9047  Polygon        dummy value  5        HH HV                  2020-05-27T15:31:17 +0000                           5221.0         7181427                -134.908   GeoTIFF                     -135.115   https://www.eodms-sgdot.nrcan-rn…                 68.2252                        Stripmap 16m Resolution 30km Swa…                    true        Medium              62f0e816-8006-4768-8f32-6ef4008e…                                -134.908                                      67.8486  RCM-2_2020-05-27T11-08-38_005221…         true  l1               RCM2_OK1085195_PK1123095_1_16M13…  RCM-2                 name               true        1                     WGS 1984          7181427                  -134.4     RCM2_OK1085195_PK1123095_1_16M13…  0                      1123095_1                 68.2819  2        1900-01-01T00:00:00 +0000  Standard        2020-05-27T15:33:41 +0000  POLYGON ((-134.908105655609 68.2…  true             NWT river ice monitoring                   Ice                 Descending      https://www.eodms-sgdot.nrcan-rn…  SLC          Dual Co/Cross         2020-06-11T02:19:32 +0000        Medium Resolution 16m\n",
      "   9 │ RCM                      https://www.eodms-sgdot.nrcan-rn…  62f0e816-8006-4768-8f32-6ef4008e…  false     6.25                 2                1           Downlinked       https://www.eodms-sgdot.nrcan-rn…  RCMImageProducts  No special handling required, us…  1122910_1  license.pdf   RCM PGS 6.26      VH VV         1                   https://www.eodms-sgdot.nrcan-rn…  88        med16         /rcm/sar/l1/2020/noamer/med16/rc…                     2020-05-27T15:02:50 +0000  /rcm/sar/l1/2020/noamer/med16/rc…  113                   69       EPSG:4326                     2020-05-27T15:04:58 +0000  16                 535774_593861      false                    http://was-eodms.compusult.net/w…  Magnitude Detected  Integer                         55.4978  43                                                                             PASS                               -131.392   Mixed           false               Right            2020-05-27T15:02:47 +0000   https://www.eodms-sgdot.nrcan-rn…                  16M13         10             0                Non classifié / Unclassified  RCM Image Products  SHUB                         false  Calibrated                        55.3041  Polygon        dummy value  5        VV VH                  2020-05-27T15:02:47 +0000                           5221.0         7181970                -131.868   GeoTIFF                     -131.927   https://www.eodms-sgdot.nrcan-rn…                 55.451                         Stripmap 16m Resolution 30km Swa…                    true                            62f0e816-8006-4768-8f32-6ef4008e…                                -131.868                                      55.2573  RCM-3_2020-05-27T10-35-46_005221…         true  l1               RCM3_OK1069471_PK1122910_1_16M13…  RCM-3                 name               false       4                     WGS 1984          7181970                  -131.452   RCM3_OK1069471_PK1122910_1_16M13…  0                      1122910_1                 55.4978  2        1900-01-01T00:00:00 +0000  Expedited       2020-05-27T15:03:51 +0000  POLYGON ((-131.868441046708 55.4…  true             Integrated Satellite Tracking of…          OilPollutn          Descending      https://www.eodms-sgdot.nrcan-rn…  GRD          Dual Co/Cross         2020-05-27T10:46:42 +0000        Medium Resolution 16m\n",
      "  10 │ RCM                      https://www.eodms-sgdot.nrcan-rn…  62f0e816-8006-4768-8f32-6ef4008e…  false     6.25                 2                1           Downlinked       https://www.eodms-sgdot.nrcan-rn…  RCMImageProducts  No special handling required, us…  1108504_1  license.pdf   RCM PGS 6.26      HH HV         1                   https://www.eodms-sgdot.nrcan-rn…  88        med16         /rcm/sar/l1/2020/noamer/med16/rc…                     2020-05-19T21:42:52 +0000  /rcm/sar/l1/2020/noamer/med16/rc…  111                   71       EPSG:4326                     2020-05-19T21:47:22 +0000  16                 475684_556703      false                    http://was-eodms.compusult.net/w…  Magnitude Detected  Integer                         56.9383  43                                                                             GATN                                -60.3759  Ice             false               Right            2020-05-19T21:42:49 +0000   https://www.eodms-sgdot.nrcan-rn…                  16M11         74             0                Non classifié / Unclassified  RCM Image Products  SHUB                         false  Calibrated                        56.7428  Polygon        dummy value  5        HH HV                  2020-05-19T21:42:49 +0000                           5106.0         7154884                 -60.8693  GeoTIFF                      -60.8009  https://www.eodms-sgdot.nrcan-rn…                 56.9884                        Stripmap 16m Resolution 30km Swa…                    true                            62f0e816-8006-4768-8f32-6ef4008e…                                 -60.8693                                     56.7928  RCM-3_2020-05-19T11-20-15_005106…         true  l1               RCM3_OK1069410_PK1108504_1_16M11…  RCM-3                 name               true        4                     WGS 1984          7154884                   -60.3101  RCM3_OK1069410_PK1108504_1_16M11…  0                      1108504_1                 56.9383  2        1900-01-01T00:00:00 +0000  Expedited       2020-05-19T21:44:49 +0000  POLYGON ((-60.8693183086243 56.9…  true             Communities                                Ice                 Ascending       https://www.eodms-sgdot.nrcan-rn…  GRD          Dual Co/Cross         2020-05-07T22:49:00 +0000        Medium Resolution 16m\n",
      "  11 │ RCM                      https://www.eodms-sgdot.nrcan-rn…  62f0e816-8006-4768-8f32-6ef4008e…  false     7.66911              2                1           Downlinked       https://www.eodms-sgdot.nrcan-rn…  RCMImageProducts  No special handling required, us…  1107211_1  license.pdf   RCM PGS 6.26      HH HV         1                   https://www.eodms-sgdot.nrcan-rn…  88        med16         /rcm/sar/l1/2020/noamer/med16/rc…                     2020-05-19T01:20:59 +0000  /rcm/sar/l1/2020/noamer/med16/rc…  113                   355      EPSG:4326                     2020-05-19T04:43:34 +0000  16                 466611_543704      false                    http://was-eodms.compusult.net/w…  Complex             Floating-Point                  61.0043  43                                                                             ICAN                               -115.291   Unity-gamma     false               Right            2020-05-19T01:20:56 +0000   https://www.eodms-sgdot.nrcan-rn…                  16M13         121            0                Non classifié / Unclassified  RCM Image Products  SHUB                         false  Calibrated                        60.8297  Polygon        dummy value  5        HH HV                  2020-05-19T01:20:56 +0000                           5093.0         7150713                -115.849   GeoTIFF                     -115.781   https://www.eodms-sgdot.nrcan-rn…                 61.0536                        Stripmap 16m Resolution 30km Swa…                    true        Medium              62f0e816-8006-4768-8f32-6ef4008e…                                -115.849                                      60.8789  RCM-2_2020-05-18T11-32-13_005093…         true  l1               RCM2_OK1084929_PK1107211_1_16M13…  RCM-2                 name               true        1                     WGS 1984          7150713                  -115.227   RCM2_OK1084929_PK1107211_1_16M13…  0                      1107211_1                 61.0043  2        1900-01-01T00:00:00 +0000  Standard        2020-05-19T04:40:43 +0000  POLYGON ((-115.84882657515 61.00…  true             NWT River Ice Monitoring                   Ice                 Ascending       https://www.eodms-sgdot.nrcan-rn…  SLC          Dual Co/Cross         2020-05-15T01:20:45 +0000        Medium Resolution 16m\n",
      "  12 │ RCM                      https://www.eodms-sgdot.nrcan-rn…  62f0e816-8006-4768-8f32-6ef4008e…  false     6.25                 2                1           Downlinked       https://www.eodms-sgdot.nrcan-rn…  RCMImageProducts  No special handling required, us…  1107010_1  license.pdf   RCM PGS 6.26      HH HV         1                   https://www.eodms-sgdot.nrcan-rn…  88        med16         /rcm/sar/l1/2020/noamer/med16/rc…                     2020-05-18T23:09:52 +0000  /rcm/sar/l1/2020/noamer/med16/rc…  113                   71       EPSG:4326                     2020-05-18T23:14:34 +0000  16                 466478_548203      false                    http://was-eodms.compusult.net/w…  Magnitude Detected  Integer                         51.5431  43                                                                             GATN                                -80.2033  Ice             false               Right            2020-05-18T23:09:49 +0000   https://www.eodms-sgdot.nrcan-rn…                  16M13         60             0                Non classifié / Unclassified  RCM Image Products  SHUB                         false  Calibrated                        51.3449  Polygon        dummy value  5        HH HV                  2020-05-18T23:09:49 +0000                           5092.0         7150426                 -80.6374  GeoTIFF                      -80.582   https://www.eodms-sgdot.nrcan-rn…                 51.5889                        Stripmap 16m Resolution 30km Swa…                    true                            62f0e816-8006-4768-8f32-6ef4008e…                                 -80.6374                                     51.3907  RCM-3_2020-05-18T11-00-29_005092…         true  l1               RCM3_OK1069410_PK1107010_1_16M13…  RCM-3                 name               true        4                     WGS 1984          7150426                   -80.1498  RCM3_OK1069410_PK1107010_1_16M13…  0                      1107010_1                 51.5431  2        1900-01-01T00:00:00 +0000  Expedited       2020-05-18T23:11:24 +0000  POLYGON ((-80.6374314530029 51.5…  true             Communities                                Ice                 Ascending       https://www.eodms-sgdot.nrcan-rn…  GRD          Dual Co/Cross         2020-05-07T22:49:00 +0000        Medium Resolution 16m\n",
      "  13 │ RCM                      https://www.eodms-sgdot.nrcan-rn…  62f0e816-8006-4768-8f32-6ef4008e…  false     6.25                 2                1           Downlinked       https://www.eodms-sgdot.nrcan-rn…  RCMImageProducts  No special handling required, us…  1102776_1  license.pdf   RCM PGS 6.26      HH HV         1                   https://www.eodms-sgdot.nrcan-rn…  88        med16         /rcm/sar/l1/2020/noamer/med16/rc…                     2020-05-15T21:42:41 +0000  /rcm/sar/l1/2020/noamer/med16/rc…  111                   71       EPSG:4326                     2020-05-15T21:46:11 +0000  16                 457961_531192      false                    http://was-eodms.compusult.net/w…  Magnitude Detected  Integer                         56.9393  43                                                                             GATN                                -60.3782  Ice             false               Right            2020-05-15T21:42:38 +0000   https://www.eodms-sgdot.nrcan-rn…                  16M11         74             0                Non classifié / Unclassified  RCM Image Products  SHUB                         false  Calibrated                        56.7422  Polygon        dummy value  5        HH HV                  2020-05-15T21:42:38 +0000                           5046.0         7143922                 -60.8716  GeoTIFF                      -60.8026  https://www.eodms-sgdot.nrcan-rn…                 56.9894                        Stripmap 16m Resolution 30km Swa…                    true                            62f0e816-8006-4768-8f32-6ef4008e…                                 -60.8716                                     56.7922  RCM-2_2020-05-15T11-08-38_005046…         true  l1               RCM2_OK1069410_PK1102776_1_16M11…  RCM-2                 name               true        4                     WGS 1984          7143922                   -60.3119  RCM2_OK1069410_PK1102776_1_16M11…  0                      1102776_1                 56.9393  2        1900-01-01T00:00:00 +0000  Expedited       2020-05-15T21:44:46 +0000  POLYGON ((-60.8716185844531 56.9…  true             Communities                                Ice                 Ascending       https://www.eodms-sgdot.nrcan-rn…  GRD          Dual Co/Cross         2020-05-07T22:49:00 +0000        Medium Resolution 16m\n"
     ]
    }
   ],
   "source": [
    "println(df)"
   ]
  },
  {
   "cell_type": "code",
   "execution_count": 1,
   "metadata": {},
   "outputs": [],
   "source": [
    "using HTTP\n",
    "using JSON"
   ]
  },
  {
   "cell_type": "markdown",
   "metadata": {},
   "source": [
    "In Julia, using the HTTP.jl library, you typically don't maintain a persistent session like in Python's requests library. Instead, you handle each request independently. Here are the key points to consider:\n",
    "\n",
    "No Persistent Session: Unlike Python's requests, Julia's HTTP.jl doesn't have a concept of a persistent session that maintains state (like cookies, headers, authentication) across multiple requests. Each request is independent.\n",
    "\n",
    "Including Authentication in Each Request: You need to include authentication details with each request you make. This can be done by generating the appropriate headers (like the Basic Auth header) and passing them to each HTTP.request call.\n",
    "\n",
    "Handling Credentials: You have a few options here:\n",
    "\n",
    "Manually pass the username and password with each request.\n",
    "Implement a function to retrieve the username and password (either from a .netrc file, environment variables, or prompting the user) and then use these credentials for each request.\n",
    "Store the credentials in a variable or structure that can be reused for each request.\n",
    "Retry Logic: If you need retry logic (like the Python code's use of urllib3.util.retry.Retry), you'll need to implement it manually for each request, as shown in the previous Julia code examples.\n",
    "\n"
   ]
  },
  {
   "cell_type": "code",
   "execution_count": 34,
   "metadata": {},
   "outputs": [
    {
     "data": {
      "text/plain": [
       "\"https://www.eodms-sgdot.nrcan-rncan.gc.ca/wes/rapi\""
      ]
     },
     "metadata": {},
     "output_type": "display_data"
    }
   ],
   "source": [
    "rapi_root = \"https://www.eodms-sgdot.nrcan-rncan.gc.ca/wes/rapi\""
   ]
  },
  {
   "cell_type": "code",
   "execution_count": null,
   "metadata": {},
   "outputs": [],
   "source": []
  },
  {
   "cell_type": "code",
   "execution_count": 35,
   "metadata": {},
   "outputs": [
    {
     "data": {
      "text/plain": [
       "download_rcm_metadata (generic function with 1 method)"
      ]
     },
     "metadata": {},
     "output_type": "display_data"
    }
   ],
   "source": [
    "using HTTP\n",
    "using JSON\n",
    "using Base64\n",
    "\n",
    "function download_rcm_metadata(; bbox::String=\"4,51,4.5,52\", \n",
    "                                start_datetime::String=\"2022-06-11T00:00:00Z\", \n",
    "                                end_datetime::String=\"2022-06-22T23:59:59Z\", \n",
    "                                max_records::String=\"10\",\n",
    "                                collection::String = \"RCM\",\n",
    "                                product_type::String = \"Scan\",\n",
    "                                verbose::Int = 1,\n",
    "                                username::String,\n",
    "                                password::String)\n",
    "    # Define the API endpoint\n",
    "    endpoint = rapi_root\n",
    "\n",
    "    # Construct the query parameters\n",
    "    params = Dict(\n",
    "        \"bbox\" => bbox,\n",
    "        \"start_datetime\" => start_datetime,\n",
    "        \"end_datetime\" => end_datetime,\n",
    "        \"max_records\" => max_records,\n",
    "        \"collection\" => collection,\n",
    "        \"product_type\" => product_type\n",
    "    )\n",
    "\n",
    "    # Encode the credentials for basic authentication\n",
    "    encoded_credentials = base64encode(\"$username:$password\")\n",
    "    headers = Dict(\"Authorization\" => \"Basic $encoded_credentials\")\n",
    "\n",
    "    # Send the request with the custom headers\n",
    "    response = HTTP.get(endpoint, query=params, headers=headers)\n",
    "\n",
    "    # Remaining part of your function...\n",
    "end\n"
   ]
  },
  {
   "cell_type": "code",
   "execution_count": 36,
   "metadata": {},
   "outputs": [
    {
     "ename": "HTTP.Exceptions.StatusError",
     "evalue": "HTTP.Exceptions.StatusError(404, \"GET\", \"/wes/rapi?end_datetime=2022-06-22T23%3A59%3A59Z&max_records=10&product_type=Scan&bbox=4%2C51%2C4.5%2C52&start_datetime=2022-06-11T00%3A00%3A00Z&collection=RCM\", HTTP.Messages.Response:\n\"\"\"\nHTTP/1.1 404 Not Found\r\nContent-Type: text/html;charset=UTF-8\r\nContent-Length: 256\r\nConnection: keep-alive\r\nDate: Wed, 15 Nov 2023 17:06:39 GMT\r\nServer: Apache/2.4.37 (Red Hat Enterprise Linux) OpenSSL/1.1.1k mod_jk/1.2.48\r\nSet-Cookie: JSESSIONID=B605BD4FC5A7AC26A192D63A04EBA167; Path=/wes; HttpOnly\r\nAccept-Ranges: bytes\r\nX-Cache: Error from cloudfront\r\nVia: 1.1 75568bdf22d355a8923e13231e78c00a.cloudfront.net (CloudFront)\r\nX-Amz-Cf-Pop: CPH50-P1\r\nX-Amz-Cf-Id: owByV3Gw6GjxmQkhuU7t9ew8NOT6vahsYmNG7Un_KFEJ_wtG17tfLQ==\r\n\r\n<html>\n<head>\n   <title>Error Page</title>\n</head>\n<body style=\"font-family: sans-serif;\">\n<p style=\"font-size: 1.2em;font-weight: bold;margin: 1em 0px;\">404 - Not Found</p>\n<p>The server has not found anything matching the request URI</p>\n</body>\n</html>\n\"\"\")",
     "output_type": "error",
     "traceback": [
      "HTTP.Exceptions.StatusError(404, \"GET\", \"/wes/rapi?end_datetime=2022-06-22T23%3A59%3A59Z&max_records=10&product_type=Scan&bbox=4%2C51%2C4.5%2C52&start_datetime=2022-06-11T00%3A00%3A00Z&collection=RCM\", HTTP.Messages.Response:\n",
      "\"\"\"\n",
      "HTTP/1.1 404 Not Found\r\n",
      "Content-Type: text/html;charset=UTF-8\r\n",
      "Content-Length: 256\r\n",
      "Connection: keep-alive\r\n",
      "Date: Wed, 15 Nov 2023 17:06:39 GMT\r\n",
      "Server: Apache/2.4.37 (Red Hat Enterprise Linux) OpenSSL/1.1.1k mod_jk/1.2.48\r\n",
      "Set-Cookie: JSESSIONID=B605BD4FC5A7AC26A192D63A04EBA167; Path=/wes; HttpOnly\r\n",
      "Accept-Ranges: bytes\r\n",
      "X-Cache: Error from cloudfront\r\n",
      "Via: 1.1 75568bdf22d355a8923e13231e78c00a.cloudfront.net (CloudFront)\r\n",
      "X-Amz-Cf-Pop: CPH50-P1\r\n",
      "X-Amz-Cf-Id: owByV3Gw6GjxmQkhuU7t9ew8NOT6vahsYmNG7Un_KFEJ_wtG17tfLQ==\r\n",
      "\r\n",
      "<html>\n",
      "<head>\n",
      "   <title>Error Page</title>\n",
      "</head>\n",
      "<body style=\"font-family: sans-serif;\">\n",
      "<p style=\"font-size: 1.2em;font-weight: bold;margin: 1em 0px;\">404 - Not Found</p>\n",
      "<p>The server has not found anything matching the request URI</p>\n",
      "</body>\n",
      "</html>\n",
      "\"\"\")\n",
      "\n",
      "Stacktrace:\n",
      "  [1] (::HTTP.ConnectionRequest.var\"#connections#4\"{HTTP.ConnectionRequest.var\"#connections#1#5\"{HTTP.TimeoutRequest.var\"#timeouts#3\"{HTTP.TimeoutRequest.var\"#timeouts#1#4\"{HTTP.ExceptionRequest.var\"#exceptions#2\"{HTTP.ExceptionRequest.var\"#exceptions#1#3\"{typeof(HTTP.StreamRequest.streamlayer)}}}}}})(req::HTTP.Messages.Request; proxy::Nothing, socket_type::Type, socket_type_tls::Type, readtimeout::Int64, connect_timeout::Int64, logerrors::Bool, logtag::Nothing, kw::Base.Pairs{Symbol, Union{Nothing, Int64}, Tuple{Symbol, Symbol, Symbol}, NamedTuple{(:iofunction, :decompress, :verbose), Tuple{Nothing, Nothing, Int64}}})\n",
      "    @ HTTP.ConnectionRequest ~/.julia/packages/HTTP/SN7VW/src/clientlayers/ConnectionRequest.jl:144\n",
      "  [2] (::Base.var\"#88#90\"{Base.var\"#88#89#91\"{ExponentialBackOff, HTTP.RetryRequest.var\"#2#5\"{Int64, typeof(HTTP.RetryRequest.FALSE), HTTP.Messages.Request, Base.RefValue{Int64}}, HTTP.ConnectionRequest.var\"#connections#4\"{HTTP.ConnectionRequest.var\"#connections#1#5\"{HTTP.TimeoutRequest.var\"#timeouts#3\"{HTTP.TimeoutRequest.var\"#timeouts#1#4\"{HTTP.ExceptionRequest.var\"#exceptions#2\"{HTTP.ExceptionRequest.var\"#exceptions#1#3\"{typeof(HTTP.StreamRequest.streamlayer)}}}}}}}})(args::HTTP.Messages.Request; kwargs::Base.Pairs{Symbol, Union{Nothing, Int64}, Tuple{Symbol, Symbol, Symbol}, NamedTuple{(:iofunction, :decompress, :verbose), Tuple{Nothing, Nothing, Int64}}})\n",
      "    @ Base ./error.jl:296\n",
      "  [3] (::HTTP.RetryRequest.var\"#manageretries#3\"{HTTP.RetryRequest.var\"#manageretries#1#4\"{HTTP.ConnectionRequest.var\"#connections#4\"{HTTP.ConnectionRequest.var\"#connections#1#5\"{HTTP.TimeoutRequest.var\"#timeouts#3\"{HTTP.TimeoutRequest.var\"#timeouts#1#4\"{HTTP.ExceptionRequest.var\"#exceptions#2\"{HTTP.ExceptionRequest.var\"#exceptions#1#3\"{typeof(HTTP.StreamRequest.streamlayer)}}}}}}}})(req::HTTP.Messages.Request; retry::Bool, retries::Int64, retry_delays::ExponentialBackOff, retry_check::Function, retry_non_idempotent::Bool, kw::Base.Pairs{Symbol, Union{Nothing, Int64}, Tuple{Symbol, Symbol, Symbol}, NamedTuple{(:iofunction, :decompress, :verbose), Tuple{Nothing, Nothing, Int64}}})\n",
      "    @ HTTP.RetryRequest ~/.julia/packages/HTTP/SN7VW/src/clientlayers/RetryRequest.jl:75\n",
      "  [4] (::HTTP.CookieRequest.var\"#managecookies#4\"{HTTP.CookieRequest.var\"#managecookies#1#5\"{HTTP.RetryRequest.var\"#manageretries#3\"{HTTP.RetryRequest.var\"#manageretries#1#4\"{HTTP.ConnectionRequest.var\"#connections#4\"{HTTP.ConnectionRequest.var\"#connections#1#5\"{HTTP.TimeoutRequest.var\"#timeouts#3\"{HTTP.TimeoutRequest.var\"#timeouts#1#4\"{HTTP.ExceptionRequest.var\"#exceptions#2\"{HTTP.ExceptionRequest.var\"#exceptions#1#3\"{typeof(HTTP.StreamRequest.streamlayer)}}}}}}}}}})(req::HTTP.Messages.Request; cookies::Bool, cookiejar::HTTP.Cookies.CookieJar, kw::Base.Pairs{Symbol, Union{Nothing, Int64}, Tuple{Symbol, Symbol, Symbol}, NamedTuple{(:iofunction, :decompress, :verbose), Tuple{Nothing, Nothing, Int64}}})\n",
      "    @ HTTP.CookieRequest ~/.julia/packages/HTTP/SN7VW/src/clientlayers/CookieRequest.jl:42\n",
      "  [5] (::HTTP.HeadersRequest.var\"#defaultheaders#2\"{HTTP.HeadersRequest.var\"#defaultheaders#1#3\"{HTTP.CookieRequest.var\"#managecookies#4\"{HTTP.CookieRequest.var\"#managecookies#1#5\"{HTTP.RetryRequest.var\"#manageretries#3\"{HTTP.RetryRequest.var\"#manageretries#1#4\"{HTTP.ConnectionRequest.var\"#connections#4\"{HTTP.ConnectionRequest.var\"#connections#1#5\"{HTTP.TimeoutRequest.var\"#timeouts#3\"{HTTP.TimeoutRequest.var\"#timeouts#1#4\"{HTTP.ExceptionRequest.var\"#exceptions#2\"{HTTP.ExceptionRequest.var\"#exceptions#1#3\"{typeof(HTTP.StreamRequest.streamlayer)}}}}}}}}}}}})(req::HTTP.Messages.Request; iofunction::Nothing, decompress::Nothing, basicauth::Bool, detect_content_type::Bool, canonicalize_headers::Bool, kw::Base.Pairs{Symbol, Int64, Tuple{Symbol}, NamedTuple{(:verbose,), Tuple{Int64}}})\n",
      "    @ HTTP.HeadersRequest ~/.julia/packages/HTTP/SN7VW/src/clientlayers/HeadersRequest.jl:71\n",
      "  [6] (::HTTP.RedirectRequest.var\"#redirects#3\"{HTTP.RedirectRequest.var\"#redirects#1#4\"{HTTP.HeadersRequest.var\"#defaultheaders#2\"{HTTP.HeadersRequest.var\"#defaultheaders#1#3\"{HTTP.CookieRequest.var\"#managecookies#4\"{HTTP.CookieRequest.var\"#managecookies#1#5\"{HTTP.RetryRequest.var\"#manageretries#3\"{HTTP.RetryRequest.var\"#manageretries#1#4\"{HTTP.ConnectionRequest.var\"#connections#4\"{HTTP.ConnectionRequest.var\"#connections#1#5\"{HTTP.TimeoutRequest.var\"#timeouts#3\"{HTTP.TimeoutRequest.var\"#timeouts#1#4\"{HTTP.ExceptionRequest.var\"#exceptions#2\"{HTTP.ExceptionRequest.var\"#exceptions#1#3\"{typeof(HTTP.StreamRequest.streamlayer)}}}}}}}}}}}}}})(req::HTTP.Messages.Request; redirect::Bool, redirect_limit::Int64, redirect_method::Nothing, forwardheaders::Bool, response_stream::Nothing, kw::Base.Pairs{Symbol, Int64, Tuple{Symbol}, NamedTuple{(:verbose,), Tuple{Int64}}})\n",
      "    @ HTTP.RedirectRequest ~/.julia/packages/HTTP/SN7VW/src/clientlayers/RedirectRequest.jl:25\n",
      "  [7] (::HTTP.MessageRequest.var\"#makerequest#3\"{HTTP.MessageRequest.var\"#makerequest#1#4\"{HTTP.RedirectRequest.var\"#redirects#3\"{HTTP.RedirectRequest.var\"#redirects#1#4\"{HTTP.HeadersRequest.var\"#defaultheaders#2\"{HTTP.HeadersRequest.var\"#defaultheaders#1#3\"{HTTP.CookieRequest.var\"#managecookies#4\"{HTTP.CookieRequest.var\"#managecookies#1#5\"{HTTP.RetryRequest.var\"#manageretries#3\"{HTTP.RetryRequest.var\"#manageretries#1#4\"{HTTP.ConnectionRequest.var\"#connections#4\"{HTTP.ConnectionRequest.var\"#connections#1#5\"{HTTP.TimeoutRequest.var\"#timeouts#3\"{HTTP.TimeoutRequest.var\"#timeouts#1#4\"{HTTP.ExceptionRequest.var\"#exceptions#2\"{HTTP.ExceptionRequest.var\"#exceptions#1#3\"{typeof(HTTP.StreamRequest.streamlayer)}}}}}}}}}}}}}}}})(method::String, url::URIs.URI, headers::Dict{String, String}, body::Vector{UInt8}; copyheaders::Bool, response_stream::Nothing, http_version::HTTP.Strings.HTTPVersion, verbose::Int64, kw::Base.Pairs{Symbol, Union{}, Tuple{}, NamedTuple{(), Tuple{}}})\n",
      "    @ HTTP.MessageRequest ~/.julia/packages/HTTP/SN7VW/src/clientlayers/MessageRequest.jl:35\n",
      "  [8] makerequest\n",
      "    @ ~/.julia/packages/HTTP/SN7VW/src/clientlayers/MessageRequest.jl:24 [inlined]\n",
      "  [9] request(stack::HTTP.MessageRequest.var\"#makerequest#3\"{HTTP.MessageRequest.var\"#makerequest#1#4\"{HTTP.RedirectRequest.var\"#redirects#3\"{HTTP.RedirectRequest.var\"#redirects#1#4\"{HTTP.HeadersRequest.var\"#defaultheaders#2\"{HTTP.HeadersRequest.var\"#defaultheaders#1#3\"{HTTP.CookieRequest.var\"#managecookies#4\"{HTTP.CookieRequest.var\"#managecookies#1#5\"{HTTP.RetryRequest.var\"#manageretries#3\"{HTTP.RetryRequest.var\"#manageretries#1#4\"{HTTP.ConnectionRequest.var\"#connections#4\"{HTTP.ConnectionRequest.var\"#connections#1#5\"{HTTP.TimeoutRequest.var\"#timeouts#3\"{HTTP.TimeoutRequest.var\"#timeouts#1#4\"{HTTP.ExceptionRequest.var\"#exceptions#2\"{HTTP.ExceptionRequest.var\"#exceptions#1#3\"{typeof(HTTP.StreamRequest.streamlayer)}}}}}}}}}}}}}}}}, method::String, url::String, h::Dict{String, String}, b::Vector{UInt8}, q::Dict{String, String}; headers::Dict{String, String}, body::Vector{UInt8}, query::Dict{String, String}, kw::Base.Pairs{Symbol, Union{}, Tuple{}, NamedTuple{(), Tuple{}}})\n",
      "    @ HTTP ~/.julia/packages/HTTP/SN7VW/src/HTTP.jl:457\n",
      " [10] request(stack::Function, method::String, url::String, h::Dict{String, String}, b::Vector{UInt8}, q::Dict{String, String})\n",
      "    @ HTTP ~/.julia/packages/HTTP/SN7VW/src/HTTP.jl:455\n",
      " [11] #request#19\n",
      "    @ ~/.julia/packages/HTTP/SN7VW/src/HTTP.jl:315 [inlined]\n",
      " [12] #get#37\n",
      "    @ ~/.julia/packages/HTTP/SN7VW/src/HTTP.jl:518 [inlined]\n",
      " [13] download_rcm_metadata(; bbox::String, start_datetime::String, end_datetime::String, max_records::String, collection::String, product_type::String, verbose::Int64, username::String, password::String)\n",
      "    @ Main ~/Documents/coding/JuliaEO2024/rcm_test.ipynb:32\n",
      " [14] top-level scope\n",
      "    @ ~/Documents/coding/JuliaEO2024/rcm_test.ipynb:1"
     ]
    }
   ],
   "source": [
    "metadata = download_rcm_metadata(username=\"Aalling93\", password=\"Security1234!\")\n"
   ]
  },
  {
   "cell_type": "code",
   "execution_count": null,
   "metadata": {},
   "outputs": [],
   "source": []
  },
  {
   "cell_type": "code",
   "execution_count": 10,
   "metadata": {},
   "outputs": [
    {
     "ename": "HTTP.Exceptions.StatusError",
     "evalue": "HTTP.Exceptions.StatusError(404, \"POST\", \"/api/authenticate\", HTTP.Messages.Response:\n\"\"\"\nHTTP/1.1 404 Not Found\r\nCache-Control: max-age=604800\r\nContent-Type: text/html; charset=UTF-8\r\nDate: Wed, 15 Nov 2023 10:30:22 GMT\r\nExpires: Wed, 22 Nov 2023 10:30:22 GMT\r\nServer: EOS (vny/044E)\r\nContent-Length: 433\r\n\r\n<?xml version=\"1.0\" encoding=\"iso-8859-1\"?>\n<!DOCTYPE html PUBLIC \"-//W3C//DTD XHTML 1.0 Transitional//EN\"\n         \"http://www.w3.org/TR/xhtml1/DTD/xhtml1-transitional.dtd\">\n<html xmlns=\"http://www.w3.org/1999/xhtml\" xml:lang=\"en\" lang=\"en\">\n\t<head>\n\t\t<title>404 - Not Found</title>\n\t</head>\n\t<body>\n\t\t<h1>404 - Not Found</h1>\n\t\t<script type=\"text/javascript\" src=\"//obj.ac.bcon.ecdns.net/ec_tpm_bcon.js\"></script>\n\t</body>\n</html>\n\"\"\")",
     "output_type": "error",
     "traceback": [
      "HTTP.Exceptions.StatusError(404, \"POST\", \"/api/authenticate\", HTTP.Messages.Response:\n",
      "\"\"\"\n",
      "HTTP/1.1 404 Not Found\r\n",
      "Cache-Control: max-age=604800\r\n",
      "Content-Type: text/html; charset=UTF-8\r\n",
      "Date: Wed, 15 Nov 2023 10:30:22 GMT\r\n",
      "Expires: Wed, 22 Nov 2023 10:30:22 GMT\r\n",
      "Server: EOS (vny/044E)\r\n",
      "Content-Length: 433\r\n",
      "\r\n",
      "<?xml version=\"1.0\" encoding=\"iso-8859-1\"?>\n",
      "<!DOCTYPE html PUBLIC \"-//W3C//DTD XHTML 1.0 Transitional//EN\"\n",
      "         \"http://www.w3.org/TR/xhtml1/DTD/xhtml1-transitional.dtd\">\n",
      "<html xmlns=\"http://www.w3.org/1999/xhtml\" xml:lang=\"en\" lang=\"en\">\n",
      "\t<head>\n",
      "\t\t<title>404 - Not Found</title>\n",
      "\t</head>\n",
      "\t<body>\n",
      "\t\t<h1>404 - Not Found</h1>\n",
      "\t\t<script type=\"text/javascript\" src=\"//obj.ac.bcon.ecdns.net/ec_tpm_bcon.js\"></script>\n",
      "\t</body>\n",
      "</html>\n",
      "\"\"\")\n",
      "\n",
      "Stacktrace:\n",
      "  [1] (::HTTP.ConnectionRequest.var\"#connections#4\"{HTTP.ConnectionRequest.var\"#connections#1#5\"{HTTP.TimeoutRequest.var\"#timeouts#3\"{HTTP.TimeoutRequest.var\"#timeouts#1#4\"{HTTP.ExceptionRequest.var\"#exceptions#2\"{HTTP.ExceptionRequest.var\"#exceptions#1#3\"{typeof(HTTP.StreamRequest.streamlayer)}}}}}})(req::HTTP.Messages.Request; proxy::Nothing, socket_type::Type, socket_type_tls::Type, readtimeout::Int64, connect_timeout::Int64, logerrors::Bool, logtag::Nothing, kw::Base.Pairs{Symbol, Union{Nothing, Int64}, Tuple{Symbol, Symbol, Symbol}, NamedTuple{(:iofunction, :decompress, :verbose), Tuple{Nothing, Nothing, Int64}}})\n",
      "    @ HTTP.ConnectionRequest ~/.julia/packages/HTTP/SN7VW/src/clientlayers/ConnectionRequest.jl:144\n",
      "  [2] (::Base.var\"#88#90\"{Base.var\"#88#89#91\"{ExponentialBackOff, HTTP.RetryRequest.var\"#2#5\"{Int64, typeof(HTTP.RetryRequest.FALSE), HTTP.Messages.Request, Base.RefValue{Int64}}, HTTP.ConnectionRequest.var\"#connections#4\"{HTTP.ConnectionRequest.var\"#connections#1#5\"{HTTP.TimeoutRequest.var\"#timeouts#3\"{HTTP.TimeoutRequest.var\"#timeouts#1#4\"{HTTP.ExceptionRequest.var\"#exceptions#2\"{HTTP.ExceptionRequest.var\"#exceptions#1#3\"{typeof(HTTP.StreamRequest.streamlayer)}}}}}}}})(args::HTTP.Messages.Request; kwargs::Base.Pairs{Symbol, Union{Nothing, Int64}, Tuple{Symbol, Symbol, Symbol}, NamedTuple{(:iofunction, :decompress, :verbose), Tuple{Nothing, Nothing, Int64}}})\n",
      "    @ Base ./error.jl:296\n",
      "  [3] (::HTTP.RetryRequest.var\"#manageretries#3\"{HTTP.RetryRequest.var\"#manageretries#1#4\"{HTTP.ConnectionRequest.var\"#connections#4\"{HTTP.ConnectionRequest.var\"#connections#1#5\"{HTTP.TimeoutRequest.var\"#timeouts#3\"{HTTP.TimeoutRequest.var\"#timeouts#1#4\"{HTTP.ExceptionRequest.var\"#exceptions#2\"{HTTP.ExceptionRequest.var\"#exceptions#1#3\"{typeof(HTTP.StreamRequest.streamlayer)}}}}}}}})(req::HTTP.Messages.Request; retry::Bool, retries::Int64, retry_delays::ExponentialBackOff, retry_check::Function, retry_non_idempotent::Bool, kw::Base.Pairs{Symbol, Union{Nothing, Int64}, Tuple{Symbol, Symbol, Symbol}, NamedTuple{(:iofunction, :decompress, :verbose), Tuple{Nothing, Nothing, Int64}}})\n",
      "    @ HTTP.RetryRequest ~/.julia/packages/HTTP/SN7VW/src/clientlayers/RetryRequest.jl:75\n",
      "  [4] (::HTTP.CookieRequest.var\"#managecookies#4\"{HTTP.CookieRequest.var\"#managecookies#1#5\"{HTTP.RetryRequest.var\"#manageretries#3\"{HTTP.RetryRequest.var\"#manageretries#1#4\"{HTTP.ConnectionRequest.var\"#connections#4\"{HTTP.ConnectionRequest.var\"#connections#1#5\"{HTTP.TimeoutRequest.var\"#timeouts#3\"{HTTP.TimeoutRequest.var\"#timeouts#1#4\"{HTTP.ExceptionRequest.var\"#exceptions#2\"{HTTP.ExceptionRequest.var\"#exceptions#1#3\"{typeof(HTTP.StreamRequest.streamlayer)}}}}}}}}}})(req::HTTP.Messages.Request; cookies::Bool, cookiejar::HTTP.Cookies.CookieJar, kw::Base.Pairs{Symbol, Union{Nothing, Int64}, Tuple{Symbol, Symbol, Symbol}, NamedTuple{(:iofunction, :decompress, :verbose), Tuple{Nothing, Nothing, Int64}}})\n",
      "    @ HTTP.CookieRequest ~/.julia/packages/HTTP/SN7VW/src/clientlayers/CookieRequest.jl:42\n",
      "  [5] (::HTTP.HeadersRequest.var\"#defaultheaders#2\"{HTTP.HeadersRequest.var\"#defaultheaders#1#3\"{HTTP.CookieRequest.var\"#managecookies#4\"{HTTP.CookieRequest.var\"#managecookies#1#5\"{HTTP.RetryRequest.var\"#manageretries#3\"{HTTP.RetryRequest.var\"#manageretries#1#4\"{HTTP.ConnectionRequest.var\"#connections#4\"{HTTP.ConnectionRequest.var\"#connections#1#5\"{HTTP.TimeoutRequest.var\"#timeouts#3\"{HTTP.TimeoutRequest.var\"#timeouts#1#4\"{HTTP.ExceptionRequest.var\"#exceptions#2\"{HTTP.ExceptionRequest.var\"#exceptions#1#3\"{typeof(HTTP.StreamRequest.streamlayer)}}}}}}}}}}}})(req::HTTP.Messages.Request; iofunction::Nothing, decompress::Nothing, basicauth::Bool, detect_content_type::Bool, canonicalize_headers::Bool, kw::Base.Pairs{Symbol, Int64, Tuple{Symbol}, NamedTuple{(:verbose,), Tuple{Int64}}})\n",
      "    @ HTTP.HeadersRequest ~/.julia/packages/HTTP/SN7VW/src/clientlayers/HeadersRequest.jl:71\n",
      "  [6] (::HTTP.RedirectRequest.var\"#redirects#3\"{HTTP.RedirectRequest.var\"#redirects#1#4\"{HTTP.HeadersRequest.var\"#defaultheaders#2\"{HTTP.HeadersRequest.var\"#defaultheaders#1#3\"{HTTP.CookieRequest.var\"#managecookies#4\"{HTTP.CookieRequest.var\"#managecookies#1#5\"{HTTP.RetryRequest.var\"#manageretries#3\"{HTTP.RetryRequest.var\"#manageretries#1#4\"{HTTP.ConnectionRequest.var\"#connections#4\"{HTTP.ConnectionRequest.var\"#connections#1#5\"{HTTP.TimeoutRequest.var\"#timeouts#3\"{HTTP.TimeoutRequest.var\"#timeouts#1#4\"{HTTP.ExceptionRequest.var\"#exceptions#2\"{HTTP.ExceptionRequest.var\"#exceptions#1#3\"{typeof(HTTP.StreamRequest.streamlayer)}}}}}}}}}}}}}})(req::HTTP.Messages.Request; redirect::Bool, redirect_limit::Int64, redirect_method::Nothing, forwardheaders::Bool, response_stream::Nothing, kw::Base.Pairs{Symbol, Int64, Tuple{Symbol}, NamedTuple{(:verbose,), Tuple{Int64}}})\n",
      "    @ HTTP.RedirectRequest ~/.julia/packages/HTTP/SN7VW/src/clientlayers/RedirectRequest.jl:25\n",
      "  [7] (::HTTP.MessageRequest.var\"#makerequest#3\"{HTTP.MessageRequest.var\"#makerequest#1#4\"{HTTP.RedirectRequest.var\"#redirects#3\"{HTTP.RedirectRequest.var\"#redirects#1#4\"{HTTP.HeadersRequest.var\"#defaultheaders#2\"{HTTP.HeadersRequest.var\"#defaultheaders#1#3\"{HTTP.CookieRequest.var\"#managecookies#4\"{HTTP.CookieRequest.var\"#managecookies#1#5\"{HTTP.RetryRequest.var\"#manageretries#3\"{HTTP.RetryRequest.var\"#manageretries#1#4\"{HTTP.ConnectionRequest.var\"#connections#4\"{HTTP.ConnectionRequest.var\"#connections#1#5\"{HTTP.TimeoutRequest.var\"#timeouts#3\"{HTTP.TimeoutRequest.var\"#timeouts#1#4\"{HTTP.ExceptionRequest.var\"#exceptions#2\"{HTTP.ExceptionRequest.var\"#exceptions#1#3\"{typeof(HTTP.StreamRequest.streamlayer)}}}}}}}}}}}}}}}})(method::String, url::URIs.URI, headers::Nothing, body::String; copyheaders::Bool, response_stream::Nothing, http_version::HTTP.Strings.HTTPVersion, verbose::Int64, kw::Base.Pairs{Symbol, Union{}, Tuple{}, NamedTuple{(), Tuple{}}})\n",
      "    @ HTTP.MessageRequest ~/.julia/packages/HTTP/SN7VW/src/clientlayers/MessageRequest.jl:35\n",
      "  [8] makerequest\n",
      "    @ ~/.julia/packages/HTTP/SN7VW/src/clientlayers/MessageRequest.jl:24 [inlined]\n",
      "  [9] request(stack::HTTP.MessageRequest.var\"#makerequest#3\"{HTTP.MessageRequest.var\"#makerequest#1#4\"{HTTP.RedirectRequest.var\"#redirects#3\"{HTTP.RedirectRequest.var\"#redirects#1#4\"{HTTP.HeadersRequest.var\"#defaultheaders#2\"{HTTP.HeadersRequest.var\"#defaultheaders#1#3\"{HTTP.CookieRequest.var\"#managecookies#4\"{HTTP.CookieRequest.var\"#managecookies#1#5\"{HTTP.RetryRequest.var\"#manageretries#3\"{HTTP.RetryRequest.var\"#manageretries#1#4\"{HTTP.ConnectionRequest.var\"#connections#4\"{HTTP.ConnectionRequest.var\"#connections#1#5\"{HTTP.TimeoutRequest.var\"#timeouts#3\"{HTTP.TimeoutRequest.var\"#timeouts#1#4\"{HTTP.ExceptionRequest.var\"#exceptions#2\"{HTTP.ExceptionRequest.var\"#exceptions#1#3\"{typeof(HTTP.StreamRequest.streamlayer)}}}}}}}}}}}}}}}}, method::String, url::String, h::Nothing, b::String, q::Nothing; headers::Nothing, body::String, query::Nothing, kw::Base.Pairs{Symbol, Union{}, Tuple{}, NamedTuple{(), Tuple{}}})\n",
      "    @ HTTP ~/.julia/packages/HTTP/SN7VW/src/HTTP.jl:457\n",
      " [10] request(stack::Function, method::String, url::String, h::Nothing, b::String, q::Nothing)\n",
      "    @ HTTP ~/.julia/packages/HTTP/SN7VW/src/HTTP.jl:455\n",
      " [11] #request#19\n",
      "    @ ~/.julia/packages/HTTP/SN7VW/src/HTTP.jl:315 [inlined]\n",
      " [12] #post#39\n",
      "    @ ~/.julia/packages/HTTP/SN7VW/src/HTTP.jl:532 [inlined]\n",
      " [13] authenticate(username::String, password::String)\n",
      "    @ Main ~/Documents/coding/JuliaEO2024/rcm_test.ipynb:12\n",
      " [14] top-level scope\n",
      "    @ ~/Documents/coding/JuliaEO2024/rcm_test.ipynb:1"
     ]
    }
   ],
   "source": [
    "token = authenticate(\"Aalling93\", \"Security1234!\")"
   ]
  },
  {
   "cell_type": "code",
   "execution_count": null,
   "metadata": {},
   "outputs": [],
   "source": []
  },
  {
   "cell_type": "code",
   "execution_count": 37,
   "metadata": {},
   "outputs": [],
   "source": [
    "using HTTP\n",
    "using JSON\n"
   ]
  },
  {
   "cell_type": "code",
   "execution_count": 38,
   "metadata": {},
   "outputs": [
    {
     "data": {
      "text/plain": [
       "get_satellite_constellations (generic function with 1 method)"
      ]
     },
     "metadata": {},
     "output_type": "display_data"
    }
   ],
   "source": [
    "function get_satellite_constellations()\n",
    "    url = \"https://www.eodms-sgdot.nrcan-rncan.gc.ca/stac/collections\"\n",
    "    response = HTTP.get(url)\n",
    "    collections = JSON.parse(String(response.body))\n",
    "    return collections\n",
    "end\n"
   ]
  },
  {
   "cell_type": "code",
   "execution_count": 39,
   "metadata": {},
   "outputs": [
    {
     "data": {
      "text/plain": [
       "Dict{String, Any} with 2 entries:\n",
       "  \"collections\" => Any[Dict{String, Any}(\"stac_extensions\"=>Any[], \"keywords\"=>…\n",
       "  \"links\"       => Any[Dict{String, Any}(\"rel\"=>\"root\", \"href\"=>\"https://www.eo…"
      ]
     },
     "metadata": {},
     "output_type": "display_data"
    }
   ],
   "source": [
    "constellations = get_satellite_constellations()\n",
    "# Here, you can print or process the `constellations` to see the available satellite constellations\n"
   ]
  },
  {
   "cell_type": "code",
   "execution_count": 44,
   "metadata": {},
   "outputs": [
    {
     "data": {
      "text/plain": [
       "3-element Vector{Any}:\n",
       " Dict{String, Any}(\"rel\" => \"root\", \"href\" => \"https://www.eodms-sgdot.nrcan-rncan.gc.ca/stac/\", \"type\" => \"application/json\")\n",
       " Dict{String, Any}(\"rel\" => \"parent\", \"href\" => \"https://www.eodms-sgdot.nrcan-rncan.gc.ca/stac/\", \"type\" => \"application/json\")\n",
       " Dict{String, Any}(\"rel\" => \"self\", \"href\" => \"https://www.eodms-sgdot.nrcan-rncan.gc.ca/stac/collections\", \"type\" => \"application/json\")"
      ]
     },
     "metadata": {},
     "output_type": "display_data"
    }
   ],
   "source": [
    "constellations[\"links\"]"
   ]
  },
  {
   "cell_type": "code",
   "execution_count": 45,
   "metadata": {},
   "outputs": [],
   "source": [
    "using STAC\n"
   ]
  },
  {
   "cell_type": "code",
   "execution_count": 77,
   "metadata": {},
   "outputs": [
    {
     "data": {
      "text/plain": [
       "\"https://www.eodms-sgdot.nrcan-rncan.gc.ca/stac/search\""
      ]
     },
     "metadata": {},
     "output_type": "display_data"
    }
   ],
   "source": [
    "url = \"https://www.eodms-sgdot.nrcan-rncan.gc.ca/stac/\"\n",
    "u2 = \"https://raw.githubusercontent.com/sat-utils/sat-stac/master/test/catalog/catalog.json\"\n",
    "url = \"https://raw.githubusercontent.com/radiantearth/stac-api-spec/v1.0.0-rc.1/fragments/context/json-schema/schema.json\"\n",
    "url = \"https://www.eodms-sgdot.nrcan-rncan.gc.ca/stac/api.html\"\n",
    "url = \"https://www.eodms-sgdot.nrcan-rncan.gc.ca/stac/collections/rcm\"\n",
    "url = \"https://www.eodms-sgdot.nrcan-rncan.gc.ca/stac/search\"\n",
    "#url = \"https://www.eodms-sgdot.nrcan-rncan.gc.ca/stac/api\""
   ]
  },
  {
   "cell_type": "code",
   "execution_count": 78,
   "metadata": {},
   "outputs": [
    {
     "ename": "HTTP.Exceptions.StatusError",
     "evalue": "HTTP.Exceptions.StatusError(500, \"GET\", \"/stac/search\", HTTP.Messages.Response:\n\"\"\"\nHTTP/1.1 500 Internal Server Error\r\nContent-Type: application/json\r\nContent-Length: 211\r\nConnection: keep-alive\r\nDate: Wed, 15 Nov 2023 17:22:53 GMT\r\nServer: nginx/1.18.0 (Ubuntu)\r\nX-Cache: Error from cloudfront\r\nVia: 1.1 623179a0437e8c560066525ff2e2167a.cloudfront.net (CloudFront)\r\nX-Amz-Cf-Pop: CPH50-P1\r\nX-Amz-Cf-Id: 81-m4nJSNe93lLGUxp4Fifwj2KdSWdGSxTVOMwPpSDJOqd-DHqi82A==\r\nX-XSS-Protection: 1; mode=block\r\nX-Frame-Options: SAMEORIGIN\r\nReferrer-Policy: strict-origin-when-cross-origin\r\nX-Content-Type-Options: nosniff\r\nStrict-Transport-Security: max-age=31536000\r\n\r\n{\"code\":\"NotNullViolationError\",\"description\":\"null value in column \\\"message_attribute\\\" of relation \\\"audit_details\\\" violates not-null constraint\\nDETAIL:  Failing row contains (840053, 802007, null, null).\"}\"\"\")",
     "output_type": "error",
     "traceback": [
      "HTTP.Exceptions.StatusError(500, \"GET\", \"/stac/search\", HTTP.Messages.Response:\n",
      "\"\"\"\n",
      "HTTP/1.1 500 Internal Server Error\r\n",
      "Content-Type: application/json\r\n",
      "Content-Length: 211\r\n",
      "Connection: keep-alive\r\n",
      "Date: Wed, 15 Nov 2023 17:22:53 GMT\r\n",
      "Server: nginx/1.18.0 (Ubuntu)\r\n",
      "X-Cache: Error from cloudfront\r\n",
      "Via: 1.1 623179a0437e8c560066525ff2e2167a.cloudfront.net (CloudFront)\r\n",
      "X-Amz-Cf-Pop: CPH50-P1\r\n",
      "X-Amz-Cf-Id: 81-m4nJSNe93lLGUxp4Fifwj2KdSWdGSxTVOMwPpSDJOqd-DHqi82A==\r\n",
      "X-XSS-Protection: 1; mode=block\r\n",
      "X-Frame-Options: SAMEORIGIN\r\n",
      "Referrer-Policy: strict-origin-when-cross-origin\r\n",
      "X-Content-Type-Options: nosniff\r\n",
      "Strict-Transport-Security: max-age=31536000\r\n",
      "\r\n",
      "{\"code\":\"NotNullViolationError\",\"description\":\"null value in column \\\"message_attribute\\\" of relation \\\"audit_details\\\" violates not-null constraint\\nDETAIL:  Failing row contains (840053, 802007, null, null).\"}\"\"\")\n",
      "\n",
      "Stacktrace:\n",
      "  [1] (::HTTP.ConnectionRequest.var\"#connections#4\"{HTTP.ConnectionRequest.var\"#connections#1#5\"{HTTP.TimeoutRequest.var\"#timeouts#3\"{HTTP.TimeoutRequest.var\"#timeouts#1#4\"{HTTP.ExceptionRequest.var\"#exceptions#2\"{HTTP.ExceptionRequest.var\"#exceptions#1#3\"{typeof(HTTP.StreamRequest.streamlayer)}}}}}})(req::HTTP.Messages.Request; proxy::Nothing, socket_type::Type, socket_type_tls::Type, readtimeout::Int64, connect_timeout::Int64, logerrors::Bool, logtag::Nothing, kw::Base.Pairs{Symbol, Union{Nothing, Int64}, Tuple{Symbol, Symbol, Symbol}, NamedTuple{(:iofunction, :decompress, :verbose), Tuple{Nothing, Nothing, Int64}}})\n",
      "    @ HTTP.ConnectionRequest ~/.julia/packages/HTTP/SN7VW/src/clientlayers/ConnectionRequest.jl:144\n",
      "  [2] (::Base.var\"#88#90\"{Base.var\"#88#89#91\"{ExponentialBackOff, HTTP.RetryRequest.var\"#2#5\"{Int64, typeof(HTTP.RetryRequest.FALSE), HTTP.Messages.Request, Base.RefValue{Int64}}, HTTP.ConnectionRequest.var\"#connections#4\"{HTTP.ConnectionRequest.var\"#connections#1#5\"{HTTP.TimeoutRequest.var\"#timeouts#3\"{HTTP.TimeoutRequest.var\"#timeouts#1#4\"{HTTP.ExceptionRequest.var\"#exceptions#2\"{HTTP.ExceptionRequest.var\"#exceptions#1#3\"{typeof(HTTP.StreamRequest.streamlayer)}}}}}}}})(args::HTTP.Messages.Request; kwargs::Base.Pairs{Symbol, Union{Nothing, Int64}, Tuple{Symbol, Symbol, Symbol}, NamedTuple{(:iofunction, :decompress, :verbose), Tuple{Nothing, Nothing, Int64}}})\n",
      "    @ Base ./error.jl:309\n",
      "  [3] (::HTTP.RetryRequest.var\"#manageretries#3\"{HTTP.RetryRequest.var\"#manageretries#1#4\"{HTTP.ConnectionRequest.var\"#connections#4\"{HTTP.ConnectionRequest.var\"#connections#1#5\"{HTTP.TimeoutRequest.var\"#timeouts#3\"{HTTP.TimeoutRequest.var\"#timeouts#1#4\"{HTTP.ExceptionRequest.var\"#exceptions#2\"{HTTP.ExceptionRequest.var\"#exceptions#1#3\"{typeof(HTTP.StreamRequest.streamlayer)}}}}}}}})(req::HTTP.Messages.Request; retry::Bool, retries::Int64, retry_delays::ExponentialBackOff, retry_check::Function, retry_non_idempotent::Bool, kw::Base.Pairs{Symbol, Union{Nothing, Int64}, Tuple{Symbol, Symbol, Symbol}, NamedTuple{(:iofunction, :decompress, :verbose), Tuple{Nothing, Nothing, Int64}}})\n",
      "    @ HTTP.RetryRequest ~/.julia/packages/HTTP/SN7VW/src/clientlayers/RetryRequest.jl:75\n",
      "  [4] (::HTTP.CookieRequest.var\"#managecookies#4\"{HTTP.CookieRequest.var\"#managecookies#1#5\"{HTTP.RetryRequest.var\"#manageretries#3\"{HTTP.RetryRequest.var\"#manageretries#1#4\"{HTTP.ConnectionRequest.var\"#connections#4\"{HTTP.ConnectionRequest.var\"#connections#1#5\"{HTTP.TimeoutRequest.var\"#timeouts#3\"{HTTP.TimeoutRequest.var\"#timeouts#1#4\"{HTTP.ExceptionRequest.var\"#exceptions#2\"{HTTP.ExceptionRequest.var\"#exceptions#1#3\"{typeof(HTTP.StreamRequest.streamlayer)}}}}}}}}}})(req::HTTP.Messages.Request; cookies::Bool, cookiejar::HTTP.Cookies.CookieJar, kw::Base.Pairs{Symbol, Union{Nothing, Int64}, Tuple{Symbol, Symbol, Symbol}, NamedTuple{(:iofunction, :decompress, :verbose), Tuple{Nothing, Nothing, Int64}}})\n",
      "    @ HTTP.CookieRequest ~/.julia/packages/HTTP/SN7VW/src/clientlayers/CookieRequest.jl:42\n",
      "  [5] (::HTTP.HeadersRequest.var\"#defaultheaders#2\"{HTTP.HeadersRequest.var\"#defaultheaders#1#3\"{HTTP.CookieRequest.var\"#managecookies#4\"{HTTP.CookieRequest.var\"#managecookies#1#5\"{HTTP.RetryRequest.var\"#manageretries#3\"{HTTP.RetryRequest.var\"#manageretries#1#4\"{HTTP.ConnectionRequest.var\"#connections#4\"{HTTP.ConnectionRequest.var\"#connections#1#5\"{HTTP.TimeoutRequest.var\"#timeouts#3\"{HTTP.TimeoutRequest.var\"#timeouts#1#4\"{HTTP.ExceptionRequest.var\"#exceptions#2\"{HTTP.ExceptionRequest.var\"#exceptions#1#3\"{typeof(HTTP.StreamRequest.streamlayer)}}}}}}}}}}}})(req::HTTP.Messages.Request; iofunction::Nothing, decompress::Nothing, basicauth::Bool, detect_content_type::Bool, canonicalize_headers::Bool, kw::Base.Pairs{Symbol, Int64, Tuple{Symbol}, NamedTuple{(:verbose,), Tuple{Int64}}})\n",
      "    @ HTTP.HeadersRequest ~/.julia/packages/HTTP/SN7VW/src/clientlayers/HeadersRequest.jl:71\n",
      "  [6] (::HTTP.RedirectRequest.var\"#redirects#3\"{HTTP.RedirectRequest.var\"#redirects#1#4\"{HTTP.HeadersRequest.var\"#defaultheaders#2\"{HTTP.HeadersRequest.var\"#defaultheaders#1#3\"{HTTP.CookieRequest.var\"#managecookies#4\"{HTTP.CookieRequest.var\"#managecookies#1#5\"{HTTP.RetryRequest.var\"#manageretries#3\"{HTTP.RetryRequest.var\"#manageretries#1#4\"{HTTP.ConnectionRequest.var\"#connections#4\"{HTTP.ConnectionRequest.var\"#connections#1#5\"{HTTP.TimeoutRequest.var\"#timeouts#3\"{HTTP.TimeoutRequest.var\"#timeouts#1#4\"{HTTP.ExceptionRequest.var\"#exceptions#2\"{HTTP.ExceptionRequest.var\"#exceptions#1#3\"{typeof(HTTP.StreamRequest.streamlayer)}}}}}}}}}}}}}})(req::HTTP.Messages.Request; redirect::Bool, redirect_limit::Int64, redirect_method::Nothing, forwardheaders::Bool, response_stream::Nothing, kw::Base.Pairs{Symbol, Int64, Tuple{Symbol}, NamedTuple{(:verbose,), Tuple{Int64}}})\n",
      "    @ HTTP.RedirectRequest ~/.julia/packages/HTTP/SN7VW/src/clientlayers/RedirectRequest.jl:25\n",
      "  [7] (::HTTP.MessageRequest.var\"#makerequest#3\"{HTTP.MessageRequest.var\"#makerequest#1#4\"{HTTP.RedirectRequest.var\"#redirects#3\"{HTTP.RedirectRequest.var\"#redirects#1#4\"{HTTP.HeadersRequest.var\"#defaultheaders#2\"{HTTP.HeadersRequest.var\"#defaultheaders#1#3\"{HTTP.CookieRequest.var\"#managecookies#4\"{HTTP.CookieRequest.var\"#managecookies#1#5\"{HTTP.RetryRequest.var\"#manageretries#3\"{HTTP.RetryRequest.var\"#manageretries#1#4\"{HTTP.ConnectionRequest.var\"#connections#4\"{HTTP.ConnectionRequest.var\"#connections#1#5\"{HTTP.TimeoutRequest.var\"#timeouts#3\"{HTTP.TimeoutRequest.var\"#timeouts#1#4\"{HTTP.ExceptionRequest.var\"#exceptions#2\"{HTTP.ExceptionRequest.var\"#exceptions#1#3\"{typeof(HTTP.StreamRequest.streamlayer)}}}}}}}}}}}}}}}})(method::String, url::URIs.URI, headers::Nothing, body::Vector{UInt8}; copyheaders::Bool, response_stream::Nothing, http_version::HTTP.Strings.HTTPVersion, verbose::Int64, kw::Base.Pairs{Symbol, Union{}, Tuple{}, NamedTuple{(), Tuple{}}})\n",
      "    @ HTTP.MessageRequest ~/.julia/packages/HTTP/SN7VW/src/clientlayers/MessageRequest.jl:35\n",
      "  [8] makerequest\n",
      "    @ ~/.julia/packages/HTTP/SN7VW/src/clientlayers/MessageRequest.jl:24 [inlined]\n",
      "  [9] request(stack::HTTP.MessageRequest.var\"#makerequest#3\"{HTTP.MessageRequest.var\"#makerequest#1#4\"{HTTP.RedirectRequest.var\"#redirects#3\"{HTTP.RedirectRequest.var\"#redirects#1#4\"{HTTP.HeadersRequest.var\"#defaultheaders#2\"{HTTP.HeadersRequest.var\"#defaultheaders#1#3\"{HTTP.CookieRequest.var\"#managecookies#4\"{HTTP.CookieRequest.var\"#managecookies#1#5\"{HTTP.RetryRequest.var\"#manageretries#3\"{HTTP.RetryRequest.var\"#manageretries#1#4\"{HTTP.ConnectionRequest.var\"#connections#4\"{HTTP.ConnectionRequest.var\"#connections#1#5\"{HTTP.TimeoutRequest.var\"#timeouts#3\"{HTTP.TimeoutRequest.var\"#timeouts#1#4\"{HTTP.ExceptionRequest.var\"#exceptions#2\"{HTTP.ExceptionRequest.var\"#exceptions#1#3\"{typeof(HTTP.StreamRequest.streamlayer)}}}}}}}}}}}}}}}}, method::String, url::String, h::Nothing, b::Vector{UInt8}, q::Nothing; headers::Nothing, body::Vector{UInt8}, query::Nothing, kw::Base.Pairs{Symbol, Union{}, Tuple{}, NamedTuple{(), Tuple{}}})\n",
      "    @ HTTP ~/.julia/packages/HTTP/SN7VW/src/HTTP.jl:457\n",
      " [10] request(stack::Function, method::String, url::String, h::Nothing, b::Vector{UInt8}, q::Nothing)\n",
      "    @ HTTP ~/.julia/packages/HTTP/SN7VW/src/HTTP.jl:455\n",
      " [11] #request#19\n",
      "    @ ~/.julia/packages/HTTP/SN7VW/src/HTTP.jl:315 [inlined]\n",
      " [12] request (repeats 2 times)\n",
      "    @ ~/.julia/packages/HTTP/SN7VW/src/HTTP.jl:313 [inlined]\n",
      " [13] #get#37\n",
      "    @ ~/.julia/packages/HTTP/SN7VW/src/HTTP.jl:518 [inlined]\n",
      " [14] get\n",
      "    @ ~/.julia/packages/HTTP/SN7VW/src/HTTP.jl:518 [inlined]\n",
      " [15] resolve(url::String)\n",
      "    @ STAC ~/.julia/packages/STAC/6vyHC/src/cache.jl:6\n",
      " [16] (::STAC.var\"#1#2\"{String})()\n",
      "    @ STAC ~/.julia/packages/STAC/6vyHC/src/cache.jl:13\n",
      " [17] get!(default::STAC.var\"#1#2\"{String}, lru::LRUCache.LRU{Any, Any}, key::String)\n",
      "    @ LRUCache ~/.julia/packages/LRUCache/NCFtW/src/LRUCache.jl:116\n",
      " [18] cached_resolve(url::String)\n",
      "    @ STAC ~/.julia/packages/STAC/6vyHC/src/cache.jl:11\n",
      " [19] STAC.Catalog(url::String)\n",
      "    @ STAC ~/.julia/packages/STAC/6vyHC/src/catalog.jl:101\n",
      " [20] top-level scope\n",
      "    @ ~/Documents/coding/JuliaEO2024/rcm_test.ipynb:2"
     ]
    }
   ],
   "source": [
    "\n",
    "eodms_cat = STAC.Catalog(url)\n",
    "\n"
   ]
  },
  {
   "cell_type": "code",
   "execution_count": 72,
   "metadata": {},
   "outputs": [
    {
     "ename": "KeyError",
     "evalue": "KeyError: key \"rcm\" not found",
     "output_type": "error",
     "traceback": [
      "KeyError: key \"rcm\" not found\n",
      "\n",
      "Stacktrace:\n",
      " [1] getindex\n",
      "   @ ~/.julia/packages/OrderedCollections/SInLM/src/ordered_dict.jl:385 [inlined]\n",
      " [2] getindex(ld::STAC.LazyOrderedDict{String, STAC.Catalog}, id::String)\n",
      "   @ STAC ~/.julia/packages/STAC/6vyHC/src/utils.jl:33\n",
      " [3] getindex(cat::STAC.Catalog, child_id::String)\n",
      "   @ STAC ~/.julia/packages/STAC/6vyHC/src/catalog.jl:156\n",
      " [4] top-level scope\n",
      "   @ ~/Documents/coding/JuliaEO2024/rcm_test.ipynb:1"
     ]
    }
   ],
   "source": [
    "s1 = eodms_cat[\"rcm\"]"
   ]
  },
  {
   "cell_type": "code",
   "execution_count": 59,
   "metadata": {},
   "outputs": [
    {
     "name": "stdout",
     "output_type": "stream",
     "text": [
      "s1 = sentinel-1\n",
      "Sentinel-1\n",
      "Sentinel-1 is a near real-time (NRT) dataset retrieved from ESA's [collaborative hubs](https://colhub.copernicus.eu/), not the open hub. Other sensors are updated as quickly as possible based on Canada coverage availability at the source. \n",
      "\n"
     ]
    },
    {
     "data": {
      "text/plain": [
       "\u001b[91m\u001b[1msentinel-1\u001b[22m\u001b[39m\n",
       "\u001b[0mSentinel-1\n",
       "\u001b[0mSentinel-1 is a near real-time (NRT) dataset retrieved from ESA's [collaborative hubs](https://colhub.copernicus.eu/), not the open hub. Other sensors are updated as quickly as possible based on Canada coverage availability at the source. \n"
      ]
     },
     "metadata": {},
     "output_type": "display_data"
    }
   ],
   "source": [
    "\n",
    "@show s1\n"
   ]
  },
  {
   "cell_type": "code",
   "execution_count": null,
   "metadata": {},
   "outputs": [],
   "source": [
    "subcat1 = subcat[\"rcm\"]"
   ]
  },
  {
   "cell_type": "code",
   "execution_count": 55,
   "metadata": {},
   "outputs": [
    {
     "data": {
      "text/plain": [
       "\u001b[91m\u001b[1mstac-catalog-eo\u001b[22m\u001b[39m\n",
       "\u001b[0mAn example STAC sub-catalog of EO Data\n",
       "Children:\n",
       "   * \u001b[36msentinel-s2-l1c\u001b[39m\u001b[0m: Sentinel 2 L1C\n",
       "   * \u001b[36mlandsat-8-l1\u001b[39m\u001b[0m: Landsat 8 L1\n"
      ]
     },
     "metadata": {},
     "output_type": "display_data"
    }
   ],
   "source": [
    "url = \"https://raw.githubusercontent.com/sat-utils/sat-stac/master/test/catalog/catalog.json\"\n",
    "catalog = STAC.Catalog(url)\n",
    "subcat = catalog[\"stac-catalog-eo\"]\n"
   ]
  },
  {
   "cell_type": "code",
   "execution_count": 56,
   "metadata": {},
   "outputs": [
    {
     "data": {
      "text/plain": [
       "\u001b[91m\u001b[1mlandsat-8-l1\u001b[22m\u001b[39m\n",
       "\u001b[0mLandsat 8 L1\n",
       "\u001b[0mLandat 8 imagery radiometrically calibrated and orthorectified using gound points and Digital Elevation Model (DEM) data to correct relief displacement.\n",
       "Items:\n",
       "   * \u001b[36mLC08_L1TP_152038_20200611_20200611_01_RT\u001b[39m\n"
      ]
     },
     "metadata": {},
     "output_type": "display_data"
    }
   ],
   "source": [
    "subcat1 = subcat[\"landsat-8-l1\"]"
   ]
  },
  {
   "cell_type": "code",
   "execution_count": 58,
   "metadata": {},
   "outputs": [
    {
     "name": "stdout",
     "output_type": "stream",
     "text": [
      "subcat1 = landsat-8-l1\n",
      "Landsat 8 L1\n",
      "Landat 8 imagery radiometrically calibrated and orthorectified using gound points and Digital Elevation Model (DEM) data to correct relief displacement.\n",
      "Items:\n",
      "   * LC08_L1TP_152038_20200611_20200611_01_RT\n",
      "\n"
     ]
    },
    {
     "data": {
      "text/plain": [
       "\u001b[91m\u001b[1mlandsat-8-l1\u001b[22m\u001b[39m\n",
       "\u001b[0mLandsat 8 L1\n",
       "\u001b[0mLandat 8 imagery radiometrically calibrated and orthorectified using gound points and Digital Elevation Model (DEM) data to correct relief displacement.\n",
       "Items:\n",
       "   * \u001b[36mLC08_L1TP_152038_20200611_20200611_01_RT\u001b[39m\n"
      ]
     },
     "metadata": {},
     "output_type": "display_data"
    }
   ],
   "source": []
  },
  {
   "cell_type": "code",
   "execution_count": null,
   "metadata": {},
   "outputs": [],
   "source": []
  }
 ],
 "metadata": {
  "kernelspec": {
   "display_name": "Julia 1.8.2",
   "language": "julia",
   "name": "julia-1.8"
  },
  "language_info": {
   "file_extension": ".jl",
   "mimetype": "application/julia",
   "name": "julia",
   "version": "1.8.2"
  }
 },
 "nbformat": 4,
 "nbformat_minor": 2
}
