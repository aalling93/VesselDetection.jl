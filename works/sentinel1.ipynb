{
 "cells": [
  {
   "cell_type": "code",
   "execution_count": 1,
   "metadata": {},
   "outputs": [
    {
     "name": "stderr",
     "output_type": "stream",
     "text": [
      "┌ Warning: Replacing docs for `Main.Test_name.Download.Metadata.to_rcm_time :: Tuple{String}` in module `Main.Test_name.Download.Metadata`\n",
      "└ @ Base.Docs docs/Docs.jl:243\n",
      "┌ Warning: Replacing docs for `Main.Test_name.Download.Metadata.get_bbox :: Tuple{Any}` in module `Main.Test_name.Download.Metadata`\n",
      "└ @ Base.Docs docs/Docs.jl:243\n",
      "┌ Warning: Replacing docs for `Main.Test_name.Download.Metadata.bounding_box_to_geojson :: Tuple{}` in module `Main.Test_name.Download.Metadata`\n",
      "└ @ Base.Docs docs/Docs.jl:243\n",
      "┌ Warning: Replacing docs for `Main.Test_name.Download.Metadata.coordinate_to_geojson :: Union{Tuple{T}, Tuple{T, T}} where T<:Real` in module `Main.Test_name.Download.Metadata`\n",
      "└ @ Base.Docs docs/Docs.jl:243\n",
      "┌ Warning: Replacing docs for `Main.Test_name.Download.Metadata.wkt_to_tuples :: Tuple{Any}` in module `Main.Test_name.Download.Metadata`\n",
      "└ @ Base.Docs docs/Docs.jl:243\n"
     ]
    }
   ],
   "source": [
    "using Pkg\n",
    "using DotEnv\n",
    "include(\"src/test_name.jl\")\n",
    "using .Test_name"
   ]
  },
  {
   "cell_type": "code",
   "execution_count": 2,
   "metadata": {},
   "outputs": [],
   "source": [
    "DotEnv.config();"
   ]
  },
  {
   "cell_type": "markdown",
   "metadata": {},
   "source": [
    "# metadata"
   ]
  },
  {
   "cell_type": "code",
   "execution_count": 3,
   "metadata": {},
   "outputs": [],
   "source": [
    "access_token = Test_name.Download.get_access_token_copernicus(username = get(ENV, \"DATASPACE_USERNAME\", \"\"), password = get(ENV, \"DATASPACE_PASSWORD\", \"\"));"
   ]
  },
  {
   "cell_type": "code",
   "execution_count": 4,
   "metadata": {},
   "outputs": [
    {
     "data": {
      "text/plain": [
       "\"eyJhbGciOiJSUzI1NiIsInR5cCIgOiAiSldUIiwia2lkIiA6ICJYVUh3VWZKaHVDVWo0X3k4ZF8xM0hxWXBYMFdwdDd2anhob2FPLUxzREZFIn0.eyJleHAiOjE3MDM3NzI2MjYsImlhdCI6MTcwMzc3MjAyNiwianRpIjoiMjQyOTA2YTEtNzFiOS00ZTRlLThkNWMtMmY3NjUwZWM3YjNhIiwiaXNzIjoiaHR0cHM6Ly9pZGVudGl0eS5kYXRhc3BhY2UuY29wZX\" ⋯ 1869 bytes ⋯ \"KbWHxUsoi5uBXzj04Y82qmpfhybLg_h-o9NDSg2OpslarxnEcobn6mDg87kYKIsKkGwoVd43WyL9nHLhBH9uZlZg_LNlvDlYY3ZB4j10Rl0qqxpAcobmi3TSfiPAJISIvo3HtZ5cT7jv8S6fasVpwyx1p694OOlbcVve-3sy8rXLwoRZXp8XOHrc6XJrJC3XDPAM1lc7bw4D9r4_oDsm6aaIp5gm2mpgx6j9xDnN0HEHfIeEsPBrASdb8wil9vys468p-O2seKYoQQ\""
      ]
     },
     "metadata": {},
     "output_type": "display_data"
    }
   ],
   "source": [
    "access_token"
   ]
  },
  {
   "cell_type": "code",
   "execution_count": null,
   "metadata": {},
   "outputs": [],
   "source": [
    "lat = 64.1743\n",
    "lon = 51.73"
   ]
  },
  {
   "cell_type": "code",
   "execution_count": null,
   "metadata": {},
   "outputs": [],
   "source": [
    "bbox = Test_name.Download.Metadata.get_bbox([lat, lon])\n",
    "json = Test_name.Download.Metadata.coordinate_to_geojson(lat, lon)"
   ]
  },
  {
   "cell_type": "code",
   "execution_count": null,
   "metadata": {},
   "outputs": [],
   "source": [
    "using Test\n",
    "\n",
    "# Test for get_bbox function\n",
    "\n",
    "# Test with valid inputs\n",
    "@test get_bbox([10, 20]) == \"10.0,20.0,10.0,20.0\"\n",
    "@test get_bbox([10, 20, 30, 40]) == \"10.0,20.0,30.0,40.0\"\n",
    "@test get_bbox(\"10,20\") == \"10.0,20.0,10.0,20.0\"\n",
    "@test get_bbox(\"10,20,30,40\") == \"10.0,20.0,30.0,40.0\"\n",
    "\n",
    "# Additional tests as previously provided\n",
    "\n",
    "println(\"All tests passed!\")\n"
   ]
  },
  {
   "cell_type": "code",
   "execution_count": null,
   "metadata": {},
   "outputs": [],
   "source": []
  },
  {
   "cell_type": "code",
   "execution_count": null,
   "metadata": {},
   "outputs": [],
   "source": []
  },
  {
   "cell_type": "code",
   "execution_count": null,
   "metadata": {},
   "outputs": [],
   "source": [
    "area = get_bbox([lat,lon])"
   ]
  },
  {
   "cell_type": "code",
   "execution_count": null,
   "metadata": {},
   "outputs": [],
   "source": [
    "data = Test_name.Download.Metadata.download_metadata_copernicus(bbox=area,\n",
    "start_datetime=\"2023-11-01T00:00:00Z\", \n",
    "end_datetime=\"2023-11-26T23:59:59Z\", \n",
    "max_records=\"999\",\n",
    "collection=\"Sentinel1\",\n",
    "product_type= \"GRD\",\n",
    "verbose=1);\n",
    "\n",
    "df = Test_name.Download.Metadata.vector_of_dicts_to_dataframe(data[\"features\"]);\n"
   ]
  },
  {
   "cell_type": "code",
   "execution_count": null,
   "metadata": {},
   "outputs": [],
   "source": [
    "size(df)"
   ]
  },
  {
   "cell_type": "code",
   "execution_count": null,
   "metadata": {},
   "outputs": [],
   "source": [
    "Test_name.Download.Metadata.plot_polygons(df, \"geometry_coordinates_1\", \"properties_updated\")\n"
   ]
  },
  {
   "cell_type": "code",
   "execution_count": null,
   "metadata": {},
   "outputs": [],
   "source": [
    "df"
   ]
  },
  {
   "cell_type": "markdown",
   "metadata": {},
   "source": [
    " Download"
   ]
  },
  {
   "cell_type": "code",
   "execution_count": null,
   "metadata": {},
   "outputs": [],
   "source": [
    "#Test_name.Download.Products.download_product_copernicus(access_token,df.id[2],\"/Users/kaaso/Documents/coding/JuliaEO2024/data/raw/$(df.id[2]).zip\")"
   ]
  },
  {
   "cell_type": "markdown",
   "metadata": {},
   "source": [
    "# Load Image"
   ]
  },
  {
   "cell_type": "code",
   "execution_count": null,
   "metadata": {},
   "outputs": [],
   "source": [
    "safe_folder = \"/Users/kaaso/Documents/coding/JuliaEO2024/data/S1A_IW_GRDH_1SDV_20220612T173329_20220612T173354_043633_05359A_EA25.SAFE\""
   ]
  },
  {
   "cell_type": "code",
   "execution_count": null,
   "metadata": {},
   "outputs": [],
   "source": [
    "test_img = Test_name.Sensors.Sentinel1.Sentinel1GRD(safe_folder)"
   ]
  },
  {
   "cell_type": "code",
   "execution_count": null,
   "metadata": {},
   "outputs": [],
   "source": [
    "Test_name.Visualize.sar2gray(test_img.data[1],p_quantile=0.99)"
   ]
  },
  {
   "cell_type": "code",
   "execution_count": null,
   "metadata": {},
   "outputs": [],
   "source": [
    "Test_name.Visualize.sar2gray(test_img.data[1][13000:13500,20000:20350],p_quantile=0.99)"
   ]
  },
  {
   "cell_type": "code",
   "execution_count": null,
   "metadata": {},
   "outputs": [],
   "source": [
    "Test_name.Visualize.sar2gray(test_img.data[1][13200:13300,20060:20150],p_quantile=0.99)"
   ]
  },
  {
   "cell_type": "markdown",
   "metadata": {},
   "source": [
    "## Stats"
   ]
  },
  {
   "cell_type": "code",
   "execution_count": null,
   "metadata": {},
   "outputs": [],
   "source": [
    "Test_name.Analysis.image_statistics(test_img.data[1])"
   ]
  },
  {
   "cell_type": "markdown",
   "metadata": {},
   "source": [
    "## Coordinate"
   ]
  },
  {
   "cell_type": "markdown",
   "metadata": {},
   "source": [
    "let say we found ships in these coordinates:"
   ]
  },
  {
   "cell_type": "code",
   "execution_count": null,
   "metadata": {},
   "outputs": [],
   "source": [
    "rows = [13250, 20080, 13120, 10,30,1000,10023,5212,1233,2222];\n",
    "columns = [20080, 13250, 5510,10,30,1000,10023,5212,1233,2222];"
   ]
  },
  {
   "cell_type": "code",
   "execution_count": null,
   "metadata": {},
   "outputs": [],
   "source": [
    "struct CubicSpline\n",
    "    x::Vector{Float64}\n",
    "    y::Vector{Float64}\n",
    "    a::Vector{Float64}\n",
    "    b::Vector{Float64}\n",
    "    c::Vector{Float64}\n",
    "    d::Vector{Float64}\n",
    "end\n",
    "\n",
    "function calculateCubicSplineCoefficients(x, y)\n",
    "    n = length(x)\n",
    "    a = copy(y)\n",
    "\n",
    "    # Calculate the coefficients b, c, d\n",
    "    b = zeros(n)\n",
    "    d = zeros(n)\n",
    "    h = diff(x)\n",
    "    alpha = [0; 3 ./ h[2:end] .* (a[3:end] - a[2:end-1]) - 3 ./ h[1:end-1] .* (a[2:end-1] - a[1:end-2])]\n",
    "\n",
    "    c = zeros(n)\n",
    "    l = zeros(n)\n",
    "    mu = zeros(n)\n",
    "    z = zeros(n)\n",
    "\n",
    "    l[1] = 1\n",
    "    mu[1] = 0\n",
    "    z[1] = 0\n",
    "\n",
    "    for i in 2:(n-1)\n",
    "        l[i] = 2 * (x[i+1] - x[i-1]) - h[i-1] * mu[i-1]\n",
    "        mu[i] = h[i] / l[i]\n",
    "        z[i] = (alpha[i] - h[i-1] * z[i-1]) / l[i]\n",
    "    end\n",
    "\n",
    "    l[n] = 1\n",
    "    z[n] = 0\n",
    "    c[n] = 0\n",
    "\n",
    "    for j in (n-1):-1:1\n",
    "        c[j] = z[j] - mu[j] * c[j+1]\n",
    "        b[j] = (a[j+1] - a[j]) / h[j] - h[j] * (c[j+1] + 2 * c[j]) / 3\n",
    "        d[j] = (c[j+1] - c[j]) / (3 * h[j])\n",
    "    end\n",
    "\n",
    "    return a, b, c, d\n",
    "end\n",
    "\n",
    "function createCubicSpline(x::Vector{Float64}, y::Vector{Float64})\n",
    "    a, b, c, d = calculateCubicSplineCoefficients(x, y)\n",
    "    return CubicSpline(x, y, a, b, c, d)\n",
    "end\n",
    "\n",
    "function evaluate(spline::CubicSpline, x_val::Float64)\n",
    "    # Find the right place in the array\n",
    "    i = findlast(spline.x .<= x_val)\n",
    "    if i == nothing || i == length(spline.x)\n",
    "        throw(DomainError(x_val, \"Value outside of spline range.\"))\n",
    "    end\n",
    "\n",
    "    dx = x_val - spline.x[i]\n",
    "    return spline.a[i] + spline.b[i] * dx + spline.c[i] * dx^2 + spline.d[i] * dx^3\n",
    "end\n",
    "\n"
   ]
  },
  {
   "cell_type": "code",
   "execution_count": null,
   "metadata": {},
   "outputs": [],
   "source": [
    "# Example usage\n",
    "x = [1.0, 2.0, 3.0, 4.0]\n",
    "y = [1.0, 4.0, 9.0, 16.0]\n",
    "\n",
    "spline = createCubicSpline(x, y)\n",
    "println(evaluate(spline, 2.5))  # Evaluate the spline at x = 2.5\n"
   ]
  },
  {
   "cell_type": "code",
   "execution_count": null,
   "metadata": {},
   "outputs": [],
   "source": [
    "# Now, the interpolateDataForPoints function\n",
    "function interpolateDataForPoints5(wanted_rows, wanted_columns, rows, columns, lats, lons, incidenceangle, height, azimuth_time, slant_range_time_seconds, elevation_angle)\n",
    "    # Create cubic splines for each parameter\n",
    "    lat_spline = createCubicSpline(rows, lats)\n",
    "    lon_spline = createCubicSpline(rows, lons)\n",
    "    incidence_spline = createCubicSpline(rows, incidenceangle)\n",
    "    height_spline = createCubicSpline(rows, height)\n",
    "    azimuth_spline = createCubicSpline(rows, azimuth_time)\n",
    "    slant_range_spline = createCubicSpline(rows, slant_range_time_seconds)\n",
    "    elevation_spline = createCubicSpline(rows, elevation_angle)\n",
    "\n",
    "    # Initialize vectors for the interpolated values\n",
    "    interpolated_lats = Float64[]\n",
    "    interpolated_lons = Float64[]\n",
    "    interpolated_incidence = Float64[]\n",
    "    interpolated_height = Float64[]\n",
    "    interpolated_azimuth = Float64[]\n",
    "    interpolated_slant_range = Float64[]\n",
    "    interpolated_elevation = Float64[]\n",
    "\n",
    "    # Interpolate for each pair of wanted rows and columns\n",
    "    for (row, col) in zip(wanted_rows, wanted_columns)\n",
    "        push!(interpolated_lats, evaluate(lat_spline, row))\n",
    "        push!(interpolated_lons, evaluate(lon_spline, row))\n",
    "        push!(interpolated_incidence, evaluate(incidence_spline, row))\n",
    "        push!(interpolated_height, evaluate(height_spline, row))\n",
    "        push!(interpolated_azimuth, evaluate(azimuth_spline, row))\n",
    "        push!(interpolated_slant_range, evaluate(slant_range_spline, row))\n",
    "        push!(interpolated_elevation, evaluate(elevation_spline, row))\n",
    "    end\n",
    "\n",
    "    # Return the results in a dictionary\n",
    "    return Dict(\"rows\" => wanted_rows, \"columns\" => wanted_columns, \"latitudes\" => interpolated_lats, \"longitudes\" => interpolated_lons, \"incidence_angles\" => interpolated_incidence, \"heights\" => interpolated_height, \"azimuth_times\" => interpolated_azimuth, \"slant_range_times\" => interpolated_slant_range, \"elevation_angles\" => interpolated_elevation)\n",
    "end\n"
   ]
  },
  {
   "cell_type": "code",
   "execution_count": null,
   "metadata": {},
   "outputs": [],
   "source": []
  },
  {
   "cell_type": "code",
   "execution_count": null,
   "metadata": {},
   "outputs": [],
   "source": [
    "x_values = [1, 2, 3, 4, 5]\n",
    "y_values = [1, 2, 3, 4, 5]\n",
    "x, y = 3.1, 3.5\n",
    "findNearestPoints(x, y, x_values, y_values)"
   ]
  },
  {
   "cell_type": "code",
   "execution_count": null,
   "metadata": {},
   "outputs": [],
   "source": [
    "sentinel1_metadata = test_img.metadata"
   ]
  },
  {
   "cell_type": "code",
   "execution_count": null,
   "metadata": {},
   "outputs": [],
   "source": []
  },
  {
   "cell_type": "code",
   "execution_count": null,
   "metadata": {},
   "outputs": [],
   "source": [
    "rows = sentinel1_metadata.geolocation.lines \n",
    "columns = sentinel1_metadata.geolocation.samples\n",
    "\n",
    "lats = sentinel1_metadata.geolocation.latitude\n",
    "lons = sentinel1_metadata.geolocation.longitude\n",
    "\n",
    "incidenceangle = sentinel1_metadata.geolocation.incidence_angle\n",
    "height = sentinel1_metadata.geolocation.height\n",
    "azimuth_time = sentinel1_metadata.geolocation.azimuth_time\n",
    "slant_range_time_seconds = sentinel1_metadata.geolocation.slant_range_time_seconds\n",
    "elevation_angle = sentinel1_metadata.geolocation.elevation_angle;"
   ]
  },
  {
   "cell_type": "code",
   "execution_count": null,
   "metadata": {},
   "outputs": [],
   "source": [
    "row, colm = 9999, 4010  # 9213, 10529, x y \n",
    "\n",
    "findNearestPoints(row, colm,rows, columns)"
   ]
  },
  {
   "cell_type": "code",
   "execution_count": null,
   "metadata": {},
   "outputs": [],
   "source": [
    "\"\"\"\n",
    "    findNearestPoints(x, y, x_values, y_values)\n",
    "\n",
    "Find the four points forming a bounding box around the point (x, y) in a 2D grid. \n",
    "These points are the nearest known points from the provided `x_values` and `y_values` arrays.\n",
    "\n",
    "# Arguments\n",
    "- `x`: The x-coordinate of the target point.\n",
    "- `y`: The y-coordinate of the target point.\n",
    "- `x_values`: An array of x-coordinates of known points.\n",
    "- `y_values`: An array of y-coordinates of known points.\n",
    "\n",
    "# Returns\n",
    "A tuple of four integers, representing the indices of the points in `x_values` and `y_values` \n",
    "that form the bounding box around the point (x, y). The indices are returned in the following order: \n",
    "index of left boundary along x-axis, index of right boundary along x-axis, \n",
    "index of bottom boundary along y-axis, and index of top boundary along y-axis.\n",
    "\n",
    "# Example\n",
    "```julia\n",
    "x_values = [1, 2, 3, 4, 5]\n",
    "y_values = [1, 2, 3, 4, 5]\n",
    "x, y = 2.5, 3.5\n",
    "findNearestPoints(x, y, x_values, y_values)\n",
    "\"\"\"\n",
    "function findNearestPoints(column, row, columns, rows)\n",
    "\n",
    "    x = column \n",
    "    y = row \n",
    "    x_values = columns\n",
    "    y_values = rows\n",
    "\n",
    "    # Find the four points forming a bounding box around (x, y)\n",
    "    #sorted_x = sortperm(x_values)\n",
    "    #sorted_y = sortperm(y_values)\n",
    "    sorted_x = x_values\n",
    "    sorted_y = y_values\n",
    "\n",
    "    #x1_idx = findlast(x_values .<= x)\n",
    "    #x2_idx = findfirst(x_values .>= x)\n",
    "    #y1_idx = findlast(y_values .<= y)\n",
    "    #y2_idx = findfirst(y_values .>= y)#\n",
    "\n",
    "    x1_idx = findlast(x_values .<= x)\n",
    "    x2_idx = findfirst(x_values.>= x)\n",
    "    y1_idx = findlast(y_values.<= y)\n",
    "    y2_idx = findfirst(y_values .>= y)\n",
    "\n",
    "    # Handle edge cases\n",
    "    x1_idx = x1_idx === nothing ? 1 : x1_idx\n",
    "    x2_idx = x2_idx === nothing ? length(x_values) : x2_idx\n",
    "    y1_idx = y1_idx === nothing ? 1 : y1_idx\n",
    "    y2_idx = y2_idx === nothing ? length(y_values) : y2_idx\n",
    "\n",
    "    return sorted_x[x1_idx], sorted_x[x2_idx], sorted_y[y1_idx], sorted_y[y2_idx]\n",
    "end"
   ]
  },
  {
   "cell_type": "code",
   "execution_count": null,
   "metadata": {},
   "outputs": [],
   "source": [
    "columns[5]"
   ]
  },
  {
   "cell_type": "code",
   "execution_count": null,
   "metadata": {},
   "outputs": [],
   "source": [
    "rows[105]"
   ]
  },
  {
   "cell_type": "code",
   "execution_count": null,
   "metadata": {},
   "outputs": [],
   "source": [
    "rows[106]"
   ]
  },
  {
   "cell_type": "code",
   "execution_count": null,
   "metadata": {},
   "outputs": [],
   "source": [
    "column, row, columns, rows"
   ]
  },
  {
   "cell_type": "code",
   "execution_count": null,
   "metadata": {},
   "outputs": [],
   "source": [
    "columns[108]"
   ]
  },
  {
   "cell_type": "code",
   "execution_count": null,
   "metadata": {},
   "outputs": [],
   "source": [
    "columns"
   ]
  },
  {
   "cell_type": "code",
   "execution_count": null,
   "metadata": {},
   "outputs": [],
   "source": [
    "\"\"\"\n",
    "    findNearestPoints(x, y, x_values, y_values)\n",
    "\n",
    "Find the four points forming a bounding box around the point (x, y) in a 2D grid. \n",
    "These points are the nearest known points from the provided `x_values` and `y_values` arrays.\n",
    "\n",
    "# Arguments\n",
    "- `x`: The x-coordinate of the target point.\n",
    "- `y`: The y-coordinate of the target point.\n",
    "- `x_values`: An array of x-coordinates of known points.\n",
    "- `y_values`: An array of y-coordinates of known points.\n",
    "\n",
    "# Returns\n",
    "A tuple of four integers, representing the indices of the points in `x_values` and `y_values` \n",
    "that form the bounding box around the point (x, y). The indices are returned in the following order: \n",
    "index of left boundary along x-axis, index of right boundary along x-axis, \n",
    "index of bottom boundary along y-axis, and index of top boundary along y-axis.\n",
    "\n",
    "# Example\n",
    "```julia\n",
    "x_values = [1, 2, 3, 4, 5]\n",
    "y_values = [1, 2, 3, 4, 5]\n",
    "x, y = 2.5, 3.5\n",
    "findNearestPoints(x, y, x_values, y_values)\n",
    "\"\"\"\n",
    "function findNearestPoints(column, row, columns, rows)\n",
    "\n",
    "    x = column \n",
    "    y = row \n",
    "    x_values = columns\n",
    "    y_values = rows\n",
    "\n",
    "    # Find the four points forming a bounding box around (x, y)\n",
    "    #sorted_x = sortperm(x_values)\n",
    "    #sorted_y = sortperm(y_values)\n",
    "    sorted_x = x_values\n",
    "    sorted_y = y_values\n",
    "\n",
    "    #x1_idx = findlast(x_values .<= x)\n",
    "    #x2_idx = findfirst(x_values .>= x)\n",
    "    #y1_idx = findlast(y_values .<= y)\n",
    "    #y2_idx = findfirst(y_values .>= y)#\n",
    "\n",
    "    x1_idx = findlast(x_values[sorted_x] .<= x)\n",
    "    x2_idx = findfirst(x_values[sorted_x] .>= x)\n",
    "    y1_idx = findlast(y_values[sorted_y] .<= y)\n",
    "    y2_idx = findfirst(y_values[sorted_y] .>= y)\n",
    "\n",
    "    # Handle edge cases\n",
    "    x1_idx = x1_idx === nothing ? 1 : x1_idx\n",
    "    x2_idx = x2_idx === nothing ? length(x_values) : x2_idx\n",
    "    y1_idx = y1_idx === nothing ? 1 : y1_idx\n",
    "    y2_idx = y2_idx === nothing ? length(y_values) : y2_idx\n",
    "\n",
    "    return sorted_x[x1_idx], sorted_x[x2_idx], sorted_y[y1_idx], sorted_y[y2_idx]\n",
    "end\n",
    "\n",
    "function bilinearInterpolation(x, y, x_values, y_values, z_values)\n",
    "    x1_idx, x2_idx, y1_idx, y2_idx = findNearestPoints(x, y, x_values, y_values)\n",
    "\n",
    "    # Extract the coordinates of the four points\n",
    "    x1, x2 = x_values[x1_idx], x_values[x2_idx]\n",
    "    y1, y2 = y_values[y1_idx], y_values[y2_idx]\n",
    "\n",
    "    # Values at the corners of the rectangle\n",
    "    Q11 = z_values[x1_idx]\n",
    "    Q12 = z_values[y1_idx]\n",
    "    Q21 = z_values[x2_idx]\n",
    "    Q22 = z_values[y2_idx]\n",
    "\n",
    "    # Bilinear interpolation formula\n",
    "    fxy1 = ((x2 - x) / (x2 - x1)) * Q11 + ((x - x1) / (x2 - x1)) * Q21\n",
    "    fxy2 = ((x2 - x) / (x2 - x1)) * Q12 + ((x - x1) / (x2 - x1)) * Q22\n",
    "    fxy = ((y2 - y) / (y2 - y1)) * fxy1 + ((y - y1) / (y2 - y1)) * fxy2\n",
    "\n",
    "    return fxy\n",
    "end\n",
    "\n",
    "function interpolateDataForPoints9(wanted_rows, wanted_columns, rows, columns, lats, lons, incidenceangle, height, azimuth_time, slant_range_time_seconds, elevation_angle)\n",
    "    interpolated_lats = Float64[]\n",
    "    interpolated_lons = Float64[]\n",
    "    interpolated_incidence = Float64[]\n",
    "    interpolated_height = Float64[]\n",
    "    interpolated_azimuth = Float64[]\n",
    "    interpolated_slant_range = Float64[]\n",
    "    interpolated_elevation = Float64[]\n",
    "\n",
    "    for (row, col) in zip(wanted_rows, wanted_columns)\n",
    "        push!(interpolated_lats, bilinearInterpolation(row, col, rows, columns, lats))\n",
    "        push!(interpolated_lons, bilinearInterpolation(row, col, rows, columns, lons))\n",
    "        push!(interpolated_incidence, bilinearInterpolation(row, col, rows, columns, incidenceangle))\n",
    "        push!(interpolated_height, bilinearInterpolation(row, col, rows, columns, height))\n",
    "        push!(interpolated_azimuth, bilinearInterpolation(row, col, rows, columns, azimuth_time))\n",
    "        push!(interpolated_slant_range, bilinearInterpolation(row, col, rows, columns, slant_range_time_seconds))\n",
    "        push!(interpolated_elevation, bilinearInterpolation(row, col, rows, columns, elevation_angle))\n",
    "    end\n",
    "\n",
    "    return Dict(\"rows\" => wanted_rows, \"columns\" => wanted_columns, \"latitudes\" => interpolated_lats, \"longitudes\" => interpolated_lons, \"incidence_angles\" => interpolated_incidence, \"heights\" => interpolated_height, \"azimuth_times\" => interpolated_azimuth, \"slant_range_times\" => interpolated_slant_range, \"elevation_angles\" => interpolated_elevation)\n",
    "end\n"
   ]
  },
  {
   "cell_type": "code",
   "execution_count": null,
   "metadata": {},
   "outputs": [],
   "source": []
  },
  {
   "cell_type": "code",
   "execution_count": null,
   "metadata": {},
   "outputs": [],
   "source": []
  },
  {
   "cell_type": "code",
   "execution_count": null,
   "metadata": {},
   "outputs": [],
   "source": [
    "function interpolateLatLonForPointsSentinel1(wanted_rows, wanted_columns, sentinel1_metadata)\n",
    "    rows = sentinel1_metadata.geolocation.lines \n",
    "    columns = sentinel1_metadata.geolocation.samples\n",
    "\n",
    "    lats = sentinel1_metadata.geolocation.latitude\n",
    "    lons = sentinel1_metadata.geolocation.longitude\n",
    "\n",
    "    incidenceangle = sentinel1_metadata.geolocation.incidence_angle\n",
    "    height = sentinel1_metadata.geolocation.height\n",
    "    azimuth_time = sentinel1_metadata.geolocation.azimuth_time\n",
    "    slant_range_time_seconds = sentinel1_metadata.geolocation.slant_range_time_seconds\n",
    "    elevation_angle = sentinel1_metadata.geolocation.elevation_angle\n",
    "\n",
    "\n",
    "    return interpolateDataForPoints9(wanted_rows, wanted_columns, rows, columns, lats, lons, incidenceangle, height, azimuth_time, slant_range_time_seconds, elevation_angle)\n",
    "end\n",
    "\n"
   ]
  },
  {
   "cell_type": "code",
   "execution_count": null,
   "metadata": {},
   "outputs": [],
   "source": [
    "#geoarray = GeoArrays.read(\"/Users/kaaso/Documents/coding/JuliaEO2024/data/S1A_IW_GRDH_1SDV_20220612T173329_20220612T173354_043633_05359A_EA25.SAFE/measurement/s1a-iw-grd-vv-20220612t173329-20220612t173354-043633-05359a-001.tiff\",\n",
    "#                        , masked=false, band=1)\n"
   ]
  },
  {
   "cell_type": "code",
   "execution_count": null,
   "metadata": {},
   "outputs": [],
   "source": [
    "#                        , masked=false, band=1) # remove this"
   ]
  },
  {
   "cell_type": "markdown",
   "metadata": {},
   "source": []
  },
  {
   "cell_type": "code",
   "execution_count": null,
   "metadata": {},
   "outputs": [],
   "source": [
    "Test_name.Visualize.sar2gray(test_img.data[1][13000:13500,19300:20100],p_quantile=0.99)"
   ]
  },
  {
   "cell_type": "code",
   "execution_count": null,
   "metadata": {},
   "outputs": [],
   "source": [
    "coords_and_stuff = interpolateLatLonForPointsSentinel1(columns,rows,test_img.metadata)"
   ]
  },
  {
   "cell_type": "code",
   "execution_count": null,
   "metadata": {},
   "outputs": [],
   "source": []
  },
  {
   "cell_type": "code",
   "execution_count": null,
   "metadata": {},
   "outputs": [],
   "source": [
    "coords_and_stuff = interpolateLatLonForPointsSentinel1(rows,columns,test_img.metadata)"
   ]
  },
  {
   "cell_type": "code",
   "execution_count": null,
   "metadata": {},
   "outputs": [],
   "source": [
    "#coords_and_stuff = Test_name.Sensors.Sentinel1.interpolateLatLonForPointsSentinel1(rows,columns,test_img.metadata)"
   ]
  },
  {
   "cell_type": "code",
   "execution_count": null,
   "metadata": {},
   "outputs": [],
   "source": [
    "fieldnames(Test_name.Sensors.Sentinel1.Sentinel1GeolocationGrid)"
   ]
  },
  {
   "cell_type": "code",
   "execution_count": null,
   "metadata": {},
   "outputs": [],
   "source": [
    "import ONNXRunTime as OX\n",
    "#using FLoops"
   ]
  },
  {
   "cell_type": "code",
   "execution_count": null,
   "metadata": {},
   "outputs": [],
   "source": [
    "model = OX.load_inference(\"/Users/kaaso/Documents/coding/JuliaEO2024/src/ship_detector/model/yolov8_ship_k5_more_parms_nms.onnx\")"
   ]
  },
  {
   "cell_type": "code",
   "execution_count": null,
   "metadata": {},
   "outputs": [],
   "source": [
    "test_img"
   ]
  },
  {
   "cell_type": "code",
   "execution_count": null,
   "metadata": {},
   "outputs": [],
   "source": []
  },
  {
   "cell_type": "code",
   "execution_count": null,
   "metadata": {},
   "outputs": [],
   "source": [
    "th = test_img.data[2][13000:13000+256*2-1,19300:19300+256*2-1];\n",
    "th = round.(Int64,(th./maximum(th)).*255);\n",
    "s = cat(th, th, th, dims=3)\n",
    "s = Float32.(permutedims(s, [3, 1, 2]));\n",
    "s = reshape(s, 1, 3, size(th)[1], size(th)[2])\n",
    "\n",
    "inpu = Dict(\"images\" => s)"
   ]
  },
  {
   "cell_type": "code",
   "execution_count": null,
   "metadata": {},
   "outputs": [],
   "source": [
    "using Images\n",
    "using Images, FileIO\n"
   ]
  },
  {
   "cell_type": "code",
   "execution_count": null,
   "metadata": {},
   "outputs": [],
   "source": [
    "res = model(inpu)"
   ]
  },
  {
   "cell_type": "code",
   "execution_count": null,
   "metadata": {},
   "outputs": [],
   "source": [
    "res[\"output0\"]"
   ]
  },
  {
   "cell_type": "code",
   "execution_count": null,
   "metadata": {},
   "outputs": [],
   "source": [
    "a = []\n",
    "ix = []\n",
    "prob = []\n",
    "x = []\n",
    "y = []\n",
    "width = []\n",
    "height = []\n",
    "\n",
    "\n",
    "for i in 1:size(res[\"output0\"][1,1,:])[1]\n",
    "    if res[\"output0\"][1,5,i] > 0.01\n",
    "        #push!(a, (i,res[\"output0\"][1,:,i]))\n",
    "        push!(a, (i,round.(Int64,res[\"output0\"][1,1:4,i]),Float64(res[\"output0\"][1,5,i])))\n",
    "        push!(ix,i)\n",
    "        push!(prob, Float64(res[\"output0\"][1,5,i]))\n",
    "        push!(x, round(Int64,res[\"output0\"][1,1,i]))   \n",
    "        push!(y, round(Int64,res[\"output0\"][1,2,i]))   \n",
    "        push!(width, round(Int64,res[\"output0\"][1,3,i]))   \n",
    "        push!(height, round(Int64,res[\"output0\"][1,4,i]))   \n",
    "        \n",
    "    end\n",
    "end\n",
    "\n",
    "resutls = Dict(\n",
    "    \"index\" => ix,\n",
    "    \"probability\" => prob,\n",
    "    \"x\" => x,\n",
    "    \"y\" => y,\n",
    "    \"width\" => width,\n",
    "    \"height\" => height\n",
    ")"
   ]
  },
  {
   "cell_type": "code",
   "execution_count": null,
   "metadata": {},
   "outputs": [],
   "source": [
    "resutls = Dict(\n",
    "    \"index\" => ix,\n",
    "    \"probability\" => prob,\n",
    "    \"x\" => x,\n",
    "    \"y\" => y,\n",
    "    \"width\" => width,\n",
    "    \"height\" => height\n",
    ")\n",
    "\n",
    "println(size(y))"
   ]
  },
  {
   "cell_type": "code",
   "execution_count": null,
   "metadata": {},
   "outputs": [],
   "source": [
    "\n",
    "# Example usage\n",
    "# image_matrix = <your 1536x1536 matrix>\n",
    "# bbox_dict = <your dictionary with bounding box details>\n",
    "plot_image_with_boxes2(th, resutls)"
   ]
  },
  {
   "cell_type": "code",
   "execution_count": null,
   "metadata": {},
   "outputs": [],
   "source": [
    "using Plots, Statistics\n",
    "\n",
    "function plot_image_with_boxes2(image_matrix, bbox_dict,p_quantile=0.99)\n",
    "\n",
    "    min_value = minimum(reshape(image_matrix,:))\n",
    "    factor = quantile(reshape(image_matrix,:),p_quantile) - min_value\n",
    "\n",
    "    clamp_value = quantile(vec(image_matrix), p_quantile)\n",
    "    clamped_image_matrix = clamp.(image_matrix, min(image_matrix...), clamp_value)\n",
    "\n",
    "    image_matrix = (image_matrix.-min_value)./factor\n",
    "\n",
    "\n",
    "    # Create a plot of the image\n",
    "    img_plot = heatmap(clamped_image_matrix, c=:grays, axis=false)\n",
    "\n",
    "    # Extract bounding box details\n",
    "    xs = bbox_dict[\"x\"]\n",
    "    ys = bbox_dict[\"y\"]\n",
    "    widths = bbox_dict[\"width\"]\n",
    "    heights = bbox_dict[\"height\"]\n",
    "\n",
    "    # Plot each bounding box\n",
    "    for i in 1:length(xs)\n",
    "        x_center = xs[i]\n",
    "        y_center = ys[i]\n",
    "        width = widths[i]\n",
    "        height = heights[i]\n",
    "\n",
    "        # Calculate the corners of the rectangle\n",
    "        x_left = x_center - width / 2\n",
    "        y_bottom = y_center - height / 2\n",
    "\n",
    "        # Draw the rectangle\n",
    "        plot!(img_plot, [x_left, x_left + width, x_left + width, x_left, x_left], \n",
    "                      [y_bottom, y_bottom, y_bottom + height, y_bottom + height, y_bottom], \n",
    "                      seriestype=:shape, linecolor=:red, fillalpha=0)\n",
    "    end\n",
    "\n",
    "    # Display the plot\n",
    "    display(img_plot)\n",
    "end\n",
    "\n"
   ]
  },
  {
   "cell_type": "code",
   "execution_count": null,
   "metadata": {},
   "outputs": [],
   "source": [
    "# specify the path to your local image file\n",
    "img_path = \"/Users/kaaso/Documents/coding/JuliaEO2024/0a0824ed-e2f9-47f4-bd59-ee53f9c399eb.png\"\n",
    "img = load(img_path)"
   ]
  },
  {
   "cell_type": "code",
   "execution_count": null,
   "metadata": {},
   "outputs": [],
   "source": [
    "size(in)"
   ]
  },
  {
   "cell_type": "code",
   "execution_count": null,
   "metadata": {},
   "outputs": [],
   "source": [
    "function get_input_array(img)\n",
    "\n",
    "    resized = imresize(img, (256, 256))\n",
    "    \n",
    "    mat = channelview(resized)\n",
    "    \n",
    "    original_array = Float32.(mat)\n",
    "    original_array = cat(original_array, original_array, original_array, dims=3)\n",
    "    return reshape(original_array, (1,size(original_array)...))\n",
    "    \n",
    " end"
   ]
  },
  {
   "cell_type": "code",
   "execution_count": null,
   "metadata": {},
   "outputs": [],
   "source": []
  },
  {
   "cell_type": "code",
   "execution_count": null,
   "metadata": {},
   "outputs": [],
   "source": [
    "res = model(in)"
   ]
  },
  {
   "cell_type": "code",
   "execution_count": null,
   "metadata": {},
   "outputs": [],
   "source": [
    "#x,y,width,height,"
   ]
  },
  {
   "cell_type": "code",
   "execution_count": null,
   "metadata": {},
   "outputs": [],
   "source": [
    "a"
   ]
  },
  {
   "cell_type": "code",
   "execution_count": null,
   "metadata": {},
   "outputs": [],
   "source": [
    "Test_name.Visualize.sar2gray(th[345:360,70:90],p_quantile=0.99)"
   ]
  },
  {
   "cell_type": "code",
   "execution_count": null,
   "metadata": {},
   "outputs": [],
   "source": []
  },
  {
   "cell_type": "code",
   "execution_count": null,
   "metadata": {},
   "outputs": [],
   "source": [
    "size(res[\"output0\"])"
   ]
  },
  {
   "cell_type": "code",
   "execution_count": null,
   "metadata": {},
   "outputs": [],
   "source": [
    "typeof(res[\"output0\"])"
   ]
  },
  {
   "cell_type": "code",
   "execution_count": null,
   "metadata": {},
   "outputs": [],
   "source": [
    "function filter_array(arr::Array{Float64, 3})\n",
    "    # Check if the size of the second dimension is at least 1\n",
    "    if size(arr, 2) < 1\n",
    "        error(\"The array does not have the required dimensions.\")\n",
    "    end\n",
    "\n",
    "    # Filter the array based on the condition\n",
    "    filtered = [arr[:, i, :] for i in 1:size(arr, 2) if arr[:, i, end] > 0.6]\n",
    "\n",
    "    # Concatenate the filtered elements back into an array\n",
    "    return cat(filtered..., dims=2)\n",
    "end"
   ]
  },
  {
   "cell_type": "code",
   "execution_count": null,
   "metadata": {},
   "outputs": [],
   "source": []
  },
  {
   "cell_type": "code",
   "execution_count": null,
   "metadata": {},
   "outputs": [],
   "source": [
    "a"
   ]
  },
  {
   "cell_type": "code",
   "execution_count": null,
   "metadata": {},
   "outputs": [],
   "source": [
    "(1,res[\"output0\"][1,:,2])"
   ]
  },
  {
   "cell_type": "code",
   "execution_count": null,
   "metadata": {},
   "outputs": [],
   "source": [
    "size(res[\"output0\"][1,1,:])"
   ]
  },
  {
   "cell_type": "code",
   "execution_count": null,
   "metadata": {},
   "outputs": [],
   "source": [
    "push!(a,(1,3,2))\n",
    "push!(a,(1,3,2))"
   ]
  },
  {
   "cell_type": "code",
   "execution_count": null,
   "metadata": {},
   "outputs": [],
   "source": []
  },
  {
   "cell_type": "code",
   "execution_count": null,
   "metadata": {},
   "outputs": [],
   "source": []
  },
  {
   "cell_type": "code",
   "execution_count": null,
   "metadata": {},
   "outputs": [],
   "source": [
    "size(res[\"output0\"])"
   ]
  },
  {
   "cell_type": "code",
   "execution_count": null,
   "metadata": {},
   "outputs": [],
   "source": [
    "res[\"output0\"][1,:,1]"
   ]
  },
  {
   "cell_type": "code",
   "execution_count": null,
   "metadata": {},
   "outputs": [],
   "source": [
    "filter_array(res)"
   ]
  },
  {
   "cell_type": "code",
   "execution_count": null,
   "metadata": {},
   "outputs": [],
   "source": [
    "# Create a boolean mask for the condition\n",
    "mask = res[:, 5, :] .> 0.6\n"
   ]
  },
  {
   "cell_type": "code",
   "execution_count": null,
   "metadata": {},
   "outputs": [],
   "source": [
    "\n",
    "# Use broadcasting to apply the mask to the entire array\n",
    "filtered_array = res[:, 5, :] .* ma"
   ]
  },
  {
   "cell_type": "code",
   "execution_count": null,
   "metadata": {},
   "outputs": [],
   "source": []
  }
 ],
 "metadata": {
  "kernelspec": {
   "display_name": "Julia 1.9.4",
   "language": "julia",
   "name": "julia-1.9"
  },
  "language_info": {
   "file_extension": ".jl",
   "mimetype": "application/julia",
   "name": "julia",
   "version": "1.9.4"
  }
 },
 "nbformat": 4,
 "nbformat_minor": 2
}
