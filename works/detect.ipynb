{
 "cells": [
  {
   "cell_type": "code",
   "execution_count": 1,
   "metadata": {},
   "outputs": [
    {
     "name": "stderr",
     "output_type": "stream",
     "text": [
      "┌ Warning: Replacing docs for `Main.Test_name.Download.Metadata.to_rcm_time :: Tuple{String}` in module `Main.Test_name.Download.Metadata`\n",
      "└ @ Base.Docs docs/Docs.jl:243\n",
      "┌ Warning: Replacing docs for `Main.Test_name.Download.Metadata.get_bbox :: Tuple{Any}` in module `Main.Test_name.Download.Metadata`\n",
      "└ @ Base.Docs docs/Docs.jl:243\n",
      "┌ Warning: Replacing docs for `Main.Test_name.Download.Metadata.bounding_box_to_geojson :: Tuple{}` in module `Main.Test_name.Download.Metadata`\n",
      "└ @ Base.Docs docs/Docs.jl:243\n",
      "┌ Warning: Replacing docs for `Main.Test_name.Download.Metadata.coordinate_to_geojson :: Union{Tuple{T}, Tuple{T, T}} where T<:Real` in module `Main.Test_name.Download.Metadata`\n",
      "└ @ Base.Docs docs/Docs.jl:243\n",
      "┌ Warning: Replacing docs for `Main.Test_name.Download.Metadata.wkt_to_tuples :: Tuple{Any}` in module `Main.Test_name.Download.Metadata`\n",
      "└ @ Base.Docs docs/Docs.jl:243\n"
     ]
    }
   ],
   "source": [
    "using Pkg\n",
    "using DotEnv\n",
    "include(\"src/test_name.jl\")\n",
    "using .Test_name"
   ]
  },
  {
   "cell_type": "code",
   "execution_count": 2,
   "metadata": {},
   "outputs": [],
   "source": [
    "safe_folder = \"/Users/kaaso/Documents/coding/JuliaEO2024/data/S1A_IW_GRDH_1SDV_20220612T173329_20220612T173354_043633_05359A_EA25.SAFE\";"
   ]
  },
  {
   "cell_type": "code",
   "execution_count": 3,
   "metadata": {},
   "outputs": [],
   "source": [
    "test_img = Test_name.Sensors.Sentinel1.Sentinel1GRD(safe_folder);"
   ]
  },
  {
   "cell_type": "code",
   "execution_count": 4,
   "metadata": {},
   "outputs": [],
   "source": [
    "\n",
    "# Define example transformation compose\n",
    "s1_transform = Test_name.Ship_detector.Transformation.TransformCompose([\n",
    "    Test_name.Ship_detector.Transformation.absolute,\n",
    "    x -> Test_name.Ship_detector.Transformation.clip_to_valid_range(x, amin=1, amax=65535),\n",
    "    Test_name.Ship_detector.Transformation.to_db,\n",
    "    x -> Test_name.Ship_detector.Transformation.min_max_scale(x, data_max=48.17, data_min=0, to_max=1, to_min=0),\n",
    "    x -> Test_name.Ship_detector.Transformation.two_to_three_channel(x, [1, 2, 2]),\n",
    "    Test_name.Ship_detector.Transformation.to_float32,\n",
    "]);\n"
   ]
  },
  {
   "cell_type": "code",
   "execution_count": 5,
   "metadata": {},
   "outputs": [],
   "source": [
    "test_img2 = s1_transform(test_img.data);"
   ]
  },
  {
   "cell_type": "code",
   "execution_count": 6,
   "metadata": {},
   "outputs": [],
   "source": [
    "import ONNXRunTime as OX\n",
    "#using FLoops"
   ]
  },
  {
   "cell_type": "code",
   "execution_count": 7,
   "metadata": {},
   "outputs": [
    {
     "data": {
      "text/plain": [
       "InferenceSession\n",
       "    input_names:        [\"images\"]\n",
       "    output_names:       [\"output0\"]\n",
       "    execution_provider: :cpu\n"
      ]
     },
     "metadata": {},
     "output_type": "display_data"
    }
   ],
   "source": [
    "model = OX.load_inference(\"/Users/kaaso/Documents/coding/JuliaEO2024/src/ship_detector/model/yolov8_ship_k5_more_parms_nms.onnx\")"
   ]
  },
  {
   "cell_type": "code",
   "execution_count": 8,
   "metadata": {},
   "outputs": [
    {
     "data": {
      "text/plain": [
       "3×16683×26316 Array{Float32, 3}:\n",
       "[:, :, 1] =\n",
       " 0.0  0.0  0.0  0.0  0.0  0.0  0.0  0.0  …  0.0  0.0  0.0  0.0  0.0  0.0  0.0\n",
       " 0.0  0.0  0.0  0.0  0.0  0.0  0.0  0.0     0.0  0.0  0.0  0.0  0.0  0.0  0.0\n",
       " 0.0  0.0  0.0  0.0  0.0  0.0  0.0  0.0     0.0  0.0  0.0  0.0  0.0  0.0  0.0\n",
       "\n",
       "[:, :, 2] =\n",
       " 0.0  0.0  0.0  0.0  0.0  0.0  0.0  0.0  …  0.0  0.0  0.0  0.0  0.0  0.0  0.0\n",
       " 0.0  0.0  0.0  0.0  0.0  0.0  0.0  0.0     0.0  0.0  0.0  0.0  0.0  0.0  0.0\n",
       " 0.0  0.0  0.0  0.0  0.0  0.0  0.0  0.0     0.0  0.0  0.0  0.0  0.0  0.0  0.0\n",
       "\n",
       "[:, :, 3] =\n",
       " 0.0  0.0  0.0  0.0  0.0  0.0  0.0  0.0  …  0.0  0.0  0.0  0.0  0.0  0.0  0.0\n",
       " 0.0  0.0  0.0  0.0  0.0  0.0  0.0  0.0     0.0  0.0  0.0  0.0  0.0  0.0  0.0\n",
       " 0.0  0.0  0.0  0.0  0.0  0.0  0.0  0.0     0.0  0.0  0.0  0.0  0.0  0.0  0.0\n",
       "\n",
       ";;; … \n",
       "\n",
       "[:, :, 26314] =\n",
       " 0.0  0.0  0.0  0.0  0.0  0.0  0.0  0.0  …  0.0  0.0  0.0  0.0  0.0  0.0  0.0\n",
       " 0.0  0.0  0.0  0.0  0.0  0.0  0.0  0.0     0.0  0.0  0.0  0.0  0.0  0.0  0.0\n",
       " 0.0  0.0  0.0  0.0  0.0  0.0  0.0  0.0     0.0  0.0  0.0  0.0  0.0  0.0  0.0\n",
       "\n",
       "[:, :, 26315] =\n",
       " 0.0  0.0  0.0  0.0  0.0  0.0  0.0  0.0  …  0.0  0.0  0.0  0.0  0.0  0.0  0.0\n",
       " 0.0  0.0  0.0  0.0  0.0  0.0  0.0  0.0     0.0  0.0  0.0  0.0  0.0  0.0  0.0\n",
       " 0.0  0.0  0.0  0.0  0.0  0.0  0.0  0.0     0.0  0.0  0.0  0.0  0.0  0.0  0.0\n",
       "\n",
       "[:, :, 26316] =\n",
       " 0.0  0.0  0.0  0.0  0.0  0.0  0.0  0.0  …  0.0  0.0  0.0  0.0  0.0  0.0  0.0\n",
       " 0.0  0.0  0.0  0.0  0.0  0.0  0.0  0.0     0.0  0.0  0.0  0.0  0.0  0.0  0.0\n",
       " 0.0  0.0  0.0  0.0  0.0  0.0  0.0  0.0     0.0  0.0  0.0  0.0  0.0  0.0  0.0"
      ]
     },
     "metadata": {},
     "output_type": "display_data"
    }
   ],
   "source": [
    "temp = deepcopy(test_img2)\n"
   ]
  },
  {
   "cell_type": "code",
   "execution_count": 9,
   "metadata": {},
   "outputs": [
    {
     "data": {
      "text/plain": [
       "(3, 16683, 26316)"
      ]
     },
     "metadata": {},
     "output_type": "display_data"
    }
   ],
   "source": [
    "size(temp)"
   ]
  },
  {
   "cell_type": "code",
   "execution_count": 10,
   "metadata": {},
   "outputs": [
    {
     "data": {
      "text/plain": [
       "1×3×16683×26316 Array{Float32, 4}:\n",
       "[:, :, 1, 1] =\n",
       " 0.0  0.0  0.0\n",
       "\n",
       "[:, :, 2, 1] =\n",
       " 0.0  0.0  0.0\n",
       "\n",
       "[:, :, 3, 1] =\n",
       " 0.0  0.0  0.0\n",
       "\n",
       ";;; … \n",
       "\n",
       "[:, :, 16681, 1] =\n",
       " 0.0  0.0  0.0\n",
       "\n",
       "[:, :, 16682, 1] =\n",
       " 0.0  0.0  0.0\n",
       "\n",
       "[:, :, 16683, 1] =\n",
       " 0.0  0.0  0.0\n",
       "\n",
       "[:, :, 1, 2] =\n",
       " 0.0  0.0  0.0\n",
       "\n",
       "[:, :, 2, 2] =\n",
       " 0.0  0.0  0.0\n",
       "\n",
       "[:, :, 3, 2] =\n",
       " 0.0  0.0  0.0\n",
       "\n",
       ";;; … \n",
       "\n",
       "[:, :, 16681, 2] =\n",
       " 0.0  0.0  0.0\n",
       "\n",
       "[:, :, 16682, 2] =\n",
       " 0.0  0.0  0.0\n",
       "\n",
       "[:, :, 16683, 2] =\n",
       " 0.0  0.0  0.0\n",
       "\n",
       "[:, :, 1, 3] =\n",
       " 0.0  0.0  0.0\n",
       "\n",
       "[:, :, 2, 3] =\n",
       " 0.0  0.0  0.0\n",
       "\n",
       "[:, :, 3, 3] =\n",
       " 0.0  0.0  0.0\n",
       "\n",
       ";;; … \n",
       "\n",
       "[:, :, 16681, 3] =\n",
       " 0.0  0.0  0.0\n",
       "\n",
       "[:, :, 16682, 3] =\n",
       " 0.0  0.0  0.0\n",
       "\n",
       "[:, :, 16683, 3] =\n",
       " 0.0  0.0  0.0\n",
       "\n",
       ";;;; … \n",
       "\n",
       "[:, :, 1, 26314] =\n",
       " 0.0  0.0  0.0\n",
       "\n",
       "[:, :, 2, 26314] =\n",
       " 0.0  0.0  0.0\n",
       "\n",
       "[:, :, 3, 26314] =\n",
       " 0.0  0.0  0.0\n",
       "\n",
       ";;; … \n",
       "\n",
       "[:, :, 16681, 26314] =\n",
       " 0.0  0.0  0.0\n",
       "\n",
       "[:, :, 16682, 26314] =\n",
       " 0.0  0.0  0.0\n",
       "\n",
       "[:, :, 16683, 26314] =\n",
       " 0.0  0.0  0.0\n",
       "\n",
       "[:, :, 1, 26315] =\n",
       " 0.0  0.0  0.0\n",
       "\n",
       "[:, :, 2, 26315] =\n",
       " 0.0  0.0  0.0\n",
       "\n",
       "[:, :, 3, 26315] =\n",
       " 0.0  0.0  0.0\n",
       "\n",
       ";;; … \n",
       "\n",
       "[:, :, 16681, 26315] =\n",
       " 0.0  0.0  0.0\n",
       "\n",
       "[:, :, 16682, 26315] =\n",
       " 0.0  0.0  0.0\n",
       "\n",
       "[:, :, 16683, 26315] =\n",
       " 0.0  0.0  0.0\n",
       "\n",
       "[:, :, 1, 26316] =\n",
       " 0.0  0.0  0.0\n",
       "\n",
       "[:, :, 2, 26316] =\n",
       " 0.0  0.0  0.0\n",
       "\n",
       "[:, :, 3, 26316] =\n",
       " 0.0  0.0  0.0\n",
       "\n",
       ";;; … \n",
       "\n",
       "[:, :, 16681, 26316] =\n",
       " 0.0  0.0  0.0\n",
       "\n",
       "[:, :, 16682, 26316] =\n",
       " 0.0  0.0  0.0\n",
       "\n",
       "[:, :, 16683, 26316] =\n",
       " 0.0  0.0  0.0"
      ]
     },
     "metadata": {},
     "output_type": "display_data"
    }
   ],
   "source": [
    "reshape(temp, 1, 3, size(temp)[2], size(temp)[3])\n"
   ]
  },
  {
   "cell_type": "code",
   "execution_count": 11,
   "metadata": {},
   "outputs": [],
   "source": []
  },
  {
   "cell_type": "code",
   "execution_count": 12,
   "metadata": {},
   "outputs": [
    {
     "data": {
      "text/plain": [
       "(3, 16683, 26316)"
      ]
     },
     "metadata": {},
     "output_type": "display_data"
    }
   ],
   "source": [
    "size(temp)"
   ]
  },
  {
   "cell_type": "code",
   "execution_count": 27,
   "metadata": {},
   "outputs": [],
   "source": [
    "inputs = Dict(\"images\" => temp)"
   ]
  },
  {
   "cell_type": "code",
   "execution_count": null,
   "metadata": {},
   "outputs": [],
   "source": [
    "res = model(in)"
   ]
  },
  {
   "cell_type": "code",
   "execution_count": null,
   "metadata": {},
   "outputs": [],
   "source": []
  }
 ],
 "metadata": {
  "kernelspec": {
   "display_name": "Julia 1.9.4",
   "language": "julia",
   "name": "julia-1.9"
  },
  "language_info": {
   "file_extension": ".jl",
   "mimetype": "application/julia",
   "name": "julia",
   "version": "1.9.4"
  }
 },
 "nbformat": 4,
 "nbformat_minor": 2
}
