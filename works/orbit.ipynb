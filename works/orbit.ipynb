{
 "cells": [
  {
   "cell_type": "code",
   "execution_count": 1,
   "metadata": {},
   "outputs": [
    {
     "name": "stderr",
     "output_type": "stream",
     "text": [
      "\u001b[32m\u001b[1m    Updating\u001b[22m\u001b[39m registry at `~/.julia/registries/General.toml`\n"
     ]
    },
    {
     "name": "stderr",
     "output_type": "stream",
     "text": [
      "\u001b[32m\u001b[1m   Resolving\u001b[22m\u001b[39m package versions...\n"
     ]
    },
    {
     "name": "stderr",
     "output_type": "stream",
     "text": [
      "\u001b[32m\u001b[1m  No Changes\u001b[22m\u001b[39m to `~/Documents/coding/JuliaEO2024/Project.toml`\n",
      "\u001b[32m\u001b[1m  No Changes\u001b[22m\u001b[39m to `~/Documents/coding/JuliaEO2024/Manifest.toml`\n"
     ]
    },
    {
     "name": "stderr",
     "output_type": "stream",
     "text": [
      "\u001b[32m\u001b[1m   Resolving\u001b[22m\u001b[39m package versions...\n"
     ]
    },
    {
     "name": "stderr",
     "output_type": "stream",
     "text": [
      "\u001b[32m\u001b[1m  No Changes\u001b[22m\u001b[39m to `~/Documents/coding/JuliaEO2024/Project.toml`\n",
      "\u001b[32m\u001b[1m  No Changes\u001b[22m\u001b[39m to `~/Documents/coding/JuliaEO2024/Manifest.toml`\n"
     ]
    },
    {
     "name": "stderr",
     "output_type": "stream",
     "text": [
      "\u001b[32m\u001b[1m   Resolving\u001b[22m\u001b[39m package versions...\n"
     ]
    },
    {
     "name": "stderr",
     "output_type": "stream",
     "text": [
      "\u001b[32m\u001b[1m  No Changes\u001b[22m\u001b[39m to `~/Documents/coding/JuliaEO2024/Project.toml`\n",
      "\u001b[32m\u001b[1m  No Changes\u001b[22m\u001b[39m to `~/Documents/coding/JuliaEO2024/Manifest.toml`\n"
     ]
    }
   ],
   "source": [
    "using Pkg\n",
    "Pkg.add(\"SatelliteToolbox\")\n",
    "Pkg.add(\"Plots\")\n",
    "Pkg.add(\"Dates\")\n"
   ]
  },
  {
   "cell_type": "code",
   "execution_count": 1,
   "metadata": {},
   "outputs": [
    {
     "name": "stderr",
     "output_type": "stream",
     "text": [
      "\u001b[91m\u001b[1mERROR: \u001b[22m\u001b[39m"
     ]
    },
    {
     "name": "stderr",
     "output_type": "stream",
     "text": [
      "LoadError: "
     ]
    },
    {
     "name": "stderr",
     "output_type": "stream",
     "text": [
      "ArgumentError: Package Accessors does not have Requires in its dependencies:\n",
      "- You may have a partially installed environment. Try `Pkg.instantiate()`\n",
      "  to ensure all packages in the environment are installed.\n",
      "- Or, if you have Accessors checked out for development and have\n",
      "  added Requires as a dependency but haven't updated your primary\n",
      "  environment's manifest file, try `Pkg.resolve()`.\n",
      "- Otherwise you may need to report an issue with Accessors\n",
      "Stacktrace:\n",
      " [1] \u001b[0m\u001b[1mmacro expansion\u001b[22m\n",
      "\u001b[90m   @ \u001b[39m\u001b[90m./\u001b[39m\u001b[90m\u001b[4mloading.jl:1167\u001b[24m\u001b[39m\u001b[90m [inlined]\u001b[39m\n",
      " [2] \u001b[0m\u001b[1mmacro expansion\u001b[22m\n",
      "\u001b[90m   @ \u001b[39m\u001b[90m./\u001b[39m\u001b[90m\u001b[4mlock.jl:223\u001b[24m\u001b[39m\u001b[90m [inlined]\u001b[39m\n",
      " [3] \u001b[0m\u001b[1mrequire\u001b[22m\u001b[0m\u001b[1m(\u001b[22m\u001b[90minto\u001b[39m::\u001b[0mModule, \u001b[90mmod\u001b[39m::\u001b[0mSymbol\u001b[0m\u001b[1m)\u001b[22m\n",
      "\u001b[90m   @ \u001b[39m\u001b[90mBase\u001b[39m \u001b[90m./\u001b[39m\u001b[90m\u001b[4mloading.jl:1144\u001b[24m\u001b[39m\n",
      " [4] top-level scope\n",
      "\u001b[90m   @ \u001b[39m\u001b[90m~/.julia/packages/Accessors/6nhOf/src/\u001b[39m\u001b[90m\u001b[4mAccessors.jl:8\u001b[24m\u001b[39m\n",
      " [5] \u001b[0m\u001b[1minclude\u001b[22m\n",
      "\u001b[90m   @ \u001b[39m\u001b[90m./\u001b[39m\u001b[90m\u001b[4mBase.jl:419\u001b[24m\u001b[39m\u001b[90m [inlined]\u001b[39m\n",
      " [6] \u001b[0m\u001b[1minclude_package_for_output\u001b[22m\u001b[0m\u001b[1m(\u001b[22m\u001b[90mpkg\u001b[39m::\u001b[0mBase.PkgId, \u001b[90minput\u001b[39m::\u001b[0mString, \u001b[90mdepot_path\u001b[39m::\u001b[0mVector\u001b[90m{String}\u001b[39m, \u001b[90mdl_load_path\u001b[39m::\u001b[0mVector\u001b[90m{String}\u001b[39m, \u001b[90mload_path\u001b[39m::\u001b[0mVector\u001b[90m{String}\u001b[39m, \u001b[90mconcrete_deps\u001b[39m::\u001b[0mVector\u001b[90m{Pair{Base.PkgId, UInt64}}\u001b[39m, \u001b[90msource\u001b[39m::\u001b[0mString\u001b[0m\u001b[1m)\u001b[22m\n",
      "\u001b[90m   @ \u001b[39m\u001b[90mBase\u001b[39m \u001b[90m./\u001b[39m\u001b[90m\u001b[4mloading.jl:1554\u001b[24m\u001b[39m\n",
      " [7] top-level scope\n",
      "\u001b[90m   @ \u001b[39m\u001b[90m\u001b[4mstdin:1\u001b[24m\u001b[39m\n",
      "in expression starting at /Users/kaaso/.julia/packages/Accessors/6nhOf/src/Accessors.jl:1\n",
      "in expression starting at stdin:1\n"
     ]
    },
    {
     "name": "stderr",
     "output_type": "stream",
     "text": [
      "\u001b[91m\u001b[1mERROR: \u001b[22m\u001b[39mLoadError: "
     ]
    },
    {
     "name": "stderr",
     "output_type": "stream",
     "text": [
      "Failed to precompile Accessors [7d9f7c33-5ae7-4f3b-8dc6-eff91059b697] to /Users/kaaso/.julia/compiled/v1.8/Accessors/jl_IA2bWP.\n",
      "Stacktrace:\n",
      "  [1] \u001b[0m\u001b[1merror\u001b[22m\u001b[0m\u001b[1m(\u001b[22m\u001b[90ms\u001b[39m::\u001b[0mString\u001b[0m\u001b[1m)\u001b[22m\n",
      "\u001b[90m    @ \u001b[39m\u001b[90mBase\u001b[39m \u001b[90m./\u001b[39m\u001b[90m\u001b[4merror.jl:35\u001b[24m\u001b[39m\n",
      "  [2] \u001b[0m\u001b[1mcompilecache\u001b[22m\u001b[0m\u001b[1m(\u001b[22m\u001b[90mpkg\u001b[39m::\u001b[0mBase.PkgId, \u001b[90mpath\u001b[39m::\u001b[0mString, \u001b[90minternal_stderr\u001b[39m::\u001b[0mIO, \u001b[90minternal_stdout\u001b[39m::\u001b[0mIO, \u001b[90mkeep_loaded_modules\u001b[39m::\u001b[0mBool\u001b[0m\u001b[1m)\u001b[22m\n",
      "\u001b[90m    @ \u001b[39m\u001b[90mBase\u001b[39m \u001b[90m./\u001b[39m\u001b[90m\u001b[4mloading.jl:1707\u001b[24m\u001b[39m\n",
      "  [3] \u001b[0m\u001b[1mcompilecache\u001b[22m\n",
      "\u001b[90m    @ \u001b[39m\u001b[90m./\u001b[39m\u001b[90m\u001b[4mloading.jl:1651\u001b[24m\u001b[39m\u001b[90m [inlined]\u001b[39m\n",
      "  [4] \u001b[0m\u001b[1m_require\u001b[22m\u001b[0m\u001b[1m(\u001b[22m\u001b[90mpkg\u001b[39m::\u001b[0mBase.PkgId\u001b[0m\u001b[1m)\u001b[22m\n",
      "\u001b[90m    @ \u001b[39m\u001b[90mBase\u001b[39m \u001b[90m./\u001b[39m\u001b[90m\u001b[4mloading.jl:1337\u001b[24m\u001b[39m\n",
      "  [5] \u001b[0m\u001b[1m_require_prelocked\u001b[22m\u001b[0m\u001b[1m(\u001b[22m\u001b[90muuidkey\u001b[39m::\u001b[0mBase.PkgId\u001b[0m\u001b[1m)\u001b[22m\n",
      "\u001b[90m    @ \u001b[39m\u001b[90mBase\u001b[39m \u001b[90m./\u001b[39m\u001b[90m\u001b[4mloading.jl:1200\u001b[24m\u001b[39m\n",
      "  [6] \u001b[0m\u001b[1mmacro expansion\u001b[22m\n",
      "\u001b[90m    @ \u001b[39m\u001b[90m./\u001b[39m\u001b[90m\u001b[4mloading.jl:1180\u001b[24m\u001b[39m\u001b[90m [inlined]\u001b[39m\n",
      "  [7] \u001b[0m\u001b[1mmacro expansion\u001b[22m\n",
      "\u001b[90m    @ \u001b[39m\u001b[90m./\u001b[39m\u001b[90m\u001b[4mlock.jl:223\u001b[24m\u001b[39m\u001b[90m [inlined]\u001b[39m\n",
      "  [8] \u001b[0m\u001b[1mrequire\u001b[22m\u001b[0m\u001b[1m(\u001b[22m\u001b[90minto\u001b[39m::\u001b[0mModule, \u001b[90mmod\u001b[39m::\u001b[0mSymbol\u001b[0m\u001b[1m)\u001b[22m\n",
      "\u001b[90m    @ \u001b[39m\u001b[90mBase\u001b[39m \u001b[90m./\u001b[39m\u001b[90m\u001b[4mloading.jl:1144\u001b[24m\u001b[39m\n",
      "  [9] \u001b[0m\u001b[1minclude\u001b[22m\u001b[0m\u001b[1m(\u001b[22m\u001b[90mmod\u001b[39m::\u001b[0mModule, \u001b[90m_path\u001b[39m::\u001b[0mString\u001b[0m\u001b[1m)\u001b[22m\n",
      "\u001b[90m    @ \u001b[39m\u001b[90mBase\u001b[39m \u001b[90m./\u001b[39m\u001b[90m\u001b[4mBase.jl:419\u001b[24m\u001b[39m\n",
      " [10] \u001b[0m\u001b[1minclude\u001b[22m\u001b[0m\u001b[1m(\u001b[22m\u001b[90mx\u001b[39m::\u001b[0mString\u001b[0m\u001b[1m)\u001b[22m\n",
      "\u001b[90m    @ \u001b[39m\u001b[35mSatelliteToolboxAtmosphericModels\u001b[39m \u001b[90m~/.julia/packages/SatelliteToolboxAtmosphericModels/GKDWG/src/\u001b[39m\u001b[90m\u001b[4mSatelliteToolboxAtmosphericModels.jl:1\u001b[24m\u001b[39m\n",
      " [11] top-level scope\n",
      "\u001b[90m    @ \u001b[39m\u001b[90m~/.julia/packages/SatelliteToolboxAtmosphericModels/GKDWG/src/\u001b[39m\u001b[90m\u001b[4mSatelliteToolboxAtmosphericModels.jl:12\u001b[24m\u001b[39m\n",
      " [12] \u001b[0m\u001b[1minclude\u001b[22m\n",
      "\u001b[90m    @ \u001b[39m\u001b[90m./\u001b[39m\u001b[90m\u001b[4mBase.jl:419\u001b[24m\u001b[39m\u001b[90m [inlined]\u001b[39m\n",
      " [13] \u001b[0m\u001b[1minclude_package_for_output\u001b[22m\u001b[0m\u001b[1m(\u001b[22m\u001b[90mpkg\u001b[39m::\u001b[0mBase.PkgId, \u001b[90minput\u001b[39m::\u001b[0mString, \u001b[90mdepot_path\u001b[39m::\u001b[0mVector\u001b[90m{String}\u001b[39m, \u001b[90mdl_load_path\u001b[39m::\u001b[0mVector\u001b[90m{String}\u001b[39m, \u001b[90mload_path\u001b[39m::\u001b[0mVector\u001b[90m{String}\u001b[39m, \u001b[90mconcrete_deps\u001b[39m::\u001b[0mVector\u001b[90m{Pair{Base.PkgId, UInt64}}\u001b[39m, \u001b[90msource\u001b[39m::\u001b[0mString\u001b[0m\u001b[1m)\u001b[22m\n",
      "\u001b[90m    @ \u001b[39m\u001b[90mBase\u001b[39m \u001b[90m./\u001b[39m\u001b[90m\u001b[4mloading.jl:1554\u001b[24m\u001b[39m\n",
      " [14] top-level scope\n",
      "\u001b[90m    @ \u001b[39m\u001b[90m\u001b[4mstdin:1\u001b[24m\u001b[39m\n",
      "in expression starting at /Users/kaaso/.julia/packages/SatelliteToolboxAtmosphericModels/GKDWG/src/AtmosphericModels.jl:10\n",
      "in expression starting at /Users/kaaso/.julia/packages/SatelliteToolboxAtmosphericModels/GKDWG/src/SatelliteToolboxAtmosphericModels.jl:1\n",
      "in expression starting at stdin:1\n"
     ]
    },
    {
     "name": "stderr",
     "output_type": "stream",
     "text": [
      "\u001b[91m\u001b[1mERROR: \u001b[22m\u001b[39mLoadError: "
     ]
    },
    {
     "name": "stderr",
     "output_type": "stream",
     "text": [
      "Failed to precompile SatelliteToolboxAtmosphericModels [5718ef0a-a30f-426d-bcd9-4cf31dd12909] to /Users/kaaso/.julia/compiled/v1.8/SatelliteToolboxAtmosphericModels/jl_HF0AMh.\n",
      "Stacktrace:\n",
      "  [1] \u001b[0m\u001b[1merror\u001b[22m\u001b[0m\u001b[1m(\u001b[22m\u001b[90ms\u001b[39m::\u001b[0mString\u001b[0m\u001b[1m)\u001b[22m\n",
      "\u001b[90m    @ \u001b[39m\u001b[90mBase\u001b[39m \u001b[90m./\u001b[39m\u001b[90m\u001b[4merror.jl:35\u001b[24m\u001b[39m\n",
      "  [2] \u001b[0m\u001b[1mcompilecache\u001b[22m\u001b[0m\u001b[1m(\u001b[22m\u001b[90mpkg\u001b[39m::\u001b[0mBase.PkgId, \u001b[90mpath\u001b[39m::\u001b[0mString, \u001b[90minternal_stderr\u001b[39m::\u001b[0mIO, \u001b[90minternal_stdout\u001b[39m::\u001b[0mIO, \u001b[90mkeep_loaded_modules\u001b[39m::\u001b[0mBool\u001b[0m\u001b[1m)\u001b[22m\n",
      "\u001b[90m    @ \u001b[39m\u001b[90mBase\u001b[39m \u001b[90m./\u001b[39m\u001b[90m\u001b[4mloading.jl:1707\u001b[24m\u001b[39m\n",
      "  [3] \u001b[0m\u001b[1mcompilecache\u001b[22m\n",
      "\u001b[90m    @ \u001b[39m\u001b[90m./\u001b[39m\u001b[90m\u001b[4mloading.jl:1651\u001b[24m\u001b[39m\u001b[90m [inlined]\u001b[39m\n",
      "  [4] \u001b[0m\u001b[1m_require\u001b[22m\u001b[0m\u001b[1m(\u001b[22m\u001b[90mpkg\u001b[39m::\u001b[0mBase.PkgId\u001b[0m\u001b[1m)\u001b[22m\n",
      "\u001b[90m    @ \u001b[39m\u001b[90mBase\u001b[39m \u001b[90m./\u001b[39m\u001b[90m\u001b[4mloading.jl:1337\u001b[24m\u001b[39m\n",
      "  [5] \u001b[0m\u001b[1m_require_prelocked\u001b[22m\u001b[0m\u001b[1m(\u001b[22m\u001b[90muuidkey\u001b[39m::\u001b[0mBase.PkgId\u001b[0m\u001b[1m)\u001b[22m\n",
      "\u001b[90m    @ \u001b[39m\u001b[90mBase\u001b[39m \u001b[90m./\u001b[39m\u001b[90m\u001b[4mloading.jl:1200\u001b[24m\u001b[39m\n",
      "  [6] \u001b[0m\u001b[1mmacro expansion\u001b[22m\n",
      "\u001b[90m    @ \u001b[39m\u001b[90m./\u001b[39m\u001b[90m\u001b[4mloading.jl:1180\u001b[24m\u001b[39m\u001b[90m [inlined]\u001b[39m\n",
      "  [7] \u001b[0m\u001b[1mmacro expansion\u001b[22m\n",
      "\u001b[90m    @ \u001b[39m\u001b[90m./\u001b[39m\u001b[90m\u001b[4mlock.jl:223\u001b[24m\u001b[39m\u001b[90m [inlined]\u001b[39m\n",
      "  [8] \u001b[0m\u001b[1mrequire\u001b[22m\u001b[0m\u001b[1m(\u001b[22m\u001b[90minto\u001b[39m::\u001b[0mModule, \u001b[90mmod\u001b[39m::\u001b[0mSymbol\u001b[0m\u001b[1m)\u001b[22m\n",
      "\u001b[90m    @ \u001b[39m\u001b[90mBase\u001b[39m \u001b[90m./\u001b[39m\u001b[90m\u001b[4mloading.jl:1144\u001b[24m\u001b[39m\n",
      "  [9] \u001b[0m\u001b[1minclude\u001b[22m\n",
      "\u001b[90m    @ \u001b[39m\u001b[90m./\u001b[39m\u001b[90m\u001b[4mBase.jl:419\u001b[24m\u001b[39m\u001b[90m [inlined]\u001b[39m\n",
      " [10] \u001b[0m\u001b[1minclude_package_for_output\u001b[22m\u001b[0m\u001b[1m(\u001b[22m\u001b[90mpkg\u001b[39m::\u001b[0mBase.PkgId, \u001b[90minput\u001b[39m::\u001b[0mString, \u001b[90mdepot_path\u001b[39m::\u001b[0mVector\u001b[90m{String}\u001b[39m, \u001b[90mdl_load_path\u001b[39m::\u001b[0mVector\u001b[90m{String}\u001b[39m, \u001b[90mload_path\u001b[39m::\u001b[0mVector\u001b[90m{String}\u001b[39m, \u001b[90mconcrete_deps\u001b[39m::\u001b[0mVector\u001b[90m{Pair{Base.PkgId, UInt64}}\u001b[39m, \u001b[90msource\u001b[39m::\u001b[0mString\u001b[0m\u001b[1m)\u001b[22m\n",
      "\u001b[90m    @ \u001b[39m\u001b[90mBase\u001b[39m \u001b[90m./\u001b[39m\u001b[90m\u001b[4mloading.jl:1554\u001b[24m\u001b[39m\n",
      " [11] top-level scope\n",
      "\u001b[90m    @ \u001b[39m\u001b[90m\u001b[4mstdin:1\u001b[24m\u001b[39m\n",
      "in expression starting at /Users/kaaso/.julia/packages/SatelliteToolbox/X0QCV/src/SatelliteToolbox.jl:1\n",
      "in expression starting at stdin:1\n"
     ]
    },
    {
     "ename": "ErrorException",
     "evalue": "Failed to precompile SatelliteToolbox [6ac157d9-b43d-51bb-8fab-48bf53814f4a] to /Users/kaaso/.julia/compiled/v1.8/SatelliteToolbox/jl_rxCV02.",
     "output_type": "error",
     "traceback": [
      "Failed to precompile SatelliteToolbox [6ac157d9-b43d-51bb-8fab-48bf53814f4a] to /Users/kaaso/.julia/compiled/v1.8/SatelliteToolbox/jl_rxCV02.\n",
      "\n",
      "Stacktrace:\n",
      "  [1] error(s::String)\n",
      "    @ Base ./error.jl:35\n",
      "  [2] compilecache(pkg::Base.PkgId, path::String, internal_stderr::IO, internal_stdout::IO, keep_loaded_modules::Bool)\n",
      "    @ Base ./loading.jl:1707\n",
      "  [3] compilecache\n",
      "    @ ./loading.jl:1651 [inlined]\n",
      "  [4] _require(pkg::Base.PkgId)\n",
      "    @ Base ./loading.jl:1337\n",
      "  [5] _require_prelocked(uuidkey::Base.PkgId)\n",
      "    @ Base ./loading.jl:1200\n",
      "  [6] macro expansion\n",
      "    @ ./loading.jl:1180 [inlined]\n",
      "  [7] macro expansion\n",
      "    @ ./lock.jl:223 [inlined]\n",
      "  [8] require(into::Module, mod::Symbol)\n",
      "    @ Base ./loading.jl:1144\n",
      "  [9] eval\n",
      "    @ ./boot.jl:368 [inlined]\n",
      " [10] include_string(mapexpr::typeof(REPL.softscope), mod::Module, code::String, filename::String)\n",
      "    @ Base ./loading.jl:1428\n",
      " [11] #invokelatest#2\n",
      "    @ ./essentials.jl:729 [inlined]\n",
      " [12] invokelatest\n",
      "    @ ./essentials.jl:726 [inlined]\n",
      " [13] (::VSCodeServer.var\"#208#209\"{VSCodeServer.NotebookRunCellArguments, String})()\n",
      "    @ VSCodeServer ~/.vscode/extensions/julialang.language-julia-1.65.2/scripts/packages/VSCodeServer/src/serve_notebook.jl:19\n",
      " [14] withpath(f::VSCodeServer.var\"#208#209\"{VSCodeServer.NotebookRunCellArguments, String}, path::String)\n",
      "    @ VSCodeServer ~/.vscode/extensions/julialang.language-julia-1.65.2/scripts/packages/VSCodeServer/src/repl.jl:274\n",
      " [15] notebook_runcell_request(conn::VSCodeServer.JSONRPC.JSONRPCEndpoint{Base.PipeEndpoint, Base.PipeEndpoint}, params::VSCodeServer.NotebookRunCellArguments)\n",
      "    @ VSCodeServer ~/.vscode/extensions/julialang.language-julia-1.65.2/scripts/packages/VSCodeServer/src/serve_notebook.jl:13\n",
      " [16] dispatch_msg(x::VSCodeServer.JSONRPC.JSONRPCEndpoint{Base.PipeEndpoint, Base.PipeEndpoint}, dispatcher::VSCodeServer.JSONRPC.MsgDispatcher, msg::Dict{String, Any})\n",
      "    @ VSCodeServer.JSONRPC ~/.vscode/extensions/julialang.language-julia-1.65.2/scripts/packages/JSONRPC/src/typed.jl:67\n",
      " [17] serve_notebook(pipename::String, outputchannel_logger::Base.CoreLogging.SimpleLogger; crashreporting_pipename::String)\n",
      "    @ VSCodeServer ~/.vscode/extensions/julialang.language-julia-1.65.2/scripts/packages/VSCodeServer/src/serve_notebook.jl:139\n",
      " [18] top-level scope\n",
      "    @ ~/.vscode/extensions/julialang.language-julia-1.65.2/scripts/notebook/notebook.jl:32"
     ]
    }
   ],
   "source": [
    "using SatelliteToolbox\n",
    "\n",
    "\n",
    "tle_line1 = \"1 39634U 14016A   23321.16776846  .00000111  00000-0  33194-4 0  9990\"\n",
    "tle_line2 = \"2 39634  98.1821 326.3344 0001284  89.9032 270.2315 14.59198499512521\"\n",
    "# Parse the TLE lines\n"
   ]
  },
  {
   "cell_type": "code",
   "execution_count": 3,
   "metadata": {},
   "outputs": [
    {
     "data": {
      "text/plain": [
       "\"Sentinel 1A\\n1 39634U 14016A   23321.16776846  .00000111  00000-0  33194-4 0  9990\\n2 39634  98.1821 326.3344 0001284  89.9032 270.2315 14.59198499512521\\n\""
      ]
     },
     "metadata": {},
     "output_type": "display_data"
    }
   ],
   "source": [
    "tle_string= \"\"\"\n",
    "       Sentinel 1A\n",
    "       1 39634U 14016A   23321.16776846  .00000111  00000-0  33194-4 0  9990\n",
    "       2 39634  98.1821 326.3344 0001284  89.9032 270.2315 14.59198499512521\n",
    "       \"\"\""
   ]
  },
  {
   "cell_type": "code",
   "execution_count": 4,
   "metadata": {},
   "outputs": [
    {
     "data": {
      "text/plain": [
       "TLE:\n",
       "\u001b[1m                      Name : \u001b[0mSentinel 1A\n",
       "\u001b[1m          Satellite number : \u001b[0m39634\n",
       "\u001b[1m  International designator : \u001b[0m14016A\n",
       "\u001b[1m        Epoch (Year / Day) : \u001b[0m23 / 321.16776846 (2023-11-17T04:01:35.195)\n",
       "\u001b[1m        Element set number : \u001b[0m999\n",
       "\u001b[1m              Eccentricity : \u001b[0m  0.00012840\n",
       "\u001b[1m               Inclination : \u001b[0m 98.18210000 deg\n",
       "\u001b[1m                      RAAN : \u001b[0m326.33440000 deg\n",
       "\u001b[1m       Argument of perigee : \u001b[0m 89.90320000 deg\n",
       "\u001b[1m              Mean anomaly : \u001b[0m270.23150000 deg\n",
       "\u001b[1m           Mean motion (n) : \u001b[0m 14.59198499 revs / day\n",
       "\u001b[1m         Revolution number : \u001b[0m51252\n",
       "\u001b[1m                        B* : \u001b[0m  3.3194e-05 1 / er\n",
       "\u001b[1m                     ṅ / 2 : \u001b[0m    1.11e-06 rev / day²\n",
       "\u001b[1m                     n̈ / 6 : \u001b[0m           0 rev / day³"
      ]
     },
     "metadata": {},
     "output_type": "display_data"
    }
   ],
   "source": [
    "tle = read_tle(tle_string)"
   ]
  },
  {
   "cell_type": "code",
   "execution_count": 35,
   "metadata": {},
   "outputs": [
    {
     "data": {
      "text/plain": [
       "11"
      ]
     },
     "metadata": {},
     "output_type": "display_data"
    }
   ],
   "source": [
    "# Define the target latitude and longitude in degrees\n",
    "target_lat = 55.1\n",
    "target_lon = 11"
   ]
  },
  {
   "cell_type": "code",
   "execution_count": 39,
   "metadata": {},
   "outputs": [
    {
     "data": {
      "text/plain": [
       "estimate_satellite_position (generic function with 2 methods)"
      ]
     },
     "metadata": {},
     "output_type": "display_data"
    }
   ],
   "source": [
    "using SatelliteToolbox\n",
    "using Dates\n",
    "function estimate_satellite_position(; tle::String, time_start::DateTime, time_end::DateTime, sample_frequency::Int)\n",
    "    # Parse the TLE\n",
    "\n",
    "    tle_parsed = read_tle(tle)\n",
    "\n",
    "    # Convert start and end times to Julian Date\n",
    "    sample_frequency = 300  # 300 seconds (5 minutes)\n",
    "    total_seconds = (Dates.DateTime(time_end) - Dates.DateTime(time_start)) / Millisecond(1) * (1 / 1000)  # Convert difference to seconds \n",
    "    samples = collect(0:sample_frequency:total_seconds)\n",
    "\n",
    "    jd_start = datetime_to_jd(time_start)\n",
    "    jd_end = datetime_to_jd(time_end)\n",
    "    \n",
    "\n",
    "    # Initialize arrays for satellite and nadir coordinates\n",
    "    satellite_coords = []\n",
    "    nadir_coords = []\n",
    "\n",
    "    for s in samples\n",
    "        # Propagate using SGP4\n",
    "        jd_current = jd_start + (s / 86400)  # Convert seconds to days\n",
    "        r_eci, v_eci = sgp4(tle_parsed, jd_current)\n",
    "\n",
    "        # Convert ECI to ECEF\n",
    "        r_ecef = eci2ecef(r_eci, jd_current)\n",
    "\n",
    "        # Convert ECEF to Geodetic Coordinates for Nadir point\n",
    "        lat, lon, alt = ecef2geodetic(r_ecef)\n",
    "\n",
    "        # Store satellite and nadir coordinates\n",
    "        push!(satellite_coords, (r_eci, v_eci))\n",
    "        push!(nadir_coords, (lat, lon))\n",
    "    end\n",
    "\n",
    "    return satellite_coords, nadir_coords\n",
    "end\n"
   ]
  },
  {
   "cell_type": "code",
   "execution_count": 19,
   "metadata": {},
   "outputs": [],
   "source": []
  },
  {
   "cell_type": "code",
   "execution_count": 55,
   "metadata": {},
   "outputs": [
    {
     "data": {
      "text/plain": [
       "estimate_satellite_position2 (generic function with 2 methods)"
      ]
     },
     "metadata": {},
     "output_type": "display_data"
    }
   ],
   "source": [
    "using SatelliteToolbox\n",
    "using Dates\n",
    "\n",
    "function estimate_satellite_position2(; tle::String, time_start::DateTime, time_end::DateTime, sample_frequency::T) where T <: Real\n",
    "    # Parse the TLE\n",
    "    tle_parsed = read_tle(tle)\n",
    "\n",
    "    # Initialize SGP4 with the parsed TLE\n",
    "    sgp4d = sgp4_init(tle_parsed)\n",
    "\n",
    "    # Convert start and end times to Julian Date\n",
    "    \n",
    "\n",
    "    # Calculate the total seconds and samples\n",
    "    #total_seconds = Int(Dates.value(time_end - time_start) / 1000)  # Convert difference to seconds\n",
    "    #samples = collect(0:sample_frequency:total_seconds)\n",
    "    total_seconds = (Dates.DateTime(time_end) - Dates.DateTime(time_start)) / Millisecond(1) * (1 / 1000)  # Convert difference to seconds \n",
    "    samples = collect(0:sample_frequency:total_seconds)\n",
    "\n",
    "    jd_start = datetime_to_jd(time_start)\n",
    "    jd_end = datetime_to_jd(time_end)\n",
    "\n",
    "    # Initialize arrays for satellite and nadir coordinates\n",
    "    satellite_coords = []\n",
    "    nadir_coords = []\n",
    "\n",
    "    for s in samples\n",
    "        # Time in minutes since the epoch\n",
    "        minutes_since_epoch = (jd_start - tle_epoch_to_jd(tle_parsed)) * 24 * 60 + (s / 60)\n",
    "\n",
    "        # Propagate using SGP4\n",
    "        r_teme, v_teme = sgp4!(sgp4d, minutes_since_epoch)\n",
    "\n",
    "        # Here, implement the conversion from TEME to desired coordinates\n",
    "        # and calculate nadir points. This part of the code will depend on the\n",
    "        # specific transformations you need to use.\n",
    "\n",
    "        # Store satellite and nadir coordinates\n",
    "        push!(satellite_coords, (r_teme, v_teme))\n",
    "        # push!(nadir_coords, (calculated_latitude, calculated_longitude))\n",
    "    end\n",
    "\n",
    "    return satellite_coords, nadir_coords\n",
    "end\n"
   ]
  },
  {
   "cell_type": "code",
   "execution_count": 50,
   "metadata": {},
   "outputs": [
    {
     "data": {
      "text/plain": [
       "\"Sentinel 1A\\n1 39634U 14016A   23321.16776846  .00000111  00000-0  33194-4 0  9990\\n2 39634  98.1821 326.3344 0001284  89.9032 270.2315 14.59198499512521\\n\""
      ]
     },
     "metadata": {},
     "output_type": "display_data"
    }
   ],
   "source": [
    "tle_string"
   ]
  },
  {
   "cell_type": "code",
   "execution_count": 49,
   "metadata": {},
   "outputs": [
    {
     "ename": "MethodError",
     "evalue": "MethodError: no method matching sgp4(::TLE, ::Float64)\nClosest candidates are:\n  sgp4(!Matched::Number, ::Tepoch, !Matched::Number, !Matched::Number, !Matched::Number, !Matched::Number, !Matched::Number, !Matched::Number, !Matched::Number; sgp4c) where Tepoch<:Number at ~/.julia/packages/SatelliteToolboxSgp4/o48OS/src/sgp4_model.jl:465",
     "output_type": "error",
     "traceback": [
      "MethodError: no method matching sgp4(::TLE, ::Float64)\n",
      "Closest candidates are:\n",
      "  sgp4(!Matched::Number, ::Tepoch, !Matched::Number, !Matched::Number, !Matched::Number, !Matched::Number, !Matched::Number, !Matched::Number, !Matched::Number; sgp4c) where Tepoch<:Number at ~/.julia/packages/SatelliteToolboxSgp4/o48OS/src/sgp4_model.jl:465\n",
      "\n",
      "Stacktrace:\n",
      " [1] estimate_satellite_position(tle::String, time_start::DateTime, time_end::DateTime, sample_frequency::Int64)\n",
      "   @ Main ~/Documents/coding/JuliaEO2024/orbit.ipynb:24\n",
      " [2] top-level scope\n",
      "   @ ~/Documents/coding/JuliaEO2024/orbit.ipynb:1"
     ]
    }
   ],
   "source": [
    "satellite_coords, nadir_coords = estimate_satellite_position(tle_string, time_start, time_end, sample_frequency)\n"
   ]
  },
  {
   "cell_type": "code",
   "execution_count": 22,
   "metadata": {},
   "outputs": [
    {
     "data": {
      "text/plain": [
       "\"1 39634U 14016A   23321.16776846  .00000111  00000-0  33194-4 0  9990\\n2 39634  98.1821 326.3344 0001284  89.9032 270.2315 14.59198499512521\\n\""
      ]
     },
     "metadata": {},
     "output_type": "display_data"
    }
   ],
   "source": [
    "# Sample TLE for a fictional satellite\n",
    "tle_sample = \"\"\"\n",
    "Sentinel 1A\n",
    "1 39634U 14016A   23321.16776846  .00000111  00000-0  33194-4 0  9990\n",
    "2 39634  98.1821 326.3344 0001284  89.9032 270.2315 14.59198499512521\n",
    "\"\"\"\n",
    "\n",
    "# Sample TLE for a fictional satellite\n",
    "tle_sample2= \"\"\"\n",
    "1 39634U 14016A   23321.16776846  .00000111  00000-0  33194-4 0  9990\n",
    "2 39634  98.1821 326.3344 0001284  89.9032 270.2315 14.59198499512521\n",
    "\"\"\""
   ]
  },
  {
   "cell_type": "code",
   "execution_count": 37,
   "metadata": {},
   "outputs": [],
   "source": [
    "#tle_parsed = read_tle(tle_sample)"
   ]
  },
  {
   "cell_type": "code",
   "execution_count": 68,
   "metadata": {},
   "outputs": [
    {
     "data": {
      "text/plain": [
       "\"Sentinel 1A\\n1 39634U 14016A   23321.16776846  .00000111  00000-0  33194-4 0  9990\\n2 39634  98.1821 326.3344 0001284  89.9032 270.2315 14.59198499512521\\n\""
      ]
     },
     "metadata": {},
     "output_type": "display_data"
    }
   ],
   "source": []
  },
  {
   "cell_type": "code",
   "execution_count": 69,
   "metadata": {},
   "outputs": [
    {
     "ename": "ArgumentError",
     "evalue": "ArgumentError: invalid base 10 digit 'U' in \"4U\"",
     "output_type": "error",
     "traceback": [
      "ArgumentError: invalid base 10 digit 'U' in \"4U\"\n",
      "\n",
      "Stacktrace:\n",
      " [1] tryparse_internal(#unused#::Type{Int64}, s::String, startpos::Int64, endpos::Int64, base_::Int64, raise::Bool)\n",
      "   @ Base ./parse.jl:137\n",
      " [2] parse(::Type{Int64}, s::String; base::Nothing)\n",
      "   @ Base ./parse.jl:241\n",
      " [3] parse\n",
      "   @ ./parse.jl:240 [inlined]\n",
      " [4] tle_epoch_to_jd(tle::String)\n",
      "   @ Main ~/Documents/coding/JuliaEO2024/orbit.ipynb:13\n",
      " [5] top-level scope\n",
      "   @ ~/Documents/coding/JuliaEO2024/orbit.ipynb:1"
     ]
    }
   ],
   "source": [
    "tle_epoch_to_jd(tle_sample)"
   ]
  },
  {
   "cell_type": "code",
   "execution_count": 89,
   "metadata": {},
   "outputs": [
    {
     "data": {
      "text/plain": [
       "2023"
      ]
     },
     "metadata": {},
     "output_type": "display_data"
    }
   ],
   "source": [
    "parse(Int, tle_sample2[19:20]) + 2000"
   ]
  },
  {
   "cell_type": "code",
   "execution_count": 90,
   "metadata": {},
   "outputs": [
    {
     "data": {
      "text/plain": [
       "321.16776846"
      ]
     },
     "metadata": {},
     "output_type": "display_data"
    }
   ],
   "source": [
    "day_of_year = parse(Float64, tle_sample2[21:32])"
   ]
  },
  {
   "cell_type": "code",
   "execution_count": 86,
   "metadata": {},
   "outputs": [
    {
     "data": {
      "text/plain": [
       "\" 23321.1677\""
      ]
     },
     "metadata": {},
     "output_type": "display_data"
    }
   ],
   "source": [
    "tle_sample2[16:26] "
   ]
  },
  {
   "cell_type": "code",
   "execution_count": 88,
   "metadata": {},
   "outputs": [
    {
     "data": {
      "text/plain": [
       "\"23\""
      ]
     },
     "metadata": {},
     "output_type": "display_data"
    }
   ],
   "source": [
    "tle_sample2[19:20] "
   ]
  },
  {
   "cell_type": "code",
   "execution_count": 105,
   "metadata": {},
   "outputs": [
    {
     "data": {
      "text/plain": [
       "Sgp4Propagator{Float64, Float64}(2.46026566776846e6, 0.06366954561927296, 0.0001284, 1.7136009115223247, 5.695609742520183, 1.569106848078966, 4.716429417603057, 3.3194e-5, 0.0, 1.108627418610423, 0.0001284, 1.7136009115223247, 5.695609742520183, 1.569106848078966, 4.716429417603057, 0.06370902836594827, 1.108627418610423, 0.06370902836594827, 1.0, 1.880276800610929e-9, 0.9999999917567199, 10.3736438960138, 0.001476664977336367, 0.989820741871345, -0.14231970686191092, 0.020254898961260256, 2.53215306e-6, 0.000541314994525, 6.0412035375e-7, 4.959310064143879e-11, 0.0005189324991542231, -7.851761038636769e-8, 4.828017981284301e-5, 1.1314085754680268e-19, 3.8530611103448282e-28, 1.5292366600423644e-36, 0.06366952325910642, -3.774246493848068e-5, 1.194480799535157e-5, :sgp4, Sgp4Constants{Float64}(6378.137, 0.07436685316871385, 0.00108262998905, -2.53215306e-6, -1.61098761e-6), SatelliteToolboxSgp4.Sgp4DeepSpace{Float64}(2.947840601e-314, 2.8e-322, 2.782597e-318, 2.8e-322, 3.26e-322, 2.1222143537e-314, 2.9432037e-314, 2.9432023877e-314, 2.9432024035e-314, 2.9432090595e-314, 2.943202435e-314, 2.943202451e-314, 5.467782068e-314, 2.711722364e-314, 5.467782084e-314, 2.943209107e-314, 5.467782179e-314, 2.9424288627e-314, 2.9424288785e-314, 2.94320917e-314, 2.943209771e-314, 2.9432092176e-314, 2.9424288943e-314, 2.942428926e-314, 2.943202862e-314, 2.943202878e-314, 2.7170730395e-314, 2.9432028936e-314, 2.9432029094e-314, 2.943202925e-314, 2.943202941e-314, 2.943202957e-314, 2.711722364e-314, 2.94320321e-314, 2.9432094073e-314, 2.9432032256e-314, 2.9432032414e-314, 5.4699366845e-314, 2.1222143537e-314, 2.943209455e-314, 2.9432094864e-314, 2.943203289e-314, 2.9432033046e-314, 2.9432033204e-314, 5.469937127e-314, 2.711722364e-314, 5.4699371826e-314, 2.9432095496e-314, 2.942428989e-314, 2.942429005e-314, 2.943209613e-314, 5.469937293e-314, 2.942429021e-314, 5.469937301e-314, 2.9424290366e-314, 2.1222143537e-314, 2.9432096603e-314, 2.942429084e-314, 2.9432097077e-314, 2.9424291314e-314, 2.6761339143e-314, 5.4699381707e-314, 0.0, 0.0, 0.0, 0.0, 0.0, 0.0, 0.0, false, false, false))"
      ]
     },
     "metadata": {},
     "output_type": "display_data"
    }
   ],
   "source": [
    "sgp4d"
   ]
  },
  {
   "cell_type": "code",
   "execution_count": 93,
   "metadata": {},
   "outputs": [
    {
     "data": {
      "text/plain": [
       "(2.4602656677662036e6, DateTime(\"2023-11-17T04:01:35.195\"))"
      ]
     },
     "metadata": {},
     "output_type": "display_data"
    }
   ],
   "source": [
    "tle_epoch_to_jd(tle_sample2)"
   ]
  },
  {
   "cell_type": "code",
   "execution_count": 24,
   "metadata": {},
   "outputs": [
    {
     "data": {
      "text/plain": [
       "tle_epoch_to_jd (generic function with 1 method)"
      ]
     },
     "metadata": {},
     "output_type": "display_data"
    }
   ],
   "source": [
    "function datetime_to_jd(dt::DateTime)\n",
    "    a = div(14 - month(dt), 12)\n",
    "    y = year(dt) + 4800 - a\n",
    "    m = month(dt) + 12a - 3\n",
    "    jd = day(dt) + div(153m + 2, 5) + 365y + div(y, 4) - div(y, 100) + div(y, 400) - 32045\n",
    "    jd += (hour(dt) - 12) / 24 + minute(dt) / 1440 + second(dt) / 86400\n",
    "    return jd\n",
    "end\n",
    "\n",
    "\n",
    "function tle_epoch_to_jd(tle::String)\n",
    "    # Extracting year and day-of-year from the TLE\n",
    "    year = parse(Int, tle[19:20]) + 2000  # Adjust based on TLE format\n",
    "    day_of_year = parse(Float64, tle[21:32])\n",
    "\n",
    "    # Convert to DateTime\n",
    "    epoch_start = DateTime(year, 1, 1)\n",
    "    epoch_datetime = epoch_start + Dates.Day(floor(day_of_year) - 1) + Dates.Millisecond(round((day_of_year % 1) * 86400000))\n",
    "\n",
    "    # Convert DateTime to JD\n",
    "    return datetime_to_jd(epoch_datetime), epoch_datetime\n",
    "end\n"
   ]
  },
  {
   "cell_type": "code",
   "execution_count": 56,
   "metadata": {},
   "outputs": [
    {
     "ename": "UndefVarError",
     "evalue": "UndefVarError: jd_epoch not defined",
     "output_type": "error",
     "traceback": [
      "UndefVarError: jd_epoch not defined\n",
      "\n",
      "Stacktrace:\n",
      " [1] estimate_satellite_position2(tle::String, time_start::DateTime, time_end::DateTime, sample_frequency::Int64)\n",
      "   @ Main ~/Documents/coding/JuliaEO2024/orbit.ipynb:29\n",
      " [2] top-level scope\n",
      "   @ ~/Documents/coding/JuliaEO2024/orbit.ipynb:19"
     ]
    }
   ],
   "source": [
    "\n",
    "\n",
    "# Define the start and end times for the estimation\n",
    "time_start = DateTime(2021, 10, 2, 12, 0, 0)  # October 2, 2021, 12:00:00 UTC\n",
    "time_end = DateTime(2021, 10, 2, 13, 0, 0)    # October 2, 2021, 13:00:00 UTC\n",
    "\n",
    "(Dates.DateTime(time_end) - Dates.DateTime(time_start))\n",
    "# Set the sampling frequency in seconds (e.g., every 5 minutes)\n",
    "sample_frequency = 300  # 300 seconds (5 minutes)\n",
    "jd_start = datetime_to_jd(time_start)\n",
    "jd_end = datetime_to_jd(time_end)\n",
    "\n",
    "\n",
    "#total_seconds = (jd_end - jd_start).total_seconds()\n",
    "#samples = collect(0:sample_frequency:total_seconds)\n",
    "\n",
    "\n",
    "# Call the function\n",
    "satellite_coords, nadir_coords = estimate_satellite_position2(tle_sample, time_start, time_end, sample_frequency)\n",
    "\n",
    "# satellite_coords and nadir_coords now contain the estimated positions\n"
   ]
  },
  {
   "cell_type": "code",
   "execution_count": 30,
   "metadata": {},
   "outputs": [
    {
     "ename": "MethodError",
     "evalue": "MethodError: no method matching sgp4(::TLE, ::DateTime)",
     "output_type": "error",
     "traceback": [
      "MethodError: no method matching sgp4(::TLE, ::DateTime)\n",
      "\n",
      "Stacktrace:\n",
      " [1] can_image(tle::TLE, target_lat::Float64, target_lon::Int64, incidence_angle::Int64)\n",
      "   @ Main ~/Documents/coding/JuliaEO2024/orbit.ipynb:10\n",
      " [2] top-level scope\n",
      "   @ ~/Documents/coding/JuliaEO2024/orbit.ipynb:25"
     ]
    }
   ],
   "source": [
    "\n",
    "\n",
    "# Define the incidence angle in degrees\n",
    "incidence_angle = 45\n",
    "\n",
    "# Function to check if the satellite can image the target location\n",
    "function can_image(tle, target_lat, target_lon, incidence_angle)\n",
    "    # Propagate the TLE to the current time\n",
    "    julian_date = now()\n",
    "    eci_pos, eci_vel = sgp4(tle, julian_date)\n",
    "\n",
    "    # Convert ECI position to geodetic coordinates (latitude, longitude)\n",
    "    lat, lon, _ = eci2geo(eci_pos, julian_date)\n",
    "\n",
    "    # Check if the target is within the imaging range\n",
    "    # This is a simplified check and might need refinement\n",
    "    if abs(lat - target_lat) <= incidence_angle && abs(lon - target_lon) <= incidence_angle\n",
    "        return true\n",
    "    else\n",
    "        return false\n",
    "    end\n",
    "end\n",
    "\n",
    "# Check if the satellite can currently image the target location\n",
    "can_image_now = can_image(tle, target_lat, target_lon, incidence_angle)\n",
    "println(\"Can image now: \", can_image_now)\n"
   ]
  },
  {
   "cell_type": "code",
   "execution_count": null,
   "metadata": {},
   "outputs": [],
   "source": []
  }
 ],
 "metadata": {
  "kernelspec": {
   "display_name": "Julia 1.8.2",
   "language": "julia",
   "name": "julia-1.8"
  },
  "language_info": {
   "file_extension": ".jl",
   "mimetype": "application/julia",
   "name": "julia",
   "version": "1.8.2"
  }
 },
 "nbformat": 4,
 "nbformat_minor": 2
}
