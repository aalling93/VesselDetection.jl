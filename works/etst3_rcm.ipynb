{
 "cells": [
  {
   "cell_type": "code",
   "execution_count": 1,
   "metadata": {},
   "outputs": [
    {
     "name": "stderr",
     "output_type": "stream",
     "text": [
      "┌ Warning: Replacing docs for `Main.Test_name.Download.Metadata.to_rcm_time :: Tuple{String}` in module `Main.Test_name.Download.Metadata`\n",
      "└ @ Base.Docs docs/Docs.jl:243\n",
      "┌ Warning: Replacing docs for `Main.Test_name.Download.Metadata.bounding_box_to_geojson :: Tuple{}` in module `Main.Test_name.Download.Metadata`\n",
      "└ @ Base.Docs docs/Docs.jl:243\n",
      "┌ Warning: Replacing docs for `Main.Test_name.Download.Metadata.coordinate_to_geojson :: Union{Tuple{T}, Tuple{T, T}} where T<:Real` in module `Main.Test_name.Download.Metadata`\n",
      "└ @ Base.Docs docs/Docs.jl:243\n",
      "┌ Warning: Replacing docs for `Main.Test_name.Download.Metadata.wkt_to_tuples :: Tuple{Any}` in module `Main.Test_name.Download.Metadata`\n",
      "└ @ Base.Docs docs/Docs.jl:243\n"
     ]
    }
   ],
   "source": [
    "using Pkg\n",
    "using DotEnv\n",
    "include(\"src/test_name.jl\")\n",
    "using .Test_name"
   ]
  },
  {
   "cell_type": "code",
   "execution_count": 2,
   "metadata": {},
   "outputs": [],
   "source": [
    "DotEnv.config();"
   ]
  },
  {
   "cell_type": "code",
   "execution_count": 3,
   "metadata": {},
   "outputs": [],
   "source": [
    "\n",
    "access_token = Test_name.Download.get_access_token_copernicus(username = get(ENV, \"DATASPACE_USERNAME\", \"\"), password = get(ENV, \"DATASPACE_PASSWORD\", \"\"));"
   ]
  },
  {
   "cell_type": "code",
   "execution_count": 4,
   "metadata": {},
   "outputs": [
    {
     "name": "stdout",
     "output_type": "stream",
     "text": [
      "Request successful.\n"
     ]
    },
    {
     "name": "stdout",
     "output_type": "stream",
     "text": [
      "\u001b[1m8×51 DataFrame\u001b[0m\n",
      "\u001b[1m Row \u001b[0m│\u001b[1m properties_polarisation \u001b[0m\u001b[1m properties_orbitDirection \u001b[0m\u001b[1m properties_title                  \u001b[0m\u001b[1m type    \u001b[0m\u001b[1m properties_thumbnail              \u001b[0m\u001b[1m geometry_coordinates_1            \u001b[0m\u001b[1m properties_license_viewService \u001b[0m\u001b[1m properties_license_licenseId \u001b[0m\u001b[1m properties_cloudCover \u001b[0m\u001b[1m id                                \u001b[0m\u001b[1m properties_status \u001b[0m\u001b[1m properties_swath \u001b[0m\u001b[1m properties_links_1_rel \u001b[0m\u001b[1m properties_centroid_type \u001b[0m\u001b[1m properties_license_hasToBeSigned \u001b[0m\u001b[1m properties_processingLevel \u001b[0m\u001b[1m properties_gmlgeometry            \u001b[0m\u001b[1m properties_updated       \u001b[0m\u001b[1m properties_productType \u001b[0m\u001b[1m properties_platform \u001b[0m\u001b[1m properties_centroid_coordinates_2 \u001b[0m\u001b[1m properties_startDate     \u001b[0m\u001b[1m properties_license_signatureQuota \u001b[0m\u001b[1m properties_license_description_shortName \u001b[0m\u001b[1m properties_license_grantedOrganizationCountries \u001b[0m\u001b[1m properties_parentIdentifier \u001b[0m\u001b[1m properties_instrument \u001b[0m\u001b[1m properties_processingBaseline \u001b[0m\u001b[1m properties_description            \u001b[0m\u001b[1m properties_license_grantedFlags \u001b[0m\u001b[1m properties_productIdentifier      \u001b[0m\u001b[1m properties_sensorMode \u001b[0m\u001b[1m properties_published     \u001b[0m\u001b[1m properties_snowCover \u001b[0m\u001b[1m properties_quicklook \u001b[0m\u001b[1m properties_resolution \u001b[0m\u001b[1m properties_organisationName \u001b[0m\u001b[1m properties_completionDate \u001b[0m\u001b[1m properties_collection \u001b[0m\u001b[1m properties_links_1_title          \u001b[0m\u001b[1m properties_links_1_href           \u001b[0m\u001b[1m properties_timeliness \u001b[0m\u001b[1m properties_services_download_size \u001b[0m\u001b[1m properties_links_1_type \u001b[0m\u001b[1m properties_license_grantedCountries \u001b[0m\u001b[1m properties_relativeOrbitNumber \u001b[0m\u001b[1m geometry_type \u001b[0m\u001b[1m properties_services_download_url  \u001b[0m\u001b[1m properties_centroid_coordinates_1 \u001b[0m\u001b[1m properties_services_download_mimeType \u001b[0m\u001b[1m properties_orbitNumber \u001b[0m\n",
      "     │\u001b[90m String                  \u001b[0m\u001b[90m String                    \u001b[0m\u001b[90m String                            \u001b[0m\u001b[90m String  \u001b[0m\u001b[90m String                            \u001b[0m\u001b[90m Vector{Any}                       \u001b[0m\u001b[90m String                         \u001b[0m\u001b[90m String                       \u001b[0m\u001b[90m Int64                 \u001b[0m\u001b[90m String                            \u001b[0m\u001b[90m String            \u001b[0m\u001b[90m String           \u001b[0m\u001b[90m String                 \u001b[0m\u001b[90m String                   \u001b[0m\u001b[90m String                           \u001b[0m\u001b[90m String                     \u001b[0m\u001b[90m String                            \u001b[0m\u001b[90m String                   \u001b[0m\u001b[90m String                 \u001b[0m\u001b[90m String              \u001b[0m\u001b[90m Float64                           \u001b[0m\u001b[90m String                   \u001b[0m\u001b[90m Int64                             \u001b[0m\u001b[90m String                                   \u001b[0m\u001b[90m Nothing                                         \u001b[0m\u001b[90m Nothing                     \u001b[0m\u001b[90m String                \u001b[0m\u001b[90m Int64                         \u001b[0m\u001b[90m String                            \u001b[0m\u001b[90m Nothing                         \u001b[0m\u001b[90m String                            \u001b[0m\u001b[90m String                \u001b[0m\u001b[90m String                   \u001b[0m\u001b[90m Int64                \u001b[0m\u001b[90m Nothing              \u001b[0m\u001b[90m Float64               \u001b[0m\u001b[90m String                      \u001b[0m\u001b[90m String                    \u001b[0m\u001b[90m String                \u001b[0m\u001b[90m String                            \u001b[0m\u001b[90m String                            \u001b[0m\u001b[90m String                \u001b[0m\u001b[90m Int64                             \u001b[0m\u001b[90m String                  \u001b[0m\u001b[90m Nothing                             \u001b[0m\u001b[90m Int64                          \u001b[0m\u001b[90m String        \u001b[0m\u001b[90m String                            \u001b[0m\u001b[90m Float64                           \u001b[0m\u001b[90m String                                \u001b[0m\u001b[90m Int64                  \u001b[0m\n",
      "─────┼───────────────────────────────────────────────────────────────────────────────────────────────────────────────────────────────────────────────────────────────────────────────────────────────────────────────────────────────────────────────────────────────────────────────────────────────────────────────────────────────────────────────────────────────────────────────────────────────────────────────────────────────────────────────────────────────────────────────────────────────────────────────────────────────────────────────────────────────────────────────────────────────────────────────────────────────────────────────────────────────────────────────────────────────────────────────────────────────────────────────────────────────────────────────────────────────────────────────────────────────────────────────────────────────────────────────────────────────────────────────────────────────────────────────────────────────────────────────────────────────────────────────────────────────────────────────────────────────────────────────────────────────────────────────────────────────────────────────────────────────────────────────────────────────────────────────────────────────────────────────────────────────────────────────────────────────────────────────────────────────────────────────────────────────────────────────────────────────────────────────────────────────────────────────────────────────────────────────────────────────────────────────────────────────────────\n",
      "   1 │ VV&VH                    DESCENDING                 S1A_IW_GRDH_1SDV_20220621T055905…  Feature  http://codede.data.cloud.code-de…  Any[Any[4.99431, 49.5091], Any[5…  public                          unlicensed                                        0  8bb78fee-2441-57d2-b020-2e951450…  ONLINE             IW                self                    Point                     never                             LEVEL1                      <gml:Polygon srsName=\"EPSG:4326\"…  2022-06-21T07:13:49.583Z  IW_GRDH_1S              S1A                                            50.4647  2022-06-21T05:59:05.854Z                                 -1  No license                               \u001b[90m                                                 \u001b[0m\u001b[90m                             \u001b[0m SAR                                                0  The Sentinel-1 mission is the Eu… \u001b[90m                                 \u001b[0m /eodata/Sentinel-1/SAR/GRD/2022/…  IW                     2022-06-21T07:13:49.583Z                     0 \u001b[90m                      \u001b[0m                  10.0  ESA                          2022-06-21T05:59:30.853Z   SENTINEL-1             GeoJSON link for 8bb78fee-2441-5…  https://catalogue.dataspace.cope…  NRT-3h                                                 0  application/json        \u001b[90m                                     \u001b[0m                            110  Polygon        https://catalogue.dataspace.cope…                            3.40036  application/octet-stream                                43757\n",
      "   2 │ VV&VH                    ASCENDING                  S1A_IW_GRDH_1SDV_20220619T172458…  Feature  http://codede.data.cloud.code-de…  Any[Any[3.96067, 51.3999], Any[4…  public                          unlicensed                                        0  19ba6517-a22f-5e18-8fce-67af19ce…  ONLINE             IW                self                    Point                     never                             LEVEL1                      <gml:Polygon srsName=\"EPSG:4326\"…  2022-06-19T18:34:27.671Z  IW_GRDH_1S              S1A                                            50.8617  2022-06-19T17:24:58.649Z                                 -1  No license                               \u001b[90m                                                 \u001b[0m\u001b[90m                             \u001b[0m SAR                                                0  The Sentinel-1 mission is the Eu… \u001b[90m                                 \u001b[0m /eodata/Sentinel-1/SAR/GRD/2022/…  IW                     2022-06-19T18:34:27.671Z                     0 \u001b[90m                      \u001b[0m                  10.0  ESA                          2022-06-19T17:25:23.646Z   SENTINEL-1             GeoJSON link for 19ba6517-a22f-5…  https://catalogue.dataspace.cope…  NRT-3h                                                 0  application/json        \u001b[90m                                     \u001b[0m                             88  Polygon        https://catalogue.dataspace.cope…                            6.04345  application/octet-stream                                43735\n",
      "   3 │ VV&VH                    DESCENDING                 S1A_IW_GRDH_1SDV_20220621T055840…  Feature  http://codede.data.cloud.code-de…  Any[Any[5.47245, 51.0029], Any[5…  public                          unlicensed                                        0  8c4ecdb7-079a-534d-a398-24354168…  ONLINE             IW                self                    Point                     never                             LEVEL1                      <gml:Polygon srsName=\"EPSG:4326\"…  2022-06-21T07:15:26.077Z  IW_GRDH_1S              S1A                                            51.9593  2022-06-21T05:58:40.854Z                                 -1  No license                               \u001b[90m                                                 \u001b[0m\u001b[90m                             \u001b[0m SAR                                                0  The Sentinel-1 mission is the Eu… \u001b[90m                                 \u001b[0m /eodata/Sentinel-1/SAR/GRD/2022/…  IW                     2022-06-21T07:15:26.077Z                     0 \u001b[90m                      \u001b[0m                  10.0  ESA                          2022-06-21T05:59:05.853Z   SENTINEL-1             GeoJSON link for 8c4ecdb7-079a-5…  https://catalogue.dataspace.cope…  NRT-3h                                                 0  application/json        \u001b[90m                                     \u001b[0m                            110  Polygon        https://catalogue.dataspace.cope…                            3.827    application/octet-stream                                43757\n",
      "   4 │ VV&VH                    ASCENDING                  S1A_IW_GRDH_1SDV_20220612T173329…  Feature  http://codede.data.cloud.code-de…  Any[Any[1.55501, 52.4422], Any[2…  public                          unlicensed                                        0  28dc2094-33f4-5ea4-8e8e-890eb2c4…  ONLINE             IW                self                    Point                     never                             LEVEL1                      <gml:Polygon srsName=\"EPSG:4326\"…  2022-06-12T18:34:22.011Z  IW_GRDH_1S              S1A                                            51.9049  2022-06-12T17:33:29.384Z                                 -1  No license                               \u001b[90m                                                 \u001b[0m\u001b[90m                             \u001b[0m SAR                                                0  The Sentinel-1 mission is the Eu… \u001b[90m                                 \u001b[0m /eodata/Sentinel-1/SAR/GRD/2022/…  IW                     2022-06-12T18:34:22.011Z                     0 \u001b[90m                      \u001b[0m                  10.0  ESA                          2022-06-12T17:33:54.382Z   SENTINEL-1             GeoJSON link for 28dc2094-33f4-5…  https://catalogue.dataspace.cope…  NRT-3h                                                 0  application/json        \u001b[90m                                     \u001b[0m                            161  Polygon        https://catalogue.dataspace.cope…                            3.68308  application/octet-stream                                43633\n",
      "   5 │ VV&VH                    DESCENDING                 S1A_IW_GRDH_1SDV_20220616T055031…  Feature  http://codede.data.cloud.code-de…  Any[Any[7.42722, 50.7078], Any[7…  public                          unlicensed                                        0  ae17606f-bc39-54dd-bc57-67efac48…  ONLINE             IW                self                    Point                     never                             LEVEL1                      <gml:Polygon srsName=\"EPSG:4326\"…  2022-06-17T12:40:33.784Z  IW_GRDH_1S              S1A                                            51.6637  2022-06-16T05:50:31.499Z                                 -1  No license                               \u001b[90m                                                 \u001b[0m\u001b[90m                             \u001b[0m SAR                                                0  The Sentinel-1 mission is the Eu… \u001b[90m                                 \u001b[0m /eodata/Sentinel-1/SAR/GRD/2022/…  IW                     2022-06-17T12:40:33.784Z                     0 \u001b[90m                      \u001b[0m                  10.0  ESA                          2022-06-16T05:50:56.498Z   SENTINEL-1             GeoJSON link for ae17606f-bc39-5…  https://catalogue.dataspace.cope…  NRT-3h                                                 0  application/json        \u001b[90m                                     \u001b[0m                             37  Polygon        https://catalogue.dataspace.cope…                            5.79374  application/octet-stream                                43684\n",
      "   6 │ VV&VH                    DESCENDING                 S1A_IW_GRDH_1SDV_20220616T055056…  Feature  http://codede.data.cloud.code-de…  Any[Any[6.95285, 49.2137], Any[7…  public                          unlicensed                                        0  4c496182-e715-51cc-8da2-b4d16edd…  ONLINE             IW                self                    Point                     never                             LEVEL1                      <gml:Polygon srsName=\"EPSG:4326\"…  2022-06-17T12:41:02.905Z  IW_GRDH_1S              S1A                                            50.169   2022-06-16T05:50:56.500Z                                 -1  No license                               \u001b[90m                                                 \u001b[0m\u001b[90m                             \u001b[0m SAR                                                0  The Sentinel-1 mission is the Eu… \u001b[90m                                 \u001b[0m /eodata/Sentinel-1/SAR/GRD/2022/…  IW                     2022-06-17T12:41:02.905Z                     0 \u001b[90m                      \u001b[0m                  10.0  ESA                          2022-06-16T05:51:21.499Z   SENTINEL-1             GeoJSON link for 4c496182-e715-5…  https://catalogue.dataspace.cope…  NRT-3h                                                 0  application/json        \u001b[90m                                     \u001b[0m                             37  Polygon        https://catalogue.dataspace.cope…                            5.36931  application/octet-stream                                43684\n",
      "   7 │ VV&VH                    ASCENDING                  S1A_IW_GRDH_1SDV_20220612T173304…  Feature  http://codede.data.cloud.code-de…  Any[Any[2.05104, 50.9494], Any[2…  public                          unlicensed                                        0  522c48a4-789a-5f35-9d5e-32970e8e…  ONLINE             IW                self                    Point                     never                             LEVEL1                      <gml:Polygon srsName=\"EPSG:4326\"…  2022-06-12T18:31:32.384Z  IW_GRDH_1S              S1A                                            50.4101  2022-06-12T17:33:04.384Z                                 -1  No license                               \u001b[90m                                                 \u001b[0m\u001b[90m                             \u001b[0m SAR                                                0  The Sentinel-1 mission is the Eu… \u001b[90m                                 \u001b[0m /eodata/Sentinel-1/SAR/GRD/2022/…  IW                     2022-06-12T18:31:32.384Z                     0 \u001b[90m                      \u001b[0m                  10.0  ESA                          2022-06-12T17:33:29.382Z   SENTINEL-1             GeoJSON link for 522c48a4-789a-5…  https://catalogue.dataspace.cope…  NRT-3h                                                 0  application/json        \u001b[90m                                     \u001b[0m                            161  Polygon        https://catalogue.dataspace.cope…                            4.10929  application/octet-stream                                43633\n",
      "   8 │ VV&VH                    ASCENDING                  S1A_IW_GRDH_1SDV_20220619T172523…  Feature  http://codede.data.cloud.code-de…  Any[Any[3.45785, 52.8923], Any[3…  public                          unlicensed                                        0  7769d3d8-bf61-57f6-a906-dc9dac50…  ONLINE             IW                self                    Point                     never                             LEVEL1                      <gml:Polygon srsName=\"EPSG:4326\"…  2022-06-19T18:34:11.649Z  IW_GRDH_1S              S1A                                            52.3557  2022-06-19T17:25:23.648Z                                 -1  No license                               \u001b[90m                                                 \u001b[0m\u001b[90m                             \u001b[0m SAR                                                0  The Sentinel-1 mission is the Eu… \u001b[90m                                 \u001b[0m /eodata/Sentinel-1/SAR/GRD/2022/…  IW                     2022-06-19T18:34:11.649Z                     0 \u001b[90m                      \u001b[0m                  10.0  ESA                          2022-06-19T17:25:48.647Z   SENTINEL-1             GeoJSON link for 7769d3d8-bf61-5…  https://catalogue.dataspace.cope…  NRT-3h                                                 0  application/json        \u001b[90m                                     \u001b[0m                             88  Polygon        https://catalogue.dataspace.cope…                            5.60876  application/octet-stream                                43735\n"
     ]
    }
   ],
   "source": [
    "data = Test_name.Download.Metadata.download_metadata_copernicus(bbox=\"4,51,4.5,52\",start_datetime=\"2022-06-11T00:00:00Z\", \n",
    "end_datetime=\"2022-06-22T23:59:59Z\", max_records=\"100\",collection=\"Sentinel1\",product_type= \"GRD\",verbose=1);\n",
    "df = Test_name.Download.Metadata.vector_of_dicts_to_dataframe(data[\"features\"]);\n",
    "println(df)"
   ]
  },
  {
   "cell_type": "code",
   "execution_count": 5,
   "metadata": {},
   "outputs": [],
   "source": []
  },
  {
   "cell_type": "code",
   "execution_count": null,
   "metadata": {},
   "outputs": [],
   "source": [
    "using HTTP\n",
    "using ProgressMeter\n",
    "using FileIO\n",
    "\n",
    "function download_product2(access_token::String, product_id::String, filename::String)\n",
    "    # URL of the file\n",
    "    url = \"https://zipper.dataspace.copernicus.eu/odata/v1/Products($product_id)/\\$value\"\n",
    "\n",
    "    # Authorization header\n",
    "    headers = Dict(\"Authorization\" => \"Bearer $access_token\")\n",
    "\n",
    "    try\n",
    "        # Make an HTTP GET request with the specified headers\n",
    "        response = HTTP.get(url, headers=headers, request_timeout=30; stream=true)\n",
    "\n",
    "        # Check if the response status is successful\n",
    "        if HTTP.status(response) == 200\n",
    "            # Get the content length from headers for progress meter\n",
    "            content_length = parse(Int, get(response.headers, \"Content-Length\", \"0\"))\n",
    "\n",
    "            # Create a progress meter\n",
    "            p = Progress(content_length, desc=\"Downloading file\")\n",
    "\n",
    "            # Open the file for writing\n",
    "            open(filename, \"w\") do file\n",
    "                # Stream the response body and write to the file\n",
    "                for chunk in response.body\n",
    "                    write(file, chunk)\n",
    "                    # Update the progress meter\n",
    "                    ProgressMeter.update!(p, length(chunk))\n",
    "                end\n",
    "            end\n",
    "            println(\"File downloaded successfully.\")\n",
    "        else\n",
    "            println(\"Failed to download the file. Status code: \", HTTP.status(response))\n",
    "        end\n",
    "    catch e\n",
    "        println(\"Error: \", e)\n",
    "    end\n",
    "end\n"
   ]
  },
  {
   "cell_type": "code",
   "execution_count": null,
   "metadata": {},
   "outputs": [],
   "source": []
  },
  {
   "cell_type": "code",
   "execution_count": 15,
   "metadata": {},
   "outputs": [],
   "source": [
    "download_product(access_token,df.id[2],\"/Users/kaaso/Documents/coding/JuliaEO2024/data/raw/$(df.id[2]).zip\")"
   ]
  },
  {
   "cell_type": "markdown",
   "metadata": {},
   "source": []
  },
  {
   "cell_type": "code",
   "execution_count": 7,
   "metadata": {},
   "outputs": [
    {
     "name": "stderr",
     "output_type": "stream",
     "text": [
      "WARNING: both GeometryBasics and LibGEOS export \"Point\"; uses of it in module Metadata must be qualified\n"
     ]
    },
    {
     "ename": "UndefVarError",
     "evalue": "UndefVarError: Point not defined",
     "output_type": "error",
     "traceback": [
      "UndefVarError: Point not defined\n",
      "\n",
      "Stacktrace:\n",
      " [1] #9\n",
      "   @ ./none:0 [inlined]\n",
      " [2] iterate\n",
      "   @ ./generator.jl:47 [inlined]\n",
      " [3] collect(itr::Base.Generator{Vector{Any}, Main.Test_name.Download.Metadata.var\"#9#12\"})\n",
      "   @ Base ./array.jl:787\n",
      " [4] plot_polygons(df::DataFrames.DataFrame, polygon_column::String, hover_column::String)\n",
      "   @ Main.Test_name.Download.Metadata ~/Documents/coding/JuliaEO2024/src/download/metadata/visualise.jl:21\n",
      " [5] top-level scope\n",
      "   @ ~/Documents/coding/JuliaEO2024/etst3.ipynb:1"
     ]
    }
   ],
   "source": [
    "Test_name.Download.Metadata.plot_polygons(df, \"geometry_coordinates_1\", \"properties_updated\")\n"
   ]
  },
  {
   "cell_type": "code",
   "execution_count": null,
   "metadata": {},
   "outputs": [],
   "source": []
  },
  {
   "cell_type": "code",
   "execution_count": null,
   "metadata": {},
   "outputs": [],
   "source": []
  }
 ],
 "metadata": {
  "kernelspec": {
   "display_name": "Julia 1.9.4",
   "language": "julia",
   "name": "julia-1.9"
  },
  "language_info": {
   "file_extension": ".jl",
   "mimetype": "application/julia",
   "name": "julia",
   "version": "1.9.4"
  }
 },
 "nbformat": 4,
 "nbformat_minor": 2
}
