{
 "cells": [
  {
   "cell_type": "code",
   "execution_count": 1,
   "metadata": {},
   "outputs": [
    {
     "name": "stderr",
     "output_type": "stream",
     "text": [
      "┌ Warning: Replacing docs for `Main.Test_name.Download.Metadata.to_rcm_time :: Tuple{String}` in module `Main.Test_name.Download.Metadata`\n",
      "└ @ Base.Docs docs/Docs.jl:243\n",
      "┌ Warning: Replacing docs for `Main.Test_name.Download.Metadata.bounding_box_to_geojson :: Tuple{}` in module `Main.Test_name.Download.Metadata`\n",
      "└ @ Base.Docs docs/Docs.jl:243\n",
      "┌ Warning: Replacing docs for `Main.Test_name.Download.Metadata.coordinate_to_geojson :: Union{Tuple{T}, Tuple{T, T}} where T<:Real` in module `Main.Test_name.Download.Metadata`\n",
      "└ @ Base.Docs docs/Docs.jl:243\n",
      "┌ Warning: Replacing docs for `Main.Test_name.Download.Metadata.wkt_to_tuples :: Tuple{Any}` in module `Main.Test_name.Download.Metadata`\n",
      "└ @ Base.Docs docs/Docs.jl:243\n"
     ]
    }
   ],
   "source": [
    "using Pkg\n",
    "Pkg.instantiate()\n",
    "using DotEnv\n",
    "include(\"src/test_name.jl\")\n",
    "using .Test_name"
   ]
  },
  {
   "cell_type": "code",
   "execution_count": 2,
   "metadata": {},
   "outputs": [],
   "source": [
    "using PyCall\n",
    "DotEnv.config();"
   ]
  },
  {
   "cell_type": "code",
   "execution_count": 3,
   "metadata": {},
   "outputs": [
    {
     "data": {
      "text/plain": [
       "1-element Vector{Tuple{String, Vector{Tuple{Float64, Float64}}}}:\n",
       " (\"contains\", [(9.99, 55.01), (10.01, 55.01), (10.01, 54.99), (9.99, 54.99), (9.99, 55.01)])"
      ]
     },
     "metadata": {},
     "output_type": "display_data"
    }
   ],
   "source": [
    "# Define the base URL for the Sentinel-1 data collection\n",
    "start_time = Test_name.Download.Metadata.to_rcm_time(\"2022-10-10\");\n",
    "end_time = Test_name.Download.Metadata.to_rcm_time(\"2022-10-11\");\n",
    "box = \"70,75,5,10\"\n",
    "split_strings = split(box, \",\")\n",
    "lat_min, lat_max, lon_min, lon_max  = parse.(Int, split_strings)\n",
    "#lat_min, lat_max, lon_min, lon_max = map(float, bbox.split(','))\n",
    "area = Test_name.Download.Metadata.bounding_box_to_geojson(lat_min=lat_min, lat_max=lat_max, lon_min=lon_min, lon_max=lon_max);\n",
    "area = Test_name.Download.Metadata.coordinate_to_geojson(55.0,10.0)"
   ]
  },
  {
   "cell_type": "code",
   "execution_count": 4,
   "metadata": {},
   "outputs": [
    {
     "name": "stdout",
     "output_type": "stream",
     "text": [
      "| EODMSRAPI | 2023-11-28 09:42:45 | Getting Collection information, please wait...\n",
      "| EODMSRAPI | 2023-11-28 09:42:50 |  WARNING: No available field named 'Beam Mode'.\n",
      "\n",
      "| EODMSRAPI | 2023-11-28 09:42:50 | Searching for RCMImageProducts images on RAPI\n",
      "| EODMSRAPI | 2023-11-28 09:42:50 | Querying records within 1 to 1000...\n",
      "| EODMSRAPI | 2023-11-28 09:42:52 | Number of RCMImageProducts images returned from RAPI: 10\n"
     ]
    },
    {
     "name": "stderr",
     "output_type": "stream",
     "text": [
      "\r| EODMSRAPI | Fetching result metadata:   0%|          | 0/10 [00:00<?, ?item/s]\r| EODMSRAPI | Fetching result metadata:  10%|#         | 1/10 [00:00<00:07,  1.14item/s]\r| EODMSRAPI | Fetching result metadata:  60%|######    | 6/10 [00:01<00:00,  5.30item/s]\r| EODMSRAPI | Fetching result metadata:  70%|#######   | 7/10 [00:01<00:00,  5.80item/s]\r| EODMSRAPI | Fetching result metadata:  80%|########  | 8/10 [00:01<00:00,  6.38item/s]\r| EODMSRAPI | Fetching result metadata: 100%|##########| 10/10 [00:01<00:00,  6.15item/s]\r| EODMSRAPI | Fetching result metadata: 100%|##########| 10/10 [00:01<00:00,  5.28item/s]\n"
     ]
    }
   ],
   "source": [
    "rcm_data = Test_name.Download.Metadata.download_metadata_rcm(area = area, username = get(ENV, \"RCM_USERNAME\", \"\"), password = get(ENV, \"RCM_PASSWORD\", \"\"));"
   ]
  },
  {
   "cell_type": "code",
   "execution_count": 5,
   "metadata": {},
   "outputs": [],
   "source": [
    "df = Test_name.Download.Metadata.vector_of_dicts_to_dataframe(rcm_data);"
   ]
  },
  {
   "cell_type": "code",
   "execution_count": 39,
   "metadata": {},
   "outputs": [
    {
     "name": "stdout",
     "output_type": "stream",
     "text": [
      "\u001b[1m10×111 DataFrame\u001b[0m\n",
      "\u001b[1m Row \u001b[0m│\u001b[1m satellite \u001b[0m\u001b[1m productDatum \u001b[0m\u001b[1m sampledPixelSpacing \u001b[0m\u001b[1m providerId \u001b[0m\u001b[1m collectionId     \u001b[0m\u001b[1m datasetId \u001b[0m\u001b[1m processorVersion \u001b[0m\u001b[1m metadataFullUrl                   \u001b[0m\u001b[1m sensorId \u001b[0m\u001b[1m sensorFolder \u001b[0m\u001b[1m acquisitionEndDate        \u001b[0m\u001b[1m metadataFullName                  \u001b[0m\u001b[1m sipSize \u001b[0m\u001b[1m geometry_crs_properties_name \u001b[0m\u001b[1m creationDate              \u001b[0m\u001b[1m downlinkSegmentId \u001b[0m\u001b[1m overviewUrl                       \u001b[0m\u001b[1m sampleType         \u001b[0m\u001b[1m inter-polarizationMatricesCorrection \u001b[0m\u001b[1m lutApplied \u001b[0m\u001b[1m dopplerAnomalyGrid \u001b[0m\u001b[1m lookOrientation \u001b[0m\u001b[1m archiveVisibilityStartDate \u001b[0m\u001b[1m thisRecordUrl                     \u001b[0m\u001b[1m productMapZone \u001b[0m\u001b[1m relativeOrbit \u001b[0m\u001b[1m beamModeVersion \u001b[0m\u001b[1m securityClassification       \u001b[0m\u001b[1m collectionTitle    \u001b[0m\u001b[1m isGeorectified \u001b[0m\u001b[1m calibrationIssues \u001b[0m\u001b[1m geometry_coordinates_7 \u001b[0m\u001b[1m metadata    \u001b[0m\u001b[1m absoluteOrbit \u001b[0m\u001b[1m recordId \u001b[0m\u001b[1m geometry_coordinates_1 \u001b[0m\u001b[1m productFormat \u001b[0m\u001b[1m orderExecuteUrl                   \u001b[0m\u001b[1m productMapProjection \u001b[0m\u001b[1m vapEnabled \u001b[0m\u001b[1m processingPriority \u001b[0m\u001b[1m geometry_coordinates_5 \u001b[0m\u001b[1m orbitDataFilename                 \u001b[0m\u001b[1m options \u001b[0m\u001b[1m supplierOrderNumber               \u001b[0m\u001b[1m publicGood \u001b[0m\u001b[1m numberOfAzimuthLooks \u001b[0m\u001b[1m productEllipsoid \u001b[0m\u001b[1m sequenceId \u001b[0m\u001b[1m geometry_coordinates_3 \u001b[0m\u001b[1m title                             \u001b[0m\u001b[1m geodeticTerrainHeight \u001b[0m\u001b[1m productId \u001b[0m\u001b[1m declassificationDate      \u001b[0m\u001b[1m processingDate            \u001b[0m\u001b[1m wktGeometry                       \u001b[0m\u001b[1m metadataUrl                       \u001b[0m\u001b[1m polarizationDataMode \u001b[0m\u001b[1m beamModeType          \u001b[0m\u001b[1m processorName \u001b[0m\u001b[1m rapiOrderUrl                      \u001b[0m\u001b[1m serviceUuid                       \u001b[0m\u001b[1m openData \u001b[0m\u001b[1m subcollectionId \u001b[0m\u001b[1m orbitDataSource \u001b[0m\u001b[1m thumbnailUrl                      \u001b[0m\u001b[1m specialHandlingInstructions       \u001b[0m\u001b[1m eulaFilename \u001b[0m\u001b[1m polarization \u001b[0m\u001b[1m numberOfRangeLooks \u001b[0m\u001b[1m quicklookFullName                 \u001b[0m\u001b[1m clientOrderNumber \u001b[0m\u001b[1m beamModeDefinitionId \u001b[0m\u001b[1m spatialResolution \u001b[0m\u001b[1m specialHandlingRequired \u001b[0m\u001b[1m dataType \u001b[0m\u001b[1m geometry_coordinates_10 \u001b[0m\u001b[1m incidenceAngle \u001b[0m\u001b[1m supplierOrderItemNumber \u001b[0m\u001b[1m inputDatasetFacility \u001b[0m\u001b[1m geometry_coordinates_4 \u001b[0m\u001b[1m beamMnemonic \u001b[0m\u001b[1m processingFacility \u001b[0m\u001b[1m geometry_type \u001b[0m\u001b[1m buyerId \u001b[0m\u001b[1m polarizationInProduct \u001b[0m\u001b[1m acquisitionStartDate      \u001b[0m\u001b[1m notifiedClientEmailList \u001b[0m\u001b[1m geometry_coordinates_2 \u001b[0m\u001b[1m geometry_coordinates_9 \u001b[0m\u001b[1m beamModeDescription               \u001b[0m\u001b[1m geographicalArea \u001b[0m\u001b[1m featureId                         \u001b[0m\u001b[1m relatedProducts \u001b[0m\u001b[1m productOrientation \u001b[0m\u001b[1m geometry_coordinates_8 \u001b[0m\u001b[1m isOrderable \u001b[0m\u001b[1m processingLevel \u001b[0m\u001b[1m satelliteId \u001b[0m\u001b[1m geometry_crs_type \u001b[0m\u001b[1m geometry_coordinates_6 \u001b[0m\u001b[1m ownerId \u001b[0m\u001b[1m processingMode \u001b[0m\u001b[1m withinOrbitTube \u001b[0m\u001b[1m clientProjectName                 \u001b[0m\u001b[1m reason \u001b[0m\u001b[1m productApplication \u001b[0m\u001b[1m orbitDirection \u001b[0m\u001b[1m productType \u001b[0m\u001b[1m visibilityRestrictionExpiryDate \u001b[0m\u001b[1m clientOrderItemNumber \u001b[0m\n",
      "     │\u001b[90m String    \u001b[0m\u001b[90m String       \u001b[0m\u001b[90m String              \u001b[0m\u001b[90m String     \u001b[0m\u001b[90m String           \u001b[0m\u001b[90m String    \u001b[0m\u001b[90m String           \u001b[0m\u001b[90m String                            \u001b[0m\u001b[90m String   \u001b[0m\u001b[90m String       \u001b[0m\u001b[90m String                    \u001b[0m\u001b[90m String                            \u001b[0m\u001b[90m String  \u001b[0m\u001b[90m String                       \u001b[0m\u001b[90m String                    \u001b[0m\u001b[90m String            \u001b[0m\u001b[90m String                            \u001b[0m\u001b[90m String             \u001b[0m\u001b[90m String                               \u001b[0m\u001b[90m String     \u001b[0m\u001b[90m String             \u001b[0m\u001b[90m String          \u001b[0m\u001b[90m String                     \u001b[0m\u001b[90m String                            \u001b[0m\u001b[90m String         \u001b[0m\u001b[90m String        \u001b[0m\u001b[90m String          \u001b[0m\u001b[90m String                       \u001b[0m\u001b[90m String             \u001b[0m\u001b[90m Bool           \u001b[0m\u001b[90m String            \u001b[0m\u001b[90m Float64                \u001b[0m\u001b[90m String      \u001b[0m\u001b[90m String        \u001b[0m\u001b[90m String   \u001b[0m\u001b[90m Float64                \u001b[0m\u001b[90m String        \u001b[0m\u001b[90m String                            \u001b[0m\u001b[90m String               \u001b[0m\u001b[90m String     \u001b[0m\u001b[90m String             \u001b[0m\u001b[90m Float64                \u001b[0m\u001b[90m String                            \u001b[0m\u001b[90m String  \u001b[0m\u001b[90m String                            \u001b[0m\u001b[90m String     \u001b[0m\u001b[90m String               \u001b[0m\u001b[90m String           \u001b[0m\u001b[90m String     \u001b[0m\u001b[90m Float64                \u001b[0m\u001b[90m String                            \u001b[0m\u001b[90m String                \u001b[0m\u001b[90m String    \u001b[0m\u001b[90m String                    \u001b[0m\u001b[90m String                    \u001b[0m\u001b[90m String                            \u001b[0m\u001b[90m String                            \u001b[0m\u001b[90m String               \u001b[0m\u001b[90m String                \u001b[0m\u001b[90m String        \u001b[0m\u001b[90m String                            \u001b[0m\u001b[90m String                            \u001b[0m\u001b[90m String   \u001b[0m\u001b[90m String          \u001b[0m\u001b[90m String          \u001b[0m\u001b[90m String                            \u001b[0m\u001b[90m String                            \u001b[0m\u001b[90m String       \u001b[0m\u001b[90m String       \u001b[0m\u001b[90m String             \u001b[0m\u001b[90m String                            \u001b[0m\u001b[90m String            \u001b[0m\u001b[90m String               \u001b[0m\u001b[90m String            \u001b[0m\u001b[90m String                  \u001b[0m\u001b[90m String   \u001b[0m\u001b[90m Float64                 \u001b[0m\u001b[90m String         \u001b[0m\u001b[90m String                  \u001b[0m\u001b[90m String               \u001b[0m\u001b[90m Float64                \u001b[0m\u001b[90m String       \u001b[0m\u001b[90m String             \u001b[0m\u001b[90m String        \u001b[0m\u001b[90m String  \u001b[0m\u001b[90m String                \u001b[0m\u001b[90m String                    \u001b[0m\u001b[90m String                  \u001b[0m\u001b[90m Float64                \u001b[0m\u001b[90m Float64                \u001b[0m\u001b[90m String                            \u001b[0m\u001b[90m String           \u001b[0m\u001b[90m String                            \u001b[0m\u001b[90m String          \u001b[0m\u001b[90m String             \u001b[0m\u001b[90m Float64                \u001b[0m\u001b[90m Bool        \u001b[0m\u001b[90m String          \u001b[0m\u001b[90m String      \u001b[0m\u001b[90m String            \u001b[0m\u001b[90m Float64                \u001b[0m\u001b[90m String  \u001b[0m\u001b[90m String         \u001b[0m\u001b[90m String          \u001b[0m\u001b[90m String                            \u001b[0m\u001b[90m String \u001b[0m\u001b[90m String             \u001b[0m\u001b[90m String         \u001b[0m\u001b[90m String      \u001b[0m\u001b[90m String                          \u001b[0m\u001b[90m String                \u001b[0m\n",
      "─────┼───────────────────────────────────────────────────────────────────────────────────────────────────────────────────────────────────────────────────────────────────────────────────────────────────────────────────────────────────────────────────────────────────────────────────────────────────────────────────────────────────────────────────────────────────────────────────────────────────────────────────────────────────────────────────────────────────────────────────────────────────────────────────────────────────────────────────────────────────────────────────────────────────────────────────────────────────────────────────────────────────────────────────────────────────────────────────────────────────────────────────────────────────────────────────────────────────────────────────────────────────────────────────────────────────────────────────────────────────────────────────────────────────────────────────────────────────────────────────────────────────────────────────────────────────────────────────────────────────────────────────────────────────────────────────────────────────────────────────────────────────────────────────────────────────────────────────────────────────────────────────────────────────────────────────────────────────────────────────────────────────────────────────────────────────────────────────────────────────────────────────────────────────────────────────────────────────────────────────────────────────────────────────────────────────────────────────────────────────────────────────────────────────────────────────────────────────────────────────────────────────────────────────────────────────────────────────────────────────────────────────────────────────────────────────────────────────────────────────────────────────────────────────────────────────────────────────────────────────────────────────────────────────────────────────────────────────────────────────────────────────────────────────────────────────────────────────────────────────────────────────────────────────────────────────────────────────────────────────────────────────────────────────────────────────────────────────────────────────────────────────────────────────────────────────────────────────────────────────────────────────────────────────────────────────────────────────────────────────────────────────────────────────────────────────────────\n",
      "   1 │ RCM                      20                   1           RCMImageProducts  2291684_1  RCM PGS 7.06      https://www.eodms-sgdot.nrcan-rn…  88        med50         2022-10-10T02:39:02 +0000  /rcm/sar/l1/2022/noamer/med50/rc…  867      EPSG:4326                     2022-10-10T02:47:58 +0000  5094546_5099001    http://was-eodms.compusult.net/w…  Magnitude Detected                                        Mixed       false               Right            2022-10-10T02:38:25 +0000   https://www.eodms-sgdot.nrcan-rn…                  92             2                Non classifié / Unclassified  RCM Image Products           false  Calibrated                       48.5229   dummy value  18131.0        14068734               -135.199   GeoTIFF        https://www.eodms-sgdot.nrcan-rn…                        true                                         -135.199   RCM-2_2022-10-09T11-18-28_018131…           RCM2_OK2095282_PK2291684_1_SC50M…  false       1                     WGS 1984          14068734                 -129.651   RCM2_OK2095282_PK2291684_1_SC50M…  0                      2291684_1  1900-01-01T00:00:00 +0000  2022-10-10T02:44:55 +0000  POLYGON ((-135.198586602703 50.7…  https://www.eodms-sgdot.nrcan-rn…  Dual Co/Cross         Medium Resolution 50m                 https://www.eodms-sgdot.nrcan-rn…  62f0e816-8006-4768-8f32-6ef4008e…  false     2                Downlinked       https://www.eodms-sgdot.nrcan-rn…  No special handling required, us…  license.pdf   HH HV         4                   /rcm/sar/l1/2022/noamer/med50/rc…                     22                    50                 false                    Integer                  50.7474   52                                       ICAN                               -130.136   SC50MB        SHUB                Polygon        5        HH HV                  2022-10-10T02:38:25 +0000                                        -134.487                 51.2916   ScanSAR 50m Resolution 350km Swa…                    62f0e816-8006-4768-8f32-6ef4008e…                                                     49.0636          true  l1               RCM-2        name                             50.7474   2        Expedited       true             Integrated Satellite Tracking of…          Atmosphere          Ascending       GRD          2022-10-10T02:38:40 +0000\n",
      "   2 │ RCM                      20                   1           RCMImageProducts  2291685_1  RCM PGS 7.05      https://www.eodms-sgdot.nrcan-rn…  88        med50         2022-10-10T02:39:02 +0000  /rcm/sar/l1/2022/noamer/med50/rc…  867      EPSG:4326                     2022-10-10T02:47:17 +0000  5094546_5099001    http://was-eodms.compusult.net/w…  Magnitude Detected                                        Mixed       false               Right            2022-10-10T02:38:25 +0000   https://www.eodms-sgdot.nrcan-rn…                  92             2                Non classifié / Unclassified  RCM Image Products           false  Calibrated                       48.5229   dummy value  18131.0        14068733               -135.199   GeoTIFF        https://www.eodms-sgdot.nrcan-rn…                        true                                         -135.199   RCM-2_2022-10-09T11-18-28_018131…           RCM2_OK2067426_PK2291685_1_SC50M…  false       1                     WGS 1984          14068733                 -129.651   RCM2_OK2067426_PK2291685_1_SC50M…  0                      2291685_1  1900-01-01T00:00:00 +0000  2022-10-10T02:44:53 +0000  POLYGON ((-135.198586602703 50.7…  https://www.eodms-sgdot.nrcan-rn…  Dual Co/Cross         Medium Resolution 50m                 https://www.eodms-sgdot.nrcan-rn…  62f0e816-8006-4768-8f32-6ef4008e…  false     2                Downlinked       https://www.eodms-sgdot.nrcan-rn…  No special handling required, us…  license.pdf   HH HV         4                   /rcm/sar/l1/2022/noamer/med50/rc…                     22                    50                 false                    Integer                  50.7474   52                                       ICAN                               -130.136   SC50MB        SHUB                Polygon        5        HH HV                  2022-10-10T02:38:25 +0000                                        -134.487                 51.2916   ScanSAR 50m Resolution 350km Swa…                    62f0e816-8006-4768-8f32-6ef4008e…                                                     49.0636          true  l1               RCM-2        name                             50.7474   2        Expedited       true             NSW                                        Atmosphere          Ascending       GRD          2022-10-10T02:38:40 +0000\n",
      "   3 │ RCM                      20                   1           RCMImageProducts  2291690_1  RCM PGS 7.05      https://www.eodms-sgdot.nrcan-rn…  88        med50         2022-10-10T02:38:20 +0000  /rcm/sar/l1/2022/noamer/med50/rc…  331      EPSG:4326                     2022-10-10T02:44:30 +0000  5094544_5098990    http://was-eodms.compusult.net/w…  Magnitude Detected                                        Ship-1      false               Right            2022-10-10T02:38:06 +0000   https://www.eodms-sgdot.nrcan-rn…                  92             2                Non classifié / Unclassified  RCM Image Products           false  Calibrated                       47.4904   dummy value  18131.0        14068720               -133.213   GeoTIFF        https://www.eodms-sgdot.nrcan-rn…                        true        Medium                           -133.213   RCM-2_2022-10-09T11-18-28_018131…           RCM2_OK2143548_PK2291690_1_SC50M…  false       1                     WGS 1984          14068720                 -128.239   RCM2_OK2143548_PK2291690_1_SC50M…  -21.623806             2291690_1  1900-01-01T00:00:00 +0000  2022-10-10T02:41:35 +0000  POLYGON ((-133.213180486399 48.3…  https://www.eodms-sgdot.nrcan-rn…  Dual Co/Cross         Medium Resolution 50m                 https://www.eodms-sgdot.nrcan-rn…  62f0e816-8006-4768-8f32-6ef4008e…  false     2                Downlinked       https://www.eodms-sgdot.nrcan-rn…  No special handling required, us…  license.pdf   HH HV         4                   /rcm/sar/l1/2022/noamer/med50/rc…                     23                    50                 false                    Integer                  48.3352   52                                       ICAN                               -128.397   SC50MC        SHUB                Polygon        5        HH HV                  2022-10-10T02:38:06 +0000                                        -132.977                 48.8253   ScanSAR 50m Resolution 350km Swa…                    62f0e816-8006-4768-8f32-6ef4008e…                                                     47.9811          true  l1               RCM-2        name                             48.3352   2        Standard        true             Ship detection                             Atmosphere          Ascending       GRD          2022-10-10T02:38:19 +0000\n",
      "   4 │ RCM                      20                   1           RCMImageProducts  2291678_1  RCM PGS 7.06      https://www.eodms-sgdot.nrcan-rn…  88        med50         2022-10-10T02:38:23 +0000  /rcm/sar/l1/2022/noamer/med50/rc…  890      EPSG:4326                     2022-10-10T02:44:36 +0000  5094544_5098990    http://was-eodms.compusult.net/w…  Magnitude Detected                                        Mixed       false               Right            2022-10-10T02:37:45 +0000   https://www.eodms-sgdot.nrcan-rn…                  92             2                Non classifié / Unclassified  RCM Image Products           false  Calibrated                       46.2298   dummy value  18131.0        14068721               -133.272   GeoTIFF        https://www.eodms-sgdot.nrcan-rn…                        true                                         -133.272   RCM-2_2022-10-09T11-18-28_018131…           RCM2_OK2095282_PK2291678_1_SC50M…  false       1                     WGS 1984          14068721                 -128.005   RCM2_OK2095282_PK2291678_1_SC50M…  0                      2291678_1  1900-01-01T00:00:00 +0000  2022-10-10T02:42:10 +0000  POLYGON ((-133.271840478404 48.5…  https://www.eodms-sgdot.nrcan-rn…  Dual Co/Cross         Medium Resolution 50m                 https://www.eodms-sgdot.nrcan-rn…  62f0e816-8006-4768-8f32-6ef4008e…  false     2                Downlinked       https://www.eodms-sgdot.nrcan-rn…  No special handling required, us…  license.pdf   HH HV         4                   /rcm/sar/l1/2022/noamer/med50/rc…                     23                    50                 false                    Integer                  48.5204   52                                       ICAN                               -128.431   SC50MC        SHUB                Polygon        5        HH HV                  2022-10-10T02:37:45 +0000                                        -132.638                 49.0111   ScanSAR 50m Resolution 350km Swa…                    62f0e816-8006-4768-8f32-6ef4008e…                                                     46.7226          true  l1               RCM-2        name                             48.5204   2        Expedited       true             Integrated Satellite Tracking of…          Atmosphere          Ascending       GRD          2022-10-10T02:38:19 +0000\n",
      "   5 │ RCM                      20                   1           RCMImageProducts  2291679_1  RCM PGS 7.06      https://www.eodms-sgdot.nrcan-rn…  88        med50         2022-10-10T02:38:23 +0000  /rcm/sar/l1/2022/noamer/med50/rc…  1207     EPSG:4326                     2022-10-10T02:46:01 +0000  5094544_5098990    http://was-eodms.compusult.net/w…  Magnitude Detected                                        Mixed       false               Right            2022-10-10T02:37:32 +0000   https://www.eodms-sgdot.nrcan-rn…                  92             2                Non classifié / Unclassified  RCM Image Products           false  Calibrated                       45.4137   dummy value  18131.0        14068731               -133.279   GeoTIFF        https://www.eodms-sgdot.nrcan-rn…                        true                                         -133.279   RCM-2_2022-10-09T11-18-28_018131…           RCM2_OK2067426_PK2291679_1_SC50M…  false       1                     WGS 1984          14068731                 -127.855   RCM2_OK2067426_PK2291679_1_SC50M…  0                      2291679_1  1900-01-01T00:00:00 +0000  2022-10-10T02:43:08 +0000  POLYGON ((-133.278968343576 48.5…  https://www.eodms-sgdot.nrcan-rn…  Dual Co/Cross         Medium Resolution 50m                 https://www.eodms-sgdot.nrcan-rn…  62f0e816-8006-4768-8f32-6ef4008e…  false     2                Downlinked       https://www.eodms-sgdot.nrcan-rn…  No special handling required, us…  license.pdf   HH HV         4                   /rcm/sar/l1/2022/noamer/med50/rc…                     23                    50                 false                    Integer                  48.5195   52                                       ICAN                               -128.431   SC50MC        SHUB                Polygon        5        HH HV                  2022-10-10T02:37:32 +0000                                        -132.428                 49.0111   ScanSAR 50m Resolution 350km Swa…                    62f0e816-8006-4768-8f32-6ef4008e…                                                     45.9083          true  l1               RCM-2        name                             48.5195   2        Expedited       true             NSW                                        Atmosphere          Ascending       GRD          2022-10-10T02:38:19 +0000\n",
      "   6 │ RCM                      20                   1           RCMImageProducts  2291772_1  RCM PGS 7.06      https://www.eodms-sgdot.nrcan-rn…  88        med50         2022-10-10T02:22:46 +0000  /rcm/sar/l1/2022/eurnasia/med50/…  643      EPSG:4326                     2022-10-10T04:00:51 +0000  5094489_5099240    http://was-eodms.compusult.net/w…  Magnitude Detected                                        Ice         false               Right            2022-10-10T02:22:20 +0000   https://www.eodms-sgdot.nrcan-rn…                  32             2                Non classifié / Unclassified  RCM Image Products           false  Calibrated                       70.9005   dummy value  18131.0        14068922                 57.4088  GeoTIFF        https://www.eodms-sgdot.nrcan-rn…                        true        Low                                57.4088  RCM-3_2022-10-09T10-55-31_018131…           RCM3_OK2142621_PK2291772_1_SC50M…  false       1                     WGS 1984          14068922                   66.4715  RCM3_OK2142621_PK2291772_1_SC50M…  -4.8736873             2291772_1  1900-01-01T00:00:00 +0000  2022-10-10T03:58:51 +0000  POLYGON ((57.4087755128363 72.52…  https://www.eodms-sgdot.nrcan-rn…  Dual Co/Cross         Medium Resolution 50m                 https://www.eodms-sgdot.nrcan-rn…  62f0e816-8006-4768-8f32-6ef4008e…  false     2                Downlinked       https://www.eodms-sgdot.nrcan-rn…  No special handling required, us…  license.pdf   HH HV         4                   /rcm/sar/l1/2022/eurnasia/med50/…                     23                    50                 false                    Integer                  72.5261   52                                       ICAN                                 67.8537  SC50MC        SHUB                Polygon        5        HH HV                  2022-10-10T02:22:20 +0000                                          56.8471                71.8963   ScanSAR 50m Resolution 350km Swa…                    62f0e816-8006-4768-8f32-6ef4008e…                                                     70.3027          true  l1               RCM-3        name                             72.5261   2        Standard        true             ESA CSA Ice Collaboration                  Ice                 Descending      GRD          2022-10-10T02:22:46 +0000\n",
      "   7 │ RCM                      20                   1           RCMImageProducts  2291743_1  RCM PGS 7.05      https://www.eodms-sgdot.nrcan-rn…  88        med50         2022-10-10T01:51:23 +0000  /rcm/sar/l1/2022/eurnasia/med50/…  431      EPSG:4326                     2022-10-10T03:40:39 +0000  5094539_5099575    http://was-eodms.compusult.net/w…  Magnitude Detected                                        Ice         false               Right            2022-10-10T01:51:05 +0000   https://www.eodms-sgdot.nrcan-rn…                  151            2                Non classifié / Unclassified  RCM Image Products           false  Calibrated                       66.4782   dummy value  18130.0        14068916                 66.0748  GeoTIFF        https://www.eodms-sgdot.nrcan-rn…                        true        Low                                66.0748  RCM-1_2022-10-09T11-59-46_018130…           RCM1_OK2142621_PK2291743_1_SC50M…  false       1                     WGS 1984          14068916                   73.5362  RCM1_OK2142621_PK2291743_1_SC50M…  57.90917               2291743_1  1900-01-01T00:00:00 +0000  2022-10-10T03:31:18 +0000  POLYGON ((66.0748174383582 67.57…  https://www.eodms-sgdot.nrcan-rn…  Dual Co/Cross         Medium Resolution 50m                 https://www.eodms-sgdot.nrcan-rn…  62f0e816-8006-4768-8f32-6ef4008e…  false     2                Downlinked       https://www.eodms-sgdot.nrcan-rn…  No special handling required, us…  license.pdf   HH HV         4                   /rcm/sar/l1/2022/eurnasia/med50/…                     22                    50                 false                    Integer                  67.5723   52                                       ICAN                                 74.2742  SC50MB        SHUB                Polygon        5        HH HV                  2022-10-10T01:51:05 +0000                                          65.6816                66.9156   ScanSAR 50m Resolution 350km Swa…                    62f0e816-8006-4768-8f32-6ef4008e…                                                     65.8384          true  l1               RCM-1        name                             67.5723   2        Standard        true             ESA CSA Ice Collaboration                  Ice                 Descending      GRD          2022-10-10T01:51:22 +0000\n",
      "   8 │ RCM                      20                   1           RCMImageProducts  2291746_1  RCM PGS 7.06      https://www.eodms-sgdot.nrcan-rn…  88        med50         2022-10-10T01:48:23 +0000  /rcm/sar/l1/2022/eurnasia/med50/…  1286     EPSG:4326                     2022-10-10T03:40:04 +0000  5094538_5099563    http://was-eodms.compusult.net/w…  Magnitude Detected                                        Ice         false               Right            2022-10-10T01:47:30 +0000   https://www.eodms-sgdot.nrcan-rn…                  151            2                Non classifié / Unclassified  RCM Image Products           false  Calibrated                       77.5445   dummy value  18130.0        14068858                 70.0479  GeoTIFF        https://www.eodms-sgdot.nrcan-rn…                        true        Low                                70.0479  RCM-1_2022-10-09T11-59-46_018130…           RCM1_OK2142621_PK2291746_1_SC50M…  false       1                     WGS 1984          14068858                   81.8732  RCM1_OK2142621_PK2291746_1_SC50M…  0.33445507             2291746_1  1900-01-01T00:00:00 +0000  2022-10-10T03:35:59 +0000  POLYGON ((70.0478881018715 80.78…  https://www.eodms-sgdot.nrcan-rn…  Dual Co/Cross         Medium Resolution 50m                 https://www.eodms-sgdot.nrcan-rn…  62f0e816-8006-4768-8f32-6ef4008e…  false     2                Downlinked       https://www.eodms-sgdot.nrcan-rn…  No special handling required, us…  license.pdf   HH HV         4                   /rcm/sar/l1/2022/eurnasia/med50/…                     23                    50                 false                    Integer                  80.7893   52                                       ICAN                                 88.4817  SC50MC        SHUB                Polygon        5        HH HV                  2022-10-10T01:47:30 +0000                                          67.662                 79.7903   ScanSAR 50m Resolution 350km Swa…                    62f0e816-8006-4768-8f32-6ef4008e…                                                     76.7534          true  l1               RCM-1        name                             80.7893   2        Standard        true             ESA CSA Ice Collaboration                  Ice                 Descending      GRD          2022-10-10T01:48:22 +0000\n",
      "   9 │ RCM                      20                   1           RCMImageProducts  2291704_1  RCM PGS 7.05      https://www.eodms-sgdot.nrcan-rn…  88        med50         2022-10-10T01:19:32 +0000  /rcm/sar/l1/2022/eurnasia/med50/…  1368     EPSG:4326                     2022-10-10T02:56:35 +0000  5094519_5099380    http://was-eodms.compusult.net/w…  Magnitude Detected                                        Ice         false               Right            2022-10-10T01:18:35 +0000   https://www.eodms-sgdot.nrcan-rn…                  91             2                Non classifié / Unclassified  RCM Image Products           false  Calibrated                       66.1373   dummy value  18130.0        14068774                 72.5637  GeoTIFF        https://www.eodms-sgdot.nrcan-rn…                        true        Low                                72.5637  RCM-2_2022-10-09T11-18-28_018130…           RCM2_OK2142621_PK2291704_1_SC50M…  false       1                     WGS 1984          14068774                   79.4245  RCM2_OK2142621_PK2291704_1_SC50M…  12.559556              2291704_1  1900-01-01T00:00:00 +0000  2022-10-10T02:54:21 +0000  POLYGON ((72.5636849495397 69.61…  https://www.eodms-sgdot.nrcan-rn…  Dual Co/Cross         Medium Resolution 50m                 https://www.eodms-sgdot.nrcan-rn…  62f0e816-8006-4768-8f32-6ef4008e…  false     2                Downlinked       https://www.eodms-sgdot.nrcan-rn…  No special handling required, us…  license.pdf   HH HV         4                   /rcm/sar/l1/2022/eurnasia/med50/…                     23                    50                 false                    Integer                  69.616    52                                       ICAN                                 81.6262  SC50MC        SHUB                Polygon        5        HH HV                  2022-10-10T01:18:35 +0000                                          71.5829                69.0373   ScanSAR 50m Resolution 350km Swa…                    62f0e816-8006-4768-8f32-6ef4008e…                                                     65.5998          true  l1               RCM-2        name                             69.616    2        Standard        true             ESA CSA Ice Collaboration                  Ice                 Descending      GRD          2022-10-10T01:19:31 +0000\n",
      "  10 │ RCM                      20                   1           RCMImageProducts  2291594_1  RCM PGS 7.06      https://www.eodms-sgdot.nrcan-rn…  88        med50         2022-10-10T00:17:31 +0000  /rcm/sar/l1/2022/noamer/med50/rc…  430      EPSG:4326                     2022-10-10T00:41:31 +0000  5094427_5099254    http://was-eodms.compusult.net/w…  Magnitude Detected                                        Ship-3      false               Right            2022-10-10T00:17:13 +0000   https://www.eodms-sgdot.nrcan-rn…                  31             4                Non classifié / Unclassified  RCM Image Products           false  Calibrated                        1.42025  dummy value  18130.0        14068218                -92.8529  GeoTIFF        https://www.eodms-sgdot.nrcan-rn…                        true        High                              -92.8529  RCM-3_2022-10-09T10-55-31_018130…           RCM3_OK2136028_PK2291594_1_SC50M…  false       1                     WGS 1984          14068218                  -89.4823  RCM3_OK2136028_PK2291594_1_SC50M…  -3.8425083             2291594_1  1900-01-01T00:00:00 +0000  2022-10-10T00:38:39 +0000  POLYGON ((-92.852894156501 2.540…  https://www.eodms-sgdot.nrcan-rn…  Dual Co/Cross         Medium Resolution 50m                 https://www.eodms-sgdot.nrcan-rn…  62f0e816-8006-4768-8f32-6ef4008e…  false     2                Downlinked       https://www.eodms-sgdot.nrcan-rn…  No special handling required, us…  license.pdf   HH HV         4                   /rcm/sar/l1/2022/noamer/med50/rc…                     21                    50                 false                    Integer                   2.54087  52                                       PASS                                -89.7014  SC50MA        SHUB                Polygon        5        HH HV                  2022-10-10T00:17:13 +0000                                         -92.6305                 3.17886  ScanSAR 50m Resolution 350km Swa…                    62f0e816-8006-4768-8f32-6ef4008e…                                                      2.06155         true  l1               RCM-3        name                              2.54087  2        Standard        true             DFO IUU Ecuador 01-OCT to 31-DEC…          Ships               Ascending       GRD          2022-10-10T00:17:30 +0000\n"
     ]
    }
   ],
   "source": [
    "println(df)"
   ]
  },
  {
   "cell_type": "code",
   "execution_count": 7,
   "metadata": {},
   "outputs": [
    {
     "data": {
      "text/plain": [
       "\"/Users/kaaso/Documents/coding/JuliaEO2024/test_folder_del2\""
      ]
     },
     "metadata": {},
     "output_type": "display_data"
    }
   ],
   "source": [
    "path = \"/Users/kaaso/Documents/coding/JuliaEO2024/test_folder_del2\""
   ]
  },
  {
   "cell_type": "code",
   "execution_count": 1,
   "metadata": {},
   "outputs": [
    {
     "ename": "UndefVarError",
     "evalue": "UndefVarError: `df` not defined",
     "output_type": "error",
     "traceback": [
      "UndefVarError: `df` not defined\n",
      "\n",
      "Stacktrace:\n",
      " [1] top-level scope\n",
      "   @ ~/Documents/coding/JuliaEO2024/test_rcm3.ipynb:1"
     ]
    }
   ],
   "source": []
  },
  {
   "cell_type": "code",
   "execution_count": 9,
   "metadata": {},
   "outputs": [
    {
     "ename": "UndefVarError",
     "evalue": "UndefVarError: `make_directory_recursive` not defined",
     "output_type": "error",
     "traceback": [
      "UndefVarError: `make_directory_recursive` not defined\n",
      "\n",
      "Stacktrace:\n",
      " [1] top-level scope\n",
      "   @ ~/Documents/coding/JuliaEO2024/test_rcm3.ipynb:1"
     ]
    }
   ],
   "source": [
    "make_directory_recursive(path)"
   ]
  },
  {
   "cell_type": "code",
   "execution_count": null,
   "metadata": {},
   "outputs": [],
   "source": [
    "#download_product_rcm(username=\"Aalling93\", password = \"Security1234!\",product_result = res[1],destination = path)"
   ]
  },
  {
   "cell_type": "code",
   "execution_count": 12,
   "metadata": {},
   "outputs": [
    {
     "data": {
      "text/plain": [
       "make_directory_recursive (generic function with 1 method)"
      ]
     },
     "metadata": {},
     "output_type": "display_data"
    }
   ],
   "source": [
    "function make_directory_recursive(path::String)\n",
    "    # Use splitpath for platform independence\n",
    "    path_parts = splitpath(path)\n",
    "    \n",
    "    # Handle absolute paths\n",
    "    partial_path = startswith(path, \"/\") ? \"/\" : \"\"\n",
    "\n",
    "    # Iterate through parts of the path\n",
    "    for part in path_parts\n",
    "        # Update the partial path\n",
    "        partial_path = joinpath(partial_path, part)\n",
    "\n",
    "        # Check if this part of the path exists\n",
    "        if !isdir(partial_path)\n",
    "            # Create the directory if it doesn't exist\n",
    "            mkdir(partial_path)\n",
    "        end\n",
    "    end\n",
    "end\n"
   ]
  },
  {
   "cell_type": "code",
   "execution_count": null,
   "metadata": {},
   "outputs": [],
   "source": [
    "@pyimport eodms_rapi\n",
    "\"\"\" \n",
    "\n",
    "# priority : Medium, High, Low, Urgent\n",
    "\n",
    "\"\"\" \n",
    "function order_product_rcm(; username::String, password::String, product_result, destination::String, priority::String=\"Medium\") \n",
    "    # \n",
    "    #making a dir for the download   \n",
    "    rapi = eodms_rapi.EODMSRAPI(username, password)\n",
    "    # first, we have to order the product, and make it available for download (very similar to the studid LTR for Sentinel1...)\n",
    "    order_res = rapi.order(product_result)\n",
    "    rapi.clear_results()\n",
    "    return order_res \n",
    "end\n",
    "\n"
   ]
  },
  {
   "cell_type": "code",
   "execution_count": null,
   "metadata": {},
   "outputs": [],
   "source": [
    "@pyimport eodms_rapi\n",
    "function get_order_status(; username::String, password::String, product_result, destination::String) \n",
    "    #making a dir for the download\n",
    "    make_directory_recursive(destination)    \n",
    "    rapi = eodms_rapi.EODMSRAPI(username, password)\n",
    "    # first, we have to order the product, and make it available for download (very similar to the studid LTR for Sentinel1...)\n",
    "    # Only when they are available for download, can we download them...\n",
    "    #\n",
    "    #println(param_res)\n",
    "    #println(\"ok\")\n",
    "    #download = rapi.download(product_result, destination)\n",
    "    statuses = []\n",
    "    for product in product_result\n",
    "        status = rapi.get_order_parameters(\"RCMImageProducts\", product_result)\n",
    "        push!(statuses, status)\n",
    "    end\n",
    "\n",
    "    rapi.clear_results()\n",
    "    return order_res \n",
    "end\n"
   ]
  },
  {
   "cell_type": "code",
   "execution_count": 43,
   "metadata": {},
   "outputs": [],
   "source": [
    "#order_res  = order_product_rcm(username=\"Aalling93\", password = \"Security1234!\",product_result = rcm_data[7:9], destination = path);"
   ]
  },
  {
   "cell_type": "code",
   "execution_count": 63,
   "metadata": {},
   "outputs": [
    {
     "data": {
      "text/plain": [
       "Dict{Any, Any} with 1 entry:\n",
       "  \"items\" => Dict{Any, Any}[Dict(\"itemId\"=>\"3913099\", \"status\"=>\"SUBMITTED\", \"d…"
      ]
     },
     "metadata": {},
     "output_type": "display_data"
    }
   ],
   "source": [
    "order_res"
   ]
  },
  {
   "cell_type": "code",
   "execution_count": 65,
   "metadata": {},
   "outputs": [],
   "source": [
    "download_product_rcm(username=\"Aalling93\", password = \"Security1234!\",product_result = order_res, destination = path);"
   ]
  },
  {
   "cell_type": "code",
   "execution_count": 61,
   "metadata": {},
   "outputs": [
    {
     "data": {
      "text/plain": [
       "\"3913099\""
      ]
     },
     "metadata": {},
     "output_type": "display_data"
    }
   ],
   "source": []
  },
  {
   "cell_type": "code",
   "execution_count": 45,
   "metadata": {},
   "outputs": [
    {
     "data": {
      "text/plain": [
       "Dict{String, Any} with 18 entries:\n",
       "  \"items_3_itemId\"          => \"3913101\"\n",
       "  \"items_1_collectionId\"    => \"RCMImageProducts\"\n",
       "  \"items_1_orderId\"         => \"338915\"\n",
       "  \"items_1_itemId\"          => \"3913099\"\n",
       "  \"items_3_recordId\"        => \"14068774\"\n",
       "  \"items_2_itemId\"          => \"3913100\"\n",
       "  \"items_1_recordId\"        => \"14068916\"\n",
       "  \"items_2_recordId\"        => \"14068858\"\n",
       "  \"items_1_status\"          => \"SUBMITTED\"\n",
       "  \"items_2_collectionId\"    => \"RCMImageProducts\"\n",
       "  \"items_3_status\"          => \"SUBMITTED\"\n",
       "  \"items_2_dateRapiOrdered\" => \"2023-11-28T10:09:01.454151+01:00\"\n",
       "  \"items_2_orderId\"         => \"338915\"\n",
       "  \"items_3_orderId\"         => \"338915\"\n",
       "  \"items_2_status\"          => \"SUBMITTED\"\n",
       "  \"items_1_dateRapiOrdered\" => \"2023-11-28T10:09:01.454151+01:00\"\n",
       "  \"items_3_collectionId\"    => \"RCMImageProducts\"\n",
       "  \"items_3_dateRapiOrdered\" => \"2023-11-28T10:09:01.454151+01:00\""
      ]
     },
     "metadata": {},
     "output_type": "display_data"
    }
   ],
   "source": [
    "Test_name.Download.Metadata.flatten_dict(order_res)"
   ]
  },
  {
   "cell_type": "code",
   "execution_count": 64,
   "metadata": {},
   "outputs": [
    {
     "data": {
      "text/plain": [
       "download_product_rcm (generic function with 1 method)"
      ]
     },
     "metadata": {},
     "output_type": "display_data"
    }
   ],
   "source": [
    "@pyimport eodms_rapi\n",
    "function download_product_rcm(; username::String, password::String, product_result, destination::String) \n",
    "    #making a dir for the download\n",
    "    make_directory_recursive(destination)    \n",
    "    rapi = eodms_rapi.EODMSRAPI(username, password)\n",
    "    download = rapi.download(product_result, destination)\n",
    "    rapi.clear_results()\n",
    "    return nothing \n",
    "end\n",
    "\n"
   ]
  },
  {
   "cell_type": "code",
   "execution_count": null,
   "metadata": {},
   "outputs": [],
   "source": []
  },
  {
   "cell_type": "code",
   "execution_count": 62,
   "metadata": {},
   "outputs": [
    {
     "ename": "UndefVarError",
     "evalue": "UndefVarError: `capitalize` not defined",
     "output_type": "error",
     "traceback": [
      "UndefVarError: `capitalize` not defined\n",
      "\n",
      "Stacktrace:\n",
      " [1] order(record_ids::String, priority::String)\n",
      "   @ Main ~/Documents/coding/JuliaEO2024/test_rcm3.ipynb:15\n",
      " [2] order(record_ids::String)\n",
      "   @ Main ~/Documents/coding/JuliaEO2024/test_rcm3.ipynb:2\n",
      " [3] top-level scope\n",
      "   @ ~/Documents/coding/JuliaEO2024/test_rcm3.ipynb:1"
     ]
    }
   ],
   "source": [
    "order(order_res[\"items\"][1][\"itemId\"])"
   ]
  },
  {
   "cell_type": "code",
   "execution_count": 49,
   "metadata": {},
   "outputs": [],
   "source": [
    "items = Test_name.Download.Metadata.vector_of_dicts_to_dataframe(order_res[\"items\"]);"
   ]
  },
  {
   "cell_type": "code",
   "execution_count": 50,
   "metadata": {},
   "outputs": [
    {
     "name": "stdout",
     "output_type": "stream",
     "text": [
      "\u001b[1m3×6 DataFrame\u001b[0m\n",
      "\u001b[1m Row \u001b[0m│\u001b[1m itemId  \u001b[0m\u001b[1m status    \u001b[0m\u001b[1m dateRapiOrdered                  \u001b[0m\u001b[1m collectionId     \u001b[0m\u001b[1m recordId \u001b[0m\u001b[1m orderId \u001b[0m\n",
      "     │\u001b[90m String  \u001b[0m\u001b[90m String    \u001b[0m\u001b[90m String                           \u001b[0m\u001b[90m String           \u001b[0m\u001b[90m String   \u001b[0m\u001b[90m String  \u001b[0m\n",
      "─────┼───────────────────────────────────────────────────────────────────────────────────────────\n",
      "   1 │ 3913099  SUBMITTED  2023-11-28T10:09:01.454151+01:00  RCMImageProducts  14068916  338915\n",
      "   2 │ 3913100  SUBMITTED  2023-11-28T10:09:01.454151+01:00  RCMImageProducts  14068858  338915\n",
      "   3 │ 3913101  SUBMITTED  2023-11-28T10:09:01.454151+01:00  RCMImageProducts  14068774  338915\n"
     ]
    }
   ],
   "source": [
    "println(items)"
   ]
  },
  {
   "cell_type": "code",
   "execution_count": 46,
   "metadata": {},
   "outputs": [
    {
     "data": {
      "text/plain": [
       "Dict{String, Any} with 18 entries:\n",
       "  \"items_3_itemId\"          => \"3913101\"\n",
       "  \"items_1_collectionId\"    => \"RCMImageProducts\"\n",
       "  \"items_1_orderId\"         => \"338915\"\n",
       "  \"items_1_itemId\"          => \"3913099\"\n",
       "  \"items_3_recordId\"        => \"14068774\"\n",
       "  \"items_2_itemId\"          => \"3913100\"\n",
       "  \"items_1_recordId\"        => \"14068916\"\n",
       "  \"items_2_recordId\"        => \"14068858\"\n",
       "  \"items_1_status\"          => \"SUBMITTED\"\n",
       "  \"items_2_collectionId\"    => \"RCMImageProducts\"\n",
       "  \"items_3_status\"          => \"SUBMITTED\"\n",
       "  \"items_2_dateRapiOrdered\" => \"2023-11-28T10:09:01.454151+01:00\"\n",
       "  \"items_2_orderId\"         => \"338915\"\n",
       "  \"items_3_orderId\"         => \"338915\"\n",
       "  \"items_2_status\"          => \"SUBMITTED\"\n",
       "  \"items_1_dateRapiOrdered\" => \"2023-11-28T10:09:01.454151+01:00\"\n",
       "  \"items_3_collectionId\"    => \"RCMImageProducts\"\n",
       "  \"items_3_dateRapiOrdered\" => \"2023-11-28T10:09:01.454151+01:00\""
      ]
     },
     "metadata": {},
     "output_type": "display_data"
    }
   ],
   "source": [
    "Test_name.Download.Metadata.flatten_dict(order_res)"
   ]
  },
  {
   "cell_type": "code",
   "execution_count": 14,
   "metadata": {},
   "outputs": [
    {
     "data": {
      "text/plain": [
       "download_product_rcm (generic function with 1 method)"
      ]
     },
     "metadata": {},
     "output_type": "display_data"
    }
   ],
   "source": []
  },
  {
   "cell_type": "code",
   "execution_count": 34,
   "metadata": {},
   "outputs": [
    {
     "data": {
      "text/plain": [
       "\"14068734\""
      ]
     },
     "metadata": {},
     "output_type": "display_data"
    }
   ],
   "source": [
    "orders = \"331361\"\n",
    "orders = \"14068734\""
   ]
  },
  {
   "cell_type": "code",
   "execution_count": 35,
   "metadata": {},
   "outputs": [
    {
     "name": "stdout",
     "output_type": "stream",
     "text": [
      "Dict{Any, Any}(\"parameters\" => Dict{Any, Any}[Dict(\"internalName\" => \"packagingFormat\", \"allowMultiple\" => false, \"choices\" => Dict{Any, Any}[Dict(\"systemDefault\" => true, \"title\" => \"Zip\", \"value\" => \"ZIP\", \"userDefault\" => false), Dict(\"systemDefault\" => true, \"title\" => \"Zip\", \"value\" => \"ZIP\", \"userDefault\" => false), Dict(\"systemDefault\" => false, \"title\" => \"Tar\", \"value\" => \"TAR\", \"userDefault\" => false), Dict(\"systemDefault\" => false, \"title\" => \"Tar/GZ\", \"value\" => \"TARGZ\", \"userDefault\" => false)], \"title\" => \"Packaging Format\", \"description\" => \"Packaging Format\", \"type\" => \"choice\"), Dict(\"internalName\" => \"NO_PARAMS_AVAILABLE\", \"allowMultiple\" => false, \"choices\" => Dict{Any, Any}[Dict(\"systemDefault\" => false, \"title\" => \"No Notification\", \"value\" => \"\", \"userDefault\" => false), Dict(\"systemDefault\" => true, \"title\" => \"kaaso@space.dtu.dk\", \"value\" => \"kaaso@space.dtu.dk\", \"userDefault\" => false)], \"title\" => \"Notification Email\", \"description\" => \"Notification email will be sent to this address upon completion of the order\", \"type\" => \"choice\")], \"productSize\" => \"909115392\")\n",
      "ok\n"
     ]
    },
    {
     "data": {
      "text/plain": [
       "Dict{String, Any} with 35 entries:\n",
       "  \"parameters_1_choices_4_userDefault\"   => false\n",
       "  \"parameters_2_choices_1_systemDefault\" => false\n",
       "  \"parameters_2_choices_2_systemDefault\" => true\n",
       "  \"parameters_1_choices_2_title\"         => \"Zip\"\n",
       "  \"parameters_1_choices_4_systemDefault\" => false\n",
       "  \"parameters_1_choices_4_value\"         => \"TARGZ\"\n",
       "  \"parameters_2_allowMultiple\"           => false\n",
       "  \"parameters_1_choices_1_title\"         => \"Zip\"\n",
       "  \"parameters_1_choices_2_userDefault\"   => false\n",
       "  \"parameters_2_choices_1_value\"         => \"\"\n",
       "  \"parameters_1_allowMultiple\"           => false\n",
       "  \"parameters_1_choices_1_value\"         => \"ZIP\"\n",
       "  \"parameters_2_type\"                    => \"choice\"\n",
       "  \"parameters_1_choices_2_value\"         => \"ZIP\"\n",
       "  \"parameters_1_internalName\"            => \"packagingFormat\"\n",
       "  \"parameters_1_choices_3_userDefault\"   => false\n",
       "  \"parameters_1_choices_3_systemDefault\" => false\n",
       "  \"parameters_2_title\"                   => \"Notification Email\"\n",
       "  \"parameters_1_choices_3_value\"         => \"TAR\"\n",
       "  ⋮                                      => ⋮"
      ]
     },
     "metadata": {},
     "output_type": "display_data"
    }
   ],
   "source": [
    "r = download_product_rcm(username=\"Aalling93\", password = \"Security1234!\",product_result = orders, destination = path);\n",
    "Test_name.Download.Metadata.flatten_dict(r)"
   ]
  },
  {
   "cell_type": "code",
   "execution_count": 37,
   "metadata": {},
   "outputs": [
    {
     "name": "stdout",
     "output_type": "stream",
     "text": [
      "\u001b[1m1×35 DataFrame\u001b[0m\n",
      "\u001b[1m Row \u001b[0m│\u001b[1m parameters_1_allowMultiple \u001b[0m\u001b[1m parameters_1_choices_1_systemDefault \u001b[0m\u001b[1m parameters_1_choices_1_title \u001b[0m\u001b[1m parameters_1_choices_1_userDefault \u001b[0m\u001b[1m parameters_1_choices_1_value \u001b[0m\u001b[1m parameters_1_choices_2_systemDefault \u001b[0m\u001b[1m parameters_1_choices_2_title \u001b[0m\u001b[1m parameters_1_choices_2_userDefault \u001b[0m\u001b[1m parameters_1_choices_2_value \u001b[0m\u001b[1m parameters_1_choices_3_systemDefault \u001b[0m\u001b[1m parameters_1_choices_3_title \u001b[0m\u001b[1m parameters_1_choices_3_userDefault \u001b[0m\u001b[1m parameters_1_choices_3_value \u001b[0m\u001b[1m parameters_1_choices_4_systemDefault \u001b[0m\u001b[1m parameters_1_choices_4_title \u001b[0m\u001b[1m parameters_1_choices_4_userDefault \u001b[0m\u001b[1m parameters_1_choices_4_value \u001b[0m\u001b[1m parameters_1_description \u001b[0m\u001b[1m parameters_1_internalName \u001b[0m\u001b[1m parameters_1_title \u001b[0m\u001b[1m parameters_1_type \u001b[0m\u001b[1m parameters_2_allowMultiple \u001b[0m\u001b[1m parameters_2_choices_1_systemDefault \u001b[0m\u001b[1m parameters_2_choices_1_title \u001b[0m\u001b[1m parameters_2_choices_1_userDefault \u001b[0m\u001b[1m parameters_2_choices_1_value \u001b[0m\u001b[1m parameters_2_choices_2_systemDefault \u001b[0m\u001b[1m parameters_2_choices_2_title \u001b[0m\u001b[1m parameters_2_choices_2_userDefault \u001b[0m\u001b[1m parameters_2_choices_2_value \u001b[0m\u001b[1m parameters_2_description          \u001b[0m\u001b[1m parameters_2_internalName \u001b[0m\u001b[1m parameters_2_title \u001b[0m\u001b[1m parameters_2_type \u001b[0m\u001b[1m productSize \u001b[0m\n",
      "     │\u001b[90m Bool                       \u001b[0m\u001b[90m Bool                                 \u001b[0m\u001b[90m String                       \u001b[0m\u001b[90m Bool                               \u001b[0m\u001b[90m String                       \u001b[0m\u001b[90m Bool                                 \u001b[0m\u001b[90m String                       \u001b[0m\u001b[90m Bool                               \u001b[0m\u001b[90m String                       \u001b[0m\u001b[90m Bool                                 \u001b[0m\u001b[90m String                       \u001b[0m\u001b[90m Bool                               \u001b[0m\u001b[90m String                       \u001b[0m\u001b[90m Bool                                 \u001b[0m\u001b[90m String                       \u001b[0m\u001b[90m Bool                               \u001b[0m\u001b[90m String                       \u001b[0m\u001b[90m String                   \u001b[0m\u001b[90m String                    \u001b[0m\u001b[90m String             \u001b[0m\u001b[90m String            \u001b[0m\u001b[90m Bool                       \u001b[0m\u001b[90m Bool                                 \u001b[0m\u001b[90m String                       \u001b[0m\u001b[90m Bool                               \u001b[0m\u001b[90m String                       \u001b[0m\u001b[90m Bool                                 \u001b[0m\u001b[90m String                       \u001b[0m\u001b[90m Bool                               \u001b[0m\u001b[90m String                       \u001b[0m\u001b[90m String                            \u001b[0m\u001b[90m String                    \u001b[0m\u001b[90m String             \u001b[0m\u001b[90m String            \u001b[0m\u001b[90m String      \u001b[0m\n",
      "─────┼──────────────────────────────────────────────────────────────────────────────────────────────────────────────────────────────────────────────────────────────────────────────────────────────────────────────────────────────────────────────────────────────────────────────────────────────────────────────────────────────────────────────────────────────────────────────────────────────────────────────────────────────────────────────────────────────────────────────────────────────────────────────────────────────────────────────────────────────────────────────────────────────────────────────────────────────────────────────────────────────────────────────────────────────────────────────────────────────────────────────────────────────────────────────────────────────────────────────────────────────────────────────────────────────────────────────────────────────────────────────────────────────────────────────────────────────────────────────────────────────────────────────────────────────────────────────────────────────────────────────────────────────────────────\n",
      "   1 │                      false                                  true  Zip                                                        false  ZIP                                                           true  Zip                                                        false  ZIP                                                          false  Tar                                                        false  TAR                                                          false  Tar/GZ                                                     false  TARGZ                         Packaging Format          packagingFormat            Packaging Format    choice                                  false                                 false  No Notification                                            false                                                                true  kaaso@space.dtu.dk                                         false  kaaso@space.dtu.dk            Notification email will be sent …  NO_PARAMS_AVAILABLE        Notification Email  choice             909115392\n"
     ]
    }
   ],
   "source": [
    "println(DataFrame(Test_name.Download.Metadata.flatten_dict(r)))"
   ]
  },
  {
   "cell_type": "code",
   "execution_count": null,
   "metadata": {},
   "outputs": [],
   "source": [
    "    def _extract_download_metadata(self, item):\n",
    "        '''\n",
    "        Because the download link in the response from EODMS is HTML-encoded, we have to parse out\n",
    "        the actual download URL and the filesize\n",
    "\n",
    "        Inputs:\n",
    "          - item: JSON (dict) of item metadata from EODMS\n",
    "\n",
    "        Outputs:\n",
    "          - url: remote file URL\n",
    "          - fsize: remote filesize in bytes\n",
    "        '''\n",
    "        # download url\n",
    "        parser = EODMSHTMLFilter()\n",
    "        parser.feed(item['destinations'][0]['stringValue'])\n",
    "        url = parser.text\n",
    "        # strip &file= from end of url\n",
    "        # TODO: THIS IS A BANDAID FIX THAT WILL PROBABLY HAVE TO BE REMOVED LATER\n",
    "        url = url.split('&file=')[0]\n",
    "        # remote filesize\n",
    "        manifest_key = list(item['manifest'].keys()).pop()\n",
    "        fsize = int(item['manifest'][manifest_key])\n",
    "        return url, fsize"
   ]
  },
  {
   "cell_type": "code",
   "execution_count": null,
   "metadata": {},
   "outputs": [],
   "source": [
    "# Function to convert a vector of dictionaries to a DataFrame\n",
    "function vector_of_dicts_to_dataframe(vec_of_dicts::Vector)\n",
    "    rows = [flatten_dict(d) for d in vec_of_dicts]\n",
    "    return DataFrame(rows)\n",
    "end"
   ]
  },
  {
   "cell_type": "code",
   "execution_count": null,
   "metadata": {},
   "outputs": [],
   "source": [
    "params = Dict(\"packagingFormat\": \"TAR\")"
   ]
  },
  {
   "cell_type": "code",
   "execution_count": null,
   "metadata": {},
   "outputs": [],
   "source": []
  },
  {
   "cell_type": "code",
   "execution_count": 17,
   "metadata": {},
   "outputs": [
    {
     "ename": "PyCall.PyError",
     "evalue": "PyError ($(Expr(:escape, :(ccall(#= /Users/kaaso/.julia/packages/PyCall/KLzIO/src/pyfncall.jl:43 =# @pysym(:PyObject_Call), PyPtr, (PyPtr, PyPtr, PyPtr), o, pyargsptr, kw))))) <class 'TypeError'>\nTypeError('string indices must be integers')\n  File \"/opt/homebrew/Caskroom/miniforge/base/envs/sar_ais_2/lib/python3.9/site-packages/eodms_rapi/eodms.py\", line 1539, in download\n    unique_items = self.remove_duplicate_orders(items)\n  File \"/opt/homebrew/Caskroom/miniforge/base/envs/sar_ais_2/lib/python3.9/site-packages/eodms_rapi/eodms.py\", line 2993, in remove_duplicate_orders\n    rec_ids = [o['recordId'] for o in orders]\n  File \"/opt/homebrew/Caskroom/miniforge/base/envs/sar_ais_2/lib/python3.9/site-packages/eodms_rapi/eodms.py\", line 2993, in <listcomp>\n    rec_ids = [o['recordId'] for o in orders]\n",
     "output_type": "error",
     "traceback": [
      "PyError ($(Expr(:escape, :(ccall(#= /Users/kaaso/.julia/packages/PyCall/KLzIO/src/pyfncall.jl:43 =# @pysym(:PyObject_Call), PyPtr, (PyPtr, PyPtr, PyPtr), o, pyargsptr, kw))))) <class 'TypeError'>\n",
      "TypeError('string indices must be integers')\n",
      "  File \"/opt/homebrew/Caskroom/miniforge/base/envs/sar_ais_2/lib/python3.9/site-packages/eodms_rapi/eodms.py\", line 1539, in download\n",
      "    unique_items = self.remove_duplicate_orders(items)\n",
      "  File \"/opt/homebrew/Caskroom/miniforge/base/envs/sar_ais_2/lib/python3.9/site-packages/eodms_rapi/eodms.py\", line 2993, in remove_duplicate_orders\n",
      "    rec_ids = [o['recordId'] for o in orders]\n",
      "  File \"/opt/homebrew/Caskroom/miniforge/base/envs/sar_ais_2/lib/python3.9/site-packages/eodms_rapi/eodms.py\", line 2993, in <listcomp>\n",
      "    rec_ids = [o['recordId'] for o in orders]\n",
      "\n",
      "\n",
      "Stacktrace:\n",
      "  [1] pyerr_check\n",
      "    @ ~/.julia/packages/PyCall/KLzIO/src/exception.jl:75 [inlined]\n",
      "  [2] pyerr_check\n",
      "    @ ~/.julia/packages/PyCall/KLzIO/src/exception.jl:79 [inlined]\n",
      "  [3] _handle_error(msg::String)\n",
      "    @ PyCall ~/.julia/packages/PyCall/KLzIO/src/exception.jl:96\n",
      "  [4] macro expansion\n",
      "    @ ~/.julia/packages/PyCall/KLzIO/src/exception.jl:110 [inlined]\n",
      "  [5] #107\n",
      "    @ ~/.julia/packages/PyCall/KLzIO/src/pyfncall.jl:43 [inlined]\n",
      "  [6] disable_sigint\n",
      "    @ ./c.jl:473 [inlined]\n",
      "  [7] __pycall!\n",
      "    @ ~/.julia/packages/PyCall/KLzIO/src/pyfncall.jl:42 [inlined]\n",
      "  [8] _pycall!(ret::PyObject, o::PyObject, args::Tuple{Vector{String}, String}, nargs::Int64, kw::Ptr{Nothing})\n",
      "    @ PyCall ~/.julia/packages/PyCall/KLzIO/src/pyfncall.jl:29\n",
      "  [9] _pycall!(ret::PyObject, o::PyObject, args::Tuple{Vector{String}, String}, kwargs::Base.Pairs{Symbol, Union{}, Tuple{}, NamedTuple{(), Tuple{}}})\n",
      "    @ PyCall ~/.julia/packages/PyCall/KLzIO/src/pyfncall.jl:11\n",
      " [10] (::PyObject)(::Vector{String}, ::Vararg{Any}; kwargs::Base.Pairs{Symbol, Union{}, Tuple{}, NamedTuple{(), Tuple{}}})\n",
      "    @ PyCall ~/.julia/packages/PyCall/KLzIO/src/pyfncall.jl:86\n",
      " [11] (::PyObject)(::Vector{String}, ::Vararg{Any})\n",
      "    @ PyCall ~/.julia/packages/PyCall/KLzIO/src/pyfncall.jl:86\n",
      " [12] download_product_rcm(; username::String, password::String, product_result::Vector{String}, destination::String)\n",
      "    @ Main ~/Documents/coding/JuliaEO2024/test_rcm3.ipynb:9\n",
      " [13] top-level scope\n",
      "    @ ~/Documents/coding/JuliaEO2024/test_rcm3.ipynb:1"
     ]
    }
   ],
   "source": [
    "download_product_rcm(username=\"Aalling93\", password = \"Security1234!\",product_result = orders, destination = path)"
   ]
  },
  {
   "cell_type": "code",
   "execution_count": 12,
   "metadata": {},
   "outputs": [
    {
     "data": {
      "text/plain": [
       "\"{\\n    \\\"destinations\\\": [],\\n    \\\"items\\\": [\\n        {\\n            \\\"collectionId\\\": \\\"RCMImageProducts\\\",\\n            \\\"recordId\\\": \\\"7822244\\\",\\n            \\\"parameters\\\": [\\n                {\\n                    \\\"packagingFormat\\\": \\\"TAR\\\"\\n                },\\n                {\\n                    \\\"NOTIFICATION_EMAIL_ADDRESS\\\": \\\"example@email.com\\\"\\n                }\\n            ]\\n        }\\n    ]\\n}\\n\""
      ]
     },
     "metadata": {},
     "output_type": "display_data"
    }
   ],
   "source": [
    "JSON = \"\"\"\n",
    "{\n",
    "    \"destinations\": [],\n",
    "    \"items\": [\n",
    "        {\n",
    "            \"collectionId\": \"RCMImageProducts\",\n",
    "            \"recordId\": \"7822244\",\n",
    "            \"parameters\": [\n",
    "                {\n",
    "                    \"packagingFormat\": \"TAR\"\n",
    "                },\n",
    "                {\n",
    "                    \"NOTIFICATION_EMAIL_ADDRESS\": \"example@email.com\"\n",
    "                }\n",
    "            ]\n",
    "        }\n",
    "    ]\n",
    "}\n",
    "\"\"\""
   ]
  },
  {
   "cell_type": "code",
   "execution_count": null,
   "metadata": {},
   "outputs": [],
   "source": [
    "#::Dict{Any, Any}"
   ]
  }
 ],
 "metadata": {
  "kernelspec": {
   "display_name": "Julia 1.9.4",
   "language": "julia",
   "name": "julia-1.9"
  },
  "language_info": {
   "file_extension": ".jl",
   "mimetype": "application/julia",
   "name": "julia",
   "version": "1.9.4"
  }
 },
 "nbformat": 4,
 "nbformat_minor": 2
}
