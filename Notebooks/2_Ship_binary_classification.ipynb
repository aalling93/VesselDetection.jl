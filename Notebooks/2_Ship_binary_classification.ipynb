{
 "cells": [
  {
   "cell_type": "markdown",
   "metadata": {},
   "source": [
    "<div style=\"text-align: center\">\n",
    "    <img src=\"../figures/JuliaEO2024_banner.png\" alt=\"Descriptive Image Text\" style=\"border:1px solid black\"/>\n",
    "</div>\n",
    "\n",
    "\n",
    "\n",
    "The objectives of this workshop are the following:\n",
    "\n",
    "\n",
    "- **Understand SAR Imagery**: Gain an understanding of SAR imagery, its properties, and why it's advantageous for maritime surveillance.\n",
    "- **Data Handling**: Learn how to acquire and prepare SAR data from the Sentinel-1 satellite.\n",
    "- **Apply Machine Learning**: Explore machine learning techniques, from basic classification to object detection models.\n",
    "- **Real-World Application**: Gain practical skills in applying these models to real-world SAR data for effective maritime surveillance.\n",
    "\n",
    "\n",
    "\n",
    "____________________\n",
    "\n",
    "\n",
    "\n",
    "## Notebooks\n",
    "\n",
    "- 1: [Sentinel-1 data acquisition](1_Data_acqusition.ipynb)\n",
    "- 2: [Ship binary classification](2_Ship_binary_classification.ipynb)\n",
    "- 3: [Two stage ship detection](3_two_stage_ship_detector.ipynb)\n",
    "- 4: [One stage ship detection](4_One_stage_ship_detector.ipynb)\n",
    "\n",
    "<div style=\"text-align: center\">\n",
    "    <img src=\"../figures/overview_notebooks.png\" alt=\"Descriptive Image Text\" width=\"800\"/>\n",
    "</div>\n",
    "\n"
   ]
  },
  {
   "cell_type": "markdown",
   "metadata": {},
   "source": [
    "# Ship binary classification\n",
    "\n",
    " <a class=\"anchor\" id=\"toc\"></a>\n",
    "-  [Objectives](#objectives)\n",
    "-  [Binary Classification with CNNs](#binary_classification)\n",
    "-  [Include modules](#init)\n",
    "-  [Data](#data)\n",
    "-  [Simple binary classifier](#classifier)\n",
    "-  [Finding Thresholds](#threshold)\n",
    "-  [Testing](#testing)\n",
    "\n",
    "\n"
   ]
  },
  {
   "cell_type": "markdown",
   "metadata": {},
   "source": [
    "### Objectives\n",
    " <a class=\"anchor\" id=\"objectives\"></a>\n",
    "Back to [Table of Content](#toc)"
   ]
  },
  {
   "cell_type": "markdown",
   "metadata": {},
   "source": [
    "The objectives of this notebook are the following:\n",
    "1. Implement a simple binary classifier for ship classification using Julia and Flux.\n",
    "2. Train the classifier on a small ship/no-ship dataset.\n",
    "3. Test the classifier.\n",
    "4. Find the optimal threshold for the classifier."
   ]
  },
  {
   "cell_type": "markdown",
   "metadata": {},
   "source": [
    "### Binary Classification with CNNs\n",
    "\n",
    " <a class=\"anchor\" id=\"binary_classification\"></a>\n",
    "Back to [Table of Content](#toc)\n"
   ]
  },
  {
   "cell_type": "markdown",
   "metadata": {},
   "source": [
    "Convolutional Neural Networks (CNNs) have revolutionized the field of image processing and classification. A binary classification task involves distinguishing between two classes, such as identifying whether an image contains a specific object or not. CNNs are particularly well-suited for this task due to their ability to extract and learn spatial hierarchies of features from images.\n",
    "\n",
    "\n",
    "- **Convolutional Layers**: These layers apply a number of filters to the input. Each filter detects specific features, such as edges, textures, or more complex patterns in deeper layers.\n",
    "- **Pooling Layers**: Pooling (typically max pooling) reduces the spatial size of the representation, decreasing the number of parameters and computation in the network, thereby also controlling overfitting.\n",
    "- **Fully Connected Layers**: Towards the end of the network, fully connected layers use the features extracted by convolutional and pooling layers to determine the class of the input image.\n",
    "- **Dropout**: Dropout is a regularization technique used in neural networks to prevent overfitting. During training, dropout randomly 'drops' (sets to zero) a proportion of neurons in the layer to which it is applied. This forces the network to learn more robust features that are useful in conjunction with many different random subsets of the other neurons.\n",
    "- **ReLU**: ReLU is a type of activation function that is defined as `f(x) = max(0, x)`. It introduces non-linearity in the network, allowing it to learn complex patterns.\n",
    "- **Flatten**: The Flatten layer is used to convert the multi-dimensional output of convolutional and pooling layers into a 1D feature vector. This flattening is necessary because fully connected layers expect 1D input.\n",
    "\n",
    "##### Loss Function for Binary Classification\n",
    "\n",
    "\n",
    "In binary classification tasks, such as ship/no-ship detection, a common loss function is the binary cross-entropy loss. It measures the performance of a classification model whose output is a probability value between 0 and 1. The loss function for a single example is:\n",
    "\n",
    "`-mean(targets .* log.(predictions) + (1 .- targets) .* log.(1 .- predictions))`\n",
    "\n",
    "- **Interpreting the Formula**: For each prediction and the actual target, it calculates two things:\n",
    "    - The log-loss for the positive class (`targets .* log.(predictions)`)\n",
    "    - The log-loss for the negative class (`(1 .- targets) .* log.(1 .- predictions)`)\n",
    "\n",
    "this loss function is effective because it penalizes incorrect predictions far from the actual class more heavily. It is suitable for models that output a probability like sigmoid activation in the output layer.\n"
   ]
  },
  {
   "cell_type": "markdown",
   "metadata": {},
   "source": [
    "\n",
    "____________________\n",
    "\n",
    "\n",
    "In the context of maritime surveillance, a binary CNN can be trained to differentiate between two classes: images containing ships ('ship') and images containing other objects ('no ship'). \n",
    "\n",
    "**Training Process**\n",
    "\n",
    "1. **Dataset Preparation**: Collect a labeled dataset consisting of SAR images, categorically marked as '1' (for ships) or '0' (for no ships).\n",
    "2. **Feature Learning**: The CNN learns to identify features indicative of the presence or absence of ships, like specific shapes or textures, in the convolutional layers.\n",
    "3. **Classification**: In the final layer, the network makes a prediction about the presence of a ship in the input image on a score from 0 to 1. A score closer to 1 indicates a higher probability of a ship being present, while a score closer to 0 indicates a higher probability of no ship being present.\n",
    "\n",
    "\n",
    "**Advantages in Maritime Surveillance** \n",
    "\n",
    "- **Accuracy**: CNNs can achieve high accuracy in distinguishing ships from other objects or sea clutter, making them reliable for automated surveillance systems.\n",
    "- **Efficiency**: Once trained, CNNs can process large volumes of imagery rapidly, aiding in real-time surveillance applications.\n",
    "- **Adaptability**: CNNs can be fine-tuned to adapt to different types of ships, lighting conditions, and backgrounds found in maritime environments.\n",
    "\n",
    "Through the use of binary CNNs, maritime surveillance systems can be significantly enhanced, offering a robust tool for monitoring and maintaining security in marine areas.\n"
   ]
  },
  {
   "cell_type": "markdown",
   "metadata": {},
   "source": [
    "\n",
    "Below, we see an image of (right): a ship and (left): not a ship.\n",
    "\n",
    "<div style=\"text-align: center\">\n",
    "    <img src=\"../figures/notebooks/no_ship.png\" alt=\"Not a ship\" style=\"width: 400px; border: 1px solid black; display: inline-block;\"/>\n",
    "    <img src=\"../figures/notebooks/ship.png\" alt=\"Ship\" style=\"width: 400px; border: 1px solid black; display: inline-block;\"/>\n",
    "</div>\n"
   ]
  },
  {
   "cell_type": "markdown",
   "metadata": {},
   "source": [
    "## Init\n",
    " <a class=\"anchor\" id=\"init\"></a>\n",
    "Back to [Table of Content](#toc)"
   ]
  },
  {
   "cell_type": "code",
   "execution_count": 1,
   "metadata": {},
   "outputs": [],
   "source": [
    "using Pkg\n",
    "include(\"../src/test_name.jl\")\n",
    "using .Test_name\n",
    "using Plots\n",
    "using Images"
   ]
  },
  {
   "cell_type": "markdown",
   "metadata": {},
   "source": [
    "## Loading the dataset\n",
    " <a class=\"anchor\" id=\"data\"></a>\n",
    "Back to [Table of Content](#toc)"
   ]
  },
  {
   "cell_type": "markdown",
   "metadata": {},
   "source": [
    "The dataset conists of hand-labelled images of ships or icebergs (using AIS for assistance). The images are acquired from the Sentinel-1 satellite in arctic iceberg infested waters.\n",
    "\n",
    "Details:\n",
    "- Sentinel-1 IW GRDH HH/HV images\n",
    "- Subsets of 75x75 pixels\n",
    "- Sigma naught calibrated values in dB\n",
    "- Nomalised \n",
    "\n",
    "For more details on the data, see https://www.kaggle.com/c/statoil-iceberg-classifier-challenge"
   ]
  },
  {
   "cell_type": "code",
   "execution_count": 2,
   "metadata": {},
   "outputs": [
    {
     "name": "stdout",
     "output_type": "stream",
     "text": [
      "Number of training examples: (1123,) \n",
      "Number of validation examples: (160,) \n",
      "Number of testing examples: (321,)\n"
     ]
    }
   ],
   "source": [
    "json_file = \"../data/train.json\";\n",
    "json_data = Test_name.Ship_detector.load_json_data(json_file);\n",
    "images, labels= Test_name.Ship_detector.create_dataset(json_data);\n",
    "train_X, train_Y, val_X, val_Y, test_X, test_Y = Test_name.Ship_detector.shuffle_and_split_data(images, labels, 0.7, 0.1);\n",
    "\n",
    "println(\"Number of training examples: $(size(train_X)) \\nNumber of validation examples: $(size(val_X)) \\nNumber of testing examples: $(size(test_X))\", );"
   ]
  },
  {
   "cell_type": "code",
   "execution_count": 3,
   "metadata": {},
   "outputs": [
    {
     "name": "stdout",
     "output_type": "stream",
     "text": [
      "1\n"
     ]
    },
    {
     "data": {
      "image/png": "[encoded data removed]",
      "text/html": [
       "<img src=\"data:image/png;base64,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\">"
      ],
      "text/plain": [
       "75×75 Array{Gray{Float32},2} with eltype Gray{Float32}:\n",
       " Gray{Float32}(0.544371)  Gray{Float32}(0.587609)  …  Gray{Float32}(0.458069)\n",
       " Gray{Float32}(0.496894)  Gray{Float32}(0.501788)     Gray{Float32}(0.524318)\n",
       " Gray{Float32}(0.491857)  Gray{Float32}(0.501786)     Gray{Float32}(0.548042)\n",
       " Gray{Float32}(0.501786)  Gray{Float32}(0.515689)     Gray{Float32}(0.572159)\n",
       " Gray{Float32}(0.548103)  Gray{Float32}(0.540547)     Gray{Float32}(0.565601)\n",
       " Gray{Float32}(0.491854)  Gray{Float32}(0.501782)  …  Gray{Float32}(0.565601)\n",
       " Gray{Float32}(0.491852)  Gray{Float32}(0.491852)     Gray{Float32}(0.496826)\n",
       " Gray{Float32}(0.578534)  Gray{Float32}(0.551756)     Gray{Float32}(0.555275)\n",
       " Gray{Float32}(0.612263)  Gray{Float32}(0.596214)     Gray{Float32}(0.52002)\n",
       " Gray{Float32}(0.622191)  Gray{Float32}(0.584628)     Gray{Float32}(0.540479)\n",
       " ⋮                                                 ⋱  \n",
       " Gray{Float32}(0.496815)  Gray{Float32}(0.496815)     Gray{Float32}(0.633722)\n",
       " Gray{Float32}(0.584558)  Gray{Float32}(0.532574)     Gray{Float32}(0.551621)\n",
       " Gray{Float32}(0.584558)  Gray{Float32}(0.587526)     Gray{Float32}(0.598859)\n",
       " Gray{Float32}(0.558773)  Gray{Float32}(0.548023)     Gray{Float32}(0.617161)\n",
       " Gray{Float32}(0.520008)  Gray{Float32}(0.555261)  …  Gray{Float32}(0.593252)\n",
       " Gray{Float32}(0.601654)  Gray{Float32}(0.555261)     Gray{Float32}(0.52842)\n",
       " Gray{Float32}(0.532568)  Gray{Float32}(0.61472)      Gray{Float32}(0.540403)\n",
       " Gray{Float32}(0.481239)  Gray{Float32}(0.617218)     Gray{Float32}(0.593249)\n",
       " Gray{Float32}(0.496806)  Gray{Float32}(0.544281)     Gray{Float32}(0.593247)"
      ]
     },
     "metadata": {},
     "output_type": "display_data"
    }
   ],
   "source": [
    "println(train_Y[2]);\n",
    "Images.Gray.(train_X[2][:,:,1])"
   ]
  },
  {
   "cell_type": "markdown",
   "metadata": {},
   "source": [
    "<div class=\"alert alert-block alert-info\"> <b>Task: </b>\n",
    "1. Display different images from the dataset to familiarize yourself with the data."
   ]
  },
  {
   "cell_type": "markdown",
   "metadata": {},
   "source": [
    "## Simple binary classifier:\n",
    " <a class=\"anchor\" id=\"classifier\"></a>\n",
    "Back to [Table of Content](#toc)"
   ]
  },
  {
   "cell_type": "markdown",
   "metadata": {},
   "source": [
    "We will start by making a simple binary classifier. "
   ]
  },
  {
   "cell_type": "code",
   "execution_count": 4,
   "metadata": {},
   "outputs": [
    {
     "name": "stdout",
     "output_type": "stream",
     "text": [
      "Size of images: (75, 75, 2)\n"
     ]
    }
   ],
   "source": [
    "println(\"Size of images: $(size(train_X[1]))\")"
   ]
  },
  {
   "cell_type": "code",
   "execution_count": 5,
   "metadata": {},
   "outputs": [
    {
     "data": {
      "text/plain": [
       "Chain(\n",
       "  Conv((3, 3), 2 => 64, relu),          \u001b[90m# 1_216 parameters\u001b[39m\n",
       "  MaxPool((2, 2)),\n",
       "  Dropout(0.3),\n",
       "  Conv((3, 3), 64 => 64, relu),         \u001b[90m# 36_928 parameters\u001b[39m\n",
       "  MaxPool((2, 2)),\n",
       "  Dropout(0.3),\n",
       "  Conv((3, 3), 64 => 128, relu),        \u001b[90m# 73_856 parameters\u001b[39m\n",
       "  MaxPool((2, 2)),\n",
       "  Dropout(0.3),\n",
       "  Flux.flatten,\n",
       "  Dense(6272 => 64, relu),              \u001b[90m# 401_472 parameters\u001b[39m\n",
       "  Dense(64 => 1),                       \u001b[90m# 65 parameters\u001b[39m\n",
       "  NNlib.σ,\n",
       ") \u001b[90m                  # Total: 10 arrays, \u001b[39m513_537 parameters, 1.961 MiB."
      ]
     },
     "metadata": {},
     "output_type": "display_data"
    }
   ],
   "source": [
    "model  = Test_name.Ship_detector.Model.Binary_model.create_model(\n",
    "                                                                input_channels =size(train_X[1])[3], \n",
    "                                                                img_size=size(train_X[1])[1:2], \n",
    "                                                                filter_sizes=[3, 3, 3], \n",
    "                                                                num_filters=[64, 64, 128], \n",
    "                                                                use_maxpool=[true, true, true], \n",
    "                                                                use_dropout=[0.3, 0.3, 0.3], \n",
    "                                                                dense_layers=[64], \n",
    "                                                                final_dense_units=1);\n",
    "model"
   ]
  },
  {
   "cell_type": "markdown",
   "metadata": {},
   "source": [
    "<div class=\"alert alert-block alert-info\"> <b>Task: </b>\n",
    "\n",
    "1. Try to make a simple CNN binary classifier using Flux.\n",
    "\n",
    "2. Change some of the parameters and see how it affects the arcitecture, e.g., the number of paramters. "
   ]
  },
  {
   "cell_type": "code",
   "execution_count": 6,
   "metadata": {},
   "outputs": [],
   "source": [
    "# Hyperparameters\n",
    "epochs = 1500;\n",
    "learning_rate = 0.001;\n",
    "batch_size = 128;"
   ]
  },
  {
   "cell_type": "code",
   "execution_count": 7,
   "metadata": {},
   "outputs": [],
   "source": [
    "loss_fn = Test_name.Ship_detector.Model.Binary_model.loss_fn;"
   ]
  },
  {
   "cell_type": "code",
   "execution_count": 8,
   "metadata": {},
   "outputs": [],
   "source": [
    "train_X_prepared = cat(train_X..., dims=4);\n",
    "val_X_prepared = cat(val_X..., dims=4);\n",
    "train_Y_prepared = hcat(train_Y...);\n",
    "val_Y_prepared = hcat(val_Y...);"
   ]
  },
  {
   "cell_type": "code",
   "execution_count": 9,
   "metadata": {},
   "outputs": [
    {
     "name": "stderr",
     "output_type": "stream",
     "text": [
      "┌ Info: Epoch 1\n",
      "│   train_loss = 0.6928084842604599\n",
      "│   val_loss = 0.6929763932810262\n",
      "│   train_accuracy = 0.5136258417508418\n",
      "│   val_accuracy = 0.5125\n",
      "└ @ Main.Test_name.Ship_detector.Model.Binary_model /Users/kaaso/Documents/coding/JuliaEO2024/src/ship_detector/model/classifyer/train_util.jl:81\n",
      "┌ Info: New best model saved at epoch 1\n",
      "└ @ Main.Test_name.Ship_detector.Model.Binary_model /Users/kaaso/Documents/coding/JuliaEO2024/src/ship_detector/model/classifyer/train_util.jl:107\n"
     ]
    },
    {
     "name": "stderr",
     "output_type": "stream",
     "text": [
      "┌ Info: Epoch 2\n",
      "│   train_loss = 0.6922278526237081\n",
      "│   val_loss = 0.6918942841009139\n",
      "│   train_accuracy = 0.5291017817059483\n",
      "│   val_accuracy = 0.50625\n",
      "└ @ Main.Test_name.Ship_detector.Model.Binary_model /Users/kaaso/Documents/coding/JuliaEO2024/src/ship_detector/model/classifyer/train_util.jl:81\n",
      "┌ Info: New best model saved at epoch 2\n",
      "└ @ Main.Test_name.Ship_detector.Model.Binary_model /Users/kaaso/Documents/coding/JuliaEO2024/src/ship_detector/model/classifyer/train_util.jl:107\n"
     ]
    },
    {
     "name": "stderr",
     "output_type": "stream",
     "text": [
      "┌ Info: Epoch 3\n",
      "│   train_loss = 0.6902858242922592\n",
      "│   val_loss = 0.6912124740397882\n",
      "│   train_accuracy = 0.5291017817059483\n",
      "│   val_accuracy = 0.50625\n",
      "└ @ Main.Test_name.Ship_detector.Model.Binary_model /Users/kaaso/Documents/coding/JuliaEO2024/src/ship_detector/model/classifyer/train_util.jl:81\n",
      "┌ Info: New best model saved at epoch 3\n",
      "└ @ Main.Test_name.Ship_detector.Model.Binary_model /Users/kaaso/Documents/coding/JuliaEO2024/src/ship_detector/model/classifyer/train_util.jl:107\n"
     ]
    },
    {
     "name": "stderr",
     "output_type": "stream",
     "text": [
      "┌ Info: Epoch 4\n",
      "│   train_loss = 0.6916551218967122\n",
      "│   val_loss = 0.6918138625762807\n",
      "│   train_accuracy = 0.5296103395061729\n",
      "│   val_accuracy = 0.50625\n",
      "└ @ Main.Test_name.Ship_detector.Model.Binary_model /Users/kaaso/Documents/coding/JuliaEO2024/src/ship_detector/model/classifyer/train_util.jl:81\n"
     ]
    },
    {
     "name": "stderr",
     "output_type": "stream",
     "text": [
      "┌ Info: Epoch 5\n",
      "│   train_loss = 0.6906625868255307\n",
      "│   val_loss = 0.6905434436039366\n",
      "│   train_accuracy = 0.5280846661054994\n",
      "│   val_accuracy = 0.50625\n",
      "└ @ Main.Test_name.Ship_detector.Model.Binary_model /Users/kaaso/Documents/coding/JuliaEO2024/src/ship_detector/model/classifyer/train_util.jl:81\n",
      "┌ Info: New best model saved at epoch 5\n",
      "└ @ Main.Test_name.Ship_detector.Model.Binary_model /Users/kaaso/Documents/coding/JuliaEO2024/src/ship_detector/model/classifyer/train_util.jl:107\n"
     ]
    },
    {
     "name": "stderr",
     "output_type": "stream",
     "text": [
      "┌ Info: Epoch 6\n",
      "│   train_loss = 0.6905781575213731\n",
      "│   val_loss = 0.6893384681954964\n",
      "│   train_accuracy = 0.5285932239057239\n",
      "│   val_accuracy = 0.50625\n",
      "└ @ Main.Test_name.Ship_detector.Model.Binary_model /Users/kaaso/Documents/coding/JuliaEO2024/src/ship_detector/model/classifyer/train_util.jl:81\n",
      "┌ Info: New best model saved at epoch 6\n",
      "└ @ Main.Test_name.Ship_detector.Model.Binary_model /Users/kaaso/Documents/coding/JuliaEO2024/src/ship_detector/model/classifyer/train_util.jl:107\n"
     ]
    },
    {
     "name": "stderr",
     "output_type": "stream",
     "text": [
      "┌ Info: Epoch 7\n",
      "│   train_loss = 0.6885596946710515\n",
      "│   val_loss = 0.6852007131629143\n",
      "│   train_accuracy = 0.5278303872053871\n",
      "│   val_accuracy = 0.50625\n",
      "└ @ Main.Test_name.Ship_detector.Model.Binary_model /Users/kaaso/Documents/coding/JuliaEO2024/src/ship_detector/model/classifyer/train_util.jl:81\n",
      "┌ Info: New best model saved at epoch 7\n",
      "└ @ Main.Test_name.Ship_detector.Model.Binary_model /Users/kaaso/Documents/coding/JuliaEO2024/src/ship_detector/model/classifyer/train_util.jl:107\n"
     ]
    },
    {
     "name": "stderr",
     "output_type": "stream",
     "text": [
      "┌ Info: Epoch 8\n",
      "│   train_loss = 0.6859090749664519\n",
      "│   val_loss = 0.680773617725883\n",
      "│   train_accuracy = 0.5296103395061729\n",
      "│   val_accuracy = 0.5125\n",
      "└ @ Main.Test_name.Ship_detector.Model.Binary_model /Users/kaaso/Documents/coding/JuliaEO2024/src/ship_detector/model/classifyer/train_util.jl:81\n",
      "┌ Info: New best model saved at epoch 8\n",
      "└ @ Main.Test_name.Ship_detector.Model.Binary_model /Users/kaaso/Documents/coding/JuliaEO2024/src/ship_detector/model/classifyer/train_util.jl:107\n"
     ]
    },
    {
     "name": "stderr",
     "output_type": "stream",
     "text": [
      "┌ Info: Epoch 9\n",
      "│   train_loss = 0.6796457138833639\n",
      "│   val_loss = 0.6741846801011542\n",
      "│   train_accuracy = 0.5567743406285073\n",
      "│   val_accuracy = 0.60625\n",
      "└ @ Main.Test_name.Ship_detector.Model.Binary_model /Users/kaaso/Documents/coding/JuliaEO2024/src/ship_detector/model/classifyer/train_util.jl:81\n",
      "┌ Info: New best model saved at epoch 9\n",
      "└ @ Main.Test_name.Ship_detector.Model.Binary_model /Users/kaaso/Documents/coding/JuliaEO2024/src/ship_detector/model/classifyer/train_util.jl:107\n"
     ]
    },
    {
     "name": "stderr",
     "output_type": "stream",
     "text": [
      "┌ Info: Epoch 10\n",
      "│   train_loss = 0.6728074966374638\n",
      "│   val_loss = 0.6657386041133821\n",
      "│   train_accuracy = 0.6306029040404041\n",
      "│   val_accuracy = 0.6625\n",
      "└ @ Main.Test_name.Ship_detector.Model.Binary_model /Users/kaaso/Documents/coding/JuliaEO2024/src/ship_detector/model/classifyer/train_util.jl:81\n",
      "┌ Info: New best model saved at epoch 10\n",
      "└ @ Main.Test_name.Ship_detector.Model.Binary_model /Users/kaaso/Documents/coding/JuliaEO2024/src/ship_detector/model/classifyer/train_util.jl:107\n"
     ]
    },
    {
     "name": "stderr",
     "output_type": "stream",
     "text": [
      "┌ Info: Epoch 11\n",
      "│   train_loss = 0.6673725889449276\n",
      "│   val_loss = 0.6843752048953274\n",
      "│   train_accuracy = 0.619572460718294\n",
      "│   val_accuracy = 0.63125\n",
      "└ @ Main.Test_name.Ship_detector.Model.Binary_model /Users/kaaso/Documents/coding/JuliaEO2024/src/ship_detector/model/classifyer/train_util.jl:81\n"
     ]
    },
    {
     "name": "stderr",
     "output_type": "stream",
     "text": [
      "┌ Info: Epoch 12\n",
      "│   train_loss = 0.6570454908747279\n",
      "│   val_loss = 0.6608415406421955\n",
      "│   train_accuracy = 0.6721643518518519\n",
      "│   val_accuracy = 0.70625\n",
      "└ @ Main.Test_name.Ship_detector.Model.Binary_model /Users/kaaso/Documents/coding/JuliaEO2024/src/ship_detector/model/classifyer/train_util.jl:81\n",
      "┌ Info: New best model saved at epoch 12\n",
      "└ @ Main.Test_name.Ship_detector.Model.Binary_model /Users/kaaso/Documents/coding/JuliaEO2024/src/ship_detector/model/classifyer/train_util.jl:107\n"
     ]
    },
    {
     "name": "stderr",
     "output_type": "stream",
     "text": [
      "┌ Info: Epoch 13\n",
      "│   train_loss = 0.621086702098811\n",
      "│   val_loss = 0.6253310375223113\n",
      "│   train_accuracy = 0.7147867564534232\n",
      "│   val_accuracy = 0.73125\n",
      "└ @ Main.Test_name.Ship_detector.Model.Binary_model /Users/kaaso/Documents/coding/JuliaEO2024/src/ship_detector/model/classifyer/train_util.jl:81\n",
      "┌ Info: New best model saved at epoch 13\n",
      "└ @ Main.Test_name.Ship_detector.Model.Binary_model /Users/kaaso/Documents/coding/JuliaEO2024/src/ship_detector/model/classifyer/train_util.jl:107\n"
     ]
    },
    {
     "name": "stderr",
     "output_type": "stream",
     "text": [
      "┌ Info: Epoch 14\n",
      "│   train_loss = 0.5782524656340022\n",
      "│   val_loss = 0.5876853162183949\n",
      "│   train_accuracy = 0.7324021464646465\n",
      "│   val_accuracy = 0.66875\n",
      "└ @ Main.Test_name.Ship_detector.Model.Binary_model /Users/kaaso/Documents/coding/JuliaEO2024/src/ship_detector/model/classifyer/train_util.jl:81\n",
      "┌ Info: New best model saved at epoch 14\n",
      "└ @ Main.Test_name.Ship_detector.Model.Binary_model /Users/kaaso/Documents/coding/JuliaEO2024/src/ship_detector/model/classifyer/train_util.jl:107\n"
     ]
    },
    {
     "name": "stderr",
     "output_type": "stream",
     "text": [
      "┌ Info: Epoch 15\n",
      "│   train_loss = 0.5300800786018436\n",
      "│   val_loss = 0.517642602148819\n",
      "│   train_accuracy = 0.755331088664422\n",
      "│   val_accuracy = 0.7625\n",
      "└ @ Main.Test_name.Ship_detector.Model.Binary_model /Users/kaaso/Documents/coding/JuliaEO2024/src/ship_detector/model/classifyer/train_util.jl:81\n",
      "┌ Info: New best model saved at epoch 15\n",
      "└ @ Main.Test_name.Ship_detector.Model.Binary_model /Users/kaaso/Documents/coding/JuliaEO2024/src/ship_detector/model/classifyer/train_util.jl:107\n"
     ]
    },
    {
     "name": "stderr",
     "output_type": "stream",
     "text": [
      "┌ Info: Epoch 16\n",
      "│   train_loss = 0.5018699134054443\n",
      "│   val_loss = 0.5159427841454786\n",
      "│   train_accuracy = 0.7797418630751963\n",
      "│   val_accuracy = 0.74375\n",
      "└ @ Main.Test_name.Ship_detector.Model.Binary_model /Users/kaaso/Documents/coding/JuliaEO2024/src/ship_detector/model/classifyer/train_util.jl:81\n",
      "┌ Info: New best model saved at epoch 16\n",
      "└ @ Main.Test_name.Ship_detector.Model.Binary_model /Users/kaaso/Documents/coding/JuliaEO2024/src/ship_detector/model/classifyer/train_util.jl:107\n"
     ]
    },
    {
     "name": "stderr",
     "output_type": "stream",
     "text": [
      "┌ Info: Epoch 17\n",
      "│   train_loss = 0.48772777928773486\n",
      "│   val_loss = 0.4899227565750728\n",
      "│   train_accuracy = 0.7693251964085297\n",
      "│   val_accuracy = 0.75625\n",
      "└ @ Main.Test_name.Ship_detector.Model.Binary_model /Users/kaaso/Documents/coding/JuliaEO2024/src/ship_detector/model/classifyer/train_util.jl:81\n",
      "┌ Info: New best model saved at epoch 17\n",
      "└ @ Main.Test_name.Ship_detector.Model.Binary_model /Users/kaaso/Documents/coding/JuliaEO2024/src/ship_detector/model/classifyer/train_util.jl:107\n"
     ]
    },
    {
     "name": "stderr",
     "output_type": "stream",
     "text": [
      "┌ Info: Epoch 18\n",
      "│   train_loss = 0.4743469414074004\n",
      "│   val_loss = 0.48834869747635024\n",
      "│   train_accuracy = 0.7889309764309764\n",
      "│   val_accuracy = 0.7875\n",
      "└ @ Main.Test_name.Ship_detector.Model.Binary_model /Users/kaaso/Documents/coding/JuliaEO2024/src/ship_detector/model/classifyer/train_util.jl:81\n",
      "┌ Info: New best model saved at epoch 18\n",
      "└ @ Main.Test_name.Ship_detector.Model.Binary_model /Users/kaaso/Documents/coding/JuliaEO2024/src/ship_detector/model/classifyer/train_util.jl:107\n"
     ]
    },
    {
     "name": "stderr",
     "output_type": "stream",
     "text": [
      "┌ Info: Epoch 19\n",
      "│   train_loss = 0.43140405051808595\n",
      "│   val_loss = 0.4672282903397195\n",
      "│   train_accuracy = 0.8223204264870931\n",
      "│   val_accuracy = 0.7625\n",
      "└ @ Main.Test_name.Ship_detector.Model.Binary_model /Users/kaaso/Documents/coding/JuliaEO2024/src/ship_detector/model/classifyer/train_util.jl:81\n",
      "┌ Info: New best model saved at epoch 19\n",
      "└ @ Main.Test_name.Ship_detector.Model.Binary_model /Users/kaaso/Documents/coding/JuliaEO2024/src/ship_detector/model/classifyer/train_util.jl:107\n"
     ]
    },
    {
     "name": "stderr",
     "output_type": "stream",
     "text": [
      "┌ Info: Epoch 20\n",
      "│   train_loss = 0.4153357775803068\n",
      "│   val_loss = 0.45739606486264933\n",
      "│   train_accuracy = 0.812771815375982\n",
      "│   val_accuracy = 0.78125\n",
      "└ @ Main.Test_name.Ship_detector.Model.Binary_model /Users/kaaso/Documents/coding/JuliaEO2024/src/ship_detector/model/classifyer/train_util.jl:81\n",
      "┌ Info: New best model saved at epoch 20\n",
      "└ @ Main.Test_name.Ship_detector.Model.Binary_model /Users/kaaso/Documents/coding/JuliaEO2024/src/ship_detector/model/classifyer/train_util.jl:107\n"
     ]
    },
    {
     "name": "stderr",
     "output_type": "stream",
     "text": [
      "┌ Info: Epoch 21\n",
      "│   train_loss = 0.4081862888101716\n",
      "│   val_loss = 0.46663424527352204\n",
      "│   train_accuracy = 0.8096590909090909\n",
      "│   val_accuracy = 0.775\n",
      "└ @ Main.Test_name.Ship_detector.Model.Binary_model /Users/kaaso/Documents/coding/JuliaEO2024/src/ship_detector/model/classifyer/train_util.jl:81\n"
     ]
    },
    {
     "name": "stderr",
     "output_type": "stream",
     "text": [
      "┌ Info: Epoch 22\n",
      "│   train_loss = 0.39143221703441394\n",
      "│   val_loss = 0.4218574584376329\n",
      "│   train_accuracy = 0.820584315375982\n",
      "│   val_accuracy = 0.8\n",
      "└ @ Main.Test_name.Ship_detector.Model.Binary_model /Users/kaaso/Documents/coding/JuliaEO2024/src/ship_detector/model/classifyer/train_util.jl:81\n",
      "┌ Info: New best model saved at epoch 22\n",
      "└ @ Main.Test_name.Ship_detector.Model.Binary_model /Users/kaaso/Documents/coding/JuliaEO2024/src/ship_detector/model/classifyer/train_util.jl:107\n"
     ]
    },
    {
     "name": "stderr",
     "output_type": "stream",
     "text": [
      "┌ Info: Epoch 23\n",
      "│   train_loss = 0.3624721950128327\n",
      "│   val_loss = 0.41627174451930243\n",
      "│   train_accuracy = 0.8446355920314255\n",
      "│   val_accuracy = 0.81875\n",
      "└ @ Main.Test_name.Ship_detector.Model.Binary_model /Users/kaaso/Documents/coding/JuliaEO2024/src/ship_detector/model/classifyer/train_util.jl:81\n",
      "┌ Info: New best model saved at epoch 23\n",
      "└ @ Main.Test_name.Ship_detector.Model.Binary_model /Users/kaaso/Documents/coding/JuliaEO2024/src/ship_detector/model/classifyer/train_util.jl:107\n"
     ]
    },
    {
     "name": "stderr",
     "output_type": "stream",
     "text": [
      "┌ Info: Epoch 24\n",
      "│   train_loss = 0.3615961666409767\n",
      "│   val_loss = 0.39973653732675374\n",
      "│   train_accuracy = 0.8362531565656566\n",
      "│   val_accuracy = 0.79375\n",
      "└ @ Main.Test_name.Ship_detector.Model.Binary_model /Users/kaaso/Documents/coding/JuliaEO2024/src/ship_detector/model/classifyer/train_util.jl:81\n",
      "┌ Info: New best model saved at epoch 24\n",
      "└ @ Main.Test_name.Ship_detector.Model.Binary_model /Users/kaaso/Documents/coding/JuliaEO2024/src/ship_detector/model/classifyer/train_util.jl:107\n"
     ]
    },
    {
     "name": "stderr",
     "output_type": "stream",
     "text": [
      "┌ Info: Epoch 25\n",
      "│   train_loss = 0.34157574286738607\n",
      "│   val_loss = 0.42263278385994657\n",
      "│   train_accuracy = 0.8430485409652076\n",
      "│   val_accuracy = 0.8125\n",
      "└ @ Main.Test_name.Ship_detector.Model.Binary_model /Users/kaaso/Documents/coding/JuliaEO2024/src/ship_detector/model/classifyer/train_util.jl:81\n"
     ]
    },
    {
     "name": "stderr",
     "output_type": "stream",
     "text": [
      "┌ Info: Epoch 26\n",
      "│   train_loss = 0.3300921556156202\n",
      "│   val_loss = 0.3972727375546198\n",
      "│   train_accuracy = 0.8569374298540965\n",
      "│   val_accuracy = 0.8125\n",
      "└ @ Main.Test_name.Ship_detector.Model.Binary_model /Users/kaaso/Documents/coding/JuliaEO2024/src/ship_detector/model/classifyer/train_util.jl:81\n",
      "┌ Info: New best model saved at epoch 26\n",
      "└ @ Main.Test_name.Ship_detector.Model.Binary_model /Users/kaaso/Documents/coding/JuliaEO2024/src/ship_detector/model/classifyer/train_util.jl:107\n"
     ]
    },
    {
     "name": "stderr",
     "output_type": "stream",
     "text": [
      "┌ Info: Epoch 27\n",
      "│   train_loss = 0.3125226878424052\n",
      "│   val_loss = 0.4040889015412015\n",
      "│   train_accuracy = 0.8676083754208754\n",
      "│   val_accuracy = 0.81875\n",
      "└ @ Main.Test_name.Ship_detector.Model.Binary_model /Users/kaaso/Documents/coding/JuliaEO2024/src/ship_detector/model/classifyer/train_util.jl:81\n"
     ]
    },
    {
     "name": "stderr",
     "output_type": "stream",
     "text": [
      "┌ Info: Epoch 28\n",
      "│   train_loss = 0.311287307587534\n",
      "│   val_loss = 0.4032135810507424\n",
      "│   train_accuracy = 0.8605148709315376\n",
      "│   val_accuracy = 0.825\n",
      "└ @ Main.Test_name.Ship_detector.Model.Binary_model /Users/kaaso/Documents/coding/JuliaEO2024/src/ship_detector/model/classifyer/train_util.jl:81\n"
     ]
    },
    {
     "name": "stderr",
     "output_type": "stream",
     "text": [
      "┌ Info: Epoch 29\n",
      "│   train_loss = 0.3036635943694622\n",
      "│   val_loss = 0.3774347441066358\n",
      "│   train_accuracy = 0.8651094276094277\n",
      "│   val_accuracy = 0.83125\n",
      "└ @ Main.Test_name.Ship_detector.Model.Binary_model /Users/kaaso/Documents/coding/JuliaEO2024/src/ship_detector/model/classifyer/train_util.jl:81\n",
      "┌ Info: New best model saved at epoch 29\n",
      "└ @ Main.Test_name.Ship_detector.Model.Binary_model /Users/kaaso/Documents/coding/JuliaEO2024/src/ship_detector/model/classifyer/train_util.jl:107\n"
     ]
    },
    {
     "name": "stderr",
     "output_type": "stream",
     "text": [
      "┌ Info: Epoch 30\n",
      "│   train_loss = 0.3016507165906636\n",
      "│   val_loss = 0.38491934895658875\n",
      "│   train_accuracy = 0.8678626543209877\n",
      "│   val_accuracy = 0.79375\n",
      "└ @ Main.Test_name.Ship_detector.Model.Binary_model /Users/kaaso/Documents/coding/JuliaEO2024/src/ship_detector/model/classifyer/train_util.jl:81\n"
     ]
    },
    {
     "name": "stderr",
     "output_type": "stream",
     "text": [
      "┌ Info: Epoch 31\n",
      "│   train_loss = 0.2977221181908192\n",
      "│   val_loss = 0.4403129936398509\n",
      "│   train_accuracy = 0.8711858164983165\n",
      "│   val_accuracy = 0.79375\n",
      "└ @ Main.Test_name.Ship_detector.Model.Binary_model /Users/kaaso/Documents/coding/JuliaEO2024/src/ship_detector/model/classifyer/train_util.jl:81\n"
     ]
    },
    {
     "name": "stderr",
     "output_type": "stream",
     "text": [
      "┌ Info: Epoch 32\n",
      "│   train_loss = 0.2924994484520145\n",
      "│   val_loss = 0.3787977589518978\n",
      "│   train_accuracy = 0.8695987654320988\n",
      "│   val_accuracy = 0.8625\n",
      "└ @ Main.Test_name.Ship_detector.Model.Binary_model /Users/kaaso/Documents/coding/JuliaEO2024/src/ship_detector/model/classifyer/train_util.jl:81\n"
     ]
    },
    {
     "name": "stderr",
     "output_type": "stream",
     "text": [
      "┌ Info: Epoch 33\n",
      "│   train_loss = 0.2883031156584946\n",
      "│   val_loss = 0.3537041349310375\n",
      "│   train_accuracy = 0.8806292087542088\n",
      "│   val_accuracy = 0.84375\n",
      "└ @ Main.Test_name.Ship_detector.Model.Binary_model /Users/kaaso/Documents/coding/JuliaEO2024/src/ship_detector/model/classifyer/train_util.jl:81\n",
      "┌ Info: New best model saved at epoch 33\n",
      "└ @ Main.Test_name.Ship_detector.Model.Binary_model /Users/kaaso/Documents/coding/JuliaEO2024/src/ship_detector/model/classifyer/train_util.jl:107\n"
     ]
    },
    {
     "name": "stderr",
     "output_type": "stream",
     "text": [
      "┌ Info: Epoch 34\n",
      "│   train_loss = 0.2681779877315102\n",
      "│   val_loss = 0.34288498780812643\n",
      "│   train_accuracy = 0.8933957631874299\n",
      "│   val_accuracy = 0.84375\n",
      "└ @ Main.Test_name.Ship_detector.Model.Binary_model /Users/kaaso/Documents/coding/JuliaEO2024/src/ship_detector/model/classifyer/train_util.jl:81\n",
      "┌ Info: New best model saved at epoch 34\n",
      "└ @ Main.Test_name.Ship_detector.Model.Binary_model /Users/kaaso/Documents/coding/JuliaEO2024/src/ship_detector/model/classifyer/train_util.jl:107\n"
     ]
    },
    {
     "name": "stderr",
     "output_type": "stream",
     "text": [
      "┌ Info: Epoch 35\n",
      "│   train_loss = 0.2736807014616297\n",
      "│   val_loss = 0.36769663603112573\n",
      "│   train_accuracy = 0.8796559343434344\n",
      "│   val_accuracy = 0.84375\n",
      "└ @ Main.Test_name.Ship_detector.Model.Binary_model /Users/kaaso/Documents/coding/JuliaEO2024/src/ship_detector/model/classifyer/train_util.jl:81\n"
     ]
    },
    {
     "name": "stderr",
     "output_type": "stream",
     "text": [
      "┌ Info: Epoch 36\n",
      "│   train_loss = 0.26962598664973536\n",
      "│   val_loss = 0.37117192261502463\n",
      "│   train_accuracy = 0.880883487654321\n",
      "│   val_accuracy = 0.83125\n",
      "└ @ Main.Test_name.Ship_detector.Model.Binary_model /Users/kaaso/Documents/coding/JuliaEO2024/src/ship_detector/model/classifyer/train_util.jl:81\n"
     ]
    },
    {
     "name": "stderr",
     "output_type": "stream",
     "text": [
      "┌ Info: Epoch 37\n",
      "│   train_loss = 0.2673162635295402\n",
      "│   val_loss = 0.33497588243952936\n",
      "│   train_accuracy = 0.8864513187429854\n",
      "│   val_accuracy = 0.84375\n",
      "└ @ Main.Test_name.Ship_detector.Model.Binary_model /Users/kaaso/Documents/coding/JuliaEO2024/src/ship_detector/model/classifyer/train_util.jl:81\n",
      "┌ Info: New best model saved at epoch 37\n",
      "└ @ Main.Test_name.Ship_detector.Model.Binary_model /Users/kaaso/Documents/coding/JuliaEO2024/src/ship_detector/model/classifyer/train_util.jl:107\n"
     ]
    },
    {
     "name": "stderr",
     "output_type": "stream",
     "text": [
      "┌ Info: Epoch 38\n",
      "│   train_loss = 0.2656700356600635\n",
      "│   val_loss = 0.3321909791613657\n",
      "│   train_accuracy = 0.8895640432098766\n",
      "│   val_accuracy = 0.8625\n",
      "└ @ Main.Test_name.Ship_detector.Model.Binary_model /Users/kaaso/Documents/coding/JuliaEO2024/src/ship_detector/model/classifyer/train_util.jl:81\n",
      "┌ Info: New best model saved at epoch 38\n",
      "└ @ Main.Test_name.Ship_detector.Model.Binary_model /Users/kaaso/Documents/coding/JuliaEO2024/src/ship_detector/model/classifyer/train_util.jl:107\n"
     ]
    },
    {
     "name": "stderr",
     "output_type": "stream",
     "text": [
      "┌ Info: Epoch 39\n",
      "│   train_loss = 0.2624676653551272\n",
      "│   val_loss = 0.3402895779902436\n",
      "│   train_accuracy = 0.8910458754208754\n",
      "│   val_accuracy = 0.8125\n",
      "└ @ Main.Test_name.Ship_detector.Model.Binary_model /Users/kaaso/Documents/coding/JuliaEO2024/src/ship_detector/model/classifyer/train_util.jl:81\n"
     ]
    },
    {
     "name": "stderr",
     "output_type": "stream",
     "text": [
      "┌ Info: Epoch 40\n",
      "│   train_loss = 0.25307519218851104\n",
      "│   val_loss = 0.35298892801323567\n",
      "│   train_accuracy = 0.899726430976431\n",
      "│   val_accuracy = 0.8375\n",
      "└ @ Main.Test_name.Ship_detector.Model.Binary_model /Users/kaaso/Documents/coding/JuliaEO2024/src/ship_detector/model/classifyer/train_util.jl:81\n"
     ]
    },
    {
     "name": "stderr",
     "output_type": "stream",
     "text": [
      "┌ Info: Epoch 41\n",
      "│   train_loss = 0.2603995323784221\n",
      "│   val_loss = 0.3278326034217516\n",
      "│   train_accuracy = 0.8970170454545454\n",
      "│   val_accuracy = 0.83125\n",
      "└ @ Main.Test_name.Ship_detector.Model.Binary_model /Users/kaaso/Documents/coding/JuliaEO2024/src/ship_detector/model/classifyer/train_util.jl:81\n",
      "┌ Info: New best model saved at epoch 41\n",
      "└ @ Main.Test_name.Ship_detector.Model.Binary_model /Users/kaaso/Documents/coding/JuliaEO2024/src/ship_detector/model/classifyer/train_util.jl:107\n"
     ]
    },
    {
     "name": "stderr",
     "output_type": "stream",
     "text": [
      "┌ Info: Epoch 42\n",
      "│   train_loss = 0.26547037503360715\n",
      "│   val_loss = 0.3872027991334041\n",
      "│   train_accuracy = 0.8855832631874299\n",
      "│   val_accuracy = 0.85\n",
      "└ @ Main.Test_name.Ship_detector.Model.Binary_model /Users/kaaso/Documents/coding/JuliaEO2024/src/ship_detector/model/classifyer/train_util.jl:81\n"
     ]
    },
    {
     "name": "stderr",
     "output_type": "stream",
     "text": [
      "┌ Info: Epoch 43\n",
      "│   train_loss = 0.2598913751502842\n",
      "│   val_loss = 0.3283555317191799\n",
      "│   train_accuracy = 0.8967189253647587\n",
      "│   val_accuracy = 0.85\n",
      "└ @ Main.Test_name.Ship_detector.Model.Binary_model /Users/kaaso/Documents/coding/JuliaEO2024/src/ship_detector/model/classifyer/train_util.jl:81\n"
     ]
    },
    {
     "name": "stderr",
     "output_type": "stream",
     "text": [
      "┌ Info: Epoch 44\n",
      "│   train_loss = 0.2607601346722414\n",
      "│   val_loss = 0.3606991051593621\n",
      "│   train_accuracy = 0.8920191498316498\n",
      "│   val_accuracy = 0.84375\n",
      "└ @ Main.Test_name.Ship_detector.Model.Binary_model /Users/kaaso/Documents/coding/JuliaEO2024/src/ship_detector/model/classifyer/train_util.jl:81\n"
     ]
    },
    {
     "name": "stderr",
     "output_type": "stream",
     "text": [
      "┌ Info: Epoch 45\n",
      "│   train_loss = 0.23065069118654233\n",
      "│   val_loss = 0.3594318194766034\n",
      "│   train_accuracy = 0.9018220398428731\n",
      "│   val_accuracy = 0.85\n",
      "└ @ Main.Test_name.Ship_detector.Model.Binary_model /Users/kaaso/Documents/coding/JuliaEO2024/src/ship_detector/model/classifyer/train_util.jl:81\n"
     ]
    },
    {
     "name": "stderr",
     "output_type": "stream",
     "text": [
      "┌ Info: Epoch 46\n",
      "│   train_loss = 0.24006178030836464\n",
      "│   val_loss = 0.3560441143672298\n",
      "│   train_accuracy = 0.8988583754208754\n",
      "│   val_accuracy = 0.85625\n",
      "└ @ Main.Test_name.Ship_detector.Model.Binary_model /Users/kaaso/Documents/coding/JuliaEO2024/src/ship_detector/model/classifyer/train_util.jl:81\n"
     ]
    },
    {
     "name": "stderr",
     "output_type": "stream",
     "text": [
      "┌ Info: Epoch 47\n",
      "│   train_loss = 0.22814348854363273\n",
      "│   val_loss = 0.29823924270171315\n",
      "│   train_accuracy = 0.914886714365881\n",
      "│   val_accuracy = 0.875\n",
      "└ @ Main.Test_name.Ship_detector.Model.Binary_model /Users/kaaso/Documents/coding/JuliaEO2024/src/ship_detector/model/classifyer/train_util.jl:81\n",
      "┌ Info: New best model saved at epoch 47\n",
      "└ @ Main.Test_name.Ship_detector.Model.Binary_model /Users/kaaso/Documents/coding/JuliaEO2024/src/ship_detector/model/classifyer/train_util.jl:107\n"
     ]
    },
    {
     "name": "stderr",
     "output_type": "stream",
     "text": [
      "┌ Info: Epoch 48\n",
      "│   train_loss = 0.22382363220395707\n",
      "│   val_loss = 0.3272604326447094\n",
      "│   train_accuracy = 0.9096783810325477\n",
      "│   val_accuracy = 0.85625\n",
      "└ @ Main.Test_name.Ship_detector.Model.Binary_model /Users/kaaso/Documents/coding/JuliaEO2024/src/ship_detector/model/classifyer/train_util.jl:81\n"
     ]
    },
    {
     "name": "stderr",
     "output_type": "stream",
     "text": [
      "┌ Info: Epoch 49\n",
      "│   train_loss = 0.2232337448184241\n",
      "│   val_loss = 0.32285119997171874\n",
      "│   train_accuracy = 0.9058466610549945\n",
      "│   val_accuracy = 0.85625\n",
      "└ @ Main.Test_name.Ship_detector.Model.Binary_model /Users/kaaso/Documents/coding/JuliaEO2024/src/ship_detector/model/classifyer/train_util.jl:81\n"
     ]
    },
    {
     "name": "stderr",
     "output_type": "stream",
     "text": [
      "┌ Info: Epoch 50\n",
      "│   train_loss = 0.22470565576558915\n",
      "│   val_loss = 0.35329742399872854\n",
      "│   train_accuracy = 0.9097835998877666\n",
      "│   val_accuracy = 0.88125\n",
      "└ @ Main.Test_name.Ship_detector.Model.Binary_model /Users/kaaso/Documents/coding/JuliaEO2024/src/ship_detector/model/classifyer/train_util.jl:81\n"
     ]
    },
    {
     "name": "stderr",
     "output_type": "stream",
     "text": [
      "┌ Info: Epoch 51\n",
      "│   train_loss = 0.2220891302297228\n",
      "│   val_loss = 0.29905098049849677\n",
      "│   train_accuracy = 0.910292157687991\n",
      "│   val_accuracy = 0.85\n",
      "└ @ Main.Test_name.Ship_detector.Model.Binary_model /Users/kaaso/Documents/coding/JuliaEO2024/src/ship_detector/model/classifyer/train_util.jl:81\n"
     ]
    },
    {
     "name": "stderr",
     "output_type": "stream",
     "text": [
      "┌ Info: Epoch 52\n",
      "│   train_loss = 0.2126348462413512\n",
      "│   val_loss = 0.30685656352018204\n",
      "│   train_accuracy = 0.9161581088664421\n",
      "│   val_accuracy = 0.8625\n",
      "└ @ Main.Test_name.Ship_detector.Model.Binary_model /Users/kaaso/Documents/coding/JuliaEO2024/src/ship_detector/model/classifyer/train_util.jl:81\n"
     ]
    },
    {
     "name": "stderr",
     "output_type": "stream",
     "text": [
      "┌ Info: Epoch 53\n",
      "│   train_loss = 0.20735413136296615\n",
      "│   val_loss = 0.31517019037447086\n",
      "│   train_accuracy = 0.9158599887766555\n",
      "│   val_accuracy = 0.86875\n",
      "└ @ Main.Test_name.Ship_detector.Model.Binary_model /Users/kaaso/Documents/coding/JuliaEO2024/src/ship_detector/model/classifyer/train_util.jl:81\n"
     ]
    },
    {
     "name": "stderr",
     "output_type": "stream",
     "text": [
      "┌ Info: Epoch 54\n",
      "│   train_loss = 0.2078901286948004\n",
      "│   val_loss = 0.317326225766866\n",
      "│   train_accuracy = 0.912028268799102\n",
      "│   val_accuracy = 0.85625\n",
      "└ @ Main.Test_name.Ship_detector.Model.Binary_model /Users/kaaso/Documents/coding/JuliaEO2024/src/ship_detector/model/classifyer/train_util.jl:81\n"
     ]
    },
    {
     "name": "stderr",
     "output_type": "stream",
     "text": [
      "┌ Info: Epoch 55\n",
      "│   train_loss = 0.2043735299730084\n",
      "│   val_loss = 0.32743464849520026\n",
      "│   train_accuracy = 0.919840768799102\n",
      "│   val_accuracy = 0.84375\n",
      "└ @ Main.Test_name.Ship_detector.Model.Binary_model /Users/kaaso/Documents/coding/JuliaEO2024/src/ship_detector/model/classifyer/train_util.jl:81\n"
     ]
    },
    {
     "name": "stderr",
     "output_type": "stream",
     "text": [
      "┌ Info: Epoch 56\n",
      "│   train_loss = 0.20000571682333662\n",
      "│   val_loss = 0.3044178488983814\n",
      "│   train_accuracy = 0.9204545454545454\n",
      "│   val_accuracy = 0.875\n",
      "└ @ Main.Test_name.Ship_detector.Model.Binary_model /Users/kaaso/Documents/coding/JuliaEO2024/src/ship_detector/model/classifyer/train_util.jl:81\n"
     ]
    },
    {
     "name": "stderr",
     "output_type": "stream",
     "text": [
      "┌ Info: Epoch 57\n",
      "│   train_loss = 0.1940512227794945\n",
      "│   val_loss = 0.3026364305073117\n",
      "│   train_accuracy = 0.9195864898989898\n",
      "│   val_accuracy = 0.83125\n",
      "└ @ Main.Test_name.Ship_detector.Model.Binary_model /Users/kaaso/Documents/coding/JuliaEO2024/src/ship_detector/model/classifyer/train_util.jl:81\n"
     ]
    },
    {
     "name": "stderr",
     "output_type": "stream",
     "text": [
      "┌ Info: Epoch 58\n",
      "│   train_loss = 0.2169267991637218\n",
      "│   val_loss = 0.32271948492074476\n",
      "│   train_accuracy = 0.9207088243546576\n",
      "│   val_accuracy = 0.86875\n",
      "└ @ Main.Test_name.Ship_detector.Model.Binary_model /Users/kaaso/Documents/coding/JuliaEO2024/src/ship_detector/model/classifyer/train_util.jl:81\n"
     ]
    },
    {
     "name": "stderr",
     "output_type": "stream",
     "text": [
      "┌ Info: Epoch 59\n",
      "│   train_loss = 0.20037406180072184\n",
      "│   val_loss = 0.2768269151834045\n",
      "│   train_accuracy = 0.9233129910213242\n",
      "│   val_accuracy = 0.8875\n",
      "└ @ Main.Test_name.Ship_detector.Model.Binary_model /Users/kaaso/Documents/coding/JuliaEO2024/src/ship_detector/model/classifyer/train_util.jl:81\n",
      "┌ Info: New best model saved at epoch 59\n",
      "└ @ Main.Test_name.Ship_detector.Model.Binary_model /Users/kaaso/Documents/coding/JuliaEO2024/src/ship_detector/model/classifyer/train_util.jl:107\n"
     ]
    },
    {
     "name": "stderr",
     "output_type": "stream",
     "text": [
      "┌ Info: Epoch 60\n",
      "│   train_loss = 0.20659862533570064\n",
      "│   val_loss = 0.3147495660806835\n",
      "│   train_accuracy = 0.91039737654321\n",
      "│   val_accuracy = 0.875\n",
      "└ @ Main.Test_name.Ship_detector.Model.Binary_model /Users/kaaso/Documents/coding/JuliaEO2024/src/ship_detector/model/classifyer/train_util.jl:81\n"
     ]
    },
    {
     "name": "stderr",
     "output_type": "stream",
     "text": [
      "┌ Info: Epoch 61\n",
      "│   train_loss = 0.21445372080656194\n",
      "│   val_loss = 0.3195767105849266\n",
      "│   train_accuracy = 0.9086612654320988\n",
      "│   val_accuracy = 0.84375\n",
      "└ @ Main.Test_name.Ship_detector.Model.Binary_model /Users/kaaso/Documents/coding/JuliaEO2024/src/ship_detector/model/classifyer/train_util.jl:81\n"
     ]
    },
    {
     "name": "stderr",
     "output_type": "stream",
     "text": [
      "┌ Info: Epoch 62\n",
      "│   train_loss = 0.20710222768491293\n",
      "│   val_loss = 0.2906975693532331\n",
      "│   train_accuracy = 0.9238215488215489\n",
      "│   val_accuracy = 0.86875\n",
      "└ @ Main.Test_name.Ship_detector.Model.Binary_model /Users/kaaso/Documents/coding/JuliaEO2024/src/ship_detector/model/classifyer/train_util.jl:81\n"
     ]
    },
    {
     "name": "stderr",
     "output_type": "stream",
     "text": [
      "┌ Info: Epoch 63\n",
      "│   train_loss = 0.19188694546213028\n",
      "│   val_loss = 0.3475034389842827\n",
      "│   train_accuracy = 0.9246896043771043\n",
      "│   val_accuracy = 0.8625\n",
      "└ @ Main.Test_name.Ship_detector.Model.Binary_model /Users/kaaso/Documents/coding/JuliaEO2024/src/ship_detector/model/classifyer/train_util.jl:81\n"
     ]
    },
    {
     "name": "stderr",
     "output_type": "stream",
     "text": [
      "┌ Info: Epoch 64\n",
      "│   train_loss = 0.2089864535239558\n",
      "│   val_loss = 0.3653997176679614\n",
      "│   train_accuracy = 0.9195864898989898\n",
      "│   val_accuracy = 0.84375\n",
      "└ @ Main.Test_name.Ship_detector.Model.Binary_model /Users/kaaso/Documents/coding/JuliaEO2024/src/ship_detector/model/classifyer/train_util.jl:81\n"
     ]
    },
    {
     "name": "stderr",
     "output_type": "stream",
     "text": [
      "┌ Info: Epoch 65\n",
      "│   train_loss = 0.19641612484462778\n",
      "│   val_loss = 0.297935714473072\n",
      "│   train_accuracy = 0.9214716610549945\n",
      "│   val_accuracy = 0.86875\n",
      "└ @ Main.Test_name.Ship_detector.Model.Binary_model /Users/kaaso/Documents/coding/JuliaEO2024/src/ship_detector/model/classifyer/train_util.jl:81\n"
     ]
    },
    {
     "name": "stderr",
     "output_type": "stream",
     "text": [
      "┌ Info: Epoch 66\n",
      "│   train_loss = 0.18400734314204115\n",
      "│   val_loss = 0.29296409057142825\n",
      "│   train_accuracy = 0.9271447109988777\n",
      "│   val_accuracy = 0.85\n",
      "└ @ Main.Test_name.Ship_detector.Model.Binary_model /Users/kaaso/Documents/coding/JuliaEO2024/src/ship_detector/model/classifyer/train_util.jl:81\n"
     ]
    },
    {
     "name": "stderr",
     "output_type": "stream",
     "text": [
      "┌ Info: Epoch 67\n",
      "│   train_loss = 0.18558755627457932\n",
      "│   val_loss = 0.34391186716801636\n",
      "│   train_accuracy = 0.9285213243546576\n",
      "│   val_accuracy = 0.85\n",
      "└ @ Main.Test_name.Ship_detector.Model.Binary_model /Users/kaaso/Documents/coding/JuliaEO2024/src/ship_detector/model/classifyer/train_util.jl:81\n"
     ]
    },
    {
     "name": "stderr",
     "output_type": "stream",
     "text": [
      "┌ Info: Epoch 68\n",
      "│   train_loss = 0.19394029311441832\n",
      "│   val_loss = 0.2961691115170443\n",
      "│   train_accuracy = 0.9221906565656565\n",
      "│   val_accuracy = 0.90625\n",
      "└ @ Main.Test_name.Ship_detector.Model.Binary_model /Users/kaaso/Documents/coding/JuliaEO2024/src/ship_detector/model/classifyer/train_util.jl:81\n"
     ]
    },
    {
     "name": "stderr",
     "output_type": "stream",
     "text": [
      "┌ Info: Epoch 69\n",
      "│   train_loss = 0.17732252402229634\n",
      "│   val_loss = 0.28896590897895724\n",
      "│   train_accuracy = 0.9351062710437711\n",
      "│   val_accuracy = 0.86875\n",
      "└ @ Main.Test_name.Ship_detector.Model.Binary_model /Users/kaaso/Documents/coding/JuliaEO2024/src/ship_detector/model/classifyer/train_util.jl:81\n"
     ]
    },
    {
     "name": "stderr",
     "output_type": "stream",
     "text": [
      "┌ Info: Epoch 70\n",
      "│   train_loss = 0.1948236028140502\n",
      "│   val_loss = 0.2908106155767947\n",
      "│   train_accuracy = 0.9143781565656565\n",
      "│   val_accuracy = 0.88125\n",
      "└ @ Main.Test_name.Ship_detector.Model.Binary_model /Users/kaaso/Documents/coding/JuliaEO2024/src/ship_detector/model/classifyer/train_util.jl:81\n"
     ]
    },
    {
     "name": "stderr",
     "output_type": "stream",
     "text": [
      "┌ Info: Epoch 71\n",
      "│   train_loss = 0.1861608390106101\n",
      "│   val_loss = 0.2998224693247344\n",
      "│   train_accuracy = 0.9341329966329965\n",
      "│   val_accuracy = 0.88125\n",
      "└ @ Main.Test_name.Ship_detector.Model.Binary_model /Users/kaaso/Documents/coding/JuliaEO2024/src/ship_detector/model/classifyer/train_util.jl:81\n"
     ]
    },
    {
     "name": "stderr",
     "output_type": "stream",
     "text": [
      "┌ Info: Epoch 72\n",
      "│   train_loss = 0.18127861497448197\n",
      "│   val_loss = 0.2893314681597533\n",
      "│   train_accuracy = 0.9215768799102132\n",
      "│   val_accuracy = 0.88125\n",
      "└ @ Main.Test_name.Ship_detector.Model.Binary_model /Users/kaaso/Documents/coding/JuliaEO2024/src/ship_detector/model/classifyer/train_util.jl:81\n"
     ]
    },
    {
     "name": "stderr",
     "output_type": "stream",
     "text": [
      "┌ Info: Epoch 73\n",
      "│   train_loss = 0.21225927870380834\n",
      "│   val_loss = 0.31358639996102305\n",
      "│   train_accuracy = 0.9209631032547699\n",
      "│   val_accuracy = 0.85625\n",
      "└ @ Main.Test_name.Ship_detector.Model.Binary_model /Users/kaaso/Documents/coding/JuliaEO2024/src/ship_detector/model/classifyer/train_util.jl:81\n"
     ]
    },
    {
     "name": "stderr",
     "output_type": "stream",
     "text": [
      "┌ Info: Epoch 74\n",
      "│   train_loss = 0.18881760154081967\n",
      "│   val_loss = 0.26593470686110104\n",
      "│   train_accuracy = 0.927653268799102\n",
      "│   val_accuracy = 0.88125\n",
      "└ @ Main.Test_name.Ship_detector.Model.Binary_model /Users/kaaso/Documents/coding/JuliaEO2024/src/ship_detector/model/classifyer/train_util.jl:81\n",
      "┌ Info: New best model saved at epoch 74\n",
      "└ @ Main.Test_name.Ship_detector.Model.Binary_model /Users/kaaso/Documents/coding/JuliaEO2024/src/ship_detector/model/classifyer/train_util.jl:107\n"
     ]
    },
    {
     "name": "stderr",
     "output_type": "stream",
     "text": [
      "┌ Info: Epoch 75\n",
      "│   train_loss = 0.16977883869998878\n",
      "│   val_loss = 0.2814111958936088\n",
      "│   train_accuracy = 0.935465768799102\n",
      "│   val_accuracy = 0.8875\n",
      "└ @ Main.Test_name.Ship_detector.Model.Binary_model /Users/kaaso/Documents/coding/JuliaEO2024/src/ship_detector/model/classifyer/train_util.jl:81\n"
     ]
    },
    {
     "name": "stderr",
     "output_type": "stream",
     "text": [
      "┌ Info: Epoch 76\n",
      "│   train_loss = 0.1895968337994039\n",
      "│   val_loss = 0.32193379515629117\n",
      "│   train_accuracy = 0.9220854377104377\n",
      "│   val_accuracy = 0.875\n",
      "└ @ Main.Test_name.Ship_detector.Model.Binary_model /Users/kaaso/Documents/coding/JuliaEO2024/src/ship_detector/model/classifyer/train_util.jl:81\n"
     ]
    },
    {
     "name": "stderr",
     "output_type": "stream",
     "text": [
      "┌ Info: Epoch 77\n",
      "│   train_loss = 0.18348465286178609\n",
      "│   val_loss = 0.3119876955469466\n",
      "│   train_accuracy = 0.9268904320987654\n",
      "│   val_accuracy = 0.86875\n",
      "└ @ Main.Test_name.Ship_detector.Model.Binary_model /Users/kaaso/Documents/coding/JuliaEO2024/src/ship_detector/model/classifyer/train_util.jl:81\n"
     ]
    },
    {
     "name": "stderr",
     "output_type": "stream",
     "text": [
      "┌ Info: Epoch 78\n",
      "│   train_loss = 0.17176077791414956\n",
      "│   val_loss = 0.3240852879950582\n",
      "│   train_accuracy = 0.93474677328844\n",
      "│   val_accuracy = 0.8625\n",
      "└ @ Main.Test_name.Ship_detector.Model.Binary_model /Users/kaaso/Documents/coding/JuliaEO2024/src/ship_detector/model/classifyer/train_util.jl:81\n"
     ]
    },
    {
     "name": "stderr",
     "output_type": "stream",
     "text": [
      "┌ Info: Epoch 79\n",
      "│   train_loss = 0.16468440159565156\n",
      "│   val_loss = 0.2893970592207134\n",
      "│   train_accuracy = 0.9351062710437711\n",
      "│   val_accuracy = 0.8875\n",
      "└ @ Main.Test_name.Ship_detector.Model.Binary_model /Users/kaaso/Documents/coding/JuliaEO2024/src/ship_detector/model/classifyer/train_util.jl:81\n"
     ]
    },
    {
     "name": "stderr",
     "output_type": "stream",
     "text": [
      "┌ Info: Epoch 80\n",
      "│   train_loss = 0.15773229131719646\n",
      "│   val_loss = 0.3344805578948275\n",
      "│   train_accuracy = 0.9395517676767676\n",
      "│   val_accuracy = 0.8625\n",
      "└ @ Main.Test_name.Ship_detector.Model.Binary_model /Users/kaaso/Documents/coding/JuliaEO2024/src/ship_detector/model/classifyer/train_util.jl:81\n"
     ]
    },
    {
     "name": "stderr",
     "output_type": "stream",
     "text": [
      "┌ Info: Epoch 81\n",
      "│   train_loss = 0.16384808127348116\n",
      "│   val_loss = 0.2826642266092671\n",
      "│   train_accuracy = 0.933729657687991\n",
      "│   val_accuracy = 0.875\n",
      "└ @ Main.Test_name.Ship_detector.Model.Binary_model /Users/kaaso/Documents/coding/JuliaEO2024/src/ship_detector/model/classifyer/train_util.jl:81\n"
     ]
    },
    {
     "name": "stderr",
     "output_type": "stream",
     "text": [
      "┌ Info: Epoch 82\n",
      "│   train_loss = 0.1538481923213954\n",
      "│   val_loss = 0.28194429689717865\n",
      "│   train_accuracy = 0.9428135521885521\n",
      "│   val_accuracy = 0.89375\n",
      "└ @ Main.Test_name.Ship_detector.Model.Binary_model /Users/kaaso/Documents/coding/JuliaEO2024/src/ship_detector/model/classifyer/train_util.jl:81\n"
     ]
    },
    {
     "name": "stderr",
     "output_type": "stream",
     "text": [
      "┌ Info: Epoch 83\n",
      "│   train_loss = 0.14760824150208907\n",
      "│   val_loss = 0.30043210498055484\n",
      "│   train_accuracy = 0.9395956088664421\n",
      "│   val_accuracy = 0.86875\n",
      "└ @ Main.Test_name.Ship_detector.Model.Binary_model /Users/kaaso/Documents/coding/JuliaEO2024/src/ship_detector/model/classifyer/train_util.jl:81\n"
     ]
    },
    {
     "name": "stderr",
     "output_type": "stream",
     "text": [
      "┌ Info: Epoch 84\n",
      "│   train_loss = 0.1457015353099664\n",
      "│   val_loss = 0.30472571189549313\n",
      "│   train_accuracy = 0.9442953843995512\n",
      "│   val_accuracy = 0.88125\n",
      "└ @ Main.Test_name.Ship_detector.Model.Binary_model /Users/kaaso/Documents/coding/JuliaEO2024/src/ship_detector/model/classifyer/train_util.jl:81\n"
     ]
    },
    {
     "name": "stderr",
     "output_type": "stream",
     "text": [
      "┌ Info: Epoch 85\n",
      "│   train_loss = 0.14824239121092628\n",
      "│   val_loss = 0.2972109410739364\n",
      "│   train_accuracy = 0.9411826599326599\n",
      "│   val_accuracy = 0.86875\n",
      "└ @ Main.Test_name.Ship_detector.Model.Binary_model /Users/kaaso/Documents/coding/JuliaEO2024/src/ship_detector/model/classifyer/train_util.jl:81\n"
     ]
    },
    {
     "name": "stderr",
     "output_type": "stream",
     "text": [
      "┌ Info: Epoch 86\n",
      "│   train_loss = 0.1689293504015634\n",
      "│   val_loss = 0.3470757138777336\n",
      "│   train_accuracy = 0.9273989898989898\n",
      "│   val_accuracy = 0.85625\n",
      "└ @ Main.Test_name.Ship_detector.Model.Binary_model /Users/kaaso/Documents/coding/JuliaEO2024/src/ship_detector/model/classifyer/train_util.jl:81\n"
     ]
    },
    {
     "name": "stderr",
     "output_type": "stream",
     "text": [
      "┌ Info: Epoch 87\n",
      "│   train_loss = 0.15393233347989507\n",
      "│   val_loss = 0.32328814374337467\n",
      "│   train_accuracy = 0.9484866021324354\n",
      "│   val_accuracy = 0.88125\n",
      "└ @ Main.Test_name.Ship_detector.Model.Binary_model /Users/kaaso/Documents/coding/JuliaEO2024/src/ship_detector/model/classifyer/train_util.jl:81\n"
     ]
    },
    {
     "name": "stderr",
     "output_type": "stream",
     "text": [
      "┌ Info: Epoch 88\n",
      "│   train_loss = 0.15525777776767521\n",
      "│   val_loss = 0.27010683524113627\n",
      "│   train_accuracy = 0.9374561588103254\n",
      "│   val_accuracy = 0.89375\n",
      "└ @ Main.Test_name.Ship_detector.Model.Binary_model /Users/kaaso/Documents/coding/JuliaEO2024/src/ship_detector/model/classifyer/train_util.jl:81\n"
     ]
    },
    {
     "name": "stderr",
     "output_type": "stream",
     "text": [
      "┌ Info: Epoch 89\n",
      "│   train_loss = 0.14607359750350754\n",
      "│   val_loss = 0.31157386510219187\n",
      "│   train_accuracy = 0.9385346520763187\n",
      "│   val_accuracy = 0.8875\n",
      "└ @ Main.Test_name.Ship_detector.Model.Binary_model /Users/kaaso/Documents/coding/JuliaEO2024/src/ship_detector/model/classifyer/train_util.jl:81\n"
     ]
    },
    {
     "name": "stderr",
     "output_type": "stream",
     "text": [
      "┌ Info: Epoch 90\n",
      "│   train_loss = 0.13723693166988873\n",
      "│   val_loss = 0.30632120353173004\n",
      "│   train_accuracy = 0.9476623877665544\n",
      "│   val_accuracy = 0.86875\n",
      "└ @ Main.Test_name.Ship_detector.Model.Binary_model /Users/kaaso/Documents/coding/JuliaEO2024/src/ship_detector/model/classifyer/train_util.jl:81\n"
     ]
    },
    {
     "name": "stderr",
     "output_type": "stream",
     "text": [
      "┌ Info: Epoch 91\n",
      "│   train_loss = 0.15213197517674792\n",
      "│   val_loss = 0.3331564549828348\n",
      "│   train_accuracy = 0.9455229377104377\n",
      "│   val_accuracy = 0.86875\n",
      "└ @ Main.Test_name.Ship_detector.Model.Binary_model /Users/kaaso/Documents/coding/JuliaEO2024/src/ship_detector/model/classifyer/train_util.jl:81\n"
     ]
    },
    {
     "name": "stderr",
     "output_type": "stream",
     "text": [
      "┌ Info: Epoch 92\n",
      "│   train_loss = 0.1340931056811782\n",
      "│   val_loss = 0.2953776622008687\n",
      "│   train_accuracy = 0.9476185465768798\n",
      "│   val_accuracy = 0.88125\n",
      "└ @ Main.Test_name.Ship_detector.Model.Binary_model /Users/kaaso/Documents/coding/JuliaEO2024/src/ship_detector/model/classifyer/train_util.jl:81\n"
     ]
    },
    {
     "name": "stderr",
     "output_type": "stream",
     "text": [
      "┌ Info: Epoch 93\n",
      "│   train_loss = 0.14968969792354636\n",
      "│   val_loss = 0.295343682098088\n",
      "│   train_accuracy = 0.9404198232323231\n",
      "│   val_accuracy = 0.875\n",
      "└ @ Main.Test_name.Ship_detector.Model.Binary_model /Users/kaaso/Documents/coding/JuliaEO2024/src/ship_detector/model/classifyer/train_util.jl:81\n"
     ]
    },
    {
     "name": "stderr",
     "output_type": "stream",
     "text": [
      "┌ Info: Epoch 94\n",
      "│   train_loss = 0.14107240157785655\n",
      "│   val_loss = 0.293189028344816\n",
      "│   train_accuracy = 0.9495037177328844\n",
      "│   val_accuracy = 0.8875\n",
      "└ @ Main.Test_name.Ship_detector.Model.Binary_model /Users/kaaso/Documents/coding/JuliaEO2024/src/ship_detector/model/classifyer/train_util.jl:81\n"
     ]
    },
    {
     "name": "stderr",
     "output_type": "stream",
     "text": [
      "┌ Info: Epoch 95\n",
      "│   train_loss = 0.1407215373689314\n",
      "│   val_loss = 0.4562732673907111\n",
      "│   train_accuracy = 0.9476185465768798\n",
      "│   val_accuracy = 0.8\n",
      "└ @ Main.Test_name.Ship_detector.Model.Binary_model /Users/kaaso/Documents/coding/JuliaEO2024/src/ship_detector/model/classifyer/train_util.jl:81\n"
     ]
    },
    {
     "name": "stderr",
     "output_type": "stream",
     "text": [
      "┌ Info: Epoch 96\n",
      "│   train_loss = 0.14053479964811522\n",
      "│   val_loss = 0.28504599186913887\n",
      "│   train_accuracy = 0.9497579966329965\n",
      "│   val_accuracy = 0.875\n",
      "└ @ Main.Test_name.Ship_detector.Model.Binary_model /Users/kaaso/Documents/coding/JuliaEO2024/src/ship_detector/model/classifyer/train_util.jl:81\n"
     ]
    },
    {
     "name": "stderr",
     "output_type": "stream",
     "text": [
      "┌ Info: Epoch 97\n",
      "│   train_loss = 0.15255926119518828\n",
      "│   val_loss = 0.26591542457680184\n",
      "│   train_accuracy = 0.935465768799102\n",
      "│   val_accuracy = 0.9\n",
      "└ @ Main.Test_name.Ship_detector.Model.Binary_model /Users/kaaso/Documents/coding/JuliaEO2024/src/ship_detector/model/classifyer/train_util.jl:81\n",
      "┌ Info: New best model saved at epoch 97\n",
      "└ @ Main.Test_name.Ship_detector.Model.Binary_model /Users/kaaso/Documents/coding/JuliaEO2024/src/ship_detector/model/classifyer/train_util.jl:107\n"
     ]
    },
    {
     "name": "stderr",
     "output_type": "stream",
     "text": [
      "┌ Info: Epoch 98\n",
      "│   train_loss = 0.12943387977730147\n",
      "│   val_loss = 0.2949184708552733\n",
      "│   train_accuracy = 0.9540982744107743\n",
      "│   val_accuracy = 0.88125\n",
      "└ @ Main.Test_name.Ship_detector.Model.Binary_model /Users/kaaso/Documents/coding/JuliaEO2024/src/ship_detector/model/classifyer/train_util.jl:81\n"
     ]
    },
    {
     "name": "stderr",
     "output_type": "stream",
     "text": [
      "┌ Info: Epoch 99\n",
      "│   train_loss = 0.12148068498776936\n",
      "│   val_loss = 0.3232780964851366\n",
      "│   train_accuracy = 0.9548172699214366\n",
      "│   val_accuracy = 0.88125\n",
      "└ @ Main.Test_name.Ship_detector.Model.Binary_model /Users/kaaso/Documents/coding/JuliaEO2024/src/ship_detector/model/classifyer/train_util.jl:81\n"
     ]
    },
    {
     "name": "stderr",
     "output_type": "stream",
     "text": [
      "┌ Info: Epoch 100\n",
      "│   train_loss = 0.1287470338692631\n",
      "│   val_loss = 0.34553190868269706\n",
      "│   train_accuracy = 0.9544577721661055\n",
      "│   val_accuracy = 0.85625\n",
      "└ @ Main.Test_name.Ship_detector.Model.Binary_model /Users/kaaso/Documents/coding/JuliaEO2024/src/ship_detector/model/classifyer/train_util.jl:81\n"
     ]
    },
    {
     "name": "stderr",
     "output_type": "stream",
     "text": [
      "┌ Info: Epoch 101\n",
      "│   train_loss = 0.13485019280205843\n",
      "│   val_loss = 0.3378337955045492\n",
      "│   train_accuracy = 0.9468995510662178\n",
      "│   val_accuracy = 0.86875\n",
      "└ @ Main.Test_name.Ship_detector.Model.Binary_model /Users/kaaso/Documents/coding/JuliaEO2024/src/ship_detector/model/classifyer/train_util.jl:81\n"
     ]
    },
    {
     "name": "stderr",
     "output_type": "stream",
     "text": [
      "┌ Info: Epoch 102\n",
      "│   train_loss = 0.14681604618034505\n",
      "│   val_loss = 0.4020114147708241\n",
      "│   train_accuracy = 0.9445496632996632\n",
      "│   val_accuracy = 0.85625\n",
      "└ @ Main.Test_name.Ship_detector.Model.Binary_model /Users/kaaso/Documents/coding/JuliaEO2024/src/ship_detector/model/classifyer/train_util.jl:81\n"
     ]
    },
    {
     "name": "stderr",
     "output_type": "stream",
     "text": [
      "┌ Info: Epoch 103\n",
      "│   train_loss = 0.16704054669327484\n",
      "│   val_loss = 0.42257972571568414\n",
      "│   train_accuracy = 0.9328616021324354\n",
      "│   val_accuracy = 0.88125\n",
      "└ @ Main.Test_name.Ship_detector.Model.Binary_model /Users/kaaso/Documents/coding/JuliaEO2024/src/ship_detector/model/classifyer/train_util.jl:81\n"
     ]
    },
    {
     "name": "stderr",
     "output_type": "stream",
     "text": [
      "┌ Info: Epoch 104\n",
      "│   train_loss = 0.15849918091272264\n",
      "│   val_loss = 0.4308642939029916\n",
      "│   train_accuracy = 0.9325021043771043\n",
      "│   val_accuracy = 0.85\n",
      "└ @ Main.Test_name.Ship_detector.Model.Binary_model /Users/kaaso/Documents/coding/JuliaEO2024/src/ship_detector/model/classifyer/train_util.jl:81\n"
     ]
    },
    {
     "name": "stderr",
     "output_type": "stream",
     "text": [
      "┌ Info: Epoch 105\n",
      "│   train_loss = 0.15281241442752322\n",
      "│   val_loss = 0.2898429251903504\n",
      "│   train_accuracy = 0.9475133277216611\n",
      "│   val_accuracy = 0.8875\n",
      "└ @ Main.Test_name.Ship_detector.Model.Binary_model /Users/kaaso/Documents/coding/JuliaEO2024/src/ship_detector/model/classifyer/train_util.jl:81\n"
     ]
    },
    {
     "name": "stderr",
     "output_type": "stream",
     "text": [
      "┌ Info: Epoch 106\n",
      "│   train_loss = 0.13420456155544097\n",
      "│   val_loss = 0.33704126828030223\n",
      "│   train_accuracy = 0.9498632154882155\n",
      "│   val_accuracy = 0.86875\n",
      "└ @ Main.Test_name.Ship_detector.Model.Binary_model /Users/kaaso/Documents/coding/JuliaEO2024/src/ship_detector/model/classifyer/train_util.jl:81\n"
     ]
    },
    {
     "name": "stderr",
     "output_type": "stream",
     "text": [
      "┌ Info: Epoch 107\n",
      "│   train_loss = 0.12880828255460394\n",
      "│   val_loss = 0.30223215442886087\n",
      "│   train_accuracy = 0.9586928310886643\n",
      "│   val_accuracy = 0.8625\n",
      "└ @ Main.Test_name.Ship_detector.Model.Binary_model /Users/kaaso/Documents/coding/JuliaEO2024/src/ship_detector/model/classifyer/train_util.jl:81\n"
     ]
    },
    {
     "name": "stderr",
     "output_type": "stream",
     "text": [
      "┌ Info: Epoch 108\n",
      "│   train_loss = 0.11967239827055098\n",
      "│   val_loss = 0.29900862633715575\n",
      "│   train_accuracy = 0.9504769921436588\n",
      "│   val_accuracy = 0.8875\n",
      "└ @ Main.Test_name.Ship_detector.Model.Binary_model /Users/kaaso/Documents/coding/JuliaEO2024/src/ship_detector/model/classifyer/train_util.jl:81\n"
     ]
    },
    {
     "name": "stderr",
     "output_type": "stream",
     "text": [
      "┌ Info: Epoch 109\n",
      "│   train_loss = 0.12458873308288683\n",
      "│   val_loss = 0.3664795216086362\n",
      "│   train_accuracy = 0.9491003787878787\n",
      "│   val_accuracy = 0.8625\n",
      "└ @ Main.Test_name.Ship_detector.Model.Binary_model /Users/kaaso/Documents/coding/JuliaEO2024/src/ship_detector/model/classifyer/train_util.jl:81\n"
     ]
    },
    {
     "name": "stderr",
     "output_type": "stream",
     "text": [
      "┌ Info: Epoch 110\n",
      "│   train_loss = 0.11994802324547993\n",
      "│   val_loss = 0.2925671684021337\n",
      "│   train_accuracy = 0.9627788299663299\n",
      "│   val_accuracy = 0.89375\n",
      "└ @ Main.Test_name.Ship_detector.Model.Binary_model /Users/kaaso/Documents/coding/JuliaEO2024/src/ship_detector/model/classifyer/train_util.jl:81\n"
     ]
    },
    {
     "name": "stderr",
     "output_type": "stream",
     "text": [
      "┌ Info: Epoch 111\n",
      "│   train_loss = 0.11732764856286461\n",
      "│   val_loss = 0.3527738548788085\n",
      "│   train_accuracy = 0.9533354377104377\n",
      "│   val_accuracy = 0.88125\n",
      "└ @ Main.Test_name.Ship_detector.Model.Binary_model /Users/kaaso/Documents/coding/JuliaEO2024/src/ship_detector/model/classifyer/train_util.jl:81\n"
     ]
    },
    {
     "name": "stderr",
     "output_type": "stream",
     "text": [
      "┌ Info: Epoch 112\n",
      "│   train_loss = 0.11473258842704458\n",
      "│   val_loss = 0.3019586127201585\n",
      "│   train_accuracy = 0.9530811588103254\n",
      "│   val_accuracy = 0.88125\n",
      "└ @ Main.Test_name.Ship_detector.Model.Binary_model /Users/kaaso/Documents/coding/JuliaEO2024/src/ship_detector/model/classifyer/train_util.jl:81\n"
     ]
    },
    {
     "name": "stderr",
     "output_type": "stream",
     "text": [
      "┌ Info: Epoch 113\n",
      "│   train_loss = 0.11216360014978528\n",
      "│   val_loss = 0.31911624553913315\n",
      "│   train_accuracy = 0.9599203843995512\n",
      "│   val_accuracy = 0.875\n",
      "└ @ Main.Test_name.Ship_detector.Model.Binary_model /Users/kaaso/Documents/coding/JuliaEO2024/src/ship_detector/model/classifyer/train_util.jl:81\n"
     ]
    },
    {
     "name": "stderr",
     "output_type": "stream",
     "text": [
      "┌ Info: Epoch 114\n",
      "│   train_loss = 0.10416463744102734\n",
      "│   val_loss = 0.3320443311626348\n",
      "│   train_accuracy = 0.9636468855218854\n",
      "│   val_accuracy = 0.875\n",
      "└ @ Main.Test_name.Ship_detector.Model.Binary_model /Users/kaaso/Documents/coding/JuliaEO2024/src/ship_detector/model/classifyer/train_util.jl:81\n"
     ]
    },
    {
     "name": "stderr",
     "output_type": "stream",
     "text": [
      "┌ Info: Epoch 115\n",
      "│   train_loss = 0.10774663709792444\n",
      "│   val_loss = 0.30148115879629667\n",
      "│   train_accuracy = 0.9657424943883277\n",
      "│   val_accuracy = 0.89375\n",
      "└ @ Main.Test_name.Ship_detector.Model.Binary_model /Users/kaaso/Documents/coding/JuliaEO2024/src/ship_detector/model/classifyer/train_util.jl:81\n"
     ]
    },
    {
     "name": "stderr",
     "output_type": "stream",
     "text": [
      "┌ Info: Epoch 116\n",
      "│   train_loss = 0.09930882079871348\n",
      "│   val_loss = 0.3328776626783997\n",
      "│   train_accuracy = 0.9676276655443322\n",
      "│   val_accuracy = 0.875\n",
      "└ @ Main.Test_name.Ship_detector.Model.Binary_model /Users/kaaso/Documents/coding/JuliaEO2024/src/ship_detector/model/classifyer/train_util.jl:81\n"
     ]
    },
    {
     "name": "stderr",
     "output_type": "stream",
     "text": [
      "┌ Info: Epoch 117\n",
      "│   train_loss = 0.09966989023110745\n",
      "│   val_loss = 0.30645408260155405\n",
      "│   train_accuracy = 0.9703370510662178\n",
      "│   val_accuracy = 0.8875\n",
      "└ @ Main.Test_name.Ship_detector.Model.Binary_model /Users/kaaso/Documents/coding/JuliaEO2024/src/ship_detector/model/classifyer/train_util.jl:81\n"
     ]
    },
    {
     "name": "stderr",
     "output_type": "stream",
     "text": [
      "┌ Info: Epoch 118\n",
      "│   train_loss = 0.09388542843159103\n",
      "│   val_loss = 0.3391058121404295\n",
      "│   train_accuracy = 0.9751858866442199\n",
      "│   val_accuracy = 0.88125\n",
      "└ @ Main.Test_name.Ship_detector.Model.Binary_model /Users/kaaso/Documents/coding/JuliaEO2024/src/ship_detector/model/classifyer/train_util.jl:81\n"
     ]
    },
    {
     "name": "stderr",
     "output_type": "stream",
     "text": [
      "┌ Info: Epoch 119\n",
      "│   train_loss = 0.0964285073987705\n",
      "│   val_loss = 0.3393617249046113\n",
      "│   train_accuracy = 0.9700827721661055\n",
      "│   val_accuracy = 0.84375\n",
      "└ @ Main.Test_name.Ship_detector.Model.Binary_model /Users/kaaso/Documents/coding/JuliaEO2024/src/ship_detector/model/classifyer/train_util.jl:81\n"
     ]
    },
    {
     "name": "stderr",
     "output_type": "stream",
     "text": [
      "┌ Info: Epoch 120\n",
      "│   train_loss = 0.09375941505927775\n",
      "│   val_loss = 0.30401729009439543\n",
      "│   train_accuracy = 0.9717136644219977\n",
      "│   val_accuracy = 0.89375\n",
      "└ @ Main.Test_name.Ship_detector.Model.Binary_model /Users/kaaso/Documents/coding/JuliaEO2024/src/ship_detector/model/classifyer/train_util.jl:81\n"
     ]
    },
    {
     "name": "stderr",
     "output_type": "stream",
     "text": [
      "┌ Info: Epoch 121\n",
      "│   train_loss = 0.0872915094726931\n",
      "│   val_loss = 0.3198989502467718\n",
      "│   train_accuracy = 0.9688552188552187\n",
      "│   val_accuracy = 0.85625\n",
      "└ @ Main.Test_name.Ship_detector.Model.Binary_model /Users/kaaso/Documents/coding/JuliaEO2024/src/ship_detector/model/classifyer/train_util.jl:81\n"
     ]
    },
    {
     "name": "stderr",
     "output_type": "stream",
     "text": [
      "┌ Info: Epoch 122\n",
      "│   train_loss = 0.08921294397426753\n",
      "│   val_loss = 0.3262582057013561\n",
      "│   train_accuracy = 0.9731954966329965\n",
      "│   val_accuracy = 0.875\n",
      "└ @ Main.Test_name.Ship_detector.Model.Binary_model /Users/kaaso/Documents/coding/JuliaEO2024/src/ship_detector/model/classifyer/train_util.jl:81\n"
     ]
    },
    {
     "name": "stderr",
     "output_type": "stream",
     "text": [
      "┌ Info: Epoch 123\n",
      "│   train_loss = 0.08976601098401255\n",
      "│   val_loss = 0.3419417293610955\n",
      "│   train_accuracy = 0.9709508277216611\n",
      "│   val_accuracy = 0.86875\n",
      "└ @ Main.Test_name.Ship_detector.Model.Binary_model /Users/kaaso/Documents/coding/JuliaEO2024/src/ship_detector/model/classifyer/train_util.jl:81\n"
     ]
    },
    {
     "name": "stderr",
     "output_type": "stream",
     "text": [
      "┌ Info: Epoch 124\n",
      "│   train_loss = 0.09992215502736276\n",
      "│   val_loss = 0.3900357342369528\n",
      "│   train_accuracy = 0.9697232744107743\n",
      "│   val_accuracy = 0.875\n",
      "└ @ Main.Test_name.Ship_detector.Model.Binary_model /Users/kaaso/Documents/coding/JuliaEO2024/src/ship_detector/model/classifyer/train_util.jl:81\n"
     ]
    },
    {
     "name": "stderr",
     "output_type": "stream",
     "text": [
      "┌ Info: Epoch 125\n",
      "│   train_loss = 0.0907322597886622\n",
      "│   val_loss = 0.31771418493885917\n",
      "│   train_accuracy = 0.9777900533108865\n",
      "│   val_accuracy = 0.86875\n",
      "└ @ Main.Test_name.Ship_detector.Model.Binary_model /Users/kaaso/Documents/coding/JuliaEO2024/src/ship_detector/model/classifyer/train_util.jl:81\n"
     ]
    },
    {
     "name": "stderr",
     "output_type": "stream",
     "text": [
      "┌ Info: Epoch 126\n",
      "│   train_loss = 0.08926441638577234\n",
      "│   val_loss = 0.3377271576256047\n",
      "│   train_accuracy = 0.9697232744107743\n",
      "│   val_accuracy = 0.86875\n",
      "└ @ Main.Test_name.Ship_detector.Model.Binary_model /Users/kaaso/Documents/coding/JuliaEO2024/src/ship_detector/model/classifyer/train_util.jl:81\n"
     ]
    },
    {
     "name": "stderr",
     "output_type": "stream",
     "text": [
      "┌ Info: Epoch 127\n",
      "│   train_loss = 0.08069974597211464\n",
      "│   val_loss = 0.3188828985739156\n",
      "│   train_accuracy = 0.9743178310886643\n",
      "│   val_accuracy = 0.88125\n",
      "└ @ Main.Test_name.Ship_detector.Model.Binary_model /Users/kaaso/Documents/coding/JuliaEO2024/src/ship_detector/model/classifyer/train_util.jl:81\n"
     ]
    },
    {
     "name": "stderr",
     "output_type": "stream",
     "text": [
      "┌ Info: Epoch 128\n",
      "│   train_loss = 0.09011129971918984\n",
      "│   val_loss = 0.323497283810847\n",
      "│   train_accuracy = 0.9671191077441077\n",
      "│   val_accuracy = 0.86875\n",
      "└ @ Main.Test_name.Ship_detector.Model.Binary_model /Users/kaaso/Documents/coding/JuliaEO2024/src/ship_detector/model/classifyer/train_util.jl:81\n"
     ]
    },
    {
     "name": "stderr",
     "output_type": "stream",
     "text": [
      "┌ Info: Epoch 129\n",
      "│   train_loss = 0.09974489691056648\n",
      "│   val_loss = 0.42902648720078806\n",
      "│   train_accuracy = 0.9686009399551067\n",
      "│   val_accuracy = 0.8625\n",
      "└ @ Main.Test_name.Ship_detector.Model.Binary_model /Users/kaaso/Documents/coding/JuliaEO2024/src/ship_detector/model/classifyer/train_util.jl:81\n"
     ]
    },
    {
     "name": "stderr",
     "output_type": "stream",
     "text": [
      "┌ Info: Epoch 130\n",
      "│   train_loss = 0.08632046424281202\n",
      "│   val_loss = 0.3090331742164754\n",
      "│   train_accuracy = 0.9737040544332211\n",
      "│   val_accuracy = 0.88125\n",
      "└ @ Main.Test_name.Ship_detector.Model.Binary_model /Users/kaaso/Documents/coding/JuliaEO2024/src/ship_detector/model/classifyer/train_util.jl:81\n"
     ]
    },
    {
     "name": "stderr",
     "output_type": "stream",
     "text": [
      "┌ Info: Epoch 131\n",
      "│   train_loss = 0.07508998995171863\n",
      "│   val_loss = 0.3931238822962151\n",
      "│   train_accuracy = 0.9772814955106622\n",
      "│   val_accuracy = 0.875\n",
      "└ @ Main.Test_name.Ship_detector.Model.Binary_model /Users/kaaso/Documents/coding/JuliaEO2024/src/ship_detector/model/classifyer/train_util.jl:81\n"
     ]
    },
    {
     "name": "stderr",
     "output_type": "stream",
     "text": [
      "┌ Info: Epoch 132\n",
      "│   train_loss = 0.0725272656315072\n",
      "│   val_loss = 0.33351690275338364\n",
      "│   train_accuracy = 0.9803942199775533\n",
      "│   val_accuracy = 0.875\n",
      "└ @ Main.Test_name.Ship_detector.Model.Binary_model /Users/kaaso/Documents/coding/JuliaEO2024/src/ship_detector/model/classifyer/train_util.jl:81\n"
     ]
    },
    {
     "name": "stderr",
     "output_type": "stream",
     "text": [
      "┌ Info: Epoch 133\n",
      "│   train_loss = 0.07080888011672536\n",
      "│   val_loss = 0.36381658395238653\n",
      "│   train_accuracy = 0.9817708333333334\n",
      "│   val_accuracy = 0.86875\n",
      "└ @ Main.Test_name.Ship_detector.Model.Binary_model /Users/kaaso/Documents/coding/JuliaEO2024/src/ship_detector/model/classifyer/train_util.jl:81\n"
     ]
    },
    {
     "name": "stderr",
     "output_type": "stream",
     "text": [
      "┌ Info: Epoch 134\n",
      "│   train_loss = 0.06463030108814266\n",
      "│   val_loss = 0.3660856256385533\n",
      "│   train_accuracy = 0.9862163299663299\n",
      "│   val_accuracy = 0.85\n",
      "└ @ Main.Test_name.Ship_detector.Model.Binary_model /Users/kaaso/Documents/coding/JuliaEO2024/src/ship_detector/model/classifyer/train_util.jl:81\n"
     ]
    },
    {
     "name": "stderr",
     "output_type": "stream",
     "text": [
      "┌ Info: Epoch 135\n",
      "│   train_loss = 0.07013449143744407\n",
      "│   val_loss = 0.379951592810115\n",
      "│   train_accuracy = 0.97978044332211\n",
      "│   val_accuracy = 0.86875\n",
      "└ @ Main.Test_name.Ship_detector.Model.Binary_model /Users/kaaso/Documents/coding/JuliaEO2024/src/ship_detector/model/classifyer/train_util.jl:81\n"
     ]
    },
    {
     "name": "stderr",
     "output_type": "stream",
     "text": [
      "┌ Info: Epoch 136\n",
      "│   train_loss = 0.07514801532457431\n",
      "│   val_loss = 0.37287606113342203\n",
      "│   train_accuracy = 0.9775357744107743\n",
      "│   val_accuracy = 0.875\n",
      "└ @ Main.Test_name.Ship_detector.Model.Binary_model /Users/kaaso/Documents/coding/JuliaEO2024/src/ship_detector/model/classifyer/train_util.jl:81\n"
     ]
    },
    {
     "name": "stderr",
     "output_type": "stream",
     "text": [
      "┌ Info: Epoch 137\n",
      "│   train_loss = 0.07695661370122699\n",
      "│   val_loss = 0.3706360826878426\n",
      "│   train_accuracy = 0.9806484988776655\n",
      "│   val_accuracy = 0.86875\n",
      "└ @ Main.Test_name.Ship_detector.Model.Binary_model /Users/kaaso/Documents/coding/JuliaEO2024/src/ship_detector/model/classifyer/train_util.jl:81\n"
     ]
    },
    {
     "name": "stderr",
     "output_type": "stream",
     "text": [
      "┌ Info: Epoch 138\n",
      "│   train_loss = 0.06262121483390784\n",
      "│   val_loss = 0.3252683553363411\n",
      "│   train_accuracy = 0.9867248877665544\n",
      "│   val_accuracy = 0.8625\n",
      "└ @ Main.Test_name.Ship_detector.Model.Binary_model /Users/kaaso/Documents/coding/JuliaEO2024/src/ship_detector/model/classifyer/train_util.jl:81\n"
     ]
    },
    {
     "name": "stderr",
     "output_type": "stream",
     "text": [
      "┌ Info: Epoch 139\n",
      "│   train_loss = 0.06329005830065676\n",
      "│   val_loss = 0.3813317415333314\n",
      "│   train_accuracy = 0.9836121632996632\n",
      "│   val_accuracy = 0.8625\n",
      "└ @ Main.Test_name.Ship_detector.Model.Binary_model /Users/kaaso/Documents/coding/JuliaEO2024/src/ship_detector/model/classifyer/train_util.jl:81\n"
     ]
    },
    {
     "name": "stderr",
     "output_type": "stream",
     "text": [
      "┌ Info: Epoch 140\n",
      "│   train_loss = 0.06427855622686736\n",
      "│   val_loss = 0.401562034070024\n",
      "│   train_accuracy = 0.9835069444444444\n",
      "│   val_accuracy = 0.8625\n",
      "└ @ Main.Test_name.Ship_detector.Model.Binary_model /Users/kaaso/Documents/coding/JuliaEO2024/src/ship_detector/model/classifyer/train_util.jl:81\n"
     ]
    },
    {
     "name": "stderr",
     "output_type": "stream",
     "text": [
      "┌ Info: Epoch 141\n",
      "│   train_loss = 0.0601114037059361\n",
      "│   val_loss = 0.37814494064946536\n",
      "│   train_accuracy = 0.9867248877665544\n",
      "│   val_accuracy = 0.88125\n",
      "└ @ Main.Test_name.Ship_detector.Model.Binary_model /Users/kaaso/Documents/coding/JuliaEO2024/src/ship_detector/model/classifyer/train_util.jl:81\n"
     ]
    },
    {
     "name": "stderr",
     "output_type": "stream",
     "text": [
      "┌ Info: Epoch 142\n",
      "│   train_loss = 0.06782749900390156\n",
      "│   val_loss = 0.37674612158804527\n",
      "│   train_accuracy = 0.9838664421997755\n",
      "│   val_accuracy = 0.86875\n",
      "└ @ Main.Test_name.Ship_detector.Model.Binary_model /Users/kaaso/Documents/coding/JuliaEO2024/src/ship_detector/model/classifyer/train_util.jl:81\n"
     ]
    },
    {
     "name": "stderr",
     "output_type": "stream",
     "text": [
      "┌ Info: Epoch 143\n",
      "│   train_loss = 0.06288404749563367\n",
      "│   val_loss = 0.38381917312213265\n",
      "│   train_accuracy = 0.9832526655443322\n",
      "│   val_accuracy = 0.85\n",
      "└ @ Main.Test_name.Ship_detector.Model.Binary_model /Users/kaaso/Documents/coding/JuliaEO2024/src/ship_detector/model/classifyer/train_util.jl:81\n"
     ]
    },
    {
     "name": "stderr",
     "output_type": "stream",
     "text": [
      "┌ Info: Epoch 144\n",
      "│   train_loss = 0.06385861821273102\n",
      "│   val_loss = 0.3646458474660085\n",
      "│   train_accuracy = 0.9809027777777778\n",
      "│   val_accuracy = 0.88125\n",
      "└ @ Main.Test_name.Ship_detector.Model.Binary_model /Users/kaaso/Documents/coding/JuliaEO2024/src/ship_detector/model/classifyer/train_util.jl:81\n"
     ]
    },
    {
     "name": "stderr",
     "output_type": "stream",
     "text": [
      "┌ Info: Epoch 145\n",
      "│   train_loss = 0.06323509009005046\n",
      "│   val_loss = 0.3812809205643304\n",
      "│   train_accuracy = 0.9853482744107743\n",
      "│   val_accuracy = 0.86875\n",
      "└ @ Main.Test_name.Ship_detector.Model.Binary_model /Users/kaaso/Documents/coding/JuliaEO2024/src/ship_detector/model/classifyer/train_util.jl:81\n"
     ]
    },
    {
     "name": "stderr",
     "output_type": "stream",
     "text": [
      "┌ Info: Epoch 146\n",
      "│   train_loss = 0.06072007653849059\n",
      "│   val_loss = 0.3601246950784299\n",
      "│   train_accuracy = 0.9832526655443322\n",
      "│   val_accuracy = 0.86875\n",
      "└ @ Main.Test_name.Ship_detector.Model.Binary_model /Users/kaaso/Documents/coding/JuliaEO2024/src/ship_detector/model/classifyer/train_util.jl:81\n"
     ]
    },
    {
     "name": "stderr",
     "output_type": "stream",
     "text": [
      "┌ Info: Epoch 147\n",
      "│   train_loss = 0.04825220033812141\n",
      "│   val_loss = 0.35475753497024715\n",
      "│   train_accuracy = 0.9910651655443322\n",
      "│   val_accuracy = 0.88125\n",
      "└ @ Main.Test_name.Ship_detector.Model.Binary_model /Users/kaaso/Documents/coding/JuliaEO2024/src/ship_detector/model/classifyer/train_util.jl:81\n"
     ]
    },
    {
     "name": "stderr",
     "output_type": "stream",
     "text": [
      "┌ Info: Epoch 148\n",
      "│   train_loss = 0.056239988326585326\n",
      "│   val_loss = 0.35010205485275775\n",
      "│   train_accuracy = 0.9847344977553311\n",
      "│   val_accuracy = 0.8875\n",
      "└ @ Main.Test_name.Ship_detector.Model.Binary_model /Users/kaaso/Documents/coding/JuliaEO2024/src/ship_detector/model/classifyer/train_util.jl:81\n"
     ]
    },
    {
     "name": "stderr",
     "output_type": "stream",
     "text": [
      "┌ Info: Epoch 149\n",
      "│   train_loss = 0.06159046649800751\n",
      "│   val_loss = 0.41509787621267524\n",
      "│   train_accuracy = 0.9841207210998877\n",
      "│   val_accuracy = 0.8625\n",
      "└ @ Main.Test_name.Ship_detector.Model.Binary_model /Users/kaaso/Documents/coding/JuliaEO2024/src/ship_detector/model/classifyer/train_util.jl:81\n"
     ]
    },
    {
     "name": "stderr",
     "output_type": "stream",
     "text": [
      "┌ Info: Epoch 150\n",
      "│   train_loss = 0.05881516181702758\n",
      "│   val_loss = 0.32805094942611346\n",
      "│   train_accuracy = 0.9829983866442199\n",
      "│   val_accuracy = 0.875\n",
      "└ @ Main.Test_name.Ship_detector.Model.Binary_model /Users/kaaso/Documents/coding/JuliaEO2024/src/ship_detector/model/classifyer/train_util.jl:81\n"
     ]
    },
    {
     "name": "stderr",
     "output_type": "stream",
     "text": [
      "┌ Info: Epoch 151\n",
      "│   train_loss = 0.04645332202021295\n",
      "│   val_loss = 0.3517258507404549\n",
      "│   train_accuracy = 0.9893290544332211\n",
      "│   val_accuracy = 0.875\n",
      "└ @ Main.Test_name.Ship_detector.Model.Binary_model /Users/kaaso/Documents/coding/JuliaEO2024/src/ship_detector/model/classifyer/train_util.jl:81\n"
     ]
    },
    {
     "name": "stderr",
     "output_type": "stream",
     "text": [
      "┌ Info: Epoch 152\n",
      "│   train_loss = 0.049058497012946095\n",
      "│   val_loss = 0.41456940723862334\n",
      "│   train_accuracy = 0.9895833333333334\n",
      "│   val_accuracy = 0.85625\n",
      "└ @ Main.Test_name.Ship_detector.Model.Binary_model /Users/kaaso/Documents/coding/JuliaEO2024/src/ship_detector/model/classifyer/train_util.jl:81\n"
     ]
    },
    {
     "name": "stderr",
     "output_type": "stream",
     "text": [
      "┌ Info: Epoch 153\n",
      "│   train_loss = 0.06384899282140169\n",
      "│   val_loss = 0.36424730614906653\n",
      "│   train_accuracy = 0.9835069444444444\n",
      "│   val_accuracy = 0.88125\n",
      "└ @ Main.Test_name.Ship_detector.Model.Binary_model /Users/kaaso/Documents/coding/JuliaEO2024/src/ship_detector/model/classifyer/train_util.jl:81\n"
     ]
    },
    {
     "name": "stderr",
     "output_type": "stream",
     "text": [
      "┌ Info: Epoch 154\n",
      "│   train_loss = 0.056247810845979185\n",
      "│   val_loss = 0.30176934913218384\n",
      "│   train_accuracy = 0.9869791666666666\n",
      "│   val_accuracy = 0.89375\n",
      "└ @ Main.Test_name.Ship_detector.Model.Binary_model /Users/kaaso/Documents/coding/JuliaEO2024/src/ship_detector/model/classifyer/train_util.jl:81\n"
     ]
    },
    {
     "name": "stderr",
     "output_type": "stream",
     "text": [
      "┌ Info: Epoch 155\n",
      "│   train_loss = 0.0424251799377055\n",
      "│   val_loss = 0.3791778796981604\n",
      "│   train_accuracy = 0.9947916666666666\n",
      "│   val_accuracy = 0.8625\n",
      "└ @ Main.Test_name.Ship_detector.Model.Binary_model /Users/kaaso/Documents/coding/JuliaEO2024/src/ship_detector/model/classifyer/train_util.jl:81\n"
     ]
    },
    {
     "name": "stderr",
     "output_type": "stream",
     "text": [
      "┌ Info: Epoch 156\n",
      "│   train_loss = 0.049778168894082105\n",
      "│   val_loss = 0.3795559665759377\n",
      "│   train_accuracy = 0.9847344977553311\n",
      "│   val_accuracy = 0.88125\n",
      "└ @ Main.Test_name.Ship_detector.Model.Binary_model /Users/kaaso/Documents/coding/JuliaEO2024/src/ship_detector/model/classifyer/train_util.jl:81\n"
     ]
    },
    {
     "name": "stderr",
     "output_type": "stream",
     "text": [
      "┌ Info: Epoch 157\n",
      "│   train_loss = 0.053042794353557396\n",
      "│   val_loss = 0.3537325513033812\n",
      "│   train_accuracy = 0.9867248877665544\n",
      "│   val_accuracy = 0.85625\n",
      "└ @ Main.Test_name.Ship_detector.Model.Binary_model /Users/kaaso/Documents/coding/JuliaEO2024/src/ship_detector/model/classifyer/train_util.jl:81\n"
     ]
    },
    {
     "name": "stderr",
     "output_type": "stream",
     "text": [
      "┌ Info: Epoch 158\n",
      "│   train_loss = 0.043451193425253755\n",
      "│   val_loss = 0.37172406374159855\n",
      "│   train_accuracy = 0.9930555555555556\n",
      "│   val_accuracy = 0.875\n",
      "└ @ Main.Test_name.Ship_detector.Model.Binary_model /Users/kaaso/Documents/coding/JuliaEO2024/src/ship_detector/model/classifyer/train_util.jl:81\n"
     ]
    },
    {
     "name": "stderr",
     "output_type": "stream",
     "text": [
      "┌ Info: Epoch 159\n",
      "│   train_loss = 0.0460570185044398\n",
      "│   val_loss = 0.3938017477787052\n",
      "│   train_accuracy = 0.9908108866442199\n",
      "│   val_accuracy = 0.85\n",
      "└ @ Main.Test_name.Ship_detector.Model.Binary_model /Users/kaaso/Documents/coding/JuliaEO2024/src/ship_detector/model/classifyer/train_util.jl:81\n"
     ]
    },
    {
     "name": "stderr",
     "output_type": "stream",
     "text": [
      "┌ Info: Epoch 160\n",
      "│   train_loss = 0.04772149847652712\n",
      "│   val_loss = 0.36393932544198704\n",
      "│   train_accuracy = 0.9913194444444444\n",
      "│   val_accuracy = 0.8875\n",
      "└ @ Main.Test_name.Ship_detector.Model.Binary_model /Users/kaaso/Documents/coding/JuliaEO2024/src/ship_detector/model/classifyer/train_util.jl:81\n"
     ]
    },
    {
     "name": "stderr",
     "output_type": "stream",
     "text": [
      "┌ Info: Epoch 161\n",
      "│   train_loss = 0.03727781258352201\n",
      "│   val_loss = 0.38217929438610626\n",
      "│   train_accuracy = 0.9962734988776655\n",
      "│   val_accuracy = 0.86875\n",
      "└ @ Main.Test_name.Ship_detector.Model.Binary_model /Users/kaaso/Documents/coding/JuliaEO2024/src/ship_detector/model/classifyer/train_util.jl:81\n"
     ]
    },
    {
     "name": "stderr",
     "output_type": "stream",
     "text": [
      "┌ Info: Epoch 162\n",
      "│   train_loss = 0.03788074691250451\n",
      "│   val_loss = 0.39450742427230134\n",
      "│   train_accuracy = 0.9947916666666666\n",
      "│   val_accuracy = 0.85625\n",
      "└ @ Main.Test_name.Ship_detector.Model.Binary_model /Users/kaaso/Documents/coding/JuliaEO2024/src/ship_detector/model/classifyer/train_util.jl:81\n"
     ]
    },
    {
     "name": "stderr",
     "output_type": "stream",
     "text": [
      "┌ Info: Epoch 163\n",
      "│   train_loss = 0.03558939678967424\n",
      "│   val_loss = 0.3690534543278515\n",
      "│   train_accuracy = 0.9956597222222222\n",
      "│   val_accuracy = 0.88125\n",
      "└ @ Main.Test_name.Ship_detector.Model.Binary_model /Users/kaaso/Documents/coding/JuliaEO2024/src/ship_detector/model/classifyer/train_util.jl:81\n"
     ]
    },
    {
     "name": "stderr",
     "output_type": "stream",
     "text": [
      "┌ Info: Epoch 164\n",
      "│   train_loss = 0.03334374657268327\n",
      "│   val_loss = 0.42398940561749665\n",
      "│   train_accuracy = 0.99540544332211\n",
      "│   val_accuracy = 0.85625\n",
      "└ @ Main.Test_name.Ship_detector.Model.Binary_model /Users/kaaso/Documents/coding/JuliaEO2024/src/ship_detector/model/classifyer/train_util.jl:81\n"
     ]
    },
    {
     "name": "stderr",
     "output_type": "stream",
     "text": [
      "┌ Info: Epoch 165\n",
      "│   train_loss = 0.03657997642145196\n",
      "│   val_loss = 0.3912545992583539\n",
      "│   train_accuracy = 0.9936693322109988\n",
      "│   val_accuracy = 0.8375\n",
      "└ @ Main.Test_name.Ship_detector.Model.Binary_model /Users/kaaso/Documents/coding/JuliaEO2024/src/ship_detector/model/classifyer/train_util.jl:81\n"
     ]
    },
    {
     "name": "stderr",
     "output_type": "stream",
     "text": [
      "┌ Info: Epoch 166\n",
      "│   train_loss = 0.03519141059031081\n",
      "│   val_loss = 0.386810688115954\n",
      "│   train_accuracy = 0.9939236111111112\n",
      "│   val_accuracy = 0.85625\n",
      "└ @ Main.Test_name.Ship_detector.Model.Binary_model /Users/kaaso/Documents/coding/JuliaEO2024/src/ship_detector/model/classifyer/train_util.jl:81\n"
     ]
    },
    {
     "name": "stderr",
     "output_type": "stream",
     "text": [
      "┌ Info: Epoch 167\n",
      "│   train_loss = 0.040273910554483906\n",
      "│   val_loss = 0.40778542645725696\n",
      "│   train_accuracy = 0.9916789421997755\n",
      "│   val_accuracy = 0.85625\n",
      "└ @ Main.Test_name.Ship_detector.Model.Binary_model /Users/kaaso/Documents/coding/JuliaEO2024/src/ship_detector/model/classifyer/train_util.jl:81\n"
     ]
    },
    {
     "name": "stderr",
     "output_type": "stream",
     "text": [
      "┌ Info: Epoch 168\n",
      "│   train_loss = 0.05129782017217045\n",
      "│   val_loss = 0.5019614600129516\n",
      "│   train_accuracy = 0.9838664421997755\n",
      "│   val_accuracy = 0.83125\n",
      "└ @ Main.Test_name.Ship_detector.Model.Binary_model /Users/kaaso/Documents/coding/JuliaEO2024/src/ship_detector/model/classifyer/train_util.jl:81\n"
     ]
    },
    {
     "name": "stderr",
     "output_type": "stream",
     "text": [
      "┌ Info: Epoch 169\n",
      "│   train_loss = 0.07761412409250049\n",
      "│   val_loss = 0.3746241122490341\n",
      "│   train_accuracy = 0.9700827721661055\n",
      "│   val_accuracy = 0.85\n",
      "└ @ Main.Test_name.Ship_detector.Model.Binary_model /Users/kaaso/Documents/coding/JuliaEO2024/src/ship_detector/model/classifyer/train_util.jl:81\n"
     ]
    },
    {
     "name": "stderr",
     "output_type": "stream",
     "text": [
      "┌ Info: Epoch 170\n",
      "│   train_loss = 0.06662540690716444\n",
      "│   val_loss = 0.3518666341356773\n",
      "│   train_accuracy = 0.9789123877665544\n",
      "│   val_accuracy = 0.89375\n",
      "└ @ Main.Test_name.Ship_detector.Model.Binary_model /Users/kaaso/Documents/coding/JuliaEO2024/src/ship_detector/model/classifyer/train_util.jl:81\n"
     ]
    },
    {
     "name": "stderr",
     "output_type": "stream",
     "text": [
      "┌ Info: Epoch 171\n",
      "│   train_loss = 0.05503658302570947\n",
      "│   val_loss = 0.3479547855859994\n",
      "│   train_accuracy = 0.9899428310886643\n",
      "│   val_accuracy = 0.86875\n",
      "└ @ Main.Test_name.Ship_detector.Model.Binary_model /Users/kaaso/Documents/coding/JuliaEO2024/src/ship_detector/model/classifyer/train_util.jl:81\n"
     ]
    },
    {
     "name": "stderr",
     "output_type": "stream",
     "text": [
      "┌ Info: Epoch 172\n",
      "│   train_loss = 0.053840873420895025\n",
      "│   val_loss = 0.4035266740414537\n",
      "│   train_accuracy = 0.9862163299663299\n",
      "│   val_accuracy = 0.85625\n",
      "└ @ Main.Test_name.Ship_detector.Model.Binary_model /Users/kaaso/Documents/coding/JuliaEO2024/src/ship_detector/model/classifyer/train_util.jl:81\n"
     ]
    },
    {
     "name": "stderr",
     "output_type": "stream",
     "text": [
      "┌ Info: Epoch 173\n",
      "│   train_loss = 0.05246185512369378\n",
      "│   val_loss = 0.37840145687274773\n",
      "│   train_accuracy = 0.9873386644219977\n",
      "│   val_accuracy = 0.875\n",
      "└ @ Main.Test_name.Ship_detector.Model.Binary_model /Users/kaaso/Documents/coding/JuliaEO2024/src/ship_detector/model/classifyer/train_util.jl:81\n"
     ]
    },
    {
     "name": "stderr",
     "output_type": "stream",
     "text": [
      "┌ Info: Epoch 174\n",
      "│   train_loss = 0.040662820619987945\n",
      "│   val_loss = 0.32552203593998597\n",
      "│   train_accuracy = 0.9947916666666666\n",
      "│   val_accuracy = 0.88125\n",
      "└ @ Main.Test_name.Ship_detector.Model.Binary_model /Users/kaaso/Documents/coding/JuliaEO2024/src/ship_detector/model/classifyer/train_util.jl:81\n"
     ]
    },
    {
     "name": "stderr",
     "output_type": "stream",
     "text": [
      "┌ Info: Epoch 175\n",
      "│   train_loss = 0.032987333892727844\n",
      "│   val_loss = 0.38494445710717395\n",
      "│   train_accuracy = 0.9956597222222222\n",
      "│   val_accuracy = 0.86875\n",
      "└ @ Main.Test_name.Ship_detector.Model.Binary_model /Users/kaaso/Documents/coding/JuliaEO2024/src/ship_detector/model/classifyer/train_util.jl:81\n"
     ]
    },
    {
     "name": "stderr",
     "output_type": "stream",
     "text": [
      "┌ Info: Epoch 176\n",
      "│   train_loss = 0.02740801049099273\n",
      "│   val_loss = 0.3624710352437458\n",
      "│   train_accuracy = 0.9965277777777778\n",
      "│   val_accuracy = 0.875\n",
      "└ @ Main.Test_name.Ship_detector.Model.Binary_model /Users/kaaso/Documents/coding/JuliaEO2024/src/ship_detector/model/classifyer/train_util.jl:81\n"
     ]
    },
    {
     "name": "stderr",
     "output_type": "stream",
     "text": [
      "┌ Info: Epoch 177\n",
      "│   train_loss = 0.025303849768729916\n",
      "│   val_loss = 0.3893448773165696\n",
      "│   train_accuracy = 0.9973958333333334\n",
      "│   val_accuracy = 0.86875\n",
      "└ @ Main.Test_name.Ship_detector.Model.Binary_model /Users/kaaso/Documents/coding/JuliaEO2024/src/ship_detector/model/classifyer/train_util.jl:81\n"
     ]
    },
    {
     "name": "stderr",
     "output_type": "stream",
     "text": [
      "┌ Info: Epoch 178\n",
      "│   train_loss = 0.026725156410657005\n",
      "│   val_loss = 0.40736536481747876\n",
      "│   train_accuracy = 0.9973958333333334\n",
      "│   val_accuracy = 0.8625\n",
      "└ @ Main.Test_name.Ship_detector.Model.Binary_model /Users/kaaso/Documents/coding/JuliaEO2024/src/ship_detector/model/classifyer/train_util.jl:81\n"
     ]
    },
    {
     "name": "stderr",
     "output_type": "stream",
     "text": [
      "┌ Info: Epoch 179\n",
      "│   train_loss = 0.028659692829422448\n",
      "│   val_loss = 0.410223223812041\n",
      "│   train_accuracy = 0.9947916666666666\n",
      "│   val_accuracy = 0.85\n",
      "└ @ Main.Test_name.Ship_detector.Model.Binary_model /Users/kaaso/Documents/coding/JuliaEO2024/src/ship_detector/model/classifyer/train_util.jl:81\n"
     ]
    },
    {
     "name": "stderr",
     "output_type": "stream",
     "text": [
      "┌ Info: Epoch 180\n",
      "│   train_loss = 0.025647266785270417\n",
      "│   val_loss = 0.3835476793406052\n",
      "│   train_accuracy = 0.9973958333333334\n",
      "│   val_accuracy = 0.86875\n",
      "└ @ Main.Test_name.Ship_detector.Model.Binary_model /Users/kaaso/Documents/coding/JuliaEO2024/src/ship_detector/model/classifyer/train_util.jl:81\n"
     ]
    },
    {
     "name": "stderr",
     "output_type": "stream",
     "text": [
      "┌ Info: Epoch 181\n",
      "│   train_loss = 0.029451247239379173\n",
      "│   val_loss = 0.43474807175090485\n",
      "│   train_accuracy = 0.9939236111111112\n",
      "│   val_accuracy = 0.8625\n",
      "└ @ Main.Test_name.Ship_detector.Model.Binary_model /Users/kaaso/Documents/coding/JuliaEO2024/src/ship_detector/model/classifyer/train_util.jl:81\n"
     ]
    },
    {
     "name": "stderr",
     "output_type": "stream",
     "text": [
      "┌ Info: Epoch 182\n",
      "│   train_loss = 0.02890831527626432\n",
      "│   val_loss = 0.4194603757205293\n",
      "│   train_accuracy = 0.9956597222222222\n",
      "│   val_accuracy = 0.88125\n",
      "└ @ Main.Test_name.Ship_detector.Model.Binary_model /Users/kaaso/Documents/coding/JuliaEO2024/src/ship_detector/model/classifyer/train_util.jl:81\n"
     ]
    },
    {
     "name": "stderr",
     "output_type": "stream",
     "text": [
      "┌ Info: Epoch 183\n",
      "│   train_loss = 0.024249348031039373\n",
      "│   val_loss = 0.3792532755484509\n",
      "│   train_accuracy = 0.9991319444444444\n",
      "│   val_accuracy = 0.86875\n",
      "└ @ Main.Test_name.Ship_detector.Model.Binary_model /Users/kaaso/Documents/coding/JuliaEO2024/src/ship_detector/model/classifyer/train_util.jl:81\n"
     ]
    },
    {
     "name": "stderr",
     "output_type": "stream",
     "text": [
      "┌ Info: Epoch 184\n",
      "│   train_loss = 0.028442064802019256\n",
      "│   val_loss = 0.3592042725189504\n",
      "│   train_accuracy = 0.9991319444444444\n",
      "│   val_accuracy = 0.86875\n",
      "└ @ Main.Test_name.Ship_detector.Model.Binary_model /Users/kaaso/Documents/coding/JuliaEO2024/src/ship_detector/model/classifyer/train_util.jl:81\n"
     ]
    },
    {
     "name": "stderr",
     "output_type": "stream",
     "text": [
      "┌ Info: Epoch 185\n",
      "│   train_loss = 0.02471047952252489\n",
      "│   val_loss = 0.33800247621953244\n",
      "│   train_accuracy = 0.9980096099887766\n",
      "│   val_accuracy = 0.89375\n",
      "└ @ Main.Test_name.Ship_detector.Model.Binary_model /Users/kaaso/Documents/coding/JuliaEO2024/src/ship_detector/model/classifyer/train_util.jl:81\n"
     ]
    },
    {
     "name": "stderr",
     "output_type": "stream",
     "text": [
      "┌ Info: Epoch 186\n",
      "│   train_loss = 0.022171113539608465\n",
      "│   val_loss = 0.37718971092321785\n",
      "│   train_accuracy = 0.9991319444444444\n",
      "│   val_accuracy = 0.875\n",
      "└ @ Main.Test_name.Ship_detector.Model.Binary_model /Users/kaaso/Documents/coding/JuliaEO2024/src/ship_detector/model/classifyer/train_util.jl:81\n"
     ]
    },
    {
     "name": "stderr",
     "output_type": "stream",
     "text": [
      "┌ Info: Epoch 187\n",
      "│   train_loss = 0.01923845336694304\n",
      "│   val_loss = 0.39717057673376355\n",
      "│   train_accuracy = 0.9980096099887766\n",
      "│   val_accuracy = 0.8625\n",
      "└ @ Main.Test_name.Ship_detector.Model.Binary_model /Users/kaaso/Documents/coding/JuliaEO2024/src/ship_detector/model/classifyer/train_util.jl:81\n"
     ]
    },
    {
     "name": "stderr",
     "output_type": "stream",
     "text": [
      "┌ Info: Epoch 188\n",
      "│   train_loss = 0.020067570939460752\n",
      "│   val_loss = 0.3717865960938136\n",
      "│   train_accuracy = 0.9982638888888888\n",
      "│   val_accuracy = 0.86875\n",
      "└ @ Main.Test_name.Ship_detector.Model.Binary_model /Users/kaaso/Documents/coding/JuliaEO2024/src/ship_detector/model/classifyer/train_util.jl:81\n"
     ]
    },
    {
     "name": "stderr",
     "output_type": "stream",
     "text": [
      "┌ Info: Epoch 189\n",
      "│   train_loss = 0.019134303152849225\n",
      "│   val_loss = 0.38958260441699943\n",
      "│   train_accuracy = 0.9982638888888888\n",
      "│   val_accuracy = 0.8875\n",
      "└ @ Main.Test_name.Ship_detector.Model.Binary_model /Users/kaaso/Documents/coding/JuliaEO2024/src/ship_detector/model/classifyer/train_util.jl:81\n"
     ]
    },
    {
     "name": "stderr",
     "output_type": "stream",
     "text": [
      "┌ Info: Epoch 190\n",
      "│   train_loss = 0.01643045561527734\n",
      "│   val_loss = 0.41559228980830937\n",
      "│   train_accuracy = 0.9973958333333334\n",
      "│   val_accuracy = 0.8625\n",
      "└ @ Main.Test_name.Ship_detector.Model.Binary_model /Users/kaaso/Documents/coding/JuliaEO2024/src/ship_detector/model/classifyer/train_util.jl:81\n"
     ]
    },
    {
     "name": "stderr",
     "output_type": "stream",
     "text": [
      "┌ Info: Epoch 191\n",
      "│   train_loss = 0.019777503080536996\n",
      "│   val_loss = 0.4060082340652319\n",
      "│   train_accuracy = 0.9982638888888888\n",
      "│   val_accuracy = 0.88125\n",
      "└ @ Main.Test_name.Ship_detector.Model.Binary_model /Users/kaaso/Documents/coding/JuliaEO2024/src/ship_detector/model/classifyer/train_util.jl:81\n"
     ]
    },
    {
     "name": "stderr",
     "output_type": "stream",
     "text": [
      "┌ Info: Epoch 192\n",
      "│   train_loss = 0.017408896632685435\n",
      "│   val_loss = 0.39028987482033367\n",
      "│   train_accuracy = 0.9982638888888888\n",
      "│   val_accuracy = 0.875\n",
      "└ @ Main.Test_name.Ship_detector.Model.Binary_model /Users/kaaso/Documents/coding/JuliaEO2024/src/ship_detector/model/classifyer/train_util.jl:81\n"
     ]
    },
    {
     "name": "stderr",
     "output_type": "stream",
     "text": [
      "┌ Info: Epoch 193\n",
      "│   train_loss = 0.016705461826652862\n",
      "│   val_loss = 0.3776404529221549\n",
      "│   train_accuracy = 0.9982638888888888\n",
      "│   val_accuracy = 0.875\n",
      "└ @ Main.Test_name.Ship_detector.Model.Binary_model /Users/kaaso/Documents/coding/JuliaEO2024/src/ship_detector/model/classifyer/train_util.jl:81\n"
     ]
    },
    {
     "name": "stderr",
     "output_type": "stream",
     "text": [
      "┌ Info: Epoch 194\n",
      "│   train_loss = 0.01730270570108967\n",
      "│   val_loss = 0.38461176846697653\n",
      "│   train_accuracy = 0.9982638888888888\n",
      "│   val_accuracy = 0.8625\n",
      "└ @ Main.Test_name.Ship_detector.Model.Binary_model /Users/kaaso/Documents/coding/JuliaEO2024/src/ship_detector/model/classifyer/train_util.jl:81\n"
     ]
    },
    {
     "name": "stderr",
     "output_type": "stream",
     "text": [
      "┌ Info: Epoch 195\n",
      "│   train_loss = 0.020426700024160385\n",
      "│   val_loss = 0.38616822912240756\n",
      "│   train_accuracy = 0.9982638888888888\n",
      "│   val_accuracy = 0.86875\n",
      "└ @ Main.Test_name.Ship_detector.Model.Binary_model /Users/kaaso/Documents/coding/JuliaEO2024/src/ship_detector/model/classifyer/train_util.jl:81\n"
     ]
    },
    {
     "name": "stderr",
     "output_type": "stream",
     "text": [
      "┌ Info: Epoch 196\n",
      "│   train_loss = 0.022010520958538907\n",
      "│   val_loss = 0.3867149710252117\n",
      "│   train_accuracy = 0.9973958333333334\n",
      "│   val_accuracy = 0.875\n",
      "└ @ Main.Test_name.Ship_detector.Model.Binary_model /Users/kaaso/Documents/coding/JuliaEO2024/src/ship_detector/model/classifyer/train_util.jl:81\n"
     ]
    },
    {
     "name": "stderr",
     "output_type": "stream",
     "text": [
      "┌ Info: Epoch 197\n",
      "│   train_loss = 0.019065858781685027\n",
      "│   val_loss = 0.4157131470167233\n",
      "│   train_accuracy = 0.9991319444444444\n",
      "│   val_accuracy = 0.88125\n",
      "└ @ Main.Test_name.Ship_detector.Model.Binary_model /Users/kaaso/Documents/coding/JuliaEO2024/src/ship_detector/model/classifyer/train_util.jl:81\n"
     ]
    },
    {
     "name": "stderr",
     "output_type": "stream",
     "text": [
      "┌ Info: Epoch 198\n",
      "│   train_loss = 0.0163882027026286\n",
      "│   val_loss = 0.4026923808441728\n",
      "│   train_accuracy = 0.9982638888888888\n",
      "│   val_accuracy = 0.875\n",
      "└ @ Main.Test_name.Ship_detector.Model.Binary_model /Users/kaaso/Documents/coding/JuliaEO2024/src/ship_detector/model/classifyer/train_util.jl:81\n"
     ]
    },
    {
     "name": "stderr",
     "output_type": "stream",
     "text": [
      "┌ Info: Epoch 199\n",
      "│   train_loss = 0.0164835232653414\n",
      "│   val_loss = 0.4832624815190723\n",
      "│   train_accuracy = 0.9982638888888888\n",
      "│   val_accuracy = 0.83125\n",
      "└ @ Main.Test_name.Ship_detector.Model.Binary_model /Users/kaaso/Documents/coding/JuliaEO2024/src/ship_detector/model/classifyer/train_util.jl:81\n"
     ]
    },
    {
     "name": "stderr",
     "output_type": "stream",
     "text": [
      "┌ Info: Epoch 200\n",
      "│   train_loss = 0.015572941055376096\n",
      "│   val_loss = 0.4392737562989443\n",
      "│   train_accuracy = 0.9991319444444444\n",
      "│   val_accuracy = 0.8625\n",
      "└ @ Main.Test_name.Ship_detector.Model.Binary_model /Users/kaaso/Documents/coding/JuliaEO2024/src/ship_detector/model/classifyer/train_util.jl:81\n"
     ]
    },
    {
     "name": "stderr",
     "output_type": "stream",
     "text": [
      "┌ Info: Epoch 201\n",
      "│   train_loss = 0.013486784635156797\n",
      "│   val_loss = 0.4432399864507917\n",
      "│   train_accuracy = 0.9991319444444444\n",
      "│   val_accuracy = 0.85625\n",
      "└ @ Main.Test_name.Ship_detector.Model.Binary_model /Users/kaaso/Documents/coding/JuliaEO2024/src/ship_detector/model/classifyer/train_util.jl:81\n"
     ]
    },
    {
     "name": "stderr",
     "output_type": "stream",
     "text": [
      "┌ Info: Epoch 202\n",
      "│   train_loss = 0.014032616518501977\n",
      "│   val_loss = 0.4528504288030918\n",
      "│   train_accuracy = 0.9991319444444444\n",
      "│   val_accuracy = 0.8625\n",
      "└ @ Main.Test_name.Ship_detector.Model.Binary_model /Users/kaaso/Documents/coding/JuliaEO2024/src/ship_detector/model/classifyer/train_util.jl:81\n"
     ]
    },
    {
     "name": "stderr",
     "output_type": "stream",
     "text": [
      "┌ Info: Epoch 203\n",
      "│   train_loss = 0.01508753588245889\n",
      "│   val_loss = 0.4763860092541451\n",
      "│   train_accuracy = 0.9982638888888888\n",
      "│   val_accuracy = 0.85625\n",
      "└ @ Main.Test_name.Ship_detector.Model.Binary_model /Users/kaaso/Documents/coding/JuliaEO2024/src/ship_detector/model/classifyer/train_util.jl:81\n"
     ]
    },
    {
     "name": "stderr",
     "output_type": "stream",
     "text": [
      "┌ Info: Epoch 204\n",
      "│   train_loss = 0.01258800203504146\n",
      "│   val_loss = 0.41972108633384736\n",
      "│   train_accuracy = 0.9991319444444444\n",
      "│   val_accuracy = 0.8625\n",
      "└ @ Main.Test_name.Ship_detector.Model.Binary_model /Users/kaaso/Documents/coding/JuliaEO2024/src/ship_detector/model/classifyer/train_util.jl:81\n"
     ]
    },
    {
     "name": "stderr",
     "output_type": "stream",
     "text": [
      "┌ Info: Epoch 205\n",
      "│   train_loss = 0.014872061193849833\n",
      "│   val_loss = 0.4115506093973821\n",
      "│   train_accuracy = 0.9991319444444444\n",
      "│   val_accuracy = 0.8625\n",
      "└ @ Main.Test_name.Ship_detector.Model.Binary_model /Users/kaaso/Documents/coding/JuliaEO2024/src/ship_detector/model/classifyer/train_util.jl:81\n"
     ]
    },
    {
     "name": "stderr",
     "output_type": "stream",
     "text": [
      "┌ Info: Epoch 206\n",
      "│   train_loss = 0.014878620023320013\n",
      "│   val_loss = 0.4452460383518108\n",
      "│   train_accuracy = 0.9982638888888888\n",
      "│   val_accuracy = 0.8625\n",
      "└ @ Main.Test_name.Ship_detector.Model.Binary_model /Users/kaaso/Documents/coding/JuliaEO2024/src/ship_detector/model/classifyer/train_util.jl:81\n"
     ]
    },
    {
     "name": "stderr",
     "output_type": "stream",
     "text": [
      "┌ Info: Epoch 207\n",
      "│   train_loss = 0.013386669069249273\n",
      "│   val_loss = 0.4454023054654539\n",
      "│   train_accuracy = 0.9982638888888888\n",
      "│   val_accuracy = 0.8625\n",
      "└ @ Main.Test_name.Ship_detector.Model.Binary_model /Users/kaaso/Documents/coding/JuliaEO2024/src/ship_detector/model/classifyer/train_util.jl:81\n"
     ]
    },
    {
     "name": "stderr",
     "output_type": "stream",
     "text": [
      "┌ Info: Epoch 208\n",
      "│   train_loss = 0.015116609528008008\n",
      "│   val_loss = 0.5051275716147379\n",
      "│   train_accuracy = 0.9991319444444444\n",
      "│   val_accuracy = 0.86875\n",
      "└ @ Main.Test_name.Ship_detector.Model.Binary_model /Users/kaaso/Documents/coding/JuliaEO2024/src/ship_detector/model/classifyer/train_util.jl:81\n"
     ]
    },
    {
     "name": "stderr",
     "output_type": "stream",
     "text": [
      "┌ Info: Epoch 209\n",
      "│   train_loss = 0.020474619773679103\n",
      "│   val_loss = 0.43790084969200016\n",
      "│   train_accuracy = 0.9991319444444444\n",
      "│   val_accuracy = 0.85625\n",
      "└ @ Main.Test_name.Ship_detector.Model.Binary_model /Users/kaaso/Documents/coding/JuliaEO2024/src/ship_detector/model/classifyer/train_util.jl:81\n"
     ]
    },
    {
     "name": "stderr",
     "output_type": "stream",
     "text": [
      "┌ Info: Epoch 210\n",
      "│   train_loss = 0.021523174964734788\n",
      "│   val_loss = 0.39251949853593804\n",
      "│   train_accuracy = 0.9962734988776655\n",
      "│   val_accuracy = 0.8625\n",
      "└ @ Main.Test_name.Ship_detector.Model.Binary_model /Users/kaaso/Documents/coding/JuliaEO2024/src/ship_detector/model/classifyer/train_util.jl:81\n"
     ]
    },
    {
     "name": "stderr",
     "output_type": "stream",
     "text": [
      "┌ Info: Epoch 211\n",
      "│   train_loss = 0.01651014655959285\n",
      "│   val_loss = 0.41986104478612807\n",
      "│   train_accuracy = 0.9982638888888888\n",
      "│   val_accuracy = 0.86875\n",
      "└ @ Main.Test_name.Ship_detector.Model.Binary_model /Users/kaaso/Documents/coding/JuliaEO2024/src/ship_detector/model/classifyer/train_util.jl:81\n"
     ]
    },
    {
     "name": "stderr",
     "output_type": "stream",
     "text": [
      "┌ Info: Epoch 212\n",
      "│   train_loss = 0.02184786701138129\n",
      "│   val_loss = 0.4363980675011304\n",
      "│   train_accuracy = 0.9973958333333334\n",
      "│   val_accuracy = 0.86875\n",
      "└ @ Main.Test_name.Ship_detector.Model.Binary_model /Users/kaaso/Documents/coding/JuliaEO2024/src/ship_detector/model/classifyer/train_util.jl:81\n"
     ]
    },
    {
     "name": "stderr",
     "output_type": "stream",
     "text": [
      "┌ Info: Epoch 213\n",
      "│   train_loss = 0.01825684122430713\n",
      "│   val_loss = 0.3942551394612248\n",
      "│   train_accuracy = 0.9982638888888888\n",
      "│   val_accuracy = 0.875\n",
      "└ @ Main.Test_name.Ship_detector.Model.Binary_model /Users/kaaso/Documents/coding/JuliaEO2024/src/ship_detector/model/classifyer/train_util.jl:81\n"
     ]
    },
    {
     "name": "stderr",
     "output_type": "stream",
     "text": [
      "┌ Info: Epoch 214\n",
      "│   train_loss = 0.015471079541691024\n",
      "│   val_loss = 0.4367582996005849\n",
      "│   train_accuracy = 0.9973958333333334\n",
      "│   val_accuracy = 0.85625\n",
      "└ @ Main.Test_name.Ship_detector.Model.Binary_model /Users/kaaso/Documents/coding/JuliaEO2024/src/ship_detector/model/classifyer/train_util.jl:81\n"
     ]
    },
    {
     "name": "stderr",
     "output_type": "stream",
     "text": [
      "┌ Info: Epoch 215\n",
      "│   train_loss = 0.01779002449409245\n",
      "│   val_loss = 0.46377001435108844\n",
      "│   train_accuracy = 0.9982638888888888\n",
      "│   val_accuracy = 0.85625\n",
      "└ @ Main.Test_name.Ship_detector.Model.Binary_model /Users/kaaso/Documents/coding/JuliaEO2024/src/ship_detector/model/classifyer/train_util.jl:81\n"
     ]
    },
    {
     "name": "stderr",
     "output_type": "stream",
     "text": [
      "┌ Info: Epoch 216\n",
      "│   train_loss = 0.016696403226751096\n",
      "│   val_loss = 0.4144472300887336\n",
      "│   train_accuracy = 0.9991319444444444\n",
      "│   val_accuracy = 0.8625\n",
      "└ @ Main.Test_name.Ship_detector.Model.Binary_model /Users/kaaso/Documents/coding/JuliaEO2024/src/ship_detector/model/classifyer/train_util.jl:81\n"
     ]
    },
    {
     "name": "stderr",
     "output_type": "stream",
     "text": [
      "┌ Info: Epoch 217\n",
      "│   train_loss = 0.015102601821685185\n",
      "│   val_loss = 0.4053567062318038\n",
      "│   train_accuracy = 0.9991319444444444\n",
      "│   val_accuracy = 0.86875\n",
      "└ @ Main.Test_name.Ship_detector.Model.Binary_model /Users/kaaso/Documents/coding/JuliaEO2024/src/ship_detector/model/classifyer/train_util.jl:81\n"
     ]
    },
    {
     "name": "stderr",
     "output_type": "stream",
     "text": [
      "┌ Info: Epoch 218\n",
      "│   train_loss = 0.01781141199563084\n",
      "│   val_loss = 0.44299181358181217\n",
      "│   train_accuracy = 0.9973958333333334\n",
      "│   val_accuracy = 0.8625\n",
      "└ @ Main.Test_name.Ship_detector.Model.Binary_model /Users/kaaso/Documents/coding/JuliaEO2024/src/ship_detector/model/classifyer/train_util.jl:81\n"
     ]
    },
    {
     "name": "stderr",
     "output_type": "stream",
     "text": [
      "┌ Info: Epoch 219\n",
      "│   train_loss = 0.017404096930312602\n",
      "│   val_loss = 0.48230155375205835\n",
      "│   train_accuracy = 0.9988776655443322\n",
      "│   val_accuracy = 0.86875\n",
      "└ @ Main.Test_name.Ship_detector.Model.Binary_model /Users/kaaso/Documents/coding/JuliaEO2024/src/ship_detector/model/classifyer/train_util.jl:81\n"
     ]
    },
    {
     "name": "stderr",
     "output_type": "stream",
     "text": [
      "┌ Info: Epoch 220\n",
      "│   train_loss = 0.021029206349292586\n",
      "│   val_loss = 0.40544936108488133\n",
      "│   train_accuracy = 0.9982638888888888\n",
      "│   val_accuracy = 0.8625\n",
      "└ @ Main.Test_name.Ship_detector.Model.Binary_model /Users/kaaso/Documents/coding/JuliaEO2024/src/ship_detector/model/classifyer/train_util.jl:81\n"
     ]
    },
    {
     "name": "stderr",
     "output_type": "stream",
     "text": [
      "┌ Info: Epoch 221\n",
      "│   train_loss = 0.012012328628456498\n",
      "│   val_loss = 0.45491862500447644\n",
      "│   train_accuracy = 0.9982638888888888\n",
      "│   val_accuracy = 0.8625\n",
      "└ @ Main.Test_name.Ship_detector.Model.Binary_model /Users/kaaso/Documents/coding/JuliaEO2024/src/ship_detector/model/classifyer/train_util.jl:81\n"
     ]
    },
    {
     "name": "stderr",
     "output_type": "stream",
     "text": [
      "┌ Info: Epoch 222\n",
      "│   train_loss = 0.01119937163335781\n",
      "│   val_loss = 0.47382655448388\n",
      "│   train_accuracy = 0.9991319444444444\n",
      "│   val_accuracy = 0.84375\n",
      "└ @ Main.Test_name.Ship_detector.Model.Binary_model /Users/kaaso/Documents/coding/JuliaEO2024/src/ship_detector/model/classifyer/train_util.jl:81\n"
     ]
    },
    {
     "name": "stderr",
     "output_type": "stream",
     "text": [
      "┌ Info: Epoch 223\n",
      "│   train_loss = 0.009924122329499945\n",
      "│   val_loss = 0.4616308976828457\n",
      "│   train_accuracy = 0.9991319444444444\n",
      "│   val_accuracy = 0.85625\n",
      "└ @ Main.Test_name.Ship_detector.Model.Binary_model /Users/kaaso/Documents/coding/JuliaEO2024/src/ship_detector/model/classifyer/train_util.jl:81\n"
     ]
    },
    {
     "name": "stderr",
     "output_type": "stream",
     "text": [
      "┌ Info: Epoch 224\n",
      "│   train_loss = 0.009972658410007416\n",
      "│   val_loss = 0.43029821068381624\n",
      "│   train_accuracy = 0.9991319444444444\n",
      "│   val_accuracy = 0.88125\n",
      "└ @ Main.Test_name.Ship_detector.Model.Binary_model /Users/kaaso/Documents/coding/JuliaEO2024/src/ship_detector/model/classifyer/train_util.jl:81\n"
     ]
    },
    {
     "name": "stderr",
     "output_type": "stream",
     "text": [
      "┌ Info: Epoch 225\n",
      "│   train_loss = 0.009080181892804615\n",
      "│   val_loss = 0.46432719477329754\n",
      "│   train_accuracy = 0.9991319444444444\n",
      "│   val_accuracy = 0.85625\n",
      "└ @ Main.Test_name.Ship_detector.Model.Binary_model /Users/kaaso/Documents/coding/JuliaEO2024/src/ship_detector/model/classifyer/train_util.jl:81\n"
     ]
    },
    {
     "name": "stderr",
     "output_type": "stream",
     "text": [
      "┌ Info: Epoch 226\n",
      "│   train_loss = 0.009007512822022506\n",
      "│   val_loss = 0.430810086002454\n",
      "│   train_accuracy = 0.9982638888888888\n",
      "│   val_accuracy = 0.8875\n",
      "└ @ Main.Test_name.Ship_detector.Model.Binary_model /Users/kaaso/Documents/coding/JuliaEO2024/src/ship_detector/model/classifyer/train_util.jl:81\n"
     ]
    },
    {
     "name": "stderr",
     "output_type": "stream",
     "text": [
      "┌ Info: Epoch 227\n",
      "│   train_loss = 0.011004989293303681\n",
      "│   val_loss = 0.43428666877786853\n",
      "│   train_accuracy = 0.9991319444444444\n",
      "│   val_accuracy = 0.8875\n",
      "└ @ Main.Test_name.Ship_detector.Model.Binary_model /Users/kaaso/Documents/coding/JuliaEO2024/src/ship_detector/model/classifyer/train_util.jl:81\n"
     ]
    },
    {
     "name": "stderr",
     "output_type": "stream",
     "text": [
      "┌ Info: Epoch 228\n",
      "│   train_loss = 0.010017539655926708\n",
      "│   val_loss = 0.48828784491116545\n",
      "│   train_accuracy = 0.9991319444444444\n",
      "│   val_accuracy = 0.88125\n",
      "└ @ Main.Test_name.Ship_detector.Model.Binary_model /Users/kaaso/Documents/coding/JuliaEO2024/src/ship_detector/model/classifyer/train_util.jl:81\n"
     ]
    },
    {
     "name": "stderr",
     "output_type": "stream",
     "text": [
      "┌ Info: Epoch 229\n",
      "│   train_loss = 0.009409076295339358\n",
      "│   val_loss = 0.44750162215058653\n",
      "│   train_accuracy = 0.9982638888888888\n",
      "│   val_accuracy = 0.86875\n",
      "└ @ Main.Test_name.Ship_detector.Model.Binary_model /Users/kaaso/Documents/coding/JuliaEO2024/src/ship_detector/model/classifyer/train_util.jl:81\n"
     ]
    },
    {
     "name": "stderr",
     "output_type": "stream",
     "text": [
      "┌ Info: Epoch 230\n",
      "│   train_loss = 0.01148246053739601\n",
      "│   val_loss = 0.4785595096913979\n",
      "│   train_accuracy = 0.9991319444444444\n",
      "│   val_accuracy = 0.86875\n",
      "└ @ Main.Test_name.Ship_detector.Model.Binary_model /Users/kaaso/Documents/coding/JuliaEO2024/src/ship_detector/model/classifyer/train_util.jl:81\n"
     ]
    },
    {
     "name": "stderr",
     "output_type": "stream",
     "text": [
      "┌ Info: Epoch 231\n",
      "│   train_loss = 0.01599612241915737\n",
      "│   val_loss = 0.476202111299011\n",
      "│   train_accuracy = 0.9956597222222222\n",
      "│   val_accuracy = 0.88125\n",
      "└ @ Main.Test_name.Ship_detector.Model.Binary_model /Users/kaaso/Documents/coding/JuliaEO2024/src/ship_detector/model/classifyer/train_util.jl:81\n"
     ]
    },
    {
     "name": "stderr",
     "output_type": "stream",
     "text": [
      "┌ Info: Epoch 232\n",
      "│   train_loss = 0.009857671874807888\n",
      "│   val_loss = 0.40635771954636646\n",
      "│   train_accuracy = 0.9991319444444444\n",
      "│   val_accuracy = 0.85625\n",
      "└ @ Main.Test_name.Ship_detector.Model.Binary_model /Users/kaaso/Documents/coding/JuliaEO2024/src/ship_detector/model/classifyer/train_util.jl:81\n"
     ]
    },
    {
     "name": "stderr",
     "output_type": "stream",
     "text": [
      "┌ Info: Epoch 233\n",
      "│   train_loss = 0.010752286970299594\n",
      "│   val_loss = 0.4516719070745097\n",
      "│   train_accuracy = 1.0\n",
      "│   val_accuracy = 0.8625\n",
      "└ @ Main.Test_name.Ship_detector.Model.Binary_model /Users/kaaso/Documents/coding/JuliaEO2024/src/ship_detector/model/classifyer/train_util.jl:81\n"
     ]
    },
    {
     "name": "stderr",
     "output_type": "stream",
     "text": [
      "┌ Info: Epoch 234\n",
      "│   train_loss = 0.010645710798179858\n",
      "│   val_loss = 0.4850676375661913\n",
      "│   train_accuracy = 0.9991319444444444\n",
      "│   val_accuracy = 0.8625\n",
      "└ @ Main.Test_name.Ship_detector.Model.Binary_model /Users/kaaso/Documents/coding/JuliaEO2024/src/ship_detector/model/classifyer/train_util.jl:81\n"
     ]
    },
    {
     "name": "stderr",
     "output_type": "stream",
     "text": [
      "┌ Info: Epoch 235\n",
      "│   train_loss = 0.011935815506782358\n",
      "│   val_loss = 0.4256617764447362\n",
      "│   train_accuracy = 0.9982638888888888\n",
      "│   val_accuracy = 0.88125\n",
      "└ @ Main.Test_name.Ship_detector.Model.Binary_model /Users/kaaso/Documents/coding/JuliaEO2024/src/ship_detector/model/classifyer/train_util.jl:81\n"
     ]
    },
    {
     "name": "stderr",
     "output_type": "stream",
     "text": [
      "┌ Info: Epoch 236\n",
      "│   train_loss = 0.008322546758849046\n",
      "│   val_loss = 0.5431971699676181\n",
      "│   train_accuracy = 0.9991319444444444\n",
      "│   val_accuracy = 0.875\n",
      "└ @ Main.Test_name.Ship_detector.Model.Binary_model /Users/kaaso/Documents/coding/JuliaEO2024/src/ship_detector/model/classifyer/train_util.jl:81\n"
     ]
    },
    {
     "name": "stderr",
     "output_type": "stream",
     "text": [
      "┌ Info: Epoch 237\n",
      "│   train_loss = 0.0064263127320792444\n",
      "│   val_loss = 0.4623389303974791\n",
      "│   train_accuracy = 0.9991319444444444\n",
      "│   val_accuracy = 0.85625\n",
      "└ @ Main.Test_name.Ship_detector.Model.Binary_model /Users/kaaso/Documents/coding/JuliaEO2024/src/ship_detector/model/classifyer/train_util.jl:81\n"
     ]
    },
    {
     "name": "stderr",
     "output_type": "stream",
     "text": [
      "┌ Info: Epoch 238\n",
      "│   train_loss = 0.005809855557761766\n",
      "│   val_loss = 0.46022044522764516\n",
      "│   train_accuracy = 1.0\n",
      "│   val_accuracy = 0.85625\n",
      "└ @ Main.Test_name.Ship_detector.Model.Binary_model /Users/kaaso/Documents/coding/JuliaEO2024/src/ship_detector/model/classifyer/train_util.jl:81\n"
     ]
    },
    {
     "name": "stderr",
     "output_type": "stream",
     "text": [
      "┌ Info: Epoch 239\n",
      "│   train_loss = 0.005325651912527121\n",
      "│   val_loss = 0.49963312982015645\n",
      "│   train_accuracy = 0.9991319444444444\n",
      "│   val_accuracy = 0.85\n",
      "└ @ Main.Test_name.Ship_detector.Model.Binary_model /Users/kaaso/Documents/coding/JuliaEO2024/src/ship_detector/model/classifyer/train_util.jl:81\n"
     ]
    },
    {
     "name": "stderr",
     "output_type": "stream",
     "text": [
      "┌ Info: Epoch 240\n",
      "│   train_loss = 0.009201563147458245\n",
      "│   val_loss = 0.46543069795935094\n",
      "│   train_accuracy = 0.9982638888888888\n",
      "│   val_accuracy = 0.88125\n",
      "└ @ Main.Test_name.Ship_detector.Model.Binary_model /Users/kaaso/Documents/coding/JuliaEO2024/src/ship_detector/model/classifyer/train_util.jl:81\n"
     ]
    },
    {
     "name": "stderr",
     "output_type": "stream",
     "text": [
      "┌ Info: Epoch 241\n",
      "│   train_loss = 0.00788561944818302\n",
      "│   val_loss = 0.45822143582008434\n",
      "│   train_accuracy = 0.9991319444444444\n",
      "│   val_accuracy = 0.86875\n",
      "└ @ Main.Test_name.Ship_detector.Model.Binary_model /Users/kaaso/Documents/coding/JuliaEO2024/src/ship_detector/model/classifyer/train_util.jl:81\n"
     ]
    },
    {
     "name": "stderr",
     "output_type": "stream",
     "text": [
      "┌ Info: Epoch 242\n",
      "│   train_loss = 0.005383846093569202\n",
      "│   val_loss = 0.48070607576835045\n",
      "│   train_accuracy = 0.9991319444444444\n",
      "│   val_accuracy = 0.8625\n",
      "└ @ Main.Test_name.Ship_detector.Model.Binary_model /Users/kaaso/Documents/coding/JuliaEO2024/src/ship_detector/model/classifyer/train_util.jl:81\n"
     ]
    },
    {
     "name": "stderr",
     "output_type": "stream",
     "text": [
      "┌ Info: Epoch 243\n",
      "│   train_loss = 0.004887459208059635\n",
      "│   val_loss = 0.5048544059646132\n",
      "│   train_accuracy = 0.9991319444444444\n",
      "│   val_accuracy = 0.8625\n",
      "└ @ Main.Test_name.Ship_detector.Model.Binary_model /Users/kaaso/Documents/coding/JuliaEO2024/src/ship_detector/model/classifyer/train_util.jl:81\n"
     ]
    },
    {
     "name": "stderr",
     "output_type": "stream",
     "text": [
      "┌ Info: Epoch 244\n",
      "│   train_loss = 0.005955173876036248\n",
      "│   val_loss = 0.4861417081499904\n",
      "│   train_accuracy = 1.0\n",
      "│   val_accuracy = 0.86875\n",
      "└ @ Main.Test_name.Ship_detector.Model.Binary_model /Users/kaaso/Documents/coding/JuliaEO2024/src/ship_detector/model/classifyer/train_util.jl:81\n"
     ]
    },
    {
     "name": "stderr",
     "output_type": "stream",
     "text": [
      "┌ Info: Epoch 245\n",
      "│   train_loss = 0.007407905210410108\n",
      "│   val_loss = 0.4358108324522062\n",
      "│   train_accuracy = 1.0\n",
      "│   val_accuracy = 0.8875\n",
      "└ @ Main.Test_name.Ship_detector.Model.Binary_model /Users/kaaso/Documents/coding/JuliaEO2024/src/ship_detector/model/classifyer/train_util.jl:81\n"
     ]
    },
    {
     "name": "stderr",
     "output_type": "stream",
     "text": [
      "┌ Info: Epoch 246\n",
      "│   train_loss = 0.005824790348087598\n",
      "│   val_loss = 0.48169490688443917\n",
      "│   train_accuracy = 0.9991319444444444\n",
      "│   val_accuracy = 0.85625\n",
      "└ @ Main.Test_name.Ship_detector.Model.Binary_model /Users/kaaso/Documents/coding/JuliaEO2024/src/ship_detector/model/classifyer/train_util.jl:81\n"
     ]
    },
    {
     "name": "stderr",
     "output_type": "stream",
     "text": [
      "┌ Info: Epoch 247\n",
      "│   train_loss = 0.004535644611272226\n",
      "│   val_loss = 0.4974238990745068\n",
      "│   train_accuracy = 0.9991319444444444\n",
      "│   val_accuracy = 0.8625\n",
      "└ @ Main.Test_name.Ship_detector.Model.Binary_model /Users/kaaso/Documents/coding/JuliaEO2024/src/ship_detector/model/classifyer/train_util.jl:81\n"
     ]
    },
    {
     "name": "stderr",
     "output_type": "stream",
     "text": [
      "┌ Info: Epoch 248\n",
      "│   train_loss = 0.005105805498399816\n",
      "│   val_loss = 0.4819164673866192\n",
      "│   train_accuracy = 1.0\n",
      "│   val_accuracy = 0.85\n",
      "└ @ Main.Test_name.Ship_detector.Model.Binary_model /Users/kaaso/Documents/coding/JuliaEO2024/src/ship_detector/model/classifyer/train_util.jl:81\n"
     ]
    },
    {
     "name": "stderr",
     "output_type": "stream",
     "text": [
      "┌ Info: Epoch 249\n",
      "│   train_loss = 0.006611929192497013\n",
      "│   val_loss = 0.4426835335315003\n",
      "│   train_accuracy = 1.0\n",
      "│   val_accuracy = 0.86875\n",
      "└ @ Main.Test_name.Ship_detector.Model.Binary_model /Users/kaaso/Documents/coding/JuliaEO2024/src/ship_detector/model/classifyer/train_util.jl:81\n"
     ]
    },
    {
     "name": "stderr",
     "output_type": "stream",
     "text": [
      "┌ Info: Epoch 250\n",
      "│   train_loss = 0.008040613122063533\n",
      "│   val_loss = 0.4568502070170323\n",
      "│   train_accuracy = 1.0\n",
      "│   val_accuracy = 0.8875\n",
      "└ @ Main.Test_name.Ship_detector.Model.Binary_model /Users/kaaso/Documents/coding/JuliaEO2024/src/ship_detector/model/classifyer/train_util.jl:81\n"
     ]
    },
    {
     "name": "stderr",
     "output_type": "stream",
     "text": [
      "┌ Info: Epoch 251\n",
      "│   train_loss = 0.006928100785109147\n",
      "│   val_loss = 0.5107334388712101\n",
      "│   train_accuracy = 1.0\n",
      "│   val_accuracy = 0.84375\n",
      "└ @ Main.Test_name.Ship_detector.Model.Binary_model /Users/kaaso/Documents/coding/JuliaEO2024/src/ship_detector/model/classifyer/train_util.jl:81\n"
     ]
    },
    {
     "name": "stderr",
     "output_type": "stream",
     "text": [
      "┌ Info: Epoch 252\n",
      "│   train_loss = 0.006669152697649269\n",
      "│   val_loss = 0.47029671501885606\n",
      "│   train_accuracy = 1.0\n",
      "│   val_accuracy = 0.85625\n",
      "└ @ Main.Test_name.Ship_detector.Model.Binary_model /Users/kaaso/Documents/coding/JuliaEO2024/src/ship_detector/model/classifyer/train_util.jl:81\n"
     ]
    },
    {
     "name": "stderr",
     "output_type": "stream",
     "text": [
      "┌ Info: Epoch 253\n",
      "│   train_loss = 0.005442170065921842\n",
      "│   val_loss = 0.49944853522386545\n",
      "│   train_accuracy = 1.0\n",
      "│   val_accuracy = 0.86875\n",
      "└ @ Main.Test_name.Ship_detector.Model.Binary_model /Users/kaaso/Documents/coding/JuliaEO2024/src/ship_detector/model/classifyer/train_util.jl:81\n"
     ]
    },
    {
     "name": "stderr",
     "output_type": "stream",
     "text": [
      "┌ Info: Epoch 254\n",
      "│   train_loss = 0.005132282151847411\n",
      "│   val_loss = 0.4637699778081215\n",
      "│   train_accuracy = 1.0\n",
      "│   val_accuracy = 0.88125\n",
      "└ @ Main.Test_name.Ship_detector.Model.Binary_model /Users/kaaso/Documents/coding/JuliaEO2024/src/ship_detector/model/classifyer/train_util.jl:81\n"
     ]
    },
    {
     "name": "stderr",
     "output_type": "stream",
     "text": [
      "┌ Info: Epoch 255\n",
      "│   train_loss = 0.0038898958320249723\n",
      "│   val_loss = 0.48298425880159696\n",
      "│   train_accuracy = 1.0\n",
      "│   val_accuracy = 0.88125\n",
      "└ @ Main.Test_name.Ship_detector.Model.Binary_model /Users/kaaso/Documents/coding/JuliaEO2024/src/ship_detector/model/classifyer/train_util.jl:81\n"
     ]
    },
    {
     "name": "stderr",
     "output_type": "stream",
     "text": [
      "┌ Info: Epoch 256\n",
      "│   train_loss = 0.012995317180534625\n",
      "│   val_loss = 0.5334962164182434\n",
      "│   train_accuracy = 0.9971415544332211\n",
      "│   val_accuracy = 0.8375\n",
      "└ @ Main.Test_name.Ship_detector.Model.Binary_model /Users/kaaso/Documents/coding/JuliaEO2024/src/ship_detector/model/classifyer/train_util.jl:81\n"
     ]
    },
    {
     "name": "stderr",
     "output_type": "stream",
     "text": [
      "┌ Info: Epoch 257\n",
      "│   train_loss = 0.015919531923111362\n",
      "│   val_loss = 0.6116283566408455\n",
      "│   train_accuracy = 0.9966329966329965\n",
      "│   val_accuracy = 0.8375\n",
      "└ @ Main.Test_name.Ship_detector.Model.Binary_model /Users/kaaso/Documents/coding/JuliaEO2024/src/ship_detector/model/classifyer/train_util.jl:81\n"
     ]
    },
    {
     "name": "stderr",
     "output_type": "stream",
     "text": [
      "┌ Info: Epoch 258\n",
      "│   train_loss = 0.2601515169160472\n",
      "│   val_loss = 0.35912673998002903\n",
      "│   train_accuracy = 0.9259609988776655\n",
      "│   val_accuracy = 0.825\n",
      "└ @ Main.Test_name.Ship_detector.Model.Binary_model /Users/kaaso/Documents/coding/JuliaEO2024/src/ship_detector/model/classifyer/train_util.jl:81\n"
     ]
    },
    {
     "name": "stderr",
     "output_type": "stream",
     "text": [
      "┌ Info: Epoch 259\n",
      "│   train_loss = 0.1492904459629196\n",
      "│   val_loss = 0.4229839168534081\n",
      "│   train_accuracy = 0.9514941077441077\n",
      "│   val_accuracy = 0.8375\n",
      "└ @ Main.Test_name.Ship_detector.Model.Binary_model /Users/kaaso/Documents/coding/JuliaEO2024/src/ship_detector/model/classifyer/train_util.jl:81\n"
     ]
    },
    {
     "name": "stderr",
     "output_type": "stream",
     "text": [
      "┌ Info: Epoch 260\n",
      "│   train_loss = 0.12245793207281147\n",
      "│   val_loss = 0.3876799656204966\n",
      "│   train_accuracy = 0.9606832210998877\n",
      "│   val_accuracy = 0.88125\n",
      "└ @ Main.Test_name.Ship_detector.Model.Binary_model /Users/kaaso/Documents/coding/JuliaEO2024/src/ship_detector/model/classifyer/train_util.jl:81\n"
     ]
    },
    {
     "name": "stderr",
     "output_type": "stream",
     "text": [
      "┌ Info: Epoch 261\n",
      "│   train_loss = 0.07230846010466746\n",
      "│   val_loss = 0.35645801311795816\n",
      "│   train_accuracy = 0.9734497755331089\n",
      "│   val_accuracy = 0.8875\n",
      "└ @ Main.Test_name.Ship_detector.Model.Binary_model /Users/kaaso/Documents/coding/JuliaEO2024/src/ship_detector/model/classifyer/train_util.jl:81\n"
     ]
    },
    {
     "name": "stderr",
     "output_type": "stream",
     "text": [
      "┌ Info: Epoch 262\n",
      "│   train_loss = 0.04423444095251941\n",
      "│   val_loss = 0.39241512895466757\n",
      "│   train_accuracy = 0.9960192199775533\n",
      "│   val_accuracy = 0.89375\n",
      "└ @ Main.Test_name.Ship_detector.Model.Binary_model /Users/kaaso/Documents/coding/JuliaEO2024/src/ship_detector/model/classifyer/train_util.jl:81\n"
     ]
    },
    {
     "name": "stderr",
     "output_type": "stream",
     "text": [
      "┌ Info: Epoch 263\n",
      "│   train_loss = 0.03268484725329247\n",
      "│   val_loss = 0.39379088771392623\n",
      "│   train_accuracy = 0.9965277777777778\n",
      "│   val_accuracy = 0.86875\n",
      "└ @ Main.Test_name.Ship_detector.Model.Binary_model /Users/kaaso/Documents/coding/JuliaEO2024/src/ship_detector/model/classifyer/train_util.jl:81\n"
     ]
    },
    {
     "name": "stderr",
     "output_type": "stream",
     "text": [
      "┌ Info: Epoch 264\n",
      "│   train_loss = 0.02890676302247669\n",
      "│   val_loss = 0.3805599755322312\n",
      "│   train_accuracy = 0.99540544332211\n",
      "│   val_accuracy = 0.8625\n",
      "└ @ Main.Test_name.Ship_detector.Model.Binary_model /Users/kaaso/Documents/coding/JuliaEO2024/src/ship_detector/model/classifyer/train_util.jl:81\n"
     ]
    },
    {
     "name": "stderr",
     "output_type": "stream",
     "text": [
      "┌ Info: Epoch 265\n",
      "│   train_loss = 0.02150425745261665\n",
      "│   val_loss = 0.39510411896449293\n",
      "│   train_accuracy = 0.9973958333333334\n",
      "│   val_accuracy = 0.88125\n",
      "└ @ Main.Test_name.Ship_detector.Model.Binary_model /Users/kaaso/Documents/coding/JuliaEO2024/src/ship_detector/model/classifyer/train_util.jl:81\n"
     ]
    },
    {
     "name": "stderr",
     "output_type": "stream",
     "text": [
      "┌ Info: Epoch 266\n",
      "│   train_loss = 0.016612021663580716\n",
      "│   val_loss = 0.40592697767507085\n",
      "│   train_accuracy = 0.9991319444444444\n",
      "│   val_accuracy = 0.86875\n",
      "└ @ Main.Test_name.Ship_detector.Model.Binary_model /Users/kaaso/Documents/coding/JuliaEO2024/src/ship_detector/model/classifyer/train_util.jl:81\n"
     ]
    },
    {
     "name": "stderr",
     "output_type": "stream",
     "text": [
      "┌ Info: Epoch 267\n",
      "│   train_loss = 0.01542683926298462\n",
      "│   val_loss = 0.4223285293307207\n",
      "│   train_accuracy = 0.9991319444444444\n",
      "│   val_accuracy = 0.86875\n",
      "└ @ Main.Test_name.Ship_detector.Model.Binary_model /Users/kaaso/Documents/coding/JuliaEO2024/src/ship_detector/model/classifyer/train_util.jl:81\n"
     ]
    },
    {
     "name": "stderr",
     "output_type": "stream",
     "text": [
      "┌ Info: Epoch 268\n",
      "│   train_loss = 0.01547852736107794\n",
      "│   val_loss = 0.43298270274150746\n",
      "│   train_accuracy = 0.9991319444444444\n",
      "│   val_accuracy = 0.8625\n",
      "└ @ Main.Test_name.Ship_detector.Model.Binary_model /Users/kaaso/Documents/coding/JuliaEO2024/src/ship_detector/model/classifyer/train_util.jl:81\n"
     ]
    },
    {
     "name": "stderr",
     "output_type": "stream",
     "text": [
      "┌ Info: Epoch 269\n",
      "│   train_loss = 0.014705769522353057\n",
      "│   val_loss = 0.4107813994695578\n",
      "│   train_accuracy = 0.9991319444444444\n",
      "│   val_accuracy = 0.89375\n",
      "└ @ Main.Test_name.Ship_detector.Model.Binary_model /Users/kaaso/Documents/coding/JuliaEO2024/src/ship_detector/model/classifyer/train_util.jl:81\n"
     ]
    },
    {
     "name": "stderr",
     "output_type": "stream",
     "text": [
      "┌ Info: Epoch 270\n",
      "│   train_loss = 0.0172266624380888\n",
      "│   val_loss = 0.4218837158350798\n",
      "│   train_accuracy = 0.9988776655443322\n",
      "│   val_accuracy = 0.85625\n",
      "└ @ Main.Test_name.Ship_detector.Model.Binary_model /Users/kaaso/Documents/coding/JuliaEO2024/src/ship_detector/model/classifyer/train_util.jl:81\n"
     ]
    },
    {
     "name": "stderr",
     "output_type": "stream",
     "text": [
      "┌ Info: Epoch 271\n",
      "│   train_loss = 0.014143524624539876\n",
      "│   val_loss = 0.445993793438315\n",
      "│   train_accuracy = 0.9991319444444444\n",
      "│   val_accuracy = 0.875\n",
      "└ @ Main.Test_name.Ship_detector.Model.Binary_model /Users/kaaso/Documents/coding/JuliaEO2024/src/ship_detector/model/classifyer/train_util.jl:81\n"
     ]
    },
    {
     "name": "stderr",
     "output_type": "stream",
     "text": [
      "┌ Info: Epoch 272\n",
      "│   train_loss = 0.01274935090541281\n",
      "│   val_loss = 0.48444840315019155\n",
      "│   train_accuracy = 0.9991319444444444\n",
      "│   val_accuracy = 0.86875\n",
      "└ @ Main.Test_name.Ship_detector.Model.Binary_model /Users/kaaso/Documents/coding/JuliaEO2024/src/ship_detector/model/classifyer/train_util.jl:81\n"
     ]
    },
    {
     "name": "stderr",
     "output_type": "stream",
     "text": [
      "┌ Info: Epoch 273\n",
      "│   train_loss = 0.012232410307057235\n",
      "│   val_loss = 0.4262814467943638\n",
      "│   train_accuracy = 0.9991319444444444\n",
      "│   val_accuracy = 0.875\n",
      "└ @ Main.Test_name.Ship_detector.Model.Binary_model /Users/kaaso/Documents/coding/JuliaEO2024/src/ship_detector/model/classifyer/train_util.jl:81\n"
     ]
    },
    {
     "name": "stderr",
     "output_type": "stream",
     "text": [
      "┌ Info: Epoch 274\n",
      "│   train_loss = 0.011980188975785216\n",
      "│   val_loss = 0.47022686424661747\n",
      "│   train_accuracy = 0.9991319444444444\n",
      "│   val_accuracy = 0.84375\n",
      "└ @ Main.Test_name.Ship_detector.Model.Binary_model /Users/kaaso/Documents/coding/JuliaEO2024/src/ship_detector/model/classifyer/train_util.jl:81\n"
     ]
    },
    {
     "name": "stderr",
     "output_type": "stream",
     "text": [
      "┌ Info: Epoch 275\n",
      "│   train_loss = 0.01046287997212842\n",
      "│   val_loss = 0.47215108514606563\n",
      "│   train_accuracy = 0.9991319444444444\n",
      "│   val_accuracy = 0.875\n",
      "└ @ Main.Test_name.Ship_detector.Model.Binary_model /Users/kaaso/Documents/coding/JuliaEO2024/src/ship_detector/model/classifyer/train_util.jl:81\n"
     ]
    },
    {
     "name": "stderr",
     "output_type": "stream",
     "text": [
      "┌ Info: Epoch 276\n",
      "│   train_loss = 0.008771432462684935\n",
      "│   val_loss = 0.42146185494476407\n",
      "│   train_accuracy = 0.9991319444444444\n",
      "│   val_accuracy = 0.875\n",
      "└ @ Main.Test_name.Ship_detector.Model.Binary_model /Users/kaaso/Documents/coding/JuliaEO2024/src/ship_detector/model/classifyer/train_util.jl:81\n"
     ]
    },
    {
     "name": "stderr",
     "output_type": "stream",
     "text": [
      "┌ Info: Epoch 277\n",
      "│   train_loss = 0.012336603570757361\n",
      "│   val_loss = 0.4462706639580551\n",
      "│   train_accuracy = 0.9991319444444444\n",
      "│   val_accuracy = 0.86875\n",
      "└ @ Main.Test_name.Ship_detector.Model.Binary_model /Users/kaaso/Documents/coding/JuliaEO2024/src/ship_detector/model/classifyer/train_util.jl:81\n"
     ]
    },
    {
     "name": "stderr",
     "output_type": "stream",
     "text": [
      "┌ Info: Epoch 278\n",
      "│   train_loss = 0.011931074006581686\n",
      "│   val_loss = 0.4952007150536935\n",
      "│   train_accuracy = 0.9991319444444444\n",
      "│   val_accuracy = 0.8625\n",
      "└ @ Main.Test_name.Ship_detector.Model.Binary_model /Users/kaaso/Documents/coding/JuliaEO2024/src/ship_detector/model/classifyer/train_util.jl:81\n"
     ]
    },
    {
     "name": "stderr",
     "output_type": "stream",
     "text": [
      "┌ Info: Epoch 279\n",
      "│   train_loss = 0.0092941377589957\n",
      "│   val_loss = 0.42497367896386573\n",
      "│   train_accuracy = 0.9991319444444444\n",
      "│   val_accuracy = 0.86875\n",
      "└ @ Main.Test_name.Ship_detector.Model.Binary_model /Users/kaaso/Documents/coding/JuliaEO2024/src/ship_detector/model/classifyer/train_util.jl:81\n"
     ]
    },
    {
     "name": "stderr",
     "output_type": "stream",
     "text": [
      "┌ Info: Epoch 280\n",
      "│   train_loss = 0.018872245412839394\n",
      "│   val_loss = 0.4622647293478169\n",
      "│   train_accuracy = 0.9982638888888888\n",
      "│   val_accuracy = 0.85\n",
      "└ @ Main.Test_name.Ship_detector.Model.Binary_model /Users/kaaso/Documents/coding/JuliaEO2024/src/ship_detector/model/classifyer/train_util.jl:81\n"
     ]
    },
    {
     "name": "stderr",
     "output_type": "stream",
     "text": [
      "┌ Info: Epoch 281\n",
      "│   train_loss = 0.017461706317487544\n",
      "│   val_loss = 0.43483699586868607\n",
      "│   train_accuracy = 0.9991319444444444\n",
      "│   val_accuracy = 0.86875\n",
      "└ @ Main.Test_name.Ship_detector.Model.Binary_model /Users/kaaso/Documents/coding/JuliaEO2024/src/ship_detector/model/classifyer/train_util.jl:81\n"
     ]
    },
    {
     "name": "stderr",
     "output_type": "stream",
     "text": [
      "┌ Info: Epoch 282\n",
      "│   train_loss = 0.019436697856202365\n",
      "│   val_loss = 0.3997719521639798\n",
      "│   train_accuracy = 0.9991319444444444\n",
      "│   val_accuracy = 0.88125\n",
      "└ @ Main.Test_name.Ship_detector.Model.Binary_model /Users/kaaso/Documents/coding/JuliaEO2024/src/ship_detector/model/classifyer/train_util.jl:81\n"
     ]
    },
    {
     "name": "stderr",
     "output_type": "stream",
     "text": [
      "┌ Info: Epoch 283\n",
      "│   train_loss = 0.015057581702481409\n",
      "│   val_loss = 0.43076932763152964\n",
      "│   train_accuracy = 0.9991319444444444\n",
      "│   val_accuracy = 0.8875\n",
      "└ @ Main.Test_name.Ship_detector.Model.Binary_model /Users/kaaso/Documents/coding/JuliaEO2024/src/ship_detector/model/classifyer/train_util.jl:81\n"
     ]
    },
    {
     "name": "stderr",
     "output_type": "stream",
     "text": [
      "┌ Info: Epoch 284\n",
      "│   train_loss = 0.009492455035113168\n",
      "│   val_loss = 0.4071932412758309\n",
      "│   train_accuracy = 0.9991319444444444\n",
      "│   val_accuracy = 0.89375\n",
      "└ @ Main.Test_name.Ship_detector.Model.Binary_model /Users/kaaso/Documents/coding/JuliaEO2024/src/ship_detector/model/classifyer/train_util.jl:81\n"
     ]
    },
    {
     "name": "stderr",
     "output_type": "stream",
     "text": [
      "┌ Info: Epoch 285\n",
      "│   train_loss = 0.008375144826691617\n",
      "│   val_loss = 0.4081914300311234\n",
      "│   train_accuracy = 0.9991319444444444\n",
      "│   val_accuracy = 0.88125\n",
      "└ @ Main.Test_name.Ship_detector.Model.Binary_model /Users/kaaso/Documents/coding/JuliaEO2024/src/ship_detector/model/classifyer/train_util.jl:81\n"
     ]
    },
    {
     "name": "stderr",
     "output_type": "stream",
     "text": [
      "┌ Info: Epoch 286\n",
      "│   train_loss = 0.007958960890138513\n",
      "│   val_loss = 0.4122338550604927\n",
      "│   train_accuracy = 1.0\n",
      "│   val_accuracy = 0.875\n",
      "└ @ Main.Test_name.Ship_detector.Model.Binary_model /Users/kaaso/Documents/coding/JuliaEO2024/src/ship_detector/model/classifyer/train_util.jl:81\n"
     ]
    },
    {
     "name": "stderr",
     "output_type": "stream",
     "text": [
      "┌ Info: Epoch 287\n",
      "│   train_loss = 0.007449328286318428\n",
      "│   val_loss = 0.43989620289006803\n",
      "│   train_accuracy = 1.0\n",
      "│   val_accuracy = 0.9\n",
      "└ @ Main.Test_name.Ship_detector.Model.Binary_model /Users/kaaso/Documents/coding/JuliaEO2024/src/ship_detector/model/classifyer/train_util.jl:81\n"
     ]
    },
    {
     "name": "stderr",
     "output_type": "stream",
     "text": [
      "┌ Info: Epoch 288\n",
      "│   train_loss = 0.008312935724379737\n",
      "│   val_loss = 0.47539817447833255\n",
      "│   train_accuracy = 1.0\n",
      "│   val_accuracy = 0.86875\n",
      "└ @ Main.Test_name.Ship_detector.Model.Binary_model /Users/kaaso/Documents/coding/JuliaEO2024/src/ship_detector/model/classifyer/train_util.jl:81\n"
     ]
    },
    {
     "name": "stderr",
     "output_type": "stream",
     "text": [
      "┌ Info: Epoch 289\n",
      "│   train_loss = 0.005271753785763375\n",
      "│   val_loss = 0.49523396813685505\n",
      "│   train_accuracy = 1.0\n",
      "│   val_accuracy = 0.875\n",
      "└ @ Main.Test_name.Ship_detector.Model.Binary_model /Users/kaaso/Documents/coding/JuliaEO2024/src/ship_detector/model/classifyer/train_util.jl:81\n"
     ]
    },
    {
     "name": "stderr",
     "output_type": "stream",
     "text": [
      "┌ Info: Epoch 290\n",
      "│   train_loss = 0.00531718674349259\n",
      "│   val_loss = 0.496107515930756\n",
      "│   train_accuracy = 1.0\n",
      "│   val_accuracy = 0.8875\n",
      "└ @ Main.Test_name.Ship_detector.Model.Binary_model /Users/kaaso/Documents/coding/JuliaEO2024/src/ship_detector/model/classifyer/train_util.jl:81\n"
     ]
    },
    {
     "name": "stderr",
     "output_type": "stream",
     "text": [
      "┌ Info: Epoch 291\n",
      "│   train_loss = 0.004702016276458277\n",
      "│   val_loss = 0.4460705963988022\n",
      "│   train_accuracy = 1.0\n",
      "│   val_accuracy = 0.875\n",
      "└ @ Main.Test_name.Ship_detector.Model.Binary_model /Users/kaaso/Documents/coding/JuliaEO2024/src/ship_detector/model/classifyer/train_util.jl:81\n"
     ]
    },
    {
     "name": "stderr",
     "output_type": "stream",
     "text": [
      "┌ Info: Epoch 292\n",
      "│   train_loss = 0.007461070103108722\n",
      "│   val_loss = 0.46514290364762545\n",
      "│   train_accuracy = 0.9991319444444444\n",
      "│   val_accuracy = 0.86875\n",
      "└ @ Main.Test_name.Ship_detector.Model.Binary_model /Users/kaaso/Documents/coding/JuliaEO2024/src/ship_detector/model/classifyer/train_util.jl:81\n"
     ]
    },
    {
     "name": "stderr",
     "output_type": "stream",
     "text": [
      "┌ Info: Epoch 293\n",
      "│   train_loss = 0.006403836857039274\n",
      "│   val_loss = 0.48198995773082515\n",
      "│   train_accuracy = 1.0\n",
      "│   val_accuracy = 0.88125\n",
      "└ @ Main.Test_name.Ship_detector.Model.Binary_model /Users/kaaso/Documents/coding/JuliaEO2024/src/ship_detector/model/classifyer/train_util.jl:81\n"
     ]
    },
    {
     "name": "stderr",
     "output_type": "stream",
     "text": [
      "┌ Info: Epoch 294\n",
      "│   train_loss = 0.00842617139717621\n",
      "│   val_loss = 0.5439007804849554\n",
      "│   train_accuracy = 0.9982638888888888\n",
      "│   val_accuracy = 0.88125\n",
      "└ @ Main.Test_name.Ship_detector.Model.Binary_model /Users/kaaso/Documents/coding/JuliaEO2024/src/ship_detector/model/classifyer/train_util.jl:81\n"
     ]
    },
    {
     "name": "stderr",
     "output_type": "stream",
     "text": [
      "┌ Info: Epoch 295\n",
      "│   train_loss = 0.006145571370401344\n",
      "│   val_loss = 0.4314546703171609\n",
      "│   train_accuracy = 1.0\n",
      "│   val_accuracy = 0.86875\n",
      "└ @ Main.Test_name.Ship_detector.Model.Binary_model /Users/kaaso/Documents/coding/JuliaEO2024/src/ship_detector/model/classifyer/train_util.jl:81\n"
     ]
    },
    {
     "name": "stderr",
     "output_type": "stream",
     "text": [
      "┌ Info: Epoch 296\n",
      "│   train_loss = 0.009973783154299979\n",
      "│   val_loss = 0.4719693038001254\n",
      "│   train_accuracy = 1.0\n",
      "│   val_accuracy = 0.85625\n",
      "└ @ Main.Test_name.Ship_detector.Model.Binary_model /Users/kaaso/Documents/coding/JuliaEO2024/src/ship_detector/model/classifyer/train_util.jl:81\n"
     ]
    },
    {
     "name": "stderr",
     "output_type": "stream",
     "text": [
      "┌ Info: Epoch 297\n",
      "│   train_loss = 0.009073525483824776\n",
      "│   val_loss = 0.4822270921253156\n",
      "│   train_accuracy = 0.9982638888888888\n",
      "│   val_accuracy = 0.8875\n",
      "└ @ Main.Test_name.Ship_detector.Model.Binary_model /Users/kaaso/Documents/coding/JuliaEO2024/src/ship_detector/model/classifyer/train_util.jl:81\n"
     ]
    },
    {
     "name": "stderr",
     "output_type": "stream",
     "text": [
      "┌ Info: Epoch 298\n",
      "│   train_loss = 0.005465597344887773\n",
      "│   val_loss = 0.4500450858921477\n",
      "│   train_accuracy = 0.9991319444444444\n",
      "│   val_accuracy = 0.8625\n",
      "└ @ Main.Test_name.Ship_detector.Model.Binary_model /Users/kaaso/Documents/coding/JuliaEO2024/src/ship_detector/model/classifyer/train_util.jl:81\n"
     ]
    },
    {
     "name": "stderr",
     "output_type": "stream",
     "text": [
      "┌ Info: Epoch 299\n",
      "│   train_loss = 0.005537404136962056\n",
      "│   val_loss = 0.4606129293261959\n",
      "│   train_accuracy = 1.0\n",
      "│   val_accuracy = 0.89375\n",
      "└ @ Main.Test_name.Ship_detector.Model.Binary_model /Users/kaaso/Documents/coding/JuliaEO2024/src/ship_detector/model/classifyer/train_util.jl:81\n"
     ]
    },
    {
     "name": "stderr",
     "output_type": "stream",
     "text": [
      "┌ Info: Epoch 300\n",
      "│   train_loss = 0.004387154670094379\n",
      "│   val_loss = 0.4516339131930539\n",
      "│   train_accuracy = 1.0\n",
      "│   val_accuracy = 0.88125\n",
      "└ @ Main.Test_name.Ship_detector.Model.Binary_model /Users/kaaso/Documents/coding/JuliaEO2024/src/ship_detector/model/classifyer/train_util.jl:81\n"
     ]
    },
    {
     "name": "stderr",
     "output_type": "stream",
     "text": [
      "┌ Info: Epoch 301\n",
      "│   train_loss = 0.004077207474103598\n",
      "│   val_loss = 0.45100869105957014\n",
      "│   train_accuracy = 1.0\n",
      "│   val_accuracy = 0.89375\n",
      "└ @ Main.Test_name.Ship_detector.Model.Binary_model /Users/kaaso/Documents/coding/JuliaEO2024/src/ship_detector/model/classifyer/train_util.jl:81\n"
     ]
    },
    {
     "name": "stderr",
     "output_type": "stream",
     "text": [
      "┌ Info: Epoch 302\n",
      "│   train_loss = 0.0035041633412177878\n",
      "│   val_loss = 0.45998002644407593\n",
      "│   train_accuracy = 1.0\n",
      "│   val_accuracy = 0.8875\n",
      "└ @ Main.Test_name.Ship_detector.Model.Binary_model /Users/kaaso/Documents/coding/JuliaEO2024/src/ship_detector/model/classifyer/train_util.jl:81\n"
     ]
    },
    {
     "name": "stderr",
     "output_type": "stream",
     "text": [
      "┌ Info: Epoch 303\n",
      "│   train_loss = 0.0037131059025732344\n",
      "│   val_loss = 0.49143025183610395\n",
      "│   train_accuracy = 1.0\n",
      "│   val_accuracy = 0.86875\n",
      "└ @ Main.Test_name.Ship_detector.Model.Binary_model /Users/kaaso/Documents/coding/JuliaEO2024/src/ship_detector/model/classifyer/train_util.jl:81\n"
     ]
    },
    {
     "name": "stderr",
     "output_type": "stream",
     "text": [
      "┌ Info: Epoch 304\n",
      "│   train_loss = 0.0034983667606395164\n",
      "│   val_loss = 0.5596070146862693\n",
      "│   train_accuracy = 1.0\n",
      "│   val_accuracy = 0.88125\n",
      "└ @ Main.Test_name.Ship_detector.Model.Binary_model /Users/kaaso/Documents/coding/JuliaEO2024/src/ship_detector/model/classifyer/train_util.jl:81\n"
     ]
    },
    {
     "name": "stderr",
     "output_type": "stream",
     "text": [
      "┌ Info: Epoch 305\n",
      "│   train_loss = 0.0040294394869416945\n",
      "│   val_loss = 0.5081320653116125\n",
      "│   train_accuracy = 1.0\n",
      "│   val_accuracy = 0.86875\n",
      "└ @ Main.Test_name.Ship_detector.Model.Binary_model /Users/kaaso/Documents/coding/JuliaEO2024/src/ship_detector/model/classifyer/train_util.jl:81\n"
     ]
    },
    {
     "name": "stderr",
     "output_type": "stream",
     "text": [
      "┌ Info: Epoch 306\n",
      "│   train_loss = 0.0040390711556709405\n",
      "│   val_loss = 0.5364498866503328\n",
      "│   train_accuracy = 1.0\n",
      "│   val_accuracy = 0.875\n",
      "└ @ Main.Test_name.Ship_detector.Model.Binary_model /Users/kaaso/Documents/coding/JuliaEO2024/src/ship_detector/model/classifyer/train_util.jl:81\n"
     ]
    }
   ],
   "source": [
    "train_losses, train_accuracies, val_losses, val_accuracies =  Test_name.Ship_detector.Model.Binary_model.train_model(model, train_X_prepared, train_Y_prepared, val_X_prepared, val_Y_prepared, epochs, learning_rate, batch_size, loss_fn);"
   ]
  },
  {
   "cell_type": "markdown",
   "metadata": {},
   "source": [
    "<div class=\"alert alert-block alert-info\"> <b>Task: </b>\n",
    "\n",
    "1. Define some hyperparameters, e.g., learning rate and batch size.\n",
    "\n",
    "2. Train the model for a few epochs and see how the loss changes.\n",
    "\n",
    "3. Play around with the hyperparameters and model arcitecture to improve the model performance. \n",
    "\n",
    "4. Illustrate the loss of the model as a function of the number of epochs."
   ]
  },
  {
   "cell_type": "markdown",
   "metadata": {},
   "source": [
    "### plots"
   ]
  },
  {
   "cell_type": "code",
   "execution_count": 23,
   "metadata": {},
   "outputs": [
    {
     "ename": "UndefVarError",
     "evalue": "UndefVarError: `train_losses` not defined",
     "output_type": "error",
     "traceback": [
      "UndefVarError: `train_losses` not defined\n",
      "\n",
      "Stacktrace:\n",
      " [1] top-level scope\n",
      "   @ ~/Documents/coding/JuliaEO2024/Notebooks/2_Ship_binary_classification.ipynb:2"
     ]
    }
   ],
   "source": [
    "\n",
    "p1 = plot(1:length(train_losses), train_losses, label=\"Train Loss\", color=:blue, linewidth=2, linestyle=:solid)\n",
    "plot!(p1, 1:length(val_losses), val_losses, label=\"Validation Loss\", color=:red, linewidth=2, linestyle=:dash)\n",
    "title!(p1, \"Training and Validation Loss\")\n",
    "xlabel!(p1, \"Epoch\")\n",
    "ylabel!(p1, \"Loss\")\n",
    "\n",
    "plot(p1,  layout=(1,1), size=(600, 400))\n",
    "\n"
   ]
  },
  {
   "cell_type": "code",
   "execution_count": 24,
   "metadata": {},
   "outputs": [
    {
     "ename": "UndefVarError",
     "evalue": "UndefVarError: `train_accuracies` not defined",
     "output_type": "error",
     "traceback": [
      "UndefVarError: `train_accuracies` not defined\n",
      "\n",
      "Stacktrace:\n",
      " [1] top-level scope\n",
      "   @ ~/Documents/coding/JuliaEO2024/Notebooks/2_Ship_binary_classification.ipynb:3"
     ]
    }
   ],
   "source": [
    "\n",
    "\n",
    "p2 = plot(1:length(train_accuracies), train_accuracies, label=\"Train Accuracy\", color=:green, linewidth=2, linestyle=:solid)\n",
    "plot!(p2, 1:length(val_accuracies), val_accuracies, label=\"Validation Accuracy\", color=:purple, linewidth=2, linestyle=:dash)\n",
    "title!(p2, \"Training and Validation Accuracy\")\n",
    "xlabel!(p2, \"Epoch\")\n",
    "ylabel!(p2, \"Accuracy\")\n",
    "\n",
    "plot(p2,  layout=(1,1), size=(600, 400))\n"
   ]
  },
  {
   "cell_type": "markdown",
   "metadata": {},
   "source": [
    "## Finding Thresholds\n",
    " <a class=\"anchor\" id=\"threshold\"></a>\n",
    "Back to [Table of Content](#toc)"
   ]
  },
  {
   "cell_type": "markdown",
   "metadata": {},
   "source": [
    "The output of the model is a probability between 0 and 1. We can use this to make a prediction, e.g., if the probability is above a certain threshold, we can say that the model predicts that the image contains a ship.\n",
    "Often, a threshold of 0.5 is used, but this is not always optimal.\n",
    "\n",
    "\n",
    "\n"
   ]
  },
  {
   "cell_type": "code",
   "execution_count": 36,
   "metadata": {},
   "outputs": [],
   "source": [
    "# preparing the images for the model\n",
    "val_X_prepared =  Test_name.Ship_detector.Model.prepare_images(val_X)\n",
    "val_labels = reshape(Float32.(val_Y), 1, :)\n",
    "val_predictions = model(val_X_prepared);"
   ]
  },
  {
   "cell_type": "markdown",
   "metadata": {},
   "source": [
    "<div class=\"alert alert-block alert-info\"> <b>Task: </b>\n",
    "\n",
    "1. Find a threshold for the model.\n",
    "\n",
    "2. Illustrate the precision of the model as a function of the threshold.\n",
    "\n",
    "3. Illustrate the recall of the model as a function of the threshold."
   ]
  },
  {
   "cell_type": "code",
   "execution_count": 37,
   "metadata": {},
   "outputs": [],
   "source": [
    "thresholds = 0:0.05:1\n",
    "metrics_vector = Test_name.Ship_detector.Model.compute_metrics_vector(val_predictions, val_labels, thresholds);"
   ]
  },
  {
   "cell_type": "markdown",
   "metadata": {},
   "source": [
    "### Plots"
   ]
  },
  {
   "cell_type": "code",
   "execution_count": 38,
   "metadata": {},
   "outputs": [
    {
     "data": {
      "application/vnd.plotly.v1+json": {
       "data": [
        {
         "colorbar": {
          "len": 0.8657316272965879,
          "title": "",
          "x": 0.9934383202099737,
          "y": 0.5086805555555556
         },
         "legendgroup": "Ships accuracy",
         "line": {
          "color": "rgba(0, 154, 250, 1.000)",
          "dash": "solid",
          "shape": "linear",
          "width": 1
         },
         "mode": "lines",
         "name": "Ships accuracy",
         "showlegend": true,
         "type": "scatter",
         "x": [
          0,
          0.05,
          0.1,
          0.15,
          0.2,
          0.25,
          0.3,
          0.35,
          0.4,
          0.45,
          0.5,
          0.55,
          0.6,
          0.65,
          0.7,
          0.75,
          0.8,
          0.85,
          0.9,
          0.95,
          1
         ],
         "xaxis": "x",
         "y": [
          0.5171339563862928,
          0.6292834890965732,
          0.7040498442367601,
          0.7507788161993769,
          0.7663551401869159,
          0.7912772585669782,
          0.7850467289719626,
          0.778816199376947,
          0.7632398753894081,
          0.7663551401869159,
          0.7507788161993769,
          0.7445482866043613,
          0.7165109034267912,
          0.7071651090342679,
          0.7009345794392523,
          0.6978193146417445,
          0.6884735202492211,
          0.6635514018691588,
          0.6510903426791277,
          0.6105919003115264,
          0.48286604361370716
         ],
         "yaxis": "y"
        },
        {
         "colorbar": {
          "len": 0.8657316272965879,
          "title": "",
          "x": 0.9934383202099737,
          "y": 0.5086805555555556
         },
         "legendgroup": "Icebergs accuracy",
         "line": {
          "color": "rgba(227, 111, 71, 1.000)",
          "dash": "solid",
          "shape": "linear",
          "width": 1
         },
         "mode": "lines",
         "name": "Icebergs accuracy",
         "showlegend": true,
         "type": "scatter",
         "x": [
          0,
          0.05,
          0.1,
          0.15,
          0.2,
          0.25,
          0.3,
          0.35,
          0.4,
          0.45,
          0.5,
          0.55,
          0.6,
          0.65,
          0.7,
          0.75,
          0.8,
          0.85,
          0.9,
          0.95,
          1
         ],
         "xaxis": "x",
         "y": [
          0.5171339563862928,
          0.6292834890965732,
          0.7040498442367601,
          0.7507788161993769,
          0.7663551401869159,
          0.7912772585669782,
          0.7850467289719626,
          0.778816199376947,
          0.7632398753894081,
          0.7663551401869159,
          0.7507788161993769,
          0.7445482866043613,
          0.7165109034267912,
          0.7071651090342679,
          0.7009345794392523,
          0.6978193146417445,
          0.6884735202492211,
          0.6635514018691588,
          0.6510903426791277,
          0.6105919003115264,
          0.48286604361370716
         ],
         "yaxis": "y"
        }
       ],
       "layout": {
        "annotations": [
         {
          "font": {
           "color": "rgba(0, 0, 0, 1.000)",
           "family": "sans-serif",
           "size": 20
          },
          "rotation": 0,
          "showarrow": false,
          "text": "accuracy vs Threshold",
          "x": 0.5349537037037038,
          "xanchor": "center",
          "xref": "paper",
          "y": 1,
          "yanchor": "top",
          "yref": "paper"
         }
        ],
        "height": 400,
        "legend": {
         "bgcolor": "rgba(255, 255, 255, 1.000)",
         "bordercolor": "rgba(0, 0, 0, 1.000)",
         "borderwidth": 1,
         "font": {
          "color": "rgba(0, 0, 0, 1.000)",
          "family": "sans-serif",
          "size": 11
         },
         "title": {
          "font": {
           "color": "rgba(0, 0, 0, 1.000)",
           "family": "sans-serif",
           "size": 15
          },
          "text": ""
         },
         "tracegroupgap": 0,
         "traceorder": "normal",
         "x": 1,
         "xanchor": "auto",
         "y": 1,
         "yanchor": "auto"
        },
        "margin": {
         "b": 20,
         "l": 0,
         "r": 0,
         "t": 20
        },
        "paper_bgcolor": "rgba(255, 255, 255, 1.000)",
        "plot_bgcolor": "rgba(255, 255, 255, 1.000)",
        "showlegend": true,
        "width": 600,
        "xaxis": {
         "anchor": "y",
         "domain": [
          0.07646908719743364,
          0.9934383202099737
         ],
         "gridcolor": "rgba(0, 0, 0, 0.100)",
         "gridwidth": 0.5,
         "linecolor": "rgba(0, 0, 0, 1.000)",
         "mirror": false,
         "range": [
          -0.030000000000000027,
          1.03
         ],
         "showgrid": true,
         "showline": true,
         "showticklabels": true,
         "tickangle": 0,
         "tickcolor": "rgb(0, 0, 0)",
         "tickfont": {
          "color": "rgba(0, 0, 0, 1.000)",
          "family": "sans-serif",
          "size": 11
         },
         "tickmode": "array",
         "ticks": "inside",
         "ticktext": [
          "0.00",
          "0.25",
          "0.50",
          "0.75",
          "1.00"
         ],
         "tickvals": [
          0,
          0.25,
          0.5,
          0.75,
          1
         ],
         "title": "Threshold",
         "titlefont": {
          "color": "rgba(0, 0, 0, 1.000)",
          "family": "sans-serif",
          "size": 15
         },
         "type": "-",
         "visible": true,
         "zeroline": false,
         "zerolinecolor": "rgba(0, 0, 0, 1.000)"
        },
        "yaxis": {
         "anchor": "x",
         "domain": [
          0.07581474190726165,
          0.9415463692038496
         ],
         "gridcolor": "rgba(0, 0, 0, 0.100)",
         "gridwidth": 0.5,
         "linecolor": "rgba(0, 0, 0, 1.000)",
         "mirror": false,
         "range": [
          0.4736137071651091,
          0.8005295950155763
         ],
         "showgrid": true,
         "showline": true,
         "showticklabels": true,
         "tickangle": 0,
         "tickcolor": "rgb(0, 0, 0)",
         "tickfont": {
          "color": "rgba(0, 0, 0, 1.000)",
          "family": "sans-serif",
          "size": 11
         },
         "tickmode": "array",
         "ticks": "inside",
         "ticktext": [
          "0.5",
          "0.6",
          "0.7",
          "0.8"
         ],
         "tickvals": [
          0.5,
          0.6000000000000001,
          0.7000000000000001,
          0.8
         ],
         "title": "accuracy",
         "titlefont": {
          "color": "rgba(0, 0, 0, 1.000)",
          "family": "sans-serif",
          "size": 15
         },
         "type": "-",
         "visible": true,
         "zeroline": false,
         "zerolinecolor": "rgba(0, 0, 0, 1.000)"
        }
       }
      },
      "image/png": "[encoded data removed]",
      "image/svg+xml": [
       "<svg class=\"main-svg\" xmlns=\"http://www.w3.org/2000/svg\" xmlns:xlink=\"http://www.w3.org/1999/xlink\" width=\"700\" height=\"500\" style=\"\" viewBox=\"0 0 700 500\"><rect x=\"0\" y=\"0\" width=\"700\" height=\"500\" style=\"fill: rgb(255, 255, 255); fill-opacity: 1;\"/><defs id=\"defs-6c9a5e\"><g class=\"clips\"><clipPath id=\"clip6c9a5exyplot\" class=\"plotclip\"><rect width=\"550.181539807524\" height=\"337.6353346456693\"/></clipPath><clipPath class=\"axesclip\" id=\"clip6c9a5ex\"><rect x=\"95.88145231846019\" y=\"0\" width=\"550.181539807524\" height=\"500\"/></clipPath><clipPath class=\"axesclip\" id=\"clip6c9a5ey\"><rect x=\"0\" y=\"82.79691601049865\" width=\"700\" height=\"337.6353346456693\"/></clipPath><clipPath class=\"axesclip\" id=\"clip6c9a5exy\"><rect x=\"95.88145231846019\" y=\"82.79691601049865\" width=\"550.181539807524\" height=\"337.6353346456693\"/></clipPath></g><g class=\"gradients\"/></defs><g class=\"bglayer\"/><g class=\"layer-below\"><g class=\"imagelayer\"/><g class=\"shapelayer\"/></g><g class=\"cartesianlayer\"><g class=\"subplot xy\"><g class=\"layer-subplot\"><g class=\"shapelayer\"/><g class=\"imagelayer\"/></g><g class=\"gridlayer\"><g class=\"x\"><path class=\"xgrid crisp\" transform=\"translate(111.45145231846018,0)\" d=\"M0,82.79691601049865v337.6353346456693\" style=\"stroke: rgb(0, 0, 0); stroke-opacity: 0.1; stroke-width: 0.5px;\"/><path class=\"xgrid crisp\" transform=\"translate(241.2114523184602,0)\" d=\"M0,82.79691601049865v337.6353346456693\" style=\"stroke: rgb(0, 0, 0); stroke-opacity: 0.1; stroke-width: 0.5px;\"/><path class=\"xgrid crisp\" transform=\"translate(370.97145231846014,0)\" d=\"M0,82.79691601049865v337.6353346456693\" style=\"stroke: rgb(0, 0, 0); stroke-opacity: 0.1; stroke-width: 0.5px;\"/><path class=\"xgrid crisp\" transform=\"translate(500.73145231846024,0)\" d=\"M0,82.79691601049865v337.6353346456693\" style=\"stroke: rgb(0, 0, 0); stroke-opacity: 0.1; stroke-width: 0.5px;\"/><path class=\"xgrid crisp\" transform=\"translate(630.4914523184602,0)\" d=\"M0,82.79691601049865v337.6353346456693\" style=\"stroke: rgb(0, 0, 0); stroke-opacity: 0.1; stroke-width: 0.5px;\"/></g><g class=\"y\"><path class=\"ygrid crisp\" transform=\"translate(0,393.17691601049864)\" d=\"M95.88145231846019,0h550.181539807524\" style=\"stroke: rgb(0, 0, 0); stroke-opacity: 0.1; stroke-width: 0.5px;\"/><path class=\"ygrid crisp\" transform=\"translate(0,289.89691601049867)\" d=\"M95.88145231846019,0h550.181539807524\" style=\"stroke: rgb(0, 0, 0); stroke-opacity: 0.1; stroke-width: 0.5px;\"/><path class=\"ygrid crisp\" transform=\"translate(0,186.62691601049863)\" d=\"M95.88145231846019,0h550.181539807524\" style=\"stroke: rgb(0, 0, 0); stroke-opacity: 0.1; stroke-width: 0.5px;\"/></g></g><g class=\"zerolinelayer\"/><path class=\"xlines-below\"/><path class=\"ylines-below\"/><g class=\"overlines-below\"/><g class=\"xaxislayer-below\"/><g class=\"yaxislayer-below\"/><g class=\"overaxes-below\"/><g class=\"plot\" transform=\"translate(95.88145231846019,82.79691601049865)\" clip-path=\"url('#clip6c9a5exyplot')\"><g class=\"scatterlayer mlayer\"><g class=\"trace scatter trace3f9c28\" style=\"stroke-miterlimit: 2; opacity: 1;\"><g class=\"fills\"/><g class=\"errorbars\"/><g class=\"lines\"><path class=\"js-line\" d=\"M15.57,292.69L41.52,176.86L67.48,99.64L93.43,51.38L119.38,35.3L145.33,9.56L171.28,15.99L197.23,22.43L223.19,38.51L249.14,35.3L275.09,51.38L301.04,57.82L326.99,86.77L352.95,96.43L378.9,102.86L404.85,106.08L430.8,115.73L456.75,141.47L482.71,154.34L508.66,196.17L534.61,328.08\" style=\"vector-effect: non-scaling-stroke; fill: none; stroke: rgb(0, 154, 250); stroke-opacity: 1; stroke-width: 1px; opacity: 1;\"/></g><g class=\"points\"/><g class=\"text\"/></g><g class=\"trace scatter trace289586\" style=\"stroke-miterlimit: 2; opacity: 1;\"><g class=\"fills\"/><g class=\"errorbars\"/><g class=\"lines\"><path class=\"js-line\" d=\"M15.57,292.69L41.52,176.86L67.48,99.64L93.43,51.38L119.38,35.3L145.33,9.56L171.28,15.99L197.23,22.43L223.19,38.51L249.14,35.3L275.09,51.38L301.04,57.82L326.99,86.77L352.95,96.43L378.9,102.86L404.85,106.08L430.8,115.73L456.75,141.47L482.71,154.34L508.66,196.17L534.61,328.08\" style=\"vector-effect: non-scaling-stroke; fill: none; stroke: rgb(227, 111, 71); stroke-opacity: 1; stroke-width: 1px; opacity: 1;\"/></g><g class=\"points\"/><g class=\"text\"/></g></g></g><g class=\"overplot\"/><path class=\"xlines-above crisp\" d=\"M94.88145231846019,420.9322506561679H646.0629921259842\" style=\"fill: none; stroke-width: 1px; stroke: rgb(0, 0, 0); stroke-opacity: 1;\"/><path class=\"ylines-above crisp\" d=\"M95.38145231846019,82.79691601049865V420.4322506561679\" style=\"fill: none; stroke-width: 1px; stroke: rgb(0, 0, 0); stroke-opacity: 1;\"/><g class=\"overlines-above\"/><g class=\"xaxislayer-above\"><path class=\"xtick ticks crisp\" d=\"M0,420.4322506561679v-5\" transform=\"translate(111.45145231846018,0)\" style=\"stroke: rgb(0, 0, 0); stroke-opacity: 1; stroke-width: 1px;\"/><path class=\"xtick ticks crisp\" d=\"M0,420.4322506561679v-5\" transform=\"translate(241.2114523184602,0)\" style=\"stroke: rgb(0, 0, 0); stroke-opacity: 1; stroke-width: 1px;\"/><path class=\"xtick ticks crisp\" d=\"M0,420.4322506561679v-5\" transform=\"translate(370.97145231846014,0)\" style=\"stroke: rgb(0, 0, 0); stroke-opacity: 1; stroke-width: 1px;\"/><path class=\"xtick ticks crisp\" d=\"M0,420.4322506561679v-5\" transform=\"translate(500.73145231846024,0)\" style=\"stroke: rgb(0, 0, 0); stroke-opacity: 1; stroke-width: 1px;\"/><path class=\"xtick ticks crisp\" d=\"M0,420.4322506561679v-5\" transform=\"translate(630.4914523184602,0)\" style=\"stroke: rgb(0, 0, 0); stroke-opacity: 1; stroke-width: 1px;\"/><g class=\"xtick\"><text text-anchor=\"middle\" x=\"0\" y=\"434.6322506561679\" transform=\"translate(111.45145231846018,0)\" style=\"font-family: sans-serif; font-size: 11px; fill: rgb(0, 0, 0); fill-opacity: 1; white-space: pre;\">0.00</text></g><g class=\"xtick\"><text text-anchor=\"middle\" x=\"0\" y=\"434.6322506561679\" transform=\"translate(241.2114523184602,0)\" style=\"font-family: sans-serif; font-size: 11px; fill: rgb(0, 0, 0); fill-opacity: 1; white-space: pre;\">0.25</text></g><g class=\"xtick\"><text text-anchor=\"middle\" x=\"0\" y=\"434.6322506561679\" transform=\"translate(370.97145231846014,0)\" style=\"font-family: sans-serif; font-size: 11px; fill: rgb(0, 0, 0); fill-opacity: 1; white-space: pre;\">0.50</text></g><g class=\"xtick\"><text text-anchor=\"middle\" x=\"0\" y=\"434.6322506561679\" transform=\"translate(500.73145231846024,0)\" style=\"font-family: sans-serif; font-size: 11px; fill: rgb(0, 0, 0); fill-opacity: 1; white-space: pre;\">0.75</text></g><g class=\"xtick\"><text text-anchor=\"middle\" x=\"0\" y=\"434.6322506561679\" transform=\"translate(630.4914523184602,0)\" style=\"font-family: sans-serif; font-size: 11px; fill: rgb(0, 0, 0); fill-opacity: 1; white-space: pre;\">1.00</text></g></g><g class=\"yaxislayer-above\"><path class=\"ytick ticks crisp\" d=\"M95.88145231846019,0h5\" transform=\"translate(0,393.17691601049864)\" style=\"stroke: rgb(0, 0, 0); stroke-opacity: 1; stroke-width: 1px;\"/><path class=\"ytick ticks crisp\" d=\"M95.88145231846019,0h5\" transform=\"translate(0,289.89691601049867)\" style=\"stroke: rgb(0, 0, 0); stroke-opacity: 1; stroke-width: 1px;\"/><path class=\"ytick ticks crisp\" d=\"M95.88145231846019,0h5\" transform=\"translate(0,186.62691601049863)\" style=\"stroke: rgb(0, 0, 0); stroke-opacity: 1; stroke-width: 1px;\"/><g class=\"ytick\"><text text-anchor=\"end\" x=\"92.68145231846019\" y=\"3.8499999999999996\" transform=\"translate(0,393.17691601049864)\" style=\"font-family: sans-serif; font-size: 11px; fill: rgb(0, 0, 0); fill-opacity: 1; white-space: pre;\">0.5</text></g><g class=\"ytick\"><text text-anchor=\"end\" x=\"92.68145231846019\" y=\"3.8499999999999996\" transform=\"translate(0,289.89691601049867)\" style=\"font-family: sans-serif; font-size: 11px; fill: rgb(0, 0, 0); fill-opacity: 1; white-space: pre;\">0.6</text></g><g class=\"ytick\"><text text-anchor=\"end\" x=\"92.68145231846019\" y=\"3.8499999999999996\" transform=\"translate(0,186.62691601049863)\" style=\"font-family: sans-serif; font-size: 11px; fill: rgb(0, 0, 0); fill-opacity: 1; white-space: pre;\">0.7</text></g><g class=\"ytick\"><text text-anchor=\"end\" x=\"92.68145231846019\" y=\"3.8499999999999996\" transform=\"translate(0,83.34691601049865)\" style=\"font-family: sans-serif; font-size: 11px; fill: rgb(0, 0, 0); fill-opacity: 1; white-space: pre;\">0.8</text></g></g><g class=\"overaxes-above\"/></g></g><g class=\"polarlayer\"/><g class=\"ternarylayer\"/><g class=\"geolayer\"/><g class=\"funnelarealayer\"/><g class=\"pielayer\"/><g class=\"treemaplayer\"/><g class=\"sunburstlayer\"/><g class=\"glimages\"/><defs id=\"topdefs-6c9a5e\"><g class=\"clips\"/><clipPath id=\"legend6c9a5e\"><rect width=\"135\" height=\"48\" x=\"1\" y=\"1\"/></clipPath></defs><g class=\"layer-above\"><g class=\"imagelayer\"/><g class=\"shapelayer\"/></g><g class=\"infolayer\"><g class=\"legend\" pointer-events=\"all\" transform=\"translate(513,60)\"><rect class=\"bg\" shape-rendering=\"crispEdges\" style=\"stroke: rgb(0, 0, 0); stroke-opacity: 1; fill: rgb(255, 255, 255); fill-opacity: 1; stroke-width: 1px;\" width=\"136\" height=\"49\" x=\"0.5\" y=\"0.5\"/><g class=\"scrollbox\" transform=\"\" clip-path=\"url('#legend6c9a5e')\"><g class=\"groups\"><g class=\"traces\" transform=\"translate(1,15.5)\" style=\"opacity: 1;\"><text class=\"legendtext\" text-anchor=\"start\" x=\"40\" y=\"4.29\" style=\"font-family: sans-serif; font-size: 11px; fill: rgb(0, 0, 0); fill-opacity: 1; white-space: pre;\">Ships accuracy</text><g class=\"layers\" style=\"opacity: 1;\"><g class=\"legendfill\"/><g class=\"legendlines\"><path class=\"js-line\" d=\"M5,0h30\" style=\"fill: none; stroke: rgb(0, 154, 250); stroke-opacity: 1; stroke-width: 1px;\"/></g><g class=\"legendsymbols\"><g class=\"legendpoints\"/></g></g><rect class=\"legendtoggle\" x=\"0\" y=\"-9.5\" width=\"129.265625\" height=\"19\" style=\"fill: rgb(0, 0, 0); fill-opacity: 0;\"/></g><g class=\"traces\" transform=\"translate(1,34.5)\" style=\"opacity: 1;\"><text class=\"legendtext\" text-anchor=\"start\" x=\"40\" y=\"4.29\" style=\"font-family: sans-serif; font-size: 11px; fill: rgb(0, 0, 0); fill-opacity: 1; white-space: pre;\">Icebergs accuracy</text><g class=\"layers\" style=\"opacity: 1;\"><g class=\"legendfill\"/><g class=\"legendlines\"><path class=\"js-line\" d=\"M5,0h30\" style=\"fill: none; stroke: rgb(227, 111, 71); stroke-opacity: 1; stroke-width: 1px;\"/></g><g class=\"legendsymbols\"><g class=\"legendpoints\"/></g></g><rect class=\"legendtoggle\" x=\"0\" y=\"-9.5\" width=\"129.265625\" height=\"19\" style=\"fill: rgb(0, 0, 0); fill-opacity: 0;\"/></g></g></g><rect class=\"scrollbar\" rx=\"20\" ry=\"3\" width=\"0\" height=\"0\" style=\"fill: rgb(128, 139, 164); fill-opacity: 1;\" x=\"0\" y=\"0\"/></g><g class=\"g-gtitle\"/><g class=\"g-xtitle\"><text class=\"xtitle\" x=\"370.9722222222222\" y=\"462.640625\" text-anchor=\"middle\" style=\"font-family: sans-serif; font-size: 15px; fill: rgb(0, 0, 0); opacity: 1; font-weight: normal; white-space: pre;\">Threshold</text></g><g class=\"g-ytitle\"><text class=\"ytitle\" transform=\"rotate(-90,51.875,251.6145833333333)\" x=\"51.875\" y=\"251.6145833333333\" text-anchor=\"middle\" style=\"font-family: sans-serif; font-size: 15px; fill: rgb(0, 0, 0); opacity: 1; font-weight: normal; white-space: pre;\">accuracy</text></g><g class=\"annotation\" data-index=\"0\" style=\"opacity: 1;\"><g class=\"annotation-text-g\" transform=\"rotate(0,370.9722222222223,73)\"><g class=\"cursor-pointer\" transform=\"translate(269,60)\"><rect class=\"bg\" x=\"0.5\" y=\"0.5\" width=\"203\" height=\"25\" style=\"stroke-width: 1px; stroke: rgb(0, 0, 0); stroke-opacity: 0; fill: rgb(0, 0, 0); fill-opacity: 0;\"/><text class=\"annotation-text\" text-anchor=\"middle\" x=\"102.046875\" y=\"20\" style=\"font-family: sans-serif; font-size: 20px; fill: rgb(0, 0, 0); fill-opacity: 1; white-space: pre;\">accuracy vs Threshold</text></g></g></g></g></svg>"
      ],
      "text/html": [
       "<script src=\"https://cdn.plot.ly/plotly-2.6.3.min.js\"></script>    <div id=\"e87d6078-21c8-4f9e-8f5d-5cf34b9056b8\" style=\"width:600px;height:400px;\"></div>\n",
       "    <script>\n",
       "    \n",
       "    Plotly.newPlot('e87d6078-21c8-4f9e-8f5d-5cf34b9056b8', [\n",
       "    {\n",
       "        \"showlegend\": true,\n",
       "        \"mode\": \"lines\",\n",
       "        \"xaxis\": \"x\",\n",
       "        \"colorbar\": {\n",
       "            \"y\": 0.5086805555555556,\n",
       "            \"title\": \"\",\n",
       "            \"len\": 0.8657316272965879,\n",
       "            \"x\": 0.9934383202099737\n",
       "        },\n",
       "        \"name\": \"Ships accuracy\",\n",
       "        \"yaxis\": \"y\",\n",
       "        \"legendgroup\": \"Ships accuracy\",\n",
       "        \"line\": {\n",
       "            \"color\": \"rgba(0, 154, 250, 1.000)\",\n",
       "            \"shape\": \"linear\",\n",
       "            \"dash\": \"solid\",\n",
       "            \"width\": 1\n",
       "        },\n",
       "        \"y\": [\n",
       "            0.5171339563862928,\n",
       "            0.6292834890965732,\n",
       "            0.7040498442367601,\n",
       "            0.7507788161993769,\n",
       "            0.7663551401869159,\n",
       "            0.7912772585669782,\n",
       "            0.7850467289719626,\n",
       "            0.778816199376947,\n",
       "            0.7632398753894081,\n",
       "            0.7663551401869159,\n",
       "            0.7507788161993769,\n",
       "            0.7445482866043613,\n",
       "            0.7165109034267912,\n",
       "            0.7071651090342679,\n",
       "            0.7009345794392523,\n",
       "            0.6978193146417445,\n",
       "            0.6884735202492211,\n",
       "            0.6635514018691588,\n",
       "            0.6510903426791277,\n",
       "            0.6105919003115264,\n",
       "            0.48286604361370716\n",
       "        ],\n",
       "        \"type\": \"scatter\",\n",
       "        \"x\": [\n",
       "            0.0,\n",
       "            0.05,\n",
       "            0.1,\n",
       "            0.15,\n",
       "            0.2,\n",
       "            0.25,\n",
       "            0.3,\n",
       "            0.35,\n",
       "            0.4,\n",
       "            0.45,\n",
       "            0.5,\n",
       "            0.55,\n",
       "            0.6,\n",
       "            0.65,\n",
       "            0.7,\n",
       "            0.75,\n",
       "            0.8,\n",
       "            0.85,\n",
       "            0.9,\n",
       "            0.95,\n",
       "            1.0\n",
       "        ]\n",
       "    },\n",
       "    {\n",
       "        \"showlegend\": true,\n",
       "        \"mode\": \"lines\",\n",
       "        \"xaxis\": \"x\",\n",
       "        \"colorbar\": {\n",
       "            \"y\": 0.5086805555555556,\n",
       "            \"title\": \"\",\n",
       "            \"len\": 0.8657316272965879,\n",
       "            \"x\": 0.9934383202099737\n",
       "        },\n",
       "        \"name\": \"Icebergs accuracy\",\n",
       "        \"yaxis\": \"y\",\n",
       "        \"legendgroup\": \"Icebergs accuracy\",\n",
       "        \"line\": {\n",
       "            \"color\": \"rgba(227, 111, 71, 1.000)\",\n",
       "            \"shape\": \"linear\",\n",
       "            \"dash\": \"solid\",\n",
       "            \"width\": 1\n",
       "        },\n",
       "        \"y\": [\n",
       "            0.5171339563862928,\n",
       "            0.6292834890965732,\n",
       "            0.7040498442367601,\n",
       "            0.7507788161993769,\n",
       "            0.7663551401869159,\n",
       "            0.7912772585669782,\n",
       "            0.7850467289719626,\n",
       "            0.778816199376947,\n",
       "            0.7632398753894081,\n",
       "            0.7663551401869159,\n",
       "            0.7507788161993769,\n",
       "            0.7445482866043613,\n",
       "            0.7165109034267912,\n",
       "            0.7071651090342679,\n",
       "            0.7009345794392523,\n",
       "            0.6978193146417445,\n",
       "            0.6884735202492211,\n",
       "            0.6635514018691588,\n",
       "            0.6510903426791277,\n",
       "            0.6105919003115264,\n",
       "            0.48286604361370716\n",
       "        ],\n",
       "        \"type\": \"scatter\",\n",
       "        \"x\": [\n",
       "            0.0,\n",
       "            0.05,\n",
       "            0.1,\n",
       "            0.15,\n",
       "            0.2,\n",
       "            0.25,\n",
       "            0.3,\n",
       "            0.35,\n",
       "            0.4,\n",
       "            0.45,\n",
       "            0.5,\n",
       "            0.55,\n",
       "            0.6,\n",
       "            0.65,\n",
       "            0.7,\n",
       "            0.75,\n",
       "            0.8,\n",
       "            0.85,\n",
       "            0.9,\n",
       "            0.95,\n",
       "            1.0\n",
       "        ]\n",
       "    }\n",
       "]\n",
       ", {\n",
       "    \"showlegend\": true,\n",
       "    \"xaxis\": {\n",
       "        \"showticklabels\": true,\n",
       "        \"gridwidth\": 0.5,\n",
       "        \"tickvals\": [\n",
       "            0.0,\n",
       "            0.25,\n",
       "            0.5,\n",
       "            0.75,\n",
       "            1.0\n",
       "        ],\n",
       "        \"range\": [\n",
       "            -0.030000000000000027,\n",
       "            1.03\n",
       "        ],\n",
       "        \"domain\": [\n",
       "            0.07646908719743364,\n",
       "            0.9934383202099737\n",
       "        ],\n",
       "        \"mirror\": false,\n",
       "        \"tickangle\": 0,\n",
       "        \"showline\": true,\n",
       "        \"ticktext\": [\n",
       "            \"0.00\",\n",
       "            \"0.25\",\n",
       "            \"0.50\",\n",
       "            \"0.75\",\n",
       "            \"1.00\"\n",
       "        ],\n",
       "        \"zeroline\": false,\n",
       "        \"tickfont\": {\n",
       "            \"color\": \"rgba(0, 0, 0, 1.000)\",\n",
       "            \"family\": \"sans-serif\",\n",
       "            \"size\": 11\n",
       "        },\n",
       "        \"zerolinecolor\": \"rgba(0, 0, 0, 1.000)\",\n",
       "        \"anchor\": \"y\",\n",
       "        \"visible\": true,\n",
       "        \"ticks\": \"inside\",\n",
       "        \"tickmode\": \"array\",\n",
       "        \"linecolor\": \"rgba(0, 0, 0, 1.000)\",\n",
       "        \"showgrid\": true,\n",
       "        \"title\": \"Threshold\",\n",
       "        \"gridcolor\": \"rgba(0, 0, 0, 0.100)\",\n",
       "        \"titlefont\": {\n",
       "            \"color\": \"rgba(0, 0, 0, 1.000)\",\n",
       "            \"family\": \"sans-serif\",\n",
       "            \"size\": 15\n",
       "        },\n",
       "        \"tickcolor\": \"rgb(0, 0, 0)\",\n",
       "        \"type\": \"-\"\n",
       "    },\n",
       "    \"paper_bgcolor\": \"rgba(255, 255, 255, 1.000)\",\n",
       "    \"annotations\": [\n",
       "        {\n",
       "            \"yanchor\": \"top\",\n",
       "            \"xanchor\": \"center\",\n",
       "            \"rotation\": -0.0,\n",
       "            \"y\": 1.0,\n",
       "            \"font\": {\n",
       "                \"color\": \"rgba(0, 0, 0, 1.000)\",\n",
       "                \"family\": \"sans-serif\",\n",
       "                \"size\": 20\n",
       "            },\n",
       "            \"yref\": \"paper\",\n",
       "            \"showarrow\": false,\n",
       "            \"text\": \"accuracy vs Threshold\",\n",
       "            \"xref\": \"paper\",\n",
       "            \"x\": 0.5349537037037038\n",
       "        }\n",
       "    ],\n",
       "    \"height\": 400,\n",
       "    \"margin\": {\n",
       "        \"l\": 0,\n",
       "        \"b\": 20,\n",
       "        \"r\": 0,\n",
       "        \"t\": 20\n",
       "    },\n",
       "    \"plot_bgcolor\": \"rgba(255, 255, 255, 1.000)\",\n",
       "    \"yaxis\": {\n",
       "        \"showticklabels\": true,\n",
       "        \"gridwidth\": 0.5,\n",
       "        \"tickvals\": [\n",
       "            0.5,\n",
       "            0.6000000000000001,\n",
       "            0.7000000000000001,\n",
       "            0.8\n",
       "        ],\n",
       "        \"range\": [\n",
       "            0.4736137071651091,\n",
       "            0.8005295950155763\n",
       "        ],\n",
       "        \"domain\": [\n",
       "            0.07581474190726165,\n",
       "            0.9415463692038496\n",
       "        ],\n",
       "        \"mirror\": false,\n",
       "        \"tickangle\": 0,\n",
       "        \"showline\": true,\n",
       "        \"ticktext\": [\n",
       "            \"0.5\",\n",
       "            \"0.6\",\n",
       "            \"0.7\",\n",
       "            \"0.8\"\n",
       "        ],\n",
       "        \"zeroline\": false,\n",
       "        \"tickfont\": {\n",
       "            \"color\": \"rgba(0, 0, 0, 1.000)\",\n",
       "            \"family\": \"sans-serif\",\n",
       "            \"size\": 11\n",
       "        },\n",
       "        \"zerolinecolor\": \"rgba(0, 0, 0, 1.000)\",\n",
       "        \"anchor\": \"x\",\n",
       "        \"visible\": true,\n",
       "        \"ticks\": \"inside\",\n",
       "        \"tickmode\": \"array\",\n",
       "        \"linecolor\": \"rgba(0, 0, 0, 1.000)\",\n",
       "        \"showgrid\": true,\n",
       "        \"title\": \"accuracy\",\n",
       "        \"gridcolor\": \"rgba(0, 0, 0, 0.100)\",\n",
       "        \"titlefont\": {\n",
       "            \"color\": \"rgba(0, 0, 0, 1.000)\",\n",
       "            \"family\": \"sans-serif\",\n",
       "            \"size\": 15\n",
       "        },\n",
       "        \"tickcolor\": \"rgb(0, 0, 0)\",\n",
       "        \"type\": \"-\"\n",
       "    },\n",
       "    \"legend\": {\n",
       "        \"yanchor\": \"auto\",\n",
       "        \"xanchor\": \"auto\",\n",
       "        \"bordercolor\": \"rgba(0, 0, 0, 1.000)\",\n",
       "        \"bgcolor\": \"rgba(255, 255, 255, 1.000)\",\n",
       "        \"borderwidth\": 1,\n",
       "        \"tracegroupgap\": 0,\n",
       "        \"y\": 1.0,\n",
       "        \"font\": {\n",
       "            \"color\": \"rgba(0, 0, 0, 1.000)\",\n",
       "            \"family\": \"sans-serif\",\n",
       "            \"size\": 11\n",
       "        },\n",
       "        \"title\": {\n",
       "            \"font\": {\n",
       "                \"color\": \"rgba(0, 0, 0, 1.000)\",\n",
       "                \"family\": \"sans-serif\",\n",
       "                \"size\": 15\n",
       "            },\n",
       "            \"text\": \"\"\n",
       "        },\n",
       "        \"traceorder\": \"normal\",\n",
       "        \"x\": 1.0\n",
       "    },\n",
       "    \"width\": 600\n",
       "}\n",
       ");\n",
       "    \n",
       "    </script>\n"
      ]
     },
     "metadata": {},
     "output_type": "display_data"
    }
   ],
   "source": [
    "# Assuming metrics_vector contains your metrics data as previously computed\n",
    "Test_name.Visualize.plot_combined_metrics(metrics_vector, :accuracy)"
   ]
  },
  {
   "cell_type": "code",
   "execution_count": 39,
   "metadata": {},
   "outputs": [
    {
     "data": {
      "application/vnd.plotly.v1+json": {
       "data": [
        {
         "colorbar": {
          "len": 0.8657316272965879,
          "title": "",
          "x": 0.9934383202099738,
          "y": 0.5086805555555556
         },
         "legendgroup": "Ships recall",
         "line": {
          "color": "rgba(0, 154, 250, 1.000)",
          "dash": "solid",
          "shape": "linear",
          "width": 1
         },
         "mode": "lines",
         "name": "Ships recall",
         "showlegend": true,
         "type": "scatter",
         "x": [
          0,
          0.05,
          0.1,
          0.15,
          0.2,
          0.25,
          0.3,
          0.35,
          0.4,
          0.45,
          0.5,
          0.55,
          0.6,
          0.65,
          0.7,
          0.75,
          0.8,
          0.85,
          0.9,
          0.95,
          1
         ],
         "xaxis": "x",
         "y": [
          1,
          0.9939759036144579,
          0.9819277108433735,
          0.963855421686747,
          0.9216867469879518,
          0.9036144578313253,
          0.8614457831325302,
          0.7951807228915663,
          0.7349397590361446,
          0.6867469879518072,
          0.6385542168674698,
          0.5903614457831325,
          0.536144578313253,
          0.4879518072289157,
          0.4578313253012048,
          0.43373493975903615,
          0.4036144578313253,
          0.35542168674698793,
          0.3313253012048193,
          0.25301204819277107,
          0
         ],
         "yaxis": "y"
        },
        {
         "colorbar": {
          "len": 0.8657316272965879,
          "title": "",
          "x": 0.9934383202099738,
          "y": 0.5086805555555556
         },
         "legendgroup": "Icebergs recall",
         "line": {
          "color": "rgba(227, 111, 71, 1.000)",
          "dash": "solid",
          "shape": "linear",
          "width": 1
         },
         "mode": "lines",
         "name": "Icebergs recall",
         "showlegend": true,
         "type": "scatter",
         "x": [
          0,
          0.05,
          0.1,
          0.15,
          0.2,
          0.25,
          0.3,
          0.35,
          0.4,
          0.45,
          0.5,
          0.55,
          0.6,
          0.65,
          0.7,
          0.75,
          0.8,
          0.85,
          0.9,
          0.95,
          1
         ],
         "xaxis": "x",
         "y": [
          0,
          0.23870967741935484,
          0.4064516129032258,
          0.5225806451612903,
          0.6,
          0.6709677419354839,
          0.7032258064516129,
          0.7612903225806451,
          0.7935483870967742,
          0.8516129032258064,
          0.8709677419354839,
          0.9096774193548387,
          0.9096774193548387,
          0.9419354838709677,
          0.9612903225806452,
          0.9806451612903225,
          0.9935483870967742,
          0.9935483870967742,
          0.9935483870967742,
          0.9935483870967742,
          1
         ],
         "yaxis": "y"
        }
       ],
       "layout": {
        "annotations": [
         {
          "font": {
           "color": "rgba(0, 0, 0, 1.000)",
           "family": "sans-serif",
           "size": 20
          },
          "rotation": 0,
          "showarrow": false,
          "text": "recall vs Threshold",
          "x": 0.5423611111111111,
          "xanchor": "center",
          "xref": "paper",
          "y": 1,
          "yanchor": "top",
          "yref": "paper"
         }
        ],
        "height": 400,
        "legend": {
         "bgcolor": "rgba(255, 255, 255, 1.000)",
         "bordercolor": "rgba(0, 0, 0, 1.000)",
         "borderwidth": 1,
         "font": {
          "color": "rgba(0, 0, 0, 1.000)",
          "family": "sans-serif",
          "size": 11
         },
         "title": {
          "font": {
           "color": "rgba(0, 0, 0, 1.000)",
           "family": "sans-serif",
           "size": 15
          },
          "text": ""
         },
         "tracegroupgap": 0,
         "traceorder": "normal",
         "x": 1,
         "xanchor": "auto",
         "y": 1,
         "yanchor": "auto"
        },
        "margin": {
         "b": 20,
         "l": 0,
         "r": 0,
         "t": 20
        },
        "paper_bgcolor": "rgba(255, 255, 255, 1.000)",
        "plot_bgcolor": "rgba(255, 255, 255, 1.000)",
        "showlegend": true,
        "width": 600,
        "xaxis": {
         "anchor": "y",
         "domain": [
          0.09128390201224845,
          0.9934383202099738
         ],
         "gridcolor": "rgba(0, 0, 0, 0.100)",
         "gridwidth": 0.5,
         "linecolor": "rgba(0, 0, 0, 1.000)",
         "mirror": false,
         "range": [
          -0.030000000000000027,
          1.03
         ],
         "showgrid": true,
         "showline": true,
         "showticklabels": true,
         "tickangle": 0,
         "tickcolor": "rgb(0, 0, 0)",
         "tickfont": {
          "color": "rgba(0, 0, 0, 1.000)",
          "family": "sans-serif",
          "size": 11
         },
         "tickmode": "array",
         "ticks": "inside",
         "ticktext": [
          "0.00",
          "0.25",
          "0.50",
          "0.75",
          "1.00"
         ],
         "tickvals": [
          0,
          0.25,
          0.5,
          0.75,
          1
         ],
         "title": "Threshold",
         "titlefont": {
          "color": "rgba(0, 0, 0, 1.000)",
          "family": "sans-serif",
          "size": 15
         },
         "type": "-",
         "visible": true,
         "zeroline": false,
         "zerolinecolor": "rgba(0, 0, 0, 1.000)"
        },
        "yaxis": {
         "anchor": "x",
         "domain": [
          0.07581474190726165,
          0.9415463692038496
         ],
         "gridcolor": "rgba(0, 0, 0, 0.100)",
         "gridwidth": 0.5,
         "linecolor": "rgba(0, 0, 0, 1.000)",
         "mirror": false,
         "range": [
          -0.030000000000000027,
          1.03
         ],
         "showgrid": true,
         "showline": true,
         "showticklabels": true,
         "tickangle": 0,
         "tickcolor": "rgb(0, 0, 0)",
         "tickfont": {
          "color": "rgba(0, 0, 0, 1.000)",
          "family": "sans-serif",
          "size": 11
         },
         "tickmode": "array",
         "ticks": "inside",
         "ticktext": [
          "0.00",
          "0.25",
          "0.50",
          "0.75",
          "1.00"
         ],
         "tickvals": [
          0,
          0.25,
          0.5,
          0.75,
          1
         ],
         "title": "recall",
         "titlefont": {
          "color": "rgba(0, 0, 0, 1.000)",
          "family": "sans-serif",
          "size": 15
         },
         "type": "-",
         "visible": true,
         "zeroline": false,
         "zerolinecolor": "rgba(0, 0, 0, 1.000)"
        }
       }
      },
      "image/png": "[encoded data removed]",
      "image/svg+xml": [
       "<svg class=\"main-svg\" xmlns=\"http://www.w3.org/2000/svg\" xmlns:xlink=\"http://www.w3.org/1999/xlink\" width=\"700\" height=\"500\" style=\"\" viewBox=\"0 0 700 500\"><rect x=\"0\" y=\"0\" width=\"700\" height=\"500\" style=\"fill: rgb(255, 255, 255); fill-opacity: 1;\"/><defs id=\"defs-eaa28c\"><g class=\"clips\"><clipPath id=\"clipeaa28cxyplot\" class=\"plotclip\"><rect width=\"541.2926509186352\" height=\"337.6353346456693\"/></clipPath><clipPath class=\"axesclip\" id=\"clipeaa28cx\"><rect x=\"104.77034120734908\" y=\"0\" width=\"541.2926509186352\" height=\"500\"/></clipPath><clipPath class=\"axesclip\" id=\"clipeaa28cy\"><rect x=\"0\" y=\"82.79691601049865\" width=\"700\" height=\"337.6353346456693\"/></clipPath><clipPath class=\"axesclip\" id=\"clipeaa28cxy\"><rect x=\"104.77034120734908\" y=\"82.79691601049865\" width=\"541.2926509186352\" height=\"337.6353346456693\"/></clipPath></g><g class=\"gradients\"/></defs><g class=\"bglayer\"/><g class=\"layer-below\"><g class=\"imagelayer\"/><g class=\"shapelayer\"/></g><g class=\"cartesianlayer\"><g class=\"subplot xy\"><g class=\"layer-subplot\"><g class=\"shapelayer\"/><g class=\"imagelayer\"/></g><g class=\"gridlayer\"><g class=\"x\"><path class=\"xgrid crisp\" transform=\"translate(120.09034120734907,0)\" d=\"M0,82.79691601049865v337.6353346456693\" style=\"stroke: rgb(0, 0, 0); stroke-opacity: 0.1; stroke-width: 0.5px;\"/><path class=\"xgrid crisp\" transform=\"translate(247.75034120734907,0)\" d=\"M0,82.79691601049865v337.6353346456693\" style=\"stroke: rgb(0, 0, 0); stroke-opacity: 0.1; stroke-width: 0.5px;\"/><path class=\"xgrid crisp\" transform=\"translate(375.42034120734905,0)\" d=\"M0,82.79691601049865v337.6353346456693\" style=\"stroke: rgb(0, 0, 0); stroke-opacity: 0.1; stroke-width: 0.5px;\"/><path class=\"xgrid crisp\" transform=\"translate(503.0803412073491,0)\" d=\"M0,82.79691601049865v337.6353346456693\" style=\"stroke: rgb(0, 0, 0); stroke-opacity: 0.1; stroke-width: 0.5px;\"/><path class=\"xgrid crisp\" transform=\"translate(630.740341207349,0)\" d=\"M0,82.79691601049865v337.6353346456693\" style=\"stroke: rgb(0, 0, 0); stroke-opacity: 0.1; stroke-width: 0.5px;\"/></g><g class=\"y\"><path class=\"ygrid crisp\" transform=\"translate(0,410.87691601049863)\" d=\"M104.77034120734908,0h541.2926509186352\" style=\"stroke: rgb(0, 0, 0); stroke-opacity: 0.1; stroke-width: 0.5px;\"/><path class=\"ygrid crisp\" transform=\"translate(0,331.24691601049864)\" d=\"M104.77034120734908,0h541.2926509186352\" style=\"stroke: rgb(0, 0, 0); stroke-opacity: 0.1; stroke-width: 0.5px;\"/><path class=\"ygrid crisp\" transform=\"translate(0,251.61691601049864)\" d=\"M104.77034120734908,0h541.2926509186352\" style=\"stroke: rgb(0, 0, 0); stroke-opacity: 0.1; stroke-width: 0.5px;\"/><path class=\"ygrid crisp\" transform=\"translate(0,171.98691601049865)\" d=\"M104.77034120734908,0h541.2926509186352\" style=\"stroke: rgb(0, 0, 0); stroke-opacity: 0.1; stroke-width: 0.5px;\"/><path class=\"ygrid crisp\" transform=\"translate(0,92.35691601049865)\" d=\"M104.77034120734908,0h541.2926509186352\" style=\"stroke: rgb(0, 0, 0); stroke-opacity: 0.1; stroke-width: 0.5px;\"/></g></g><g class=\"zerolinelayer\"/><path class=\"xlines-below\"/><path class=\"ylines-below\"/><g class=\"overlines-below\"/><g class=\"xaxislayer-below\"/><g class=\"yaxislayer-below\"/><g class=\"overaxes-below\"/><g class=\"plot\" transform=\"translate(104.77034120734908,82.79691601049865)\" clip-path=\"url('#clipeaa28cxyplot')\"><g class=\"scatterlayer mlayer\"><g class=\"trace scatter trace3df9d5\" style=\"stroke-miterlimit: 2; opacity: 1;\"><g class=\"fills\"/><g class=\"errorbars\"/><g class=\"lines\"><path class=\"js-line\" d=\"M15.32,9.56L40.85,11.47L66.38,15.31L91.92,21.07L117.45,34.5L142.98,40.26L168.52,53.69L194.05,74.8L219.58,93.98L296.18,140.04L321.71,157.3L347.24,172.66L372.78,182.25L398.31,189.92L423.84,199.52L449.38,214.87L474.91,222.54L500.44,247.49L525.97,328.08\" style=\"vector-effect: non-scaling-stroke; fill: none; stroke: rgb(0, 154, 250); stroke-opacity: 1; stroke-width: 1px; opacity: 1;\"/></g><g class=\"points\"/><g class=\"text\"/></g><g class=\"trace scatter tracee5611c\" style=\"stroke-miterlimit: 2; opacity: 1;\"><g class=\"fills\"/><g class=\"errorbars\"/><g class=\"lines\"><path class=\"js-line\" d=\"M15.32,328.08L40.85,252.04L66.38,198.62L91.92,161.63L117.45,136.97L142.98,114.36L168.52,104.09L194.05,85.59L219.58,75.32L245.11,56.82L270.65,50.66L296.18,38.33L321.71,38.33L347.24,28.05L372.78,21.89L398.31,15.72L423.84,11.61L500.44,11.61L525.97,9.56\" style=\"vector-effect: non-scaling-stroke; fill: none; stroke: rgb(227, 111, 71); stroke-opacity: 1; stroke-width: 1px; opacity: 1;\"/></g><g class=\"points\"/><g class=\"text\"/></g></g></g><g class=\"overplot\"/><path class=\"xlines-above crisp\" d=\"M103.77034120734908,420.9322506561679H646.0629921259842\" style=\"fill: none; stroke-width: 1px; stroke: rgb(0, 0, 0); stroke-opacity: 1;\"/><path class=\"ylines-above crisp\" d=\"M104.27034120734908,82.79691601049865V420.4322506561679\" style=\"fill: none; stroke-width: 1px; stroke: rgb(0, 0, 0); stroke-opacity: 1;\"/><g class=\"overlines-above\"/><g class=\"xaxislayer-above\"><path class=\"xtick ticks crisp\" d=\"M0,420.4322506561679v-5\" transform=\"translate(120.09034120734907,0)\" style=\"stroke: rgb(0, 0, 0); stroke-opacity: 1; stroke-width: 1px;\"/><path class=\"xtick ticks crisp\" d=\"M0,420.4322506561679v-5\" transform=\"translate(247.75034120734907,0)\" style=\"stroke: rgb(0, 0, 0); stroke-opacity: 1; stroke-width: 1px;\"/><path class=\"xtick ticks crisp\" d=\"M0,420.4322506561679v-5\" transform=\"translate(375.42034120734905,0)\" style=\"stroke: rgb(0, 0, 0); stroke-opacity: 1; stroke-width: 1px;\"/><path class=\"xtick ticks crisp\" d=\"M0,420.4322506561679v-5\" transform=\"translate(503.0803412073491,0)\" style=\"stroke: rgb(0, 0, 0); stroke-opacity: 1; stroke-width: 1px;\"/><path class=\"xtick ticks crisp\" d=\"M0,420.4322506561679v-5\" transform=\"translate(630.740341207349,0)\" style=\"stroke: rgb(0, 0, 0); stroke-opacity: 1; stroke-width: 1px;\"/><g class=\"xtick\"><text text-anchor=\"middle\" x=\"0\" y=\"434.6322506561679\" transform=\"translate(120.09034120734907,0)\" style=\"font-family: sans-serif; font-size: 11px; fill: rgb(0, 0, 0); fill-opacity: 1; white-space: pre;\">0.00</text></g><g class=\"xtick\"><text text-anchor=\"middle\" x=\"0\" y=\"434.6322506561679\" transform=\"translate(247.75034120734907,0)\" style=\"font-family: sans-serif; font-size: 11px; fill: rgb(0, 0, 0); fill-opacity: 1; white-space: pre;\">0.25</text></g><g class=\"xtick\"><text text-anchor=\"middle\" x=\"0\" y=\"434.6322506561679\" transform=\"translate(375.42034120734905,0)\" style=\"font-family: sans-serif; font-size: 11px; fill: rgb(0, 0, 0); fill-opacity: 1; white-space: pre;\">0.50</text></g><g class=\"xtick\"><text text-anchor=\"middle\" x=\"0\" y=\"434.6322506561679\" transform=\"translate(503.0803412073491,0)\" style=\"font-family: sans-serif; font-size: 11px; fill: rgb(0, 0, 0); fill-opacity: 1; white-space: pre;\">0.75</text></g><g class=\"xtick\"><text text-anchor=\"middle\" x=\"0\" y=\"434.6322506561679\" transform=\"translate(630.740341207349,0)\" style=\"font-family: sans-serif; font-size: 11px; fill: rgb(0, 0, 0); fill-opacity: 1; white-space: pre;\">1.00</text></g></g><g class=\"yaxislayer-above\"><path class=\"ytick ticks crisp\" d=\"M104.77034120734908,0h5\" transform=\"translate(0,410.87691601049863)\" style=\"stroke: rgb(0, 0, 0); stroke-opacity: 1; stroke-width: 1px;\"/><path class=\"ytick ticks crisp\" d=\"M104.77034120734908,0h5\" transform=\"translate(0,331.24691601049864)\" style=\"stroke: rgb(0, 0, 0); stroke-opacity: 1; stroke-width: 1px;\"/><path class=\"ytick ticks crisp\" d=\"M104.77034120734908,0h5\" transform=\"translate(0,251.61691601049864)\" style=\"stroke: rgb(0, 0, 0); stroke-opacity: 1; stroke-width: 1px;\"/><path class=\"ytick ticks crisp\" d=\"M104.77034120734908,0h5\" transform=\"translate(0,171.98691601049865)\" style=\"stroke: rgb(0, 0, 0); stroke-opacity: 1; stroke-width: 1px;\"/><path class=\"ytick ticks crisp\" d=\"M104.77034120734908,0h5\" transform=\"translate(0,92.35691601049865)\" style=\"stroke: rgb(0, 0, 0); stroke-opacity: 1; stroke-width: 1px;\"/><g class=\"ytick\"><text text-anchor=\"end\" x=\"101.57034120734907\" y=\"3.8499999999999996\" transform=\"translate(0,410.87691601049863)\" style=\"font-family: sans-serif; font-size: 11px; fill: rgb(0, 0, 0); fill-opacity: 1; white-space: pre;\">0.00</text></g><g class=\"ytick\"><text text-anchor=\"end\" x=\"101.57034120734907\" y=\"3.8499999999999996\" transform=\"translate(0,331.24691601049864)\" style=\"font-family: sans-serif; font-size: 11px; fill: rgb(0, 0, 0); fill-opacity: 1; white-space: pre;\">0.25</text></g><g class=\"ytick\"><text text-anchor=\"end\" x=\"101.57034120734907\" y=\"3.8499999999999996\" transform=\"translate(0,251.61691601049864)\" style=\"font-family: sans-serif; font-size: 11px; fill: rgb(0, 0, 0); fill-opacity: 1; white-space: pre;\">0.50</text></g><g class=\"ytick\"><text text-anchor=\"end\" x=\"101.57034120734907\" y=\"3.8499999999999996\" transform=\"translate(0,171.98691601049865)\" style=\"font-family: sans-serif; font-size: 11px; fill: rgb(0, 0, 0); fill-opacity: 1; white-space: pre;\">0.75</text></g><g class=\"ytick\"><text text-anchor=\"end\" x=\"101.57034120734907\" y=\"3.8499999999999996\" transform=\"translate(0,92.35691601049865)\" style=\"font-family: sans-serif; font-size: 11px; fill: rgb(0, 0, 0); fill-opacity: 1; white-space: pre;\">1.00</text></g></g><g class=\"overaxes-above\"/></g></g><g class=\"polarlayer\"/><g class=\"ternarylayer\"/><g class=\"geolayer\"/><g class=\"funnelarealayer\"/><g class=\"pielayer\"/><g class=\"treemaplayer\"/><g class=\"sunburstlayer\"/><g class=\"glimages\"/><defs id=\"topdefs-eaa28c\"><g class=\"clips\"/><clipPath id=\"legendeaa28c\"><rect width=\"117\" height=\"48\" x=\"1\" y=\"1\"/></clipPath></defs><g class=\"layer-above\"><g class=\"imagelayer\"/><g class=\"shapelayer\"/></g><g class=\"infolayer\"><g class=\"legend\" pointer-events=\"all\" transform=\"translate(531,60)\"><rect class=\"bg\" shape-rendering=\"crispEdges\" style=\"stroke: rgb(0, 0, 0); stroke-opacity: 1; fill: rgb(255, 255, 255); fill-opacity: 1; stroke-width: 1px;\" width=\"118\" height=\"49\" x=\"0.5\" y=\"0.5\"/><g class=\"scrollbox\" transform=\"\" clip-path=\"url('#legendeaa28c')\"><g class=\"groups\"><g class=\"traces\" transform=\"translate(1,15.5)\" style=\"opacity: 1;\"><text class=\"legendtext\" text-anchor=\"start\" x=\"40\" y=\"4.29\" style=\"font-family: sans-serif; font-size: 11px; fill: rgb(0, 0, 0); fill-opacity: 1; white-space: pre;\">Ships recall</text><g class=\"layers\" style=\"opacity: 1;\"><g class=\"legendfill\"/><g class=\"legendlines\"><path class=\"js-line\" d=\"M5,0h30\" style=\"fill: none; stroke: rgb(0, 154, 250); stroke-opacity: 1; stroke-width: 1px;\"/></g><g class=\"legendsymbols\"><g class=\"legendpoints\"/></g></g><rect class=\"legendtoggle\" x=\"0\" y=\"-9.5\" width=\"111.546875\" height=\"19\" style=\"fill: rgb(0, 0, 0); fill-opacity: 0;\"/></g><g class=\"traces\" transform=\"translate(1,34.5)\" style=\"opacity: 1;\"><text class=\"legendtext\" text-anchor=\"start\" x=\"40\" y=\"4.29\" style=\"font-family: sans-serif; font-size: 11px; fill: rgb(0, 0, 0); fill-opacity: 1; white-space: pre;\">Icebergs recall</text><g class=\"layers\" style=\"opacity: 1;\"><g class=\"legendfill\"/><g class=\"legendlines\"><path class=\"js-line\" d=\"M5,0h30\" style=\"fill: none; stroke: rgb(227, 111, 71); stroke-opacity: 1; stroke-width: 1px;\"/></g><g class=\"legendsymbols\"><g class=\"legendpoints\"/></g></g><rect class=\"legendtoggle\" x=\"0\" y=\"-9.5\" width=\"111.546875\" height=\"19\" style=\"fill: rgb(0, 0, 0); fill-opacity: 0;\"/></g></g></g><rect class=\"scrollbar\" rx=\"20\" ry=\"3\" width=\"0\" height=\"0\" style=\"fill: rgb(128, 139, 164); fill-opacity: 1;\" x=\"0\" y=\"0\"/></g><g class=\"g-gtitle\"/><g class=\"g-xtitle\"><text class=\"xtitle\" x=\"375.4166666666667\" y=\"462.640625\" text-anchor=\"middle\" style=\"font-family: sans-serif; font-size: 15px; fill: rgb(0, 0, 0); opacity: 1; font-weight: normal; white-space: pre;\">Threshold</text></g><g class=\"g-ytitle\"><text class=\"ytitle\" transform=\"rotate(-90,54.65625,251.6145833333333)\" x=\"54.65625\" y=\"251.6145833333333\" text-anchor=\"middle\" style=\"font-family: sans-serif; font-size: 15px; fill: rgb(0, 0, 0); opacity: 1; font-weight: normal; white-space: pre;\">recall</text></g><g class=\"annotation\" data-index=\"0\" style=\"opacity: 1;\"><g class=\"annotation-text-g\" transform=\"rotate(0,375.41666666666663,73)\"><g class=\"cursor-pointer\" transform=\"translate(289,60)\"><rect class=\"bg\" x=\"0.5\" y=\"0.5\" width=\"171\" height=\"25\" style=\"stroke-width: 1px; stroke: rgb(0, 0, 0); stroke-opacity: 0; fill: rgb(0, 0, 0); fill-opacity: 0;\"/><text class=\"annotation-text\" text-anchor=\"middle\" x=\"85.921875\" y=\"20\" style=\"font-family: sans-serif; font-size: 20px; fill: rgb(0, 0, 0); fill-opacity: 1; white-space: pre;\">recall vs Threshold</text></g></g></g></g></svg>"
      ],
      "text/html": [
       "<script src=\"https://cdn.plot.ly/plotly-2.6.3.min.js\"></script>    <div id=\"e13a469d-8517-4560-b9cf-1f090dd6e651\" style=\"width:600px;height:400px;\"></div>\n",
       "    <script>\n",
       "    \n",
       "    Plotly.newPlot('e13a469d-8517-4560-b9cf-1f090dd6e651', [\n",
       "    {\n",
       "        \"showlegend\": true,\n",
       "        \"mode\": \"lines\",\n",
       "        \"xaxis\": \"x\",\n",
       "        \"colorbar\": {\n",
       "            \"y\": 0.5086805555555556,\n",
       "            \"title\": \"\",\n",
       "            \"len\": 0.8657316272965879,\n",
       "            \"x\": 0.9934383202099738\n",
       "        },\n",
       "        \"name\": \"Ships recall\",\n",
       "        \"yaxis\": \"y\",\n",
       "        \"legendgroup\": \"Ships recall\",\n",
       "        \"line\": {\n",
       "            \"color\": \"rgba(0, 154, 250, 1.000)\",\n",
       "            \"shape\": \"linear\",\n",
       "            \"dash\": \"solid\",\n",
       "            \"width\": 1\n",
       "        },\n",
       "        \"y\": [\n",
       "            1.0,\n",
       "            0.9939759036144579,\n",
       "            0.9819277108433735,\n",
       "            0.963855421686747,\n",
       "            0.9216867469879518,\n",
       "            0.9036144578313253,\n",
       "            0.8614457831325302,\n",
       "            0.7951807228915663,\n",
       "            0.7349397590361446,\n",
       "            0.6867469879518072,\n",
       "            0.6385542168674698,\n",
       "            0.5903614457831325,\n",
       "            0.536144578313253,\n",
       "            0.4879518072289157,\n",
       "            0.4578313253012048,\n",
       "            0.43373493975903615,\n",
       "            0.4036144578313253,\n",
       "            0.35542168674698793,\n",
       "            0.3313253012048193,\n",
       "            0.25301204819277107,\n",
       "            0.0\n",
       "        ],\n",
       "        \"type\": \"scatter\",\n",
       "        \"x\": [\n",
       "            0.0,\n",
       "            0.05,\n",
       "            0.1,\n",
       "            0.15,\n",
       "            0.2,\n",
       "            0.25,\n",
       "            0.3,\n",
       "            0.35,\n",
       "            0.4,\n",
       "            0.45,\n",
       "            0.5,\n",
       "            0.55,\n",
       "            0.6,\n",
       "            0.65,\n",
       "            0.7,\n",
       "            0.75,\n",
       "            0.8,\n",
       "            0.85,\n",
       "            0.9,\n",
       "            0.95,\n",
       "            1.0\n",
       "        ]\n",
       "    },\n",
       "    {\n",
       "        \"showlegend\": true,\n",
       "        \"mode\": \"lines\",\n",
       "        \"xaxis\": \"x\",\n",
       "        \"colorbar\": {\n",
       "            \"y\": 0.5086805555555556,\n",
       "            \"title\": \"\",\n",
       "            \"len\": 0.8657316272965879,\n",
       "            \"x\": 0.9934383202099738\n",
       "        },\n",
       "        \"name\": \"Icebergs recall\",\n",
       "        \"yaxis\": \"y\",\n",
       "        \"legendgroup\": \"Icebergs recall\",\n",
       "        \"line\": {\n",
       "            \"color\": \"rgba(227, 111, 71, 1.000)\",\n",
       "            \"shape\": \"linear\",\n",
       "            \"dash\": \"solid\",\n",
       "            \"width\": 1\n",
       "        },\n",
       "        \"y\": [\n",
       "            0.0,\n",
       "            0.23870967741935484,\n",
       "            0.4064516129032258,\n",
       "            0.5225806451612903,\n",
       "            0.6,\n",
       "            0.6709677419354839,\n",
       "            0.7032258064516129,\n",
       "            0.7612903225806451,\n",
       "            0.7935483870967742,\n",
       "            0.8516129032258064,\n",
       "            0.8709677419354839,\n",
       "            0.9096774193548387,\n",
       "            0.9096774193548387,\n",
       "            0.9419354838709677,\n",
       "            0.9612903225806452,\n",
       "            0.9806451612903225,\n",
       "            0.9935483870967742,\n",
       "            0.9935483870967742,\n",
       "            0.9935483870967742,\n",
       "            0.9935483870967742,\n",
       "            1.0\n",
       "        ],\n",
       "        \"type\": \"scatter\",\n",
       "        \"x\": [\n",
       "            0.0,\n",
       "            0.05,\n",
       "            0.1,\n",
       "            0.15,\n",
       "            0.2,\n",
       "            0.25,\n",
       "            0.3,\n",
       "            0.35,\n",
       "            0.4,\n",
       "            0.45,\n",
       "            0.5,\n",
       "            0.55,\n",
       "            0.6,\n",
       "            0.65,\n",
       "            0.7,\n",
       "            0.75,\n",
       "            0.8,\n",
       "            0.85,\n",
       "            0.9,\n",
       "            0.95,\n",
       "            1.0\n",
       "        ]\n",
       "    }\n",
       "]\n",
       ", {\n",
       "    \"showlegend\": true,\n",
       "    \"xaxis\": {\n",
       "        \"showticklabels\": true,\n",
       "        \"gridwidth\": 0.5,\n",
       "        \"tickvals\": [\n",
       "            0.0,\n",
       "            0.25,\n",
       "            0.5,\n",
       "            0.75,\n",
       "            1.0\n",
       "        ],\n",
       "        \"range\": [\n",
       "            -0.030000000000000027,\n",
       "            1.03\n",
       "        ],\n",
       "        \"domain\": [\n",
       "            0.09128390201224845,\n",
       "            0.9934383202099738\n",
       "        ],\n",
       "        \"mirror\": false,\n",
       "        \"tickangle\": 0,\n",
       "        \"showline\": true,\n",
       "        \"ticktext\": [\n",
       "            \"0.00\",\n",
       "            \"0.25\",\n",
       "            \"0.50\",\n",
       "            \"0.75\",\n",
       "            \"1.00\"\n",
       "        ],\n",
       "        \"zeroline\": false,\n",
       "        \"tickfont\": {\n",
       "            \"color\": \"rgba(0, 0, 0, 1.000)\",\n",
       "            \"family\": \"sans-serif\",\n",
       "            \"size\": 11\n",
       "        },\n",
       "        \"zerolinecolor\": \"rgba(0, 0, 0, 1.000)\",\n",
       "        \"anchor\": \"y\",\n",
       "        \"visible\": true,\n",
       "        \"ticks\": \"inside\",\n",
       "        \"tickmode\": \"array\",\n",
       "        \"linecolor\": \"rgba(0, 0, 0, 1.000)\",\n",
       "        \"showgrid\": true,\n",
       "        \"title\": \"Threshold\",\n",
       "        \"gridcolor\": \"rgba(0, 0, 0, 0.100)\",\n",
       "        \"titlefont\": {\n",
       "            \"color\": \"rgba(0, 0, 0, 1.000)\",\n",
       "            \"family\": \"sans-serif\",\n",
       "            \"size\": 15\n",
       "        },\n",
       "        \"tickcolor\": \"rgb(0, 0, 0)\",\n",
       "        \"type\": \"-\"\n",
       "    },\n",
       "    \"paper_bgcolor\": \"rgba(255, 255, 255, 1.000)\",\n",
       "    \"annotations\": [\n",
       "        {\n",
       "            \"yanchor\": \"top\",\n",
       "            \"xanchor\": \"center\",\n",
       "            \"rotation\": -0.0,\n",
       "            \"y\": 1.0,\n",
       "            \"font\": {\n",
       "                \"color\": \"rgba(0, 0, 0, 1.000)\",\n",
       "                \"family\": \"sans-serif\",\n",
       "                \"size\": 20\n",
       "            },\n",
       "            \"yref\": \"paper\",\n",
       "            \"showarrow\": false,\n",
       "            \"text\": \"recall vs Threshold\",\n",
       "            \"xref\": \"paper\",\n",
       "            \"x\": 0.5423611111111111\n",
       "        }\n",
       "    ],\n",
       "    \"height\": 400,\n",
       "    \"margin\": {\n",
       "        \"l\": 0,\n",
       "        \"b\": 20,\n",
       "        \"r\": 0,\n",
       "        \"t\": 20\n",
       "    },\n",
       "    \"plot_bgcolor\": \"rgba(255, 255, 255, 1.000)\",\n",
       "    \"yaxis\": {\n",
       "        \"showticklabels\": true,\n",
       "        \"gridwidth\": 0.5,\n",
       "        \"tickvals\": [\n",
       "            0.0,\n",
       "            0.25,\n",
       "            0.5,\n",
       "            0.75,\n",
       "            1.0\n",
       "        ],\n",
       "        \"range\": [\n",
       "            -0.030000000000000027,\n",
       "            1.03\n",
       "        ],\n",
       "        \"domain\": [\n",
       "            0.07581474190726165,\n",
       "            0.9415463692038496\n",
       "        ],\n",
       "        \"mirror\": false,\n",
       "        \"tickangle\": 0,\n",
       "        \"showline\": true,\n",
       "        \"ticktext\": [\n",
       "            \"0.00\",\n",
       "            \"0.25\",\n",
       "            \"0.50\",\n",
       "            \"0.75\",\n",
       "            \"1.00\"\n",
       "        ],\n",
       "        \"zeroline\": false,\n",
       "        \"tickfont\": {\n",
       "            \"color\": \"rgba(0, 0, 0, 1.000)\",\n",
       "            \"family\": \"sans-serif\",\n",
       "            \"size\": 11\n",
       "        },\n",
       "        \"zerolinecolor\": \"rgba(0, 0, 0, 1.000)\",\n",
       "        \"anchor\": \"x\",\n",
       "        \"visible\": true,\n",
       "        \"ticks\": \"inside\",\n",
       "        \"tickmode\": \"array\",\n",
       "        \"linecolor\": \"rgba(0, 0, 0, 1.000)\",\n",
       "        \"showgrid\": true,\n",
       "        \"title\": \"recall\",\n",
       "        \"gridcolor\": \"rgba(0, 0, 0, 0.100)\",\n",
       "        \"titlefont\": {\n",
       "            \"color\": \"rgba(0, 0, 0, 1.000)\",\n",
       "            \"family\": \"sans-serif\",\n",
       "            \"size\": 15\n",
       "        },\n",
       "        \"tickcolor\": \"rgb(0, 0, 0)\",\n",
       "        \"type\": \"-\"\n",
       "    },\n",
       "    \"legend\": {\n",
       "        \"yanchor\": \"auto\",\n",
       "        \"xanchor\": \"auto\",\n",
       "        \"bordercolor\": \"rgba(0, 0, 0, 1.000)\",\n",
       "        \"bgcolor\": \"rgba(255, 255, 255, 1.000)\",\n",
       "        \"borderwidth\": 1,\n",
       "        \"tracegroupgap\": 0,\n",
       "        \"y\": 1.0,\n",
       "        \"font\": {\n",
       "            \"color\": \"rgba(0, 0, 0, 1.000)\",\n",
       "            \"family\": \"sans-serif\",\n",
       "            \"size\": 11\n",
       "        },\n",
       "        \"title\": {\n",
       "            \"font\": {\n",
       "                \"color\": \"rgba(0, 0, 0, 1.000)\",\n",
       "                \"family\": \"sans-serif\",\n",
       "                \"size\": 15\n",
       "            },\n",
       "            \"text\": \"\"\n",
       "        },\n",
       "        \"traceorder\": \"normal\",\n",
       "        \"x\": 1.0\n",
       "    },\n",
       "    \"width\": 600\n",
       "}\n",
       ");\n",
       "    \n",
       "    </script>\n"
      ]
     },
     "metadata": {},
     "output_type": "display_data"
    }
   ],
   "source": [
    "Test_name.Visualize.plot_combined_metrics(metrics_vector, :recall)"
   ]
  },
  {
   "cell_type": "code",
   "execution_count": 40,
   "metadata": {},
   "outputs": [
    {
     "data": {
      "application/vnd.plotly.v1+json": {
       "data": [
        {
         "colorbar": {
          "len": 0.8657316272965879,
          "title": "",
          "x": 0.9934383202099737,
          "y": 0.5086805555555556
         },
         "legendgroup": "Ships precision",
         "line": {
          "color": "rgba(0, 154, 250, 1.000)",
          "dash": "solid",
          "shape": "linear",
          "width": 1
         },
         "mode": "lines",
         "name": "Ships precision",
         "showlegend": true,
         "type": "scatter",
         "x": [
          0,
          0.05,
          0.1,
          0.15,
          0.2,
          0.25,
          0.3,
          0.35,
          0.4,
          0.45,
          0.5,
          0.55,
          0.6,
          0.65,
          0.7,
          0.75,
          0.8,
          0.85,
          0.9,
          0.95
         ],
         "xaxis": "x",
         "y": [
          0.5171339563862928,
          0.5830388692579506,
          0.6392156862745098,
          0.6837606837606838,
          0.7116279069767442,
          0.746268656716418,
          0.7566137566137566,
          0.7810650887573964,
          0.7922077922077922,
          0.8321167883211679,
          0.8412698412698413,
          0.875,
          0.8640776699029126,
          0.9,
          0.926829268292683,
          0.96,
          0.9852941176470589,
          0.9833333333333333,
          0.9821428571428571,
          0.9767441860465116
         ],
         "yaxis": "y"
        },
        {
         "colorbar": {
          "len": 0.8657316272965879,
          "title": "",
          "x": 0.9934383202099737,
          "y": 0.5086805555555556
         },
         "legendgroup": "Icebergs precision",
         "line": {
          "color": "rgba(227, 111, 71, 1.000)",
          "dash": "solid",
          "shape": "linear",
          "width": 1
         },
         "mode": "lines",
         "name": "Icebergs precision",
         "showlegend": true,
         "type": "scatter",
         "x": [
          0.05,
          0.1,
          0.15,
          0.2,
          0.25,
          0.3,
          0.35,
          0.4,
          0.45,
          0.5,
          0.55,
          0.6,
          0.65,
          0.7,
          0.75,
          0.8,
          0.85,
          0.9,
          0.95,
          1
         ],
         "xaxis": "x",
         "y": [
          0.9736842105263158,
          0.9545454545454546,
          0.9310344827586207,
          0.8773584905660378,
          0.8666666666666667,
          0.8257575757575758,
          0.7763157894736842,
          0.7365269461077845,
          0.717391304347826,
          0.6923076923076923,
          0.6746411483253588,
          0.6467889908256881,
          0.6320346320346321,
          0.6234309623430963,
          0.6178861788617886,
          0.6086956521739131,
          0.5900383141762452,
          0.5811320754716981,
          0.5539568345323741,
          0.48286604361370716
         ],
         "yaxis": "y"
        }
       ],
       "layout": {
        "annotations": [
         {
          "font": {
           "color": "rgba(0, 0, 0, 1.000)",
           "family": "sans-serif",
           "size": 20
          },
          "rotation": 0,
          "showarrow": false,
          "text": "precision vs Threshold",
          "x": 0.5349537037037038,
          "xanchor": "center",
          "xref": "paper",
          "y": 1,
          "yanchor": "top",
          "yref": "paper"
         }
        ],
        "height": 400,
        "legend": {
         "bgcolor": "rgba(255, 255, 255, 1.000)",
         "bordercolor": "rgba(0, 0, 0, 1.000)",
         "borderwidth": 1,
         "font": {
          "color": "rgba(0, 0, 0, 1.000)",
          "family": "sans-serif",
          "size": 11
         },
         "title": {
          "font": {
           "color": "rgba(0, 0, 0, 1.000)",
           "family": "sans-serif",
           "size": 15
          },
          "text": ""
         },
         "tracegroupgap": 0,
         "traceorder": "normal",
         "x": 1,
         "xanchor": "auto",
         "y": 1,
         "yanchor": "auto"
        },
        "margin": {
         "b": 20,
         "l": 0,
         "r": 0,
         "t": 20
        },
        "paper_bgcolor": "rgba(255, 255, 255, 1.000)",
        "plot_bgcolor": "rgba(255, 255, 255, 1.000)",
        "showlegend": true,
        "width": 600,
        "xaxis": {
         "anchor": "y",
         "domain": [
          0.07646908719743364,
          0.9934383202099737
         ],
         "gridcolor": "rgba(0, 0, 0, 0.100)",
         "gridwidth": 0.5,
         "linecolor": "rgba(0, 0, 0, 1.000)",
         "mirror": false,
         "range": [
          -0.030000000000000027,
          1.03
         ],
         "showgrid": true,
         "showline": true,
         "showticklabels": true,
         "tickangle": 0,
         "tickcolor": "rgb(0, 0, 0)",
         "tickfont": {
          "color": "rgba(0, 0, 0, 1.000)",
          "family": "sans-serif",
          "size": 11
         },
         "tickmode": "array",
         "ticks": "inside",
         "ticktext": [
          "0.00",
          "0.25",
          "0.50",
          "0.75",
          "1.00"
         ],
         "tickvals": [
          0,
          0.25,
          0.5,
          0.75,
          1
         ],
         "title": "Threshold",
         "titlefont": {
          "color": "rgba(0, 0, 0, 1.000)",
          "family": "sans-serif",
          "size": 15
         },
         "type": "-",
         "visible": true,
         "zeroline": false,
         "zerolinecolor": "rgba(0, 0, 0, 1.000)"
        },
        "yaxis": {
         "anchor": "x",
         "domain": [
          0.07581474190726165,
          0.9415463692038496
         ],
         "gridcolor": "rgba(0, 0, 0, 0.100)",
         "gridwidth": 0.5,
         "linecolor": "rgba(0, 0, 0, 1.000)",
         "mirror": false,
         "range": [
          0.4677932013927065,
          1.0003669598680593
         ],
         "showgrid": true,
         "showline": true,
         "showticklabels": true,
         "tickangle": 0,
         "tickcolor": "rgb(0, 0, 0)",
         "tickfont": {
          "color": "rgba(0, 0, 0, 1.000)",
          "family": "sans-serif",
          "size": 11
         },
         "tickmode": "array",
         "ticks": "inside",
         "ticktext": [
          "0.5",
          "0.6",
          "0.7",
          "0.8",
          "0.9",
          "1.0"
         ],
         "tickvals": [
          0.5,
          0.6000000000000001,
          0.7000000000000001,
          0.8,
          0.9,
          1
         ],
         "title": "precision",
         "titlefont": {
          "color": "rgba(0, 0, 0, 1.000)",
          "family": "sans-serif",
          "size": 15
         },
         "type": "-",
         "visible": true,
         "zeroline": false,
         "zerolinecolor": "rgba(0, 0, 0, 1.000)"
        }
       }
      },
      "image/png": "[encoded data removed]",
      "image/svg+xml": [
       "<svg class=\"main-svg\" xmlns=\"http://www.w3.org/2000/svg\" xmlns:xlink=\"http://www.w3.org/1999/xlink\" width=\"700\" height=\"500\" style=\"\" viewBox=\"0 0 700 500\"><rect x=\"0\" y=\"0\" width=\"700\" height=\"500\" style=\"fill: rgb(255, 255, 255); fill-opacity: 1;\"/><defs id=\"defs-ecbef4\"><g class=\"clips\"><clipPath id=\"clipecbef4xyplot\" class=\"plotclip\"><rect width=\"550.181539807524\" height=\"337.6353346456693\"/></clipPath><clipPath class=\"axesclip\" id=\"clipecbef4x\"><rect x=\"95.88145231846019\" y=\"0\" width=\"550.181539807524\" height=\"500\"/></clipPath><clipPath class=\"axesclip\" id=\"clipecbef4y\"><rect x=\"0\" y=\"82.79691601049865\" width=\"700\" height=\"337.6353346456693\"/></clipPath><clipPath class=\"axesclip\" id=\"clipecbef4xy\"><rect x=\"95.88145231846019\" y=\"82.79691601049865\" width=\"550.181539807524\" height=\"337.6353346456693\"/></clipPath></g><g class=\"gradients\"/></defs><g class=\"bglayer\"/><g class=\"layer-below\"><g class=\"imagelayer\"/><g class=\"shapelayer\"/></g><g class=\"cartesianlayer\"><g class=\"subplot xy\"><g class=\"layer-subplot\"><g class=\"shapelayer\"/><g class=\"imagelayer\"/></g><g class=\"gridlayer\"><g class=\"x\"><path class=\"xgrid crisp\" transform=\"translate(111.45145231846018,0)\" d=\"M0,82.79691601049865v337.6353346456693\" style=\"stroke: rgb(0, 0, 0); stroke-opacity: 0.1; stroke-width: 0.5px;\"/><path class=\"xgrid crisp\" transform=\"translate(241.2114523184602,0)\" d=\"M0,82.79691601049865v337.6353346456693\" style=\"stroke: rgb(0, 0, 0); stroke-opacity: 0.1; stroke-width: 0.5px;\"/><path class=\"xgrid crisp\" transform=\"translate(370.97145231846014,0)\" d=\"M0,82.79691601049865v337.6353346456693\" style=\"stroke: rgb(0, 0, 0); stroke-opacity: 0.1; stroke-width: 0.5px;\"/><path class=\"xgrid crisp\" transform=\"translate(500.73145231846024,0)\" d=\"M0,82.79691601049865v337.6353346456693\" style=\"stroke: rgb(0, 0, 0); stroke-opacity: 0.1; stroke-width: 0.5px;\"/><path class=\"xgrid crisp\" transform=\"translate(630.4914523184602,0)\" d=\"M0,82.79691601049865v337.6353346456693\" style=\"stroke: rgb(0, 0, 0); stroke-opacity: 0.1; stroke-width: 0.5px;\"/></g><g class=\"y\"><path class=\"ygrid crisp\" transform=\"translate(0,400.0169160104987)\" d=\"M95.88145231846019,0h550.181539807524\" style=\"stroke: rgb(0, 0, 0); stroke-opacity: 0.1; stroke-width: 0.5px;\"/><path class=\"ygrid crisp\" transform=\"translate(0,336.61691601049864)\" d=\"M95.88145231846019,0h550.181539807524\" style=\"stroke: rgb(0, 0, 0); stroke-opacity: 0.1; stroke-width: 0.5px;\"/><path class=\"ygrid crisp\" transform=\"translate(0,273.2169160104986)\" d=\"M95.88145231846019,0h550.181539807524\" style=\"stroke: rgb(0, 0, 0); stroke-opacity: 0.1; stroke-width: 0.5px;\"/><path class=\"ygrid crisp\" transform=\"translate(0,209.82691601049865)\" d=\"M95.88145231846019,0h550.181539807524\" style=\"stroke: rgb(0, 0, 0); stroke-opacity: 0.1; stroke-width: 0.5px;\"/><path class=\"ygrid crisp\" transform=\"translate(0,146.42691601049864)\" d=\"M95.88145231846019,0h550.181539807524\" style=\"stroke: rgb(0, 0, 0); stroke-opacity: 0.1; stroke-width: 0.5px;\"/></g></g><g class=\"zerolinelayer\"/><path class=\"xlines-below\"/><path class=\"ylines-below\"/><g class=\"overlines-below\"/><g class=\"xaxislayer-below\"/><g class=\"yaxislayer-below\"/><g class=\"overaxes-below\"/><g class=\"plot\" transform=\"translate(95.88145231846019,82.79691601049865)\" clip-path=\"url('#clipecbef4xyplot')\"><g class=\"scatterlayer mlayer\"><g class=\"trace scatter trace817d3d\" style=\"stroke-miterlimit: 2; opacity: 1;\"><g class=\"fills\"/><g class=\"errorbars\"/><g class=\"lines\"><path class=\"js-line\" d=\"M15.57,306.35L41.52,264.57L67.48,228.96L93.43,200.72L119.38,183.05L145.33,161.09L171.28,154.53L197.23,139.03L223.19,131.97L249.14,106.67L275.09,100.86L301.04,79.48L326.99,86.4L352.95,63.63L378.9,46.62L404.85,25.59L430.8,9.56L482.71,11.55L508.66,14.98\" style=\"vector-effect: non-scaling-stroke; fill: none; stroke: rgb(0, 154, 250); stroke-opacity: 1; stroke-width: 1px; opacity: 1;\"/></g><g class=\"points\"/><g class=\"text\"/></g><g class=\"trace scatter traceb7b4a6\" style=\"stroke-miterlimit: 2; opacity: 1;\"><g class=\"fills\"/><g class=\"errorbars\"/><g class=\"lines\"><path class=\"js-line\" d=\"M41.52,16.92L67.48,29.05L93.43,43.95L119.38,77.98L145.33,84.76L171.28,110.7L197.23,142.04L223.19,167.27L249.14,179.4L275.09,195.3L301.04,206.5L326.99,224.16L352.95,233.51L378.9,238.97L404.85,242.48L430.8,248.31L456.75,260.14L482.71,265.78L508.66,283.01L534.61,328.08\" style=\"vector-effect: non-scaling-stroke; fill: none; stroke: rgb(227, 111, 71); stroke-opacity: 1; stroke-width: 1px; opacity: 1;\"/></g><g class=\"points\"/><g class=\"text\"/></g></g></g><g class=\"overplot\"/><path class=\"xlines-above crisp\" d=\"M94.88145231846019,420.9322506561679H646.0629921259842\" style=\"fill: none; stroke-width: 1px; stroke: rgb(0, 0, 0); stroke-opacity: 1;\"/><path class=\"ylines-above crisp\" d=\"M95.38145231846019,82.79691601049865V420.4322506561679\" style=\"fill: none; stroke-width: 1px; stroke: rgb(0, 0, 0); stroke-opacity: 1;\"/><g class=\"overlines-above\"/><g class=\"xaxislayer-above\"><path class=\"xtick ticks crisp\" d=\"M0,420.4322506561679v-5\" transform=\"translate(111.45145231846018,0)\" style=\"stroke: rgb(0, 0, 0); stroke-opacity: 1; stroke-width: 1px;\"/><path class=\"xtick ticks crisp\" d=\"M0,420.4322506561679v-5\" transform=\"translate(241.2114523184602,0)\" style=\"stroke: rgb(0, 0, 0); stroke-opacity: 1; stroke-width: 1px;\"/><path class=\"xtick ticks crisp\" d=\"M0,420.4322506561679v-5\" transform=\"translate(370.97145231846014,0)\" style=\"stroke: rgb(0, 0, 0); stroke-opacity: 1; stroke-width: 1px;\"/><path class=\"xtick ticks crisp\" d=\"M0,420.4322506561679v-5\" transform=\"translate(500.73145231846024,0)\" style=\"stroke: rgb(0, 0, 0); stroke-opacity: 1; stroke-width: 1px;\"/><path class=\"xtick ticks crisp\" d=\"M0,420.4322506561679v-5\" transform=\"translate(630.4914523184602,0)\" style=\"stroke: rgb(0, 0, 0); stroke-opacity: 1; stroke-width: 1px;\"/><g class=\"xtick\"><text text-anchor=\"middle\" x=\"0\" y=\"434.6322506561679\" transform=\"translate(111.45145231846018,0)\" style=\"font-family: sans-serif; font-size: 11px; fill: rgb(0, 0, 0); fill-opacity: 1; white-space: pre;\">0.00</text></g><g class=\"xtick\"><text text-anchor=\"middle\" x=\"0\" y=\"434.6322506561679\" transform=\"translate(241.2114523184602,0)\" style=\"font-family: sans-serif; font-size: 11px; fill: rgb(0, 0, 0); fill-opacity: 1; white-space: pre;\">0.25</text></g><g class=\"xtick\"><text text-anchor=\"middle\" x=\"0\" y=\"434.6322506561679\" transform=\"translate(370.97145231846014,0)\" style=\"font-family: sans-serif; font-size: 11px; fill: rgb(0, 0, 0); fill-opacity: 1; white-space: pre;\">0.50</text></g><g class=\"xtick\"><text text-anchor=\"middle\" x=\"0\" y=\"434.6322506561679\" transform=\"translate(500.73145231846024,0)\" style=\"font-family: sans-serif; font-size: 11px; fill: rgb(0, 0, 0); fill-opacity: 1; white-space: pre;\">0.75</text></g><g class=\"xtick\"><text text-anchor=\"middle\" x=\"0\" y=\"434.6322506561679\" transform=\"translate(630.4914523184602,0)\" style=\"font-family: sans-serif; font-size: 11px; fill: rgb(0, 0, 0); fill-opacity: 1; white-space: pre;\">1.00</text></g></g><g class=\"yaxislayer-above\"><path class=\"ytick ticks crisp\" d=\"M95.88145231846019,0h5\" transform=\"translate(0,400.0169160104987)\" style=\"stroke: rgb(0, 0, 0); stroke-opacity: 1; stroke-width: 1px;\"/><path class=\"ytick ticks crisp\" d=\"M95.88145231846019,0h5\" transform=\"translate(0,336.61691601049864)\" style=\"stroke: rgb(0, 0, 0); stroke-opacity: 1; stroke-width: 1px;\"/><path class=\"ytick ticks crisp\" d=\"M95.88145231846019,0h5\" transform=\"translate(0,273.2169160104986)\" style=\"stroke: rgb(0, 0, 0); stroke-opacity: 1; stroke-width: 1px;\"/><path class=\"ytick ticks crisp\" d=\"M95.88145231846019,0h5\" transform=\"translate(0,209.82691601049865)\" style=\"stroke: rgb(0, 0, 0); stroke-opacity: 1; stroke-width: 1px;\"/><path class=\"ytick ticks crisp\" d=\"M95.88145231846019,0h5\" transform=\"translate(0,146.42691601049864)\" style=\"stroke: rgb(0, 0, 0); stroke-opacity: 1; stroke-width: 1px;\"/><g class=\"ytick\"><text text-anchor=\"end\" x=\"92.68145231846019\" y=\"3.8499999999999996\" transform=\"translate(0,400.0169160104987)\" style=\"font-family: sans-serif; font-size: 11px; fill: rgb(0, 0, 0); fill-opacity: 1; white-space: pre;\">0.5</text></g><g class=\"ytick\"><text text-anchor=\"end\" x=\"92.68145231846019\" y=\"3.8499999999999996\" transform=\"translate(0,336.61691601049864)\" style=\"font-family: sans-serif; font-size: 11px; fill: rgb(0, 0, 0); fill-opacity: 1; white-space: pre;\">0.6</text></g><g class=\"ytick\"><text text-anchor=\"end\" x=\"92.68145231846019\" y=\"3.8499999999999996\" transform=\"translate(0,273.2169160104986)\" style=\"font-family: sans-serif; font-size: 11px; fill: rgb(0, 0, 0); fill-opacity: 1; white-space: pre;\">0.7</text></g><g class=\"ytick\"><text text-anchor=\"end\" x=\"92.68145231846019\" y=\"3.8499999999999996\" transform=\"translate(0,209.82691601049865)\" style=\"font-family: sans-serif; font-size: 11px; fill: rgb(0, 0, 0); fill-opacity: 1; white-space: pre;\">0.8</text></g><g class=\"ytick\"><text text-anchor=\"end\" x=\"92.68145231846019\" y=\"3.8499999999999996\" transform=\"translate(0,146.42691601049864)\" style=\"font-family: sans-serif; font-size: 11px; fill: rgb(0, 0, 0); fill-opacity: 1; white-space: pre;\">0.9</text></g><g class=\"ytick\"><text text-anchor=\"end\" x=\"92.68145231846019\" y=\"3.8499999999999996\" transform=\"translate(0,83.02691601049865)\" style=\"font-family: sans-serif; font-size: 11px; fill: rgb(0, 0, 0); fill-opacity: 1; white-space: pre;\">1.0</text></g></g><g class=\"overaxes-above\"/></g></g><g class=\"polarlayer\"/><g class=\"ternarylayer\"/><g class=\"geolayer\"/><g class=\"funnelarealayer\"/><g class=\"pielayer\"/><g class=\"treemaplayer\"/><g class=\"sunburstlayer\"/><g class=\"glimages\"/><defs id=\"topdefs-ecbef4\"><g class=\"clips\"/><clipPath id=\"legendecbef4\"><rect width=\"135\" height=\"48\" x=\"1\" y=\"1\"/></clipPath></defs><g class=\"layer-above\"><g class=\"imagelayer\"/><g class=\"shapelayer\"/></g><g class=\"infolayer\"><g class=\"legend\" pointer-events=\"all\" transform=\"translate(513,60)\"><rect class=\"bg\" shape-rendering=\"crispEdges\" style=\"stroke: rgb(0, 0, 0); stroke-opacity: 1; fill: rgb(255, 255, 255); fill-opacity: 1; stroke-width: 1px;\" width=\"136\" height=\"49\" x=\"0.5\" y=\"0.5\"/><g class=\"scrollbox\" transform=\"\" clip-path=\"url('#legendecbef4')\"><g class=\"groups\"><g class=\"traces\" transform=\"translate(1,15.5)\" style=\"opacity: 1;\"><text class=\"legendtext\" text-anchor=\"start\" x=\"40\" y=\"4.29\" style=\"font-family: sans-serif; font-size: 11px; fill: rgb(0, 0, 0); fill-opacity: 1; white-space: pre;\">Ships precision</text><g class=\"layers\" style=\"opacity: 1;\"><g class=\"legendfill\"/><g class=\"legendlines\"><path class=\"js-line\" d=\"M5,0h30\" style=\"fill: none; stroke: rgb(0, 154, 250); stroke-opacity: 1; stroke-width: 1px;\"/></g><g class=\"legendsymbols\"><g class=\"legendpoints\"/></g></g><rect class=\"legendtoggle\" x=\"0\" y=\"-9.5\" width=\"129.28125\" height=\"19\" style=\"fill: rgb(0, 0, 0); fill-opacity: 0;\"/></g><g class=\"traces\" transform=\"translate(1,34.5)\" style=\"opacity: 1;\"><text class=\"legendtext\" text-anchor=\"start\" x=\"40\" y=\"4.29\" style=\"font-family: sans-serif; font-size: 11px; fill: rgb(0, 0, 0); fill-opacity: 1; white-space: pre;\">Icebergs precision</text><g class=\"layers\" style=\"opacity: 1;\"><g class=\"legendfill\"/><g class=\"legendlines\"><path class=\"js-line\" d=\"M5,0h30\" style=\"fill: none; stroke: rgb(227, 111, 71); stroke-opacity: 1; stroke-width: 1px;\"/></g><g class=\"legendsymbols\"><g class=\"legendpoints\"/></g></g><rect class=\"legendtoggle\" x=\"0\" y=\"-9.5\" width=\"129.28125\" height=\"19\" style=\"fill: rgb(0, 0, 0); fill-opacity: 0;\"/></g></g></g><rect class=\"scrollbar\" rx=\"20\" ry=\"3\" width=\"0\" height=\"0\" style=\"fill: rgb(128, 139, 164); fill-opacity: 1;\" x=\"0\" y=\"0\"/></g><g class=\"g-gtitle\"/><g class=\"g-xtitle\"><text class=\"xtitle\" x=\"370.9722222222222\" y=\"462.640625\" text-anchor=\"middle\" style=\"font-family: sans-serif; font-size: 15px; fill: rgb(0, 0, 0); opacity: 1; font-weight: normal; white-space: pre;\">Threshold</text></g><g class=\"g-ytitle\"><text class=\"ytitle\" transform=\"rotate(-90,51.875,251.6145833333333)\" x=\"51.875\" y=\"251.6145833333333\" text-anchor=\"middle\" style=\"font-family: sans-serif; font-size: 15px; fill: rgb(0, 0, 0); opacity: 1; font-weight: normal; white-space: pre;\">precision</text></g><g class=\"annotation\" data-index=\"0\" style=\"opacity: 1;\"><g class=\"annotation-text-g\" transform=\"rotate(0,370.9722222222223,73)\"><g class=\"cursor-pointer\" transform=\"translate(269,60)\"><rect class=\"bg\" x=\"0.5\" y=\"0.5\" width=\"203\" height=\"25\" style=\"stroke-width: 1px; stroke: rgb(0, 0, 0); stroke-opacity: 0; fill: rgb(0, 0, 0); fill-opacity: 0;\"/><text class=\"annotation-text\" text-anchor=\"middle\" x=\"102.046875\" y=\"20\" style=\"font-family: sans-serif; font-size: 20px; fill: rgb(0, 0, 0); fill-opacity: 1; white-space: pre;\">precision vs Threshold</text></g></g></g></g></svg>"
      ],
      "text/html": [
       "<script src=\"https://cdn.plot.ly/plotly-2.6.3.min.js\"></script>    <div id=\"46570ff4-0096-474c-beb0-ee50d228dac5\" style=\"width:600px;height:400px;\"></div>\n",
       "    <script>\n",
       "    \n",
       "    Plotly.newPlot('46570ff4-0096-474c-beb0-ee50d228dac5', [\n",
       "    {\n",
       "        \"showlegend\": true,\n",
       "        \"mode\": \"lines\",\n",
       "        \"xaxis\": \"x\",\n",
       "        \"colorbar\": {\n",
       "            \"y\": 0.5086805555555556,\n",
       "            \"title\": \"\",\n",
       "            \"len\": 0.8657316272965879,\n",
       "            \"x\": 0.9934383202099737\n",
       "        },\n",
       "        \"name\": \"Ships precision\",\n",
       "        \"yaxis\": \"y\",\n",
       "        \"legendgroup\": \"Ships precision\",\n",
       "        \"line\": {\n",
       "            \"color\": \"rgba(0, 154, 250, 1.000)\",\n",
       "            \"shape\": \"linear\",\n",
       "            \"dash\": \"solid\",\n",
       "            \"width\": 1\n",
       "        },\n",
       "        \"y\": [\n",
       "            0.5171339563862928,\n",
       "            0.5830388692579506,\n",
       "            0.6392156862745098,\n",
       "            0.6837606837606838,\n",
       "            0.7116279069767442,\n",
       "            0.746268656716418,\n",
       "            0.7566137566137566,\n",
       "            0.7810650887573964,\n",
       "            0.7922077922077922,\n",
       "            0.8321167883211679,\n",
       "            0.8412698412698413,\n",
       "            0.875,\n",
       "            0.8640776699029126,\n",
       "            0.9,\n",
       "            0.926829268292683,\n",
       "            0.96,\n",
       "            0.9852941176470589,\n",
       "            0.9833333333333333,\n",
       "            0.9821428571428571,\n",
       "            0.9767441860465116\n",
       "        ],\n",
       "        \"type\": \"scatter\",\n",
       "        \"x\": [\n",
       "            0.0,\n",
       "            0.05,\n",
       "            0.1,\n",
       "            0.15,\n",
       "            0.2,\n",
       "            0.25,\n",
       "            0.3,\n",
       "            0.35,\n",
       "            0.4,\n",
       "            0.45,\n",
       "            0.5,\n",
       "            0.55,\n",
       "            0.6,\n",
       "            0.65,\n",
       "            0.7,\n",
       "            0.75,\n",
       "            0.8,\n",
       "            0.85,\n",
       "            0.9,\n",
       "            0.95\n",
       "        ]\n",
       "    },\n",
       "    {\n",
       "        \"showlegend\": true,\n",
       "        \"mode\": \"lines\",\n",
       "        \"xaxis\": \"x\",\n",
       "        \"colorbar\": {\n",
       "            \"y\": 0.5086805555555556,\n",
       "            \"title\": \"\",\n",
       "            \"len\": 0.8657316272965879,\n",
       "            \"x\": 0.9934383202099737\n",
       "        },\n",
       "        \"name\": \"Icebergs precision\",\n",
       "        \"yaxis\": \"y\",\n",
       "        \"legendgroup\": \"Icebergs precision\",\n",
       "        \"line\": {\n",
       "            \"color\": \"rgba(227, 111, 71, 1.000)\",\n",
       "            \"shape\": \"linear\",\n",
       "            \"dash\": \"solid\",\n",
       "            \"width\": 1\n",
       "        },\n",
       "        \"y\": [\n",
       "            0.9736842105263158,\n",
       "            0.9545454545454546,\n",
       "            0.9310344827586207,\n",
       "            0.8773584905660378,\n",
       "            0.8666666666666667,\n",
       "            0.8257575757575758,\n",
       "            0.7763157894736842,\n",
       "            0.7365269461077845,\n",
       "            0.717391304347826,\n",
       "            0.6923076923076923,\n",
       "            0.6746411483253588,\n",
       "            0.6467889908256881,\n",
       "            0.6320346320346321,\n",
       "            0.6234309623430963,\n",
       "            0.6178861788617886,\n",
       "            0.6086956521739131,\n",
       "            0.5900383141762452,\n",
       "            0.5811320754716981,\n",
       "            0.5539568345323741,\n",
       "            0.48286604361370716\n",
       "        ],\n",
       "        \"type\": \"scatter\",\n",
       "        \"x\": [\n",
       "            0.05,\n",
       "            0.1,\n",
       "            0.15,\n",
       "            0.2,\n",
       "            0.25,\n",
       "            0.3,\n",
       "            0.35,\n",
       "            0.4,\n",
       "            0.45,\n",
       "            0.5,\n",
       "            0.55,\n",
       "            0.6,\n",
       "            0.65,\n",
       "            0.7,\n",
       "            0.75,\n",
       "            0.8,\n",
       "            0.85,\n",
       "            0.9,\n",
       "            0.95,\n",
       "            1.0\n",
       "        ]\n",
       "    }\n",
       "]\n",
       ", {\n",
       "    \"showlegend\": true,\n",
       "    \"xaxis\": {\n",
       "        \"showticklabels\": true,\n",
       "        \"gridwidth\": 0.5,\n",
       "        \"tickvals\": [\n",
       "            0.0,\n",
       "            0.25,\n",
       "            0.5,\n",
       "            0.75,\n",
       "            1.0\n",
       "        ],\n",
       "        \"range\": [\n",
       "            -0.030000000000000027,\n",
       "            1.03\n",
       "        ],\n",
       "        \"domain\": [\n",
       "            0.07646908719743364,\n",
       "            0.9934383202099737\n",
       "        ],\n",
       "        \"mirror\": false,\n",
       "        \"tickangle\": 0,\n",
       "        \"showline\": true,\n",
       "        \"ticktext\": [\n",
       "            \"0.00\",\n",
       "            \"0.25\",\n",
       "            \"0.50\",\n",
       "            \"0.75\",\n",
       "            \"1.00\"\n",
       "        ],\n",
       "        \"zeroline\": false,\n",
       "        \"tickfont\": {\n",
       "            \"color\": \"rgba(0, 0, 0, 1.000)\",\n",
       "            \"family\": \"sans-serif\",\n",
       "            \"size\": 11\n",
       "        },\n",
       "        \"zerolinecolor\": \"rgba(0, 0, 0, 1.000)\",\n",
       "        \"anchor\": \"y\",\n",
       "        \"visible\": true,\n",
       "        \"ticks\": \"inside\",\n",
       "        \"tickmode\": \"array\",\n",
       "        \"linecolor\": \"rgba(0, 0, 0, 1.000)\",\n",
       "        \"showgrid\": true,\n",
       "        \"title\": \"Threshold\",\n",
       "        \"gridcolor\": \"rgba(0, 0, 0, 0.100)\",\n",
       "        \"titlefont\": {\n",
       "            \"color\": \"rgba(0, 0, 0, 1.000)\",\n",
       "            \"family\": \"sans-serif\",\n",
       "            \"size\": 15\n",
       "        },\n",
       "        \"tickcolor\": \"rgb(0, 0, 0)\",\n",
       "        \"type\": \"-\"\n",
       "    },\n",
       "    \"paper_bgcolor\": \"rgba(255, 255, 255, 1.000)\",\n",
       "    \"annotations\": [\n",
       "        {\n",
       "            \"yanchor\": \"top\",\n",
       "            \"xanchor\": \"center\",\n",
       "            \"rotation\": -0.0,\n",
       "            \"y\": 1.0,\n",
       "            \"font\": {\n",
       "                \"color\": \"rgba(0, 0, 0, 1.000)\",\n",
       "                \"family\": \"sans-serif\",\n",
       "                \"size\": 20\n",
       "            },\n",
       "            \"yref\": \"paper\",\n",
       "            \"showarrow\": false,\n",
       "            \"text\": \"precision vs Threshold\",\n",
       "            \"xref\": \"paper\",\n",
       "            \"x\": 0.5349537037037038\n",
       "        }\n",
       "    ],\n",
       "    \"height\": 400,\n",
       "    \"margin\": {\n",
       "        \"l\": 0,\n",
       "        \"b\": 20,\n",
       "        \"r\": 0,\n",
       "        \"t\": 20\n",
       "    },\n",
       "    \"plot_bgcolor\": \"rgba(255, 255, 255, 1.000)\",\n",
       "    \"yaxis\": {\n",
       "        \"showticklabels\": true,\n",
       "        \"gridwidth\": 0.5,\n",
       "        \"tickvals\": [\n",
       "            0.5,\n",
       "            0.6000000000000001,\n",
       "            0.7000000000000001,\n",
       "            0.8,\n",
       "            0.9,\n",
       "            1.0\n",
       "        ],\n",
       "        \"range\": [\n",
       "            0.4677932013927065,\n",
       "            1.0003669598680593\n",
       "        ],\n",
       "        \"domain\": [\n",
       "            0.07581474190726165,\n",
       "            0.9415463692038496\n",
       "        ],\n",
       "        \"mirror\": false,\n",
       "        \"tickangle\": 0,\n",
       "        \"showline\": true,\n",
       "        \"ticktext\": [\n",
       "            \"0.5\",\n",
       "            \"0.6\",\n",
       "            \"0.7\",\n",
       "            \"0.8\",\n",
       "            \"0.9\",\n",
       "            \"1.0\"\n",
       "        ],\n",
       "        \"zeroline\": false,\n",
       "        \"tickfont\": {\n",
       "            \"color\": \"rgba(0, 0, 0, 1.000)\",\n",
       "            \"family\": \"sans-serif\",\n",
       "            \"size\": 11\n",
       "        },\n",
       "        \"zerolinecolor\": \"rgba(0, 0, 0, 1.000)\",\n",
       "        \"anchor\": \"x\",\n",
       "        \"visible\": true,\n",
       "        \"ticks\": \"inside\",\n",
       "        \"tickmode\": \"array\",\n",
       "        \"linecolor\": \"rgba(0, 0, 0, 1.000)\",\n",
       "        \"showgrid\": true,\n",
       "        \"title\": \"precision\",\n",
       "        \"gridcolor\": \"rgba(0, 0, 0, 0.100)\",\n",
       "        \"titlefont\": {\n",
       "            \"color\": \"rgba(0, 0, 0, 1.000)\",\n",
       "            \"family\": \"sans-serif\",\n",
       "            \"size\": 15\n",
       "        },\n",
       "        \"tickcolor\": \"rgb(0, 0, 0)\",\n",
       "        \"type\": \"-\"\n",
       "    },\n",
       "    \"legend\": {\n",
       "        \"yanchor\": \"auto\",\n",
       "        \"xanchor\": \"auto\",\n",
       "        \"bordercolor\": \"rgba(0, 0, 0, 1.000)\",\n",
       "        \"bgcolor\": \"rgba(255, 255, 255, 1.000)\",\n",
       "        \"borderwidth\": 1,\n",
       "        \"tracegroupgap\": 0,\n",
       "        \"y\": 1.0,\n",
       "        \"font\": {\n",
       "            \"color\": \"rgba(0, 0, 0, 1.000)\",\n",
       "            \"family\": \"sans-serif\",\n",
       "            \"size\": 11\n",
       "        },\n",
       "        \"title\": {\n",
       "            \"font\": {\n",
       "                \"color\": \"rgba(0, 0, 0, 1.000)\",\n",
       "                \"family\": \"sans-serif\",\n",
       "                \"size\": 15\n",
       "            },\n",
       "            \"text\": \"\"\n",
       "        },\n",
       "        \"traceorder\": \"normal\",\n",
       "        \"x\": 1.0\n",
       "    },\n",
       "    \"width\": 600\n",
       "}\n",
       ");\n",
       "    \n",
       "    </script>\n"
      ]
     },
     "metadata": {},
     "output_type": "display_data"
    }
   ],
   "source": [
    "Test_name.Visualize.plot_combined_metrics(metrics_vector, :precision)"
   ]
  },
  {
   "cell_type": "code",
   "execution_count": 41,
   "metadata": {},
   "outputs": [
    {
     "data": {
      "application/vnd.plotly.v1+json": {
       "data": [
        {
         "colorbar": {
          "len": 0.8657316272965879,
          "title": "",
          "x": 0.9934383202099737,
          "y": 0.5086805555555556
         },
         "legendgroup": "Ships f1",
         "line": {
          "color": "rgba(0, 154, 250, 1.000)",
          "dash": "solid",
          "shape": "linear",
          "width": 1
         },
         "mode": "lines",
         "name": "Ships f1",
         "showlegend": true,
         "type": "scatter",
         "x": [
          0,
          0.05,
          0.1,
          0.15,
          0.2,
          0.25,
          0.3,
          0.35,
          0.4,
          0.45,
          0.5,
          0.55,
          0.6,
          0.65,
          0.7,
          0.75,
          0.8,
          0.85,
          0.9,
          0.95
         ],
         "xaxis": "x",
         "y": [
          0.6817248459958932,
          0.734966592427617,
          0.7743467933491686,
          0.8,
          0.8031496062992125,
          0.8174386920980927,
          0.8056338028169014,
          0.7880597014925372,
          0.7625,
          0.7524752475247525,
          0.7260273972602739,
          0.7050359712230215,
          0.6617100371747211,
          0.6328125,
          0.6129032258064516,
          0.5975103734439834,
          0.5726495726495726,
          0.5221238938053097,
          0.4954954954954955,
          0.4019138755980861
         ],
         "yaxis": "y"
        },
        {
         "colorbar": {
          "len": 0.8657316272965879,
          "title": "",
          "x": 0.9934383202099737,
          "y": 0.5086805555555556
         },
         "legendgroup": "Icebergs f1",
         "line": {
          "color": "rgba(227, 111, 71, 1.000)",
          "dash": "solid",
          "shape": "linear",
          "width": 1
         },
         "mode": "lines",
         "name": "Icebergs f1",
         "showlegend": true,
         "type": "scatter",
         "x": [
          0.05,
          0.1,
          0.15,
          0.2,
          0.25,
          0.3,
          0.35,
          0.4,
          0.45,
          0.5,
          0.55,
          0.6,
          0.65,
          0.7,
          0.75,
          0.8,
          0.85,
          0.9,
          0.95,
          1
         ],
         "xaxis": "x",
         "y": [
          0.383419689119171,
          0.5701357466063348,
          0.6694214876033058,
          0.7126436781609196,
          0.7563636363636365,
          0.759581881533101,
          0.768729641693811,
          0.7639751552795031,
          0.7787610619469026,
          0.7714285714285716,
          0.7747252747252746,
          0.7560321715817694,
          0.7564766839378239,
          0.7563451776649746,
          0.7581047381546134,
          0.7549019607843137,
          0.7403846153846154,
          0.7333333333333333,
          0.7113163972286375,
          0.6512605042016807
         ],
         "yaxis": "y"
        }
       ],
       "layout": {
        "annotations": [
         {
          "font": {
           "color": "rgba(0, 0, 0, 1.000)",
           "family": "sans-serif",
           "size": 20
          },
          "rotation": 0,
          "showarrow": false,
          "text": "f1 vs Threshold",
          "x": 0.5349537037037038,
          "xanchor": "center",
          "xref": "paper",
          "y": 1,
          "yanchor": "top",
          "yref": "paper"
         }
        ],
        "height": 400,
        "legend": {
         "bgcolor": "rgba(255, 255, 255, 1.000)",
         "bordercolor": "rgba(0, 0, 0, 1.000)",
         "borderwidth": 1,
         "font": {
          "color": "rgba(0, 0, 0, 1.000)",
          "family": "sans-serif",
          "size": 11
         },
         "title": {
          "font": {
           "color": "rgba(0, 0, 0, 1.000)",
           "family": "sans-serif",
           "size": 15
          },
          "text": ""
         },
         "tracegroupgap": 0,
         "traceorder": "normal",
         "x": 1,
         "xanchor": "auto",
         "y": 1,
         "yanchor": "auto"
        },
        "margin": {
         "b": 20,
         "l": 0,
         "r": 0,
         "t": 20
        },
        "paper_bgcolor": "rgba(255, 255, 255, 1.000)",
        "plot_bgcolor": "rgba(255, 255, 255, 1.000)",
        "showlegend": true,
        "width": 600,
        "xaxis": {
         "anchor": "y",
         "domain": [
          0.07646908719743364,
          0.9934383202099737
         ],
         "gridcolor": "rgba(0, 0, 0, 0.100)",
         "gridwidth": 0.5,
         "linecolor": "rgba(0, 0, 0, 1.000)",
         "mirror": false,
         "range": [
          -0.030000000000000027,
          1.03
         ],
         "showgrid": true,
         "showline": true,
         "showticklabels": true,
         "tickangle": 0,
         "tickcolor": "rgb(0, 0, 0)",
         "tickfont": {
          "color": "rgba(0, 0, 0, 1.000)",
          "family": "sans-serif",
          "size": 11
         },
         "tickmode": "array",
         "ticks": "inside",
         "ticktext": [
          "0.00",
          "0.25",
          "0.50",
          "0.75",
          "1.00"
         ],
         "tickvals": [
          0,
          0.25,
          0.5,
          0.75,
          1
         ],
         "title": "Threshold",
         "titlefont": {
          "color": "rgba(0, 0, 0, 1.000)",
          "family": "sans-serif",
          "size": 15
         },
         "type": "-",
         "visible": true,
         "zeroline": false,
         "zerolinecolor": "rgba(0, 0, 0, 1.000)"
        },
        "yaxis": {
         "anchor": "x",
         "domain": [
          0.07581474190726165,
          0.9415463692038496
         ],
         "gridcolor": "rgba(0, 0, 0, 0.100)",
         "gridwidth": 0.5,
         "linecolor": "rgba(0, 0, 0, 1.000)",
         "mirror": false,
         "range": [
          0.3703991190298034,
          0.8304592621874604
         ],
         "showgrid": true,
         "showline": true,
         "showticklabels": true,
         "tickangle": 0,
         "tickcolor": "rgb(0, 0, 0)",
         "tickfont": {
          "color": "rgba(0, 0, 0, 1.000)",
          "family": "sans-serif",
          "size": 11
         },
         "tickmode": "array",
         "ticks": "inside",
         "ticktext": [
          "0.4",
          "0.5",
          "0.6",
          "0.7",
          "0.8"
         ],
         "tickvals": [
          0.4,
          0.5,
          0.6000000000000001,
          0.7000000000000001,
          0.8
         ],
         "title": "f1",
         "titlefont": {
          "color": "rgba(0, 0, 0, 1.000)",
          "family": "sans-serif",
          "size": 15
         },
         "type": "-",
         "visible": true,
         "zeroline": false,
         "zerolinecolor": "rgba(0, 0, 0, 1.000)"
        }
       }
      },
      "image/png": "[encoded data removed]",
      "image/svg+xml": [
       "<svg class=\"main-svg\" xmlns=\"http://www.w3.org/2000/svg\" xmlns:xlink=\"http://www.w3.org/1999/xlink\" width=\"700\" height=\"500\" style=\"\" viewBox=\"0 0 700 500\"><rect x=\"0\" y=\"0\" width=\"700\" height=\"500\" style=\"fill: rgb(255, 255, 255); fill-opacity: 1;\"/><defs id=\"defs-36127d\"><g class=\"clips\"><clipPath id=\"clip36127dxyplot\" class=\"plotclip\"><rect width=\"550.181539807524\" height=\"337.6353346456693\"/></clipPath><clipPath class=\"axesclip\" id=\"clip36127dx\"><rect x=\"95.88145231846019\" y=\"0\" width=\"550.181539807524\" height=\"500\"/></clipPath><clipPath class=\"axesclip\" id=\"clip36127dy\"><rect x=\"0\" y=\"82.79691601049865\" width=\"700\" height=\"337.6353346456693\"/></clipPath><clipPath class=\"axesclip\" id=\"clip36127dxy\"><rect x=\"95.88145231846019\" y=\"82.79691601049865\" width=\"550.181539807524\" height=\"337.6353346456693\"/></clipPath></g><g class=\"gradients\"/></defs><g class=\"bglayer\"/><g class=\"layer-below\"><g class=\"imagelayer\"/><g class=\"shapelayer\"/></g><g class=\"cartesianlayer\"><g class=\"subplot xy\"><g class=\"layer-subplot\"><g class=\"shapelayer\"/><g class=\"imagelayer\"/></g><g class=\"gridlayer\"><g class=\"x\"><path class=\"xgrid crisp\" transform=\"translate(111.45145231846018,0)\" d=\"M0,82.79691601049865v337.6353346456693\" style=\"stroke: rgb(0, 0, 0); stroke-opacity: 0.1; stroke-width: 0.5px;\"/><path class=\"xgrid crisp\" transform=\"translate(241.2114523184602,0)\" d=\"M0,82.79691601049865v337.6353346456693\" style=\"stroke: rgb(0, 0, 0); stroke-opacity: 0.1; stroke-width: 0.5px;\"/><path class=\"xgrid crisp\" transform=\"translate(370.97145231846014,0)\" d=\"M0,82.79691601049865v337.6353346456693\" style=\"stroke: rgb(0, 0, 0); stroke-opacity: 0.1; stroke-width: 0.5px;\"/><path class=\"xgrid crisp\" transform=\"translate(500.73145231846024,0)\" d=\"M0,82.79691601049865v337.6353346456693\" style=\"stroke: rgb(0, 0, 0); stroke-opacity: 0.1; stroke-width: 0.5px;\"/><path class=\"xgrid crisp\" transform=\"translate(630.4914523184602,0)\" d=\"M0,82.79691601049865v337.6353346456693\" style=\"stroke: rgb(0, 0, 0); stroke-opacity: 0.1; stroke-width: 0.5px;\"/></g><g class=\"y\"><path class=\"ygrid crisp\" transform=\"translate(0,398.7069160104987)\" d=\"M95.88145231846019,0h550.181539807524\" style=\"stroke: rgb(0, 0, 0); stroke-opacity: 0.1; stroke-width: 0.5px;\"/><path class=\"ygrid crisp\" transform=\"translate(0,325.31691601049863)\" d=\"M95.88145231846019,0h550.181539807524\" style=\"stroke: rgb(0, 0, 0); stroke-opacity: 0.1; stroke-width: 0.5px;\"/><path class=\"ygrid crisp\" transform=\"translate(0,251.92691601049864)\" d=\"M95.88145231846019,0h550.181539807524\" style=\"stroke: rgb(0, 0, 0); stroke-opacity: 0.1; stroke-width: 0.5px;\"/><path class=\"ygrid crisp\" transform=\"translate(0,178.53691601049866)\" d=\"M95.88145231846019,0h550.181539807524\" style=\"stroke: rgb(0, 0, 0); stroke-opacity: 0.1; stroke-width: 0.5px;\"/><path class=\"ygrid crisp\" transform=\"translate(0,105.14691601049864)\" d=\"M95.88145231846019,0h550.181539807524\" style=\"stroke: rgb(0, 0, 0); stroke-opacity: 0.1; stroke-width: 0.5px;\"/></g></g><g class=\"zerolinelayer\"/><path class=\"xlines-below\"/><path class=\"ylines-below\"/><g class=\"overlines-below\"/><g class=\"xaxislayer-below\"/><g class=\"yaxislayer-below\"/><g class=\"overaxes-below\"/><g class=\"plot\" transform=\"translate(95.88145231846019,82.79691601049865)\" clip-path=\"url('#clip36127dxyplot')\"><g class=\"scatterlayer mlayer\"><g class=\"trace scatter tracede46d5\" style=\"stroke-miterlimit: 2; opacity: 1;\"><g class=\"fills\"/><g class=\"errorbars\"/><g class=\"lines\"><path class=\"js-line\" d=\"M15.57,109.16L41.52,70.08L67.48,41.18L93.43,22.35L119.38,20.04L145.33,9.56L171.28,18.22L197.23,31.12L223.19,49.87L249.14,57.23L275.09,76.64L301.04,92.05L326.99,123.84L352.95,145.05L378.9,159.66L404.85,170.96L430.8,189.2L456.75,226.29L482.71,245.83L508.66,314.51\" style=\"vector-effect: non-scaling-stroke; fill: none; stroke: rgb(0, 154, 250); stroke-opacity: 1; stroke-width: 1px; opacity: 1;\"/></g><g class=\"points\"/><g class=\"text\"/></g><g class=\"trace scatter trace3692e1\" style=\"stroke-miterlimit: 2; opacity: 1;\"><g class=\"fills\"/><g class=\"errorbars\"/><g class=\"lines\"><path class=\"js-line\" d=\"M41.52,328.08L67.48,191.05L93.43,118.18L145.33,54.38L171.28,52.02L197.23,45.3L223.19,48.79L249.14,37.94L275.09,43.32L301.04,40.9L326.99,54.62L378.9,54.39L404.85,53.1L430.8,55.45L456.75,66.11L482.71,71.28L508.66,87.44L534.61,131.51\" style=\"vector-effect: non-scaling-stroke; fill: none; stroke: rgb(227, 111, 71); stroke-opacity: 1; stroke-width: 1px; opacity: 1;\"/></g><g class=\"points\"/><g class=\"text\"/></g></g></g><g class=\"overplot\"/><path class=\"xlines-above crisp\" d=\"M94.88145231846019,420.9322506561679H646.0629921259842\" style=\"fill: none; stroke-width: 1px; stroke: rgb(0, 0, 0); stroke-opacity: 1;\"/><path class=\"ylines-above crisp\" d=\"M95.38145231846019,82.79691601049865V420.4322506561679\" style=\"fill: none; stroke-width: 1px; stroke: rgb(0, 0, 0); stroke-opacity: 1;\"/><g class=\"overlines-above\"/><g class=\"xaxislayer-above\"><path class=\"xtick ticks crisp\" d=\"M0,420.4322506561679v-5\" transform=\"translate(111.45145231846018,0)\" style=\"stroke: rgb(0, 0, 0); stroke-opacity: 1; stroke-width: 1px;\"/><path class=\"xtick ticks crisp\" d=\"M0,420.4322506561679v-5\" transform=\"translate(241.2114523184602,0)\" style=\"stroke: rgb(0, 0, 0); stroke-opacity: 1; stroke-width: 1px;\"/><path class=\"xtick ticks crisp\" d=\"M0,420.4322506561679v-5\" transform=\"translate(370.97145231846014,0)\" style=\"stroke: rgb(0, 0, 0); stroke-opacity: 1; stroke-width: 1px;\"/><path class=\"xtick ticks crisp\" d=\"M0,420.4322506561679v-5\" transform=\"translate(500.73145231846024,0)\" style=\"stroke: rgb(0, 0, 0); stroke-opacity: 1; stroke-width: 1px;\"/><path class=\"xtick ticks crisp\" d=\"M0,420.4322506561679v-5\" transform=\"translate(630.4914523184602,0)\" style=\"stroke: rgb(0, 0, 0); stroke-opacity: 1; stroke-width: 1px;\"/><g class=\"xtick\"><text text-anchor=\"middle\" x=\"0\" y=\"434.6322506561679\" transform=\"translate(111.45145231846018,0)\" style=\"font-family: sans-serif; font-size: 11px; fill: rgb(0, 0, 0); fill-opacity: 1; white-space: pre;\">0.00</text></g><g class=\"xtick\"><text text-anchor=\"middle\" x=\"0\" y=\"434.6322506561679\" transform=\"translate(241.2114523184602,0)\" style=\"font-family: sans-serif; font-size: 11px; fill: rgb(0, 0, 0); fill-opacity: 1; white-space: pre;\">0.25</text></g><g class=\"xtick\"><text text-anchor=\"middle\" x=\"0\" y=\"434.6322506561679\" transform=\"translate(370.97145231846014,0)\" style=\"font-family: sans-serif; font-size: 11px; fill: rgb(0, 0, 0); fill-opacity: 1; white-space: pre;\">0.50</text></g><g class=\"xtick\"><text text-anchor=\"middle\" x=\"0\" y=\"434.6322506561679\" transform=\"translate(500.73145231846024,0)\" style=\"font-family: sans-serif; font-size: 11px; fill: rgb(0, 0, 0); fill-opacity: 1; white-space: pre;\">0.75</text></g><g class=\"xtick\"><text text-anchor=\"middle\" x=\"0\" y=\"434.6322506561679\" transform=\"translate(630.4914523184602,0)\" style=\"font-family: sans-serif; font-size: 11px; fill: rgb(0, 0, 0); fill-opacity: 1; white-space: pre;\">1.00</text></g></g><g class=\"yaxislayer-above\"><path class=\"ytick ticks crisp\" d=\"M95.88145231846019,0h5\" transform=\"translate(0,398.7069160104987)\" style=\"stroke: rgb(0, 0, 0); stroke-opacity: 1; stroke-width: 1px;\"/><path class=\"ytick ticks crisp\" d=\"M95.88145231846019,0h5\" transform=\"translate(0,325.31691601049863)\" style=\"stroke: rgb(0, 0, 0); stroke-opacity: 1; stroke-width: 1px;\"/><path class=\"ytick ticks crisp\" d=\"M95.88145231846019,0h5\" transform=\"translate(0,251.92691601049864)\" style=\"stroke: rgb(0, 0, 0); stroke-opacity: 1; stroke-width: 1px;\"/><path class=\"ytick ticks crisp\" d=\"M95.88145231846019,0h5\" transform=\"translate(0,178.53691601049866)\" style=\"stroke: rgb(0, 0, 0); stroke-opacity: 1; stroke-width: 1px;\"/><path class=\"ytick ticks crisp\" d=\"M95.88145231846019,0h5\" transform=\"translate(0,105.14691601049864)\" style=\"stroke: rgb(0, 0, 0); stroke-opacity: 1; stroke-width: 1px;\"/><g class=\"ytick\"><text text-anchor=\"end\" x=\"92.68145231846019\" y=\"3.8499999999999996\" transform=\"translate(0,398.7069160104987)\" style=\"font-family: sans-serif; font-size: 11px; fill: rgb(0, 0, 0); fill-opacity: 1; white-space: pre;\">0.4</text></g><g class=\"ytick\"><text text-anchor=\"end\" x=\"92.68145231846019\" y=\"3.8499999999999996\" transform=\"translate(0,325.31691601049863)\" style=\"font-family: sans-serif; font-size: 11px; fill: rgb(0, 0, 0); fill-opacity: 1; white-space: pre;\">0.5</text></g><g class=\"ytick\"><text text-anchor=\"end\" x=\"92.68145231846019\" y=\"3.8499999999999996\" transform=\"translate(0,251.92691601049864)\" style=\"font-family: sans-serif; font-size: 11px; fill: rgb(0, 0, 0); fill-opacity: 1; white-space: pre;\">0.6</text></g><g class=\"ytick\"><text text-anchor=\"end\" x=\"92.68145231846019\" y=\"3.8499999999999996\" transform=\"translate(0,178.53691601049866)\" style=\"font-family: sans-serif; font-size: 11px; fill: rgb(0, 0, 0); fill-opacity: 1; white-space: pre;\">0.7</text></g><g class=\"ytick\"><text text-anchor=\"end\" x=\"92.68145231846019\" y=\"3.8499999999999996\" transform=\"translate(0,105.14691601049864)\" style=\"font-family: sans-serif; font-size: 11px; fill: rgb(0, 0, 0); fill-opacity: 1; white-space: pre;\">0.8</text></g></g><g class=\"overaxes-above\"/></g></g><g class=\"polarlayer\"/><g class=\"ternarylayer\"/><g class=\"geolayer\"/><g class=\"funnelarealayer\"/><g class=\"pielayer\"/><g class=\"treemaplayer\"/><g class=\"sunburstlayer\"/><g class=\"glimages\"/><defs id=\"topdefs-36127d\"><g class=\"clips\"/><clipPath id=\"legend36127d\"><rect width=\"100\" height=\"48\" x=\"1\" y=\"1\"/></clipPath></defs><g class=\"layer-above\"><g class=\"imagelayer\"/><g class=\"shapelayer\"/></g><g class=\"infolayer\"><g class=\"legend\" pointer-events=\"all\" transform=\"translate(548,60)\"><rect class=\"bg\" shape-rendering=\"crispEdges\" style=\"stroke: rgb(0, 0, 0); stroke-opacity: 1; fill: rgb(255, 255, 255); fill-opacity: 1; stroke-width: 1px;\" width=\"101\" height=\"49\" x=\"0.5\" y=\"0.5\"/><g class=\"scrollbox\" transform=\"\" clip-path=\"url('#legend36127d')\"><g class=\"groups\"><g class=\"traces\" transform=\"translate(1,15.5)\" style=\"opacity: 1;\"><text class=\"legendtext\" text-anchor=\"start\" x=\"40\" y=\"4.29\" style=\"font-family: sans-serif; font-size: 11px; fill: rgb(0, 0, 0); fill-opacity: 1; white-space: pre;\">Ships f1</text><g class=\"layers\" style=\"opacity: 1;\"><g class=\"legendfill\"/><g class=\"legendlines\"><path class=\"js-line\" d=\"M5,0h30\" style=\"fill: none; stroke: rgb(0, 154, 250); stroke-opacity: 1; stroke-width: 1px;\"/></g><g class=\"legendsymbols\"><g class=\"legendpoints\"/></g></g><rect class=\"legendtoggle\" x=\"0\" y=\"-9.5\" width=\"94.421875\" height=\"19\" style=\"fill: rgb(0, 0, 0); fill-opacity: 0;\"/></g><g class=\"traces\" transform=\"translate(1,34.5)\" style=\"opacity: 1;\"><text class=\"legendtext\" text-anchor=\"start\" x=\"40\" y=\"4.29\" style=\"font-family: sans-serif; font-size: 11px; fill: rgb(0, 0, 0); fill-opacity: 1; white-space: pre;\">Icebergs f1</text><g class=\"layers\" style=\"opacity: 1;\"><g class=\"legendfill\"/><g class=\"legendlines\"><path class=\"js-line\" d=\"M5,0h30\" style=\"fill: none; stroke: rgb(227, 111, 71); stroke-opacity: 1; stroke-width: 1px;\"/></g><g class=\"legendsymbols\"><g class=\"legendpoints\"/></g></g><rect class=\"legendtoggle\" x=\"0\" y=\"-9.5\" width=\"94.421875\" height=\"19\" style=\"fill: rgb(0, 0, 0); fill-opacity: 0;\"/></g></g></g><rect class=\"scrollbar\" rx=\"20\" ry=\"3\" width=\"0\" height=\"0\" style=\"fill: rgb(128, 139, 164); fill-opacity: 1;\" x=\"0\" y=\"0\"/></g><g class=\"g-gtitle\"/><g class=\"g-xtitle\"><text class=\"xtitle\" x=\"370.9722222222222\" y=\"462.640625\" text-anchor=\"middle\" style=\"font-family: sans-serif; font-size: 15px; fill: rgb(0, 0, 0); opacity: 1; font-weight: normal; white-space: pre;\">Threshold</text></g><g class=\"g-ytitle\"><text class=\"ytitle\" transform=\"rotate(-90,51.875,251.6145833333333)\" x=\"51.875\" y=\"251.6145833333333\" text-anchor=\"middle\" style=\"font-family: sans-serif; font-size: 15px; fill: rgb(0, 0, 0); opacity: 1; font-weight: normal; white-space: pre;\">f1</text></g><g class=\"annotation\" data-index=\"0\" style=\"opacity: 1;\"><g class=\"annotation-text-g\" transform=\"rotate(0,370.9722222222223,73)\"><g class=\"cursor-pointer\" transform=\"translate(300,60)\"><rect class=\"bg\" x=\"0.5\" y=\"0.5\" width=\"140\" height=\"25\" style=\"stroke-width: 1px; stroke: rgb(0, 0, 0); stroke-opacity: 0; fill: rgb(0, 0, 0); fill-opacity: 0;\"/><text class=\"annotation-text\" text-anchor=\"middle\" x=\"70.375\" y=\"20\" style=\"font-family: sans-serif; font-size: 20px; fill: rgb(0, 0, 0); fill-opacity: 1; white-space: pre;\">f1 vs Threshold</text></g></g></g></g></svg>"
      ],
      "text/html": [
       "<script src=\"https://cdn.plot.ly/plotly-2.6.3.min.js\"></script>    <div id=\"c8ee4ab8-70d1-4d59-83ac-a4abdbc91243\" style=\"width:600px;height:400px;\"></div>\n",
       "    <script>\n",
       "    \n",
       "    Plotly.newPlot('c8ee4ab8-70d1-4d59-83ac-a4abdbc91243', [\n",
       "    {\n",
       "        \"showlegend\": true,\n",
       "        \"mode\": \"lines\",\n",
       "        \"xaxis\": \"x\",\n",
       "        \"colorbar\": {\n",
       "            \"y\": 0.5086805555555556,\n",
       "            \"title\": \"\",\n",
       "            \"len\": 0.8657316272965879,\n",
       "            \"x\": 0.9934383202099737\n",
       "        },\n",
       "        \"name\": \"Ships f1\",\n",
       "        \"yaxis\": \"y\",\n",
       "        \"legendgroup\": \"Ships f1\",\n",
       "        \"line\": {\n",
       "            \"color\": \"rgba(0, 154, 250, 1.000)\",\n",
       "            \"shape\": \"linear\",\n",
       "            \"dash\": \"solid\",\n",
       "            \"width\": 1\n",
       "        },\n",
       "        \"y\": [\n",
       "            0.6817248459958932,\n",
       "            0.734966592427617,\n",
       "            0.7743467933491686,\n",
       "            0.8,\n",
       "            0.8031496062992125,\n",
       "            0.8174386920980927,\n",
       "            0.8056338028169014,\n",
       "            0.7880597014925372,\n",
       "            0.7625,\n",
       "            0.7524752475247525,\n",
       "            0.7260273972602739,\n",
       "            0.7050359712230215,\n",
       "            0.6617100371747211,\n",
       "            0.6328125,\n",
       "            0.6129032258064516,\n",
       "            0.5975103734439834,\n",
       "            0.5726495726495726,\n",
       "            0.5221238938053097,\n",
       "            0.4954954954954955,\n",
       "            0.4019138755980861\n",
       "        ],\n",
       "        \"type\": \"scatter\",\n",
       "        \"x\": [\n",
       "            0.0,\n",
       "            0.05,\n",
       "            0.1,\n",
       "            0.15,\n",
       "            0.2,\n",
       "            0.25,\n",
       "            0.3,\n",
       "            0.35,\n",
       "            0.4,\n",
       "            0.45,\n",
       "            0.5,\n",
       "            0.55,\n",
       "            0.6,\n",
       "            0.65,\n",
       "            0.7,\n",
       "            0.75,\n",
       "            0.8,\n",
       "            0.85,\n",
       "            0.9,\n",
       "            0.95\n",
       "        ]\n",
       "    },\n",
       "    {\n",
       "        \"showlegend\": true,\n",
       "        \"mode\": \"lines\",\n",
       "        \"xaxis\": \"x\",\n",
       "        \"colorbar\": {\n",
       "            \"y\": 0.5086805555555556,\n",
       "            \"title\": \"\",\n",
       "            \"len\": 0.8657316272965879,\n",
       "            \"x\": 0.9934383202099737\n",
       "        },\n",
       "        \"name\": \"Icebergs f1\",\n",
       "        \"yaxis\": \"y\",\n",
       "        \"legendgroup\": \"Icebergs f1\",\n",
       "        \"line\": {\n",
       "            \"color\": \"rgba(227, 111, 71, 1.000)\",\n",
       "            \"shape\": \"linear\",\n",
       "            \"dash\": \"solid\",\n",
       "            \"width\": 1\n",
       "        },\n",
       "        \"y\": [\n",
       "            0.383419689119171,\n",
       "            0.5701357466063348,\n",
       "            0.6694214876033058,\n",
       "            0.7126436781609196,\n",
       "            0.7563636363636365,\n",
       "            0.759581881533101,\n",
       "            0.768729641693811,\n",
       "            0.7639751552795031,\n",
       "            0.7787610619469026,\n",
       "            0.7714285714285716,\n",
       "            0.7747252747252746,\n",
       "            0.7560321715817694,\n",
       "            0.7564766839378239,\n",
       "            0.7563451776649746,\n",
       "            0.7581047381546134,\n",
       "            0.7549019607843137,\n",
       "            0.7403846153846154,\n",
       "            0.7333333333333333,\n",
       "            0.7113163972286375,\n",
       "            0.6512605042016807\n",
       "        ],\n",
       "        \"type\": \"scatter\",\n",
       "        \"x\": [\n",
       "            0.05,\n",
       "            0.1,\n",
       "            0.15,\n",
       "            0.2,\n",
       "            0.25,\n",
       "            0.3,\n",
       "            0.35,\n",
       "            0.4,\n",
       "            0.45,\n",
       "            0.5,\n",
       "            0.55,\n",
       "            0.6,\n",
       "            0.65,\n",
       "            0.7,\n",
       "            0.75,\n",
       "            0.8,\n",
       "            0.85,\n",
       "            0.9,\n",
       "            0.95,\n",
       "            1.0\n",
       "        ]\n",
       "    }\n",
       "]\n",
       ", {\n",
       "    \"showlegend\": true,\n",
       "    \"xaxis\": {\n",
       "        \"showticklabels\": true,\n",
       "        \"gridwidth\": 0.5,\n",
       "        \"tickvals\": [\n",
       "            0.0,\n",
       "            0.25,\n",
       "            0.5,\n",
       "            0.75,\n",
       "            1.0\n",
       "        ],\n",
       "        \"range\": [\n",
       "            -0.030000000000000027,\n",
       "            1.03\n",
       "        ],\n",
       "        \"domain\": [\n",
       "            0.07646908719743364,\n",
       "            0.9934383202099737\n",
       "        ],\n",
       "        \"mirror\": false,\n",
       "        \"tickangle\": 0,\n",
       "        \"showline\": true,\n",
       "        \"ticktext\": [\n",
       "            \"0.00\",\n",
       "            \"0.25\",\n",
       "            \"0.50\",\n",
       "            \"0.75\",\n",
       "            \"1.00\"\n",
       "        ],\n",
       "        \"zeroline\": false,\n",
       "        \"tickfont\": {\n",
       "            \"color\": \"rgba(0, 0, 0, 1.000)\",\n",
       "            \"family\": \"sans-serif\",\n",
       "            \"size\": 11\n",
       "        },\n",
       "        \"zerolinecolor\": \"rgba(0, 0, 0, 1.000)\",\n",
       "        \"anchor\": \"y\",\n",
       "        \"visible\": true,\n",
       "        \"ticks\": \"inside\",\n",
       "        \"tickmode\": \"array\",\n",
       "        \"linecolor\": \"rgba(0, 0, 0, 1.000)\",\n",
       "        \"showgrid\": true,\n",
       "        \"title\": \"Threshold\",\n",
       "        \"gridcolor\": \"rgba(0, 0, 0, 0.100)\",\n",
       "        \"titlefont\": {\n",
       "            \"color\": \"rgba(0, 0, 0, 1.000)\",\n",
       "            \"family\": \"sans-serif\",\n",
       "            \"size\": 15\n",
       "        },\n",
       "        \"tickcolor\": \"rgb(0, 0, 0)\",\n",
       "        \"type\": \"-\"\n",
       "    },\n",
       "    \"paper_bgcolor\": \"rgba(255, 255, 255, 1.000)\",\n",
       "    \"annotations\": [\n",
       "        {\n",
       "            \"yanchor\": \"top\",\n",
       "            \"xanchor\": \"center\",\n",
       "            \"rotation\": -0.0,\n",
       "            \"y\": 1.0,\n",
       "            \"font\": {\n",
       "                \"color\": \"rgba(0, 0, 0, 1.000)\",\n",
       "                \"family\": \"sans-serif\",\n",
       "                \"size\": 20\n",
       "            },\n",
       "            \"yref\": \"paper\",\n",
       "            \"showarrow\": false,\n",
       "            \"text\": \"f1 vs Threshold\",\n",
       "            \"xref\": \"paper\",\n",
       "            \"x\": 0.5349537037037038\n",
       "        }\n",
       "    ],\n",
       "    \"height\": 400,\n",
       "    \"margin\": {\n",
       "        \"l\": 0,\n",
       "        \"b\": 20,\n",
       "        \"r\": 0,\n",
       "        \"t\": 20\n",
       "    },\n",
       "    \"plot_bgcolor\": \"rgba(255, 255, 255, 1.000)\",\n",
       "    \"yaxis\": {\n",
       "        \"showticklabels\": true,\n",
       "        \"gridwidth\": 0.5,\n",
       "        \"tickvals\": [\n",
       "            0.4,\n",
       "            0.5,\n",
       "            0.6000000000000001,\n",
       "            0.7000000000000001,\n",
       "            0.8\n",
       "        ],\n",
       "        \"range\": [\n",
       "            0.3703991190298034,\n",
       "            0.8304592621874604\n",
       "        ],\n",
       "        \"domain\": [\n",
       "            0.07581474190726165,\n",
       "            0.9415463692038496\n",
       "        ],\n",
       "        \"mirror\": false,\n",
       "        \"tickangle\": 0,\n",
       "        \"showline\": true,\n",
       "        \"ticktext\": [\n",
       "            \"0.4\",\n",
       "            \"0.5\",\n",
       "            \"0.6\",\n",
       "            \"0.7\",\n",
       "            \"0.8\"\n",
       "        ],\n",
       "        \"zeroline\": false,\n",
       "        \"tickfont\": {\n",
       "            \"color\": \"rgba(0, 0, 0, 1.000)\",\n",
       "            \"family\": \"sans-serif\",\n",
       "            \"size\": 11\n",
       "        },\n",
       "        \"zerolinecolor\": \"rgba(0, 0, 0, 1.000)\",\n",
       "        \"anchor\": \"x\",\n",
       "        \"visible\": true,\n",
       "        \"ticks\": \"inside\",\n",
       "        \"tickmode\": \"array\",\n",
       "        \"linecolor\": \"rgba(0, 0, 0, 1.000)\",\n",
       "        \"showgrid\": true,\n",
       "        \"title\": \"f1\",\n",
       "        \"gridcolor\": \"rgba(0, 0, 0, 0.100)\",\n",
       "        \"titlefont\": {\n",
       "            \"color\": \"rgba(0, 0, 0, 1.000)\",\n",
       "            \"family\": \"sans-serif\",\n",
       "            \"size\": 15\n",
       "        },\n",
       "        \"tickcolor\": \"rgb(0, 0, 0)\",\n",
       "        \"type\": \"-\"\n",
       "    },\n",
       "    \"legend\": {\n",
       "        \"yanchor\": \"auto\",\n",
       "        \"xanchor\": \"auto\",\n",
       "        \"bordercolor\": \"rgba(0, 0, 0, 1.000)\",\n",
       "        \"bgcolor\": \"rgba(255, 255, 255, 1.000)\",\n",
       "        \"borderwidth\": 1,\n",
       "        \"tracegroupgap\": 0,\n",
       "        \"y\": 1.0,\n",
       "        \"font\": {\n",
       "            \"color\": \"rgba(0, 0, 0, 1.000)\",\n",
       "            \"family\": \"sans-serif\",\n",
       "            \"size\": 11\n",
       "        },\n",
       "        \"title\": {\n",
       "            \"font\": {\n",
       "                \"color\": \"rgba(0, 0, 0, 1.000)\",\n",
       "                \"family\": \"sans-serif\",\n",
       "                \"size\": 15\n",
       "            },\n",
       "            \"text\": \"\"\n",
       "        },\n",
       "        \"traceorder\": \"normal\",\n",
       "        \"x\": 1.0\n",
       "    },\n",
       "    \"width\": 600\n",
       "}\n",
       ");\n",
       "    \n",
       "    </script>\n"
      ]
     },
     "metadata": {},
     "output_type": "display_data"
    }
   ],
   "source": [
    "Test_name.Visualize.plot_combined_metrics(metrics_vector, :f1)\n"
   ]
  },
  {
   "cell_type": "markdown",
   "metadata": {},
   "source": [
    "## Testing\n",
    " <a class=\"anchor\" id=\"testing\"></a>\n",
    "Back to [Table of Content](#toc)"
   ]
  },
  {
   "cell_type": "markdown",
   "metadata": {},
   "source": [
    "Using the threshold found above, we can now test the model on a test dataset. \n",
    "\n"
   ]
  },
  {
   "cell_type": "markdown",
   "metadata": {},
   "source": [
    "<div class=\"alert alert-block alert-info\"> <b>Task: </b>\n",
    "\n",
    "1. Test the model on the test dataset.\n"
   ]
  },
  {
   "cell_type": "code",
   "execution_count": 42,
   "metadata": {},
   "outputs": [],
   "source": [
    "test_X_prepared =  Test_name.Ship_detector.Model.prepare_images(test_X);\n",
    "test_labels = reshape(Float32.(test_Y), 1, :);\n",
    "test_predictions = model(test_X_prepared);"
   ]
  },
  {
   "cell_type": "code",
   "execution_count": 43,
   "metadata": {},
   "outputs": [
    {
     "name": "stdout",
     "output_type": "stream",
     "text": [
      "Test Metrics at threshold 0.25:\n",
      "Ships - Precision: 0.7526315789473684, Recall: 0.910828025477707, F1 Score: 0.8242074927953891, Accuracy: 0.8099688473520249\n",
      "Icebergs - Precision: 0.8931297709923665, Recall: 0.7134146341463414, F1 Score: 0.7932203389830509, Accuracy: 0.8099688473520249\n"
     ]
    }
   ],
   "source": [
    "specific_threshold = 0.25\n",
    "test_metrics = Test_name.Ship_detector.Model.evaluate_test_set_at_threshold(test_predictions, test_labels, specific_threshold);\n",
    "\n",
    "println(\"Test Metrics at threshold $specific_threshold:\")\n",
    "println(\"Ships - Precision: $(test_metrics.ships.precision), Recall: $(test_metrics.ships.recall), F1 Score: $(test_metrics.ships.f1), Accuracy: $(test_metrics.ships.accuracy)\")\n",
    "println(\"Icebergs - Precision: $(test_metrics.icebergs.precision), Recall: $(test_metrics.icebergs.recall), F1 Score: $(test_metrics.icebergs.f1), Accuracy: $(test_metrics.icebergs.accuracy)\")\n"
   ]
  },
  {
   "cell_type": "markdown",
   "metadata": {},
   "source": []
  }
 ],
 "metadata": {
  "kernelspec": {
   "display_name": "Julia 1.9.4",
   "language": "julia",
   "name": "julia-1.9"
  },
  "language_info": {
   "file_extension": ".jl",
   "mimetype": "application/julia",
   "name": "julia",
   "version": "1.9.4"
  }
 },
 "nbformat": 4,
 "nbformat_minor": 2
}
